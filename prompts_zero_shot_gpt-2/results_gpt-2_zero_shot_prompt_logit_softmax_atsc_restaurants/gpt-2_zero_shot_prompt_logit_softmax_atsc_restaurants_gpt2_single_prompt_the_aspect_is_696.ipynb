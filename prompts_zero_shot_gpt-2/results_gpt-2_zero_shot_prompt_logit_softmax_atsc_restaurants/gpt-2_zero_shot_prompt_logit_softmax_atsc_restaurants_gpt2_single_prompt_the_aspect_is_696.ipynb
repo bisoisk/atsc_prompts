{
 "cells": [
  {
   "cell_type": "markdown",
   "metadata": {
    "id": "xf3lVTZYhbzA",
    "papermill": {
     "duration": 0.040596,
     "end_time": "2021-05-11T19:21:33.076135",
     "exception": false,
     "start_time": "2021-05-11T19:21:33.035539",
     "status": "completed"
    },
    "tags": []
   },
   "source": [
    "# Initial Setups"
   ]
  },
  {
   "cell_type": "markdown",
   "metadata": {
    "id": "2ORFXeezn5Og",
    "papermill": {
     "duration": 0.027501,
     "end_time": "2021-05-11T19:21:33.134365",
     "exception": false,
     "start_time": "2021-05-11T19:21:33.106864",
     "status": "completed"
    },
    "tags": []
   },
   "source": [
    "## (Google Colab use only)"
   ]
  },
  {
   "cell_type": "code",
   "execution_count": 1,
   "metadata": {
    "colab": {
     "base_uri": "https://localhost:8080/"
    },
    "execution": {
     "iopub.execute_input": "2021-05-11T19:21:33.198303Z",
     "iopub.status.busy": "2021-05-11T19:21:33.197620Z",
     "iopub.status.idle": "2021-05-11T19:21:33.202254Z",
     "shell.execute_reply": "2021-05-11T19:21:33.201641Z"
    },
    "executionInfo": {
     "elapsed": 42519,
     "status": "ok",
     "timestamp": 1615624277512,
     "user": {
      "displayName": "Ronald Seoh",
      "photoUrl": "",
      "userId": "10284188050297676522"
     },
     "user_tz": 300
    },
    "id": "YFAQ6IgXn8FK",
    "outputId": "50ca7c19-763e-4355-e020-1683a085a9dc",
    "papermill": {
     "duration": 0.043316,
     "end_time": "2021-05-11T19:21:33.202404",
     "exception": false,
     "start_time": "2021-05-11T19:21:33.159088",
     "status": "completed"
    },
    "tags": []
   },
   "outputs": [],
   "source": [
    "# Use Google Colab\n",
    "use_colab = True\n",
    "\n",
    "# Is this notebook running on Colab?\n",
    "# If so, then google.colab package (github.com/googlecolab/colabtools)\n",
    "# should be available in this environment\n",
    "\n",
    "# Previous version used importlib, but we could do the same thing with\n",
    "# just attempting to import google.colab\n",
    "try:\n",
    "    from google.colab import drive\n",
    "    colab_available = True\n",
    "except:\n",
    "    colab_available = False\n",
    "\n",
    "if use_colab and colab_available:\n",
    "    drive.mount('/content/drive')\n",
    "\n",
    "    # cd to the appropriate working directory under my Google Drive\n",
    "    %cd '/content/drive/My Drive/cs696ds_lexalytics/Prompting Experiments'\n",
    "    \n",
    "    # Install packages specified in requirements\n",
    "    !pip install -r requirements.txt\n",
    "    \n",
    "    # List the directory contents\n",
    "    !ls"
   ]
  },
  {
   "cell_type": "markdown",
   "metadata": {
    "id": "tgzsHF7Zhbzo",
    "papermill": {
     "duration": 0.021905,
     "end_time": "2021-05-11T19:21:33.246749",
     "exception": false,
     "start_time": "2021-05-11T19:21:33.224844",
     "status": "completed"
    },
    "tags": []
   },
   "source": [
    "## Experiment parameters"
   ]
  },
  {
   "cell_type": "code",
   "execution_count": 2,
   "metadata": {
    "execution": {
     "iopub.execute_input": "2021-05-11T19:21:33.299404Z",
     "iopub.status.busy": "2021-05-11T19:21:33.298716Z",
     "iopub.status.idle": "2021-05-11T19:21:33.301729Z",
     "shell.execute_reply": "2021-05-11T19:21:33.302252Z"
    },
    "executionInfo": {
     "elapsed": 42516,
     "status": "ok",
     "timestamp": 1615624277515,
     "user": {
      "displayName": "Ronald Seoh",
      "photoUrl": "",
      "userId": "10284188050297676522"
     },
     "user_tz": 300
    },
    "id": "DUpGBmOJhbzs",
    "papermill": {
     "duration": 0.033793,
     "end_time": "2021-05-11T19:21:33.302410",
     "exception": false,
     "start_time": "2021-05-11T19:21:33.268617",
     "status": "completed"
    },
    "tags": [
     "parameters"
    ]
   },
   "outputs": [],
   "source": [
    "# We will use the following string ID to identify this particular (training) experiments\n",
    "# in directory paths and other settings\n",
    "experiment_id = 'zero_shot_prompt_logit_softmax_atsc_laptops_gpt2_amazon_electronics_multiple_prompts'\n",
    "\n",
    "# Random seed\n",
    "random_seed = 696\n",
    "\n",
    "# path to pretrained MLM model folder or the string \"bert-base-uncased\"\n",
    "lm_model_path = '../progress/lm_further_pretraining_bert_amazon_electronics_bseoh_2021-03-20--13_28_15/results/checkpoint-2360776'\n",
    "\n",
    "# Prompts to be added to the end of each review text\n",
    "# Note: pseudo-labels for each prompt should be given in the order of (positive), (negative), (neutral)\n",
    "sentiment_prompts = {\n",
    "    'i_felt': {\"prompt\": \"I felt the {aspect} was \", \"labels\": [\"good\", \"bad\", \"ok\"]},\n",
    "    'made_me_feel': {\"prompt\": \"The {aspect} made me feel \", \"labels\": [\"good\", \"bad\", \"indifferent\"]},\n",
    "    'the_aspect_is': {\"prompt\": \"The {aspect} is \", \"labels\": [\"good\", \"bad\", \"ok\"]}\n",
    "}\n",
    "\n",
    "# Multiple prompt merging behavior\n",
    "prompts_merge_behavior = 'sum_logits'\n",
    "\n",
    "# Test settings\n",
    "testing_batch_size = 32\n",
    "testing_domain = 'restaurants' # 'laptops', 'restaurants', 'joint'"
   ]
  },
  {
   "cell_type": "code",
   "execution_count": 3,
   "metadata": {
    "execution": {
     "iopub.execute_input": "2021-05-11T19:21:33.352852Z",
     "iopub.status.busy": "2021-05-11T19:21:33.352180Z",
     "iopub.status.idle": "2021-05-11T19:21:33.355496Z",
     "shell.execute_reply": "2021-05-11T19:21:33.356042Z"
    },
    "papermill": {
     "duration": 0.032048,
     "end_time": "2021-05-11T19:21:33.356196",
     "exception": false,
     "start_time": "2021-05-11T19:21:33.324148",
     "status": "completed"
    },
    "tags": [
     "injected-parameters"
    ]
   },
   "outputs": [],
   "source": [
    "# Parameters\n",
    "experiment_id = \"gpt-2_zero_shot_prompt_logit_softmax_atsc_restaurants_gpt2_single_prompt_the_aspect_is_696\"\n",
    "random_seed = 696\n",
    "lm_model_path = \"gpt2\"\n",
    "sentiment_prompts = [{\"prompt\": \" The {aspect} is\", \"labels\": [\" good\", \" bad\", \" ok\"]}]\n",
    "testing_batch_size = 16\n",
    "testing_domain = \"restaurants\"\n"
   ]
  },
  {
   "cell_type": "code",
   "execution_count": 4,
   "metadata": {
    "execution": {
     "iopub.execute_input": "2021-05-11T19:21:33.409330Z",
     "iopub.status.busy": "2021-05-11T19:21:33.408674Z",
     "iopub.status.idle": "2021-05-11T19:21:33.412966Z",
     "shell.execute_reply": "2021-05-11T19:21:33.412379Z"
    },
    "papermill": {
     "duration": 0.034825,
     "end_time": "2021-05-11T19:21:33.413103",
     "exception": false,
     "start_time": "2021-05-11T19:21:33.378278",
     "status": "completed"
    },
    "tags": []
   },
   "outputs": [
    {
     "name": "stdout",
     "output_type": "stream",
     "text": [
      "Experiment ID: gpt-2_zero_shot_prompt_logit_softmax_atsc_restaurants_gpt2_single_prompt_the_aspect_is_696\n"
     ]
    }
   ],
   "source": [
    "print(\"Experiment ID:\", experiment_id)"
   ]
  },
  {
   "cell_type": "code",
   "execution_count": null,
   "metadata": {
    "papermill": {
     "duration": 0.022422,
     "end_time": "2021-05-11T19:21:33.458040",
     "exception": false,
     "start_time": "2021-05-11T19:21:33.435618",
     "status": "completed"
    },
    "tags": []
   },
   "outputs": [],
   "source": []
  },
  {
   "cell_type": "markdown",
   "metadata": {
    "id": "GYZesqTioMvF",
    "papermill": {
     "duration": 0.022412,
     "end_time": "2021-05-11T19:21:33.503217",
     "exception": false,
     "start_time": "2021-05-11T19:21:33.480805",
     "status": "completed"
    },
    "tags": []
   },
   "source": [
    "## Package imports"
   ]
  },
  {
   "cell_type": "code",
   "execution_count": 5,
   "metadata": {
    "colab": {
     "base_uri": "https://localhost:8080/"
    },
    "execution": {
     "iopub.execute_input": "2021-05-11T19:21:33.568654Z",
     "iopub.status.busy": "2021-05-11T19:21:33.567533Z",
     "iopub.status.idle": "2021-05-11T19:21:37.506113Z",
     "shell.execute_reply": "2021-05-11T19:21:37.504990Z"
    },
    "executionInfo": {
     "elapsed": 50552,
     "status": "ok",
     "timestamp": 1615624285562,
     "user": {
      "displayName": "Ronald Seoh",
      "photoUrl": "",
      "userId": "10284188050297676522"
     },
     "user_tz": 300
    },
    "id": "MlK_-DrWhbzb",
    "outputId": "45b139c8-7f55-4aaa-f223-9f940c64f5f0",
    "papermill": {
     "duration": 3.980728,
     "end_time": "2021-05-11T19:21:37.506414",
     "exception": false,
     "start_time": "2021-05-11T19:21:33.525686",
     "status": "completed"
    },
    "tags": []
   },
   "outputs": [
    {
     "name": "stderr",
     "output_type": "stream",
     "text": [
      "Intel(R) oneAPI Data Analytics Library solvers for sklearn enabled: https://intelpython.github.io/daal4py/sklearn.html\n"
     ]
    },
    {
     "name": "stdout",
     "output_type": "stream",
     "text": [
      "Python version: 3.7.9 (default, Nov  4 2020, 21:30:07) \n",
      "[GCC 7.3.0]\n",
      "NumPy version: 1.19.2\n",
      "PyTorch version: 1.7.1\n",
      "Transformers version: 4.3.3\n"
     ]
    }
   ],
   "source": [
    "import sys\n",
    "import os\n",
    "import random\n",
    "import shutil\n",
    "import copy\n",
    "import inspect\n",
    "\n",
    "import numpy as np\n",
    "import torch\n",
    "import transformers\n",
    "import datasets\n",
    "import sklearn.metrics\n",
    "import pandas as pd\n",
    "import matplotlib.pyplot as plt\n",
    "import seaborn as sn\n",
    "import tqdm\n",
    "\n",
    "current_dir = os.path.dirname(os.path.abspath(inspect.getfile(inspect.currentframe())))\n",
    "parent_dir = os.path.dirname(current_dir)\n",
    "sys.path.append(parent_dir)\n",
    "\n",
    "import utils\n",
    "\n",
    "# Random seed settings\n",
    "random.seed(random_seed)\n",
    "np.random.seed(random_seed)\n",
    "\n",
    "# cuBLAS reproducibility\n",
    "# https://docs.nvidia.com/cuda/cublas/index.html#cublasApi_reproducibility\n",
    "os.environ['CUBLAS_WORKSPACE_CONFIG'] = \":4096:8\"\n",
    "torch.set_deterministic(True)\n",
    "torch.manual_seed(random_seed)\n",
    "\n",
    "# Print version information\n",
    "print(\"Python version: \" + sys.version)\n",
    "print(\"NumPy version: \" + np.__version__)\n",
    "print(\"PyTorch version: \" + torch.__version__)\n",
    "print(\"Transformers version: \" + transformers.__version__)"
   ]
  },
  {
   "cell_type": "markdown",
   "metadata": {
    "id": "UWuR30eUoTWP",
    "papermill": {
     "duration": 0.032461,
     "end_time": "2021-05-11T19:21:37.579297",
     "exception": false,
     "start_time": "2021-05-11T19:21:37.546836",
     "status": "completed"
    },
    "tags": []
   },
   "source": [
    "## PyTorch GPU settings"
   ]
  },
  {
   "cell_type": "code",
   "execution_count": 6,
   "metadata": {
    "colab": {
     "base_uri": "https://localhost:8080/"
    },
    "execution": {
     "iopub.execute_input": "2021-05-11T19:21:37.698856Z",
     "iopub.status.busy": "2021-05-11T19:21:37.697535Z",
     "iopub.status.idle": "2021-05-11T19:21:37.701880Z",
     "shell.execute_reply": "2021-05-11T19:21:37.702902Z"
    },
    "executionInfo": {
     "elapsed": 50544,
     "status": "ok",
     "timestamp": 1615624285563,
     "user": {
      "displayName": "Ronald Seoh",
      "photoUrl": "",
      "userId": "10284188050297676522"
     },
     "user_tz": 300
    },
    "id": "PfNlm-ykoSlM",
    "outputId": "e469ee0c-dbd4-4b5a-ebb0-7a5fbd569fb2",
    "papermill": {
     "duration": 0.094697,
     "end_time": "2021-05-11T19:21:37.703236",
     "exception": false,
     "start_time": "2021-05-11T19:21:37.608539",
     "status": "completed"
    },
    "tags": []
   },
   "outputs": [
    {
     "name": "stdout",
     "output_type": "stream",
     "text": [
      "CUDA Version: 11.0\n",
      "cuDNN Version: 8005\n",
      "CUDA Device Name: Tesla M40 24GB\n",
      "CUDA Capabilities: (5, 2)\n",
      "Number of CUDA devices: 1\n",
      "\n",
      "PyTorch device selected: cuda\n"
     ]
    }
   ],
   "source": [
    "if torch.cuda.is_available():    \n",
    "    torch_device = torch.device('cuda')\n",
    "\n",
    "    # Set this to True to make your output immediately reproducible\n",
    "    # Note: https://pytorch.org/docs/stable/notes/randomness.html\n",
    "    torch.backends.cudnn.deterministic = True\n",
    "    \n",
    "    # Disable 'benchmark' mode: Set this False if you want to measure running times more fairly\n",
    "    # Note: https://discuss.pytorch.org/t/what-does-torch-backends-cudnn-benchmark-do/5936\n",
    "    torch.backends.cudnn.benchmark = False\n",
    "    \n",
    "    # Faster Host to GPU copies with page-locked memory\n",
    "    use_pin_memory = True\n",
    "    \n",
    "    # Number of compute devices to be used for training\n",
    "    training_device_count = torch.cuda.device_count()\n",
    "\n",
    "    # CUDA libraries version information\n",
    "    print(\"CUDA Version: \" + str(torch.version.cuda))\n",
    "    print(\"cuDNN Version: \" + str(torch.backends.cudnn.version()))\n",
    "    print(\"CUDA Device Name: \" + str(torch.cuda.get_device_name()))\n",
    "    print(\"CUDA Capabilities: \"+ str(torch.cuda.get_device_capability()))\n",
    "    print(\"Number of CUDA devices: \"+ str(training_device_count))\n",
    "    \n",
    "else:\n",
    "    torch_device = torch.device('cpu')\n",
    "    use_pin_memory = False\n",
    "    \n",
    "    # Number of compute devices to be used for training\n",
    "    training_device_count = 1\n",
    "\n",
    "print()\n",
    "print(\"PyTorch device selected:\", torch_device)"
   ]
  },
  {
   "cell_type": "markdown",
   "metadata": {
    "id": "ayX5VRLfocFk",
    "papermill": {
     "duration": 0.032177,
     "end_time": "2021-05-11T19:21:37.775600",
     "exception": false,
     "start_time": "2021-05-11T19:21:37.743423",
     "status": "completed"
    },
    "tags": []
   },
   "source": [
    "# Prepare Datasets for Prompt-based Classifier"
   ]
  },
  {
   "cell_type": "markdown",
   "metadata": {
    "id": "U9LAAJP-hbz7",
    "papermill": {
     "duration": 0.024692,
     "end_time": "2021-05-11T19:21:37.827616",
     "exception": false,
     "start_time": "2021-05-11T19:21:37.802924",
     "status": "completed"
    },
    "tags": []
   },
   "source": [
    "## Load the SemEval dataset"
   ]
  },
  {
   "cell_type": "code",
   "execution_count": 7,
   "metadata": {
    "colab": {
     "base_uri": "https://localhost:8080/"
    },
    "execution": {
     "iopub.execute_input": "2021-05-11T19:21:37.885909Z",
     "iopub.status.busy": "2021-05-11T19:21:37.885235Z",
     "iopub.status.idle": "2021-05-11T19:21:37.945968Z",
     "shell.execute_reply": "2021-05-11T19:21:37.946538Z"
    },
    "executionInfo": {
     "elapsed": 53313,
     "status": "ok",
     "timestamp": 1615624288339,
     "user": {
      "displayName": "Ronald Seoh",
      "photoUrl": "",
      "userId": "10284188050297676522"
     },
     "user_tz": 300
    },
    "id": "gpL2uHPUhbz9",
    "outputId": "a90fcc98-39a0-42c7-d32e-6f9115e8eff3",
    "papermill": {
     "duration": 0.095376,
     "end_time": "2021-05-11T19:21:37.946729",
     "exception": false,
     "start_time": "2021-05-11T19:21:37.851353",
     "status": "completed"
    },
    "tags": []
   },
   "outputs": [
    {
     "name": "stderr",
     "output_type": "stream",
     "text": [
      "Using custom data configuration default\n",
      "Using custom data configuration default\n",
      "Reusing dataset sem_eval2014_task4_dataset (/home/mtak/.cache/huggingface/datasets/sem_eval2014_task4_dataset/default-2370b90d235ece11/0.0.1/f33ba7108331ad17be3f9fb710ca001edb383fba797c6ed0938354e6812ca969)\n",
      "Using custom data configuration default\n",
      "Reusing dataset sem_eval2014_task4_dataset (/home/mtak/.cache/huggingface/datasets/sem_eval2014_task4_dataset/default-ce2c4afb722ac57b/0.0.1/f33ba7108331ad17be3f9fb710ca001edb383fba797c6ed0938354e6812ca969)\n"
     ]
    }
   ],
   "source": [
    "try:\n",
    "    # Load semeval for both domains\n",
    "    laptops_dataset = datasets.load_dataset(\n",
    "        os.path.abspath('../dataset_scripts/semeval2014_task4/semeval2014_task4.py'),\n",
    "        data_files={\n",
    "            'test': '../dataset_files/semeval_2014/Laptops_Test_Gold.xml',\n",
    "            'train': '../dataset_files/semeval_2014/Laptop_Train_v2.xml',\n",
    "        },\n",
    "        cache_dir='../dataset_cache')\n",
    "\n",
    "    restaurants_dataset = datasets.load_dataset(\n",
    "        os.path.abspath('../dataset_scripts/semeval2014_task4/semeval2014_task4.py'),\n",
    "        data_files={\n",
    "            'test': '../dataset_files/semeval_2014/Restaurants_Test_Gold.xml',\n",
    "            'train': '../dataset_files/semeval_2014/Restaurants_Train_v2.xml',\n",
    "        },\n",
    "        cache_dir='../dataset_cache')\n",
    "except:\n",
    "    # Load semeval for both domains\n",
    "    laptops_dataset = datasets.load_dataset(\n",
    "        os.path.abspath('../dataset_scripts/semeval2014_task4/semeval2014_task4.py'),\n",
    "        data_files={\n",
    "            'test': '../dataset_files/semeval_2014/Laptops_Test_Gold.xml',\n",
    "            'train': '../dataset_files/semeval_2014/Laptop_Train_v2.xml',\n",
    "        })\n",
    "\n",
    "    restaurants_dataset = datasets.load_dataset(\n",
    "        os.path.abspath('../dataset_scripts/semeval2014_task4/semeval2014_task4.py'),\n",
    "        data_files={\n",
    "            'test': '../dataset_files/semeval_2014/Restaurants_Test_Gold.xml',\n",
    "            'train': '../dataset_files/semeval_2014/Restaurants_Train_v2.xml',\n",
    "        })"
   ]
  },
  {
   "cell_type": "code",
   "execution_count": 8,
   "metadata": {
    "execution": {
     "iopub.execute_input": "2021-05-11T19:21:38.009556Z",
     "iopub.status.busy": "2021-05-11T19:21:38.008908Z",
     "iopub.status.idle": "2021-05-11T19:21:38.011930Z",
     "shell.execute_reply": "2021-05-11T19:21:38.012429Z"
    },
    "executionInfo": {
     "elapsed": 53310,
     "status": "ok",
     "timestamp": 1615624288340,
     "user": {
      "displayName": "Ronald Seoh",
      "photoUrl": "",
      "userId": "10284188050297676522"
     },
     "user_tz": 300
    },
    "id": "Gi5m8AbPj1iJ",
    "papermill": {
     "duration": 0.035383,
     "end_time": "2021-05-11T19:21:38.012590",
     "exception": false,
     "start_time": "2021-05-11T19:21:37.977207",
     "status": "completed"
    },
    "tags": []
   },
   "outputs": [],
   "source": [
    "# The dataset chosen for testing\n",
    "if testing_domain == 'laptops':\n",
    "    test_set = laptops_dataset['test']\n",
    "elif testing_domain == 'restaurants':\n",
    "    test_set = restaurants_dataset['test']\n",
    "elif testing_domain == 'joint':\n",
    "    test_set = laptops_dataset['test'] + restaurants_dataset['test']"
   ]
  },
  {
   "cell_type": "markdown",
   "metadata": {
    "id": "6TOMmAtIvoZ_",
    "papermill": {
     "duration": 0.028192,
     "end_time": "2021-05-11T19:21:38.066366",
     "exception": false,
     "start_time": "2021-05-11T19:21:38.038174",
     "status": "completed"
    },
    "tags": []
   },
   "source": [
    "# Zero-shot ATSC with Prompts"
   ]
  },
  {
   "cell_type": "markdown",
   "metadata": {
    "id": "3jNAtuv-hbzv",
    "papermill": {
     "duration": 0.03372,
     "end_time": "2021-05-11T19:21:38.125532",
     "exception": false,
     "start_time": "2021-05-11T19:21:38.091812",
     "status": "completed"
    },
    "tags": []
   },
   "source": [
    "## Load the pretrained LM"
   ]
  },
  {
   "cell_type": "code",
   "execution_count": 9,
   "metadata": {
    "execution": {
     "iopub.execute_input": "2021-05-11T19:21:38.188608Z",
     "iopub.status.busy": "2021-05-11T19:21:38.187263Z",
     "iopub.status.idle": "2021-05-11T19:21:45.273180Z",
     "shell.execute_reply": "2021-05-11T19:21:45.273908Z"
    },
    "executionInfo": {
     "elapsed": 64134,
     "status": "ok",
     "timestamp": 1615624299167,
     "user": {
      "displayName": "Ronald Seoh",
      "photoUrl": "",
      "userId": "10284188050297676522"
     },
     "user_tz": 300
    },
    "id": "En2BmfjVhbzy",
    "papermill": {
     "duration": 7.121211,
     "end_time": "2021-05-11T19:21:45.274182",
     "exception": false,
     "start_time": "2021-05-11T19:21:38.152971",
     "status": "completed"
    },
    "tags": []
   },
   "outputs": [],
   "source": [
    "# Load pretrained language model\n",
    "lm = transformers.AutoModelForCausalLM.from_pretrained(lm_model_path)\n",
    "try:\n",
    "    tokenizer = transformers.AutoTokenizer.from_pretrained('gpt2', cache_dir='./gpt2_cache')\n",
    "except:\n",
    "    tokenizer = transformers.AutoTokenizer.from_pretrained('gpt2')\n",
    "tokenizer.pad_token = tokenizer.eos_token"
   ]
  },
  {
   "cell_type": "markdown",
   "metadata": {
    "id": "TEIbN5Xthb0o",
    "papermill": {
     "duration": 0.031736,
     "end_time": "2021-05-11T19:21:45.343693",
     "exception": false,
     "start_time": "2021-05-11T19:21:45.311957",
     "status": "completed"
    },
    "tags": []
   },
   "source": [
    "## Define a new model with non-trainable softmax head"
   ]
  },
  {
   "cell_type": "code",
   "execution_count": 10,
   "metadata": {
    "colab": {
     "base_uri": "https://localhost:8080/"
    },
    "execution": {
     "iopub.execute_input": "2021-05-11T19:21:45.418503Z",
     "iopub.status.busy": "2021-05-11T19:21:45.417713Z",
     "iopub.status.idle": "2021-05-11T19:21:47.716758Z",
     "shell.execute_reply": "2021-05-11T19:21:47.715676Z"
    },
    "executionInfo": {
     "elapsed": 75031,
     "status": "ok",
     "timestamp": 1615624310071,
     "user": {
      "displayName": "Ronald Seoh",
      "photoUrl": "",
      "userId": "10284188050297676522"
     },
     "user_tz": 300
    },
    "id": "wN3q4Rsopxby",
    "outputId": "5e8ff13e-7a15-4e6d-9c34-094fce229c69",
    "papermill": {
     "duration": 2.342483,
     "end_time": "2021-05-11T19:21:47.717039",
     "exception": false,
     "start_time": "2021-05-11T19:21:45.374556",
     "status": "completed"
    },
    "tags": []
   },
   "outputs": [
    {
     "name": "stdout",
     "output_type": "stream",
     "text": [
      "[[922, 2089, 12876]]\n",
      "Detected LM type: gpt2\n"
     ]
    }
   ],
   "source": [
    "# Encode the pseudo-label words for each sentiment class\n",
    "sentiment_word_ids = []\n",
    "\n",
    "for sp in sentiment_prompts:\n",
    "    sentiment_word_ids.append(\n",
    "        [tokenizer.convert_tokens_to_ids(tokenizer.tokenize(w))[0] for w in sp['labels']])\n",
    "\n",
    "print(sentiment_word_ids)\n",
    "\n",
    "\n",
    "classifier_model = utils.MultiPromptLogitSentimentClassificationHead(\n",
    "    lm=lm,\n",
    "    num_class=3,\n",
    "    num_prompts=len(sentiment_prompts),\n",
    "    pseudo_label_words=sentiment_word_ids,\n",
    "    target_token_id=tokenizer.eos_token_id,\n",
    "    merge_behavior=prompts_merge_behavior)\n",
    "\n",
    "# Freeze the MLM main layer\n",
    "for param in classifier_model.lm.parameters():\n",
    "    param.requires_grad = False\n",
    "\n",
    "classifier_model = classifier_model.to(device=torch_device)"
   ]
  },
  {
   "cell_type": "markdown",
   "metadata": {
    "id": "1l1H_XIPhb0y",
    "papermill": {
     "duration": 0.03637,
     "end_time": "2021-05-11T19:21:47.797802",
     "exception": false,
     "start_time": "2021-05-11T19:21:47.761432",
     "status": "completed"
    },
    "tags": []
   },
   "source": [
    "## Evaluation with in-domain test set\n",
    "\n"
   ]
  },
  {
   "cell_type": "code",
   "execution_count": 11,
   "metadata": {
    "execution": {
     "iopub.execute_input": "2021-05-11T19:21:47.867729Z",
     "iopub.status.busy": "2021-05-11T19:21:47.867046Z",
     "iopub.status.idle": "2021-05-11T19:21:47.870116Z",
     "shell.execute_reply": "2021-05-11T19:21:47.869572Z"
    },
    "executionInfo": {
     "elapsed": 75030,
     "status": "ok",
     "timestamp": 1615624310073,
     "user": {
      "displayName": "Ronald Seoh",
      "photoUrl": "",
      "userId": "10284188050297676522"
     },
     "user_tz": 300
    },
    "id": "0S80DoYrqApi",
    "papermill": {
     "duration": 0.041154,
     "end_time": "2021-05-11T19:21:47.870258",
     "exception": false,
     "start_time": "2021-05-11T19:21:47.829104",
     "status": "completed"
    },
    "tags": []
   },
   "outputs": [],
   "source": [
    "def compute_metrics(predictions, labels):\n",
    "    preds = predictions.argmax(-1)\n",
    "\n",
    "    precision, recall, f1, _ = sklearn.metrics.precision_recall_fscore_support(\n",
    "        y_true=labels, y_pred=preds, labels=[0,1,2], average='macro')\n",
    "\n",
    "    acc = sklearn.metrics.accuracy_score(labels, preds)\n",
    "\n",
    "    return {\n",
    "        'accuracy': acc,\n",
    "        'f1': f1,\n",
    "        'precision': precision,\n",
    "        'recall': recall\n",
    "    }"
   ]
  },
  {
   "cell_type": "code",
   "execution_count": 12,
   "metadata": {
    "execution": {
     "iopub.execute_input": "2021-05-11T19:21:47.929148Z",
     "iopub.status.busy": "2021-05-11T19:21:47.928509Z",
     "iopub.status.idle": "2021-05-11T19:21:47.931960Z",
     "shell.execute_reply": "2021-05-11T19:21:47.931404Z"
    },
    "executionInfo": {
     "elapsed": 75028,
     "status": "ok",
     "timestamp": 1615624310075,
     "user": {
      "displayName": "Ronald Seoh",
      "photoUrl": "",
      "userId": "10284188050297676522"
     },
     "user_tz": 300
    },
    "id": "9NXoBTs5h2eO",
    "papermill": {
     "duration": 0.035238,
     "end_time": "2021-05-11T19:21:47.932088",
     "exception": false,
     "start_time": "2021-05-11T19:21:47.896850",
     "status": "completed"
    },
    "tags": []
   },
   "outputs": [],
   "source": [
    "test_dataloader = torch.utils.data.DataLoader(\n",
    "    test_set, batch_size=testing_batch_size, pin_memory=use_pin_memory)"
   ]
  },
  {
   "cell_type": "code",
   "execution_count": 13,
   "metadata": {
    "colab": {
     "base_uri": "https://localhost:8080/",
     "height": 84,
     "referenced_widgets": [
      "7fb8791eebc34b50ad4bbc46d5dd672f",
      "4d37f26bbde14141bbaebb4740551a1a",
      "49b8f6f732824057ba293f03276b16b3",
      "0b6322ca19a5491d913895222b433c0f",
      "718b93fb989d48fda8e7093c8ddd2117",
      "640ccd4f39bd4c5f94d7506ff7883fa4",
      "b71f8e96b97748d98e931eaebfe553c0",
      "3dab522d29284de89d4872f68540ff7e"
     ]
    },
    "execution": {
     "iopub.execute_input": "2021-05-11T19:21:48.036272Z",
     "iopub.status.busy": "2021-05-11T19:21:48.035624Z",
     "iopub.status.idle": "2021-05-11T19:22:11.446991Z",
     "shell.execute_reply": "2021-05-11T19:22:11.448147Z"
    },
    "executionInfo": {
     "elapsed": 87162,
     "status": "ok",
     "timestamp": 1615624322219,
     "user": {
      "displayName": "Ronald Seoh",
      "photoUrl": "",
      "userId": "10284188050297676522"
     },
     "user_tz": 300
    },
    "id": "LLcc_wZjhb0y",
    "outputId": "70539e45-a5bd-4355-f10d-9654618ffacc",
    "papermill": {
     "duration": 23.489267,
     "end_time": "2021-05-11T19:22:11.448480",
     "exception": false,
     "start_time": "2021-05-11T19:21:47.959213",
     "status": "completed"
    },
    "tags": []
   },
   "outputs": [
    {
     "data": {
      "application/vnd.jupyter.widget-view+json": {
       "model_id": "afca7972c7224fd3853b51131c8358fe",
       "version_major": 2,
       "version_minor": 0
      },
      "text/plain": [
       "HBox(children=(FloatProgress(value=0.0, max=70.0), HTML(value='')))"
      ]
     },
     "metadata": {},
     "output_type": "display_data"
    },
    {
     "name": "stdout",
     "output_type": "stream",
     "text": [
      "\n",
      "{'accuracy': 0.6732142857142858, 'f1': 0.3497401459096561, 'precision': 0.6992337164750957, 'recall': 0.38003663003663}\n"
     ]
    }
   ],
   "source": [
    "classifier_model.eval()\n",
    "\n",
    "predictions_test = torch.Tensor([])\n",
    "labels_test = torch.Tensor([])\n",
    "\n",
    "for batch_val in tqdm.notebook.tqdm(test_dataloader):\n",
    "\n",
    "    reviews_repeated = []\n",
    "    prompts_populated = []\n",
    "\n",
    "    for prompt in sentiment_prompts:\n",
    "        reviews_repeated = reviews_repeated + batch_val[\"text\"]\n",
    "\n",
    "        for aspect in batch_val[\"aspect\"]:\n",
    "            prompts_populated.append(prompt['prompt'].format(aspect=aspect))\n",
    "\n",
    "    batch_encoded = tokenizer(\n",
    "        reviews_repeated, prompts_populated,\n",
    "        padding='max_length', truncation='only_first', max_length=256,\n",
    "        return_tensors='pt')\n",
    "    \n",
    "    batch_encoded.to(torch_device)\n",
    "\n",
    "    labels = batch_val[\"sentiment\"]\n",
    "\n",
    "    outputs = classifier_model(batch_encoded)\n",
    "\n",
    "    outputs = outputs.to('cpu')\n",
    "\n",
    "    predictions_test = torch.cat([predictions_test, outputs])\n",
    "    labels_test = torch.cat([labels_test, labels])\n",
    "\n",
    "# Compute metrics\n",
    "test_metrics = compute_metrics(predictions_test, labels_test)\n",
    "\n",
    "print(test_metrics)"
   ]
  },
  {
   "cell_type": "markdown",
   "metadata": {
    "id": "HjpA_0m1hb08",
    "papermill": {
     "duration": 0.035405,
     "end_time": "2021-05-11T19:22:11.529331",
     "exception": false,
     "start_time": "2021-05-11T19:22:11.493926",
     "status": "completed"
    },
    "tags": []
   },
   "source": [
    "## Results visualization"
   ]
  },
  {
   "cell_type": "code",
   "execution_count": 14,
   "metadata": {
    "colab": {
     "base_uri": "https://localhost:8080/",
     "height": 442
    },
    "execution": {
     "iopub.execute_input": "2021-05-11T19:22:11.604760Z",
     "iopub.status.busy": "2021-05-11T19:22:11.604102Z",
     "iopub.status.idle": "2021-05-11T19:22:11.863237Z",
     "shell.execute_reply": "2021-05-11T19:22:11.864259Z"
    },
    "executionInfo": {
     "elapsed": 87353,
     "status": "ok",
     "timestamp": 1615624322421,
     "user": {
      "displayName": "Ronald Seoh",
      "photoUrl": "",
      "userId": "10284188050297676522"
     },
     "user_tz": 300
    },
    "id": "w9G9AUeQhb09",
    "outputId": "77a945fa-5896-4acf-d95e-3aa9818f80be",
    "papermill": {
     "duration": 0.3015,
     "end_time": "2021-05-11T19:22:11.864570",
     "exception": false,
     "start_time": "2021-05-11T19:22:11.563070",
     "status": "completed"
    },
    "tags": []
   },
   "outputs": [
    {
     "data": {
      "image/png": "[encoded data removed]",
      "text/plain": [
       "<Figure size 720x504 with 2 Axes>"
      ]
     },
     "metadata": {
      "needs_background": "light"
     },
     "output_type": "display_data"
    }
   ],
   "source": [
    "# Calculate metrics and confusion matrix based upon predictions and true labels\n",
    "cm = sklearn.metrics.confusion_matrix(labels_test.detach().numpy(), predictions_test.detach().numpy().argmax(-1))\n",
    "\n",
    "df_cm = pd.DataFrame(\n",
    "    cm,\n",
    "    index=[i for i in [\"positive\", \"negative\", \"neutral\"]],\n",
    "    columns=[i for i in [\"positive\", \"negative\", \"neutral\"]])\n",
    "\n",
    "plt.figure(figsize=(10, 7))\n",
    "\n",
    "ax = sn.heatmap(df_cm, annot=True)\n",
    "\n",
    "ax.set(xlabel='Predicted Label', ylabel='True Label')\n",
    "plt.show()"
   ]
  },
  {
   "cell_type": "code",
   "execution_count": null,
   "metadata": {
    "papermill": {
     "duration": 0.037669,
     "end_time": "2021-05-11T19:22:11.950935",
     "exception": false,
     "start_time": "2021-05-11T19:22:11.913266",
     "status": "completed"
    },
    "tags": []
   },
   "outputs": [],
   "source": []
  }
 ],
 "metadata": {
  "accelerator": "GPU",
  "celltoolbar": "Tags",
  "colab": {
   "collapsed_sections": [],
   "name": "prompt_lr_atsc_single_prompt_logit_softmax_the_aspect_bert_amazon_electronics.ipynb",
   "provenance": [],
   "toc_visible": true
  },
  "kernelspec": {
   "display_name": "Python 3",
   "language": "python",
   "name": "python3"
  },
  "language_info": {
   "codemirror_mode": {
    "name": "ipython",
    "version": 3
   },
   "file_extension": ".py",
   "mimetype": "text/x-python",
   "name": "python",
   "nbconvert_exporter": "python",
   "pygments_lexer": "ipython3",
   "version": "3.8.5"
  },
  "papermill": {
   "default_parameters": {},
   "duration": 42.08864,
   "end_time": "2021-05-11T19:22:13.913623",
   "environment_variables": {},
   "exception": null,
   "input_path": "gpt-2_zero_shot_prompt_logit_softmax_atsc.ipynb",
   "output_path": "results_gpt-2_zero_shot_prompt_logit_softmax_atsc_restaurants/gpt-2_zero_shot_prompt_logit_softmax_atsc_restaurants_gpt2_single_prompt_the_aspect_is_696.ipynb",
   "parameters": {
    "experiment_id": "gpt-2_zero_shot_prompt_logit_softmax_atsc_restaurants_gpt2_single_prompt_the_aspect_is_696",
    "lm_model_path": "gpt2",
    "random_seed": 696,
    "sentiment_prompts": [
     {
      "labels": [
       " good",
       " bad",
       " ok"
      ],
      "prompt": " The {aspect} is"
     }
    ],
    "testing_batch_size": 16,
    "testing_domain": "restaurants"
   },
   "start_time": "2021-05-11T19:21:31.824983",
   "version": "2.3.2"
  },
  "widgets": {
   "application/vnd.jupyter.widget-state+json": {
    "state": {
     "291901cdc4a84ccc817e6d1301efbba8": {
      "model_module": "@jupyter-widgets/controls",
      "model_module_version": "1.5.0",
      "model_name": "HTMLModel",
      "state": {
       "_dom_classes": [],
       "_model_module": "@jupyter-widgets/controls",
       "_model_module_version": "1.5.0",
       "_model_name": "HTMLModel",
       "_view_count": null,
       "_view_module": "@jupyter-widgets/controls",
       "_view_module_version": "1.5.0",
       "_view_name": "HTMLView",
       "description": "",
       "description_tooltip": null,
       "layout": "IPY_MODEL_71fcd7728613497ca0085db2c47f4b09",
       "placeholder": "​",
       "style": "IPY_MODEL_9c1a2f3848e04fb880b447946114fbe4",
       "value": " 70/70 [00:23&lt;00:00,  2.96it/s]"
      }
     },
     "2d477bc122c34bf5a7de982bfc5ac683": {
      "model_module": "@jupyter-widgets/base",
      "model_module_version": "1.2.0",
      "model_name": "LayoutModel",
      "state": {
       "_model_module": "@jupyter-widgets/base",
       "_model_module_version": "1.2.0",
       "_model_name": "LayoutModel",
       "_view_count": null,
       "_view_module": "@jupyter-widgets/base",
       "_view_module_version": "1.2.0",
       "_view_name": "LayoutView",
       "align_content": null,
       "align_items": null,
       "align_self": null,
       "border": null,
       "bottom": null,
       "display": null,
       "flex": null,
       "flex_flow": null,
       "grid_area": null,
       "grid_auto_columns": null,
       "grid_auto_flow": null,
       "grid_auto_rows": null,
       "grid_column": null,
       "grid_gap": null,
       "grid_row": null,
       "grid_template_areas": null,
       "grid_template_columns": null,
       "grid_template_rows": null,
       "height": null,
       "justify_content": null,
       "justify_items": null,
       "left": null,
       "margin": null,
       "max_height": null,
       "max_width": null,
       "min_height": null,
       "min_width": null,
       "object_fit": null,
       "object_position": null,
       "order": null,
       "overflow": null,
       "overflow_x": null,
       "overflow_y": null,
       "padding": null,
       "right": null,
       "top": null,
       "visibility": null,
       "width": null
      }
     },
     "4e7a834777e342a4be0fc9eebe6ea269": {
      "model_module": "@jupyter-widgets/base",
      "model_module_version": "1.2.0",
      "model_name": "LayoutModel",
      "state": {
       "_model_module": "@jupyter-widgets/base",
       "_model_module_version": "1.2.0",
       "_model_name": "LayoutModel",
       "_view_count": null,
       "_view_module": "@jupyter-widgets/base",
       "_view_module_version": "1.2.0",
       "_view_name": "LayoutView",
       "align_content": null,
       "align_items": null,
       "align_self": null,
       "border": null,
       "bottom": null,
       "display": null,
       "flex": null,
       "flex_flow": null,
       "grid_area": null,
       "grid_auto_columns": null,
       "grid_auto_flow": null,
       "grid_auto_rows": null,
       "grid_column": null,
       "grid_gap": null,
       "grid_row": null,
       "grid_template_areas": null,
       "grid_template_columns": null,
       "grid_template_rows": null,
       "height": null,
       "justify_content": null,
       "justify_items": null,
       "left": null,
       "margin": null,
       "max_height": null,
       "max_width": null,
       "min_height": null,
       "min_width": null,
       "object_fit": null,
       "object_position": null,
       "order": null,
       "overflow": null,
       "overflow_x": null,
       "overflow_y": null,
       "padding": null,
       "right": null,
       "top": null,
       "visibility": null,
       "width": null
      }
     },
     "587433c595b545dfac166a76fa0ba1c4": {
      "model_module": "@jupyter-widgets/controls",
      "model_module_version": "1.5.0",
      "model_name": "FloatProgressModel",
      "state": {
       "_dom_classes": [],
       "_model_module": "@jupyter-widgets/controls",
       "_model_module_version": "1.5.0",
       "_model_name": "FloatProgressModel",
       "_view_count": null,
       "_view_module": "@jupyter-widgets/controls",
       "_view_module_version": "1.5.0",
       "_view_name": "ProgressView",
       "bar_style": "success",
       "description": "100%",
       "description_tooltip": null,
       "layout": "IPY_MODEL_4e7a834777e342a4be0fc9eebe6ea269",
       "max": 70,
       "min": 0,
       "orientation": "horizontal",
       "style": "IPY_MODEL_6db7b0eac23443f1b7736019e8333f11",
       "value": 70
      }
     },
     "6db7b0eac23443f1b7736019e8333f11": {
      "model_module": "@jupyter-widgets/controls",
      "model_module_version": "1.5.0",
      "model_name": "ProgressStyleModel",
      "state": {
       "_model_module": "@jupyter-widgets/controls",
       "_model_module_version": "1.5.0",
       "_model_name": "ProgressStyleModel",
       "_view_count": null,
       "_view_module": "@jupyter-widgets/base",
       "_view_module_version": "1.2.0",
       "_view_name": "StyleView",
       "bar_color": null,
       "description_width": "initial"
      }
     },
     "71fcd7728613497ca0085db2c47f4b09": {
      "model_module": "@jupyter-widgets/base",
      "model_module_version": "1.2.0",
      "model_name": "LayoutModel",
      "state": {
       "_model_module": "@jupyter-widgets/base",
       "_model_module_version": "1.2.0",
       "_model_name": "LayoutModel",
       "_view_count": null,
       "_view_module": "@jupyter-widgets/base",
       "_view_module_version": "1.2.0",
       "_view_name": "LayoutView",
       "align_content": null,
       "align_items": null,
       "align_self": null,
       "border": null,
       "bottom": null,
       "display": null,
       "flex": null,
       "flex_flow": null,
       "grid_area": null,
       "grid_auto_columns": null,
       "grid_auto_flow": null,
       "grid_auto_rows": null,
       "grid_column": null,
       "grid_gap": null,
       "grid_row": null,
       "grid_template_areas": null,
       "grid_template_columns": null,
       "grid_template_rows": null,
       "height": null,
       "justify_content": null,
       "justify_items": null,
       "left": null,
       "margin": null,
       "max_height": null,
       "max_width": null,
       "min_height": null,
       "min_width": null,
       "object_fit": null,
       "object_position": null,
       "order": null,
       "overflow": null,
       "overflow_x": null,
       "overflow_y": null,
       "padding": null,
       "right": null,
       "top": null,
       "visibility": null,
       "width": null
      }
     },
     "9c1a2f3848e04fb880b447946114fbe4": {
      "model_module": "@jupyter-widgets/controls",
      "model_module_version": "1.5.0",
      "model_name": "DescriptionStyleModel",
      "state": {
       "_model_module": "@jupyter-widgets/controls",
       "_model_module_version": "1.5.0",
       "_model_name": "DescriptionStyleModel",
       "_view_count": null,
       "_view_module": "@jupyter-widgets/base",
       "_view_module_version": "1.2.0",
       "_view_name": "StyleView",
       "description_width": ""
      }
     },
     "afca7972c7224fd3853b51131c8358fe": {
      "model_module": "@jupyter-widgets/controls",
      "model_module_version": "1.5.0",
      "model_name": "HBoxModel",
      "state": {
       "_dom_classes": [],
       "_model_module": "@jupyter-widgets/controls",
       "_model_module_version": "1.5.0",
       "_model_name": "HBoxModel",
       "_view_count": null,
       "_view_module": "@jupyter-widgets/controls",
       "_view_module_version": "1.5.0",
       "_view_name": "HBoxView",
       "box_style": "",
       "children": [
        "IPY_MODEL_587433c595b545dfac166a76fa0ba1c4",
        "IPY_MODEL_291901cdc4a84ccc817e6d1301efbba8"
       ],
       "layout": "IPY_MODEL_2d477bc122c34bf5a7de982bfc5ac683"
      }
     }
    },
    "version_major": 2,
    "version_minor": 0
   }
  }
 },
 "nbformat": 4,
 "nbformat_minor": 5
}
