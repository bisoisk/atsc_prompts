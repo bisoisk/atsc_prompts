{
 "cells": [
  {
   "cell_type": "markdown",
   "id": "44e054c7",
   "metadata": {
    "id": "xf3lVTZYhbzA",
    "papermill": {
     "duration": 0.094674,
     "end_time": "2021-05-15T01:12:29.736907",
     "exception": false,
     "start_time": "2021-05-15T01:12:29.642233",
     "status": "completed"
    },
    "tags": []
   },
   "source": [
    "# Initial Setups"
   ]
  },
  {
   "cell_type": "markdown",
   "id": "6253c32b",
   "metadata": {
    "id": "2ORFXeezn5Og",
    "papermill": {
     "duration": 0.065037,
     "end_time": "2021-05-15T01:12:29.868413",
     "exception": false,
     "start_time": "2021-05-15T01:12:29.803376",
     "status": "completed"
    },
    "tags": []
   },
   "source": [
    "## (Google Colab use only)"
   ]
  },
  {
   "cell_type": "code",
   "execution_count": 1,
   "id": "a3498bb8",
   "metadata": {
    "colab": {
     "base_uri": "https://localhost:8080/"
    },
    "execution": {
     "iopub.execute_input": "2021-05-15T01:12:30.020276Z",
     "iopub.status.busy": "2021-05-15T01:12:30.019038Z",
     "iopub.status.idle": "2021-05-15T01:12:30.024041Z",
     "shell.execute_reply": "2021-05-15T01:12:30.023009Z"
    },
    "executionInfo": {
     "elapsed": 53586,
     "status": "ok",
     "timestamp": 1615649208546,
     "user": {
      "displayName": "Ronald Seoh",
      "photoUrl": "",
      "userId": "10284188050297676522"
     },
     "user_tz": 300
    },
    "id": "YFAQ6IgXn8FK",
    "outputId": "3db39796-e928-4077-f2ea-1609876a1536",
    "papermill": {
     "duration": 0.090068,
     "end_time": "2021-05-15T01:12:30.024284",
     "exception": false,
     "start_time": "2021-05-15T01:12:29.934216",
     "status": "completed"
    },
    "tags": []
   },
   "outputs": [],
   "source": [
    "# Use Google Colab\n",
    "use_colab = False\n",
    "\n",
    "# Is this notebook running on Colab?\n",
    "# If so, then google.colab package (github.com/googlecolab/colabtools)\n",
    "# should be available in this environment\n",
    "\n",
    "# Previous version used importlib, but we could do the same thing with\n",
    "# just attempting to import google.colab\n",
    "try:\n",
    "    from google.colab import drive\n",
    "    colab_available = True\n",
    "except:\n",
    "    colab_available = False\n",
    "\n",
    "if use_colab and colab_available:\n",
    "    drive.mount('/content/drive')\n",
    "\n",
    "    # cd to the appropriate working directory under my Google Drive\n",
    "    %cd '/content/drive/My Drive/cs696ds_lexalytics/Prompting Experiments'\n",
    "    \n",
    "    # Install packages specified in requirements\n",
    "    !pip install -r requirements.txt\n",
    "    \n",
    "    # List the directory contents\n",
    "    !ls"
   ]
  },
  {
   "cell_type": "markdown",
   "id": "7c15489c",
   "metadata": {
    "id": "tgzsHF7Zhbzo",
    "papermill": {
     "duration": 0.067251,
     "end_time": "2021-05-15T01:12:30.183553",
     "exception": false,
     "start_time": "2021-05-15T01:12:30.116302",
     "status": "completed"
    },
    "tags": []
   },
   "source": [
    "## Experiment parameters"
   ]
  },
  {
   "cell_type": "code",
   "execution_count": 2,
   "id": "8295eee5",
   "metadata": {
    "execution": {
     "iopub.execute_input": "2021-05-15T01:12:30.324674Z",
     "iopub.status.busy": "2021-05-15T01:12:30.324019Z",
     "iopub.status.idle": "2021-05-15T01:12:30.327692Z",
     "shell.execute_reply": "2021-05-15T01:12:30.327183Z"
    },
    "executionInfo": {
     "elapsed": 53578,
     "status": "ok",
     "timestamp": 1615649208548,
     "user": {
      "displayName": "Ronald Seoh",
      "photoUrl": "",
      "userId": "10284188050297676522"
     },
     "user_tz": 300
    },
    "id": "DUpGBmOJhbzs",
    "papermill": {
     "duration": 0.078926,
     "end_time": "2021-05-15T01:12:30.327830",
     "exception": false,
     "start_time": "2021-05-15T01:12:30.248904",
     "status": "completed"
    },
    "tags": [
     "parameters"
    ]
   },
   "outputs": [],
   "source": [
    "\n",
    "# We will use the following string ID to identify this particular (training) experiments\n",
    "# in directory paths and other settings\n",
    "experiment_id = 'supervised_nli_single_prompt_1_in_domain_restaurant_MNLI_base_seed_696'\n",
    "\n",
    "# Random seed\n",
    "random_seed = 696\n",
    "\n",
    "# path to pretrained nli model folder or the string \"textattack/bert-base-uncased-MNLI\"\n",
    "nli_model_path = \"textattack/bert-base-uncased-MNLI\"\n",
    "\n",
    "# Prompts to be added to the end of each review text\n",
    "sentiment_prompts = [\n",
    "    \"The {aspect} is good.\",\n",
    "    \"The {aspect} is bad.\"]\n",
    "\n",
    "#index of the prompts in the sentiment_prompts by polarity for later grouping\n",
    "pos_prompt_indexes = [0]\n",
    "neg_prompt_indexes = [1]\n",
    "\n",
    "testing_batch_size = 32\n",
    "testing_domain = 'restaurants' # 'laptops', 'restaurants', 'joint'\n",
    "\n",
    "experiment_id = \"nli_few_shot_in_domain_laptops_16_MNLI-base_the_aspect_is_696\"\n",
    "random_seed = 696\n",
    "nli_model_path = \"textattack/bert-base-uncased-MNLI\"\n",
    "sentiment_prompts = [\"The {aspect} is good.\", \"The {aspect} is bad.\"]\n",
    "pos_prompt_indexes = [0]\n",
    "neg_prompt_indexes = [1]\n",
    "testing_batch_size = 8\n",
    "testing_domain = \"restaurants\"\n",
    "sample_size = 16"
   ]
  },
  {
   "cell_type": "code",
   "execution_count": 3,
   "id": "2d2bf449",
   "metadata": {
    "execution": {
     "iopub.execute_input": "2021-05-15T01:12:30.469489Z",
     "iopub.status.busy": "2021-05-15T01:12:30.468849Z",
     "iopub.status.idle": "2021-05-15T01:12:30.472130Z",
     "shell.execute_reply": "2021-05-15T01:12:30.471606Z"
    },
    "papermill": {
     "duration": 0.077909,
     "end_time": "2021-05-15T01:12:30.472260",
     "exception": false,
     "start_time": "2021-05-15T01:12:30.394351",
     "status": "completed"
    },
    "tags": [
     "injected-parameters"
    ]
   },
   "outputs": [],
   "source": [
    "# Parameters\n",
    "experiment_id = \"nli_few_shot_in_domain_restaurants_16_MNLI-base_multi_prompt_683\"\n",
    "random_seed = 683\n",
    "nli_model_path = \"textattack/bert-base-uncased-MNLI\"\n",
    "sentiment_prompts = [\n",
    "    \"The {aspect} is good.\",\n",
    "    \"The {aspect} is bad.\",\n",
    "    \"I like the {aspect}.\",\n",
    "    \"I dislike the {aspect}.\",\n",
    "    \"The {aspect} made me feel good.\",\n",
    "    \"The {aspect} made me feel bad.\",\n",
    "    \"I felt the {aspect} was good.\",\n",
    "    \"I felt the {aspect} was bad.\",\n",
    "]\n",
    "pos_prompt_indexes = [0, 2, 4, 6]\n",
    "neg_prompt_indexes = [1, 3, 5, 7]\n",
    "testing_batch_size = 8\n",
    "testing_domain = \"restaurants\"\n",
    "sample_size = 16\n"
   ]
  },
  {
   "cell_type": "markdown",
   "id": "17fd1214",
   "metadata": {
    "id": "GYZesqTioMvF",
    "papermill": {
     "duration": 0.067022,
     "end_time": "2021-05-15T01:12:30.607645",
     "exception": false,
     "start_time": "2021-05-15T01:12:30.540623",
     "status": "completed"
    },
    "tags": []
   },
   "source": [
    "## Package imports"
   ]
  },
  {
   "cell_type": "code",
   "execution_count": 4,
   "id": "3115685c",
   "metadata": {
    "colab": {
     "base_uri": "https://localhost:8080/"
    },
    "execution": {
     "iopub.execute_input": "2021-05-15T01:12:30.754367Z",
     "iopub.status.busy": "2021-05-15T01:12:30.753324Z",
     "iopub.status.idle": "2021-05-15T01:12:34.068437Z",
     "shell.execute_reply": "2021-05-15T01:12:34.069522Z"
    },
    "executionInfo": {
     "elapsed": 62491,
     "status": "ok",
     "timestamp": 1615649217470,
     "user": {
      "displayName": "Ronald Seoh",
      "photoUrl": "",
      "userId": "10284188050297676522"
     },
     "user_tz": 300
    },
    "id": "MlK_-DrWhbzb",
    "outputId": "d7240323-9fb8-4b39-a919-61889e14a4a1",
    "papermill": {
     "duration": 3.396284,
     "end_time": "2021-05-15T01:12:34.069845",
     "exception": false,
     "start_time": "2021-05-15T01:12:30.673561",
     "status": "completed"
    },
    "tags": []
   },
   "outputs": [
    {
     "name": "stdout",
     "output_type": "stream",
     "text": [
      "Python version: 3.6.13 |Anaconda, Inc.| (default, Feb 23 2021, 21:15:04) \n",
      "[GCC 7.3.0]\n",
      "NumPy version: 1.19.5\n",
      "PyTorch version: 1.7.1\n",
      "Transformers version: 4.3.3\n"
     ]
    }
   ],
   "source": [
    "import sys\n",
    "import os\n",
    "import random\n",
    "import shutil\n",
    "import copy\n",
    "import inspect\n",
    "\n",
    "import numpy as np\n",
    "import torch\n",
    "import transformers\n",
    "import datasets\n",
    "import sklearn.metrics\n",
    "import pandas as pd\n",
    "import matplotlib.pyplot as plt\n",
    "import seaborn as sn\n",
    "import tqdm\n",
    "\n",
    "current_dir = os.path.dirname(os.path.abspath(inspect.getfile(inspect.currentframe())))\n",
    "parent_dir = os.path.dirname(current_dir)\n",
    "sys.path.append(parent_dir)\n",
    "\n",
    "import utils\n",
    "\n",
    "# Random seed settings\n",
    "random.seed(random_seed)\n",
    "np.random.seed(random_seed)\n",
    "# cuBLAS reproducibility\n",
    "# https://docs.nvidia.com/cuda/cublas/index.html#cublasApi_reproducibility\n",
    "os.environ['CUBLAS_WORKSPACE_CONFIG'] = \":4096:8\"\n",
    "torch.set_deterministic(True)\n",
    "torch.manual_seed(random_seed)\n",
    "\n",
    "# Print version information\n",
    "print(\"Python version: \" + sys.version)\n",
    "print(\"NumPy version: \" + np.__version__)\n",
    "print(\"PyTorch version: \" + torch.__version__)\n",
    "print(\"Transformers version: \" + transformers.__version__)"
   ]
  },
  {
   "cell_type": "markdown",
   "id": "54969db2",
   "metadata": {
    "id": "UWuR30eUoTWP",
    "papermill": {
     "duration": 0.069836,
     "end_time": "2021-05-15T01:12:34.236469",
     "exception": false,
     "start_time": "2021-05-15T01:12:34.166633",
     "status": "completed"
    },
    "tags": []
   },
   "source": [
    "## PyTorch GPU settings"
   ]
  },
  {
   "cell_type": "code",
   "execution_count": 5,
   "id": "5064153b",
   "metadata": {
    "colab": {
     "base_uri": "https://localhost:8080/"
    },
    "execution": {
     "iopub.execute_input": "2021-05-15T01:12:34.418148Z",
     "iopub.status.busy": "2021-05-15T01:12:34.414930Z",
     "iopub.status.idle": "2021-05-15T01:12:34.421420Z",
     "shell.execute_reply": "2021-05-15T01:12:34.422440Z"
    },
    "executionInfo": {
     "elapsed": 62482,
     "status": "ok",
     "timestamp": 1615649217472,
     "user": {
      "displayName": "Ronald Seoh",
      "photoUrl": "",
      "userId": "10284188050297676522"
     },
     "user_tz": 300
    },
    "id": "PfNlm-ykoSlM",
    "outputId": "cd87501f-5f8a-4a4f-ac74-b792c35183d0",
    "papermill": {
     "duration": 0.119463,
     "end_time": "2021-05-15T01:12:34.422713",
     "exception": false,
     "start_time": "2021-05-15T01:12:34.303250",
     "status": "completed"
    },
    "tags": []
   },
   "outputs": [
    {
     "name": "stdout",
     "output_type": "stream",
     "text": [
      "CUDA Version: 10.2\n",
      "cuDNN Version: 7605\n",
      "CUDA Device Name: GeForce GTX TITAN X\n",
      "CUDA Capabilities: (5, 2)\n",
      "Number of CUDA devices: 1\n",
      "\n",
      "PyTorch device selected: cuda\n"
     ]
    }
   ],
   "source": [
    "\n",
    "if torch.cuda.is_available():    \n",
    "    torch_device = torch.device('cuda')\n",
    "\n",
    "    # Set this to True to make your output immediately reproducible\n",
    "    # Note: https://pytorch.org/docs/stable/notes/randomness.html\n",
    "    torch.backends.cudnn.deterministic = True\n",
    "    \n",
    "    # Disable 'benchmark' mode: Set this False if you want to measure running times more fairly\n",
    "    # Note: https://discuss.pytorch.org/t/what-does-torch-backends-cudnn-benchmark-do/5936\n",
    "    torch.backends.cudnn.benchmark = False\n",
    "    \n",
    "    # Faster Host to GPU copies with page-locked memory\n",
    "    use_pin_memory = True\n",
    "    \n",
    "    # Number of compute devices to be used for training\n",
    "    training_device_count = torch.cuda.device_count()\n",
    "\n",
    "    # CUDA libraries version information\n",
    "    print(\"CUDA Version: \" + str(torch.version.cuda))\n",
    "    print(\"cuDNN Version: \" + str(torch.backends.cudnn.version()))\n",
    "    print(\"CUDA Device Name: \" + str(torch.cuda.get_device_name()))\n",
    "    print(\"CUDA Capabilities: \"+ str(torch.cuda.get_device_capability()))\n",
    "    print(\"Number of CUDA devices: \"+ str(training_device_count))\n",
    "    \n",
    "else:\n",
    "    torch_device = torch.device('cpu')\n",
    "    use_pin_memory = False\n",
    "    \n",
    "    # Number of compute devices to be used for training\n",
    "    training_device_count = 1\n",
    "\n",
    "print()\n",
    "print(\"PyTorch device selected:\", torch_device)"
   ]
  },
  {
   "cell_type": "markdown",
   "id": "7552c61d",
   "metadata": {
    "id": "ayX5VRLfocFk",
    "papermill": {
     "duration": 0.069736,
     "end_time": "2021-05-15T01:12:34.587952",
     "exception": false,
     "start_time": "2021-05-15T01:12:34.518216",
     "status": "completed"
    },
    "tags": []
   },
   "source": [
    "# Prepare Datasets for Prompt-based Classifier"
   ]
  },
  {
   "cell_type": "markdown",
   "id": "ab99beab",
   "metadata": {
    "id": "U9LAAJP-hbz7",
    "papermill": {
     "duration": 0.066849,
     "end_time": "2021-05-15T01:12:34.722207",
     "exception": false,
     "start_time": "2021-05-15T01:12:34.655358",
     "status": "completed"
    },
    "tags": []
   },
   "source": [
    "## Load the SemEval dataset"
   ]
  },
  {
   "cell_type": "code",
   "execution_count": 6,
   "id": "7cb7313a",
   "metadata": {
    "colab": {
     "base_uri": "https://localhost:8080/",
     "height": 124,
     "referenced_widgets": [
      "f918ef555397425e82189c25be52b864",
      "fe29b874150c49d394b67b8e112fa837",
      "47fa4d3ca48945798c59a4b95fb5ef4b",
      "e8fbb242c47c478ba21d5b2686a0b37c",
      "b35ab0c6049046f1a10838a1a4fdb19d",
      "ab847001167a415a8be9f2b7172f500b",
      "030c838b7a16478d8719b2de55aa94ba",
      "d82e377d2ec74ed6ad6c1ed2b421f82b",
      "74723ce0259440c89d881c7ad0be4204",
      "6aad513853944ee092dad62fe6a8dfeb",
      "c1d1afc7ef3b45d4860bcba6fe90763f",
      "a4eeffe099cf46e7aab9e096f5ba93af",
      "7d7d459f08f74b3db47ae51c0c1a7771",
      "8b1e70e3d7244398859ae6abaf945dfe",
      "bd56dc0d05434043bc19fafa63d59a1d",
      "1c5abc026f1e4c58acaa4b82b62c47e9"
     ]
    },
    "execution": {
     "iopub.execute_input": "2021-05-15T01:12:34.864663Z",
     "iopub.status.busy": "2021-05-15T01:12:34.864020Z",
     "iopub.status.idle": "2021-05-15T01:12:34.903389Z",
     "shell.execute_reply": "2021-05-15T01:12:34.904293Z"
    },
    "executionInfo": {
     "elapsed": 69406,
     "status": "ok",
     "timestamp": 1615649224407,
     "user": {
      "displayName": "Ronald Seoh",
      "photoUrl": "",
      "userId": "10284188050297676522"
     },
     "user_tz": 300
    },
    "id": "gpL2uHPUhbz9",
    "outputId": "174ce16a-e9a2-4f7e-d9ae-441fecdfdddf",
    "papermill": {
     "duration": 0.114855,
     "end_time": "2021-05-15T01:12:34.904550",
     "exception": false,
     "start_time": "2021-05-15T01:12:34.789695",
     "status": "completed"
    },
    "tags": []
   },
   "outputs": [
    {
     "name": "stderr",
     "output_type": "stream",
     "text": [
      "Reusing dataset sem_eval2014_task4_dataset (../dataset_cache/sem_eval2014_task4_dataset/SemEval2014Task4Dataset - Subtask 4/0.0.1/537edd3b5fdbdb1f3190419cf0a53a4fab3537bc666f17c8c75fa8d0b554e529)\n"
     ]
    }
   ],
   "source": [
    "# Load semeval for both domains\n",
    "restaurant_semeval_dataset = datasets.load_dataset(\n",
    "    os.path.abspath('../dataset_scripts/semeval2014_task4/semeval2014_task4.py'),\n",
    "    name=\"SemEval2014Task4Dataset - Subtask 4\",\n",
    "    data_files={\n",
    "        'test': '../dataset_files/semeval_2014/Restaurants_Test_Gold.xml',\n",
    "        'train': '../dataset_files/semeval_2014/Restaurants_Train_v2.xml',\n",
    "    },\n",
    "    cache_dir='../dataset_cache')"
   ]
  },
  {
   "cell_type": "code",
   "execution_count": 7,
   "id": "08461cbb",
   "metadata": {
    "execution": {
     "iopub.execute_input": "2021-05-15T01:12:35.071641Z",
     "iopub.status.busy": "2021-05-15T01:12:35.071020Z",
     "iopub.status.idle": "2021-05-15T01:12:35.074647Z",
     "shell.execute_reply": "2021-05-15T01:12:35.074128Z"
    },
    "executionInfo": {
     "elapsed": 69403,
     "status": "ok",
     "timestamp": 1615649224415,
     "user": {
      "displayName": "Ronald Seoh",
      "photoUrl": "",
      "userId": "10284188050297676522"
     },
     "user_tz": 300
    },
    "id": "Gi5m8AbPj1iJ",
    "papermill": {
     "duration": 0.07826,
     "end_time": "2021-05-15T01:12:35.074779",
     "exception": false,
     "start_time": "2021-05-15T01:12:34.996519",
     "status": "completed"
    },
    "tags": []
   },
   "outputs": [],
   "source": [
    "dataset_dic_test = {\n",
    "    \"restaurants\": restaurant_semeval_dataset['test']\n",
    "}"
   ]
  },
  {
   "cell_type": "code",
   "execution_count": 8,
   "id": "343a023b",
   "metadata": {
    "execution": {
     "iopub.execute_input": "2021-05-15T01:12:35.216941Z",
     "iopub.status.busy": "2021-05-15T01:12:35.216296Z",
     "iopub.status.idle": "2021-05-15T01:12:35.219597Z",
     "shell.execute_reply": "2021-05-15T01:12:35.220128Z"
    },
    "papermill": {
     "duration": 0.077971,
     "end_time": "2021-05-15T01:12:35.220274",
     "exception": false,
     "start_time": "2021-05-15T01:12:35.142303",
     "status": "completed"
    },
    "tags": []
   },
   "outputs": [],
   "source": [
    "test_set = dataset_dic_test[testing_domain]"
   ]
  },
  {
   "cell_type": "code",
   "execution_count": 9,
   "id": "4394f5e3",
   "metadata": {
    "colab": {
     "base_uri": "https://localhost:8080/"
    },
    "execution": {
     "iopub.execute_input": "2021-05-15T01:12:35.361143Z",
     "iopub.status.busy": "2021-05-15T01:12:35.360478Z",
     "iopub.status.idle": "2021-05-15T01:12:35.363384Z",
     "shell.execute_reply": "2021-05-15T01:12:35.363885Z"
    },
    "executionInfo": {
     "elapsed": 69558,
     "status": "ok",
     "timestamp": 1615649224592,
     "user": {
      "displayName": "Ronald Seoh",
      "photoUrl": "",
      "userId": "10284188050297676522"
     },
     "user_tz": 300
    },
    "id": "Tu7xUHpGkzCm",
    "outputId": "cb6d1569-85ba-4062-8d2e-ceac29ebfce6",
    "papermill": {
     "duration": 0.076055,
     "end_time": "2021-05-15T01:12:35.364038",
     "exception": false,
     "start_time": "2021-05-15T01:12:35.287983",
     "status": "completed"
    },
    "tags": []
   },
   "outputs": [
    {
     "name": "stdout",
     "output_type": "stream",
     "text": [
      "{'aspect': 'food', 'sentiment': 0, 'text': 'The bread is top notch as well.'}\n"
     ]
    }
   ],
   "source": [
    "print(test_set[0])"
   ]
  },
  {
   "cell_type": "markdown",
   "id": "21e46c44",
   "metadata": {
    "id": "3jNAtuv-hbzv",
    "papermill": {
     "duration": 0.068461,
     "end_time": "2021-05-15T01:12:35.500904",
     "exception": false,
     "start_time": "2021-05-15T01:12:35.432443",
     "status": "completed"
    },
    "tags": []
   },
   "source": [
    "## Load the pretrained LM"
   ]
  },
  {
   "cell_type": "code",
   "execution_count": 10,
   "id": "c58bb2f6",
   "metadata": {
    "execution": {
     "iopub.execute_input": "2021-05-15T01:12:35.646544Z",
     "iopub.status.busy": "2021-05-15T01:12:35.645906Z",
     "iopub.status.idle": "2021-05-15T01:12:41.657448Z",
     "shell.execute_reply": "2021-05-15T01:12:41.656383Z"
    },
    "executionInfo": {
     "elapsed": 84199,
     "status": "ok",
     "timestamp": 1615649239241,
     "user": {
      "displayName": "Ronald Seoh",
      "photoUrl": "",
      "userId": "10284188050297676522"
     },
     "user_tz": 300
    },
    "id": "En2BmfjVhbzy",
    "papermill": {
     "duration": 6.088972,
     "end_time": "2021-05-15T01:12:41.657672",
     "exception": false,
     "start_time": "2021-05-15T01:12:35.568700",
     "status": "completed"
    },
    "tags": []
   },
   "outputs": [],
   "source": [
    "# Load pretrained language model\n",
    "nli_model = transformers.AutoModelForSequenceClassification.from_pretrained(nli_model_path)\n",
    "tokenizer = transformers.AutoTokenizer.from_pretrained(\"textattack/bert-base-uncased-MNLI\", cache_dir='../bert_base_cache')"
   ]
  },
  {
   "cell_type": "code",
   "execution_count": 11,
   "id": "1ddf56a9",
   "metadata": {
    "execution": {
     "iopub.execute_input": "2021-05-15T01:12:41.831292Z",
     "iopub.status.busy": "2021-05-15T01:12:41.830655Z",
     "iopub.status.idle": "2021-05-15T01:12:44.778763Z",
     "shell.execute_reply": "2021-05-15T01:12:44.779761Z"
    },
    "papermill": {
     "duration": 3.026434,
     "end_time": "2021-05-15T01:12:44.780045",
     "exception": false,
     "start_time": "2021-05-15T01:12:41.753611",
     "status": "completed"
    },
    "tags": []
   },
   "outputs": [
    {
     "data": {
      "text/plain": [
       "NLISentimentClassificationHead(\n",
       "  (nli_model): BertForSequenceClassification(\n",
       "    (bert): BertModel(\n",
       "      (embeddings): BertEmbeddings(\n",
       "        (word_embeddings): Embedding(30522, 768, padding_idx=0)\n",
       "        (position_embeddings): Embedding(512, 768)\n",
       "        (token_type_embeddings): Embedding(2, 768)\n",
       "        (LayerNorm): LayerNorm((768,), eps=1e-12, elementwise_affine=True)\n",
       "        (dropout): Dropout(p=0.1, inplace=False)\n",
       "      )\n",
       "      (encoder): BertEncoder(\n",
       "        (layer): ModuleList(\n",
       "          (0): BertLayer(\n",
       "            (attention): BertAttention(\n",
       "              (self): BertSelfAttention(\n",
       "                (query): Linear(in_features=768, out_features=768, bias=True)\n",
       "                (key): Linear(in_features=768, out_features=768, bias=True)\n",
       "                (value): Linear(in_features=768, out_features=768, bias=True)\n",
       "                (dropout): Dropout(p=0.1, inplace=False)\n",
       "              )\n",
       "              (output): BertSelfOutput(\n",
       "                (dense): Linear(in_features=768, out_features=768, bias=True)\n",
       "                (LayerNorm): LayerNorm((768,), eps=1e-12, elementwise_affine=True)\n",
       "                (dropout): Dropout(p=0.1, inplace=False)\n",
       "              )\n",
       "            )\n",
       "            (intermediate): BertIntermediate(\n",
       "              (dense): Linear(in_features=768, out_features=3072, bias=True)\n",
       "            )\n",
       "            (output): BertOutput(\n",
       "              (dense): Linear(in_features=3072, out_features=768, bias=True)\n",
       "              (LayerNorm): LayerNorm((768,), eps=1e-12, elementwise_affine=True)\n",
       "              (dropout): Dropout(p=0.1, inplace=False)\n",
       "            )\n",
       "          )\n",
       "          (1): BertLayer(\n",
       "            (attention): BertAttention(\n",
       "              (self): BertSelfAttention(\n",
       "                (query): Linear(in_features=768, out_features=768, bias=True)\n",
       "                (key): Linear(in_features=768, out_features=768, bias=True)\n",
       "                (value): Linear(in_features=768, out_features=768, bias=True)\n",
       "                (dropout): Dropout(p=0.1, inplace=False)\n",
       "              )\n",
       "              (output): BertSelfOutput(\n",
       "                (dense): Linear(in_features=768, out_features=768, bias=True)\n",
       "                (LayerNorm): LayerNorm((768,), eps=1e-12, elementwise_affine=True)\n",
       "                (dropout): Dropout(p=0.1, inplace=False)\n",
       "              )\n",
       "            )\n",
       "            (intermediate): BertIntermediate(\n",
       "              (dense): Linear(in_features=768, out_features=3072, bias=True)\n",
       "            )\n",
       "            (output): BertOutput(\n",
       "              (dense): Linear(in_features=3072, out_features=768, bias=True)\n",
       "              (LayerNorm): LayerNorm((768,), eps=1e-12, elementwise_affine=True)\n",
       "              (dropout): Dropout(p=0.1, inplace=False)\n",
       "            )\n",
       "          )\n",
       "          (2): BertLayer(\n",
       "            (attention): BertAttention(\n",
       "              (self): BertSelfAttention(\n",
       "                (query): Linear(in_features=768, out_features=768, bias=True)\n",
       "                (key): Linear(in_features=768, out_features=768, bias=True)\n",
       "                (value): Linear(in_features=768, out_features=768, bias=True)\n",
       "                (dropout): Dropout(p=0.1, inplace=False)\n",
       "              )\n",
       "              (output): BertSelfOutput(\n",
       "                (dense): Linear(in_features=768, out_features=768, bias=True)\n",
       "                (LayerNorm): LayerNorm((768,), eps=1e-12, elementwise_affine=True)\n",
       "                (dropout): Dropout(p=0.1, inplace=False)\n",
       "              )\n",
       "            )\n",
       "            (intermediate): BertIntermediate(\n",
       "              (dense): Linear(in_features=768, out_features=3072, bias=True)\n",
       "            )\n",
       "            (output): BertOutput(\n",
       "              (dense): Linear(in_features=3072, out_features=768, bias=True)\n",
       "              (LayerNorm): LayerNorm((768,), eps=1e-12, elementwise_affine=True)\n",
       "              (dropout): Dropout(p=0.1, inplace=False)\n",
       "            )\n",
       "          )\n",
       "          (3): BertLayer(\n",
       "            (attention): BertAttention(\n",
       "              (self): BertSelfAttention(\n",
       "                (query): Linear(in_features=768, out_features=768, bias=True)\n",
       "                (key): Linear(in_features=768, out_features=768, bias=True)\n",
       "                (value): Linear(in_features=768, out_features=768, bias=True)\n",
       "                (dropout): Dropout(p=0.1, inplace=False)\n",
       "              )\n",
       "              (output): BertSelfOutput(\n",
       "                (dense): Linear(in_features=768, out_features=768, bias=True)\n",
       "                (LayerNorm): LayerNorm((768,), eps=1e-12, elementwise_affine=True)\n",
       "                (dropout): Dropout(p=0.1, inplace=False)\n",
       "              )\n",
       "            )\n",
       "            (intermediate): BertIntermediate(\n",
       "              (dense): Linear(in_features=768, out_features=3072, bias=True)\n",
       "            )\n",
       "            (output): BertOutput(\n",
       "              (dense): Linear(in_features=3072, out_features=768, bias=True)\n",
       "              (LayerNorm): LayerNorm((768,), eps=1e-12, elementwise_affine=True)\n",
       "              (dropout): Dropout(p=0.1, inplace=False)\n",
       "            )\n",
       "          )\n",
       "          (4): BertLayer(\n",
       "            (attention): BertAttention(\n",
       "              (self): BertSelfAttention(\n",
       "                (query): Linear(in_features=768, out_features=768, bias=True)\n",
       "                (key): Linear(in_features=768, out_features=768, bias=True)\n",
       "                (value): Linear(in_features=768, out_features=768, bias=True)\n",
       "                (dropout): Dropout(p=0.1, inplace=False)\n",
       "              )\n",
       "              (output): BertSelfOutput(\n",
       "                (dense): Linear(in_features=768, out_features=768, bias=True)\n",
       "                (LayerNorm): LayerNorm((768,), eps=1e-12, elementwise_affine=True)\n",
       "                (dropout): Dropout(p=0.1, inplace=False)\n",
       "              )\n",
       "            )\n",
       "            (intermediate): BertIntermediate(\n",
       "              (dense): Linear(in_features=768, out_features=3072, bias=True)\n",
       "            )\n",
       "            (output): BertOutput(\n",
       "              (dense): Linear(in_features=3072, out_features=768, bias=True)\n",
       "              (LayerNorm): LayerNorm((768,), eps=1e-12, elementwise_affine=True)\n",
       "              (dropout): Dropout(p=0.1, inplace=False)\n",
       "            )\n",
       "          )\n",
       "          (5): BertLayer(\n",
       "            (attention): BertAttention(\n",
       "              (self): BertSelfAttention(\n",
       "                (query): Linear(in_features=768, out_features=768, bias=True)\n",
       "                (key): Linear(in_features=768, out_features=768, bias=True)\n",
       "                (value): Linear(in_features=768, out_features=768, bias=True)\n",
       "                (dropout): Dropout(p=0.1, inplace=False)\n",
       "              )\n",
       "              (output): BertSelfOutput(\n",
       "                (dense): Linear(in_features=768, out_features=768, bias=True)\n",
       "                (LayerNorm): LayerNorm((768,), eps=1e-12, elementwise_affine=True)\n",
       "                (dropout): Dropout(p=0.1, inplace=False)\n",
       "              )\n",
       "            )\n",
       "            (intermediate): BertIntermediate(\n",
       "              (dense): Linear(in_features=768, out_features=3072, bias=True)\n",
       "            )\n",
       "            (output): BertOutput(\n",
       "              (dense): Linear(in_features=3072, out_features=768, bias=True)\n",
       "              (LayerNorm): LayerNorm((768,), eps=1e-12, elementwise_affine=True)\n",
       "              (dropout): Dropout(p=0.1, inplace=False)\n",
       "            )\n",
       "          )\n",
       "          (6): BertLayer(\n",
       "            (attention): BertAttention(\n",
       "              (self): BertSelfAttention(\n",
       "                (query): Linear(in_features=768, out_features=768, bias=True)\n",
       "                (key): Linear(in_features=768, out_features=768, bias=True)\n",
       "                (value): Linear(in_features=768, out_features=768, bias=True)\n",
       "                (dropout): Dropout(p=0.1, inplace=False)\n",
       "              )\n",
       "              (output): BertSelfOutput(\n",
       "                (dense): Linear(in_features=768, out_features=768, bias=True)\n",
       "                (LayerNorm): LayerNorm((768,), eps=1e-12, elementwise_affine=True)\n",
       "                (dropout): Dropout(p=0.1, inplace=False)\n",
       "              )\n",
       "            )\n",
       "            (intermediate): BertIntermediate(\n",
       "              (dense): Linear(in_features=768, out_features=3072, bias=True)\n",
       "            )\n",
       "            (output): BertOutput(\n",
       "              (dense): Linear(in_features=3072, out_features=768, bias=True)\n",
       "              (LayerNorm): LayerNorm((768,), eps=1e-12, elementwise_affine=True)\n",
       "              (dropout): Dropout(p=0.1, inplace=False)\n",
       "            )\n",
       "          )\n",
       "          (7): BertLayer(\n",
       "            (attention): BertAttention(\n",
       "              (self): BertSelfAttention(\n",
       "                (query): Linear(in_features=768, out_features=768, bias=True)\n",
       "                (key): Linear(in_features=768, out_features=768, bias=True)\n",
       "                (value): Linear(in_features=768, out_features=768, bias=True)\n",
       "                (dropout): Dropout(p=0.1, inplace=False)\n",
       "              )\n",
       "              (output): BertSelfOutput(\n",
       "                (dense): Linear(in_features=768, out_features=768, bias=True)\n",
       "                (LayerNorm): LayerNorm((768,), eps=1e-12, elementwise_affine=True)\n",
       "                (dropout): Dropout(p=0.1, inplace=False)\n",
       "              )\n",
       "            )\n",
       "            (intermediate): BertIntermediate(\n",
       "              (dense): Linear(in_features=768, out_features=3072, bias=True)\n",
       "            )\n",
       "            (output): BertOutput(\n",
       "              (dense): Linear(in_features=3072, out_features=768, bias=True)\n",
       "              (LayerNorm): LayerNorm((768,), eps=1e-12, elementwise_affine=True)\n",
       "              (dropout): Dropout(p=0.1, inplace=False)\n",
       "            )\n",
       "          )\n",
       "          (8): BertLayer(\n",
       "            (attention): BertAttention(\n",
       "              (self): BertSelfAttention(\n",
       "                (query): Linear(in_features=768, out_features=768, bias=True)\n",
       "                (key): Linear(in_features=768, out_features=768, bias=True)\n",
       "                (value): Linear(in_features=768, out_features=768, bias=True)\n",
       "                (dropout): Dropout(p=0.1, inplace=False)\n",
       "              )\n",
       "              (output): BertSelfOutput(\n",
       "                (dense): Linear(in_features=768, out_features=768, bias=True)\n",
       "                (LayerNorm): LayerNorm((768,), eps=1e-12, elementwise_affine=True)\n",
       "                (dropout): Dropout(p=0.1, inplace=False)\n",
       "              )\n",
       "            )\n",
       "            (intermediate): BertIntermediate(\n",
       "              (dense): Linear(in_features=768, out_features=3072, bias=True)\n",
       "            )\n",
       "            (output): BertOutput(\n",
       "              (dense): Linear(in_features=3072, out_features=768, bias=True)\n",
       "              (LayerNorm): LayerNorm((768,), eps=1e-12, elementwise_affine=True)\n",
       "              (dropout): Dropout(p=0.1, inplace=False)\n",
       "            )\n",
       "          )\n",
       "          (9): BertLayer(\n",
       "            (attention): BertAttention(\n",
       "              (self): BertSelfAttention(\n",
       "                (query): Linear(in_features=768, out_features=768, bias=True)\n",
       "                (key): Linear(in_features=768, out_features=768, bias=True)\n",
       "                (value): Linear(in_features=768, out_features=768, bias=True)\n",
       "                (dropout): Dropout(p=0.1, inplace=False)\n",
       "              )\n",
       "              (output): BertSelfOutput(\n",
       "                (dense): Linear(in_features=768, out_features=768, bias=True)\n",
       "                (LayerNorm): LayerNorm((768,), eps=1e-12, elementwise_affine=True)\n",
       "                (dropout): Dropout(p=0.1, inplace=False)\n",
       "              )\n",
       "            )\n",
       "            (intermediate): BertIntermediate(\n",
       "              (dense): Linear(in_features=768, out_features=3072, bias=True)\n",
       "            )\n",
       "            (output): BertOutput(\n",
       "              (dense): Linear(in_features=3072, out_features=768, bias=True)\n",
       "              (LayerNorm): LayerNorm((768,), eps=1e-12, elementwise_affine=True)\n",
       "              (dropout): Dropout(p=0.1, inplace=False)\n",
       "            )\n",
       "          )\n",
       "          (10): BertLayer(\n",
       "            (attention): BertAttention(\n",
       "              (self): BertSelfAttention(\n",
       "                (query): Linear(in_features=768, out_features=768, bias=True)\n",
       "                (key): Linear(in_features=768, out_features=768, bias=True)\n",
       "                (value): Linear(in_features=768, out_features=768, bias=True)\n",
       "                (dropout): Dropout(p=0.1, inplace=False)\n",
       "              )\n",
       "              (output): BertSelfOutput(\n",
       "                (dense): Linear(in_features=768, out_features=768, bias=True)\n",
       "                (LayerNorm): LayerNorm((768,), eps=1e-12, elementwise_affine=True)\n",
       "                (dropout): Dropout(p=0.1, inplace=False)\n",
       "              )\n",
       "            )\n",
       "            (intermediate): BertIntermediate(\n",
       "              (dense): Linear(in_features=768, out_features=3072, bias=True)\n",
       "            )\n",
       "            (output): BertOutput(\n",
       "              (dense): Linear(in_features=3072, out_features=768, bias=True)\n",
       "              (LayerNorm): LayerNorm((768,), eps=1e-12, elementwise_affine=True)\n",
       "              (dropout): Dropout(p=0.1, inplace=False)\n",
       "            )\n",
       "          )\n",
       "          (11): BertLayer(\n",
       "            (attention): BertAttention(\n",
       "              (self): BertSelfAttention(\n",
       "                (query): Linear(in_features=768, out_features=768, bias=True)\n",
       "                (key): Linear(in_features=768, out_features=768, bias=True)\n",
       "                (value): Linear(in_features=768, out_features=768, bias=True)\n",
       "                (dropout): Dropout(p=0.1, inplace=False)\n",
       "              )\n",
       "              (output): BertSelfOutput(\n",
       "                (dense): Linear(in_features=768, out_features=768, bias=True)\n",
       "                (LayerNorm): LayerNorm((768,), eps=1e-12, elementwise_affine=True)\n",
       "                (dropout): Dropout(p=0.1, inplace=False)\n",
       "              )\n",
       "            )\n",
       "            (intermediate): BertIntermediate(\n",
       "              (dense): Linear(in_features=768, out_features=3072, bias=True)\n",
       "            )\n",
       "            (output): BertOutput(\n",
       "              (dense): Linear(in_features=3072, out_features=768, bias=True)\n",
       "              (LayerNorm): LayerNorm((768,), eps=1e-12, elementwise_affine=True)\n",
       "              (dropout): Dropout(p=0.1, inplace=False)\n",
       "            )\n",
       "          )\n",
       "        )\n",
       "      )\n",
       "      (pooler): BertPooler(\n",
       "        (dense): Linear(in_features=768, out_features=768, bias=True)\n",
       "        (activation): Tanh()\n",
       "      )\n",
       "    )\n",
       "    (dropout): Dropout(p=0.1, inplace=False)\n",
       "    (classifier): Linear(in_features=768, out_features=3, bias=True)\n",
       "  )\n",
       ")"
      ]
     },
     "execution_count": 11,
     "metadata": {},
     "output_type": "execute_result"
    }
   ],
   "source": [
    "classifier = utils.NLISentimentClassificationHead(\n",
    "                    nli_model = nli_model,\n",
    "                    num_prompts = len(sentiment_prompts),\n",
    "                    pos_prompt_indexes = pos_prompt_indexes,\n",
    "                    neg_prompt_indexes = neg_prompt_indexes\n",
    "                    )\n",
    "classifier.to(torch_device)"
   ]
  },
  {
   "cell_type": "code",
   "execution_count": 12,
   "id": "df05b2c5",
   "metadata": {
    "execution": {
     "iopub.execute_input": "2021-05-15T01:12:44.960540Z",
     "iopub.status.busy": "2021-05-15T01:12:44.959892Z",
     "iopub.status.idle": "2021-05-15T01:12:51.266544Z",
     "shell.execute_reply": "2021-05-15T01:12:51.267406Z"
    },
    "papermill": {
     "duration": 6.38833,
     "end_time": "2021-05-15T01:12:51.267651",
     "exception": false,
     "start_time": "2021-05-15T01:12:44.879321",
     "status": "completed"
    },
    "tags": []
   },
   "outputs": [
    {
     "name": "stdout",
     "output_type": "stream",
     "text": [
      "Loading epoch_19.pt\n"
     ]
    },
    {
     "data": {
      "text/plain": [
       "<All keys matched successfully>"
      ]
     },
     "execution_count": 12,
     "metadata": {},
     "output_type": "execute_result"
    }
   ],
   "source": [
    "# Locate the weight file.\n",
    "trained_model_directory = os.path.join('..', 'trained_models', experiment_id)\n",
    "\n",
    "saved_weights_name = ''\n",
    "\n",
    "for fname in os.listdir(trained_model_directory):\n",
    "    if fname.startswith('epoch'):\n",
    "        saved_weights_name = fname\n",
    "        break\n",
    "\n",
    "print(\"Loading\", saved_weights_name)\n",
    "\n",
    "classifier.load_state_dict(torch.load(\n",
    "    os.path.join(trained_model_directory, saved_weights_name),\n",
    "    map_location=torch_device))"
   ]
  },
  {
   "cell_type": "code",
   "execution_count": 13,
   "id": "d17e7250",
   "metadata": {
    "execution": {
     "iopub.execute_input": "2021-05-15T01:12:51.457227Z",
     "iopub.status.busy": "2021-05-15T01:12:51.455966Z",
     "iopub.status.idle": "2021-05-15T01:12:51.459494Z",
     "shell.execute_reply": "2021-05-15T01:12:51.460022Z"
    },
    "executionInfo": {
     "elapsed": 379,
     "status": "ok",
     "timestamp": 1615649260278,
     "user": {
      "displayName": "Ronald Seoh",
      "photoUrl": "",
      "userId": "10284188050297676522"
     },
     "user_tz": 300
    },
    "id": "0S80DoYrqApi",
    "papermill": {
     "duration": 0.083557,
     "end_time": "2021-05-15T01:12:51.460174",
     "exception": false,
     "start_time": "2021-05-15T01:12:51.376617",
     "status": "completed"
    },
    "tags": []
   },
   "outputs": [],
   "source": [
    "def compute_metrics(predictions, labels):\n",
    "    preds = predictions.argmax(-1)\n",
    "\n",
    "    precision, recall, f1, _ = sklearn.metrics.precision_recall_fscore_support(\n",
    "        y_true=labels, y_pred=preds, labels=[0,1,2], average='macro')\n",
    "\n",
    "    acc = sklearn.metrics.accuracy_score(labels, preds)\n",
    "\n",
    "    return {\n",
    "        'accuracy': acc,\n",
    "        'f1': f1,\n",
    "        'precision': precision,\n",
    "        'recall': recall\n",
    "    }"
   ]
  },
  {
   "cell_type": "code",
   "execution_count": 14,
   "id": "89734093",
   "metadata": {
    "execution": {
     "iopub.execute_input": "2021-05-15T01:12:51.607728Z",
     "iopub.status.busy": "2021-05-15T01:12:51.607070Z",
     "iopub.status.idle": "2021-05-15T01:12:51.609434Z",
     "shell.execute_reply": "2021-05-15T01:12:51.609974Z"
    },
    "executionInfo": {
     "elapsed": 526,
     "status": "ok",
     "timestamp": 1615652664827,
     "user": {
      "displayName": "Ronald Seoh",
      "photoUrl": "",
      "userId": "10284188050297676522"
     },
     "user_tz": 300
    },
    "id": "9NXoBTs5h2eO",
    "papermill": {
     "duration": 0.079943,
     "end_time": "2021-05-15T01:12:51.610127",
     "exception": false,
     "start_time": "2021-05-15T01:12:51.530184",
     "status": "completed"
    },
    "tags": []
   },
   "outputs": [],
   "source": [
    "test_dataloader = torch.utils.data.DataLoader(\n",
    "    test_set, batch_size=testing_batch_size, pin_memory=use_pin_memory)"
   ]
  },
  {
   "cell_type": "code",
   "execution_count": 15,
   "id": "c8f55cb3",
   "metadata": {
    "execution": {
     "iopub.execute_input": "2021-05-15T01:12:51.768885Z",
     "iopub.status.busy": "2021-05-15T01:12:51.768203Z",
     "iopub.status.idle": "2021-05-15T01:16:23.425874Z",
     "shell.execute_reply": "2021-05-15T01:16:23.426825Z"
    },
    "papermill": {
     "duration": 211.746528,
     "end_time": "2021-05-15T01:16:23.427144",
     "exception": false,
     "start_time": "2021-05-15T01:12:51.680616",
     "status": "completed"
    },
    "tags": []
   },
   "outputs": [
    {
     "data": {
      "application/vnd.jupyter.widget-view+json": {
       "model_id": "21766b39d5a44ff58f09ffa61f055f1f",
       "version_major": 2,
       "version_minor": 0
      },
      "text/plain": [
       "HBox(children=(FloatProgress(value=0.0, max=122.0), HTML(value='')))"
      ]
     },
     "metadata": {},
     "output_type": "display_data"
    },
    {
     "name": "stdout",
     "output_type": "stream",
     "text": [
      "\n",
      "{'accuracy': 0.6330935251798561, 'f1': 0.5781438590241322, 'precision': 0.6584107482767022, 'recall': 0.6566397350425331}\n"
     ]
    }
   ],
   "source": [
    "\n",
    "# Load the best found head weights\n",
    "with torch.no_grad():\n",
    "\n",
    "    classifier.eval()\n",
    "\n",
    "    predictions_test = torch.Tensor().to(torch_device)\n",
    "\n",
    "    labels_test = torch.Tensor().to(torch_device)\n",
    "\n",
    "    for batch_test in tqdm.notebook.tqdm(test_dataloader):\n",
    "\n",
    "        reviews_repeated = []\n",
    "        prompts_populated = []\n",
    "\n",
    "        for i in range(len(batch_test[\"text\"])):\n",
    "            \n",
    "            for prompt in sentiment_prompts:\n",
    "                reviews_repeated.append(batch_test[\"text\"][i])\n",
    "                prompts_populated.append(prompt.format(aspect=batch_test[\"aspect\"][i]))\n",
    "\n",
    "        batch_encoded = tokenizer(\n",
    "            reviews_repeated, prompts_populated,\n",
    "            padding='max_length', truncation='only_first', max_length=256,\n",
    "            return_tensors='pt')\n",
    "        \n",
    "        batch_encoded.to(torch_device)\n",
    "\n",
    "        nli_output = nli_model(**batch_encoded)[\"logits\"]\n",
    "\n",
    "        labels = batch_test[\"sentiment\"]\n",
    "        labels = labels.to(torch_device)\n",
    "        \n",
    "        outputs = classifier(batch_encoded)\n",
    "        \n",
    "        predictions_test = torch.cat([predictions_test, outputs])\n",
    "        labels_test = torch.cat([labels_test, labels])\n",
    "\n",
    "    # Compute metrics\n",
    "    test_metrics = compute_metrics(predictions_test.cpu(), labels_test.cpu())\n",
    "    \n",
    "    print(test_metrics)"
   ]
  },
  {
   "cell_type": "markdown",
   "id": "99b61626",
   "metadata": {
    "id": "HjpA_0m1hb08",
    "papermill": {
     "duration": 0.062308,
     "end_time": "2021-05-15T01:16:23.635932",
     "exception": false,
     "start_time": "2021-05-15T01:16:23.573624",
     "status": "completed"
    },
    "tags": []
   },
   "source": [
    "## Results visualization"
   ]
  },
  {
   "cell_type": "code",
   "execution_count": 16,
   "id": "2ed9ffd0",
   "metadata": {
    "colab": {
     "base_uri": "https://localhost:8080/",
     "height": 442
    },
    "execution": {
     "iopub.execute_input": "2021-05-15T01:16:23.767707Z",
     "iopub.status.busy": "2021-05-15T01:16:23.766765Z",
     "iopub.status.idle": "2021-05-15T01:16:24.040230Z",
     "shell.execute_reply": "2021-05-15T01:16:24.039142Z"
    },
    "executionInfo": {
     "elapsed": 57879,
     "status": "ok",
     "timestamp": 1615652727259,
     "user": {
      "displayName": "Ronald Seoh",
      "photoUrl": "",
      "userId": "10284188050297676522"
     },
     "user_tz": 300
    },
    "id": "w9G9AUeQhb09",
    "outputId": "c3233dd7-5d3e-4ac8-c9c8-dcae0b306f85",
    "papermill": {
     "duration": 0.342736,
     "end_time": "2021-05-15T01:16:24.040476",
     "exception": false,
     "start_time": "2021-05-15T01:16:23.697740",
     "status": "completed"
    },
    "tags": []
   },
   "outputs": [
    {
     "data": {
      "image/png": "[encoded data removed]",
      "text/plain": [
       "<Figure size 720x504 with 2 Axes>"
      ]
     },
     "metadata": {
      "needs_background": "light"
     },
     "output_type": "display_data"
    }
   ],
   "source": [
    "# Calculate metrics and confusion matrix based upon predictions and true labels\n",
    "cm = sklearn.metrics.confusion_matrix(labels_test.cpu().detach().numpy(), predictions_test.cpu().detach().numpy().argmax(-1), labels=[0,1,2])\n",
    "\n",
    "df_cm = pd.DataFrame(\n",
    "    cm,\n",
    "    index=[i for i in [\"positive\", \"negative\", \"neutral\"]],\n",
    "    columns=[i for i in [\"positive\", \"negative\", \"neutral\"]])\n",
    "\n",
    "plt.figure(figsize=(10, 7))\n",
    "\n",
    "ax = sn.heatmap(df_cm, annot=True, fmt=\"d\", cmap=\"Blues\")\n",
    "\n",
    "ax.set(xlabel='Predicted Label', ylabel='True Label')\n",
    "plt.show()"
   ]
  },
  {
   "cell_type": "code",
   "execution_count": null,
   "id": "76bace61",
   "metadata": {
    "papermill": {
     "duration": 0.076126,
     "end_time": "2021-05-15T01:16:24.222320",
     "exception": false,
     "start_time": "2021-05-15T01:16:24.146194",
     "status": "completed"
    },
    "tags": []
   },
   "outputs": [],
   "source": []
  }
 ],
 "metadata": {
  "accelerator": "GPU",
  "celltoolbar": "Tags",
  "colab": {
   "collapsed_sections": [],
   "name": "prompt_lr_atsc_bert_amazon_electronics.ipynb",
   "provenance": [],
   "toc_visible": true
  },
  "kernelspec": {
   "display_name": "Python 3",
   "language": "python",
   "name": "python3"
  },
  "language_info": {
   "codemirror_mode": {
    "name": "ipython",
    "version": 3
   },
   "file_extension": ".py",
   "mimetype": "text/x-python",
   "name": "python",
   "nbconvert_exporter": "python",
   "pygments_lexer": "ipython3",
   "version": "3.6.13"
  },
  "papermill": {
   "default_parameters": {},
   "duration": 237.139891,
   "end_time": "2021-05-15T01:16:25.307656",
   "environment_variables": {},
   "exception": null,
   "input_path": "nli_subtask4_template.ipynb",
   "output_path": "results_nli_few_shot_in_domain/nli_few_shot_in_domain_restaurants_16_MNLI-base_multi_prompt_683.ipynb",
   "parameters": {
    "experiment_id": "nli_few_shot_in_domain_restaurants_16_MNLI-base_multi_prompt_683",
    "neg_prompt_indexes": [
     1,
     3,
     5,
     7
    ],
    "nli_model_path": "textattack/bert-base-uncased-MNLI",
    "pos_prompt_indexes": [
     0,
     2,
     4,
     6
    ],
    "random_seed": 683,
    "sample_size": 16,
    "sentiment_prompts": [
     "The {aspect} is good.",
     "The {aspect} is bad.",
     "I like the {aspect}.",
     "I dislike the {aspect}.",
     "The {aspect} made me feel good.",
     "The {aspect} made me feel bad.",
     "I felt the {aspect} was good.",
     "I felt the {aspect} was bad."
    ],
    "testing_batch_size": 8,
    "testing_domain": "restaurants"
   },
   "start_time": "2021-05-15T01:12:28.167765",
   "version": "2.3.3"
  },
  "widgets": {
   "application/vnd.jupyter.widget-state+json": {
    "state": {
     "11fa2142de304cceba332be40f6215ff": {
      "model_module": "@jupyter-widgets/base",
      "model_module_version": "1.2.0",
      "model_name": "LayoutModel",
      "state": {
       "_model_module": "@jupyter-widgets/base",
       "_model_module_version": "1.2.0",
       "_model_name": "LayoutModel",
       "_view_count": null,
       "_view_module": "@jupyter-widgets/base",
       "_view_module_version": "1.2.0",
       "_view_name": "LayoutView",
       "align_content": null,
       "align_items": null,
       "align_self": null,
       "border": null,
       "bottom": null,
       "display": null,
       "flex": null,
       "flex_flow": null,
       "grid_area": null,
       "grid_auto_columns": null,
       "grid_auto_flow": null,
       "grid_auto_rows": null,
       "grid_column": null,
       "grid_gap": null,
       "grid_row": null,
       "grid_template_areas": null,
       "grid_template_columns": null,
       "grid_template_rows": null,
       "height": null,
       "justify_content": null,
       "justify_items": null,
       "left": null,
       "margin": null,
       "max_height": null,
       "max_width": null,
       "min_height": null,
       "min_width": null,
       "object_fit": null,
       "object_position": null,
       "order": null,
       "overflow": null,
       "overflow_x": null,
       "overflow_y": null,
       "padding": null,
       "right": null,
       "top": null,
       "visibility": null,
       "width": null
      }
     },
     "21766b39d5a44ff58f09ffa61f055f1f": {
      "model_module": "@jupyter-widgets/controls",
      "model_module_version": "1.5.0",
      "model_name": "HBoxModel",
      "state": {
       "_dom_classes": [],
       "_model_module": "@jupyter-widgets/controls",
       "_model_module_version": "1.5.0",
       "_model_name": "HBoxModel",
       "_view_count": null,
       "_view_module": "@jupyter-widgets/controls",
       "_view_module_version": "1.5.0",
       "_view_name": "HBoxView",
       "box_style": "",
       "children": [
        "IPY_MODEL_f17d7ad762dc429586182f747add19b4",
        "IPY_MODEL_c0b0cec287ec464d97fb01a0a2344c49"
       ],
       "layout": "IPY_MODEL_11fa2142de304cceba332be40f6215ff"
      }
     },
     "333284411d214487a742e71af63b2610": {
      "model_module": "@jupyter-widgets/controls",
      "model_module_version": "1.5.0",
      "model_name": "DescriptionStyleModel",
      "state": {
       "_model_module": "@jupyter-widgets/controls",
       "_model_module_version": "1.5.0",
       "_model_name": "DescriptionStyleModel",
       "_view_count": null,
       "_view_module": "@jupyter-widgets/base",
       "_view_module_version": "1.2.0",
       "_view_name": "StyleView",
       "description_width": ""
      }
     },
     "59cf8c0223c84d7c80fd0edfd6c5389e": {
      "model_module": "@jupyter-widgets/base",
      "model_module_version": "1.2.0",
      "model_name": "LayoutModel",
      "state": {
       "_model_module": "@jupyter-widgets/base",
       "_model_module_version": "1.2.0",
       "_model_name": "LayoutModel",
       "_view_count": null,
       "_view_module": "@jupyter-widgets/base",
       "_view_module_version": "1.2.0",
       "_view_name": "LayoutView",
       "align_content": null,
       "align_items": null,
       "align_self": null,
       "border": null,
       "bottom": null,
       "display": null,
       "flex": null,
       "flex_flow": null,
       "grid_area": null,
       "grid_auto_columns": null,
       "grid_auto_flow": null,
       "grid_auto_rows": null,
       "grid_column": null,
       "grid_gap": null,
       "grid_row": null,
       "grid_template_areas": null,
       "grid_template_columns": null,
       "grid_template_rows": null,
       "height": null,
       "justify_content": null,
       "justify_items": null,
       "left": null,
       "margin": null,
       "max_height": null,
       "max_width": null,
       "min_height": null,
       "min_width": null,
       "object_fit": null,
       "object_position": null,
       "order": null,
       "overflow": null,
       "overflow_x": null,
       "overflow_y": null,
       "padding": null,
       "right": null,
       "top": null,
       "visibility": null,
       "width": null
      }
     },
     "b73291329874470485bafa30ed9f942d": {
      "model_module": "@jupyter-widgets/controls",
      "model_module_version": "1.5.0",
      "model_name": "ProgressStyleModel",
      "state": {
       "_model_module": "@jupyter-widgets/controls",
       "_model_module_version": "1.5.0",
       "_model_name": "ProgressStyleModel",
       "_view_count": null,
       "_view_module": "@jupyter-widgets/base",
       "_view_module_version": "1.2.0",
       "_view_name": "StyleView",
       "bar_color": null,
       "description_width": "initial"
      }
     },
     "c0b0cec287ec464d97fb01a0a2344c49": {
      "model_module": "@jupyter-widgets/controls",
      "model_module_version": "1.5.0",
      "model_name": "HTMLModel",
      "state": {
       "_dom_classes": [],
       "_model_module": "@jupyter-widgets/controls",
       "_model_module_version": "1.5.0",
       "_model_name": "HTMLModel",
       "_view_count": null,
       "_view_module": "@jupyter-widgets/controls",
       "_view_module_version": "1.5.0",
       "_view_name": "HTMLView",
       "description": "",
       "description_tooltip": null,
       "layout": "IPY_MODEL_f114d2b3bddd49168eda1aa622a8cf2e",
       "placeholder": "​",
       "style": "IPY_MODEL_333284411d214487a742e71af63b2610",
       "value": " 122/122 [03:32&lt;00:00,  1.74s/it]"
      }
     },
     "f114d2b3bddd49168eda1aa622a8cf2e": {
      "model_module": "@jupyter-widgets/base",
      "model_module_version": "1.2.0",
      "model_name": "LayoutModel",
      "state": {
       "_model_module": "@jupyter-widgets/base",
       "_model_module_version": "1.2.0",
       "_model_name": "LayoutModel",
       "_view_count": null,
       "_view_module": "@jupyter-widgets/base",
       "_view_module_version": "1.2.0",
       "_view_name": "LayoutView",
       "align_content": null,
       "align_items": null,
       "align_self": null,
       "border": null,
       "bottom": null,
       "display": null,
       "flex": null,
       "flex_flow": null,
       "grid_area": null,
       "grid_auto_columns": null,
       "grid_auto_flow": null,
       "grid_auto_rows": null,
       "grid_column": null,
       "grid_gap": null,
       "grid_row": null,
       "grid_template_areas": null,
       "grid_template_columns": null,
       "grid_template_rows": null,
       "height": null,
       "justify_content": null,
       "justify_items": null,
       "left": null,
       "margin": null,
       "max_height": null,
       "max_width": null,
       "min_height": null,
       "min_width": null,
       "object_fit": null,
       "object_position": null,
       "order": null,
       "overflow": null,
       "overflow_x": null,
       "overflow_y": null,
       "padding": null,
       "right": null,
       "top": null,
       "visibility": null,
       "width": null
      }
     },
     "f17d7ad762dc429586182f747add19b4": {
      "model_module": "@jupyter-widgets/controls",
      "model_module_version": "1.5.0",
      "model_name": "FloatProgressModel",
      "state": {
       "_dom_classes": [],
       "_model_module": "@jupyter-widgets/controls",
       "_model_module_version": "1.5.0",
       "_model_name": "FloatProgressModel",
       "_view_count": null,
       "_view_module": "@jupyter-widgets/controls",
       "_view_module_version": "1.5.0",
       "_view_name": "ProgressView",
       "bar_style": "success",
       "description": "100%",
       "description_tooltip": null,
       "layout": "IPY_MODEL_59cf8c0223c84d7c80fd0edfd6c5389e",
       "max": 122.0,
       "min": 0.0,
       "orientation": "horizontal",
       "style": "IPY_MODEL_b73291329874470485bafa30ed9f942d",
       "value": 122.0
      }
     }
    },
    "version_major": 2,
    "version_minor": 0
   }
  }
 },
 "nbformat": 4,
 "nbformat_minor": 5
}