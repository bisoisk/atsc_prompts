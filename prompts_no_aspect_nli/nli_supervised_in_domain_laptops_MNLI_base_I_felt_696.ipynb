{
  "nbformat": 4,
  "nbformat_minor": 5,
  "metadata": {
    "accelerator": "GPU",
    "celltoolbar": "Tags",
    "colab": {
      "name": "nli_supervised_in_domain_laptops_MNLI-base_I_felt_696.ipynb",
      "provenance": [],
      "collapsed_sections": [],
      "toc_visible": true
    },
    "kernelspec": {
      "display_name": "Python 3",
      "language": "python",
      "name": "python3"
    },
    "language_info": {
      "codemirror_mode": {
        "name": "ipython",
        "version": 3
      },
      "file_extension": ".py",
      "mimetype": "text/x-python",
      "name": "python",
      "nbconvert_exporter": "python",
      "pygments_lexer": "ipython3",
      "version": "3.6.13"
    },
    "nteract": {
      "version": "0.28.0"
    },
    "papermill": {
      "default_parameters": {},
      "duration": 4131.042453,
      "end_time": "2021-04-14T10:26:33.868071",
      "environment_variables": {},
      "exception": null,
      "input_path": "nli_experiment_template.ipynb",
      "output_path": "results_nli_supervised_in_domain_laptops/nli_supervised_in_domain_laptops_MNLI-base_I_felt_696.ipynb",
      "parameters": {
        "experiment_id": "nli_supervised_in_domain_laptops_MNLI-base_I_felt_696",
        "neg_prompt_indexes": [
          1
        ],
        "nli_model_path": "textattack/bert-base-uncased-MNLI",
        "pos_prompt_indexes": [
          0
        ],
        "random_seed": 696,
        "sentiment_prompts": [
          "I felt the {aspect} was good.",
          "I felt the {aspect} was bad."
        ],
        "testing_batch_size": 8,
        "testing_domain": "laptops",
        "training_batch_size": 8,
        "training_domain": "laptops"
      },
      "start_time": "2021-04-14T09:17:42.825618",
      "version": "2.3.3"
    },
    "widgets": {
      "application/vnd.jupyter.widget-state+json": {
        "904615ac0f85491e9f185ca15bf41d91": {
          "model_module": "@jupyter-widgets/controls",
          "model_name": "HBoxModel",
          "state": {
            "_view_name": "HBoxView",
            "_dom_classes": [],
            "_model_name": "HBoxModel",
            "_view_module": "@jupyter-widgets/controls",
            "_model_module_version": "1.5.0",
            "_view_count": null,
            "_view_module_version": "1.5.0",
            "box_style": "",
            "layout": "IPY_MODEL_3de4e30e838746928d7bd65369ff16b0",
            "_model_module": "@jupyter-widgets/controls",
            "children": [
              "IPY_MODEL_8190ceea6cb84f57b8922009fe6df138",
              "IPY_MODEL_c9dc7affe32b4225b23626f75285719b"
            ]
          }
        },
        "3de4e30e838746928d7bd65369ff16b0": {
          "model_module": "@jupyter-widgets/base",
          "model_name": "LayoutModel",
          "state": {
            "_view_name": "LayoutView",
            "grid_template_rows": null,
            "right": null,
            "justify_content": null,
            "_view_module": "@jupyter-widgets/base",
            "overflow": null,
            "_model_module_version": "1.2.0",
            "_view_count": null,
            "flex_flow": null,
            "width": null,
            "min_width": null,
            "border": null,
            "align_items": null,
            "bottom": null,
            "_model_module": "@jupyter-widgets/base",
            "top": null,
            "grid_column": null,
            "overflow_y": null,
            "overflow_x": null,
            "grid_auto_flow": null,
            "grid_area": null,
            "grid_template_columns": null,
            "flex": null,
            "_model_name": "LayoutModel",
            "justify_items": null,
            "grid_row": null,
            "max_height": null,
            "align_content": null,
            "visibility": null,
            "align_self": null,
            "height": null,
            "min_height": null,
            "padding": null,
            "grid_auto_rows": null,
            "grid_gap": null,
            "max_width": null,
            "order": null,
            "_view_module_version": "1.2.0",
            "grid_template_areas": null,
            "object_position": null,
            "object_fit": null,
            "grid_auto_columns": null,
            "margin": null,
            "display": null,
            "left": null
          }
        },
        "8190ceea6cb84f57b8922009fe6df138": {
          "model_module": "@jupyter-widgets/controls",
          "model_name": "FloatProgressModel",
          "state": {
            "_view_name": "ProgressView",
            "style": "IPY_MODEL_513f4f7ddefd4657b4214e3af0259659",
            "_dom_classes": [],
            "description": "Downloading: 100%",
            "_model_name": "FloatProgressModel",
            "bar_style": "success",
            "max": 630,
            "_view_module": "@jupyter-widgets/controls",
            "_model_module_version": "1.5.0",
            "value": 630,
            "_view_count": null,
            "_view_module_version": "1.5.0",
            "orientation": "horizontal",
            "min": 0,
            "description_tooltip": null,
            "_model_module": "@jupyter-widgets/controls",
            "layout": "IPY_MODEL_7d6c273ba99547cca8b546d946a0e653"
          }
        },
        "c9dc7affe32b4225b23626f75285719b": {
          "model_module": "@jupyter-widgets/controls",
          "model_name": "HTMLModel",
          "state": {
            "_view_name": "HTMLView",
            "style": "IPY_MODEL_47590fbedf88445ea9ccb1ea4da2b162",
            "_dom_classes": [],
            "description": "",
            "_model_name": "HTMLModel",
            "placeholder": "​",
            "_view_module": "@jupyter-widgets/controls",
            "_model_module_version": "1.5.0",
            "value": " 630/630 [00:15&lt;00:00, 41.3B/s]",
            "_view_count": null,
            "_view_module_version": "1.5.0",
            "description_tooltip": null,
            "_model_module": "@jupyter-widgets/controls",
            "layout": "IPY_MODEL_0a3cc015c0f54047825982e69f755a1c"
          }
        },
        "513f4f7ddefd4657b4214e3af0259659": {
          "model_module": "@jupyter-widgets/controls",
          "model_name": "ProgressStyleModel",
          "state": {
            "_view_name": "StyleView",
            "_model_name": "ProgressStyleModel",
            "description_width": "initial",
            "_view_module": "@jupyter-widgets/base",
            "_model_module_version": "1.5.0",
            "_view_count": null,
            "_view_module_version": "1.2.0",
            "bar_color": null,
            "_model_module": "@jupyter-widgets/controls"
          }
        },
        "7d6c273ba99547cca8b546d946a0e653": {
          "model_module": "@jupyter-widgets/base",
          "model_name": "LayoutModel",
          "state": {
            "_view_name": "LayoutView",
            "grid_template_rows": null,
            "right": null,
            "justify_content": null,
            "_view_module": "@jupyter-widgets/base",
            "overflow": null,
            "_model_module_version": "1.2.0",
            "_view_count": null,
            "flex_flow": null,
            "width": null,
            "min_width": null,
            "border": null,
            "align_items": null,
            "bottom": null,
            "_model_module": "@jupyter-widgets/base",
            "top": null,
            "grid_column": null,
            "overflow_y": null,
            "overflow_x": null,
            "grid_auto_flow": null,
            "grid_area": null,
            "grid_template_columns": null,
            "flex": null,
            "_model_name": "LayoutModel",
            "justify_items": null,
            "grid_row": null,
            "max_height": null,
            "align_content": null,
            "visibility": null,
            "align_self": null,
            "height": null,
            "min_height": null,
            "padding": null,
            "grid_auto_rows": null,
            "grid_gap": null,
            "max_width": null,
            "order": null,
            "_view_module_version": "1.2.0",
            "grid_template_areas": null,
            "object_position": null,
            "object_fit": null,
            "grid_auto_columns": null,
            "margin": null,
            "display": null,
            "left": null
          }
        },
        "47590fbedf88445ea9ccb1ea4da2b162": {
          "model_module": "@jupyter-widgets/controls",
          "model_name": "DescriptionStyleModel",
          "state": {
            "_view_name": "StyleView",
            "_model_name": "DescriptionStyleModel",
            "description_width": "",
            "_view_module": "@jupyter-widgets/base",
            "_model_module_version": "1.5.0",
            "_view_count": null,
            "_view_module_version": "1.2.0",
            "_model_module": "@jupyter-widgets/controls"
          }
        },
        "0a3cc015c0f54047825982e69f755a1c": {
          "model_module": "@jupyter-widgets/base",
          "model_name": "LayoutModel",
          "state": {
            "_view_name": "LayoutView",
            "grid_template_rows": null,
            "right": null,
            "justify_content": null,
            "_view_module": "@jupyter-widgets/base",
            "overflow": null,
            "_model_module_version": "1.2.0",
            "_view_count": null,
            "flex_flow": null,
            "width": null,
            "min_width": null,
            "border": null,
            "align_items": null,
            "bottom": null,
            "_model_module": "@jupyter-widgets/base",
            "top": null,
            "grid_column": null,
            "overflow_y": null,
            "overflow_x": null,
            "grid_auto_flow": null,
            "grid_area": null,
            "grid_template_columns": null,
            "flex": null,
            "_model_name": "LayoutModel",
            "justify_items": null,
            "grid_row": null,
            "max_height": null,
            "align_content": null,
            "visibility": null,
            "align_self": null,
            "height": null,
            "min_height": null,
            "padding": null,
            "grid_auto_rows": null,
            "grid_gap": null,
            "max_width": null,
            "order": null,
            "_view_module_version": "1.2.0",
            "grid_template_areas": null,
            "object_position": null,
            "object_fit": null,
            "grid_auto_columns": null,
            "margin": null,
            "display": null,
            "left": null
          }
        },
        "e71308c12ed04f259dea1707178504ee": {
          "model_module": "@jupyter-widgets/controls",
          "model_name": "HBoxModel",
          "state": {
            "_view_name": "HBoxView",
            "_dom_classes": [],
            "_model_name": "HBoxModel",
            "_view_module": "@jupyter-widgets/controls",
            "_model_module_version": "1.5.0",
            "_view_count": null,
            "_view_module_version": "1.5.0",
            "box_style": "",
            "layout": "IPY_MODEL_9dd6a15b351c4400b01c22ed2c094802",
            "_model_module": "@jupyter-widgets/controls",
            "children": [
              "IPY_MODEL_7c71f699f1a9416cbdfa8e6f692fd6b0",
              "IPY_MODEL_81dc515d63fe42b583d9c4c650894bd7"
            ]
          }
        },
        "9dd6a15b351c4400b01c22ed2c094802": {
          "model_module": "@jupyter-widgets/base",
          "model_name": "LayoutModel",
          "state": {
            "_view_name": "LayoutView",
            "grid_template_rows": null,
            "right": null,
            "justify_content": null,
            "_view_module": "@jupyter-widgets/base",
            "overflow": null,
            "_model_module_version": "1.2.0",
            "_view_count": null,
            "flex_flow": null,
            "width": null,
            "min_width": null,
            "border": null,
            "align_items": null,
            "bottom": null,
            "_model_module": "@jupyter-widgets/base",
            "top": null,
            "grid_column": null,
            "overflow_y": null,
            "overflow_x": null,
            "grid_auto_flow": null,
            "grid_area": null,
            "grid_template_columns": null,
            "flex": null,
            "_model_name": "LayoutModel",
            "justify_items": null,
            "grid_row": null,
            "max_height": null,
            "align_content": null,
            "visibility": null,
            "align_self": null,
            "height": null,
            "min_height": null,
            "padding": null,
            "grid_auto_rows": null,
            "grid_gap": null,
            "max_width": null,
            "order": null,
            "_view_module_version": "1.2.0",
            "grid_template_areas": null,
            "object_position": null,
            "object_fit": null,
            "grid_auto_columns": null,
            "margin": null,
            "display": null,
            "left": null
          }
        },
        "7c71f699f1a9416cbdfa8e6f692fd6b0": {
          "model_module": "@jupyter-widgets/controls",
          "model_name": "FloatProgressModel",
          "state": {
            "_view_name": "ProgressView",
            "style": "IPY_MODEL_550ffee0de2448fea53571bc96a0557d",
            "_dom_classes": [],
            "description": "Downloading: 100%",
            "_model_name": "FloatProgressModel",
            "bar_style": "success",
            "max": 437988463,
            "_view_module": "@jupyter-widgets/controls",
            "_model_module_version": "1.5.0",
            "value": 437988463,
            "_view_count": null,
            "_view_module_version": "1.5.0",
            "orientation": "horizontal",
            "min": 0,
            "description_tooltip": null,
            "_model_module": "@jupyter-widgets/controls",
            "layout": "IPY_MODEL_bf947c38b69946b1852b068343408a7b"
          }
        },
        "81dc515d63fe42b583d9c4c650894bd7": {
          "model_module": "@jupyter-widgets/controls",
          "model_name": "HTMLModel",
          "state": {
            "_view_name": "HTMLView",
            "style": "IPY_MODEL_be8647f73faa4ecf92a02354707d9c11",
            "_dom_classes": [],
            "description": "",
            "_model_name": "HTMLModel",
            "placeholder": "​",
            "_view_module": "@jupyter-widgets/controls",
            "_model_module_version": "1.5.0",
            "value": " 438M/438M [00:14&lt;00:00, 30.5MB/s]",
            "_view_count": null,
            "_view_module_version": "1.5.0",
            "description_tooltip": null,
            "_model_module": "@jupyter-widgets/controls",
            "layout": "IPY_MODEL_59e342e3e1fc458385b00f4ab8315d4b"
          }
        },
        "550ffee0de2448fea53571bc96a0557d": {
          "model_module": "@jupyter-widgets/controls",
          "model_name": "ProgressStyleModel",
          "state": {
            "_view_name": "StyleView",
            "_model_name": "ProgressStyleModel",
            "description_width": "initial",
            "_view_module": "@jupyter-widgets/base",
            "_model_module_version": "1.5.0",
            "_view_count": null,
            "_view_module_version": "1.2.0",
            "bar_color": null,
            "_model_module": "@jupyter-widgets/controls"
          }
        },
        "bf947c38b69946b1852b068343408a7b": {
          "model_module": "@jupyter-widgets/base",
          "model_name": "LayoutModel",
          "state": {
            "_view_name": "LayoutView",
            "grid_template_rows": null,
            "right": null,
            "justify_content": null,
            "_view_module": "@jupyter-widgets/base",
            "overflow": null,
            "_model_module_version": "1.2.0",
            "_view_count": null,
            "flex_flow": null,
            "width": null,
            "min_width": null,
            "border": null,
            "align_items": null,
            "bottom": null,
            "_model_module": "@jupyter-widgets/base",
            "top": null,
            "grid_column": null,
            "overflow_y": null,
            "overflow_x": null,
            "grid_auto_flow": null,
            "grid_area": null,
            "grid_template_columns": null,
            "flex": null,
            "_model_name": "LayoutModel",
            "justify_items": null,
            "grid_row": null,
            "max_height": null,
            "align_content": null,
            "visibility": null,
            "align_self": null,
            "height": null,
            "min_height": null,
            "padding": null,
            "grid_auto_rows": null,
            "grid_gap": null,
            "max_width": null,
            "order": null,
            "_view_module_version": "1.2.0",
            "grid_template_areas": null,
            "object_position": null,
            "object_fit": null,
            "grid_auto_columns": null,
            "margin": null,
            "display": null,
            "left": null
          }
        },
        "be8647f73faa4ecf92a02354707d9c11": {
          "model_module": "@jupyter-widgets/controls",
          "model_name": "DescriptionStyleModel",
          "state": {
            "_view_name": "StyleView",
            "_model_name": "DescriptionStyleModel",
            "description_width": "",
            "_view_module": "@jupyter-widgets/base",
            "_model_module_version": "1.5.0",
            "_view_count": null,
            "_view_module_version": "1.2.0",
            "_model_module": "@jupyter-widgets/controls"
          }
        },
        "59e342e3e1fc458385b00f4ab8315d4b": {
          "model_module": "@jupyter-widgets/base",
          "model_name": "LayoutModel",
          "state": {
            "_view_name": "LayoutView",
            "grid_template_rows": null,
            "right": null,
            "justify_content": null,
            "_view_module": "@jupyter-widgets/base",
            "overflow": null,
            "_model_module_version": "1.2.0",
            "_view_count": null,
            "flex_flow": null,
            "width": null,
            "min_width": null,
            "border": null,
            "align_items": null,
            "bottom": null,
            "_model_module": "@jupyter-widgets/base",
            "top": null,
            "grid_column": null,
            "overflow_y": null,
            "overflow_x": null,
            "grid_auto_flow": null,
            "grid_area": null,
            "grid_template_columns": null,
            "flex": null,
            "_model_name": "LayoutModel",
            "justify_items": null,
            "grid_row": null,
            "max_height": null,
            "align_content": null,
            "visibility": null,
            "align_self": null,
            "height": null,
            "min_height": null,
            "padding": null,
            "grid_auto_rows": null,
            "grid_gap": null,
            "max_width": null,
            "order": null,
            "_view_module_version": "1.2.0",
            "grid_template_areas": null,
            "object_position": null,
            "object_fit": null,
            "grid_auto_columns": null,
            "margin": null,
            "display": null,
            "left": null
          }
        },
        "5966e039471248708d9dc6f2ed6f5f9d": {
          "model_module": "@jupyter-widgets/controls",
          "model_name": "HBoxModel",
          "state": {
            "_view_name": "HBoxView",
            "_dom_classes": [],
            "_model_name": "HBoxModel",
            "_view_module": "@jupyter-widgets/controls",
            "_model_module_version": "1.5.0",
            "_view_count": null,
            "_view_module_version": "1.5.0",
            "box_style": "",
            "layout": "IPY_MODEL_7ee60836802a478cbc190b78b23e3176",
            "_model_module": "@jupyter-widgets/controls",
            "children": [
              "IPY_MODEL_9f38c685291b45ecad3dc62cafc1ddc6",
              "IPY_MODEL_d45ddff5fc304b36b94584a0eb174644"
            ]
          }
        },
        "7ee60836802a478cbc190b78b23e3176": {
          "model_module": "@jupyter-widgets/base",
          "model_name": "LayoutModel",
          "state": {
            "_view_name": "LayoutView",
            "grid_template_rows": null,
            "right": null,
            "justify_content": null,
            "_view_module": "@jupyter-widgets/base",
            "overflow": null,
            "_model_module_version": "1.2.0",
            "_view_count": null,
            "flex_flow": null,
            "width": null,
            "min_width": null,
            "border": null,
            "align_items": null,
            "bottom": null,
            "_model_module": "@jupyter-widgets/base",
            "top": null,
            "grid_column": null,
            "overflow_y": null,
            "overflow_x": null,
            "grid_auto_flow": null,
            "grid_area": null,
            "grid_template_columns": null,
            "flex": null,
            "_model_name": "LayoutModel",
            "justify_items": null,
            "grid_row": null,
            "max_height": null,
            "align_content": null,
            "visibility": null,
            "align_self": null,
            "height": null,
            "min_height": null,
            "padding": null,
            "grid_auto_rows": null,
            "grid_gap": null,
            "max_width": null,
            "order": null,
            "_view_module_version": "1.2.0",
            "grid_template_areas": null,
            "object_position": null,
            "object_fit": null,
            "grid_auto_columns": null,
            "margin": null,
            "display": null,
            "left": null
          }
        },
        "9f38c685291b45ecad3dc62cafc1ddc6": {
          "model_module": "@jupyter-widgets/controls",
          "model_name": "FloatProgressModel",
          "state": {
            "_view_name": "ProgressView",
            "style": "IPY_MODEL_e84d407009f04a60a4e3797b98e9ed42",
            "_dom_classes": [],
            "description": "100%",
            "_model_name": "FloatProgressModel",
            "bar_style": "success",
            "max": 80,
            "_view_module": "@jupyter-widgets/controls",
            "_model_module_version": "1.5.0",
            "value": 80,
            "_view_count": null,
            "_view_module_version": "1.5.0",
            "orientation": "horizontal",
            "min": 0,
            "description_tooltip": null,
            "_model_module": "@jupyter-widgets/controls",
            "layout": "IPY_MODEL_9a78dd642e93403e9756c5400c7dcbf4"
          }
        },
        "d45ddff5fc304b36b94584a0eb174644": {
          "model_module": "@jupyter-widgets/controls",
          "model_name": "HTMLModel",
          "state": {
            "_view_name": "HTMLView",
            "style": "IPY_MODEL_d268f0ad6ee84f8283fc894ba5bf1a30",
            "_dom_classes": [],
            "description": "",
            "_model_name": "HTMLModel",
            "placeholder": "​",
            "_view_module": "@jupyter-widgets/controls",
            "_model_module_version": "1.5.0",
            "value": " 80/80 [03:58&lt;00:00,  2.98s/it]",
            "_view_count": null,
            "_view_module_version": "1.5.0",
            "description_tooltip": null,
            "_model_module": "@jupyter-widgets/controls",
            "layout": "IPY_MODEL_028bffdf0582442793c487b60d45a699"
          }
        },
        "e84d407009f04a60a4e3797b98e9ed42": {
          "model_module": "@jupyter-widgets/controls",
          "model_name": "ProgressStyleModel",
          "state": {
            "_view_name": "StyleView",
            "_model_name": "ProgressStyleModel",
            "description_width": "initial",
            "_view_module": "@jupyter-widgets/base",
            "_model_module_version": "1.5.0",
            "_view_count": null,
            "_view_module_version": "1.2.0",
            "bar_color": null,
            "_model_module": "@jupyter-widgets/controls"
          }
        },
        "9a78dd642e93403e9756c5400c7dcbf4": {
          "model_module": "@jupyter-widgets/base",
          "model_name": "LayoutModel",
          "state": {
            "_view_name": "LayoutView",
            "grid_template_rows": null,
            "right": null,
            "justify_content": null,
            "_view_module": "@jupyter-widgets/base",
            "overflow": null,
            "_model_module_version": "1.2.0",
            "_view_count": null,
            "flex_flow": null,
            "width": null,
            "min_width": null,
            "border": null,
            "align_items": null,
            "bottom": null,
            "_model_module": "@jupyter-widgets/base",
            "top": null,
            "grid_column": null,
            "overflow_y": null,
            "overflow_x": null,
            "grid_auto_flow": null,
            "grid_area": null,
            "grid_template_columns": null,
            "flex": null,
            "_model_name": "LayoutModel",
            "justify_items": null,
            "grid_row": null,
            "max_height": null,
            "align_content": null,
            "visibility": null,
            "align_self": null,
            "height": null,
            "min_height": null,
            "padding": null,
            "grid_auto_rows": null,
            "grid_gap": null,
            "max_width": null,
            "order": null,
            "_view_module_version": "1.2.0",
            "grid_template_areas": null,
            "object_position": null,
            "object_fit": null,
            "grid_auto_columns": null,
            "margin": null,
            "display": null,
            "left": null
          }
        },
        "d268f0ad6ee84f8283fc894ba5bf1a30": {
          "model_module": "@jupyter-widgets/controls",
          "model_name": "DescriptionStyleModel",
          "state": {
            "_view_name": "StyleView",
            "_model_name": "DescriptionStyleModel",
            "description_width": "",
            "_view_module": "@jupyter-widgets/base",
            "_model_module_version": "1.5.0",
            "_view_count": null,
            "_view_module_version": "1.2.0",
            "_model_module": "@jupyter-widgets/controls"
          }
        },
        "028bffdf0582442793c487b60d45a699": {
          "model_module": "@jupyter-widgets/base",
          "model_name": "LayoutModel",
          "state": {
            "_view_name": "LayoutView",
            "grid_template_rows": null,
            "right": null,
            "justify_content": null,
            "_view_module": "@jupyter-widgets/base",
            "overflow": null,
            "_model_module_version": "1.2.0",
            "_view_count": null,
            "flex_flow": null,
            "width": null,
            "min_width": null,
            "border": null,
            "align_items": null,
            "bottom": null,
            "_model_module": "@jupyter-widgets/base",
            "top": null,
            "grid_column": null,
            "overflow_y": null,
            "overflow_x": null,
            "grid_auto_flow": null,
            "grid_area": null,
            "grid_template_columns": null,
            "flex": null,
            "_model_name": "LayoutModel",
            "justify_items": null,
            "grid_row": null,
            "max_height": null,
            "align_content": null,
            "visibility": null,
            "align_self": null,
            "height": null,
            "min_height": null,
            "padding": null,
            "grid_auto_rows": null,
            "grid_gap": null,
            "max_width": null,
            "order": null,
            "_view_module_version": "1.2.0",
            "grid_template_areas": null,
            "object_position": null,
            "object_fit": null,
            "grid_auto_columns": null,
            "margin": null,
            "display": null,
            "left": null
          }
        }
      }
    }
  },
  "cells": [
    {
      "cell_type": "code",
      "metadata": {
        "id": "yYSFmGrp2wSp"
      },
      "source": [
        ""
      ],
      "id": "yYSFmGrp2wSp",
      "execution_count": null,
      "outputs": []
    },
    {
      "cell_type": "code",
      "metadata": {
        "id": "NvZa9Z3V2eGK"
      },
      "source": [
        ""
      ],
      "id": "NvZa9Z3V2eGK",
      "execution_count": null,
      "outputs": []
    },
    {
      "cell_type": "markdown",
      "metadata": {
        "id": "b2dd8e3a",
        "papermill": {
          "duration": 0.099569,
          "end_time": "2021-04-14T09:17:44.356246",
          "exception": false,
          "start_time": "2021-04-14T09:17:44.256677",
          "status": "completed"
        },
        "tags": []
      },
      "source": [
        "# Initial Setups"
      ],
      "id": "b2dd8e3a"
    },
    {
      "cell_type": "markdown",
      "metadata": {
        "id": "09036ef8",
        "papermill": {
          "duration": 0.070817,
          "end_time": "2021-04-14T09:17:44.498175",
          "exception": false,
          "start_time": "2021-04-14T09:17:44.427358",
          "status": "completed"
        },
        "tags": []
      },
      "source": [
        "## (Google Colab use only)"
      ],
      "id": "09036ef8"
    },
    {
      "cell_type": "code",
      "metadata": {
        "colab": {
          "base_uri": "https://localhost:8080/"
        },
        "execution": {
          "iopub.execute_input": "2021-04-14T09:17:44.656950Z",
          "iopub.status.busy": "2021-04-14T09:17:44.656291Z",
          "iopub.status.idle": "2021-04-14T09:17:44.660609Z",
          "shell.execute_reply": "2021-04-14T09:17:44.660079Z"
        },
        "id": "1e81b28a",
        "papermill": {
          "duration": 0.091994,
          "end_time": "2021-04-14T09:17:44.660753",
          "exception": false,
          "start_time": "2021-04-14T09:17:44.568759",
          "status": "completed"
        },
        "tags": [],
        "outputId": "adb67b95-6ce1-42fe-c483-8acf8c330684"
      },
      "source": [
        "# Use Google Colab\n",
        "use_colab = True\n",
        "\n",
        "# Is this notebook running on Colab?\n",
        "# If so, then google.colab package (github.com/googlecolab/colabtools)\n",
        "# should be available in this environment\n",
        "\n",
        "# Previous version used importlib, but we could do the same thing with\n",
        "# just attempting to import google.colab\n",
        "try:\n",
        "    from google.colab import drive\n",
        "    colab_available = True\n",
        "except:\n",
        "    colab_available = False\n",
        "\n",
        "if use_colab and colab_available:\n",
        "    drive.mount('/content/drive')\n",
        "\n",
        "    # cd to the appropriate working directory under my Google Drive\n",
        "    %cd '/content/drive/My Drive/ATSC'\n",
        "    \n",
        "    # Install packages specified in requirements\n",
        "    !pip install -r requirements.txt\n",
        "    \n",
        "    # List the directory contents\n",
        "    !ls"
      ],
      "id": "1e81b28a",
      "execution_count": 6,
      "outputs": [
        {
          "output_type": "stream",
          "text": [
            "Mounted at /content/drive\n",
            "/content/drive/My Drive/ATSC\n",
            "Collecting transformers==4.3.3\n",
            "\u001b[?25l  Downloading https://files.pythonhosted.org/packages/f9/54/5ca07ec9569d2f232f3166de5457b63943882f7950ddfcc887732fc7fb23/transformers-4.3.3-py3-none-any.whl (1.9MB)\n",
            "\u001b[K     |████████████████████████████████| 1.9MB 8.3MB/s \n",
            "\u001b[?25hCollecting datasets==1.2.1\n",
            "\u001b[?25l  Downloading https://files.pythonhosted.org/packages/06/9b/d097f2238fc3c028495cf5f8c65378972b9f1b2cbb27f3c57c7219195aa9/datasets-1.2.1-py3-none-any.whl (159kB)\n",
            "\u001b[K     |████████████████████████████████| 163kB 35.2MB/s \n",
            "\u001b[?25hCollecting pytokenizations==0.7.2\n",
            "\u001b[?25l  Downloading https://files.pythonhosted.org/packages/7c/5a/bdc64a3318bafa23b8313da4c032340a2e3572c74f6307aee629d70068f0/pytokenizations-0.7.2-cp37-cp37m-manylinux1_x86_64.whl (240kB)\n",
            "\u001b[K     |████████████████████████████████| 245kB 35.7MB/s \n",
            "\u001b[?25hCollecting spacy==2.3.5\n",
            "\u001b[?25l  Downloading https://files.pythonhosted.org/packages/95/89/1539c4024c339650c222b0b2ca2b3e3f13523b7a02671f8001b7b1cee6f2/spacy-2.3.5-cp37-cp37m-manylinux2014_x86_64.whl (10.4MB)\n",
            "\u001b[K     |████████████████████████████████| 10.4MB 46.8MB/s \n",
            "\u001b[?25hRequirement already satisfied: en_core_web_sm from https://github.com/explosion/spacy-models/releases/download/en_core_web_sm-2.3.1/en_core_web_sm-2.3.1.tar.gz#egg=en_core_web_sm in /usr/local/lib/python3.7/dist-packages (from -r requirements.txt (line 5)) (2.2.5)\n",
            "Collecting torch==1.7.1\n",
            "\u001b[?25l  Downloading https://files.pythonhosted.org/packages/90/5d/095ddddc91c8a769a68c791c019c5793f9c4456a688ddd235d6670924ecb/torch-1.7.1-cp37-cp37m-manylinux1_x86_64.whl (776.8MB)\n",
            "\u001b[K     |████████████████████████████████| 776.8MB 22kB/s \n",
            "\u001b[?25hCollecting scikit-learn==0.24.1\n",
            "\u001b[?25l  Downloading https://files.pythonhosted.org/packages/f3/74/eb899f41d55f957e2591cde5528e75871f817d9fb46d4732423ecaca736d/scikit_learn-0.24.1-cp37-cp37m-manylinux2010_x86_64.whl (22.3MB)\n",
            "\u001b[K     |████████████████████████████████| 22.3MB 72.6MB/s \n",
            "\u001b[?25hRequirement already satisfied: seaborn==0.11.1 in /usr/local/lib/python3.7/dist-packages (from -r requirements.txt (line 8)) (0.11.1)\n",
            "Requirement already satisfied: importlib-metadata; python_version < \"3.8\" in /usr/local/lib/python3.7/dist-packages (from transformers==4.3.3->-r requirements.txt (line 1)) (4.0.1)\n",
            "Requirement already satisfied: regex!=2019.12.17 in /usr/local/lib/python3.7/dist-packages (from transformers==4.3.3->-r requirements.txt (line 1)) (2019.12.20)\n",
            "Requirement already satisfied: numpy>=1.17 in /usr/local/lib/python3.7/dist-packages (from transformers==4.3.3->-r requirements.txt (line 1)) (1.19.5)\n",
            "Requirement already satisfied: requests in /usr/local/lib/python3.7/dist-packages (from transformers==4.3.3->-r requirements.txt (line 1)) (2.23.0)\n",
            "Collecting tokenizers<0.11,>=0.10.1\n",
            "\u001b[?25l  Downloading https://files.pythonhosted.org/packages/ae/04/5b870f26a858552025a62f1649c20d29d2672c02ff3c3fb4c688ca46467a/tokenizers-0.10.2-cp37-cp37m-manylinux2010_x86_64.whl (3.3MB)\n",
            "\u001b[K     |████████████████████████████████| 3.3MB 41.5MB/s \n",
            "\u001b[?25hRequirement already satisfied: tqdm>=4.27 in /usr/local/lib/python3.7/dist-packages (from transformers==4.3.3->-r requirements.txt (line 1)) (4.41.1)\n",
            "Collecting sacremoses\n",
            "\u001b[?25l  Downloading https://files.pythonhosted.org/packages/75/ee/67241dc87f266093c533a2d4d3d69438e57d7a90abb216fa076e7d475d4a/sacremoses-0.0.45-py3-none-any.whl (895kB)\n",
            "\u001b[K     |████████████████████████████████| 901kB 39.9MB/s \n",
            "\u001b[?25hRequirement already satisfied: packaging in /usr/local/lib/python3.7/dist-packages (from transformers==4.3.3->-r requirements.txt (line 1)) (20.9)\n",
            "Requirement already satisfied: filelock in /usr/local/lib/python3.7/dist-packages (from transformers==4.3.3->-r requirements.txt (line 1)) (3.0.12)\n",
            "Requirement already satisfied: dill in /usr/local/lib/python3.7/dist-packages (from datasets==1.2.1->-r requirements.txt (line 2)) (0.3.3)\n",
            "Requirement already satisfied: pandas in /usr/local/lib/python3.7/dist-packages (from datasets==1.2.1->-r requirements.txt (line 2)) (1.1.5)\n",
            "Requirement already satisfied: pyarrow>=0.17.1 in /usr/local/lib/python3.7/dist-packages (from datasets==1.2.1->-r requirements.txt (line 2)) (3.0.0)\n",
            "Collecting xxhash\n",
            "\u001b[?25l  Downloading https://files.pythonhosted.org/packages/7d/4f/0a862cad26aa2ed7a7cd87178cbbfa824fc1383e472d63596a0d018374e7/xxhash-2.0.2-cp37-cp37m-manylinux2010_x86_64.whl (243kB)\n",
            "\u001b[K     |████████████████████████████████| 245kB 51.9MB/s \n",
            "\u001b[?25hRequirement already satisfied: multiprocess in /usr/local/lib/python3.7/dist-packages (from datasets==1.2.1->-r requirements.txt (line 2)) (0.70.11.1)\n",
            "Requirement already satisfied: wasabi<1.1.0,>=0.4.0 in /usr/local/lib/python3.7/dist-packages (from spacy==2.3.5->-r requirements.txt (line 4)) (0.8.2)\n",
            "Requirement already satisfied: plac<1.2.0,>=0.9.6 in /usr/local/lib/python3.7/dist-packages (from spacy==2.3.5->-r requirements.txt (line 4)) (1.1.3)\n",
            "Requirement already satisfied: blis<0.8.0,>=0.4.0 in /usr/local/lib/python3.7/dist-packages (from spacy==2.3.5->-r requirements.txt (line 4)) (0.4.1)\n",
            "Requirement already satisfied: murmurhash<1.1.0,>=0.28.0 in /usr/local/lib/python3.7/dist-packages (from spacy==2.3.5->-r requirements.txt (line 4)) (1.0.5)\n",
            "Requirement already satisfied: preshed<3.1.0,>=3.0.2 in /usr/local/lib/python3.7/dist-packages (from spacy==2.3.5->-r requirements.txt (line 4)) (3.0.5)\n",
            "Requirement already satisfied: catalogue<1.1.0,>=0.0.7 in /usr/local/lib/python3.7/dist-packages (from spacy==2.3.5->-r requirements.txt (line 4)) (1.0.0)\n",
            "Requirement already satisfied: cymem<2.1.0,>=2.0.2 in /usr/local/lib/python3.7/dist-packages (from spacy==2.3.5->-r requirements.txt (line 4)) (2.0.5)\n",
            "Requirement already satisfied: setuptools in /usr/local/lib/python3.7/dist-packages (from spacy==2.3.5->-r requirements.txt (line 4)) (56.1.0)\n",
            "Collecting thinc<7.5.0,>=7.4.1\n",
            "\u001b[?25l  Downloading https://files.pythonhosted.org/packages/9a/92/71ab278f865f7565c37ed6917d0f23342e4f9a0633013113bd435cf0a691/thinc-7.4.5-cp37-cp37m-manylinux2014_x86_64.whl (1.0MB)\n",
            "\u001b[K     |████████████████████████████████| 1.1MB 33.4MB/s \n",
            "\u001b[?25hRequirement already satisfied: srsly<1.1.0,>=1.0.2 in /usr/local/lib/python3.7/dist-packages (from spacy==2.3.5->-r requirements.txt (line 4)) (1.0.5)\n",
            "Requirement already satisfied: typing-extensions in /usr/local/lib/python3.7/dist-packages (from torch==1.7.1->-r requirements.txt (line 6)) (3.7.4.3)\n",
            "Requirement already satisfied: joblib>=0.11 in /usr/local/lib/python3.7/dist-packages (from scikit-learn==0.24.1->-r requirements.txt (line 7)) (1.0.1)\n",
            "Collecting threadpoolctl>=2.0.0\n",
            "  Downloading https://files.pythonhosted.org/packages/f7/12/ec3f2e203afa394a149911729357aa48affc59c20e2c1c8297a60f33f133/threadpoolctl-2.1.0-py3-none-any.whl\n",
            "Requirement already satisfied: scipy>=0.19.1 in /usr/local/lib/python3.7/dist-packages (from scikit-learn==0.24.1->-r requirements.txt (line 7)) (1.4.1)\n",
            "Requirement already satisfied: matplotlib>=2.2 in /usr/local/lib/python3.7/dist-packages (from seaborn==0.11.1->-r requirements.txt (line 8)) (3.2.2)\n",
            "Requirement already satisfied: zipp>=0.5 in /usr/local/lib/python3.7/dist-packages (from importlib-metadata; python_version < \"3.8\"->transformers==4.3.3->-r requirements.txt (line 1)) (3.4.1)\n",
            "Requirement already satisfied: certifi>=2017.4.17 in /usr/local/lib/python3.7/dist-packages (from requests->transformers==4.3.3->-r requirements.txt (line 1)) (2020.12.5)\n",
            "Requirement already satisfied: urllib3!=1.25.0,!=1.25.1,<1.26,>=1.21.1 in /usr/local/lib/python3.7/dist-packages (from requests->transformers==4.3.3->-r requirements.txt (line 1)) (1.24.3)\n",
            "Requirement already satisfied: idna<3,>=2.5 in /usr/local/lib/python3.7/dist-packages (from requests->transformers==4.3.3->-r requirements.txt (line 1)) (2.10)\n",
            "Requirement already satisfied: chardet<4,>=3.0.2 in /usr/local/lib/python3.7/dist-packages (from requests->transformers==4.3.3->-r requirements.txt (line 1)) (3.0.4)\n",
            "Requirement already satisfied: click in /usr/local/lib/python3.7/dist-packages (from sacremoses->transformers==4.3.3->-r requirements.txt (line 1)) (7.1.2)\n",
            "Requirement already satisfied: six in /usr/local/lib/python3.7/dist-packages (from sacremoses->transformers==4.3.3->-r requirements.txt (line 1)) (1.15.0)\n",
            "Requirement already satisfied: pyparsing>=2.0.2 in /usr/local/lib/python3.7/dist-packages (from packaging->transformers==4.3.3->-r requirements.txt (line 1)) (2.4.7)\n",
            "Requirement already satisfied: python-dateutil>=2.7.3 in /usr/local/lib/python3.7/dist-packages (from pandas->datasets==1.2.1->-r requirements.txt (line 2)) (2.8.1)\n",
            "Requirement already satisfied: pytz>=2017.2 in /usr/local/lib/python3.7/dist-packages (from pandas->datasets==1.2.1->-r requirements.txt (line 2)) (2018.9)\n",
            "Requirement already satisfied: cycler>=0.10 in /usr/local/lib/python3.7/dist-packages (from matplotlib>=2.2->seaborn==0.11.1->-r requirements.txt (line 8)) (0.10.0)\n",
            "Requirement already satisfied: kiwisolver>=1.0.1 in /usr/local/lib/python3.7/dist-packages (from matplotlib>=2.2->seaborn==0.11.1->-r requirements.txt (line 8)) (1.3.1)\n",
            "\u001b[31mERROR: torchvision 0.9.1+cu101 has requirement torch==1.8.1, but you'll have torch 1.7.1 which is incompatible.\u001b[0m\n",
            "\u001b[31mERROR: torchtext 0.9.1 has requirement torch==1.8.1, but you'll have torch 1.7.1 which is incompatible.\u001b[0m\n",
            "Installing collected packages: tokenizers, sacremoses, transformers, xxhash, datasets, pytokenizations, thinc, spacy, torch, threadpoolctl, scikit-learn\n",
            "  Found existing installation: thinc 7.4.0\n",
            "    Uninstalling thinc-7.4.0:\n",
            "      Successfully uninstalled thinc-7.4.0\n",
            "  Found existing installation: spacy 2.2.4\n",
            "    Uninstalling spacy-2.2.4:\n",
            "      Successfully uninstalled spacy-2.2.4\n",
            "  Found existing installation: torch 1.8.1+cu101\n",
            "    Uninstalling torch-1.8.1+cu101:\n",
            "      Successfully uninstalled torch-1.8.1+cu101\n",
            "  Found existing installation: scikit-learn 0.22.2.post1\n",
            "    Uninstalling scikit-learn-0.22.2.post1:\n",
            "      Successfully uninstalled scikit-learn-0.22.2.post1\n",
            "Successfully installed datasets-1.2.1 pytokenizations-0.7.2 sacremoses-0.0.45 scikit-learn-0.24.1 spacy-2.3.5 thinc-7.4.5 threadpoolctl-2.1.0 tokenizers-0.10.2 torch-1.7.1 transformers-4.3.3 xxhash-2.0.2\n",
            " apex-master.zip\n",
            " baseline\n",
            " bert_base_cache\n",
            " checkpoint-1210520\n",
            " checkpoint-553363.zip\n",
            " dataset_cache\n",
            "'dataset_cache (1)'\n",
            " dataset_files\n",
            " dataset_scripts\n",
            " GPT2\n",
            " gpt2_amazon\n",
            " gpt2_cache\n",
            " MLM\n",
            " NLI\n",
            " nli-checkpoint-epoch2\n",
            " nli_files.txt\n",
            " NLIResults\n",
            " prompt_lr_atsc_single_prompt_the_aspect_gpt-2_yelp_restaurants\n",
            " requirements.txt\n",
            " semeval_data_files\n",
            " smart_mlm_yelp_500k_15percent.ipynb\n",
            " utils\n"
          ],
          "name": "stdout"
        }
      ]
    },
    {
      "cell_type": "markdown",
      "metadata": {
        "id": "8b2be680",
        "papermill": {
          "duration": 0.071744,
          "end_time": "2021-04-14T09:17:44.804138",
          "exception": false,
          "start_time": "2021-04-14T09:17:44.732394",
          "status": "completed"
        },
        "tags": []
      },
      "source": [
        "## Experiment parameters"
      ],
      "id": "8b2be680"
    },
    {
      "cell_type": "code",
      "metadata": {
        "id": "DIpbwIm11WT-"
      },
      "source": [
        "import torch\n",
        "class SinglePromptLogitSentimentClassificationHead(torch.nn.Module):\n",
        "    def __init__(self, lm, num_class, pseudo_label_words, target_token_id=-1):\n",
        "        super(SinglePromptLogitSentimentClassificationHead, self).__init__()\n",
        "\n",
        "        self.num_class = num_class\n",
        "        self.pseudo_label_words = pseudo_label_words\n",
        "        self.target_token_id = target_token_id\n",
        "\n",
        "        self.lm = lm\n",
        "        \n",
        "        # Is self.lm BERT or GPT-2?\n",
        "        if self.lm.config.architectures[0].startswith('Bert'):\n",
        "            # if self.lm is BERT, then mask_token_id should be specified\n",
        "            assert self.target_token_id != -1\n",
        "            self.lm_type = 'bert'\n",
        "        elif self.lm.config.architectures[0].startswith('GPT2'):\n",
        "            self.lm_type = 'gpt2'\n",
        "        else:\n",
        "            raise Exception('Unsupported language model type.')\n",
        "            \n",
        "        print(\"Detected LM type:\", self.lm_type)\n",
        "\n",
        "    def forward(self, reviews_and_prompts):\n",
        "\n",
        "        if self.lm_type == 'bert':\n",
        "            # Figures out where the mask token was placed\n",
        "            target_indexes = (reviews_and_prompts.data[\"input_ids\"] == self.target_token_id)\n",
        "\n",
        "            lm_outputs = self.lm(**reviews_and_prompts)\n",
        "\n",
        "            outputs = lm_outputs.logits[target_indexes]\n",
        "        \n",
        "            outputs = outputs[:, self.pseudo_label_words]\n",
        "            \n",
        "        elif self.lm_type == 'gpt2':\n",
        "            \n",
        "            outputs = []\n",
        "            \n",
        "            for example in reviews_and_prompts:\n",
        "                lm_outputs = self.lm(**example, return_dict=True)\n",
        "                \n",
        "                lm_predictions = lm_outputs.logits[0, len(example['input_ids'][0]) - 1, self.pseudo_label_words]\n",
        "                \n",
        "                outputs.append(lm_predictions)\n",
        "\n",
        "            outputs = torch.stack(outputs, dim=0)\n",
        "\n",
        "        return outputs\n",
        "\n",
        "\n",
        "class MultiPromptSentimentClassificationHead(torch.nn.Module):\n",
        "    def __init__(self, lm, num_class, num_prompts, target_token_id=-1):\n",
        "        super(MultiPromptSentimentClassificationHead, self).__init__()\n",
        "\n",
        "        self.num_class = num_class\n",
        "        self.num_prompts = num_prompts\n",
        "        self.target_token_id = target_token_id\n",
        "\n",
        "        self.lm = lm\n",
        "        \n",
        "        # Is self.lm BERT or GPT-2?\n",
        "        if self.lm.config.architectures[0].startswith('Bert'):\n",
        "            # if self.lm is BERT, then mask_token_id should be specified\n",
        "            assert self.target_token_id != -1\n",
        "            self.lm_type = 'bert'\n",
        "        elif self.lm.config.architectures[0].startswith('GPT2'):\n",
        "            self.lm_type = 'gpt2'\n",
        "        else:\n",
        "            raise Exception('Unsupported language model type.')\n",
        "\n",
        "        print(\"Detected LM type:\", self.lm_type)\n",
        "\n",
        "        # Linear layer\n",
        "        self.linear = torch.nn.Linear(\n",
        "            self.num_prompts * self.lm.config.hidden_size, self.num_class)\n",
        "\n",
        "    def forward(self, reviews_and_prompts):\n",
        "\n",
        "        # Extract hidden states and feed them to self.linear\n",
        "        outputs = []\n",
        "\n",
        "        lr_inputs_batch = []\n",
        "\n",
        "        # Figures out where the mask token was placed\n",
        "        if self.lm_type == 'bert':\n",
        "            # For BERT, we need to find the token in each input with [MASK]\n",
        "            target_indexes = torch.nonzero(\n",
        "                reviews_and_prompts.data[\"input_ids\"] == self.target_token_id)[:, 1]\n",
        "\n",
        "            lm_outputs = self.lm(**reviews_and_prompts, output_hidden_states=True)\n",
        "\n",
        "            real_batch_size = len(reviews_and_prompts.data[\"input_ids\"]) // self.num_prompts\n",
        "\n",
        "        elif self.lm_type == 'gpt2':\n",
        "            lm_outputs = []\n",
        "            target_indexes = []\n",
        "\n",
        "            # For GPT-2, we need to find the spot right after the input text\n",
        "            for example in reviews_and_prompts:\n",
        "                target_indexes.append(len(example['input_ids'][0]) - 1)\n",
        "\n",
        "                lm_outputs.append(self.lm(**example, output_hidden_states=True))\n",
        "\n",
        "            real_batch_size = len(reviews_and_prompts) // self.num_prompts\n",
        "                \n",
        "        for i in range(real_batch_size):\n",
        "            # Create an input to self.linear by\n",
        "            # concatenating last hidden states for this review\n",
        "            lr_input = []\n",
        "\n",
        "            for j in range(self.num_prompts):\n",
        "                if self.lm_type == 'bert':\n",
        "                    lr_input.append(lm_outputs[\"hidden_states\"][-1][i+real_batch_size*j][target_indexes[i+real_batch_size*j]])\n",
        "                elif self.lm_type == 'gpt2':\n",
        "                    lr_input.append(lm_outputs[i+real_batch_size*j][\"hidden_states\"][-1][0][target_indexes[i+real_batch_size*j]])\n",
        "                    \n",
        "            lr_input = torch.cat(lr_input, dim=0)\n",
        "\n",
        "            lr_inputs_batch.append(lr_input)\n",
        "\n",
        "        lr_inputs_batch = torch.stack(lr_inputs_batch)\n",
        "\n",
        "        outputs = self.linear(lr_inputs_batch)\n",
        "\n",
        "        return outputs\n",
        "\n",
        "\n",
        "class NoPromptSentimentClassificationHead(torch.nn.Module):\n",
        "    def __init__(self, lm, num_class):\n",
        "        super(NoPromptSentimentClassificationHead, self).__init__()\n",
        "\n",
        "        self.num_class = num_class\n",
        "\n",
        "        self.lm = lm\n",
        "\n",
        "        self.linear = torch.nn.Linear(\n",
        "            self.lm.config.hidden_size, self.num_class)\n",
        "\n",
        "    def forward(self, reviews_and_prompts):\n",
        "\n",
        "        lm_outputs = self.lm(**reviews_and_prompts, output_hidden_states=True)\n",
        "\n",
        "        # Last hidden state for [CLS] token\n",
        "        last_hidden_state_cls = lm_outputs[\"hidden_states\"][-1][:, 0, :]\n",
        "        \n",
        "        outputs = self.linear(last_hidden_state_cls)\n",
        "\n",
        "        return outputs\n",
        "    \n",
        "class NLISentimentClassificationHead(torch.nn.Module):\n",
        "    def __init__(self, nli_model, num_prompts, pos_prompt_indexes, neg_prompt_indexes):\n",
        "        super(NLISentimentClassificationHead, self).__init__()\n",
        "        \n",
        "        self.num_prompts = num_prompts\n",
        "        self.nli_model = nli_model\n",
        "        \n",
        "        self.pos_prompt_indexes = pos_prompt_indexes\n",
        "        self.neg_prompt_indexes = neg_prompt_indexes\n",
        "        \n",
        "    def forward(self, reviews_and_prompts):\n",
        "        \n",
        "        nli_output = self.nli_model(**reviews_and_prompts)[\"logits\"]\n",
        "\n",
        "        outputs = torch.Tensor().to(self.nli_model.device)\n",
        "\n",
        "        # Text Attack NLI Labels: 0-> Contradiction, 1-> Entailment, 2-> Neutral\n",
        "        # Sentiment Polarity Labels: 0-> Positive, 1-> Negative, 2-> Neutral\n",
        "        for i in range(len(nli_output)//self.num_prompts):\n",
        "            prompts_batch = nli_output[i*self.num_prompts:(i+1)*self.num_prompts]\n",
        "\n",
        "            pos_logit = torch.mean(prompts_batch[self.pos_prompt_indexes], dim=0)[1]\n",
        "\n",
        "            neg_logit = torch.mean(prompts_batch[self.neg_prompt_indexes], dim=0)[1]\n",
        "\n",
        "            neu_logit = torch.mean(prompts_batch, dim=0)[2]\n",
        "\n",
        "            pred_logits = torch.stack([pos_logit, neg_logit, neu_logit])\n",
        "            pred_logits = torch.reshape(pred_logits, (1,-1))\n",
        "\n",
        "            outputs = torch.cat([outputs, pred_logits])\n",
        "\n",
        "        return outputs\n",
        "\n",
        "class NLIMinSentimentClassificationHead(torch.nn.Module):\n",
        "    def __init__(self, nli_model, num_prompts, pos_prompt_indexes, neg_prompt_indexes):\n",
        "        super(NLIMinSentimentClassificationHead, self).__init__()\n",
        "        \n",
        "        self.num_prompts = num_prompts\n",
        "        self.nli_model = nli_model\n",
        "        \n",
        "        self.pos_prompt_indexes = pos_prompt_indexes\n",
        "        self.neg_prompt_indexes = neg_prompt_indexes\n",
        "        \n",
        "    def forward(self, reviews_and_prompts):\n",
        "        \n",
        "        nli_output = self.nli_model(**reviews_and_prompts)[\"logits\"]\n",
        "\n",
        "        outputs = torch.Tensor().to(self.nli_model.device)\n",
        "\n",
        "        # Text Attack NLI Labels: 0-> Contradiction, 1-> Entailment, 2-> Neutral\n",
        "        # Sentiment Polarity Labels: 0-> Positive, 1-> Negative, 2-> Neutral\n",
        "        for i in range(len(nli_output)//self.num_prompts):\n",
        "            prompts_batch = nli_output[i*self.num_prompts:(i+1)*self.num_prompts]\n",
        "\n",
        "            pos_logit = torch.mean(prompts_batch[self.pos_prompt_indexes], dim=0)[1]\n",
        "\n",
        "            neg_logit = torch.mean(prompts_batch[self.neg_prompt_indexes], dim=0)[1]\n",
        "\n",
        "            neu_logit = torch.min(prompts_batch, dim=0)[0][2]\n",
        "\n",
        "            pred_logits = torch.stack([pos_logit, neg_logit, neu_logit])\n",
        "            pred_logits = torch.reshape(pred_logits, (1,-1))\n",
        "\n",
        "            outputs = torch.cat([outputs, pred_logits])\n",
        "\n",
        "        return outputs\n"
      ],
      "id": "DIpbwIm11WT-",
      "execution_count": 7,
      "outputs": []
    },
    {
      "cell_type": "code",
      "metadata": {
        "execution": {
          "iopub.execute_input": "2021-04-14T09:17:44.957547Z",
          "iopub.status.busy": "2021-04-14T09:17:44.956864Z",
          "iopub.status.idle": "2021-04-14T09:17:44.960465Z",
          "shell.execute_reply": "2021-04-14T09:17:44.959837Z"
        },
        "id": "205c591d",
        "papermill": {
          "duration": 0.084988,
          "end_time": "2021-04-14T09:17:44.960595",
          "exception": false,
          "start_time": "2021-04-14T09:17:44.875607",
          "status": "completed"
        },
        "tags": [
          "parameters"
        ]
      },
      "source": [
        "\n",
        "# We will use the following string ID to identify this particular (training) experiments\n",
        "# in directory paths and other settings\n",
        "experiment_id = 'supervised_nli_single_prompt_1_in_domain_restaurant_MNLI_base_seed_696'\n",
        "\n",
        "# Random seed\n",
        "random_seed = 696\n",
        "\n",
        "# path to pretrained nli model folder or the string \"textattack/bert-base-uncased-MNLI\"\n",
        "nli_model_path = \"textattack/bert-base-uncased-MNLI\"\n",
        "\n",
        "# Prompts to be added to the end of each review text\n",
        "sentiment_prompts = [\n",
        "    \"The {aspect} is good.\",\n",
        "    \"The {aspect} is bad.\"]\n",
        "\n",
        "#index of the prompts in the sentiment_prompts by polarity for later grouping\n",
        "pos_prompt_indexes = [0]\n",
        "neg_prompt_indexes = [1]\n",
        "\n",
        "#What datasets to be used for training and testing loops\n",
        "training_domain = \"restaurants\"\n",
        "testing_domain = \"restaurants\"\n",
        "\n",
        "# Training settings\n",
        "training_epochs = 20\n",
        "training_batch_size = 8\n",
        "training_learning_rate = 2e-5\n",
        "training_weight_decay = 0.01\n",
        "training_warmup_steps_duration = 0.1\n",
        "training_best_model_criterion = 'train_loss'\n",
        "\n",
        "training_lm_freeze = False\n",
        "\n",
        "validation_enabled = False\n",
        "validation_dataset_proportion = 0.2\n",
        "validation_batch_size = 8\n",
        "\n",
        "testing_batch_size = 32"
      ],
      "id": "205c591d",
      "execution_count": 8,
      "outputs": []
    },
    {
      "cell_type": "code",
      "metadata": {
        "execution": {
          "iopub.execute_input": "2021-04-14T09:17:45.125761Z",
          "iopub.status.busy": "2021-04-14T09:17:45.125025Z",
          "iopub.status.idle": "2021-04-14T09:17:45.128050Z",
          "shell.execute_reply": "2021-04-14T09:17:45.127424Z"
        },
        "papermill": {
          "duration": 0.08669,
          "end_time": "2021-04-14T09:17:45.128255",
          "exception": false,
          "start_time": "2021-04-14T09:17:45.041565",
          "status": "completed"
        },
        "tags": [
          "injected-parameters"
        ],
        "id": "33158748"
      },
      "source": [
        "# Parameters\n",
        "experiment_id = \"nli_supervised_in_domain_laptops_MNLI-base_I_felt_696\"\n",
        "random_seed = 696\n",
        "nli_model_path = \"textattack/bert-base-uncased-MNLI\"\n",
        "sentiment_prompts = [\"I felt the {aspect} were good.\", \"I felt the {aspect} were bad.\"]\n",
        "pos_prompt_indexes = [0]\n",
        "neg_prompt_indexes = [1]\n",
        "training_domain = \"laptops\"\n",
        "testing_batch_size = 8\n",
        "testing_domain = \"laptops\"\n",
        "training_batch_size = 8\n"
      ],
      "id": "33158748",
      "execution_count": 40,
      "outputs": []
    },
    {
      "cell_type": "markdown",
      "metadata": {
        "id": "169e034b",
        "papermill": {
          "duration": 0.059185,
          "end_time": "2021-04-14T09:17:45.258934",
          "exception": false,
          "start_time": "2021-04-14T09:17:45.199749",
          "status": "completed"
        },
        "tags": []
      },
      "source": [
        "## Package imports"
      ],
      "id": "169e034b"
    },
    {
      "cell_type": "code",
      "metadata": {
        "colab": {
          "base_uri": "https://localhost:8080/"
        },
        "execution": {
          "iopub.execute_input": "2021-04-14T09:17:45.381681Z",
          "iopub.status.busy": "2021-04-14T09:17:45.381034Z",
          "iopub.status.idle": "2021-04-14T09:17:48.668262Z",
          "shell.execute_reply": "2021-04-14T09:17:48.669304Z"
        },
        "id": "18d534de",
        "papermill": {
          "duration": 3.355855,
          "end_time": "2021-04-14T09:17:48.669607",
          "exception": false,
          "start_time": "2021-04-14T09:17:45.313752",
          "status": "completed"
        },
        "tags": [],
        "outputId": "93d25791-af2b-4117-e133-e12de724b46c"
      },
      "source": [
        "import sys\n",
        "import os\n",
        "import random\n",
        "import shutil\n",
        "import copy\n",
        "import inspect\n",
        "import json\n",
        "import numpy as np\n",
        "import torch\n",
        "import transformers\n",
        "import datasets\n",
        "import sklearn.metrics\n",
        "import pandas as pd\n",
        "import matplotlib.pyplot as plt\n",
        "import seaborn as sn\n",
        "import tqdm\n",
        "\n",
        "current_dir = os.path.dirname(os.path.abspath(inspect.getfile(inspect.currentframe())))\n",
        "parent_dir = os.path.dirname(current_dir)\n",
        "sys.path.append(parent_dir)\n",
        "\n",
        "import utils\n",
        "\n",
        "# Random seed settings\n",
        "random.seed(random_seed)\n",
        "np.random.seed(random_seed)\n",
        "# cuBLAS reproducibility\n",
        "# https://docs.nvidia.com/cuda/cublas/index.html#cublasApi_reproducibility\n",
        "os.environ['CUBLAS_WORKSPACE_CONFIG'] = \":4096:8\"\n",
        "torch.set_deterministic(True)\n",
        "torch.manual_seed(random_seed)\n",
        "\n",
        "# Print version information\n",
        "print(\"Python version: \" + sys.version)\n",
        "print(\"NumPy version: \" + np.__version__)\n",
        "print(\"PyTorch version: \" + torch.__version__)\n",
        "print(\"Transformers version: \" + transformers.__version__)"
      ],
      "id": "18d534de",
      "execution_count": 10,
      "outputs": [
        {
          "output_type": "stream",
          "text": [
            "Python version: 3.7.10 (default, May  3 2021, 02:48:31) \n",
            "[GCC 7.5.0]\n",
            "NumPy version: 1.19.5\n",
            "PyTorch version: 1.7.1\n",
            "Transformers version: 4.3.3\n"
          ],
          "name": "stdout"
        }
      ]
    },
    {
      "cell_type": "markdown",
      "metadata": {
        "id": "78f1ee52",
        "papermill": {
          "duration": 0.067281,
          "end_time": "2021-04-14T09:17:48.839940",
          "exception": false,
          "start_time": "2021-04-14T09:17:48.772659",
          "status": "completed"
        },
        "tags": []
      },
      "source": [
        "## PyTorch GPU settings"
      ],
      "id": "78f1ee52"
    },
    {
      "cell_type": "code",
      "metadata": {
        "colab": {
          "base_uri": "https://localhost:8080/"
        },
        "execution": {
          "iopub.execute_input": "2021-04-14T09:17:50.767583Z",
          "iopub.status.busy": "2021-04-14T09:17:49.016404Z",
          "iopub.status.idle": "2021-04-14T09:17:50.771850Z",
          "shell.execute_reply": "2021-04-14T09:17:50.772413Z"
        },
        "id": "53d9ba9a",
        "papermill": {
          "duration": 1.862641,
          "end_time": "2021-04-14T09:17:50.772589",
          "exception": false,
          "start_time": "2021-04-14T09:17:48.909948",
          "status": "completed"
        },
        "tags": [],
        "outputId": "07a040eb-ece8-4599-80ac-766834cd1c1f"
      },
      "source": [
        "\n",
        "if torch.cuda.is_available():    \n",
        "    torch_device = torch.device('cuda')\n",
        "\n",
        "    # Set this to True to make your output immediately reproducible\n",
        "    # Note: https://pytorch.org/docs/stable/notes/randomness.html\n",
        "    torch.backends.cudnn.deterministic = True\n",
        "    \n",
        "    # Disable 'benchmark' mode: Set this False if you want to measure running times more fairly\n",
        "    # Note: https://discuss.pytorch.org/t/what-does-torch-backends-cudnn-benchmark-do/5936\n",
        "    torch.backends.cudnn.benchmark = False\n",
        "    \n",
        "    # Faster Host to GPU copies with page-locked memory\n",
        "    use_pin_memory = True\n",
        "    \n",
        "    # Number of compute devices to be used for training\n",
        "    training_device_count = torch.cuda.device_count()\n",
        "\n",
        "    # CUDA libraries version information\n",
        "    print(\"CUDA Version: \" + str(torch.version.cuda))\n",
        "    print(\"cuDNN Version: \" + str(torch.backends.cudnn.version()))\n",
        "    print(\"CUDA Device Name: \" + str(torch.cuda.get_device_name()))\n",
        "    print(\"CUDA Capabilities: \"+ str(torch.cuda.get_device_capability()))\n",
        "    print(\"Number of CUDA devices: \"+ str(training_device_count))\n",
        "    \n",
        "else:\n",
        "    torch_device = torch.device('cpu')\n",
        "    use_pin_memory = False\n",
        "    \n",
        "    # Number of compute devices to be used for training\n",
        "    training_device_count = 1\n",
        "\n",
        "print()\n",
        "print(\"PyTorch device selected:\", torch_device)"
      ],
      "id": "53d9ba9a",
      "execution_count": 11,
      "outputs": [
        {
          "output_type": "stream",
          "text": [
            "CUDA Version: 10.2\n",
            "cuDNN Version: 7605\n",
            "CUDA Device Name: Tesla T4\n",
            "CUDA Capabilities: (7, 5)\n",
            "Number of CUDA devices: 1\n",
            "\n",
            "PyTorch device selected: cuda\n"
          ],
          "name": "stdout"
        }
      ]
    },
    {
      "cell_type": "markdown",
      "metadata": {
        "id": "30f1f1cb",
        "papermill": {
          "duration": 0.072829,
          "end_time": "2021-04-14T09:17:50.920232",
          "exception": false,
          "start_time": "2021-04-14T09:17:50.847403",
          "status": "completed"
        },
        "tags": []
      },
      "source": [
        "# Prepare Datasets for Prompt-based Classifier"
      ],
      "id": "30f1f1cb"
    },
    {
      "cell_type": "markdown",
      "metadata": {
        "id": "b25dbc88",
        "papermill": {
          "duration": 0.072759,
          "end_time": "2021-04-14T09:17:51.066279",
          "exception": false,
          "start_time": "2021-04-14T09:17:50.993520",
          "status": "completed"
        },
        "tags": []
      },
      "source": [
        "## Load the SemEval dataset"
      ],
      "id": "b25dbc88"
    },
    {
      "cell_type": "code",
      "metadata": {
        "colab": {
          "base_uri": "https://localhost:8080/"
        },
        "execution": {
          "iopub.execute_input": "2021-04-14T09:17:51.227509Z",
          "iopub.status.busy": "2021-04-14T09:17:51.226811Z",
          "iopub.status.idle": "2021-04-14T09:17:51.948638Z",
          "shell.execute_reply": "2021-04-14T09:17:51.947637Z"
        },
        "id": "a4e71c29",
        "papermill": {
          "duration": 0.805682,
          "end_time": "2021-04-14T09:17:51.948940",
          "exception": false,
          "start_time": "2021-04-14T09:17:51.143258",
          "status": "completed"
        },
        "tags": [],
        "outputId": "f921b5d3-7b63-4a2b-f286-153d1215472b"
      },
      "source": [
        "# Load semeval for both domains\n",
        "laptop_semeval_dataset = datasets.load_dataset(\n",
        "    os.path.abspath('./dataset_scripts/semeval2014_task4/semeval2014_task4.py'),\n",
        "    data_files={\n",
        "        'test': './dataset_files/semeval_2014/Laptops_Test_Gold.xml',\n",
        "        'train': './dataset_files/semeval_2014/Laptop_Train_v2.xml',\n",
        "    },\n",
        "    cache_dir='./dataset_cache')\n",
        "\n",
        "restaurant_semeval_dataset = datasets.load_dataset(\n",
        "    os.path.abspath('./dataset_scripts/semeval2014_task4/semeval2014_task4.py'),\n",
        "    data_files={\n",
        "        'test': './dataset_files/semeval_2014/Restaurants_Test_Gold.xml',\n",
        "        'train': './dataset_files/semeval_2014/Restaurants_Train_v2.xml',\n",
        "    },\n",
        "    cache_dir='./dataset_cache')"
      ],
      "id": "a4e71c29",
      "execution_count": 12,
      "outputs": [
        {
          "output_type": "stream",
          "text": [
            "Using custom data configuration default\n",
            "Reusing dataset sem_eval2014_task4_dataset (./dataset_cache/sem_eval2014_task4_dataset/default-2ba098669778f075/0.0.1/f33ba7108331ad17be3f9fb710ca001edb383fba797c6ed0938354e6812ca969)\n",
            "Using custom data configuration default\n",
            "Reusing dataset sem_eval2014_task4_dataset (./dataset_cache/sem_eval2014_task4_dataset/default-00707989ebea381d/0.0.1/f33ba7108331ad17be3f9fb710ca001edb383fba797c6ed0938354e6812ca969)\n"
          ],
          "name": "stderr"
        }
      ]
    },
    {
      "cell_type": "code",
      "metadata": {
        "execution": {
          "iopub.execute_input": "2021-04-14T09:17:52.127349Z",
          "iopub.status.busy": "2021-04-14T09:17:52.126410Z",
          "iopub.status.idle": "2021-04-14T09:17:52.128934Z",
          "shell.execute_reply": "2021-04-14T09:17:52.129482Z"
        },
        "id": "234dcdac",
        "papermill": {
          "duration": 0.081917,
          "end_time": "2021-04-14T09:17:52.129628",
          "exception": false,
          "start_time": "2021-04-14T09:17:52.047711",
          "status": "completed"
        },
        "tags": []
      },
      "source": [
        "dataset_dic_train = {\n",
        "    \"laptops\": laptop_semeval_dataset['train'],\n",
        "    \"restaurants\": restaurant_semeval_dataset['train']\n",
        "}\n",
        "\n",
        "dataset_dic_test = {\n",
        "    \"laptops\": laptop_semeval_dataset['test'],\n",
        "    \"restaurants\": restaurant_semeval_dataset['test']\n",
        "}\n"
      ],
      "id": "234dcdac",
      "execution_count": 13,
      "outputs": []
    },
    {
      "cell_type": "code",
      "metadata": {
        "execution": {
          "iopub.execute_input": "2021-04-14T09:17:52.284055Z",
          "iopub.status.busy": "2021-04-14T09:17:52.283164Z",
          "iopub.status.idle": "2021-04-14T09:17:52.285775Z",
          "shell.execute_reply": "2021-04-14T09:17:52.286325Z"
        },
        "papermill": {
          "duration": 0.081159,
          "end_time": "2021-04-14T09:17:52.286474",
          "exception": false,
          "start_time": "2021-04-14T09:17:52.205315",
          "status": "completed"
        },
        "tags": [],
        "id": "3b556c52"
      },
      "source": [
        "# The dataset chosen for training and testing\n",
        "train_set = dataset_dic_train[training_domain]\n",
        "test_set = dataset_dic_test[testing_domain]"
      ],
      "id": "3b556c52",
      "execution_count": 14,
      "outputs": []
    },
    {
      "cell_type": "markdown",
      "metadata": {
        "id": "42aeac01",
        "papermill": {
          "duration": 0.074267,
          "end_time": "2021-04-14T09:17:52.434905",
          "exception": false,
          "start_time": "2021-04-14T09:17:52.360638",
          "status": "completed"
        },
        "tags": []
      },
      "source": [
        "## Train-validation split"
      ],
      "id": "42aeac01"
    },
    {
      "cell_type": "code",
      "metadata": {
        "colab": {
          "base_uri": "https://localhost:8080/"
        },
        "execution": {
          "iopub.execute_input": "2021-04-14T09:17:52.589122Z",
          "iopub.status.busy": "2021-04-14T09:17:52.588365Z",
          "iopub.status.idle": "2021-04-14T09:17:52.592239Z",
          "shell.execute_reply": "2021-04-14T09:17:52.591606Z"
        },
        "id": "c5201e50",
        "papermill": {
          "duration": 0.082863,
          "end_time": "2021-04-14T09:17:52.592369",
          "exception": false,
          "start_time": "2021-04-14T09:17:52.509506",
          "status": "completed"
        },
        "tags": [],
        "outputId": "3584897f-48c6-4f5f-aeb3-7c8a31b35fd8"
      },
      "source": [
        "# Training set size after validation split\n",
        "if validation_enabled:\n",
        "    new_train_dataset_size = int(len(train_set) * (1 - validation_dataset_proportion))\n",
        "    new_valid_dataset_size = len(train_set) - new_train_dataset_size\n",
        "    print(\"Training dataset after split:\", new_train_dataset_size)\n",
        "    print(\"Validation dataset after split:\", new_train_dataset_size)\n",
        "else:\n",
        "    new_train_dataset_size = len(train_set)\n",
        "    print(\"Training dataset size:\", new_train_dataset_size)"
      ],
      "id": "c5201e50",
      "execution_count": 15,
      "outputs": [
        {
          "output_type": "stream",
          "text": [
            "Training dataset size: 2313\n"
          ],
          "name": "stdout"
        }
      ]
    },
    {
      "cell_type": "code",
      "metadata": {
        "colab": {
          "base_uri": "https://localhost:8080/"
        },
        "execution": {
          "iopub.execute_input": "2021-04-14T09:17:52.730472Z",
          "iopub.status.busy": "2021-04-14T09:17:52.729971Z",
          "iopub.status.idle": "2021-04-14T09:17:52.787818Z",
          "shell.execute_reply": "2021-04-14T09:17:52.787292Z"
        },
        "id": "8710a9bd",
        "papermill": {
          "duration": 0.120927,
          "end_time": "2021-04-14T09:17:52.787955",
          "exception": false,
          "start_time": "2021-04-14T09:17:52.667028",
          "status": "completed"
        },
        "tags": [],
        "outputId": "c74a1c59-13b9-4e58-915e-fe4c00f4e2ea"
      },
      "source": [
        "train_set = train_set.shuffle(seed=random_seed)\n",
        "\n",
        "new_train_set = train_set.select(indices=np.arange(new_train_dataset_size))\n",
        "\n",
        "if validation_enabled:\n",
        "    new_valid_set = train_set.select(\n",
        "        indices=np.arange(\n",
        "            new_train_dataset_size,\n",
        "            new_train_dataset_size + new_valid_dataset_size))"
      ],
      "id": "8710a9bd",
      "execution_count": 16,
      "outputs": [
        {
          "output_type": "stream",
          "text": [
            "Loading cached shuffled indices for dataset at ./dataset_cache/sem_eval2014_task4_dataset/default-2ba098669778f075/0.0.1/f33ba7108331ad17be3f9fb710ca001edb383fba797c6ed0938354e6812ca969/cache-de8ce8ac91817d47.arrow\n"
          ],
          "name": "stderr"
        }
      ]
    },
    {
      "cell_type": "code",
      "metadata": {
        "colab": {
          "base_uri": "https://localhost:8080/"
        },
        "execution": {
          "iopub.execute_input": "2021-04-14T09:17:52.913145Z",
          "iopub.status.busy": "2021-04-14T09:17:52.912611Z",
          "iopub.status.idle": "2021-04-14T09:17:52.915730Z",
          "shell.execute_reply": "2021-04-14T09:17:52.915257Z"
        },
        "id": "60a082f3",
        "papermill": {
          "duration": 0.06474,
          "end_time": "2021-04-14T09:17:52.915829",
          "exception": false,
          "start_time": "2021-04-14T09:17:52.851089",
          "status": "completed"
        },
        "tags": [],
        "outputId": "2d7e5249-6368-448d-ec2c-27b3cac8322a"
      },
      "source": [
        "print(new_train_set[0])"
      ],
      "id": "60a082f3",
      "execution_count": 17,
      "outputs": [
        {
          "output_type": "stream",
          "text": [
            "{'aspect': 'loads', 'sentiment': 2, 'text': 'Once I removed all the software the laptop loads in 15-20 seconds.'}\n"
          ],
          "name": "stdout"
        }
      ]
    },
    {
      "cell_type": "markdown",
      "metadata": {
        "id": "1865dbeb",
        "papermill": {
          "duration": 0.059399,
          "end_time": "2021-04-14T09:17:53.035203",
          "exception": false,
          "start_time": "2021-04-14T09:17:52.975804",
          "status": "completed"
        },
        "tags": []
      },
      "source": [
        "# Supervised ATSC with Prompts + Logistic Regression Head"
      ],
      "id": "1865dbeb"
    },
    {
      "cell_type": "markdown",
      "metadata": {
        "id": "08dca259",
        "papermill": {
          "duration": 0.057453,
          "end_time": "2021-04-14T09:17:53.150677",
          "exception": false,
          "start_time": "2021-04-14T09:17:53.093224",
          "status": "completed"
        },
        "tags": []
      },
      "source": [
        "## Load the pretrained LM"
      ],
      "id": "08dca259"
    },
    {
      "cell_type": "code",
      "metadata": {
        "execution": {
          "iopub.execute_input": "2021-04-14T09:17:53.270315Z",
          "iopub.status.busy": "2021-04-14T09:17:53.269643Z",
          "iopub.status.idle": "2021-04-14T09:17:58.431562Z",
          "shell.execute_reply": "2021-04-14T09:17:58.432583Z"
        },
        "id": "56a24d11",
        "papermill": {
          "duration": 5.224628,
          "end_time": "2021-04-14T09:17:58.432932",
          "exception": false,
          "start_time": "2021-04-14T09:17:53.208304",
          "status": "completed"
        },
        "tags": [],
        "colab": {
          "base_uri": "https://localhost:8080/",
          "height": 115,
          "referenced_widgets": [
            "904615ac0f85491e9f185ca15bf41d91",
            "3de4e30e838746928d7bd65369ff16b0",
            "8190ceea6cb84f57b8922009fe6df138",
            "c9dc7affe32b4225b23626f75285719b",
            "513f4f7ddefd4657b4214e3af0259659",
            "7d6c273ba99547cca8b546d946a0e653",
            "47590fbedf88445ea9ccb1ea4da2b162",
            "0a3cc015c0f54047825982e69f755a1c",
            "e71308c12ed04f259dea1707178504ee",
            "9dd6a15b351c4400b01c22ed2c094802",
            "7c71f699f1a9416cbdfa8e6f692fd6b0",
            "81dc515d63fe42b583d9c4c650894bd7",
            "550ffee0de2448fea53571bc96a0557d",
            "bf947c38b69946b1852b068343408a7b",
            "be8647f73faa4ecf92a02354707d9c11",
            "59e342e3e1fc458385b00f4ab8315d4b"
          ]
        },
        "outputId": "616c1b3c-724b-4563-dd0c-7e11f753fd4f"
      },
      "source": [
        "# Load pretrained language model\n",
        "nli_model = transformers.AutoModelForSequenceClassification.from_pretrained(nli_model_path)\n",
        "tokenizer = transformers.AutoTokenizer.from_pretrained(\"textattack/bert-base-uncased-MNLI\", cache_dir='../bert_base_cache')"
      ],
      "id": "56a24d11",
      "execution_count": 18,
      "outputs": [
        {
          "output_type": "display_data",
          "data": {
            "application/vnd.jupyter.widget-view+json": {
              "model_id": "904615ac0f85491e9f185ca15bf41d91",
              "version_minor": 0,
              "version_major": 2
            },
            "text/plain": [
              "HBox(children=(FloatProgress(value=0.0, description='Downloading', max=630.0, style=ProgressStyle(description_…"
            ]
          },
          "metadata": {
            "tags": []
          }
        },
        {
          "output_type": "stream",
          "text": [
            "\n"
          ],
          "name": "stdout"
        },
        {
          "output_type": "display_data",
          "data": {
            "application/vnd.jupyter.widget-view+json": {
              "model_id": "e71308c12ed04f259dea1707178504ee",
              "version_minor": 0,
              "version_major": 2
            },
            "text/plain": [
              "HBox(children=(FloatProgress(value=0.0, description='Downloading', max=437988463.0, style=ProgressStyle(descri…"
            ]
          },
          "metadata": {
            "tags": []
          }
        },
        {
          "output_type": "stream",
          "text": [
            "\n"
          ],
          "name": "stdout"
        }
      ]
    },
    {
      "cell_type": "code",
      "metadata": {
        "execution": {
          "iopub.execute_input": "2021-04-14T09:17:58.618927Z",
          "iopub.status.busy": "2021-04-14T09:17:58.618342Z",
          "iopub.status.idle": "2021-04-14T09:17:58.621535Z",
          "shell.execute_reply": "2021-04-14T09:17:58.621050Z"
        },
        "papermill": {
          "duration": 0.079367,
          "end_time": "2021-04-14T09:17:58.621647",
          "exception": false,
          "start_time": "2021-04-14T09:17:58.542280",
          "status": "completed"
        },
        "tags": [],
        "id": "3e1bfc3f"
      },
      "source": [
        "# Freeze all layers in lm.\n",
        "if training_lm_freeze:\n",
        "    for param in nli_model.parameters():\n",
        "        param.requires_grad = False"
      ],
      "id": "3e1bfc3f",
      "execution_count": 19,
      "outputs": []
    },
    {
      "cell_type": "code",
      "metadata": {
        "execution": {
          "iopub.execute_input": "2021-04-14T09:17:58.748044Z",
          "iopub.status.busy": "2021-04-14T09:17:58.747553Z",
          "iopub.status.idle": "2021-04-14T09:18:01.944791Z",
          "shell.execute_reply": "2021-04-14T09:18:01.945802Z"
        },
        "papermill": {
          "duration": 3.262784,
          "end_time": "2021-04-14T09:18:01.946086",
          "exception": false,
          "start_time": "2021-04-14T09:17:58.683302",
          "status": "completed"
        },
        "tags": [],
        "id": "c5220e7a"
      },
      "source": [
        "classifier = NLISentimentClassificationHead(\n",
        "                    nli_model = nli_model,\n",
        "                    num_prompts = len(sentiment_prompts),\n",
        "                    pos_prompt_indexes = pos_prompt_indexes,\n",
        "                    neg_prompt_indexes = neg_prompt_indexes\n",
        "                    )\n",
        "classifier_model = classifier.to(torch_device)"
      ],
      "id": "c5220e7a",
      "execution_count": 23,
      "outputs": []
    },
    {
      "cell_type": "markdown",
      "metadata": {
        "id": "72da7aad",
        "papermill": {
          "duration": 0.078495,
          "end_time": "2021-04-14T09:18:02.134812",
          "exception": false,
          "start_time": "2021-04-14T09:18:02.056317",
          "status": "completed"
        },
        "tags": []
      },
      "source": [
        "## Training settings"
      ],
      "id": "72da7aad"
    },
    {
      "cell_type": "code",
      "metadata": {
        "execution": {
          "iopub.execute_input": "2021-04-14T09:18:02.297951Z",
          "iopub.status.busy": "2021-04-14T09:18:02.297293Z",
          "iopub.status.idle": "2021-04-14T09:18:02.301372Z",
          "shell.execute_reply": "2021-04-14T09:18:02.301889Z"
        },
        "papermill": {
          "duration": 0.090522,
          "end_time": "2021-04-14T09:18:02.302042",
          "exception": false,
          "start_time": "2021-04-14T09:18:02.211520",
          "status": "completed"
        },
        "tags": [],
        "colab": {
          "base_uri": "https://localhost:8080/"
        },
        "id": "af6620a2",
        "outputId": "2c501745-87a7-4210-b0c9-e2cb3afe2719"
      },
      "source": [
        "# How many training steps would we have?\n",
        "approx_total_training_steps = len(new_train_set) // training_batch_size * training_epochs\n",
        "\n",
        "print(\"There will be approximately %d training steps.\" % approx_total_training_steps)\n",
        "\n",
        "# Let's have warmups for the first (training_warmup_steps_duration)% of steps.\n",
        "training_warmup_steps = int(approx_total_training_steps * training_warmup_steps_duration)\n",
        "\n",
        "print(\"Warmup steps:\", training_warmup_steps)"
      ],
      "id": "af6620a2",
      "execution_count": 29,
      "outputs": [
        {
          "output_type": "stream",
          "text": [
            "There will be approximately 5780 training steps.\n",
            "Warmup steps: 578\n"
          ],
          "name": "stdout"
        }
      ]
    },
    {
      "cell_type": "code",
      "metadata": {
        "execution": {
          "iopub.execute_input": "2021-04-14T09:18:02.469038Z",
          "iopub.status.busy": "2021-04-14T09:18:02.468393Z",
          "iopub.status.idle": "2021-04-14T09:18:02.623352Z",
          "shell.execute_reply": "2021-04-14T09:18:02.624314Z"
        },
        "id": "85799efc",
        "papermill": {
          "duration": 0.244883,
          "end_time": "2021-04-14T09:18:02.624583",
          "exception": false,
          "start_time": "2021-04-14T09:18:02.379700",
          "status": "completed"
        },
        "tags": []
      },
      "source": [
        "train_dataloader = torch.utils.data.DataLoader(\n",
        "    new_train_set, batch_size=training_batch_size,\n",
        "    shuffle=True, pin_memory=use_pin_memory)\n",
        "\n",
        "if validation_enabled:\n",
        "    validation_dataloader = torch.utils.data.DataLoader(\n",
        "        new_valid_set, batch_size=validation_batch_size, pin_memory=use_pin_memory)\n",
        "\n",
        "loss_function = torch.nn.CrossEntropyLoss()\n",
        "\n",
        "optimizer = transformers.AdamW(\n",
        "    classifier.parameters(),\n",
        "    lr=training_learning_rate,\n",
        "    weight_decay=training_weight_decay)\n",
        "\n",
        "scheduler = transformers.get_linear_schedule_with_warmup(\n",
        "    optimizer,\n",
        "    num_warmup_steps=training_warmup_steps,\n",
        "    num_training_steps=len(new_train_set) * training_epochs,\n",
        ")\n",
        "\n",
        "# The directory to save the best version of the head\n",
        "trained_model_directory = os.path.join('..', 'trained_models', experiment_id)\n",
        "\n",
        "shutil.rmtree(trained_model_directory, ignore_errors=True)\n",
        "os.makedirs(trained_model_directory)"
      ],
      "id": "85799efc",
      "execution_count": 30,
      "outputs": []
    },
    {
      "cell_type": "code",
      "metadata": {
        "execution": {
          "iopub.execute_input": "2021-04-14T09:18:02.806888Z",
          "iopub.status.busy": "2021-04-14T09:18:02.806235Z",
          "iopub.status.idle": "2021-04-14T09:18:02.809906Z",
          "shell.execute_reply": "2021-04-14T09:18:02.809300Z"
        },
        "id": "2164d6dc",
        "papermill": {
          "duration": 0.090842,
          "end_time": "2021-04-14T09:18:02.810040",
          "exception": false,
          "start_time": "2021-04-14T09:18:02.719198",
          "status": "completed"
        },
        "tags": []
      },
      "source": [
        "def compute_metrics(predictions, labels):\n",
        "    preds = predictions.argmax(-1)\n",
        "\n",
        "    precision, recall, f1, _ = sklearn.metrics.precision_recall_fscore_support(\n",
        "        y_true=labels, y_pred=preds, labels=[0,1,2], average='macro')\n",
        "\n",
        "    acc = sklearn.metrics.accuracy_score(labels, preds)\n",
        "\n",
        "    return {\n",
        "        'accuracy': acc,\n",
        "        'f1': f1,\n",
        "        'precision': precision,\n",
        "        'recall': recall\n",
        "    }"
      ],
      "id": "2164d6dc",
      "execution_count": 31,
      "outputs": []
    },
    {
      "cell_type": "markdown",
      "metadata": {
        "id": "da810758",
        "papermill": {
          "duration": 0.078398,
          "end_time": "2021-04-14T09:18:02.966537",
          "exception": false,
          "start_time": "2021-04-14T09:18:02.888139",
          "status": "completed"
        },
        "tags": []
      },
      "source": [
        "## Training loop"
      ],
      "id": "da810758"
    },
    {
      "cell_type": "markdown",
      "metadata": {
        "id": "32555d11",
        "papermill": {
          "duration": 0.106487,
          "end_time": "2021-04-14T10:25:54.578808",
          "exception": false,
          "start_time": "2021-04-14T10:25:54.472321",
          "status": "completed"
        },
        "tags": []
      },
      "source": [
        "## Evaluation with in-domain test set"
      ],
      "id": "32555d11"
    },
    {
      "cell_type": "code",
      "metadata": {
        "execution": {
          "iopub.execute_input": "2021-04-14T10:25:54.738868Z",
          "iopub.status.busy": "2021-04-14T10:25:54.738386Z",
          "iopub.status.idle": "2021-04-14T10:25:54.741146Z",
          "shell.execute_reply": "2021-04-14T10:25:54.741526Z"
        },
        "id": "8442276c",
        "papermill": {
          "duration": 0.085244,
          "end_time": "2021-04-14T10:25:54.741640",
          "exception": false,
          "start_time": "2021-04-14T10:25:54.656396",
          "status": "completed"
        },
        "tags": []
      },
      "source": [
        "test_dataloader = torch.utils.data.DataLoader(\n",
        "    test_set, batch_size=testing_batch_size, pin_memory=use_pin_memory)\n",
        "# Locate the weight file.\n",
        "trained_model_directory = os.path.join('NLIResults', experiment_id)\n",
        "\n",
        "saved_weights_name = ''\n",
        "\n",
        "for fname in os.listdir(trained_model_directory):\n",
        "    if fname.startswith('epoch'):\n",
        "        saved_weights_name = fname\n",
        "        break\n",
        "\n",
        "print(\"Loading\", saved_weights_name)"
      ],
      "id": "8442276c",
      "execution_count": 32,
      "outputs": []
    },
    {
      "cell_type": "code",
      "metadata": {
        "execution": {
          "iopub.execute_input": "2021-04-14T10:25:54.910301Z",
          "iopub.status.busy": "2021-04-14T10:25:54.909777Z",
          "iopub.status.idle": "2021-04-14T10:26:30.883459Z",
          "shell.execute_reply": "2021-04-14T10:26:30.882519Z"
        },
        "papermill": {
          "duration": 36.067047,
          "end_time": "2021-04-14T10:26:30.883703",
          "exception": false,
          "start_time": "2021-04-14T10:25:54.816656",
          "status": "completed"
        },
        "tags": [],
        "colab": {
          "base_uri": "https://localhost:8080/",
          "height": 83,
          "referenced_widgets": [
            "5966e039471248708d9dc6f2ed6f5f9d",
            "7ee60836802a478cbc190b78b23e3176",
            "9f38c685291b45ecad3dc62cafc1ddc6",
            "d45ddff5fc304b36b94584a0eb174644",
            "e84d407009f04a60a4e3797b98e9ed42",
            "9a78dd642e93403e9756c5400c7dcbf4",
            "d268f0ad6ee84f8283fc894ba5bf1a30",
            "028bffdf0582442793c487b60d45a699"
          ]
        },
        "id": "24ddd232",
        "outputId": "4db2108b-11e6-435b-dfc2-1ae35749e85e"
      },
      "source": [
        "\n",
        "# Load the best found head weights\n",
        "with torch.no_grad():\n",
        "    \n",
        "    classifier_model.load_state_dict(torch.load(os.path.join(os.path.join('NLIResults', experiment_id), saved_weights_name),map_location=torch_device))\n",
        "\n",
        "    classifier.eval()\n",
        "\n",
        "    predictions_test = torch.Tensor().to(torch_device)\n",
        "\n",
        "    labels_test = torch.Tensor().to(torch_device)\n",
        "\n",
        "    for batch_test in tqdm.notebook.tqdm(test_dataloader):\n",
        "\n",
        "        reviews_repeated = []\n",
        "        prompts_populated = []\n",
        "\n",
        "        for i in range(len(batch_test[\"text\"])):\n",
        "            \n",
        "            for prompt in sentiment_prompts:\n",
        "                reviews_repeated.append(batch_test[\"text\"][i])\n",
        "                prompts_populated.append(prompt.format(aspect=\"things\"))\n",
        "\n",
        "        batch_encoded = tokenizer(\n",
        "            reviews_repeated, prompts_populated,\n",
        "            padding='max_length', truncation='only_first', max_length=256,\n",
        "            return_tensors='pt')\n",
        "        \n",
        "        batch_encoded.to(torch_device)\n",
        "\n",
        "        nli_output = nli_model(**batch_encoded)[\"logits\"]\n",
        "\n",
        "        labels = batch_test[\"sentiment\"]\n",
        "        labels = labels.to(torch_device)\n",
        "\n",
        "        optimizer.zero_grad()\n",
        "        \n",
        "        outputs = classifier(batch_encoded)\n",
        "        \n",
        "        predictions_test = torch.cat([predictions_test, outputs])\n",
        "        labels_test = torch.cat([labels_test, labels])\n",
        "\n",
        "    # Compute metrics\n",
        "    test_metrics = compute_metrics(predictions_test.cpu(), labels_test.cpu())\n",
        "    \n",
        "    print(test_metrics)"
      ],
      "id": "24ddd232",
      "execution_count": 41,
      "outputs": [
        {
          "output_type": "display_data",
          "data": {
            "application/vnd.jupyter.widget-view+json": {
              "model_id": "5966e039471248708d9dc6f2ed6f5f9d",
              "version_minor": 0,
              "version_major": 2
            },
            "text/plain": [
              "HBox(children=(FloatProgress(value=0.0, max=80.0), HTML(value='')))"
            ]
          },
          "metadata": {
            "tags": []
          }
        },
        {
          "output_type": "stream",
          "text": [
            "\n",
            "{'accuracy': 0.7382445141065831, 'f1': 0.7049782559966752, 'precision': 0.6982549187624546, 'recall': 0.7140661241157519}\n"
          ],
          "name": "stdout"
        }
      ]
    },
    {
      "cell_type": "markdown",
      "metadata": {
        "id": "9ab3d621",
        "papermill": {
          "duration": 0.100598,
          "end_time": "2021-04-14T10:26:31.118456",
          "exception": false,
          "start_time": "2021-04-14T10:26:31.017858",
          "status": "completed"
        },
        "tags": []
      },
      "source": [
        "## Results visualization"
      ],
      "id": "9ab3d621"
    },
    {
      "cell_type": "code",
      "metadata": {
        "colab": {
          "base_uri": "https://localhost:8080/",
          "height": 442
        },
        "execution": {
          "iopub.execute_input": "2021-04-14T10:26:31.331369Z",
          "iopub.status.busy": "2021-04-14T10:26:31.330655Z",
          "iopub.status.idle": "2021-04-14T10:26:31.693819Z",
          "shell.execute_reply": "2021-04-14T10:26:31.694913Z"
        },
        "id": "40353e9f",
        "papermill": {
          "duration": 0.476879,
          "end_time": "2021-04-14T10:26:31.695265",
          "exception": false,
          "start_time": "2021-04-14T10:26:31.218386",
          "status": "completed"
        },
        "tags": [],
        "outputId": "2ece4910-6bfc-4080-fa01-877d8849c5e7"
      },
      "source": [
        "# Calculate metrics and confusion matrix based upon predictions and true labels\n",
        "cm = sklearn.metrics.confusion_matrix(labels_test.cpu().detach().numpy(), predictions_test.cpu().detach().numpy().argmax(-1), labels=[0,1,2])\n",
        "\n",
        "df_cm = pd.DataFrame(\n",
        "    cm,\n",
        "    index=[i for i in [\"positive\", \"negative\", \"neutral\"]],\n",
        "    columns=[i for i in [\"positive\", \"negative\", \"neutral\"]])\n",
        "\n",
        "plt.figure(figsize=(10, 7))\n",
        "\n",
        "ax = sn.heatmap(df_cm, annot=True, fmt=\"d\", cmap=\"Blues\")\n",
        "\n",
        "ax.set(xlabel='Predicted Label', ylabel='True Label')\n",
        "plt.show()"
      ],
      "id": "40353e9f",
      "execution_count": 42,
      "outputs": [
        {
          "output_type": "display_data",
          "data": {
            "image/png": "[encoded data removed]",
            "text/plain": [
              "<Figure size 720x504 with 2 Axes>"
            ]
          },
          "metadata": {
            "tags": [],
            "needs_background": "light"
          }
        }
      ]
    },
    {
      "cell_type": "code",
      "metadata": {
        "papermill": {
          "duration": 0.100383,
          "end_time": "2021-04-14T10:26:31.929814",
          "exception": false,
          "start_time": "2021-04-14T10:26:31.829431",
          "status": "completed"
        },
        "tags": [],
        "id": "192b42b7"
      },
      "source": [
        ""
      ],
      "id": "192b42b7",
      "execution_count": null,
      "outputs": []
    }
  ]
}