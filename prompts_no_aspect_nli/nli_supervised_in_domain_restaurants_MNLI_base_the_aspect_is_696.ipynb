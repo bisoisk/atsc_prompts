{
  "nbformat": 4,
  "nbformat_minor": 5,
  "metadata": {
    "accelerator": "GPU",
    "celltoolbar": "Tags",
    "colab": {
      "name": "nli_supervised_in_domain_restaurants_MNLI-base_the_aspect_is_696",
      "provenance": [],
      "collapsed_sections": [],
      "toc_visible": true
    },
    "kernelspec": {
      "display_name": "Python 3",
      "language": "python",
      "name": "python3"
    },
    "language_info": {
      "codemirror_mode": {
        "name": "ipython",
        "version": 3
      },
      "file_extension": ".py",
      "mimetype": "text/x-python",
      "name": "python",
      "nbconvert_exporter": "python",
      "pygments_lexer": "ipython3",
      "version": "3.6.13"
    },
    "nteract": {
      "version": "0.28.0"
    },
    "papermill": {
      "default_parameters": {},
      "duration": 4131.042453,
      "end_time": "2021-04-14T10:26:33.868071",
      "environment_variables": {},
      "exception": null,
      "input_path": "nli_experiment_template.ipynb",
      "output_path": "results_nli_supervised_in_domain_laptops/nli_supervised_in_domain_laptops_MNLI-base_I_felt_696.ipynb",
      "parameters": {
        "experiment_id": "nli_supervised_in_domain_laptops_MNLI-base_I_felt_696",
        "neg_prompt_indexes": [
          1
        ],
        "nli_model_path": "textattack/bert-base-uncased-MNLI",
        "pos_prompt_indexes": [
          0
        ],
        "random_seed": 696,
        "sentiment_prompts": [
          "I felt the {aspect} was good.",
          "I felt the {aspect} was bad."
        ],
        "testing_batch_size": 8,
        "testing_domain": "laptops",
        "training_batch_size": 8,
        "training_domain": "laptops"
      },
      "start_time": "2021-04-14T09:17:42.825618",
      "version": "2.3.3"
    },
    "widgets": {
      "application/vnd.jupyter.widget-state+json": {
        "1d5581f9c05b45f7bdc8143527ef1982": {
          "model_module": "@jupyter-widgets/controls",
          "model_name": "HBoxModel",
          "state": {
            "_view_name": "HBoxView",
            "_dom_classes": [],
            "_model_name": "HBoxModel",
            "_view_module": "@jupyter-widgets/controls",
            "_model_module_version": "1.5.0",
            "_view_count": null,
            "_view_module_version": "1.5.0",
            "box_style": "",
            "layout": "IPY_MODEL_a0d9ca736dae43b99a85fc9bc20e83c1",
            "_model_module": "@jupyter-widgets/controls",
            "children": [
              "IPY_MODEL_4443fc46b0a24f2ba6189cb840b1303a",
              "IPY_MODEL_f2af7c84594146b6b5afc8fe9b599221"
            ]
          }
        },
        "a0d9ca736dae43b99a85fc9bc20e83c1": {
          "model_module": "@jupyter-widgets/base",
          "model_name": "LayoutModel",
          "state": {
            "_view_name": "LayoutView",
            "grid_template_rows": null,
            "right": null,
            "justify_content": null,
            "_view_module": "@jupyter-widgets/base",
            "overflow": null,
            "_model_module_version": "1.2.0",
            "_view_count": null,
            "flex_flow": null,
            "width": null,
            "min_width": null,
            "border": null,
            "align_items": null,
            "bottom": null,
            "_model_module": "@jupyter-widgets/base",
            "top": null,
            "grid_column": null,
            "overflow_y": null,
            "overflow_x": null,
            "grid_auto_flow": null,
            "grid_area": null,
            "grid_template_columns": null,
            "flex": null,
            "_model_name": "LayoutModel",
            "justify_items": null,
            "grid_row": null,
            "max_height": null,
            "align_content": null,
            "visibility": null,
            "align_self": null,
            "height": null,
            "min_height": null,
            "padding": null,
            "grid_auto_rows": null,
            "grid_gap": null,
            "max_width": null,
            "order": null,
            "_view_module_version": "1.2.0",
            "grid_template_areas": null,
            "object_position": null,
            "object_fit": null,
            "grid_auto_columns": null,
            "margin": null,
            "display": null,
            "left": null
          }
        },
        "4443fc46b0a24f2ba6189cb840b1303a": {
          "model_module": "@jupyter-widgets/controls",
          "model_name": "FloatProgressModel",
          "state": {
            "_view_name": "ProgressView",
            "style": "IPY_MODEL_d264afafd6ff4d03b7b76690ff78d9b5",
            "_dom_classes": [],
            "description": "100%",
            "_model_name": "FloatProgressModel",
            "bar_style": "success",
            "max": 140,
            "_view_module": "@jupyter-widgets/controls",
            "_model_module_version": "1.5.0",
            "value": 140,
            "_view_count": null,
            "_view_module_version": "1.5.0",
            "orientation": "horizontal",
            "min": 0,
            "description_tooltip": null,
            "_model_module": "@jupyter-widgets/controls",
            "layout": "IPY_MODEL_d18e8fd7cd3645648fd553aec8eddbfe"
          }
        },
        "f2af7c84594146b6b5afc8fe9b599221": {
          "model_module": "@jupyter-widgets/controls",
          "model_name": "HTMLModel",
          "state": {
            "_view_name": "HTMLView",
            "style": "IPY_MODEL_fd25bed2a4c848dda738f0753e100399",
            "_dom_classes": [],
            "description": "",
            "_model_name": "HTMLModel",
            "placeholder": "​",
            "_view_module": "@jupyter-widgets/controls",
            "_model_module_version": "1.5.0",
            "value": " 140/140 [01:14&lt;00:00,  1.87it/s]",
            "_view_count": null,
            "_view_module_version": "1.5.0",
            "description_tooltip": null,
            "_model_module": "@jupyter-widgets/controls",
            "layout": "IPY_MODEL_3b6cb697cfbb4b75a84f7c3a51cf8f16"
          }
        },
        "d264afafd6ff4d03b7b76690ff78d9b5": {
          "model_module": "@jupyter-widgets/controls",
          "model_name": "ProgressStyleModel",
          "state": {
            "_view_name": "StyleView",
            "_model_name": "ProgressStyleModel",
            "description_width": "initial",
            "_view_module": "@jupyter-widgets/base",
            "_model_module_version": "1.5.0",
            "_view_count": null,
            "_view_module_version": "1.2.0",
            "bar_color": null,
            "_model_module": "@jupyter-widgets/controls"
          }
        },
        "d18e8fd7cd3645648fd553aec8eddbfe": {
          "model_module": "@jupyter-widgets/base",
          "model_name": "LayoutModel",
          "state": {
            "_view_name": "LayoutView",
            "grid_template_rows": null,
            "right": null,
            "justify_content": null,
            "_view_module": "@jupyter-widgets/base",
            "overflow": null,
            "_model_module_version": "1.2.0",
            "_view_count": null,
            "flex_flow": null,
            "width": null,
            "min_width": null,
            "border": null,
            "align_items": null,
            "bottom": null,
            "_model_module": "@jupyter-widgets/base",
            "top": null,
            "grid_column": null,
            "overflow_y": null,
            "overflow_x": null,
            "grid_auto_flow": null,
            "grid_area": null,
            "grid_template_columns": null,
            "flex": null,
            "_model_name": "LayoutModel",
            "justify_items": null,
            "grid_row": null,
            "max_height": null,
            "align_content": null,
            "visibility": null,
            "align_self": null,
            "height": null,
            "min_height": null,
            "padding": null,
            "grid_auto_rows": null,
            "grid_gap": null,
            "max_width": null,
            "order": null,
            "_view_module_version": "1.2.0",
            "grid_template_areas": null,
            "object_position": null,
            "object_fit": null,
            "grid_auto_columns": null,
            "margin": null,
            "display": null,
            "left": null
          }
        },
        "fd25bed2a4c848dda738f0753e100399": {
          "model_module": "@jupyter-widgets/controls",
          "model_name": "DescriptionStyleModel",
          "state": {
            "_view_name": "StyleView",
            "_model_name": "DescriptionStyleModel",
            "description_width": "",
            "_view_module": "@jupyter-widgets/base",
            "_model_module_version": "1.5.0",
            "_view_count": null,
            "_view_module_version": "1.2.0",
            "_model_module": "@jupyter-widgets/controls"
          }
        },
        "3b6cb697cfbb4b75a84f7c3a51cf8f16": {
          "model_module": "@jupyter-widgets/base",
          "model_name": "LayoutModel",
          "state": {
            "_view_name": "LayoutView",
            "grid_template_rows": null,
            "right": null,
            "justify_content": null,
            "_view_module": "@jupyter-widgets/base",
            "overflow": null,
            "_model_module_version": "1.2.0",
            "_view_count": null,
            "flex_flow": null,
            "width": null,
            "min_width": null,
            "border": null,
            "align_items": null,
            "bottom": null,
            "_model_module": "@jupyter-widgets/base",
            "top": null,
            "grid_column": null,
            "overflow_y": null,
            "overflow_x": null,
            "grid_auto_flow": null,
            "grid_area": null,
            "grid_template_columns": null,
            "flex": null,
            "_model_name": "LayoutModel",
            "justify_items": null,
            "grid_row": null,
            "max_height": null,
            "align_content": null,
            "visibility": null,
            "align_self": null,
            "height": null,
            "min_height": null,
            "padding": null,
            "grid_auto_rows": null,
            "grid_gap": null,
            "max_width": null,
            "order": null,
            "_view_module_version": "1.2.0",
            "grid_template_areas": null,
            "object_position": null,
            "object_fit": null,
            "grid_auto_columns": null,
            "margin": null,
            "display": null,
            "left": null
          }
        }
      }
    }
  },
  "cells": [
    {
      "cell_type": "code",
      "metadata": {
        "id": "yYSFmGrp2wSp"
      },
      "source": [
        ""
      ],
      "id": "yYSFmGrp2wSp",
      "execution_count": 231,
      "outputs": []
    },
    {
      "cell_type": "code",
      "metadata": {
        "id": "NvZa9Z3V2eGK"
      },
      "source": [
        ""
      ],
      "id": "NvZa9Z3V2eGK",
      "execution_count": 231,
      "outputs": []
    },
    {
      "cell_type": "markdown",
      "metadata": {
        "id": "b2dd8e3a",
        "papermill": {
          "duration": 0.099569,
          "end_time": "2021-04-14T09:17:44.356246",
          "exception": false,
          "start_time": "2021-04-14T09:17:44.256677",
          "status": "completed"
        },
        "tags": []
      },
      "source": [
        "# Initial Setups"
      ],
      "id": "b2dd8e3a"
    },
    {
      "cell_type": "markdown",
      "metadata": {
        "id": "09036ef8",
        "papermill": {
          "duration": 0.070817,
          "end_time": "2021-04-14T09:17:44.498175",
          "exception": false,
          "start_time": "2021-04-14T09:17:44.427358",
          "status": "completed"
        },
        "tags": []
      },
      "source": [
        "## (Google Colab use only)"
      ],
      "id": "09036ef8"
    },
    {
      "cell_type": "code",
      "metadata": {
        "colab": {
          "base_uri": "https://localhost:8080/"
        },
        "execution": {
          "iopub.execute_input": "2021-04-14T09:17:44.656950Z",
          "iopub.status.busy": "2021-04-14T09:17:44.656291Z",
          "iopub.status.idle": "2021-04-14T09:17:44.660609Z",
          "shell.execute_reply": "2021-04-14T09:17:44.660079Z"
        },
        "id": "1e81b28a",
        "papermill": {
          "duration": 0.091994,
          "end_time": "2021-04-14T09:17:44.660753",
          "exception": false,
          "start_time": "2021-04-14T09:17:44.568759",
          "status": "completed"
        },
        "tags": [],
        "outputId": "17613980-5127-4b3b-d75c-2cc5bec5c854"
      },
      "source": [
        "# Use Google Colab\n",
        "use_colab = True\n",
        "\n",
        "# Is this notebook running on Colab?\n",
        "# If so, then google.colab package (github.com/googlecolab/colabtools)\n",
        "# should be available in this environment\n",
        "\n",
        "# Previous version used importlib, but we could do the same thing with\n",
        "# just attempting to import google.colab\n",
        "try:\n",
        "    from google.colab import drive\n",
        "    colab_available = True\n",
        "except:\n",
        "    colab_available = False\n",
        "\n",
        "if use_colab and colab_available:\n",
        "    drive.mount('/content/drive')\n",
        "\n",
        "    # cd to the appropriate working directory under my Google Drive\n",
        "    %cd '/content/drive/My Drive/ATSC'\n",
        "    \n",
        "    # Install packages specified in requirements\n",
        "    !pip install -r requirements.txt\n",
        "    \n",
        "    # List the directory contents\n",
        "    !ls"
      ],
      "id": "1e81b28a",
      "execution_count": 232,
      "outputs": [
        {
          "output_type": "stream",
          "text": [
            "Drive already mounted at /content/drive; to attempt to forcibly remount, call drive.mount(\"/content/drive\", force_remount=True).\n",
            "/content/drive/My Drive/ATSC\n",
            "Requirement already satisfied: transformers==4.3.3 in /usr/local/lib/python3.7/dist-packages (from -r requirements.txt (line 1)) (4.3.3)\n",
            "Requirement already satisfied: datasets==1.2.1 in /usr/local/lib/python3.7/dist-packages (from -r requirements.txt (line 2)) (1.2.1)\n",
            "Requirement already satisfied: pytokenizations==0.7.2 in /usr/local/lib/python3.7/dist-packages (from -r requirements.txt (line 3)) (0.7.2)\n",
            "Requirement already satisfied: spacy==2.3.5 in /usr/local/lib/python3.7/dist-packages (from -r requirements.txt (line 4)) (2.3.5)\n",
            "Requirement already satisfied: en_core_web_sm from https://github.com/explosion/spacy-models/releases/download/en_core_web_sm-2.3.1/en_core_web_sm-2.3.1.tar.gz#egg=en_core_web_sm in /usr/local/lib/python3.7/dist-packages (from -r requirements.txt (line 5)) (2.2.5)\n",
            "Requirement already satisfied: torch==1.7.1 in /usr/local/lib/python3.7/dist-packages (from -r requirements.txt (line 6)) (1.7.1)\n",
            "Requirement already satisfied: scikit-learn==0.24.1 in /usr/local/lib/python3.7/dist-packages (from -r requirements.txt (line 7)) (0.24.1)\n",
            "Requirement already satisfied: seaborn==0.11.1 in /usr/local/lib/python3.7/dist-packages (from -r requirements.txt (line 8)) (0.11.1)\n",
            "Requirement already satisfied: tokenizers<0.11,>=0.10.1 in /usr/local/lib/python3.7/dist-packages (from transformers==4.3.3->-r requirements.txt (line 1)) (0.10.2)\n",
            "Requirement already satisfied: tqdm>=4.27 in /usr/local/lib/python3.7/dist-packages (from transformers==4.3.3->-r requirements.txt (line 1)) (4.41.1)\n",
            "Requirement already satisfied: filelock in /usr/local/lib/python3.7/dist-packages (from transformers==4.3.3->-r requirements.txt (line 1)) (3.0.12)\n",
            "Requirement already satisfied: numpy>=1.17 in /usr/local/lib/python3.7/dist-packages (from transformers==4.3.3->-r requirements.txt (line 1)) (1.19.5)\n",
            "Requirement already satisfied: packaging in /usr/local/lib/python3.7/dist-packages (from transformers==4.3.3->-r requirements.txt (line 1)) (20.9)\n",
            "Requirement already satisfied: requests in /usr/local/lib/python3.7/dist-packages (from transformers==4.3.3->-r requirements.txt (line 1)) (2.23.0)\n",
            "Requirement already satisfied: sacremoses in /usr/local/lib/python3.7/dist-packages (from transformers==4.3.3->-r requirements.txt (line 1)) (0.0.45)\n",
            "Requirement already satisfied: regex!=2019.12.17 in /usr/local/lib/python3.7/dist-packages (from transformers==4.3.3->-r requirements.txt (line 1)) (2019.12.20)\n",
            "Requirement already satisfied: importlib-metadata; python_version < \"3.8\" in /usr/local/lib/python3.7/dist-packages (from transformers==4.3.3->-r requirements.txt (line 1)) (4.0.1)\n",
            "Requirement already satisfied: dill in /usr/local/lib/python3.7/dist-packages (from datasets==1.2.1->-r requirements.txt (line 2)) (0.3.3)\n",
            "Requirement already satisfied: xxhash in /usr/local/lib/python3.7/dist-packages (from datasets==1.2.1->-r requirements.txt (line 2)) (2.0.2)\n",
            "Requirement already satisfied: pandas in /usr/local/lib/python3.7/dist-packages (from datasets==1.2.1->-r requirements.txt (line 2)) (1.1.5)\n",
            "Requirement already satisfied: multiprocess in /usr/local/lib/python3.7/dist-packages (from datasets==1.2.1->-r requirements.txt (line 2)) (0.70.11.1)\n",
            "Requirement already satisfied: pyarrow>=0.17.1 in /usr/local/lib/python3.7/dist-packages (from datasets==1.2.1->-r requirements.txt (line 2)) (3.0.0)\n",
            "Requirement already satisfied: wasabi<1.1.0,>=0.4.0 in /usr/local/lib/python3.7/dist-packages (from spacy==2.3.5->-r requirements.txt (line 4)) (0.8.2)\n",
            "Requirement already satisfied: murmurhash<1.1.0,>=0.28.0 in /usr/local/lib/python3.7/dist-packages (from spacy==2.3.5->-r requirements.txt (line 4)) (1.0.5)\n",
            "Requirement already satisfied: cymem<2.1.0,>=2.0.2 in /usr/local/lib/python3.7/dist-packages (from spacy==2.3.5->-r requirements.txt (line 4)) (2.0.5)\n",
            "Requirement already satisfied: srsly<1.1.0,>=1.0.2 in /usr/local/lib/python3.7/dist-packages (from spacy==2.3.5->-r requirements.txt (line 4)) (1.0.5)\n",
            "Requirement already satisfied: catalogue<1.1.0,>=0.0.7 in /usr/local/lib/python3.7/dist-packages (from spacy==2.3.5->-r requirements.txt (line 4)) (1.0.0)\n",
            "Requirement already satisfied: setuptools in /usr/local/lib/python3.7/dist-packages (from spacy==2.3.5->-r requirements.txt (line 4)) (56.1.0)\n",
            "Requirement already satisfied: blis<0.8.0,>=0.4.0 in /usr/local/lib/python3.7/dist-packages (from spacy==2.3.5->-r requirements.txt (line 4)) (0.4.1)\n",
            "Requirement already satisfied: plac<1.2.0,>=0.9.6 in /usr/local/lib/python3.7/dist-packages (from spacy==2.3.5->-r requirements.txt (line 4)) (1.1.3)\n",
            "Requirement already satisfied: thinc<7.5.0,>=7.4.1 in /usr/local/lib/python3.7/dist-packages (from spacy==2.3.5->-r requirements.txt (line 4)) (7.4.5)\n",
            "Requirement already satisfied: preshed<3.1.0,>=3.0.2 in /usr/local/lib/python3.7/dist-packages (from spacy==2.3.5->-r requirements.txt (line 4)) (3.0.5)\n",
            "Requirement already satisfied: typing-extensions in /usr/local/lib/python3.7/dist-packages (from torch==1.7.1->-r requirements.txt (line 6)) (3.7.4.3)\n",
            "Requirement already satisfied: threadpoolctl>=2.0.0 in /usr/local/lib/python3.7/dist-packages (from scikit-learn==0.24.1->-r requirements.txt (line 7)) (2.1.0)\n",
            "Requirement already satisfied: scipy>=0.19.1 in /usr/local/lib/python3.7/dist-packages (from scikit-learn==0.24.1->-r requirements.txt (line 7)) (1.4.1)\n",
            "Requirement already satisfied: joblib>=0.11 in /usr/local/lib/python3.7/dist-packages (from scikit-learn==0.24.1->-r requirements.txt (line 7)) (1.0.1)\n",
            "Requirement already satisfied: matplotlib>=2.2 in /usr/local/lib/python3.7/dist-packages (from seaborn==0.11.1->-r requirements.txt (line 8)) (3.2.2)\n",
            "Requirement already satisfied: pyparsing>=2.0.2 in /usr/local/lib/python3.7/dist-packages (from packaging->transformers==4.3.3->-r requirements.txt (line 1)) (2.4.7)\n",
            "Requirement already satisfied: urllib3!=1.25.0,!=1.25.1,<1.26,>=1.21.1 in /usr/local/lib/python3.7/dist-packages (from requests->transformers==4.3.3->-r requirements.txt (line 1)) (1.24.3)\n",
            "Requirement already satisfied: idna<3,>=2.5 in /usr/local/lib/python3.7/dist-packages (from requests->transformers==4.3.3->-r requirements.txt (line 1)) (2.10)\n",
            "Requirement already satisfied: chardet<4,>=3.0.2 in /usr/local/lib/python3.7/dist-packages (from requests->transformers==4.3.3->-r requirements.txt (line 1)) (3.0.4)\n",
            "Requirement already satisfied: certifi>=2017.4.17 in /usr/local/lib/python3.7/dist-packages (from requests->transformers==4.3.3->-r requirements.txt (line 1)) (2020.12.5)\n",
            "Requirement already satisfied: six in /usr/local/lib/python3.7/dist-packages (from sacremoses->transformers==4.3.3->-r requirements.txt (line 1)) (1.15.0)\n",
            "Requirement already satisfied: click in /usr/local/lib/python3.7/dist-packages (from sacremoses->transformers==4.3.3->-r requirements.txt (line 1)) (7.1.2)\n",
            "Requirement already satisfied: zipp>=0.5 in /usr/local/lib/python3.7/dist-packages (from importlib-metadata; python_version < \"3.8\"->transformers==4.3.3->-r requirements.txt (line 1)) (3.4.1)\n",
            "Requirement already satisfied: pytz>=2017.2 in /usr/local/lib/python3.7/dist-packages (from pandas->datasets==1.2.1->-r requirements.txt (line 2)) (2018.9)\n",
            "Requirement already satisfied: python-dateutil>=2.7.3 in /usr/local/lib/python3.7/dist-packages (from pandas->datasets==1.2.1->-r requirements.txt (line 2)) (2.8.1)\n",
            "Requirement already satisfied: cycler>=0.10 in /usr/local/lib/python3.7/dist-packages (from matplotlib>=2.2->seaborn==0.11.1->-r requirements.txt (line 8)) (0.10.0)\n",
            "Requirement already satisfied: kiwisolver>=1.0.1 in /usr/local/lib/python3.7/dist-packages (from matplotlib>=2.2->seaborn==0.11.1->-r requirements.txt (line 8)) (1.3.1)\n",
            " apex-master.zip\n",
            " baseline\n",
            " bert_base_cache\n",
            " checkpoint-1210520\n",
            " checkpoint-553363.zip\n",
            " dataset_cache\n",
            "'dataset_cache (1)'\n",
            " dataset_files\n",
            " dataset_scripts\n",
            " GPT2\n",
            " gpt2_amazon\n",
            " gpt2_cache\n",
            " MLM\n",
            " NLI\n",
            " nli-checkpoint-epoch2\n",
            " nli_files.txt\n",
            " NLIResults\n",
            " prompt_lr_atsc_single_prompt_the_aspect_gpt-2_yelp_restaurants\n",
            " requirements.txt\n",
            " semeval_data_files\n",
            " smart_mlm_yelp_500k_15percent.ipynb\n",
            " utils\n"
          ],
          "name": "stdout"
        }
      ]
    },
    {
      "cell_type": "markdown",
      "metadata": {
        "id": "8b2be680",
        "papermill": {
          "duration": 0.071744,
          "end_time": "2021-04-14T09:17:44.804138",
          "exception": false,
          "start_time": "2021-04-14T09:17:44.732394",
          "status": "completed"
        },
        "tags": []
      },
      "source": [
        "## Experiment parameters"
      ],
      "id": "8b2be680"
    },
    {
      "cell_type": "code",
      "metadata": {
        "id": "DIpbwIm11WT-"
      },
      "source": [
        "import torch\n",
        "class SinglePromptLogitSentimentClassificationHead(torch.nn.Module):\n",
        "    def __init__(self, lm, num_class, pseudo_label_words, target_token_id=-1):\n",
        "        super(SinglePromptLogitSentimentClassificationHead, self).__init__()\n",
        "\n",
        "        self.num_class = num_class\n",
        "        self.pseudo_label_words = pseudo_label_words\n",
        "        self.target_token_id = target_token_id\n",
        "\n",
        "        self.lm = lm\n",
        "        \n",
        "        # Is self.lm BERT or GPT-2?\n",
        "        if self.lm.config.architectures[0].startswith('Bert'):\n",
        "            # if self.lm is BERT, then mask_token_id should be specified\n",
        "            assert self.target_token_id != -1\n",
        "            self.lm_type = 'bert'\n",
        "        elif self.lm.config.architectures[0].startswith('GPT2'):\n",
        "            self.lm_type = 'gpt2'\n",
        "        else:\n",
        "            raise Exception('Unsupported language model type.')\n",
        "            \n",
        "        print(\"Detected LM type:\", self.lm_type)\n",
        "\n",
        "    def forward(self, reviews_and_prompts):\n",
        "\n",
        "        if self.lm_type == 'bert':\n",
        "            # Figures out where the mask token was placed\n",
        "            target_indexes = (reviews_and_prompts.data[\"input_ids\"] == self.target_token_id)\n",
        "\n",
        "            lm_outputs = self.lm(**reviews_and_prompts)\n",
        "\n",
        "            outputs = lm_outputs.logits[target_indexes]\n",
        "        \n",
        "            outputs = outputs[:, self.pseudo_label_words]\n",
        "            \n",
        "        elif self.lm_type == 'gpt2':\n",
        "            \n",
        "            outputs = []\n",
        "            \n",
        "            for example in reviews_and_prompts:\n",
        "                lm_outputs = self.lm(**example, return_dict=True)\n",
        "                \n",
        "                lm_predictions = lm_outputs.logits[0, len(example['input_ids'][0]) - 1, self.pseudo_label_words]\n",
        "                \n",
        "                outputs.append(lm_predictions)\n",
        "\n",
        "            outputs = torch.stack(outputs, dim=0)\n",
        "\n",
        "        return outputs\n",
        "\n",
        "\n",
        "class MultiPromptSentimentClassificationHead(torch.nn.Module):\n",
        "    def __init__(self, lm, num_class, num_prompts, target_token_id=-1):\n",
        "        super(MultiPromptSentimentClassificationHead, self).__init__()\n",
        "\n",
        "        self.num_class = num_class\n",
        "        self.num_prompts = num_prompts\n",
        "        self.target_token_id = target_token_id\n",
        "\n",
        "        self.lm = lm\n",
        "        \n",
        "        # Is self.lm BERT or GPT-2?\n",
        "        if self.lm.config.architectures[0].startswith('Bert'):\n",
        "            # if self.lm is BERT, then mask_token_id should be specified\n",
        "            assert self.target_token_id != -1\n",
        "            self.lm_type = 'bert'\n",
        "        elif self.lm.config.architectures[0].startswith('GPT2'):\n",
        "            self.lm_type = 'gpt2'\n",
        "        else:\n",
        "            raise Exception('Unsupported language model type.')\n",
        "\n",
        "        print(\"Detected LM type:\", self.lm_type)\n",
        "\n",
        "        # Linear layer\n",
        "        self.linear = torch.nn.Linear(\n",
        "            self.num_prompts * self.lm.config.hidden_size, self.num_class)\n",
        "\n",
        "    def forward(self, reviews_and_prompts):\n",
        "\n",
        "        # Extract hidden states and feed them to self.linear\n",
        "        outputs = []\n",
        "\n",
        "        lr_inputs_batch = []\n",
        "\n",
        "        # Figures out where the mask token was placed\n",
        "        if self.lm_type == 'bert':\n",
        "            # For BERT, we need to find the token in each input with [MASK]\n",
        "            target_indexes = torch.nonzero(\n",
        "                reviews_and_prompts.data[\"input_ids\"] == self.target_token_id)[:, 1]\n",
        "\n",
        "            lm_outputs = self.lm(**reviews_and_prompts, output_hidden_states=True)\n",
        "\n",
        "            real_batch_size = len(reviews_and_prompts.data[\"input_ids\"]) // self.num_prompts\n",
        "\n",
        "        elif self.lm_type == 'gpt2':\n",
        "            lm_outputs = []\n",
        "            target_indexes = []\n",
        "\n",
        "            # For GPT-2, we need to find the spot right after the input text\n",
        "            for example in reviews_and_prompts:\n",
        "                target_indexes.append(len(example['input_ids'][0]) - 1)\n",
        "\n",
        "                lm_outputs.append(self.lm(**example, output_hidden_states=True))\n",
        "\n",
        "            real_batch_size = len(reviews_and_prompts) // self.num_prompts\n",
        "                \n",
        "        for i in range(real_batch_size):\n",
        "            # Create an input to self.linear by\n",
        "            # concatenating last hidden states for this review\n",
        "            lr_input = []\n",
        "\n",
        "            for j in range(self.num_prompts):\n",
        "                if self.lm_type == 'bert':\n",
        "                    lr_input.append(lm_outputs[\"hidden_states\"][-1][i+real_batch_size*j][target_indexes[i+real_batch_size*j]])\n",
        "                elif self.lm_type == 'gpt2':\n",
        "                    lr_input.append(lm_outputs[i+real_batch_size*j][\"hidden_states\"][-1][0][target_indexes[i+real_batch_size*j]])\n",
        "                    \n",
        "            lr_input = torch.cat(lr_input, dim=0)\n",
        "\n",
        "            lr_inputs_batch.append(lr_input)\n",
        "\n",
        "        lr_inputs_batch = torch.stack(lr_inputs_batch)\n",
        "\n",
        "        outputs = self.linear(lr_inputs_batch)\n",
        "\n",
        "        return outputs\n",
        "\n",
        "\n",
        "class NoPromptSentimentClassificationHead(torch.nn.Module):\n",
        "    def __init__(self, lm, num_class):\n",
        "        super(NoPromptSentimentClassificationHead, self).__init__()\n",
        "\n",
        "        self.num_class = num_class\n",
        "\n",
        "        self.lm = lm\n",
        "\n",
        "        self.linear = torch.nn.Linear(\n",
        "            self.lm.config.hidden_size, self.num_class)\n",
        "\n",
        "    def forward(self, reviews_and_prompts):\n",
        "\n",
        "        lm_outputs = self.lm(**reviews_and_prompts, output_hidden_states=True)\n",
        "\n",
        "        # Last hidden state for [CLS] token\n",
        "        last_hidden_state_cls = lm_outputs[\"hidden_states\"][-1][:, 0, :]\n",
        "        \n",
        "        outputs = self.linear(last_hidden_state_cls)\n",
        "\n",
        "        return outputs\n",
        "    \n",
        "class NLISentimentClassificationHead(torch.nn.Module):\n",
        "    def __init__(self, nli_model, num_prompts, pos_prompt_indexes, neg_prompt_indexes):\n",
        "        super(NLISentimentClassificationHead, self).__init__()\n",
        "        \n",
        "        self.num_prompts = num_prompts\n",
        "        self.nli_model = nli_model\n",
        "        \n",
        "        self.pos_prompt_indexes = pos_prompt_indexes\n",
        "        self.neg_prompt_indexes = neg_prompt_indexes\n",
        "        \n",
        "    def forward(self, reviews_and_prompts):\n",
        "        \n",
        "        nli_output = self.nli_model(**reviews_and_prompts)[\"logits\"]\n",
        "\n",
        "        outputs = torch.Tensor().to(self.nli_model.device)\n",
        "\n",
        "        # Text Attack NLI Labels: 0-> Contradiction, 1-> Entailment, 2-> Neutral\n",
        "        # Sentiment Polarity Labels: 0-> Positive, 1-> Negative, 2-> Neutral\n",
        "        for i in range(len(nli_output)//self.num_prompts):\n",
        "            prompts_batch = nli_output[i*self.num_prompts:(i+1)*self.num_prompts]\n",
        "\n",
        "            pos_logit = torch.mean(prompts_batch[self.pos_prompt_indexes], dim=0)[1]\n",
        "\n",
        "            neg_logit = torch.mean(prompts_batch[self.neg_prompt_indexes], dim=0)[1]\n",
        "\n",
        "            neu_logit = torch.mean(prompts_batch, dim=0)[2]\n",
        "\n",
        "            pred_logits = torch.stack([pos_logit, neg_logit, neu_logit])\n",
        "            pred_logits = torch.reshape(pred_logits, (1,-1))\n",
        "\n",
        "            outputs = torch.cat([outputs, pred_logits])\n",
        "\n",
        "        return outputs\n",
        "\n",
        "class NLIMinSentimentClassificationHead(torch.nn.Module):\n",
        "    def __init__(self, nli_model, num_prompts, pos_prompt_indexes, neg_prompt_indexes):\n",
        "        super(NLIMinSentimentClassificationHead, self).__init__()\n",
        "        \n",
        "        self.num_prompts = num_prompts\n",
        "        self.nli_model = nli_model\n",
        "        \n",
        "        self.pos_prompt_indexes = pos_prompt_indexes\n",
        "        self.neg_prompt_indexes = neg_prompt_indexes\n",
        "        \n",
        "    def forward(self, reviews_and_prompts):\n",
        "        \n",
        "        nli_output = self.nli_model(**reviews_and_prompts)[\"logits\"]\n",
        "\n",
        "        outputs = torch.Tensor().to(self.nli_model.device)\n",
        "\n",
        "        # Text Attack NLI Labels: 0-> Contradiction, 1-> Entailment, 2-> Neutral\n",
        "        # Sentiment Polarity Labels: 0-> Positive, 1-> Negative, 2-> Neutral\n",
        "        for i in range(len(nli_output)//self.num_prompts):\n",
        "            prompts_batch = nli_output[i*self.num_prompts:(i+1)*self.num_prompts]\n",
        "\n",
        "            pos_logit = torch.mean(prompts_batch[self.pos_prompt_indexes], dim=0)[1]\n",
        "\n",
        "            neg_logit = torch.mean(prompts_batch[self.neg_prompt_indexes], dim=0)[1]\n",
        "\n",
        "            neu_logit = torch.min(prompts_batch, dim=0)[0][2]\n",
        "\n",
        "            pred_logits = torch.stack([pos_logit, neg_logit, neu_logit])\n",
        "            pred_logits = torch.reshape(pred_logits, (1,-1))\n",
        "\n",
        "            outputs = torch.cat([outputs, pred_logits])\n",
        "\n",
        "        return outputs\n"
      ],
      "id": "DIpbwIm11WT-",
      "execution_count": 233,
      "outputs": []
    },
    {
      "cell_type": "code",
      "metadata": {
        "execution": {
          "iopub.execute_input": "2021-04-14T09:17:44.957547Z",
          "iopub.status.busy": "2021-04-14T09:17:44.956864Z",
          "iopub.status.idle": "2021-04-14T09:17:44.960465Z",
          "shell.execute_reply": "2021-04-14T09:17:44.959837Z"
        },
        "id": "205c591d",
        "papermill": {
          "duration": 0.084988,
          "end_time": "2021-04-14T09:17:44.960595",
          "exception": false,
          "start_time": "2021-04-14T09:17:44.875607",
          "status": "completed"
        },
        "tags": [
          "parameters"
        ]
      },
      "source": [
        "\n",
        "# We will use the following string ID to identify this particular (training) experiments\n",
        "# in directory paths and other settings\n",
        "experiment_id = 'supervised_nli_single_prompt_1_in_domain_restaurant_MNLI_base_seed_696'\n",
        "\n",
        "# Random seed\n",
        "random_seed = 696\n",
        "\n",
        "# path to pretrained nli model folder or the string \"textattack/bert-base-uncased-MNLI\"\n",
        "nli_model_path = \"textattack/bert-base-uncased-MNLI\"\n",
        "\n",
        "# Prompts to be added to the end of each review text\n",
        "sentiment_prompts = [\n",
        "    \"The {aspect} is good.\",\n",
        "    \"The {aspect} is bad.\"]\n",
        "\n",
        "#index of the prompts in the sentiment_prompts by polarity for later grouping\n",
        "pos_prompt_indexes = [0]\n",
        "neg_prompt_indexes = [1]\n",
        "\n",
        "#What datasets to be used for training and testing loops\n",
        "training_domain = \"restaurants\"\n",
        "testing_domain = \"restaurants\"\n",
        "\n",
        "# Training settings\n",
        "training_epochs = 20\n",
        "training_batch_size = 8\n",
        "training_learning_rate = 2e-5\n",
        "training_weight_decay = 0.01\n",
        "training_warmup_steps_duration = 0.1\n",
        "training_best_model_criterion = 'train_loss'\n",
        "\n",
        "training_lm_freeze = False\n",
        "\n",
        "validation_enabled = False\n",
        "validation_dataset_proportion = 0.2\n",
        "validation_batch_size = 8\n",
        "\n",
        "testing_batch_size = 32"
      ],
      "id": "205c591d",
      "execution_count": 234,
      "outputs": []
    },
    {
      "cell_type": "code",
      "metadata": {
        "execution": {
          "iopub.execute_input": "2021-04-14T09:17:45.125761Z",
          "iopub.status.busy": "2021-04-14T09:17:45.125025Z",
          "iopub.status.idle": "2021-04-14T09:17:45.128050Z",
          "shell.execute_reply": "2021-04-14T09:17:45.127424Z"
        },
        "papermill": {
          "duration": 0.08669,
          "end_time": "2021-04-14T09:17:45.128255",
          "exception": false,
          "start_time": "2021-04-14T09:17:45.041565",
          "status": "completed"
        },
        "tags": [
          "injected-parameters"
        ],
        "id": "33158748"
      },
      "source": [
        "# Parameters\n",
        "experiment_id = \"nli_supervised_in_domain_restaurants_MNLI-base_the_aspect_is_696\"\n",
        "random_seed = 696\n",
        "nli_model_path = \"textattack/bert-base-uncased-MNLI\"\n",
        "sentiment_prompts = [\"The {aspect} are good.\", \"The {aspect} are bad.\"]\n",
        "pos_prompt_indexes = [0]\n",
        "neg_prompt_indexes = [1]\n",
        "training_domain = \"restaurants\"\n",
        "testing_batch_size = 8\n",
        "testing_domain = \"restaurants\"\n",
        "training_batch_size = 8\n"
      ],
      "id": "33158748",
      "execution_count": 235,
      "outputs": []
    },
    {
      "cell_type": "markdown",
      "metadata": {
        "id": "169e034b",
        "papermill": {
          "duration": 0.059185,
          "end_time": "2021-04-14T09:17:45.258934",
          "exception": false,
          "start_time": "2021-04-14T09:17:45.199749",
          "status": "completed"
        },
        "tags": []
      },
      "source": [
        "## Package imports"
      ],
      "id": "169e034b"
    },
    {
      "cell_type": "code",
      "metadata": {
        "colab": {
          "base_uri": "https://localhost:8080/"
        },
        "execution": {
          "iopub.execute_input": "2021-04-14T09:17:45.381681Z",
          "iopub.status.busy": "2021-04-14T09:17:45.381034Z",
          "iopub.status.idle": "2021-04-14T09:17:48.668262Z",
          "shell.execute_reply": "2021-04-14T09:17:48.669304Z"
        },
        "id": "18d534de",
        "papermill": {
          "duration": 3.355855,
          "end_time": "2021-04-14T09:17:48.669607",
          "exception": false,
          "start_time": "2021-04-14T09:17:45.313752",
          "status": "completed"
        },
        "tags": [],
        "outputId": "e5da16fa-6912-4450-83d8-50d78580a150"
      },
      "source": [
        "import sys\n",
        "import os\n",
        "import random\n",
        "import shutil\n",
        "import copy\n",
        "import inspect\n",
        "import json\n",
        "import numpy as np\n",
        "import torch\n",
        "import transformers\n",
        "import datasets\n",
        "import sklearn.metrics\n",
        "import pandas as pd\n",
        "import matplotlib.pyplot as plt\n",
        "import seaborn as sn\n",
        "import tqdm\n",
        "\n",
        "current_dir = os.path.dirname(os.path.abspath(inspect.getfile(inspect.currentframe())))\n",
        "parent_dir = os.path.dirname(current_dir)\n",
        "sys.path.append(parent_dir)\n",
        "\n",
        "import utils\n",
        "\n",
        "# Random seed settings\n",
        "random.seed(random_seed)\n",
        "np.random.seed(random_seed)\n",
        "# cuBLAS reproducibility\n",
        "# https://docs.nvidia.com/cuda/cublas/index.html#cublasApi_reproducibility\n",
        "os.environ['CUBLAS_WORKSPACE_CONFIG'] = \":4096:8\"\n",
        "torch.set_deterministic(True)\n",
        "torch.manual_seed(random_seed)\n",
        "\n",
        "# Print version information\n",
        "print(\"Python version: \" + sys.version)\n",
        "print(\"NumPy version: \" + np.__version__)\n",
        "print(\"PyTorch version: \" + torch.__version__)\n",
        "print(\"Transformers version: \" + transformers.__version__)"
      ],
      "id": "18d534de",
      "execution_count": 236,
      "outputs": [
        {
          "output_type": "stream",
          "text": [
            "Python version: 3.7.10 (default, May  3 2021, 02:48:31) \n",
            "[GCC 7.5.0]\n",
            "NumPy version: 1.19.5\n",
            "PyTorch version: 1.7.1\n",
            "Transformers version: 4.3.3\n"
          ],
          "name": "stdout"
        }
      ]
    },
    {
      "cell_type": "markdown",
      "metadata": {
        "id": "78f1ee52",
        "papermill": {
          "duration": 0.067281,
          "end_time": "2021-04-14T09:17:48.839940",
          "exception": false,
          "start_time": "2021-04-14T09:17:48.772659",
          "status": "completed"
        },
        "tags": []
      },
      "source": [
        "## PyTorch GPU settings"
      ],
      "id": "78f1ee52"
    },
    {
      "cell_type": "code",
      "metadata": {
        "colab": {
          "base_uri": "https://localhost:8080/"
        },
        "execution": {
          "iopub.execute_input": "2021-04-14T09:17:50.767583Z",
          "iopub.status.busy": "2021-04-14T09:17:49.016404Z",
          "iopub.status.idle": "2021-04-14T09:17:50.771850Z",
          "shell.execute_reply": "2021-04-14T09:17:50.772413Z"
        },
        "id": "53d9ba9a",
        "papermill": {
          "duration": 1.862641,
          "end_time": "2021-04-14T09:17:50.772589",
          "exception": false,
          "start_time": "2021-04-14T09:17:48.909948",
          "status": "completed"
        },
        "tags": [],
        "outputId": "68a54d5f-ae62-46ed-874c-c77334f8992d"
      },
      "source": [
        "\n",
        "if torch.cuda.is_available():    \n",
        "    torch_device = torch.device('cuda')\n",
        "\n",
        "    # Set this to True to make your output immediately reproducible\n",
        "    # Note: https://pytorch.org/docs/stable/notes/randomness.html\n",
        "    torch.backends.cudnn.deterministic = True\n",
        "    \n",
        "    # Disable 'benchmark' mode: Set this False if you want to measure running times more fairly\n",
        "    # Note: https://discuss.pytorch.org/t/what-does-torch-backends-cudnn-benchmark-do/5936\n",
        "    torch.backends.cudnn.benchmark = False\n",
        "    \n",
        "    # Faster Host to GPU copies with page-locked memory\n",
        "    use_pin_memory = True\n",
        "    \n",
        "    # Number of compute devices to be used for training\n",
        "    training_device_count = torch.cuda.device_count()\n",
        "\n",
        "    # CUDA libraries version information\n",
        "    print(\"CUDA Version: \" + str(torch.version.cuda))\n",
        "    print(\"cuDNN Version: \" + str(torch.backends.cudnn.version()))\n",
        "    print(\"CUDA Device Name: \" + str(torch.cuda.get_device_name()))\n",
        "    print(\"CUDA Capabilities: \"+ str(torch.cuda.get_device_capability()))\n",
        "    print(\"Number of CUDA devices: \"+ str(training_device_count))\n",
        "    \n",
        "else:\n",
        "    torch_device = torch.device('cpu')\n",
        "    use_pin_memory = False\n",
        "    \n",
        "    # Number of compute devices to be used for training\n",
        "    training_device_count = 1\n",
        "\n",
        "print()\n",
        "print(\"PyTorch device selected:\", torch_device)"
      ],
      "id": "53d9ba9a",
      "execution_count": 237,
      "outputs": [
        {
          "output_type": "stream",
          "text": [
            "CUDA Version: 10.2\n",
            "cuDNN Version: 7605\n",
            "CUDA Device Name: Tesla T4\n",
            "CUDA Capabilities: (7, 5)\n",
            "Number of CUDA devices: 1\n",
            "\n",
            "PyTorch device selected: cuda\n"
          ],
          "name": "stdout"
        }
      ]
    },
    {
      "cell_type": "markdown",
      "metadata": {
        "id": "30f1f1cb",
        "papermill": {
          "duration": 0.072829,
          "end_time": "2021-04-14T09:17:50.920232",
          "exception": false,
          "start_time": "2021-04-14T09:17:50.847403",
          "status": "completed"
        },
        "tags": []
      },
      "source": [
        "# Prepare Datasets for Prompt-based Classifier"
      ],
      "id": "30f1f1cb"
    },
    {
      "cell_type": "markdown",
      "metadata": {
        "id": "b25dbc88",
        "papermill": {
          "duration": 0.072759,
          "end_time": "2021-04-14T09:17:51.066279",
          "exception": false,
          "start_time": "2021-04-14T09:17:50.993520",
          "status": "completed"
        },
        "tags": []
      },
      "source": [
        "## Load the SemEval dataset"
      ],
      "id": "b25dbc88"
    },
    {
      "cell_type": "code",
      "metadata": {
        "colab": {
          "base_uri": "https://localhost:8080/"
        },
        "execution": {
          "iopub.execute_input": "2021-04-14T09:17:51.227509Z",
          "iopub.status.busy": "2021-04-14T09:17:51.226811Z",
          "iopub.status.idle": "2021-04-14T09:17:51.948638Z",
          "shell.execute_reply": "2021-04-14T09:17:51.947637Z"
        },
        "id": "a4e71c29",
        "papermill": {
          "duration": 0.805682,
          "end_time": "2021-04-14T09:17:51.948940",
          "exception": false,
          "start_time": "2021-04-14T09:17:51.143258",
          "status": "completed"
        },
        "tags": [],
        "outputId": "2156b848-6161-4edd-b99f-a91ecc87e16e"
      },
      "source": [
        "# Load semeval for both domains\n",
        "laptop_semeval_dataset = datasets.load_dataset(\n",
        "    os.path.abspath('./dataset_scripts/semeval2014_task4/semeval2014_task4.py'),\n",
        "    data_files={\n",
        "        'test': './dataset_files/semeval_2014/Laptops_Test_Gold.xml',\n",
        "        'train': './dataset_files/semeval_2014/Laptop_Train_v2.xml',\n",
        "    },\n",
        "    cache_dir='./dataset_cache')\n",
        "\n",
        "restaurant_semeval_dataset = datasets.load_dataset(\n",
        "    os.path.abspath('./dataset_scripts/semeval2014_task4/semeval2014_task4.py'),\n",
        "    data_files={\n",
        "        'test': './dataset_files/semeval_2014/Restaurants_Test_Gold.xml',\n",
        "        'train': './dataset_files/semeval_2014/Restaurants_Train_v2.xml',\n",
        "    },\n",
        "    cache_dir='./dataset_cache')"
      ],
      "id": "a4e71c29",
      "execution_count": 238,
      "outputs": [
        {
          "output_type": "stream",
          "text": [
            "Using custom data configuration default\n",
            "Reusing dataset sem_eval2014_task4_dataset (./dataset_cache/sem_eval2014_task4_dataset/default-2ba098669778f075/0.0.1/f33ba7108331ad17be3f9fb710ca001edb383fba797c6ed0938354e6812ca969)\n",
            "Using custom data configuration default\n",
            "Reusing dataset sem_eval2014_task4_dataset (./dataset_cache/sem_eval2014_task4_dataset/default-00707989ebea381d/0.0.1/f33ba7108331ad17be3f9fb710ca001edb383fba797c6ed0938354e6812ca969)\n"
          ],
          "name": "stderr"
        }
      ]
    },
    {
      "cell_type": "code",
      "metadata": {
        "execution": {
          "iopub.execute_input": "2021-04-14T09:17:52.127349Z",
          "iopub.status.busy": "2021-04-14T09:17:52.126410Z",
          "iopub.status.idle": "2021-04-14T09:17:52.128934Z",
          "shell.execute_reply": "2021-04-14T09:17:52.129482Z"
        },
        "id": "234dcdac",
        "papermill": {
          "duration": 0.081917,
          "end_time": "2021-04-14T09:17:52.129628",
          "exception": false,
          "start_time": "2021-04-14T09:17:52.047711",
          "status": "completed"
        },
        "tags": []
      },
      "source": [
        "dataset_dic_train = {\n",
        "    \"laptops\": laptop_semeval_dataset['train'],\n",
        "    \"restaurants\": restaurant_semeval_dataset['train']\n",
        "}\n",
        "\n",
        "dataset_dic_test = {\n",
        "    \"laptops\": laptop_semeval_dataset['test'],\n",
        "    \"restaurants\": restaurant_semeval_dataset['test']\n",
        "}\n"
      ],
      "id": "234dcdac",
      "execution_count": 239,
      "outputs": []
    },
    {
      "cell_type": "code",
      "metadata": {
        "execution": {
          "iopub.execute_input": "2021-04-14T09:17:52.284055Z",
          "iopub.status.busy": "2021-04-14T09:17:52.283164Z",
          "iopub.status.idle": "2021-04-14T09:17:52.285775Z",
          "shell.execute_reply": "2021-04-14T09:17:52.286325Z"
        },
        "papermill": {
          "duration": 0.081159,
          "end_time": "2021-04-14T09:17:52.286474",
          "exception": false,
          "start_time": "2021-04-14T09:17:52.205315",
          "status": "completed"
        },
        "tags": [],
        "id": "3b556c52"
      },
      "source": [
        "# The dataset chosen for training and testing\n",
        "train_set = dataset_dic_train[training_domain]\n",
        "test_set = dataset_dic_test[testing_domain]"
      ],
      "id": "3b556c52",
      "execution_count": 240,
      "outputs": []
    },
    {
      "cell_type": "markdown",
      "metadata": {
        "id": "42aeac01",
        "papermill": {
          "duration": 0.074267,
          "end_time": "2021-04-14T09:17:52.434905",
          "exception": false,
          "start_time": "2021-04-14T09:17:52.360638",
          "status": "completed"
        },
        "tags": []
      },
      "source": [
        "## Train-validation split"
      ],
      "id": "42aeac01"
    },
    {
      "cell_type": "code",
      "metadata": {
        "colab": {
          "base_uri": "https://localhost:8080/"
        },
        "execution": {
          "iopub.execute_input": "2021-04-14T09:17:52.589122Z",
          "iopub.status.busy": "2021-04-14T09:17:52.588365Z",
          "iopub.status.idle": "2021-04-14T09:17:52.592239Z",
          "shell.execute_reply": "2021-04-14T09:17:52.591606Z"
        },
        "id": "c5201e50",
        "papermill": {
          "duration": 0.082863,
          "end_time": "2021-04-14T09:17:52.592369",
          "exception": false,
          "start_time": "2021-04-14T09:17:52.509506",
          "status": "completed"
        },
        "tags": [],
        "outputId": "8390c238-3272-4e97-cb15-9da0d6f19dd9"
      },
      "source": [
        "# Training set size after validation split\n",
        "if validation_enabled:\n",
        "    new_train_dataset_size = int(len(train_set) * (1 - validation_dataset_proportion))\n",
        "    new_valid_dataset_size = len(train_set) - new_train_dataset_size\n",
        "    print(\"Training dataset after split:\", new_train_dataset_size)\n",
        "    print(\"Validation dataset after split:\", new_train_dataset_size)\n",
        "else:\n",
        "    new_train_dataset_size = len(train_set)\n",
        "    print(\"Training dataset size:\", new_train_dataset_size)"
      ],
      "id": "c5201e50",
      "execution_count": 241,
      "outputs": [
        {
          "output_type": "stream",
          "text": [
            "Training dataset size: 3602\n"
          ],
          "name": "stdout"
        }
      ]
    },
    {
      "cell_type": "code",
      "metadata": {
        "colab": {
          "base_uri": "https://localhost:8080/"
        },
        "execution": {
          "iopub.execute_input": "2021-04-14T09:17:52.730472Z",
          "iopub.status.busy": "2021-04-14T09:17:52.729971Z",
          "iopub.status.idle": "2021-04-14T09:17:52.787818Z",
          "shell.execute_reply": "2021-04-14T09:17:52.787292Z"
        },
        "id": "8710a9bd",
        "papermill": {
          "duration": 0.120927,
          "end_time": "2021-04-14T09:17:52.787955",
          "exception": false,
          "start_time": "2021-04-14T09:17:52.667028",
          "status": "completed"
        },
        "tags": [],
        "outputId": "ef92888b-8033-4498-d1b8-7663521174f9"
      },
      "source": [
        "train_set = train_set.shuffle(seed=random_seed)\n",
        "\n",
        "new_train_set = train_set.select(indices=np.arange(new_train_dataset_size))\n",
        "\n",
        "if validation_enabled:\n",
        "    new_valid_set = train_set.select(\n",
        "        indices=np.arange(\n",
        "            new_train_dataset_size,\n",
        "            new_train_dataset_size + new_valid_dataset_size))"
      ],
      "id": "8710a9bd",
      "execution_count": 242,
      "outputs": [
        {
          "output_type": "stream",
          "text": [
            "Loading cached shuffled indices for dataset at ./dataset_cache/sem_eval2014_task4_dataset/default-00707989ebea381d/0.0.1/f33ba7108331ad17be3f9fb710ca001edb383fba797c6ed0938354e6812ca969/cache-764fae5c45684b91.arrow\n"
          ],
          "name": "stderr"
        }
      ]
    },
    {
      "cell_type": "code",
      "metadata": {
        "colab": {
          "base_uri": "https://localhost:8080/"
        },
        "execution": {
          "iopub.execute_input": "2021-04-14T09:17:52.913145Z",
          "iopub.status.busy": "2021-04-14T09:17:52.912611Z",
          "iopub.status.idle": "2021-04-14T09:17:52.915730Z",
          "shell.execute_reply": "2021-04-14T09:17:52.915257Z"
        },
        "id": "60a082f3",
        "papermill": {
          "duration": 0.06474,
          "end_time": "2021-04-14T09:17:52.915829",
          "exception": false,
          "start_time": "2021-04-14T09:17:52.851089",
          "status": "completed"
        },
        "tags": [],
        "outputId": "c037a390-856b-411b-ceaa-4b830ab8f159"
      },
      "source": [
        "print(new_train_set[0])"
      ],
      "id": "60a082f3",
      "execution_count": 243,
      "outputs": [
        {
          "output_type": "stream",
          "text": [
            "{'aspect': 'Unda (Egg) rolls', 'sentiment': 0, 'text': 'I really recommend the very simple Unda (Egg) rolls.'}\n"
          ],
          "name": "stdout"
        }
      ]
    },
    {
      "cell_type": "markdown",
      "metadata": {
        "id": "1865dbeb",
        "papermill": {
          "duration": 0.059399,
          "end_time": "2021-04-14T09:17:53.035203",
          "exception": false,
          "start_time": "2021-04-14T09:17:52.975804",
          "status": "completed"
        },
        "tags": []
      },
      "source": [
        "# Supervised ATSC with Prompts + Logistic Regression Head"
      ],
      "id": "1865dbeb"
    },
    {
      "cell_type": "markdown",
      "metadata": {
        "id": "08dca259",
        "papermill": {
          "duration": 0.057453,
          "end_time": "2021-04-14T09:17:53.150677",
          "exception": false,
          "start_time": "2021-04-14T09:17:53.093224",
          "status": "completed"
        },
        "tags": []
      },
      "source": [
        "## Load the pretrained LM"
      ],
      "id": "08dca259"
    },
    {
      "cell_type": "code",
      "metadata": {
        "execution": {
          "iopub.execute_input": "2021-04-14T09:17:53.270315Z",
          "iopub.status.busy": "2021-04-14T09:17:53.269643Z",
          "iopub.status.idle": "2021-04-14T09:17:58.431562Z",
          "shell.execute_reply": "2021-04-14T09:17:58.432583Z"
        },
        "id": "56a24d11",
        "papermill": {
          "duration": 5.224628,
          "end_time": "2021-04-14T09:17:58.432932",
          "exception": false,
          "start_time": "2021-04-14T09:17:53.208304",
          "status": "completed"
        },
        "tags": []
      },
      "source": [
        "# Load pretrained language model\n",
        "nli_model = transformers.AutoModelForSequenceClassification.from_pretrained(nli_model_path)\n",
        "tokenizer = transformers.AutoTokenizer.from_pretrained(\"textattack/bert-base-uncased-MNLI\", cache_dir='../bert_base_cache')"
      ],
      "id": "56a24d11",
      "execution_count": 244,
      "outputs": []
    },
    {
      "cell_type": "code",
      "metadata": {
        "execution": {
          "iopub.execute_input": "2021-04-14T09:17:58.618927Z",
          "iopub.status.busy": "2021-04-14T09:17:58.618342Z",
          "iopub.status.idle": "2021-04-14T09:17:58.621535Z",
          "shell.execute_reply": "2021-04-14T09:17:58.621050Z"
        },
        "papermill": {
          "duration": 0.079367,
          "end_time": "2021-04-14T09:17:58.621647",
          "exception": false,
          "start_time": "2021-04-14T09:17:58.542280",
          "status": "completed"
        },
        "tags": [],
        "id": "3e1bfc3f"
      },
      "source": [
        "# Freeze all layers in lm.\n",
        "if training_lm_freeze:\n",
        "    for param in nli_model.parameters():\n",
        "        param.requires_grad = False"
      ],
      "id": "3e1bfc3f",
      "execution_count": 245,
      "outputs": []
    },
    {
      "cell_type": "code",
      "metadata": {
        "execution": {
          "iopub.execute_input": "2021-04-14T09:17:58.748044Z",
          "iopub.status.busy": "2021-04-14T09:17:58.747553Z",
          "iopub.status.idle": "2021-04-14T09:18:01.944791Z",
          "shell.execute_reply": "2021-04-14T09:18:01.945802Z"
        },
        "papermill": {
          "duration": 3.262784,
          "end_time": "2021-04-14T09:18:01.946086",
          "exception": false,
          "start_time": "2021-04-14T09:17:58.683302",
          "status": "completed"
        },
        "tags": [],
        "id": "c5220e7a"
      },
      "source": [
        "classifier = NLISentimentClassificationHead(\n",
        "                    nli_model = nli_model,\n",
        "                    num_prompts = len(sentiment_prompts),\n",
        "                    pos_prompt_indexes = pos_prompt_indexes,\n",
        "                    neg_prompt_indexes = neg_prompt_indexes\n",
        "                    )\n",
        "classifier_model = classifier.to(torch_device)"
      ],
      "id": "c5220e7a",
      "execution_count": 246,
      "outputs": []
    },
    {
      "cell_type": "markdown",
      "metadata": {
        "id": "72da7aad",
        "papermill": {
          "duration": 0.078495,
          "end_time": "2021-04-14T09:18:02.134812",
          "exception": false,
          "start_time": "2021-04-14T09:18:02.056317",
          "status": "completed"
        },
        "tags": []
      },
      "source": [
        "## Training settings"
      ],
      "id": "72da7aad"
    },
    {
      "cell_type": "code",
      "metadata": {
        "execution": {
          "iopub.execute_input": "2021-04-14T09:18:02.297951Z",
          "iopub.status.busy": "2021-04-14T09:18:02.297293Z",
          "iopub.status.idle": "2021-04-14T09:18:02.301372Z",
          "shell.execute_reply": "2021-04-14T09:18:02.301889Z"
        },
        "papermill": {
          "duration": 0.090522,
          "end_time": "2021-04-14T09:18:02.302042",
          "exception": false,
          "start_time": "2021-04-14T09:18:02.211520",
          "status": "completed"
        },
        "tags": [],
        "colab": {
          "base_uri": "https://localhost:8080/"
        },
        "id": "af6620a2",
        "outputId": "3e511cc3-9a5f-4c10-b420-8d43a4d0cb85"
      },
      "source": [
        "# How many training steps would we have?\n",
        "approx_total_training_steps = len(new_train_set) // training_batch_size * training_epochs\n",
        "\n",
        "print(\"There will be approximately %d training steps.\" % approx_total_training_steps)\n",
        "\n",
        "# Let's have warmups for the first (training_warmup_steps_duration)% of steps.\n",
        "training_warmup_steps = int(approx_total_training_steps * training_warmup_steps_duration)\n",
        "\n",
        "print(\"Warmup steps:\", training_warmup_steps)"
      ],
      "id": "af6620a2",
      "execution_count": 247,
      "outputs": [
        {
          "output_type": "stream",
          "text": [
            "There will be approximately 9000 training steps.\n",
            "Warmup steps: 900\n"
          ],
          "name": "stdout"
        }
      ]
    },
    {
      "cell_type": "code",
      "metadata": {
        "execution": {
          "iopub.execute_input": "2021-04-14T09:18:02.469038Z",
          "iopub.status.busy": "2021-04-14T09:18:02.468393Z",
          "iopub.status.idle": "2021-04-14T09:18:02.623352Z",
          "shell.execute_reply": "2021-04-14T09:18:02.624314Z"
        },
        "id": "85799efc",
        "papermill": {
          "duration": 0.244883,
          "end_time": "2021-04-14T09:18:02.624583",
          "exception": false,
          "start_time": "2021-04-14T09:18:02.379700",
          "status": "completed"
        },
        "tags": []
      },
      "source": [
        "train_dataloader = torch.utils.data.DataLoader(\n",
        "    new_train_set, batch_size=training_batch_size,\n",
        "    shuffle=True, pin_memory=use_pin_memory)\n",
        "\n",
        "if validation_enabled:\n",
        "    validation_dataloader = torch.utils.data.DataLoader(\n",
        "        new_valid_set, batch_size=validation_batch_size, pin_memory=use_pin_memory)\n",
        "\n",
        "loss_function = torch.nn.CrossEntropyLoss()\n",
        "\n",
        "optimizer = transformers.AdamW(\n",
        "    classifier.parameters(),\n",
        "    lr=training_learning_rate,\n",
        "    weight_decay=training_weight_decay)\n",
        "\n",
        "scheduler = transformers.get_linear_schedule_with_warmup(\n",
        "    optimizer,\n",
        "    num_warmup_steps=training_warmup_steps,\n",
        "    num_training_steps=len(new_train_set) * training_epochs,\n",
        ")\n",
        "\n",
        "# The directory to save the best version of the head\n",
        "trained_model_directory = os.path.join('..', 'trained_models', experiment_id)\n",
        "\n",
        "shutil.rmtree(trained_model_directory, ignore_errors=True)\n",
        "os.makedirs(trained_model_directory)"
      ],
      "id": "85799efc",
      "execution_count": 248,
      "outputs": []
    },
    {
      "cell_type": "code",
      "metadata": {
        "execution": {
          "iopub.execute_input": "2021-04-14T09:18:02.806888Z",
          "iopub.status.busy": "2021-04-14T09:18:02.806235Z",
          "iopub.status.idle": "2021-04-14T09:18:02.809906Z",
          "shell.execute_reply": "2021-04-14T09:18:02.809300Z"
        },
        "id": "2164d6dc",
        "papermill": {
          "duration": 0.090842,
          "end_time": "2021-04-14T09:18:02.810040",
          "exception": false,
          "start_time": "2021-04-14T09:18:02.719198",
          "status": "completed"
        },
        "tags": []
      },
      "source": [
        "def compute_metrics(predictions, labels):\n",
        "    preds = predictions.argmax(-1)\n",
        "\n",
        "    precision, recall, f1, _ = sklearn.metrics.precision_recall_fscore_support(\n",
        "        y_true=labels, y_pred=preds, labels=[0,1,2], average='macro')\n",
        "\n",
        "    acc = sklearn.metrics.accuracy_score(labels, preds)\n",
        "\n",
        "    return {\n",
        "        'accuracy': acc,\n",
        "        'f1': f1,\n",
        "        'precision': precision,\n",
        "        'recall': recall\n",
        "    }"
      ],
      "id": "2164d6dc",
      "execution_count": 249,
      "outputs": []
    },
    {
      "cell_type": "markdown",
      "metadata": {
        "id": "da810758",
        "papermill": {
          "duration": 0.078398,
          "end_time": "2021-04-14T09:18:02.966537",
          "exception": false,
          "start_time": "2021-04-14T09:18:02.888139",
          "status": "completed"
        },
        "tags": []
      },
      "source": [
        "## Training loop"
      ],
      "id": "da810758"
    },
    {
      "cell_type": "markdown",
      "metadata": {
        "id": "32555d11",
        "papermill": {
          "duration": 0.106487,
          "end_time": "2021-04-14T10:25:54.578808",
          "exception": false,
          "start_time": "2021-04-14T10:25:54.472321",
          "status": "completed"
        },
        "tags": []
      },
      "source": [
        "## Evaluation with in-domain test set"
      ],
      "id": "32555d11"
    },
    {
      "cell_type": "code",
      "metadata": {
        "execution": {
          "iopub.execute_input": "2021-04-14T10:25:54.738868Z",
          "iopub.status.busy": "2021-04-14T10:25:54.738386Z",
          "iopub.status.idle": "2021-04-14T10:25:54.741146Z",
          "shell.execute_reply": "2021-04-14T10:25:54.741526Z"
        },
        "id": "8442276c",
        "papermill": {
          "duration": 0.085244,
          "end_time": "2021-04-14T10:25:54.741640",
          "exception": false,
          "start_time": "2021-04-14T10:25:54.656396",
          "status": "completed"
        },
        "tags": [],
        "colab": {
          "base_uri": "https://localhost:8080/"
        },
        "outputId": "49a25da1-5dd9-42ad-c16d-3cc84dbe81d3"
      },
      "source": [
        "test_dataloader = torch.utils.data.DataLoader(\n",
        "    test_set, batch_size=testing_batch_size, pin_memory=use_pin_memory)\n",
        "# Locate the weight file.\n",
        "trained_model_directory = os.path.join('NLIResults', experiment_id)\n",
        "\n",
        "saved_weights_name = ''\n",
        "\n",
        "for fname in os.listdir(trained_model_directory):\n",
        "    if fname.startswith('epoch'):\n",
        "        saved_weights_name = fname\n",
        "        break\n",
        "\n",
        "print(\"Loading\", saved_weights_name)"
      ],
      "id": "8442276c",
      "execution_count": 250,
      "outputs": [
        {
          "output_type": "stream",
          "text": [
            "Loading epoch_15.pt\n"
          ],
          "name": "stdout"
        }
      ]
    },
    {
      "cell_type": "code",
      "metadata": {
        "execution": {
          "iopub.execute_input": "2021-04-14T10:25:54.910301Z",
          "iopub.status.busy": "2021-04-14T10:25:54.909777Z",
          "iopub.status.idle": "2021-04-14T10:26:30.883459Z",
          "shell.execute_reply": "2021-04-14T10:26:30.882519Z"
        },
        "papermill": {
          "duration": 36.067047,
          "end_time": "2021-04-14T10:26:30.883703",
          "exception": false,
          "start_time": "2021-04-14T10:25:54.816656",
          "status": "completed"
        },
        "tags": [],
        "colab": {
          "base_uri": "https://localhost:8080/",
          "height": 84,
          "referenced_widgets": [
            "1d5581f9c05b45f7bdc8143527ef1982",
            "a0d9ca736dae43b99a85fc9bc20e83c1",
            "4443fc46b0a24f2ba6189cb840b1303a",
            "f2af7c84594146b6b5afc8fe9b599221",
            "d264afafd6ff4d03b7b76690ff78d9b5",
            "d18e8fd7cd3645648fd553aec8eddbfe",
            "fd25bed2a4c848dda738f0753e100399",
            "3b6cb697cfbb4b75a84f7c3a51cf8f16"
          ]
        },
        "id": "24ddd232",
        "outputId": "c422f021-551d-4d87-f69f-f1b16727e500"
      },
      "source": [
        "\n",
        "# Load the best found head weights\n",
        "with torch.no_grad():\n",
        "    \n",
        "    classifier_model.load_state_dict(torch.load(os.path.join(os.path.join('NLIResults', experiment_id), saved_weights_name),map_location=torch_device))\n",
        "\n",
        "    classifier.eval()\n",
        "\n",
        "    predictions_test = torch.Tensor().to(torch_device)\n",
        "\n",
        "    labels_test = torch.Tensor().to(torch_device)\n",
        "\n",
        "    for batch_test in tqdm.notebook.tqdm(test_dataloader):\n",
        "\n",
        "        reviews_repeated = []\n",
        "        prompts_populated = []\n",
        "\n",
        "        for i in range(len(batch_test[\"text\"])):\n",
        "            \n",
        "            for prompt in sentiment_prompts:\n",
        "                reviews_repeated.append(batch_test[\"text\"][i])\n",
        "                prompts_populated.append(prompt.format(aspect=\"things\"))\n",
        "\n",
        "        batch_encoded = tokenizer(\n",
        "            reviews_repeated, prompts_populated,\n",
        "            padding='max_length', truncation='only_first', max_length=256,\n",
        "            return_tensors='pt')\n",
        "        \n",
        "        batch_encoded.to(torch_device)\n",
        "\n",
        "        nli_output = nli_model(**batch_encoded)[\"logits\"]\n",
        "\n",
        "        labels = batch_test[\"sentiment\"]\n",
        "        labels = labels.to(torch_device)\n",
        "\n",
        "        optimizer.zero_grad()\n",
        "        \n",
        "        outputs = classifier(batch_encoded)\n",
        "        \n",
        "        predictions_test = torch.cat([predictions_test, outputs])\n",
        "        labels_test = torch.cat([labels_test, labels])\n",
        "\n",
        "    # Compute metrics\n",
        "    test_metrics = compute_metrics(predictions_test.cpu(), labels_test.cpu())\n",
        "    \n",
        "    print(test_metrics)"
      ],
      "id": "24ddd232",
      "execution_count": 251,
      "outputs": [
        {
          "output_type": "display_data",
          "data": {
            "application/vnd.jupyter.widget-view+json": {
              "model_id": "1d5581f9c05b45f7bdc8143527ef1982",
              "version_minor": 0,
              "version_major": 2
            },
            "text/plain": [
              "HBox(children=(FloatProgress(value=0.0, max=140.0), HTML(value='')))"
            ]
          },
          "metadata": {
            "tags": []
          }
        },
        {
          "output_type": "stream",
          "text": [
            "\n",
            "{'accuracy': 0.7607142857142857, 'f1': 0.6855041035775264, 'precision': 0.6854611484308459, 'recall': 0.6970826792255364}\n"
          ],
          "name": "stdout"
        }
      ]
    },
    {
      "cell_type": "markdown",
      "metadata": {
        "id": "9ab3d621",
        "papermill": {
          "duration": 0.100598,
          "end_time": "2021-04-14T10:26:31.118456",
          "exception": false,
          "start_time": "2021-04-14T10:26:31.017858",
          "status": "completed"
        },
        "tags": []
      },
      "source": [
        "## Results visualization"
      ],
      "id": "9ab3d621"
    },
    {
      "cell_type": "code",
      "metadata": {
        "colab": {
          "base_uri": "https://localhost:8080/",
          "height": 442
        },
        "execution": {
          "iopub.execute_input": "2021-04-14T10:26:31.331369Z",
          "iopub.status.busy": "2021-04-14T10:26:31.330655Z",
          "iopub.status.idle": "2021-04-14T10:26:31.693819Z",
          "shell.execute_reply": "2021-04-14T10:26:31.694913Z"
        },
        "id": "40353e9f",
        "papermill": {
          "duration": 0.476879,
          "end_time": "2021-04-14T10:26:31.695265",
          "exception": false,
          "start_time": "2021-04-14T10:26:31.218386",
          "status": "completed"
        },
        "tags": [],
        "outputId": "595d7406-bbe2-419c-f9d8-0034238c0173"
      },
      "source": [
        "# Calculate metrics and confusion matrix based upon predictions and true labels\n",
        "cm = sklearn.metrics.confusion_matrix(labels_test.cpu().detach().numpy(), predictions_test.cpu().detach().numpy().argmax(-1), labels=[0,1,2])\n",
        "\n",
        "df_cm = pd.DataFrame(\n",
        "    cm,\n",
        "    index=[i for i in [\"positive\", \"negative\", \"neutral\"]],\n",
        "    columns=[i for i in [\"positive\", \"negative\", \"neutral\"]])\n",
        "\n",
        "plt.figure(figsize=(10, 7))\n",
        "\n",
        "ax = sn.heatmap(df_cm, annot=True, fmt=\"d\", cmap=\"Blues\")\n",
        "\n",
        "ax.set(xlabel='Predicted Label', ylabel='True Label')\n",
        "plt.show()"
      ],
      "id": "40353e9f",
      "execution_count": 252,
      "outputs": [
        {
          "output_type": "display_data",
          "data": {
            "image/png": "[encoded data removed]",
            "text/plain": [
              "<Figure size 720x504 with 2 Axes>"
            ]
          },
          "metadata": {
            "tags": [],
            "needs_background": "light"
          }
        }
      ]
    },
    {
      "cell_type": "code",
      "metadata": {
        "papermill": {
          "duration": 0.100383,
          "end_time": "2021-04-14T10:26:31.929814",
          "exception": false,
          "start_time": "2021-04-14T10:26:31.829431",
          "status": "completed"
        },
        "tags": [],
        "id": "192b42b7"
      },
      "source": [
        ""
      ],
      "id": "192b42b7",
      "execution_count": 252,
      "outputs": []
    }
  ]
}