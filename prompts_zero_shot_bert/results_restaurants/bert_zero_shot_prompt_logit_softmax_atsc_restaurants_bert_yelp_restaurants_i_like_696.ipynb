{
 "cells": [
  {
   "cell_type": "markdown",
   "id": "plain-findings",
   "metadata": {
    "id": "xf3lVTZYhbzA",
    "papermill": {
     "duration": 0.03358,
     "end_time": "2021-04-07T00:52:59.207652",
     "exception": false,
     "start_time": "2021-04-07T00:52:59.174072",
     "status": "completed"
    },
    "tags": []
   },
   "source": [
    "# Initial Setups"
   ]
  },
  {
   "cell_type": "markdown",
   "id": "integrated-state",
   "metadata": {
    "id": "2ORFXeezn5Og",
    "papermill": {
     "duration": 0.022655,
     "end_time": "2021-04-07T00:52:59.260941",
     "exception": false,
     "start_time": "2021-04-07T00:52:59.238286",
     "status": "completed"
    },
    "tags": []
   },
   "source": [
    "## (Google Colab use only)"
   ]
  },
  {
   "cell_type": "code",
   "execution_count": 1,
   "id": "favorite-forwarding",
   "metadata": {
    "colab": {
     "base_uri": "https://localhost:8080/"
    },
    "execution": {
     "iopub.execute_input": "2021-04-07T00:52:59.337455Z",
     "iopub.status.busy": "2021-04-07T00:52:59.336308Z",
     "iopub.status.idle": "2021-04-07T00:52:59.341820Z",
     "shell.execute_reply": "2021-04-07T00:52:59.340812Z"
    },
    "executionInfo": {
     "elapsed": 42519,
     "status": "ok",
     "timestamp": 1615624277512,
     "user": {
      "displayName": "Ronald Seoh",
      "photoUrl": "",
      "userId": "10284188050297676522"
     },
     "user_tz": 300
    },
    "id": "YFAQ6IgXn8FK",
    "outputId": "50ca7c19-763e-4355-e020-1683a085a9dc",
    "papermill": {
     "duration": 0.0609,
     "end_time": "2021-04-07T00:52:59.342090",
     "exception": false,
     "start_time": "2021-04-07T00:52:59.281190",
     "status": "completed"
    },
    "tags": []
   },
   "outputs": [],
   "source": [
    "# Use Google Colab\n",
    "use_colab = True\n",
    "\n",
    "# Is this notebook running on Colab?\n",
    "# If so, then google.colab package (github.com/googlecolab/colabtools)\n",
    "# should be available in this environment\n",
    "\n",
    "# Previous version used importlib, but we could do the same thing with\n",
    "# just attempting to import google.colab\n",
    "try:\n",
    "    from google.colab import drive\n",
    "    colab_available = True\n",
    "except:\n",
    "    colab_available = False\n",
    "\n",
    "if use_colab and colab_available:\n",
    "    drive.mount('/content/drive')\n",
    "\n",
    "    # cd to the appropriate working directory under my Google Drive\n",
    "    %cd '/content/drive/My Drive/cs696ds_lexalytics/Prompting Experiments'\n",
    "    \n",
    "    # Install packages specified in requirements\n",
    "    !pip install -r requirements.txt\n",
    "    \n",
    "    # List the directory contents\n",
    "    !ls"
   ]
  },
  {
   "cell_type": "markdown",
   "id": "informational-trainer",
   "metadata": {
    "id": "tgzsHF7Zhbzo",
    "papermill": {
     "duration": 0.238835,
     "end_time": "2021-04-07T00:52:59.614840",
     "exception": false,
     "start_time": "2021-04-07T00:52:59.376005",
     "status": "completed"
    },
    "tags": []
   },
   "source": [
    "## Experiment parameters"
   ]
  },
  {
   "cell_type": "code",
   "execution_count": 2,
   "id": "considerable-principle",
   "metadata": {
    "execution": {
     "iopub.execute_input": "2021-04-07T00:52:59.667950Z",
     "iopub.status.busy": "2021-04-07T00:52:59.667017Z",
     "iopub.status.idle": "2021-04-07T00:52:59.669714Z",
     "shell.execute_reply": "2021-04-07T00:52:59.670246Z"
    },
    "executionInfo": {
     "elapsed": 42516,
     "status": "ok",
     "timestamp": 1615624277515,
     "user": {
      "displayName": "Ronald Seoh",
      "photoUrl": "",
      "userId": "10284188050297676522"
     },
     "user_tz": 300
    },
    "id": "DUpGBmOJhbzs",
    "papermill": {
     "duration": 0.032221,
     "end_time": "2021-04-07T00:52:59.670410",
     "exception": false,
     "start_time": "2021-04-07T00:52:59.638189",
     "status": "completed"
    },
    "tags": [
     "parameters"
    ]
   },
   "outputs": [],
   "source": [
    "# We will use the following string ID to identify this particular (training) experiments\n",
    "# in directory paths and other settings\n",
    "experiment_id = 'zero_shot_prompt_logit_softmax_atsc_laptops_bert_amazon_electronics_multiple_prompts'\n",
    "\n",
    "# Random seed\n",
    "random_seed = 696\n",
    "\n",
    "# path to pretrained MLM model folder or the string \"bert-base-uncased\"\n",
    "lm_model_path = '../progress/lm_further_pretraining_bert_amazon_electronics_bseoh_2021-03-20--13_28_15/results/checkpoint-2360776'\n",
    "\n",
    "# Prompts to be added to the end of each review text\n",
    "# Note: pseudo-labels for each prompt should be given in the order of (positive), (negative), (neutral)\n",
    "sentiment_prompts = [\n",
    "    {\"prompt\": \"I felt the {aspect} was [MASK].\", \"labels\": [\"good\", \"bad\", \"ok\"]},\n",
    "    {\"prompt\": \"I [MASK] the {aspect}.\", \"labels\": [\"love\", \"hate\", \"dislike\"]},\n",
    "    {\"prompt\": \"The {aspect} made me feel [MASK].\", \"labels\": [\"good\", \"bad\", \"indifferent\"]},\n",
    "    {\"prompt\": \"The {aspect} is [MASK].\", \"labels\": [\"good\", \"bad\", \"ok\"]}\n",
    "]\n",
    "\n",
    "# Test settings\n",
    "testing_batch_size = 32\n",
    "testing_domain = 'restaurants' # 'laptops', 'restaurants', 'joint'"
   ]
  },
  {
   "cell_type": "code",
   "execution_count": 3,
   "id": "effective-wagner",
   "metadata": {
    "execution": {
     "iopub.execute_input": "2021-04-07T00:52:59.716290Z",
     "iopub.status.busy": "2021-04-07T00:52:59.715352Z",
     "iopub.status.idle": "2021-04-07T00:52:59.717993Z",
     "shell.execute_reply": "2021-04-07T00:52:59.717446Z"
    },
    "papermill": {
     "duration": 0.027211,
     "end_time": "2021-04-07T00:52:59.718123",
     "exception": false,
     "start_time": "2021-04-07T00:52:59.690912",
     "status": "completed"
    },
    "tags": [
     "injected-parameters"
    ]
   },
   "outputs": [],
   "source": [
    "# Parameters\n",
    "experiment_id = \"bert_zero_shot_prompt_logit_softmax_atsc_restaurants_bert_yelp_restaurants_i_like_696\"\n",
    "random_seed = 696\n",
    "lm_model_path = \"../trained_models/lm_further_pretraining_bert_yelp_restaurants_bseoh_2021-03-22--15_03_31\"\n",
    "sentiment_prompts = [\n",
    "    {\"prompt\": \"I [MASK] the {aspect}.\", \"labels\": [\"like\", \"dislike\", \"ignore\"]}\n",
    "]\n",
    "testing_batch_size = 32\n",
    "testing_domain = \"restaurants\"\n"
   ]
  },
  {
   "cell_type": "code",
   "execution_count": 4,
   "id": "bigger-wholesale",
   "metadata": {
    "execution": {
     "iopub.execute_input": "2021-04-07T00:52:59.763908Z",
     "iopub.status.busy": "2021-04-07T00:52:59.763280Z",
     "iopub.status.idle": "2021-04-07T00:52:59.765953Z",
     "shell.execute_reply": "2021-04-07T00:52:59.766444Z"
    },
    "papermill": {
     "duration": 0.02789,
     "end_time": "2021-04-07T00:52:59.766604",
     "exception": false,
     "start_time": "2021-04-07T00:52:59.738714",
     "status": "completed"
    },
    "tags": []
   },
   "outputs": [
    {
     "name": "stdout",
     "output_type": "stream",
     "text": [
      "Experiment ID: bert_zero_shot_prompt_logit_softmax_atsc_restaurants_bert_yelp_restaurants_i_like_696\n"
     ]
    }
   ],
   "source": [
    "print(\"Experiment ID:\", experiment_id)"
   ]
  },
  {
   "cell_type": "markdown",
   "id": "strategic-consortium",
   "metadata": {
    "id": "GYZesqTioMvF",
    "papermill": {
     "duration": 0.021047,
     "end_time": "2021-04-07T00:52:59.808981",
     "exception": false,
     "start_time": "2021-04-07T00:52:59.787934",
     "status": "completed"
    },
    "tags": []
   },
   "source": [
    "## Package imports"
   ]
  },
  {
   "cell_type": "code",
   "execution_count": 5,
   "id": "concerned-television",
   "metadata": {
    "colab": {
     "base_uri": "https://localhost:8080/"
    },
    "execution": {
     "iopub.execute_input": "2021-04-07T00:52:59.885224Z",
     "iopub.status.busy": "2021-04-07T00:52:59.884162Z",
     "iopub.status.idle": "2021-04-07T00:53:04.366262Z",
     "shell.execute_reply": "2021-04-07T00:53:04.364623Z"
    },
    "executionInfo": {
     "elapsed": 50552,
     "status": "ok",
     "timestamp": 1615624285562,
     "user": {
      "displayName": "Ronald Seoh",
      "photoUrl": "",
      "userId": "10284188050297676522"
     },
     "user_tz": 300
    },
    "id": "MlK_-DrWhbzb",
    "outputId": "45b139c8-7f55-4aaa-f223-9f940c64f5f0",
    "papermill": {
     "duration": 4.533624,
     "end_time": "2021-04-07T00:53:04.366657",
     "exception": false,
     "start_time": "2021-04-07T00:52:59.833033",
     "status": "completed"
    },
    "tags": []
   },
   "outputs": [
    {
     "name": "stderr",
     "output_type": "stream",
     "text": [
      "Intel(R) oneAPI Data Analytics Library solvers for sklearn enabled: https://intelpython.github.io/daal4py/sklearn.html\n"
     ]
    },
    {
     "name": "stdout",
     "output_type": "stream",
     "text": [
      "Python version: 3.7.9 (default, Nov  4 2020, 21:30:07) \n",
      "[GCC 7.3.0]\n",
      "NumPy version: 1.19.2\n",
      "PyTorch version: 1.7.1\n",
      "Transformers version: 4.3.3\n"
     ]
    }
   ],
   "source": [
    "import sys\n",
    "import os\n",
    "import random\n",
    "import shutil\n",
    "import copy\n",
    "import inspect\n",
    "\n",
    "import numpy as np\n",
    "import torch\n",
    "import transformers\n",
    "import datasets\n",
    "import sklearn.metrics\n",
    "import pandas as pd\n",
    "import matplotlib.pyplot as plt\n",
    "import seaborn as sn\n",
    "import tqdm\n",
    "\n",
    "current_dir = os.path.dirname(os.path.abspath(inspect.getfile(inspect.currentframe())))\n",
    "parent_dir = os.path.dirname(current_dir)\n",
    "sys.path.append(parent_dir)\n",
    "\n",
    "import utils\n",
    "\n",
    "# Random seed settings\n",
    "random.seed(random_seed)\n",
    "np.random.seed(random_seed)\n",
    "\n",
    "# cuBLAS reproducibility\n",
    "# https://docs.nvidia.com/cuda/cublas/index.html#cublasApi_reproducibility\n",
    "os.environ['CUBLAS_WORKSPACE_CONFIG'] = \":4096:8\"\n",
    "torch.set_deterministic(True)\n",
    "torch.manual_seed(random_seed)\n",
    "\n",
    "# Print version information\n",
    "print(\"Python version: \" + sys.version)\n",
    "print(\"NumPy version: \" + np.__version__)\n",
    "print(\"PyTorch version: \" + torch.__version__)\n",
    "print(\"Transformers version: \" + transformers.__version__)"
   ]
  },
  {
   "cell_type": "markdown",
   "id": "mental-museum",
   "metadata": {
    "id": "UWuR30eUoTWP",
    "papermill": {
     "duration": 0.035631,
     "end_time": "2021-04-07T00:53:04.446958",
     "exception": false,
     "start_time": "2021-04-07T00:53:04.411327",
     "status": "completed"
    },
    "tags": []
   },
   "source": [
    "## PyTorch GPU settings"
   ]
  },
  {
   "cell_type": "code",
   "execution_count": 6,
   "id": "narrative-replacement",
   "metadata": {
    "colab": {
     "base_uri": "https://localhost:8080/"
    },
    "execution": {
     "iopub.execute_input": "2021-04-07T00:53:04.551186Z",
     "iopub.status.busy": "2021-04-07T00:53:04.548659Z",
     "iopub.status.idle": "2021-04-07T00:53:04.556041Z",
     "shell.execute_reply": "2021-04-07T00:53:04.555496Z"
    },
    "executionInfo": {
     "elapsed": 50544,
     "status": "ok",
     "timestamp": 1615624285563,
     "user": {
      "displayName": "Ronald Seoh",
      "photoUrl": "",
      "userId": "10284188050297676522"
     },
     "user_tz": 300
    },
    "id": "PfNlm-ykoSlM",
    "outputId": "e469ee0c-dbd4-4b5a-ebb0-7a5fbd569fb2",
    "papermill": {
     "duration": 0.081527,
     "end_time": "2021-04-07T00:53:04.556177",
     "exception": false,
     "start_time": "2021-04-07T00:53:04.474650",
     "status": "completed"
    },
    "tags": []
   },
   "outputs": [
    {
     "name": "stdout",
     "output_type": "stream",
     "text": [
      "CUDA Version: 11.0\n",
      "cuDNN Version: 8005\n",
      "CUDA Device Name: GeForce GTX TITAN X\n",
      "CUDA Capabilities: (5, 2)\n",
      "Number of CUDA devices: 1\n",
      "\n",
      "PyTorch device selected: cuda\n"
     ]
    }
   ],
   "source": [
    "if torch.cuda.is_available():    \n",
    "    torch_device = torch.device('cuda')\n",
    "\n",
    "    # Set this to True to make your output immediately reproducible\n",
    "    # Note: https://pytorch.org/docs/stable/notes/randomness.html\n",
    "    torch.backends.cudnn.deterministic = True\n",
    "    \n",
    "    # Disable 'benchmark' mode: Set this False if you want to measure running times more fairly\n",
    "    # Note: https://discuss.pytorch.org/t/what-does-torch-backends-cudnn-benchmark-do/5936\n",
    "    torch.backends.cudnn.benchmark = False\n",
    "    \n",
    "    # Faster Host to GPU copies with page-locked memory\n",
    "    use_pin_memory = True\n",
    "    \n",
    "    # Number of compute devices to be used for training\n",
    "    training_device_count = torch.cuda.device_count()\n",
    "\n",
    "    # CUDA libraries version information\n",
    "    print(\"CUDA Version: \" + str(torch.version.cuda))\n",
    "    print(\"cuDNN Version: \" + str(torch.backends.cudnn.version()))\n",
    "    print(\"CUDA Device Name: \" + str(torch.cuda.get_device_name()))\n",
    "    print(\"CUDA Capabilities: \"+ str(torch.cuda.get_device_capability()))\n",
    "    print(\"Number of CUDA devices: \"+ str(training_device_count))\n",
    "    \n",
    "else:\n",
    "    torch_device = torch.device('cpu')\n",
    "    use_pin_memory = False\n",
    "    \n",
    "    # Number of compute devices to be used for training\n",
    "    training_device_count = 1\n",
    "\n",
    "print()\n",
    "print(\"PyTorch device selected:\", torch_device)"
   ]
  },
  {
   "cell_type": "markdown",
   "id": "intimate-civilian",
   "metadata": {
    "id": "ayX5VRLfocFk",
    "papermill": {
     "duration": 0.022032,
     "end_time": "2021-04-07T00:53:04.600562",
     "exception": false,
     "start_time": "2021-04-07T00:53:04.578530",
     "status": "completed"
    },
    "tags": []
   },
   "source": [
    "# Prepare Datasets for Prompt-based Classifier"
   ]
  },
  {
   "cell_type": "markdown",
   "id": "occasional-error",
   "metadata": {
    "id": "U9LAAJP-hbz7",
    "papermill": {
     "duration": 0.024521,
     "end_time": "2021-04-07T00:53:04.647482",
     "exception": false,
     "start_time": "2021-04-07T00:53:04.622961",
     "status": "completed"
    },
    "tags": []
   },
   "source": [
    "## Load the SemEval dataset"
   ]
  },
  {
   "cell_type": "code",
   "execution_count": 7,
   "id": "strong-pursuit",
   "metadata": {
    "colab": {
     "base_uri": "https://localhost:8080/"
    },
    "execution": {
     "iopub.execute_input": "2021-04-07T00:53:04.707987Z",
     "iopub.status.busy": "2021-04-07T00:53:04.707349Z",
     "iopub.status.idle": "2021-04-07T00:53:04.757710Z",
     "shell.execute_reply": "2021-04-07T00:53:04.757266Z"
    },
    "executionInfo": {
     "elapsed": 53313,
     "status": "ok",
     "timestamp": 1615624288339,
     "user": {
      "displayName": "Ronald Seoh",
      "photoUrl": "",
      "userId": "10284188050297676522"
     },
     "user_tz": 300
    },
    "id": "gpL2uHPUhbz9",
    "outputId": "a90fcc98-39a0-42c7-d32e-6f9115e8eff3",
    "papermill": {
     "duration": 0.085243,
     "end_time": "2021-04-07T00:53:04.757830",
     "exception": false,
     "start_time": "2021-04-07T00:53:04.672587",
     "status": "completed"
    },
    "tags": []
   },
   "outputs": [
    {
     "name": "stderr",
     "output_type": "stream",
     "text": [
      "Using custom data configuration default\n",
      "Reusing dataset sem_eval2014_task4_dataset (../dataset_cache/sem_eval2014_task4_dataset/default-de7539247bd7c2b4/0.0.1/f33ba7108331ad17be3f9fb710ca001edb383fba797c6ed0938354e6812ca969)\n",
      "Using custom data configuration default\n",
      "Reusing dataset sem_eval2014_task4_dataset (../dataset_cache/sem_eval2014_task4_dataset/default-5b080ebb031264ae/0.0.1/f33ba7108331ad17be3f9fb710ca001edb383fba797c6ed0938354e6812ca969)\n"
     ]
    }
   ],
   "source": [
    "# Load semeval for both domains\n",
    "laptops_dataset = datasets.load_dataset(\n",
    "    os.path.abspath('../dataset_scripts/semeval2014_task4/semeval2014_task4.py'),\n",
    "    data_files={\n",
    "        'test': '../dataset_files/semeval_2014/Laptops_Test_Gold.xml',\n",
    "        'train': '../dataset_files/semeval_2014/Laptop_Train_v2.xml',\n",
    "    },\n",
    "    cache_dir='../dataset_cache')\n",
    "\n",
    "restaurants_dataset = datasets.load_dataset(\n",
    "    os.path.abspath('../dataset_scripts/semeval2014_task4/semeval2014_task4.py'),\n",
    "    data_files={\n",
    "        'test': '../dataset_files/semeval_2014/Restaurants_Test_Gold.xml',\n",
    "        'train': '../dataset_files/semeval_2014/Restaurants_Train_v2.xml',\n",
    "    },\n",
    "    cache_dir='../dataset_cache')"
   ]
  },
  {
   "cell_type": "code",
   "execution_count": 8,
   "id": "suspected-posting",
   "metadata": {
    "execution": {
     "iopub.execute_input": "2021-04-07T00:53:04.822150Z",
     "iopub.status.busy": "2021-04-07T00:53:04.821100Z",
     "iopub.status.idle": "2021-04-07T00:53:04.823392Z",
     "shell.execute_reply": "2021-04-07T00:53:04.823868Z"
    },
    "executionInfo": {
     "elapsed": 53310,
     "status": "ok",
     "timestamp": 1615624288340,
     "user": {
      "displayName": "Ronald Seoh",
      "photoUrl": "",
      "userId": "10284188050297676522"
     },
     "user_tz": 300
    },
    "id": "Gi5m8AbPj1iJ",
    "papermill": {
     "duration": 0.042108,
     "end_time": "2021-04-07T00:53:04.824039",
     "exception": false,
     "start_time": "2021-04-07T00:53:04.781931",
     "status": "completed"
    },
    "tags": []
   },
   "outputs": [],
   "source": [
    "# The dataset chosen for testing\n",
    "if testing_domain == 'laptops':\n",
    "    test_set = laptops_dataset['test']\n",
    "elif testing_domain == 'restaurants':\n",
    "    test_set = restaurants_dataset['test']\n",
    "elif testing_domain == 'joint':\n",
    "    test_set = laptops_dataset['test'] + restaurants_dataset['test']"
   ]
  },
  {
   "cell_type": "markdown",
   "id": "stylish-sample",
   "metadata": {
    "id": "6TOMmAtIvoZ_",
    "papermill": {
     "duration": 0.023509,
     "end_time": "2021-04-07T00:53:04.871031",
     "exception": false,
     "start_time": "2021-04-07T00:53:04.847522",
     "status": "completed"
    },
    "tags": []
   },
   "source": [
    "# Zero-shot ATSC with Prompts"
   ]
  },
  {
   "cell_type": "markdown",
   "id": "fuzzy-senator",
   "metadata": {
    "id": "3jNAtuv-hbzv",
    "papermill": {
     "duration": 0.02447,
     "end_time": "2021-04-07T00:53:04.922044",
     "exception": false,
     "start_time": "2021-04-07T00:53:04.897574",
     "status": "completed"
    },
    "tags": []
   },
   "source": [
    "## Load the pretrained LM"
   ]
  },
  {
   "cell_type": "code",
   "execution_count": 9,
   "id": "designed-repository",
   "metadata": {
    "execution": {
     "iopub.execute_input": "2021-04-07T00:53:04.980201Z",
     "iopub.status.busy": "2021-04-07T00:53:04.979543Z",
     "iopub.status.idle": "2021-04-07T00:53:10.877284Z",
     "shell.execute_reply": "2021-04-07T00:53:10.878350Z"
    },
    "executionInfo": {
     "elapsed": 64134,
     "status": "ok",
     "timestamp": 1615624299167,
     "user": {
      "displayName": "Ronald Seoh",
      "photoUrl": "",
      "userId": "10284188050297676522"
     },
     "user_tz": 300
    },
    "id": "En2BmfjVhbzy",
    "papermill": {
     "duration": 5.930624,
     "end_time": "2021-04-07T00:53:10.878663",
     "exception": false,
     "start_time": "2021-04-07T00:53:04.948039",
     "status": "completed"
    },
    "tags": []
   },
   "outputs": [],
   "source": [
    "# Load pretrained language model\n",
    "lm = transformers.AutoModelForMaskedLM.from_pretrained(lm_model_path)\n",
    "tokenizer = transformers.AutoTokenizer.from_pretrained('bert-base-uncased', cache_dir='../bert_base_cache')"
   ]
  },
  {
   "cell_type": "markdown",
   "id": "synthetic-things",
   "metadata": {
    "id": "TEIbN5Xthb0o",
    "papermill": {
     "duration": 0.027591,
     "end_time": "2021-04-07T00:53:10.942700",
     "exception": false,
     "start_time": "2021-04-07T00:53:10.915109",
     "status": "completed"
    },
    "tags": []
   },
   "source": [
    "## Define a new model with non-trainable softmax head"
   ]
  },
  {
   "cell_type": "code",
   "execution_count": 10,
   "id": "structural-mentor",
   "metadata": {
    "colab": {
     "base_uri": "https://localhost:8080/"
    },
    "execution": {
     "iopub.execute_input": "2021-04-07T00:53:11.020137Z",
     "iopub.status.busy": "2021-04-07T00:53:11.019086Z",
     "iopub.status.idle": "2021-04-07T00:53:13.103677Z",
     "shell.execute_reply": "2021-04-07T00:53:13.104612Z"
    },
    "executionInfo": {
     "elapsed": 75031,
     "status": "ok",
     "timestamp": 1615624310071,
     "user": {
      "displayName": "Ronald Seoh",
      "photoUrl": "",
      "userId": "10284188050297676522"
     },
     "user_tz": 300
    },
    "id": "wN3q4Rsopxby",
    "outputId": "5e8ff13e-7a15-4e6d-9c34-094fce229c69",
    "papermill": {
     "duration": 2.124697,
     "end_time": "2021-04-07T00:53:13.104866",
     "exception": false,
     "start_time": "2021-04-07T00:53:10.980169",
     "status": "completed"
    },
    "tags": []
   },
   "outputs": [
    {
     "name": "stdout",
     "output_type": "stream",
     "text": [
      "[[2066, 18959, 8568]]\n",
      "Detected LM type: bert\n"
     ]
    }
   ],
   "source": [
    "# Encode the pseudo-label words for each sentiment class\n",
    "sentiment_word_ids = []\n",
    "\n",
    "for sp in sentiment_prompts:\n",
    "    sentiment_word_ids.append(\n",
    "        [tokenizer.convert_tokens_to_ids(w) for w in sp['labels']])\n",
    "\n",
    "print(sentiment_word_ids)\n",
    "\n",
    "classifier_model = utils.MultiPromptLogitSentimentClassificationHead(\n",
    "    lm=lm,\n",
    "    num_class=3,\n",
    "    num_prompts=len(sentiment_prompts), pseudo_label_words=sentiment_word_ids,\n",
    "    target_token_id=tokenizer.mask_token_id)\n",
    "\n",
    "# Freeze the MLM main layer\n",
    "for param in classifier_model.lm.parameters():\n",
    "    param.requires_grad = False\n",
    "\n",
    "classifier_model = classifier_model.to(device=torch_device)"
   ]
  },
  {
   "cell_type": "markdown",
   "id": "commercial-recording",
   "metadata": {
    "id": "1l1H_XIPhb0y",
    "papermill": {
     "duration": 0.04433,
     "end_time": "2021-04-07T00:53:13.198828",
     "exception": false,
     "start_time": "2021-04-07T00:53:13.154498",
     "status": "completed"
    },
    "tags": []
   },
   "source": [
    "## Evaluation with in-domain test set\n",
    "\n"
   ]
  },
  {
   "cell_type": "code",
   "execution_count": 11,
   "id": "further-calendar",
   "metadata": {
    "execution": {
     "iopub.execute_input": "2021-04-07T00:53:13.277882Z",
     "iopub.status.busy": "2021-04-07T00:53:13.276701Z",
     "iopub.status.idle": "2021-04-07T00:53:13.280204Z",
     "shell.execute_reply": "2021-04-07T00:53:13.279427Z"
    },
    "executionInfo": {
     "elapsed": 75030,
     "status": "ok",
     "timestamp": 1615624310073,
     "user": {
      "displayName": "Ronald Seoh",
      "photoUrl": "",
      "userId": "10284188050297676522"
     },
     "user_tz": 300
    },
    "id": "0S80DoYrqApi",
    "papermill": {
     "duration": 0.057092,
     "end_time": "2021-04-07T00:53:13.280372",
     "exception": false,
     "start_time": "2021-04-07T00:53:13.223280",
     "status": "completed"
    },
    "tags": []
   },
   "outputs": [],
   "source": [
    "def compute_metrics(predictions, labels):\n",
    "    preds = predictions.argmax(-1)\n",
    "\n",
    "    precision, recall, f1, _ = sklearn.metrics.precision_recall_fscore_support(\n",
    "        y_true=labels, y_pred=preds, labels=[0,1,2], average='macro')\n",
    "\n",
    "    acc = sklearn.metrics.accuracy_score(labels, preds)\n",
    "\n",
    "    return {\n",
    "        'accuracy': acc,\n",
    "        'f1': f1,\n",
    "        'precision': precision,\n",
    "        'recall': recall\n",
    "    }"
   ]
  },
  {
   "cell_type": "code",
   "execution_count": 12,
   "id": "third-resident",
   "metadata": {
    "execution": {
     "iopub.execute_input": "2021-04-07T00:53:13.340338Z",
     "iopub.status.busy": "2021-04-07T00:53:13.339464Z",
     "iopub.status.idle": "2021-04-07T00:53:13.341998Z",
     "shell.execute_reply": "2021-04-07T00:53:13.342486Z"
    },
    "executionInfo": {
     "elapsed": 75028,
     "status": "ok",
     "timestamp": 1615624310075,
     "user": {
      "displayName": "Ronald Seoh",
      "photoUrl": "",
      "userId": "10284188050297676522"
     },
     "user_tz": 300
    },
    "id": "9NXoBTs5h2eO",
    "papermill": {
     "duration": 0.033224,
     "end_time": "2021-04-07T00:53:13.342649",
     "exception": false,
     "start_time": "2021-04-07T00:53:13.309425",
     "status": "completed"
    },
    "tags": []
   },
   "outputs": [],
   "source": [
    "test_dataloader = torch.utils.data.DataLoader(\n",
    "    test_set, batch_size=testing_batch_size, pin_memory=use_pin_memory)"
   ]
  },
  {
   "cell_type": "code",
   "execution_count": 13,
   "id": "recorded-spine",
   "metadata": {
    "colab": {
     "base_uri": "https://localhost:8080/",
     "height": 84,
     "referenced_widgets": [
      "7fb8791eebc34b50ad4bbc46d5dd672f",
      "4d37f26bbde14141bbaebb4740551a1a",
      "49b8f6f732824057ba293f03276b16b3",
      "0b6322ca19a5491d913895222b433c0f",
      "718b93fb989d48fda8e7093c8ddd2117",
      "640ccd4f39bd4c5f94d7506ff7883fa4",
      "b71f8e96b97748d98e931eaebfe553c0",
      "3dab522d29284de89d4872f68540ff7e"
     ]
    },
    "execution": {
     "iopub.execute_input": "2021-04-07T00:53:13.425887Z",
     "iopub.status.busy": "2021-04-07T00:53:13.418743Z",
     "iopub.status.idle": "2021-04-07T00:53:31.205301Z",
     "shell.execute_reply": "2021-04-07T00:53:31.205827Z"
    },
    "executionInfo": {
     "elapsed": 87162,
     "status": "ok",
     "timestamp": 1615624322219,
     "user": {
      "displayName": "Ronald Seoh",
      "photoUrl": "",
      "userId": "10284188050297676522"
     },
     "user_tz": 300
    },
    "id": "LLcc_wZjhb0y",
    "outputId": "70539e45-a5bd-4355-f10d-9654618ffacc",
    "papermill": {
     "duration": 17.839109,
     "end_time": "2021-04-07T00:53:31.205996",
     "exception": false,
     "start_time": "2021-04-07T00:53:13.366887",
     "status": "completed"
    },
    "tags": []
   },
   "outputs": [
    {
     "data": {
      "application/vnd.jupyter.widget-view+json": {
       "model_id": "3f09493a50ab44e1a18de739a3ee4bf5",
       "version_major": 2,
       "version_minor": 0
      },
      "text/plain": [
       "  0%|          | 0/35 [00:00<?, ?it/s]"
      ]
     },
     "metadata": {},
     "output_type": "display_data"
    },
    {
     "name": "stdout",
     "output_type": "stream",
     "text": [
      "{'accuracy': 0.6651785714285714, 'f1': 0.32258922437038734, 'precision': 0.4559768673827838, 'recall': 0.3647305075876504}\n"
     ]
    },
    {
     "name": "stderr",
     "output_type": "stream",
     "text": [
      "/home/bseoh/miniconda3/envs/zeroshotatsc/lib/python3.7/site-packages/sklearn/metrics/_classification.py:1221: UndefinedMetricWarning: Precision and F-score are ill-defined and being set to 0.0 in labels with no predicted samples. Use `zero_division` parameter to control this behavior.\n",
      "  _warn_prf(average, modifier, msg_start, len(result))\n"
     ]
    }
   ],
   "source": [
    "classifier_model.eval()\n",
    "\n",
    "predictions_test = torch.Tensor([])\n",
    "labels_test = torch.Tensor([])\n",
    "\n",
    "for batch_val in tqdm.notebook.tqdm(test_dataloader):\n",
    "\n",
    "    reviews_repeated = []\n",
    "    prompts_populated = []\n",
    "\n",
    "    for prompt in sentiment_prompts:\n",
    "        reviews_repeated = reviews_repeated + batch_val[\"text\"]\n",
    "\n",
    "        for aspect in batch_val[\"aspect\"]:\n",
    "            prompts_populated.append(prompt['prompt'].format(aspect=aspect))\n",
    "\n",
    "    batch_encoded = tokenizer(\n",
    "        reviews_repeated, prompts_populated,\n",
    "        padding='max_length', truncation='only_first', max_length=256,\n",
    "        return_tensors='pt')\n",
    "    \n",
    "    batch_encoded.to(torch_device)\n",
    "\n",
    "    labels = batch_val[\"sentiment\"]\n",
    "\n",
    "    outputs = classifier_model(batch_encoded)\n",
    "\n",
    "    outputs = outputs.to('cpu')\n",
    "\n",
    "    predictions_test = torch.cat([predictions_test, outputs])\n",
    "    labels_test = torch.cat([labels_test, labels])\n",
    "\n",
    "# Compute metrics\n",
    "test_metrics = compute_metrics(predictions_test, labels_test)\n",
    "\n",
    "print(test_metrics)"
   ]
  },
  {
   "cell_type": "markdown",
   "id": "dynamic-formation",
   "metadata": {
    "id": "HjpA_0m1hb08",
    "papermill": {
     "duration": 0.025417,
     "end_time": "2021-04-07T00:53:31.258549",
     "exception": false,
     "start_time": "2021-04-07T00:53:31.233132",
     "status": "completed"
    },
    "tags": []
   },
   "source": [
    "## Results visualization"
   ]
  },
  {
   "cell_type": "code",
   "execution_count": 14,
   "id": "wooden-windsor",
   "metadata": {
    "colab": {
     "base_uri": "https://localhost:8080/",
     "height": 442
    },
    "execution": {
     "iopub.execute_input": "2021-04-07T00:53:31.330442Z",
     "iopub.status.busy": "2021-04-07T00:53:31.328866Z",
     "iopub.status.idle": "2021-04-07T00:53:31.608192Z",
     "shell.execute_reply": "2021-04-07T00:53:31.609051Z"
    },
    "executionInfo": {
     "elapsed": 87353,
     "status": "ok",
     "timestamp": 1615624322421,
     "user": {
      "displayName": "Ronald Seoh",
      "photoUrl": "",
      "userId": "10284188050297676522"
     },
     "user_tz": 300
    },
    "id": "w9G9AUeQhb09",
    "outputId": "77a945fa-5896-4acf-d95e-3aa9818f80be",
    "papermill": {
     "duration": 0.324677,
     "end_time": "2021-04-07T00:53:31.609259",
     "exception": false,
     "start_time": "2021-04-07T00:53:31.284582",
     "status": "completed"
    },
    "tags": []
   },
   "outputs": [
    {
     "data": {
      "image/png": "[encoded data removed]",
      "text/plain": [
       "<Figure size 720x504 with 2 Axes>"
      ]
     },
     "metadata": {
      "needs_background": "light"
     },
     "output_type": "display_data"
    }
   ],
   "source": [
    "# Calculate metrics and confusion matrix based upon predictions and true labels\n",
    "cm = sklearn.metrics.confusion_matrix(labels_test.detach().numpy(), predictions_test.detach().numpy().argmax(-1))\n",
    "\n",
    "df_cm = pd.DataFrame(\n",
    "    cm,\n",
    "    index=[i for i in [\"positive\", \"negative\", \"neutral\"]],\n",
    "    columns=[i for i in [\"positive\", \"negative\", \"neutral\"]])\n",
    "\n",
    "plt.figure(figsize=(10, 7))\n",
    "\n",
    "ax = sn.heatmap(df_cm, annot=True)\n",
    "\n",
    "ax.set(xlabel='Predicted Label', ylabel='True Label')\n",
    "plt.show()"
   ]
  },
  {
   "cell_type": "code",
   "execution_count": null,
   "id": "spanish-europe",
   "metadata": {
    "papermill": {
     "duration": 0.026971,
     "end_time": "2021-04-07T00:53:31.682595",
     "exception": false,
     "start_time": "2021-04-07T00:53:31.655624",
     "status": "completed"
    },
    "tags": []
   },
   "outputs": [],
   "source": []
  }
 ],
 "metadata": {
  "accelerator": "GPU",
  "celltoolbar": "Tags",
  "colab": {
   "collapsed_sections": [],
   "name": "prompt_lr_atsc_single_prompt_logit_softmax_the_aspect_bert_amazon_electronics.ipynb",
   "provenance": [],
   "toc_visible": true
  },
  "kernelspec": {
   "display_name": "Python 3",
   "language": "python",
   "name": "python3"
  },
  "language_info": {
   "codemirror_mode": {
    "name": "ipython",
    "version": 3
   },
   "file_extension": ".py",
   "mimetype": "text/x-python",
   "name": "python",
   "nbconvert_exporter": "python",
   "pygments_lexer": "ipython3",
   "version": "3.7.9"
  },
  "papermill": {
   "default_parameters": {},
   "duration": 34.949754,
   "end_time": "2021-04-07T00:53:32.922567",
   "environment_variables": {},
   "exception": null,
   "input_path": "bert_zero_shot_prompt_logit_softmax_atsc.ipynb",
   "output_path": "results_restaurants/bert_zero_shot_prompt_logit_softmax_atsc_restaurants_bert_yelp_restaurants_i_like_696.ipynb",
   "parameters": {
    "experiment_id": "bert_zero_shot_prompt_logit_softmax_atsc_restaurants_bert_yelp_restaurants_i_like_696",
    "lm_model_path": "../trained_models/lm_further_pretraining_bert_yelp_restaurants_bseoh_2021-03-22--15_03_31",
    "random_seed": 696,
    "sentiment_prompts": [
     {
      "labels": [
       "like",
       "dislike",
       "ignore"
      ],
      "prompt": "I [MASK] the {aspect}."
     }
    ],
    "testing_batch_size": 32,
    "testing_domain": "restaurants"
   },
   "start_time": "2021-04-07T00:52:57.972813",
   "version": "2.3.2"
  },
  "widgets": {
   "application/vnd.jupyter.widget-state+json": {
    "state": {
     "04be4ff174924a30aed926e85970384b": {
      "model_module": "@jupyter-widgets/controls",
      "model_module_version": "1.5.0",
      "model_name": "HTMLModel",
      "state": {
       "_dom_classes": [],
       "_model_module": "@jupyter-widgets/controls",
       "_model_module_version": "1.5.0",
       "_model_name": "HTMLModel",
       "_view_count": null,
       "_view_module": "@jupyter-widgets/controls",
       "_view_module_version": "1.5.0",
       "_view_name": "HTMLView",
       "description": "",
       "description_tooltip": null,
       "layout": "IPY_MODEL_8c2f392ea3804c8eab5a152c21360076",
       "placeholder": "​",
       "style": "IPY_MODEL_86c1651109ad400c85831c22d5d218de",
       "value": " 35/35 [00:17&lt;00:00,  2.01it/s]"
      }
     },
     "3380dffefcbc47878e8fef39cc0583d2": {
      "model_module": "@jupyter-widgets/controls",
      "model_module_version": "1.5.0",
      "model_name": "ProgressStyleModel",
      "state": {
       "_model_module": "@jupyter-widgets/controls",
       "_model_module_version": "1.5.0",
       "_model_name": "ProgressStyleModel",
       "_view_count": null,
       "_view_module": "@jupyter-widgets/base",
       "_view_module_version": "1.2.0",
       "_view_name": "StyleView",
       "bar_color": null,
       "description_width": ""
      }
     },
     "3f09493a50ab44e1a18de739a3ee4bf5": {
      "model_module": "@jupyter-widgets/controls",
      "model_module_version": "1.5.0",
      "model_name": "HBoxModel",
      "state": {
       "_dom_classes": [],
       "_model_module": "@jupyter-widgets/controls",
       "_model_module_version": "1.5.0",
       "_model_name": "HBoxModel",
       "_view_count": null,
       "_view_module": "@jupyter-widgets/controls",
       "_view_module_version": "1.5.0",
       "_view_name": "HBoxView",
       "box_style": "",
       "children": [
        "IPY_MODEL_f12c31bdc11847b2970e4ac8d596002d",
        "IPY_MODEL_5477967a941546e0aab2a829499f644a",
        "IPY_MODEL_04be4ff174924a30aed926e85970384b"
       ],
       "layout": "IPY_MODEL_575fc48b13584b3e8705988ade99c140"
      }
     },
     "5477967a941546e0aab2a829499f644a": {
      "model_module": "@jupyter-widgets/controls",
      "model_module_version": "1.5.0",
      "model_name": "FloatProgressModel",
      "state": {
       "_dom_classes": [],
       "_model_module": "@jupyter-widgets/controls",
       "_model_module_version": "1.5.0",
       "_model_name": "FloatProgressModel",
       "_view_count": null,
       "_view_module": "@jupyter-widgets/controls",
       "_view_module_version": "1.5.0",
       "_view_name": "ProgressView",
       "bar_style": "success",
       "description": "",
       "description_tooltip": null,
       "layout": "IPY_MODEL_bae5811aa856431f97d1eb1bda09ad87",
       "max": 35,
       "min": 0,
       "orientation": "horizontal",
       "style": "IPY_MODEL_3380dffefcbc47878e8fef39cc0583d2",
       "value": 35
      }
     },
     "575fc48b13584b3e8705988ade99c140": {
      "model_module": "@jupyter-widgets/base",
      "model_module_version": "1.2.0",
      "model_name": "LayoutModel",
      "state": {
       "_model_module": "@jupyter-widgets/base",
       "_model_module_version": "1.2.0",
       "_model_name": "LayoutModel",
       "_view_count": null,
       "_view_module": "@jupyter-widgets/base",
       "_view_module_version": "1.2.0",
       "_view_name": "LayoutView",
       "align_content": null,
       "align_items": null,
       "align_self": null,
       "border": null,
       "bottom": null,
       "display": null,
       "flex": null,
       "flex_flow": null,
       "grid_area": null,
       "grid_auto_columns": null,
       "grid_auto_flow": null,
       "grid_auto_rows": null,
       "grid_column": null,
       "grid_gap": null,
       "grid_row": null,
       "grid_template_areas": null,
       "grid_template_columns": null,
       "grid_template_rows": null,
       "height": null,
       "justify_content": null,
       "justify_items": null,
       "left": null,
       "margin": null,
       "max_height": null,
       "max_width": null,
       "min_height": null,
       "min_width": null,
       "object_fit": null,
       "object_position": null,
       "order": null,
       "overflow": null,
       "overflow_x": null,
       "overflow_y": null,
       "padding": null,
       "right": null,
       "top": null,
       "visibility": null,
       "width": null
      }
     },
     "86c1651109ad400c85831c22d5d218de": {
      "model_module": "@jupyter-widgets/controls",
      "model_module_version": "1.5.0",
      "model_name": "DescriptionStyleModel",
      "state": {
       "_model_module": "@jupyter-widgets/controls",
       "_model_module_version": "1.5.0",
       "_model_name": "DescriptionStyleModel",
       "_view_count": null,
       "_view_module": "@jupyter-widgets/base",
       "_view_module_version": "1.2.0",
       "_view_name": "StyleView",
       "description_width": ""
      }
     },
     "8c2f392ea3804c8eab5a152c21360076": {
      "model_module": "@jupyter-widgets/base",
      "model_module_version": "1.2.0",
      "model_name": "LayoutModel",
      "state": {
       "_model_module": "@jupyter-widgets/base",
       "_model_module_version": "1.2.0",
       "_model_name": "LayoutModel",
       "_view_count": null,
       "_view_module": "@jupyter-widgets/base",
       "_view_module_version": "1.2.0",
       "_view_name": "LayoutView",
       "align_content": null,
       "align_items": null,
       "align_self": null,
       "border": null,
       "bottom": null,
       "display": null,
       "flex": null,
       "flex_flow": null,
       "grid_area": null,
       "grid_auto_columns": null,
       "grid_auto_flow": null,
       "grid_auto_rows": null,
       "grid_column": null,
       "grid_gap": null,
       "grid_row": null,
       "grid_template_areas": null,
       "grid_template_columns": null,
       "grid_template_rows": null,
       "height": null,
       "justify_content": null,
       "justify_items": null,
       "left": null,
       "margin": null,
       "max_height": null,
       "max_width": null,
       "min_height": null,
       "min_width": null,
       "object_fit": null,
       "object_position": null,
       "order": null,
       "overflow": null,
       "overflow_x": null,
       "overflow_y": null,
       "padding": null,
       "right": null,
       "top": null,
       "visibility": null,
       "width": null
      }
     },
     "bae5811aa856431f97d1eb1bda09ad87": {
      "model_module": "@jupyter-widgets/base",
      "model_module_version": "1.2.0",
      "model_name": "LayoutModel",
      "state": {
       "_model_module": "@jupyter-widgets/base",
       "_model_module_version": "1.2.0",
       "_model_name": "LayoutModel",
       "_view_count": null,
       "_view_module": "@jupyter-widgets/base",
       "_view_module_version": "1.2.0",
       "_view_name": "LayoutView",
       "align_content": null,
       "align_items": null,
       "align_self": null,
       "border": null,
       "bottom": null,
       "display": null,
       "flex": null,
       "flex_flow": null,
       "grid_area": null,
       "grid_auto_columns": null,
       "grid_auto_flow": null,
       "grid_auto_rows": null,
       "grid_column": null,
       "grid_gap": null,
       "grid_row": null,
       "grid_template_areas": null,
       "grid_template_columns": null,
       "grid_template_rows": null,
       "height": null,
       "justify_content": null,
       "justify_items": null,
       "left": null,
       "margin": null,
       "max_height": null,
       "max_width": null,
       "min_height": null,
       "min_width": null,
       "object_fit": null,
       "object_position": null,
       "order": null,
       "overflow": null,
       "overflow_x": null,
       "overflow_y": null,
       "padding": null,
       "right": null,
       "top": null,
       "visibility": null,
       "width": null
      }
     },
     "c53c8db7fb654911bfbfd8d3a5d5e0ba": {
      "model_module": "@jupyter-widgets/controls",
      "model_module_version": "1.5.0",
      "model_name": "DescriptionStyleModel",
      "state": {
       "_model_module": "@jupyter-widgets/controls",
       "_model_module_version": "1.5.0",
       "_model_name": "DescriptionStyleModel",
       "_view_count": null,
       "_view_module": "@jupyter-widgets/base",
       "_view_module_version": "1.2.0",
       "_view_name": "StyleView",
       "description_width": ""
      }
     },
     "f12c31bdc11847b2970e4ac8d596002d": {
      "model_module": "@jupyter-widgets/controls",
      "model_module_version": "1.5.0",
      "model_name": "HTMLModel",
      "state": {
       "_dom_classes": [],
       "_model_module": "@jupyter-widgets/controls",
       "_model_module_version": "1.5.0",
       "_model_name": "HTMLModel",
       "_view_count": null,
       "_view_module": "@jupyter-widgets/controls",
       "_view_module_version": "1.5.0",
       "_view_name": "HTMLView",
       "description": "",
       "description_tooltip": null,
       "layout": "IPY_MODEL_f79f8f1e8523418a9bb0367e607b9ab5",
       "placeholder": "​",
       "style": "IPY_MODEL_c53c8db7fb654911bfbfd8d3a5d5e0ba",
       "value": "100%"
      }
     },
     "f79f8f1e8523418a9bb0367e607b9ab5": {
      "model_module": "@jupyter-widgets/base",
      "model_module_version": "1.2.0",
      "model_name": "LayoutModel",
      "state": {
       "_model_module": "@jupyter-widgets/base",
       "_model_module_version": "1.2.0",
       "_model_name": "LayoutModel",
       "_view_count": null,
       "_view_module": "@jupyter-widgets/base",
       "_view_module_version": "1.2.0",
       "_view_name": "LayoutView",
       "align_content": null,
       "align_items": null,
       "align_self": null,
       "border": null,
       "bottom": null,
       "display": null,
       "flex": null,
       "flex_flow": null,
       "grid_area": null,
       "grid_auto_columns": null,
       "grid_auto_flow": null,
       "grid_auto_rows": null,
       "grid_column": null,
       "grid_gap": null,
       "grid_row": null,
       "grid_template_areas": null,
       "grid_template_columns": null,
       "grid_template_rows": null,
       "height": null,
       "justify_content": null,
       "justify_items": null,
       "left": null,
       "margin": null,
       "max_height": null,
       "max_width": null,
       "min_height": null,
       "min_width": null,
       "object_fit": null,
       "object_position": null,
       "order": null,
       "overflow": null,
       "overflow_x": null,
       "overflow_y": null,
       "padding": null,
       "right": null,
       "top": null,
       "visibility": null,
       "width": null
      }
     }
    },
    "version_major": 2,
    "version_minor": 0
   }
  }
 },
 "nbformat": 4,
 "nbformat_minor": 5
}
