{
 "cells": [
  {
   "cell_type": "markdown",
   "id": "ordered-wellington",
   "metadata": {
    "id": "xf3lVTZYhbzA",
    "papermill": {
     "duration": 0.0385,
     "end_time": "2021-05-09T03:33:04.754219",
     "exception": false,
     "start_time": "2021-05-09T03:33:04.715719",
     "status": "completed"
    },
    "tags": []
   },
   "source": [
    "# Initial Setups"
   ]
  },
  {
   "cell_type": "markdown",
   "id": "binary-anatomy",
   "metadata": {
    "id": "2ORFXeezn5Og",
    "papermill": {
     "duration": 0.02315,
     "end_time": "2021-05-09T03:33:04.804096",
     "exception": false,
     "start_time": "2021-05-09T03:33:04.780946",
     "status": "completed"
    },
    "tags": []
   },
   "source": [
    "## (Google Colab use only)"
   ]
  },
  {
   "cell_type": "code",
   "execution_count": 1,
   "id": "reverse-polls",
   "metadata": {
    "colab": {
     "base_uri": "https://localhost:8080/"
    },
    "execution": {
     "iopub.execute_input": "2021-05-09T03:33:04.875330Z",
     "iopub.status.busy": "2021-05-09T03:33:04.874421Z",
     "iopub.status.idle": "2021-05-09T03:33:04.880663Z",
     "shell.execute_reply": "2021-05-09T03:33:04.879304Z"
    },
    "executionInfo": {
     "elapsed": 3570,
     "status": "ok",
     "timestamp": 1620418927808,
     "user": {
      "displayName": "Ronald Seoh",
      "photoUrl": "",
      "userId": "10284188050297676522"
     },
     "user_tz": 240
    },
    "id": "YFAQ6IgXn8FK",
    "outputId": "25f6ccd2-93f3-4714-9551-e47ee5916705",
    "papermill": {
     "duration": 0.051849,
     "end_time": "2021-05-09T03:33:04.880984",
     "exception": false,
     "start_time": "2021-05-09T03:33:04.829135",
     "status": "completed"
    },
    "tags": []
   },
   "outputs": [],
   "source": [
    "# Use Google Colab\n",
    "use_colab = False\n",
    "\n",
    "# Is this notebook running on Colab?\n",
    "# If so, then google.colab package (github.com/googlecolab/colabtools)\n",
    "# should be available in this environment\n",
    "\n",
    "# Previous version used importlib, but we could do the same thing with\n",
    "# just attempting to import google.colab\n",
    "try:\n",
    "    from google.colab import drive\n",
    "    colab_available = True\n",
    "except:\n",
    "    colab_available = False\n",
    "\n",
    "if use_colab and colab_available:\n",
    "    drive.mount('/content/drive')\n",
    "\n",
    "    # cd to the appropriate working directory under my Google Drive\n",
    "    %cd '/content/drive/My Drive/cs696ds_lexalytics/Ronald Gypsum Prompts'\n",
    "    \n",
    "    # Install packages specified in requirements\n",
    "    !pip install -r requirements.txt\n",
    "\n",
    "    %cd 'prompts_subtask4'\n",
    "    \n",
    "    # List the directory contents\n",
    "    !ls"
   ]
  },
  {
   "cell_type": "markdown",
   "id": "spiritual-northeast",
   "metadata": {
    "id": "tgzsHF7Zhbzo",
    "papermill": {
     "duration": 0.024839,
     "end_time": "2021-05-09T03:33:04.939408",
     "exception": false,
     "start_time": "2021-05-09T03:33:04.914569",
     "status": "completed"
    },
    "tags": []
   },
   "source": [
    "## Experiment parameters"
   ]
  },
  {
   "cell_type": "code",
   "execution_count": 2,
   "id": "known-throat",
   "metadata": {
    "execution": {
     "iopub.execute_input": "2021-05-09T03:33:05.005478Z",
     "iopub.status.busy": "2021-05-09T03:33:05.004817Z",
     "iopub.status.idle": "2021-05-09T03:33:05.009673Z",
     "shell.execute_reply": "2021-05-09T03:33:05.008933Z"
    },
    "executionInfo": {
     "elapsed": 3559,
     "status": "ok",
     "timestamp": 1620418927816,
     "user": {
      "displayName": "Ronald Seoh",
      "photoUrl": "",
      "userId": "10284188050297676522"
     },
     "user_tz": 240
    },
    "id": "DUpGBmOJhbzs",
    "papermill": {
     "duration": 0.04148,
     "end_time": "2021-05-09T03:33:05.009887",
     "exception": false,
     "start_time": "2021-05-09T03:33:04.968407",
     "status": "completed"
    },
    "tags": [
     "parameters"
    ]
   },
   "outputs": [],
   "source": [
    "# We will use the following string ID to identify this particular (training) experiments\n",
    "# in directory paths and other settings\n",
    "experiment_id = 'bert_16_shot_prompt_logit_softmax_atsc_restaurants_bert_yelp_restaurants_multiple_prompts_589'\n",
    "\n",
    "# Random seed\n",
    "random_seed = 589\n",
    "\n",
    "# path to pretrained MLM model folder or the string \"bert-base-uncased\"\n",
    "lm_model_path = 'bert-base-uncased'\n",
    "\n",
    "# Prompts to be added to the end of each review text\n",
    "# Note: pseudo-labels for each prompt should be given in the order of (positive), (negative), (neutral)\n",
    "sentiment_prompts = [\n",
    "    {\"prompt\": \"I felt the {aspect} was [MASK].\", \"labels\": [\"good\", \"bad\", \"ok\"]},\n",
    "    {\"prompt\": \"I [MASK] the {aspect}.\", \"labels\": [\"love\", \"hate\", \"dislike\"]},\n",
    "    {\"prompt\": \"The {aspect} made me feel [MASK].\", \"labels\": [\"good\", \"bad\", \"indifferent\"]},\n",
    "    {\"prompt\": \"The {aspect} is [MASK].\", \"labels\": [\"good\", \"bad\", \"ok\"]}\n",
    "]\n",
    "\n",
    "# Multiple prompt merging behavior\n",
    "prompts_merge_behavior = 'sum_logits'\n",
    "\n",
    "# Perturb the input embeddings of tokens within the prompts\n",
    "prompts_perturb = False\n",
    "\n",
    "# Test settings\n",
    "testing_batch_size = 32\n",
    "testing_domain = 'restaurants' # 'laptops', 'restaurants', 'joint'"
   ]
  },
  {
   "cell_type": "code",
   "execution_count": 3,
   "id": "alternate-annotation",
   "metadata": {
    "execution": {
     "iopub.execute_input": "2021-05-09T03:33:05.087897Z",
     "iopub.status.busy": "2021-05-09T03:33:05.087212Z",
     "iopub.status.idle": "2021-05-09T03:33:05.091789Z",
     "shell.execute_reply": "2021-05-09T03:33:05.090910Z"
    },
    "papermill": {
     "duration": 0.045952,
     "end_time": "2021-05-09T03:33:05.091995",
     "exception": false,
     "start_time": "2021-05-09T03:33:05.046043",
     "status": "completed"
    },
    "tags": [
     "injected-parameters"
    ]
   },
   "outputs": [],
   "source": [
    "# Parameters\n",
    "experiment_id = \"bert_1024_shot_prompt_logit_softmax_sum_logits_atsc_restaurants_bert_yelp_restaurants_single_prompt_i_like_682\"\n",
    "random_seed = 682\n",
    "lm_model_path = \"../trained_models/lm_further_pretraining_bert_yelp_restaurants_bseoh_2021-03-22--15_03_31\"\n",
    "sentiment_prompts = [\n",
    "    {\"prompt\": \"I [MASK] the {aspect}.\", \"labels\": [\"like\", \"dislike\", \"ignore\"]}\n",
    "]\n",
    "testing_batch_size = 32\n",
    "testing_domain = \"restaurants\"\n",
    "prompts_merge_behavior = \"sum_logits\"\n",
    "prompts_perturb = False\n"
   ]
  },
  {
   "cell_type": "code",
   "execution_count": 4,
   "id": "wrong-spouse",
   "metadata": {
    "execution": {
     "iopub.execute_input": "2021-05-09T03:33:05.156447Z",
     "iopub.status.busy": "2021-05-09T03:33:05.155818Z",
     "iopub.status.idle": "2021-05-09T03:33:05.160366Z",
     "shell.execute_reply": "2021-05-09T03:33:05.159738Z"
    },
    "executionInfo": {
     "elapsed": 3552,
     "status": "ok",
     "timestamp": 1620418927819,
     "user": {
      "displayName": "Ronald Seoh",
      "photoUrl": "",
      "userId": "10284188050297676522"
     },
     "user_tz": 240
    },
    "id": "AtJhBPXMY36f",
    "papermill": {
     "duration": 0.038782,
     "end_time": "2021-05-09T03:33:05.160572",
     "exception": false,
     "start_time": "2021-05-09T03:33:05.121790",
     "status": "completed"
    },
    "tags": []
   },
   "outputs": [],
   "source": [
    "# Batch size adjustment for multiple prompts.\n",
    "testing_batch_size = testing_batch_size // len(sentiment_prompts)"
   ]
  },
  {
   "cell_type": "code",
   "execution_count": 5,
   "id": "mighty-optics",
   "metadata": {
    "colab": {
     "base_uri": "https://localhost:8080/"
    },
    "execution": {
     "iopub.execute_input": "2021-05-09T03:33:05.228669Z",
     "iopub.status.busy": "2021-05-09T03:33:05.228169Z",
     "iopub.status.idle": "2021-05-09T03:33:05.234545Z",
     "shell.execute_reply": "2021-05-09T03:33:05.235066Z"
    },
    "executionInfo": {
     "elapsed": 3546,
     "status": "ok",
     "timestamp": 1620418927824,
     "user": {
      "displayName": "Ronald Seoh",
      "photoUrl": "",
      "userId": "10284188050297676522"
     },
     "user_tz": 240
    },
    "id": "keCSh__SY36i",
    "outputId": "7d83760a-ac16-481c-c9e4-6633f493b37d",
    "papermill": {
     "duration": 0.040104,
     "end_time": "2021-05-09T03:33:05.235254",
     "exception": false,
     "start_time": "2021-05-09T03:33:05.195150",
     "status": "completed"
    },
    "tags": []
   },
   "outputs": [
    {
     "name": "stdout",
     "output_type": "stream",
     "text": [
      "Experiment ID: bert_1024_shot_prompt_logit_softmax_sum_logits_atsc_restaurants_bert_yelp_restaurants_single_prompt_i_like_682\n"
     ]
    }
   ],
   "source": [
    "print(\"Experiment ID:\", experiment_id)"
   ]
  },
  {
   "cell_type": "markdown",
   "id": "federal-exemption",
   "metadata": {
    "id": "GYZesqTioMvF",
    "papermill": {
     "duration": 0.02575,
     "end_time": "2021-05-09T03:33:05.289744",
     "exception": false,
     "start_time": "2021-05-09T03:33:05.263994",
     "status": "completed"
    },
    "tags": []
   },
   "source": [
    "## Package imports"
   ]
  },
  {
   "cell_type": "code",
   "execution_count": 6,
   "id": "frozen-casino",
   "metadata": {
    "colab": {
     "base_uri": "https://localhost:8080/"
    },
    "execution": {
     "iopub.execute_input": "2021-05-09T03:33:05.359079Z",
     "iopub.status.busy": "2021-05-09T03:33:05.358166Z",
     "iopub.status.idle": "2021-05-09T03:33:08.480741Z",
     "shell.execute_reply": "2021-05-09T03:33:08.482096Z"
    },
    "executionInfo": {
     "elapsed": 5595,
     "status": "ok",
     "timestamp": 1620418929888,
     "user": {
      "displayName": "Ronald Seoh",
      "photoUrl": "",
      "userId": "10284188050297676522"
     },
     "user_tz": 240
    },
    "id": "MlK_-DrWhbzb",
    "outputId": "5854fa11-ce1f-49a2-a493-6d6b1fb92423",
    "papermill": {
     "duration": 3.167489,
     "end_time": "2021-05-09T03:33:08.482566",
     "exception": false,
     "start_time": "2021-05-09T03:33:05.315077",
     "status": "completed"
    },
    "tags": []
   },
   "outputs": [
    {
     "name": "stderr",
     "output_type": "stream",
     "text": [
      "Intel(R) oneAPI Data Analytics Library solvers for sklearn enabled: https://intelpython.github.io/daal4py/sklearn.html\n"
     ]
    },
    {
     "name": "stdout",
     "output_type": "stream",
     "text": [
      "Python version: 3.7.9 (default, Nov  4 2020, 21:30:07) \n",
      "[GCC 7.3.0]\n",
      "NumPy version: 1.19.2\n",
      "PyTorch version: 1.7.1\n",
      "Transformers version: 4.3.3\n"
     ]
    }
   ],
   "source": [
    "import sys\n",
    "import os\n",
    "import random\n",
    "import shutil\n",
    "import copy\n",
    "import inspect\n",
    "import json\n",
    "\n",
    "import numpy as np\n",
    "import torch\n",
    "import transformers\n",
    "import datasets\n",
    "import sklearn.metrics\n",
    "import pandas as pd\n",
    "import matplotlib.pyplot as plt\n",
    "import seaborn as sn\n",
    "import tqdm\n",
    "\n",
    "current_dir = os.path.dirname(os.path.abspath(inspect.getfile(inspect.currentframe())))\n",
    "parent_dir = os.path.dirname(current_dir)\n",
    "sys.path.append(parent_dir)\n",
    "\n",
    "import utils\n",
    "\n",
    "# Random seed settings\n",
    "random.seed(random_seed)\n",
    "np.random.seed(random_seed)\n",
    "\n",
    "# cuBLAS reproducibility\n",
    "# https://docs.nvidia.com/cuda/cublas/index.html#cublasApi_reproducibility\n",
    "os.environ['CUBLAS_WORKSPACE_CONFIG'] = \":4096:8\"\n",
    "torch.set_deterministic(True)\n",
    "torch.manual_seed(random_seed)\n",
    "\n",
    "# Print version information\n",
    "print(\"Python version: \" + sys.version)\n",
    "print(\"NumPy version: \" + np.__version__)\n",
    "print(\"PyTorch version: \" + torch.__version__)\n",
    "print(\"Transformers version: \" + transformers.__version__)"
   ]
  },
  {
   "cell_type": "markdown",
   "id": "sexual-central",
   "metadata": {
    "id": "UWuR30eUoTWP",
    "papermill": {
     "duration": 0.020618,
     "end_time": "2021-05-09T03:33:08.545138",
     "exception": false,
     "start_time": "2021-05-09T03:33:08.524520",
     "status": "completed"
    },
    "tags": []
   },
   "source": [
    "## PyTorch GPU settings"
   ]
  },
  {
   "cell_type": "code",
   "execution_count": 7,
   "id": "partial-opera",
   "metadata": {
    "colab": {
     "base_uri": "https://localhost:8080/"
    },
    "execution": {
     "iopub.execute_input": "2021-05-09T03:33:12.540368Z",
     "iopub.status.busy": "2021-05-09T03:33:12.538566Z",
     "iopub.status.idle": "2021-05-09T03:33:12.544403Z",
     "shell.execute_reply": "2021-05-09T03:33:12.545761Z"
    },
    "executionInfo": {
     "elapsed": 5585,
     "status": "ok",
     "timestamp": 1620418929892,
     "user": {
      "displayName": "Ronald Seoh",
      "photoUrl": "",
      "userId": "10284188050297676522"
     },
     "user_tz": 240
    },
    "id": "PfNlm-ykoSlM",
    "outputId": "9b7cc30c-e6ae-404d-ce4f-b2afbdbec29d",
    "papermill": {
     "duration": 3.978293,
     "end_time": "2021-05-09T03:33:12.546231",
     "exception": false,
     "start_time": "2021-05-09T03:33:08.567938",
     "status": "completed"
    },
    "tags": []
   },
   "outputs": [
    {
     "name": "stdout",
     "output_type": "stream",
     "text": [
      "CUDA Version: 11.0\n",
      "cuDNN Version: 8005\n",
      "CUDA Device Name: GeForce GTX 1080 Ti\n",
      "CUDA Capabilities: (6, 1)\n",
      "Number of CUDA devices: 1\n",
      "\n",
      "PyTorch device selected: cuda\n"
     ]
    }
   ],
   "source": [
    "if torch.cuda.is_available():    \n",
    "    torch_device = torch.device('cuda')\n",
    "\n",
    "    # Set this to True to make your output immediately reproducible\n",
    "    # Note: https://pytorch.org/docs/stable/notes/randomness.html\n",
    "    torch.backends.cudnn.deterministic = True\n",
    "    \n",
    "    # Disable 'benchmark' mode: Set this False if you want to measure running times more fairly\n",
    "    # Note: https://discuss.pytorch.org/t/what-does-torch-backends-cudnn-benchmark-do/5936\n",
    "    torch.backends.cudnn.benchmark = False\n",
    "    \n",
    "    # Faster Host to GPU copies with page-locked memory\n",
    "    use_pin_memory = True\n",
    "    \n",
    "    # Number of compute devices to be used for training\n",
    "    training_device_count = torch.cuda.device_count()\n",
    "\n",
    "    # CUDA libraries version information\n",
    "    print(\"CUDA Version: \" + str(torch.version.cuda))\n",
    "    print(\"cuDNN Version: \" + str(torch.backends.cudnn.version()))\n",
    "    print(\"CUDA Device Name: \" + str(torch.cuda.get_device_name()))\n",
    "    print(\"CUDA Capabilities: \"+ str(torch.cuda.get_device_capability()))\n",
    "    print(\"Number of CUDA devices: \"+ str(training_device_count))\n",
    "    \n",
    "else:\n",
    "    torch_device = torch.device('cpu')\n",
    "    use_pin_memory = False\n",
    "    \n",
    "    # Number of compute devices to be used for training\n",
    "    training_device_count = 1\n",
    "\n",
    "print()\n",
    "print(\"PyTorch device selected:\", torch_device)"
   ]
  },
  {
   "cell_type": "markdown",
   "id": "copyrighted-content",
   "metadata": {
    "id": "ayX5VRLfocFk",
    "papermill": {
     "duration": 0.031348,
     "end_time": "2021-05-09T03:33:12.625441",
     "exception": false,
     "start_time": "2021-05-09T03:33:12.594093",
     "status": "completed"
    },
    "tags": []
   },
   "source": [
    "# Prepare Datasets for Prompt-based Classifier"
   ]
  },
  {
   "cell_type": "markdown",
   "id": "advanced-statement",
   "metadata": {
    "id": "U9LAAJP-hbz7",
    "papermill": {
     "duration": 0.028088,
     "end_time": "2021-05-09T03:33:12.682285",
     "exception": false,
     "start_time": "2021-05-09T03:33:12.654197",
     "status": "completed"
    },
    "tags": []
   },
   "source": [
    "## Load the SemEval dataset"
   ]
  },
  {
   "cell_type": "code",
   "execution_count": 8,
   "id": "expensive-lover",
   "metadata": {
    "colab": {
     "base_uri": "https://localhost:8080/"
    },
    "execution": {
     "iopub.execute_input": "2021-05-09T03:33:12.761339Z",
     "iopub.status.busy": "2021-05-09T03:33:12.760587Z",
     "iopub.status.idle": "2021-05-09T03:33:12.850451Z",
     "shell.execute_reply": "2021-05-09T03:33:12.849015Z"
    },
    "executionInfo": {
     "elapsed": 5575,
     "status": "ok",
     "timestamp": 1620418929895,
     "user": {
      "displayName": "Ronald Seoh",
      "photoUrl": "",
      "userId": "10284188050297676522"
     },
     "user_tz": 240
    },
    "id": "gpL2uHPUhbz9",
    "outputId": "41504d48-f3c5-4361-a055-e24d3046f9c8",
    "papermill": {
     "duration": 0.137521,
     "end_time": "2021-05-09T03:33:12.850852",
     "exception": false,
     "start_time": "2021-05-09T03:33:12.713331",
     "status": "completed"
    },
    "tags": []
   },
   "outputs": [
    {
     "name": "stderr",
     "output_type": "stream",
     "text": [
      "Reusing dataset sem_eval2014_task4_dataset (../dataset_cache/sem_eval2014_task4_dataset/SemEval2014Task4Dataset - Subtask 4/0.0.1/537edd3b5fdbdb1f3190419cf0a53a4fab3537bc666f17c8c75fa8d0b554e529)\n"
     ]
    }
   ],
   "source": [
    "# Load semeval for both domains\n",
    "restaurants_dataset = datasets.load_dataset(\n",
    "    os.path.abspath('../dataset_scripts/semeval2014_task4/semeval2014_task4.py'),\n",
    "    name=\"SemEval2014Task4Dataset - Subtask 4\",\n",
    "    data_files={\n",
    "        'test': '../dataset_files/semeval_2014/Restaurants_Test_Gold.xml',\n",
    "        'train': '../dataset_files/semeval_2014/Restaurants_Train_v2.xml',\n",
    "    },\n",
    "    cache_dir='../dataset_cache')"
   ]
  },
  {
   "cell_type": "code",
   "execution_count": 9,
   "id": "built-music",
   "metadata": {
    "execution": {
     "iopub.execute_input": "2021-05-09T03:33:12.932983Z",
     "iopub.status.busy": "2021-05-09T03:33:12.932317Z",
     "iopub.status.idle": "2021-05-09T03:33:12.936182Z",
     "shell.execute_reply": "2021-05-09T03:33:12.936900Z"
    },
    "executionInfo": {
     "elapsed": 5565,
     "status": "ok",
     "timestamp": 1620418929898,
     "user": {
      "displayName": "Ronald Seoh",
      "photoUrl": "",
      "userId": "10284188050297676522"
     },
     "user_tz": 240
    },
    "id": "Gi5m8AbPj1iJ",
    "papermill": {
     "duration": 0.044467,
     "end_time": "2021-05-09T03:33:12.937141",
     "exception": false,
     "start_time": "2021-05-09T03:33:12.892674",
     "status": "completed"
    },
    "tags": []
   },
   "outputs": [],
   "source": [
    "# The dataset chosen for testing\n",
    "if testing_domain == 'restaurants':\n",
    "    test_set = restaurants_dataset['test']"
   ]
  },
  {
   "cell_type": "code",
   "execution_count": 10,
   "id": "preceding-greensboro",
   "metadata": {
    "colab": {
     "base_uri": "https://localhost:8080/"
    },
    "execution": {
     "iopub.execute_input": "2021-05-09T03:33:13.009191Z",
     "iopub.status.busy": "2021-05-09T03:33:13.008634Z",
     "iopub.status.idle": "2021-05-09T03:33:13.013483Z",
     "shell.execute_reply": "2021-05-09T03:33:13.013006Z"
    },
    "executionInfo": {
     "elapsed": 5557,
     "status": "ok",
     "timestamp": 1620418929901,
     "user": {
      "displayName": "Ronald Seoh",
      "photoUrl": "",
      "userId": "10284188050297676522"
     },
     "user_tz": 240
    },
    "id": "Est9ao9rcH4l",
    "outputId": "8487f46b-593a-43f6-b98c-eb559af8d169",
    "papermill": {
     "duration": 0.040293,
     "end_time": "2021-05-09T03:33:13.013672",
     "exception": false,
     "start_time": "2021-05-09T03:33:12.973379",
     "status": "completed"
    },
    "tags": []
   },
   "outputs": [
    {
     "name": "stdout",
     "output_type": "stream",
     "text": [
      "973\n"
     ]
    }
   ],
   "source": [
    "print(len(test_set))"
   ]
  },
  {
   "cell_type": "code",
   "execution_count": 11,
   "id": "logical-process",
   "metadata": {
    "colab": {
     "base_uri": "https://localhost:8080/"
    },
    "execution": {
     "iopub.execute_input": "2021-05-09T03:33:13.081128Z",
     "iopub.status.busy": "2021-05-09T03:33:13.079472Z",
     "iopub.status.idle": "2021-05-09T03:33:13.086436Z",
     "shell.execute_reply": "2021-05-09T03:33:13.085003Z"
    },
    "executionInfo": {
     "elapsed": 5547,
     "status": "ok",
     "timestamp": 1620418929903,
     "user": {
      "displayName": "Ronald Seoh",
      "photoUrl": "",
      "userId": "10284188050297676522"
     },
     "user_tz": 240
    },
    "id": "_npZeCIqcKjT",
    "outputId": "8951acb2-32ca-4e07-e1cf-011aa6831a69",
    "papermill": {
     "duration": 0.039152,
     "end_time": "2021-05-09T03:33:13.086831",
     "exception": false,
     "start_time": "2021-05-09T03:33:13.047679",
     "status": "completed"
    },
    "tags": []
   },
   "outputs": [
    {
     "name": "stdout",
     "output_type": "stream",
     "text": [
      "{'aspect': 'ambience', 'sentiment': 0, 'text': 'Certainly not the best sushi in New York, however, it is always fresh, and the place is very clean, sterile.'}\n"
     ]
    }
   ],
   "source": [
    "print(test_set[4])"
   ]
  },
  {
   "cell_type": "markdown",
   "id": "duplicate-surface",
   "metadata": {
    "id": "6TOMmAtIvoZ_",
    "papermill": {
     "duration": 0.026107,
     "end_time": "2021-05-09T03:33:13.153964",
     "exception": false,
     "start_time": "2021-05-09T03:33:13.127857",
     "status": "completed"
    },
    "tags": []
   },
   "source": [
    "# Zero-shot ATSC with Prompts"
   ]
  },
  {
   "cell_type": "markdown",
   "id": "czech-weight",
   "metadata": {
    "id": "3jNAtuv-hbzv",
    "papermill": {
     "duration": 0.034837,
     "end_time": "2021-05-09T03:33:13.222629",
     "exception": false,
     "start_time": "2021-05-09T03:33:13.187792",
     "status": "completed"
    },
    "tags": []
   },
   "source": [
    "## Initialize BERT MLM"
   ]
  },
  {
   "cell_type": "code",
   "execution_count": 12,
   "id": "written-excuse",
   "metadata": {
    "execution": {
     "iopub.execute_input": "2021-05-09T03:33:13.525130Z",
     "iopub.status.busy": "2021-05-09T03:33:13.523463Z",
     "iopub.status.idle": "2021-05-09T03:33:18.167043Z",
     "shell.execute_reply": "2021-05-09T03:33:18.165294Z"
    },
    "executionInfo": {
     "elapsed": 9973,
     "status": "ok",
     "timestamp": 1620418934341,
     "user": {
      "displayName": "Ronald Seoh",
      "photoUrl": "",
      "userId": "10284188050297676522"
     },
     "user_tz": 240
    },
    "id": "En2BmfjVhbzy",
    "papermill": {
     "duration": 4.89878,
     "end_time": "2021-05-09T03:33:18.167450",
     "exception": false,
     "start_time": "2021-05-09T03:33:13.268670",
     "status": "completed"
    },
    "tags": []
   },
   "outputs": [],
   "source": [
    "# Load pretrained language model\n",
    "# Use the config, but not the actual weights, from the pretrained model\n",
    "lm_config = transformers.AutoConfig.from_pretrained('bert-base-uncased', cache_dir='../bert_base_cache')\n",
    "lm = transformers.AutoModelForMaskedLM.from_config(lm_config)\n",
    "tokenizer = transformers.AutoTokenizer.from_pretrained('bert-base-uncased', cache_dir='../bert_base_cache')"
   ]
  },
  {
   "cell_type": "markdown",
   "id": "statistical-bible",
   "metadata": {
    "id": "TEIbN5Xthb0o",
    "papermill": {
     "duration": 0.030673,
     "end_time": "2021-05-09T03:33:18.241298",
     "exception": false,
     "start_time": "2021-05-09T03:33:18.210625",
     "status": "completed"
    },
    "tags": []
   },
   "source": [
    "## Define a new model with non-trainable softmax head"
   ]
  },
  {
   "cell_type": "code",
   "execution_count": 13,
   "id": "french-slide",
   "metadata": {
    "colab": {
     "base_uri": "https://localhost:8080/"
    },
    "execution": {
     "iopub.execute_input": "2021-05-09T03:33:18.310254Z",
     "iopub.status.busy": "2021-05-09T03:33:18.309352Z",
     "iopub.status.idle": "2021-05-09T03:33:21.152090Z",
     "shell.execute_reply": "2021-05-09T03:33:21.153401Z"
    },
    "executionInfo": {
     "elapsed": 12519,
     "status": "ok",
     "timestamp": 1620418936896,
     "user": {
      "displayName": "Ronald Seoh",
      "photoUrl": "",
      "userId": "10284188050297676522"
     },
     "user_tz": 240
    },
    "id": "wN3q4Rsopxby",
    "outputId": "f9336495-e129-4ca0-d311-6bc3c2f38c20",
    "papermill": {
     "duration": 2.883136,
     "end_time": "2021-05-09T03:33:21.153895",
     "exception": false,
     "start_time": "2021-05-09T03:33:18.270759",
     "status": "completed"
    },
    "tags": []
   },
   "outputs": [
    {
     "name": "stdout",
     "output_type": "stream",
     "text": [
      "[[2066, 18959, 8568]]\n",
      "Detected LM type: bert\n"
     ]
    }
   ],
   "source": [
    "# Encode the pseudo-label words for each sentiment class\n",
    "sentiment_word_ids = []\n",
    "\n",
    "for sp in sentiment_prompts:\n",
    "    sentiment_word_ids.append(\n",
    "        [tokenizer.convert_tokens_to_ids(w) for w in sp['labels']])\n",
    "\n",
    "print(sentiment_word_ids)\n",
    "\n",
    "classifier_model = utils.MultiPromptLogitSentimentClassificationHead(\n",
    "    lm=lm,\n",
    "    num_class=3,\n",
    "    num_prompts=len(sentiment_prompts), pseudo_label_words=sentiment_word_ids,\n",
    "    target_token_id=tokenizer.mask_token_id,\n",
    "    merge_behavior=prompts_merge_behavior,\n",
    "    perturb_prompts=prompts_perturb)\n",
    "\n",
    "classifier_model = classifier_model.to(device=torch_device)"
   ]
  },
  {
   "cell_type": "markdown",
   "id": "buried-appliance",
   "metadata": {
    "id": "1U6B5GNSYBYk",
    "papermill": {
     "duration": 0.028134,
     "end_time": "2021-05-09T03:33:21.226734",
     "exception": false,
     "start_time": "2021-05-09T03:33:21.198600",
     "status": "completed"
    },
    "tags": []
   },
   "source": [
    "## Load our saved weights"
   ]
  },
  {
   "cell_type": "code",
   "execution_count": 14,
   "id": "secret-candidate",
   "metadata": {
    "colab": {
     "base_uri": "https://localhost:8080/"
    },
    "execution": {
     "iopub.execute_input": "2021-05-09T03:33:21.294793Z",
     "iopub.status.busy": "2021-05-09T03:33:21.294148Z",
     "iopub.status.idle": "2021-05-09T03:33:26.695637Z",
     "shell.execute_reply": "2021-05-09T03:33:26.696984Z"
    },
    "executionInfo": {
     "elapsed": 14206,
     "status": "ok",
     "timestamp": 1620418938595,
     "user": {
      "displayName": "Ronald Seoh",
      "photoUrl": "",
      "userId": "10284188050297676522"
     },
     "user_tz": 240
    },
    "id": "gLo25nUcYBGx",
    "outputId": "f5fef2db-f954-4d65-b4c9-c8e93a269b5d",
    "papermill": {
     "duration": 5.44298,
     "end_time": "2021-05-09T03:33:26.697453",
     "exception": false,
     "start_time": "2021-05-09T03:33:21.254473",
     "status": "completed"
    },
    "tags": []
   },
   "outputs": [
    {
     "name": "stdout",
     "output_type": "stream",
     "text": [
      "Loading epoch_16.pt\n"
     ]
    },
    {
     "data": {
      "text/plain": [
       "<All keys matched successfully>"
      ]
     },
     "execution_count": 14,
     "metadata": {},
     "output_type": "execute_result"
    }
   ],
   "source": [
    "# Locate the weight file.\n",
    "trained_model_directory = os.path.join('..', 'trained_models_prompts', experiment_id)\n",
    "\n",
    "saved_weights_name = ''\n",
    "\n",
    "for fname in os.listdir(trained_model_directory):\n",
    "    if fname.startswith('epoch'):\n",
    "        saved_weights_name = fname\n",
    "        break\n",
    "\n",
    "print(\"Loading\", saved_weights_name)\n",
    "\n",
    "classifier_model.load_state_dict(torch.load(\n",
    "    os.path.join(trained_model_directory, saved_weights_name),\n",
    "    map_location=torch_device))"
   ]
  },
  {
   "cell_type": "markdown",
   "id": "former-specific",
   "metadata": {
    "id": "1l1H_XIPhb0y",
    "papermill": {
     "duration": 0.028585,
     "end_time": "2021-05-09T03:33:26.768222",
     "exception": false,
     "start_time": "2021-05-09T03:33:26.739637",
     "status": "completed"
    },
    "tags": []
   },
   "source": [
    "## Evaluation with in-domain test set\n",
    "\n"
   ]
  },
  {
   "cell_type": "code",
   "execution_count": 15,
   "id": "afraid-story",
   "metadata": {
    "execution": {
     "iopub.execute_input": "2021-05-09T03:33:26.840240Z",
     "iopub.status.busy": "2021-05-09T03:33:26.839556Z",
     "iopub.status.idle": "2021-05-09T03:33:26.844377Z",
     "shell.execute_reply": "2021-05-09T03:33:26.843823Z"
    },
    "executionInfo": {
     "elapsed": 14198,
     "status": "ok",
     "timestamp": 1620418938597,
     "user": {
      "displayName": "Ronald Seoh",
      "photoUrl": "",
      "userId": "10284188050297676522"
     },
     "user_tz": 240
    },
    "id": "0S80DoYrqApi",
    "papermill": {
     "duration": 0.045749,
     "end_time": "2021-05-09T03:33:26.844544",
     "exception": false,
     "start_time": "2021-05-09T03:33:26.798795",
     "status": "completed"
    },
    "tags": []
   },
   "outputs": [],
   "source": [
    "def compute_metrics(predictions, labels):\n",
    "    preds = predictions.argmax(-1)\n",
    "\n",
    "    precision, recall, f1, _ = sklearn.metrics.precision_recall_fscore_support(\n",
    "        y_true=labels, y_pred=preds, labels=[0,1,2], average='macro')\n",
    "\n",
    "    acc = sklearn.metrics.accuracy_score(labels, preds)\n",
    "\n",
    "    return {\n",
    "        'accuracy': acc,\n",
    "        'f1': f1,\n",
    "        'precision': precision,\n",
    "        'recall': recall\n",
    "    }"
   ]
  },
  {
   "cell_type": "code",
   "execution_count": 16,
   "id": "recreational-convertible",
   "metadata": {
    "execution": {
     "iopub.execute_input": "2021-05-09T03:33:26.922834Z",
     "iopub.status.busy": "2021-05-09T03:33:26.922081Z",
     "iopub.status.idle": "2021-05-09T03:33:26.925838Z",
     "shell.execute_reply": "2021-05-09T03:33:26.926449Z"
    },
    "executionInfo": {
     "elapsed": 14193,
     "status": "ok",
     "timestamp": 1620418938599,
     "user": {
      "displayName": "Ronald Seoh",
      "photoUrl": "",
      "userId": "10284188050297676522"
     },
     "user_tz": 240
    },
    "id": "9NXoBTs5h2eO",
    "papermill": {
     "duration": 0.046503,
     "end_time": "2021-05-09T03:33:26.926740",
     "exception": false,
     "start_time": "2021-05-09T03:33:26.880237",
     "status": "completed"
    },
    "tags": []
   },
   "outputs": [],
   "source": [
    "test_dataloader = torch.utils.data.DataLoader(\n",
    "    test_set, batch_size=testing_batch_size, pin_memory=use_pin_memory)"
   ]
  },
  {
   "cell_type": "code",
   "execution_count": 17,
   "id": "greenhouse-christmas",
   "metadata": {
    "colab": {
     "base_uri": "https://localhost:8080/",
     "height": 104,
     "referenced_widgets": [
      "8bc7129ea76340a494cc7916b037c052",
      "5704871af06f4221b051f07f65c7e74a",
      "1ee6f145ba0e4da09d2d31bf1967da8d",
      "ce70f9442d0240118f9f76c3a485e383",
      "65ff039fa4f94365bd0d070c5f22be61",
      "5f1b30eb632447ccad493dc94bb2e168",
      "ac65a5f115be49628880b6582b47d873",
      "31348e5edcad45d4a8559cdd6b677ee2"
     ]
    },
    "execution": {
     "iopub.execute_input": "2021-05-09T03:33:27.041319Z",
     "iopub.status.busy": "2021-05-09T03:33:27.040052Z",
     "iopub.status.idle": "2021-05-09T03:33:39.631295Z",
     "shell.execute_reply": "2021-05-09T03:33:39.632681Z"
    },
    "executionInfo": {
     "elapsed": 95055,
     "status": "ok",
     "timestamp": 1620419019471,
     "user": {
      "displayName": "Ronald Seoh",
      "photoUrl": "",
      "userId": "10284188050297676522"
     },
     "user_tz": 240
    },
    "id": "LLcc_wZjhb0y",
    "outputId": "16de918b-7858-4cf6-d7b5-5194affd2151",
    "papermill": {
     "duration": 12.669601,
     "end_time": "2021-05-09T03:33:39.633156",
     "exception": false,
     "start_time": "2021-05-09T03:33:26.963555",
     "status": "completed"
    },
    "tags": []
   },
   "outputs": [
    {
     "data": {
      "application/vnd.jupyter.widget-view+json": {
       "model_id": "c615dadce96546da9772ab336fe3d119",
       "version_major": 2,
       "version_minor": 0
      },
      "text/plain": [
       "  0%|          | 0/31 [00:00<?, ?it/s]"
      ]
     },
     "metadata": {},
     "output_type": "display_data"
    },
    {
     "name": "stdout",
     "output_type": "stream",
     "text": [
      "{'accuracy': 0.8766700924974307, 'f1': 0.7819793806800304, 'precision': 0.7937134115945635, 'recall': 0.7852111802855025}\n"
     ]
    }
   ],
   "source": [
    "with torch.no_grad():\n",
    "    classifier_model.eval()\n",
    "\n",
    "    predictions_test = torch.Tensor([])\n",
    "    labels_test = torch.Tensor([])\n",
    "\n",
    "    for batch_val in tqdm.notebook.tqdm(test_dataloader):\n",
    "\n",
    "        reviews_repeated = []\n",
    "        prompts_populated = []\n",
    "\n",
    "        for prompt in sentiment_prompts:\n",
    "            reviews_repeated = reviews_repeated + batch_val[\"text\"]\n",
    "\n",
    "            for aspect in batch_val[\"aspect\"]:\n",
    "                prompts_populated.append(prompt['prompt'].format(aspect=aspect))\n",
    "\n",
    "        batch_encoded = tokenizer(\n",
    "            reviews_repeated, prompts_populated,\n",
    "            padding='max_length', truncation='only_first', max_length=256,\n",
    "            return_tensors='pt')\n",
    "        \n",
    "        batch_encoded.to(torch_device)\n",
    "\n",
    "        labels = batch_val[\"sentiment\"]\n",
    "\n",
    "        outputs = classifier_model(batch_encoded)\n",
    "\n",
    "        outputs = outputs.to('cpu')\n",
    "\n",
    "        predictions_test = torch.cat([predictions_test, outputs])\n",
    "        labels_test = torch.cat([labels_test, labels])\n",
    "\n",
    "    # Compute metrics\n",
    "    test_metrics = compute_metrics(predictions_test, labels_test)\n",
    "\n",
    "    print(test_metrics)\n",
    "\n",
    "    # Save test_metrics into a file for later processing\n",
    "    with open(os.path.join(trained_model_directory, 'test_metrics_subtask4.json'), 'w') as test_metrics_json:\n",
    "        json.dump(test_metrics, test_metrics_json)"
   ]
  },
  {
   "cell_type": "markdown",
   "id": "continental-jones",
   "metadata": {
    "id": "HjpA_0m1hb08",
    "papermill": {
     "duration": 0.032407,
     "end_time": "2021-05-09T03:33:39.725323",
     "exception": false,
     "start_time": "2021-05-09T03:33:39.692916",
     "status": "completed"
    },
    "tags": []
   },
   "source": [
    "## Results visualization"
   ]
  },
  {
   "cell_type": "code",
   "execution_count": 18,
   "id": "communist-costs",
   "metadata": {
    "colab": {
     "base_uri": "https://localhost:8080/",
     "height": 442
    },
    "execution": {
     "iopub.execute_input": "2021-05-09T03:33:39.814745Z",
     "iopub.status.busy": "2021-05-09T03:33:39.813768Z",
     "iopub.status.idle": "2021-05-09T03:33:40.042953Z",
     "shell.execute_reply": "2021-05-09T03:33:40.044342Z"
    },
    "executionInfo": {
     "elapsed": 95048,
     "status": "ok",
     "timestamp": 1620419019476,
     "user": {
      "displayName": "Ronald Seoh",
      "photoUrl": "",
      "userId": "10284188050297676522"
     },
     "user_tz": 240
    },
    "id": "w9G9AUeQhb09",
    "outputId": "06eb5449-2881-43c4-98b5-ad2cee1f476f",
    "papermill": {
     "duration": 0.285183,
     "end_time": "2021-05-09T03:33:40.044931",
     "exception": false,
     "start_time": "2021-05-09T03:33:39.759748",
     "status": "completed"
    },
    "tags": []
   },
   "outputs": [
    {
     "data": {
      "image/png": "[encoded data removed]",
      "text/plain": [
       "<Figure size 720x504 with 2 Axes>"
      ]
     },
     "metadata": {
      "needs_background": "light"
     },
     "output_type": "display_data"
    }
   ],
   "source": [
    "# Calculate metrics and confusion matrix based upon predictions and true labels\n",
    "cm = sklearn.metrics.confusion_matrix(labels_test.detach().numpy(), predictions_test.detach().numpy().argmax(-1))\n",
    "\n",
    "df_cm = pd.DataFrame(\n",
    "    cm,\n",
    "    index=[i for i in [\"positive\", \"negative\", \"neutral\"]],\n",
    "    columns=[i for i in [\"positive\", \"negative\", \"neutral\"]])\n",
    "\n",
    "plt.figure(figsize=(10, 7))\n",
    "\n",
    "ax = sn.heatmap(df_cm, annot=True)\n",
    "\n",
    "ax.set(xlabel='Predicted Label', ylabel='True Label')\n",
    "plt.show()"
   ]
  },
  {
   "cell_type": "code",
   "execution_count": null,
   "id": "uniform-atmosphere",
   "metadata": {
    "executionInfo": {
     "elapsed": 95047,
     "status": "ok",
     "timestamp": 1620419019482,
     "user": {
      "displayName": "Ronald Seoh",
      "photoUrl": "",
      "userId": "10284188050297676522"
     },
     "user_tz": 240
    },
    "id": "4Wo_Yk0LY37d",
    "papermill": {
     "duration": 0.033273,
     "end_time": "2021-05-09T03:33:40.128408",
     "exception": false,
     "start_time": "2021-05-09T03:33:40.095135",
     "status": "completed"
    },
    "tags": []
   },
   "outputs": [],
   "source": []
  }
 ],
 "metadata": {
  "accelerator": "GPU",
  "celltoolbar": "Tags",
  "colab": {
   "collapsed_sections": [],
   "name": "bert_zero_shot_prompt_logit_softmax_subtask4.ipynb",
   "provenance": [],
   "toc_visible": true
  },
  "kernelspec": {
   "display_name": "Python 3",
   "language": "python",
   "name": "python3"
  },
  "language_info": {
   "codemirror_mode": {
    "name": "ipython",
    "version": 3
   },
   "file_extension": ".py",
   "mimetype": "text/x-python",
   "name": "python",
   "nbconvert_exporter": "python",
   "pygments_lexer": "ipython3",
   "version": "3.7.9"
  },
  "papermill": {
   "default_parameters": {},
   "duration": 38.168269,
   "end_time": "2021-05-09T03:33:41.996796",
   "environment_variables": {},
   "exception": null,
   "input_path": "bert_prompt_logit_softmax_subtask4.ipynb",
   "output_path": "results_bert_1024_shot_prompt_logit_softmax_sum_logits_atsc_restaurants/bert_1024_shot_prompt_logit_softmax_sum_logits_atsc_restaurants_bert_yelp_restaurants_single_prompt_i_like_682.ipynb",
   "parameters": {
    "experiment_id": "bert_1024_shot_prompt_logit_softmax_sum_logits_atsc_restaurants_bert_yelp_restaurants_single_prompt_i_like_682",
    "lm_model_path": "../trained_models/lm_further_pretraining_bert_yelp_restaurants_bseoh_2021-03-22--15_03_31",
    "prompts_merge_behavior": "sum_logits",
    "prompts_perturb": false,
    "random_seed": 682,
    "sentiment_prompts": [
     {
      "labels": [
       "like",
       "dislike",
       "ignore"
      ],
      "prompt": "I [MASK] the {aspect}."
     }
    ],
    "testing_batch_size": 32,
    "testing_domain": "restaurants"
   },
   "start_time": "2021-05-09T03:33:03.828527",
   "version": "2.3.2"
  },
  "widgets": {
   "application/vnd.jupyter.widget-state+json": {
    "state": {
     "0564997108574fe294d8a9891e7c6f76": {
      "model_module": "@jupyter-widgets/base",
      "model_module_version": "1.2.0",
      "model_name": "LayoutModel",
      "state": {
       "_model_module": "@jupyter-widgets/base",
       "_model_module_version": "1.2.0",
       "_model_name": "LayoutModel",
       "_view_count": null,
       "_view_module": "@jupyter-widgets/base",
       "_view_module_version": "1.2.0",
       "_view_name": "LayoutView",
       "align_content": null,
       "align_items": null,
       "align_self": null,
       "border": null,
       "bottom": null,
       "display": null,
       "flex": null,
       "flex_flow": null,
       "grid_area": null,
       "grid_auto_columns": null,
       "grid_auto_flow": null,
       "grid_auto_rows": null,
       "grid_column": null,
       "grid_gap": null,
       "grid_row": null,
       "grid_template_areas": null,
       "grid_template_columns": null,
       "grid_template_rows": null,
       "height": null,
       "justify_content": null,
       "justify_items": null,
       "left": null,
       "margin": null,
       "max_height": null,
       "max_width": null,
       "min_height": null,
       "min_width": null,
       "object_fit": null,
       "object_position": null,
       "order": null,
       "overflow": null,
       "overflow_x": null,
       "overflow_y": null,
       "padding": null,
       "right": null,
       "top": null,
       "visibility": null,
       "width": null
      }
     },
     "12171b2d81744acdb20574d10df8c136": {
      "model_module": "@jupyter-widgets/controls",
      "model_module_version": "1.5.0",
      "model_name": "DescriptionStyleModel",
      "state": {
       "_model_module": "@jupyter-widgets/controls",
       "_model_module_version": "1.5.0",
       "_model_name": "DescriptionStyleModel",
       "_view_count": null,
       "_view_module": "@jupyter-widgets/base",
       "_view_module_version": "1.2.0",
       "_view_name": "StyleView",
       "description_width": ""
      }
     },
     "4a4c82d430f94a32a054afcdafd925a9": {
      "model_module": "@jupyter-widgets/controls",
      "model_module_version": "1.5.0",
      "model_name": "HTMLModel",
      "state": {
       "_dom_classes": [],
       "_model_module": "@jupyter-widgets/controls",
       "_model_module_version": "1.5.0",
       "_model_name": "HTMLModel",
       "_view_count": null,
       "_view_module": "@jupyter-widgets/controls",
       "_view_module_version": "1.5.0",
       "_view_name": "HTMLView",
       "description": "",
       "description_tooltip": null,
       "layout": "IPY_MODEL_cdaf85af709749d799de6e6e76caedc2",
       "placeholder": "​",
       "style": "IPY_MODEL_12171b2d81744acdb20574d10df8c136",
       "value": " 31/31 [00:12&lt;00:00,  2.98it/s]"
      }
     },
     "58f862021be6402295841bdd03370485": {
      "model_module": "@jupyter-widgets/controls",
      "model_module_version": "1.5.0",
      "model_name": "ProgressStyleModel",
      "state": {
       "_model_module": "@jupyter-widgets/controls",
       "_model_module_version": "1.5.0",
       "_model_name": "ProgressStyleModel",
       "_view_count": null,
       "_view_module": "@jupyter-widgets/base",
       "_view_module_version": "1.2.0",
       "_view_name": "StyleView",
       "bar_color": null,
       "description_width": ""
      }
     },
     "a346718a0ff2464db9bd36e387787979": {
      "model_module": "@jupyter-widgets/controls",
      "model_module_version": "1.5.0",
      "model_name": "HTMLModel",
      "state": {
       "_dom_classes": [],
       "_model_module": "@jupyter-widgets/controls",
       "_model_module_version": "1.5.0",
       "_model_name": "HTMLModel",
       "_view_count": null,
       "_view_module": "@jupyter-widgets/controls",
       "_view_module_version": "1.5.0",
       "_view_name": "HTMLView",
       "description": "",
       "description_tooltip": null,
       "layout": "IPY_MODEL_c59dca77cb62454bb938c41bd29e8d99",
       "placeholder": "​",
       "style": "IPY_MODEL_f1ee1bf681124fb19337881d6c10dc4b",
       "value": "100%"
      }
     },
     "a3bc1632ce5e482bb3badd48ea104b36": {
      "model_module": "@jupyter-widgets/controls",
      "model_module_version": "1.5.0",
      "model_name": "FloatProgressModel",
      "state": {
       "_dom_classes": [],
       "_model_module": "@jupyter-widgets/controls",
       "_model_module_version": "1.5.0",
       "_model_name": "FloatProgressModel",
       "_view_count": null,
       "_view_module": "@jupyter-widgets/controls",
       "_view_module_version": "1.5.0",
       "_view_name": "ProgressView",
       "bar_style": "success",
       "description": "",
       "description_tooltip": null,
       "layout": "IPY_MODEL_f323c90baeb644449fd1b05b8357c37e",
       "max": 31.0,
       "min": 0.0,
       "orientation": "horizontal",
       "style": "IPY_MODEL_58f862021be6402295841bdd03370485",
       "value": 31.0
      }
     },
     "c59dca77cb62454bb938c41bd29e8d99": {
      "model_module": "@jupyter-widgets/base",
      "model_module_version": "1.2.0",
      "model_name": "LayoutModel",
      "state": {
       "_model_module": "@jupyter-widgets/base",
       "_model_module_version": "1.2.0",
       "_model_name": "LayoutModel",
       "_view_count": null,
       "_view_module": "@jupyter-widgets/base",
       "_view_module_version": "1.2.0",
       "_view_name": "LayoutView",
       "align_content": null,
       "align_items": null,
       "align_self": null,
       "border": null,
       "bottom": null,
       "display": null,
       "flex": null,
       "flex_flow": null,
       "grid_area": null,
       "grid_auto_columns": null,
       "grid_auto_flow": null,
       "grid_auto_rows": null,
       "grid_column": null,
       "grid_gap": null,
       "grid_row": null,
       "grid_template_areas": null,
       "grid_template_columns": null,
       "grid_template_rows": null,
       "height": null,
       "justify_content": null,
       "justify_items": null,
       "left": null,
       "margin": null,
       "max_height": null,
       "max_width": null,
       "min_height": null,
       "min_width": null,
       "object_fit": null,
       "object_position": null,
       "order": null,
       "overflow": null,
       "overflow_x": null,
       "overflow_y": null,
       "padding": null,
       "right": null,
       "top": null,
       "visibility": null,
       "width": null
      }
     },
     "c615dadce96546da9772ab336fe3d119": {
      "model_module": "@jupyter-widgets/controls",
      "model_module_version": "1.5.0",
      "model_name": "HBoxModel",
      "state": {
       "_dom_classes": [],
       "_model_module": "@jupyter-widgets/controls",
       "_model_module_version": "1.5.0",
       "_model_name": "HBoxModel",
       "_view_count": null,
       "_view_module": "@jupyter-widgets/controls",
       "_view_module_version": "1.5.0",
       "_view_name": "HBoxView",
       "box_style": "",
       "children": [
        "IPY_MODEL_a346718a0ff2464db9bd36e387787979",
        "IPY_MODEL_a3bc1632ce5e482bb3badd48ea104b36",
        "IPY_MODEL_4a4c82d430f94a32a054afcdafd925a9"
       ],
       "layout": "IPY_MODEL_0564997108574fe294d8a9891e7c6f76"
      }
     },
     "cdaf85af709749d799de6e6e76caedc2": {
      "model_module": "@jupyter-widgets/base",
      "model_module_version": "1.2.0",
      "model_name": "LayoutModel",
      "state": {
       "_model_module": "@jupyter-widgets/base",
       "_model_module_version": "1.2.0",
       "_model_name": "LayoutModel",
       "_view_count": null,
       "_view_module": "@jupyter-widgets/base",
       "_view_module_version": "1.2.0",
       "_view_name": "LayoutView",
       "align_content": null,
       "align_items": null,
       "align_self": null,
       "border": null,
       "bottom": null,
       "display": null,
       "flex": null,
       "flex_flow": null,
       "grid_area": null,
       "grid_auto_columns": null,
       "grid_auto_flow": null,
       "grid_auto_rows": null,
       "grid_column": null,
       "grid_gap": null,
       "grid_row": null,
       "grid_template_areas": null,
       "grid_template_columns": null,
       "grid_template_rows": null,
       "height": null,
       "justify_content": null,
       "justify_items": null,
       "left": null,
       "margin": null,
       "max_height": null,
       "max_width": null,
       "min_height": null,
       "min_width": null,
       "object_fit": null,
       "object_position": null,
       "order": null,
       "overflow": null,
       "overflow_x": null,
       "overflow_y": null,
       "padding": null,
       "right": null,
       "top": null,
       "visibility": null,
       "width": null
      }
     },
     "f1ee1bf681124fb19337881d6c10dc4b": {
      "model_module": "@jupyter-widgets/controls",
      "model_module_version": "1.5.0",
      "model_name": "DescriptionStyleModel",
      "state": {
       "_model_module": "@jupyter-widgets/controls",
       "_model_module_version": "1.5.0",
       "_model_name": "DescriptionStyleModel",
       "_view_count": null,
       "_view_module": "@jupyter-widgets/base",
       "_view_module_version": "1.2.0",
       "_view_name": "StyleView",
       "description_width": ""
      }
     },
     "f323c90baeb644449fd1b05b8357c37e": {
      "model_module": "@jupyter-widgets/base",
      "model_module_version": "1.2.0",
      "model_name": "LayoutModel",
      "state": {
       "_model_module": "@jupyter-widgets/base",
       "_model_module_version": "1.2.0",
       "_model_name": "LayoutModel",
       "_view_count": null,
       "_view_module": "@jupyter-widgets/base",
       "_view_module_version": "1.2.0",
       "_view_name": "LayoutView",
       "align_content": null,
       "align_items": null,
       "align_self": null,
       "border": null,
       "bottom": null,
       "display": null,
       "flex": null,
       "flex_flow": null,
       "grid_area": null,
       "grid_auto_columns": null,
       "grid_auto_flow": null,
       "grid_auto_rows": null,
       "grid_column": null,
       "grid_gap": null,
       "grid_row": null,
       "grid_template_areas": null,
       "grid_template_columns": null,
       "grid_template_rows": null,
       "height": null,
       "justify_content": null,
       "justify_items": null,
       "left": null,
       "margin": null,
       "max_height": null,
       "max_width": null,
       "min_height": null,
       "min_width": null,
       "object_fit": null,
       "object_position": null,
       "order": null,
       "overflow": null,
       "overflow_x": null,
       "overflow_y": null,
       "padding": null,
       "right": null,
       "top": null,
       "visibility": null,
       "width": null
      }
     }
    },
    "version_major": 2,
    "version_minor": 0
   }
  }
 },
 "nbformat": 4,
 "nbformat_minor": 5
}