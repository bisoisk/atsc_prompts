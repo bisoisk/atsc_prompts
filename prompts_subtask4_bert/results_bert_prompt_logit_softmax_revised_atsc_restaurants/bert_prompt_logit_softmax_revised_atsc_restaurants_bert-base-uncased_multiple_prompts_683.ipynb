{
 "cells": [
  {
   "cell_type": "markdown",
   "id": "4dda458a",
   "metadata": {
    "id": "xf3lVTZYhbzA",
    "papermill": {
     "duration": 0.020627,
     "end_time": "2021-05-09T19:45:27.519554",
     "exception": false,
     "start_time": "2021-05-09T19:45:27.498927",
     "status": "completed"
    },
    "tags": []
   },
   "source": [
    "# Initial Setups"
   ]
  },
  {
   "cell_type": "markdown",
   "id": "22fa54a0",
   "metadata": {
    "id": "2ORFXeezn5Og",
    "papermill": {
     "duration": 0.026019,
     "end_time": "2021-05-09T19:45:27.566884",
     "exception": false,
     "start_time": "2021-05-09T19:45:27.540865",
     "status": "completed"
    },
    "tags": []
   },
   "source": [
    "## (Google Colab use only)"
   ]
  },
  {
   "cell_type": "code",
   "execution_count": 1,
   "id": "f413dc15",
   "metadata": {
    "colab": {
     "base_uri": "https://localhost:8080/"
    },
    "execution": {
     "iopub.execute_input": "2021-05-09T19:45:27.620362Z",
     "iopub.status.busy": "2021-05-09T19:45:27.619581Z",
     "iopub.status.idle": "2021-05-09T19:45:27.622536Z",
     "shell.execute_reply": "2021-05-09T19:45:27.621995Z"
    },
    "executionInfo": {
     "elapsed": 3570,
     "status": "ok",
     "timestamp": 1620418927808,
     "user": {
      "displayName": "Ronald Seoh",
      "photoUrl": "",
      "userId": "10284188050297676522"
     },
     "user_tz": 240
    },
    "id": "YFAQ6IgXn8FK",
    "outputId": "25f6ccd2-93f3-4714-9551-e47ee5916705",
    "papermill": {
     "duration": 0.028356,
     "end_time": "2021-05-09T19:45:27.622692",
     "exception": false,
     "start_time": "2021-05-09T19:45:27.594336",
     "status": "completed"
    },
    "tags": []
   },
   "outputs": [],
   "source": [
    "# Use Google Colab\n",
    "use_colab = False\n",
    "\n",
    "# Is this notebook running on Colab?\n",
    "# If so, then google.colab package (github.com/googlecolab/colabtools)\n",
    "# should be available in this environment\n",
    "\n",
    "# Previous version used importlib, but we could do the same thing with\n",
    "# just attempting to import google.colab\n",
    "try:\n",
    "    from google.colab import drive\n",
    "    colab_available = True\n",
    "except:\n",
    "    colab_available = False\n",
    "\n",
    "if use_colab and colab_available:\n",
    "    drive.mount('/content/drive')\n",
    "\n",
    "    # cd to the appropriate working directory under my Google Drive\n",
    "    %cd '/content/drive/My Drive/cs696ds_lexalytics/Ronald Gypsum Prompts'\n",
    "    \n",
    "    # Install packages specified in requirements\n",
    "    !pip install -r requirements.txt\n",
    "\n",
    "    %cd 'prompts_subtask4'\n",
    "    \n",
    "    # List the directory contents\n",
    "    !ls"
   ]
  },
  {
   "cell_type": "markdown",
   "id": "c9add974",
   "metadata": {
    "id": "tgzsHF7Zhbzo",
    "papermill": {
     "duration": 0.022652,
     "end_time": "2021-05-09T19:45:27.666673",
     "exception": false,
     "start_time": "2021-05-09T19:45:27.644021",
     "status": "completed"
    },
    "tags": []
   },
   "source": [
    "## Experiment parameters"
   ]
  },
  {
   "cell_type": "code",
   "execution_count": 2,
   "id": "b36759ac",
   "metadata": {
    "execution": {
     "iopub.execute_input": "2021-05-09T19:45:27.720909Z",
     "iopub.status.busy": "2021-05-09T19:45:27.720065Z",
     "iopub.status.idle": "2021-05-09T19:45:27.722954Z",
     "shell.execute_reply": "2021-05-09T19:45:27.722464Z"
    },
    "executionInfo": {
     "elapsed": 3559,
     "status": "ok",
     "timestamp": 1620418927816,
     "user": {
      "displayName": "Ronald Seoh",
      "photoUrl": "",
      "userId": "10284188050297676522"
     },
     "user_tz": 240
    },
    "id": "DUpGBmOJhbzs",
    "papermill": {
     "duration": 0.031583,
     "end_time": "2021-05-09T19:45:27.723097",
     "exception": false,
     "start_time": "2021-05-09T19:45:27.691514",
     "status": "completed"
    },
    "tags": [
     "parameters"
    ]
   },
   "outputs": [],
   "source": [
    "# We will use the following string ID to identify this particular (training) experiments\n",
    "# in directory paths and other settings\n",
    "experiment_id = 'bert_16_shot_prompt_logit_softmax_atsc_restaurants_bert_yelp_restaurants_multiple_prompts_589'\n",
    "\n",
    "# Random seed\n",
    "random_seed = 589\n",
    "\n",
    "# path to pretrained MLM model folder or the string \"bert-base-uncased\"\n",
    "lm_model_path = 'bert-base-uncased'\n",
    "\n",
    "# Prompts to be added to the end of each review text\n",
    "# Note: pseudo-labels for each prompt should be given in the order of (positive), (negative), (neutral)\n",
    "sentiment_prompts = [\n",
    "    {\"prompt\": \"I felt the {aspect} was [MASK].\", \"labels\": [\"good\", \"bad\", \"ok\"]},\n",
    "    {\"prompt\": \"I [MASK] the {aspect}.\", \"labels\": [\"love\", \"hate\", \"dislike\"]},\n",
    "    {\"prompt\": \"The {aspect} made me feel [MASK].\", \"labels\": [\"good\", \"bad\", \"indifferent\"]},\n",
    "    {\"prompt\": \"The {aspect} is [MASK].\", \"labels\": [\"good\", \"bad\", \"ok\"]}\n",
    "]\n",
    "\n",
    "# Multiple prompt merging behavior\n",
    "prompts_merge_behavior = 'sum_logits'\n",
    "\n",
    "# Perturb the input embeddings of tokens within the prompts\n",
    "prompts_perturb = False\n",
    "\n",
    "# Test settings\n",
    "testing_batch_size = 32\n",
    "testing_domain = 'restaurants' # 'laptops', 'restaurants', 'joint'"
   ]
  },
  {
   "cell_type": "code",
   "execution_count": 3,
   "id": "fee60a49",
   "metadata": {
    "execution": {
     "iopub.execute_input": "2021-05-09T19:45:27.798670Z",
     "iopub.status.busy": "2021-05-09T19:45:27.797817Z",
     "iopub.status.idle": "2021-05-09T19:45:27.800516Z",
     "shell.execute_reply": "2021-05-09T19:45:27.800067Z"
    },
    "papermill": {
     "duration": 0.036094,
     "end_time": "2021-05-09T19:45:27.800655",
     "exception": false,
     "start_time": "2021-05-09T19:45:27.764561",
     "status": "completed"
    },
    "tags": [
     "injected-parameters"
    ]
   },
   "outputs": [],
   "source": [
    "# Parameters\n",
    "experiment_id = \"bert_prompt_logit_softmax_revised_atsc_restaurants_bert-base-uncased_multiple_prompts_683\"\n",
    "random_seed = 683\n",
    "lm_model_path = \"bert-base-uncased\"\n",
    "sentiment_prompts = [\n",
    "    {\"prompt\": \"I felt the {aspect} was [MASK].\", \"labels\": [\"good\", \"bad\", \"ok\"]},\n",
    "    {\"prompt\": \"I [MASK] the {aspect}.\", \"labels\": [\"like\", \"dislike\", \"ignore\"]},\n",
    "    {\n",
    "        \"prompt\": \"The {aspect} made me feel [MASK].\",\n",
    "        \"labels\": [\"good\", \"bad\", \"indifferent\"],\n",
    "    },\n",
    "    {\"prompt\": \"The {aspect} is [MASK].\", \"labels\": [\"good\", \"bad\", \"ok\"]},\n",
    "]\n",
    "testing_batch_size = 32\n",
    "testing_domain = \"restaurants\"\n",
    "prompts_merge_behavior = \"sum_logits\"\n",
    "prompts_perturb = False\n"
   ]
  },
  {
   "cell_type": "code",
   "execution_count": 4,
   "id": "a09673d6",
   "metadata": {
    "execution": {
     "iopub.execute_input": "2021-05-09T19:45:27.847549Z",
     "iopub.status.busy": "2021-05-09T19:45:27.846913Z",
     "iopub.status.idle": "2021-05-09T19:45:27.849664Z",
     "shell.execute_reply": "2021-05-09T19:45:27.849137Z"
    },
    "executionInfo": {
     "elapsed": 3552,
     "status": "ok",
     "timestamp": 1620418927819,
     "user": {
      "displayName": "Ronald Seoh",
      "photoUrl": "",
      "userId": "10284188050297676522"
     },
     "user_tz": 240
    },
    "id": "AtJhBPXMY36f",
    "papermill": {
     "duration": 0.026166,
     "end_time": "2021-05-09T19:45:27.849806",
     "exception": false,
     "start_time": "2021-05-09T19:45:27.823640",
     "status": "completed"
    },
    "tags": []
   },
   "outputs": [],
   "source": [
    "# Batch size adjustment for multiple prompts.\n",
    "testing_batch_size = testing_batch_size // len(sentiment_prompts)"
   ]
  },
  {
   "cell_type": "code",
   "execution_count": 5,
   "id": "fdeb0476",
   "metadata": {
    "colab": {
     "base_uri": "https://localhost:8080/"
    },
    "execution": {
     "iopub.execute_input": "2021-05-09T19:45:27.900129Z",
     "iopub.status.busy": "2021-05-09T19:45:27.899303Z",
     "iopub.status.idle": "2021-05-09T19:45:27.902693Z",
     "shell.execute_reply": "2021-05-09T19:45:27.902313Z"
    },
    "executionInfo": {
     "elapsed": 3546,
     "status": "ok",
     "timestamp": 1620418927824,
     "user": {
      "displayName": "Ronald Seoh",
      "photoUrl": "",
      "userId": "10284188050297676522"
     },
     "user_tz": 240
    },
    "id": "keCSh__SY36i",
    "outputId": "7d83760a-ac16-481c-c9e4-6633f493b37d",
    "papermill": {
     "duration": 0.031606,
     "end_time": "2021-05-09T19:45:27.902831",
     "exception": false,
     "start_time": "2021-05-09T19:45:27.871225",
     "status": "completed"
    },
    "tags": []
   },
   "outputs": [
    {
     "name": "stdout",
     "output_type": "stream",
     "text": [
      "Experiment ID: bert_prompt_logit_softmax_revised_atsc_restaurants_bert-base-uncased_multiple_prompts_683\n"
     ]
    }
   ],
   "source": [
    "print(\"Experiment ID:\", experiment_id)"
   ]
  },
  {
   "cell_type": "markdown",
   "id": "68ed18c1",
   "metadata": {
    "id": "GYZesqTioMvF",
    "papermill": {
     "duration": 0.018988,
     "end_time": "2021-05-09T19:45:27.941582",
     "exception": false,
     "start_time": "2021-05-09T19:45:27.922594",
     "status": "completed"
    },
    "tags": []
   },
   "source": [
    "## Package imports"
   ]
  },
  {
   "cell_type": "code",
   "execution_count": 6,
   "id": "70dd86a2",
   "metadata": {
    "colab": {
     "base_uri": "https://localhost:8080/"
    },
    "execution": {
     "iopub.execute_input": "2021-05-09T19:45:27.993215Z",
     "iopub.status.busy": "2021-05-09T19:45:27.992339Z",
     "iopub.status.idle": "2021-05-09T19:45:29.207079Z",
     "shell.execute_reply": "2021-05-09T19:45:29.206495Z"
    },
    "executionInfo": {
     "elapsed": 5595,
     "status": "ok",
     "timestamp": 1620418929888,
     "user": {
      "displayName": "Ronald Seoh",
      "photoUrl": "",
      "userId": "10284188050297676522"
     },
     "user_tz": 240
    },
    "id": "MlK_-DrWhbzb",
    "outputId": "5854fa11-ce1f-49a2-a493-6d6b1fb92423",
    "papermill": {
     "duration": 1.244758,
     "end_time": "2021-05-09T19:45:29.207238",
     "exception": false,
     "start_time": "2021-05-09T19:45:27.962480",
     "status": "completed"
    },
    "tags": []
   },
   "outputs": [
    {
     "name": "stdout",
     "output_type": "stream",
     "text": [
      "Python version: 3.7.10 (default, May  3 2021, 02:48:31) \n",
      "[GCC 7.5.0]\n",
      "NumPy version: 1.19.5\n",
      "PyTorch version: 1.7.1\n",
      "Transformers version: 4.3.3\n"
     ]
    }
   ],
   "source": [
    "import sys\n",
    "import os\n",
    "import random\n",
    "import shutil\n",
    "import copy\n",
    "import inspect\n",
    "import json\n",
    "\n",
    "import numpy as np\n",
    "import torch\n",
    "import transformers\n",
    "import datasets\n",
    "import sklearn.metrics\n",
    "import pandas as pd\n",
    "import matplotlib.pyplot as plt\n",
    "import seaborn as sn\n",
    "import tqdm\n",
    "\n",
    "current_dir = os.path.dirname(os.path.abspath(inspect.getfile(inspect.currentframe())))\n",
    "parent_dir = os.path.dirname(current_dir)\n",
    "sys.path.append(parent_dir)\n",
    "\n",
    "import utils\n",
    "\n",
    "# Random seed settings\n",
    "random.seed(random_seed)\n",
    "np.random.seed(random_seed)\n",
    "\n",
    "# cuBLAS reproducibility\n",
    "# https://docs.nvidia.com/cuda/cublas/index.html#cublasApi_reproducibility\n",
    "os.environ['CUBLAS_WORKSPACE_CONFIG'] = \":4096:8\"\n",
    "torch.set_deterministic(True)\n",
    "torch.manual_seed(random_seed)\n",
    "\n",
    "# Print version information\n",
    "print(\"Python version: \" + sys.version)\n",
    "print(\"NumPy version: \" + np.__version__)\n",
    "print(\"PyTorch version: \" + torch.__version__)\n",
    "print(\"Transformers version: \" + transformers.__version__)"
   ]
  },
  {
   "cell_type": "markdown",
   "id": "6ba29c24",
   "metadata": {
    "id": "UWuR30eUoTWP",
    "papermill": {
     "duration": 0.023845,
     "end_time": "2021-05-09T19:45:29.254460",
     "exception": false,
     "start_time": "2021-05-09T19:45:29.230615",
     "status": "completed"
    },
    "tags": []
   },
   "source": [
    "## PyTorch GPU settings"
   ]
  },
  {
   "cell_type": "code",
   "execution_count": 7,
   "id": "25d90678",
   "metadata": {
    "colab": {
     "base_uri": "https://localhost:8080/"
    },
    "execution": {
     "iopub.execute_input": "2021-05-09T19:45:29.337270Z",
     "iopub.status.busy": "2021-05-09T19:45:29.336119Z",
     "iopub.status.idle": "2021-05-09T19:45:29.341713Z",
     "shell.execute_reply": "2021-05-09T19:45:29.341229Z"
    },
    "executionInfo": {
     "elapsed": 5585,
     "status": "ok",
     "timestamp": 1620418929892,
     "user": {
      "displayName": "Ronald Seoh",
      "photoUrl": "",
      "userId": "10284188050297676522"
     },
     "user_tz": 240
    },
    "id": "PfNlm-ykoSlM",
    "outputId": "9b7cc30c-e6ae-404d-ce4f-b2afbdbec29d",
    "papermill": {
     "duration": 0.065191,
     "end_time": "2021-05-09T19:45:29.341877",
     "exception": false,
     "start_time": "2021-05-09T19:45:29.276686",
     "status": "completed"
    },
    "tags": []
   },
   "outputs": [
    {
     "name": "stdout",
     "output_type": "stream",
     "text": [
      "CUDA Version: 10.2\n",
      "cuDNN Version: 7605\n",
      "CUDA Device Name: Tesla T4\n",
      "CUDA Capabilities: (7, 5)\n",
      "Number of CUDA devices: 1\n",
      "\n",
      "PyTorch device selected: cuda\n"
     ]
    }
   ],
   "source": [
    "if torch.cuda.is_available():    \n",
    "    torch_device = torch.device('cuda')\n",
    "\n",
    "    # Set this to True to make your output immediately reproducible\n",
    "    # Note: https://pytorch.org/docs/stable/notes/randomness.html\n",
    "    torch.backends.cudnn.deterministic = True\n",
    "    \n",
    "    # Disable 'benchmark' mode: Set this False if you want to measure running times more fairly\n",
    "    # Note: https://discuss.pytorch.org/t/what-does-torch-backends-cudnn-benchmark-do/5936\n",
    "    torch.backends.cudnn.benchmark = False\n",
    "    \n",
    "    # Faster Host to GPU copies with page-locked memory\n",
    "    use_pin_memory = True\n",
    "    \n",
    "    # Number of compute devices to be used for training\n",
    "    training_device_count = torch.cuda.device_count()\n",
    "\n",
    "    # CUDA libraries version information\n",
    "    print(\"CUDA Version: \" + str(torch.version.cuda))\n",
    "    print(\"cuDNN Version: \" + str(torch.backends.cudnn.version()))\n",
    "    print(\"CUDA Device Name: \" + str(torch.cuda.get_device_name()))\n",
    "    print(\"CUDA Capabilities: \"+ str(torch.cuda.get_device_capability()))\n",
    "    print(\"Number of CUDA devices: \"+ str(training_device_count))\n",
    "    \n",
    "else:\n",
    "    torch_device = torch.device('cpu')\n",
    "    use_pin_memory = False\n",
    "    \n",
    "    # Number of compute devices to be used for training\n",
    "    training_device_count = 1\n",
    "\n",
    "print()\n",
    "print(\"PyTorch device selected:\", torch_device)"
   ]
  },
  {
   "cell_type": "markdown",
   "id": "1aefce9a",
   "metadata": {
    "id": "ayX5VRLfocFk",
    "papermill": {
     "duration": 0.031119,
     "end_time": "2021-05-09T19:45:29.401244",
     "exception": false,
     "start_time": "2021-05-09T19:45:29.370125",
     "status": "completed"
    },
    "tags": []
   },
   "source": [
    "# Prepare Datasets for Prompt-based Classifier"
   ]
  },
  {
   "cell_type": "markdown",
   "id": "14e75963",
   "metadata": {
    "id": "U9LAAJP-hbz7",
    "papermill": {
     "duration": 0.020855,
     "end_time": "2021-05-09T19:45:29.445895",
     "exception": false,
     "start_time": "2021-05-09T19:45:29.425040",
     "status": "completed"
    },
    "tags": []
   },
   "source": [
    "## Load the SemEval dataset"
   ]
  },
  {
   "cell_type": "code",
   "execution_count": 8,
   "id": "e3904152",
   "metadata": {
    "colab": {
     "base_uri": "https://localhost:8080/"
    },
    "execution": {
     "iopub.execute_input": "2021-05-09T19:45:29.602204Z",
     "iopub.status.busy": "2021-05-09T19:45:29.601386Z",
     "iopub.status.idle": "2021-05-09T19:45:29.644818Z",
     "shell.execute_reply": "2021-05-09T19:45:29.644350Z"
    },
    "executionInfo": {
     "elapsed": 5575,
     "status": "ok",
     "timestamp": 1620418929895,
     "user": {
      "displayName": "Ronald Seoh",
      "photoUrl": "",
      "userId": "10284188050297676522"
     },
     "user_tz": 240
    },
    "id": "gpL2uHPUhbz9",
    "outputId": "41504d48-f3c5-4361-a055-e24d3046f9c8",
    "papermill": {
     "duration": 0.075619,
     "end_time": "2021-05-09T19:45:29.644991",
     "exception": false,
     "start_time": "2021-05-09T19:45:29.569372",
     "status": "completed"
    },
    "tags": []
   },
   "outputs": [
    {
     "name": "stderr",
     "output_type": "stream",
     "text": [
      "Reusing dataset sem_eval2014_task4_dataset (../dataset_cache/sem_eval2014_task4_dataset/SemEval2014Task4Dataset - Subtask 4/0.0.1/537edd3b5fdbdb1f3190419cf0a53a4fab3537bc666f17c8c75fa8d0b554e529)\n"
     ]
    }
   ],
   "source": [
    "# Load semeval for both domains\n",
    "restaurants_dataset = datasets.load_dataset(\n",
    "    os.path.abspath('../dataset_scripts/semeval2014_task4/semeval2014_task4.py'),\n",
    "    name=\"SemEval2014Task4Dataset - Subtask 4\",\n",
    "    data_files={\n",
    "        'test': '../dataset_files/semeval_2014/Restaurants_Test_Gold.xml',\n",
    "        'train': '../dataset_files/semeval_2014/Restaurants_Train_v2.xml',\n",
    "    },\n",
    "    cache_dir='../dataset_cache')"
   ]
  },
  {
   "cell_type": "code",
   "execution_count": 9,
   "id": "d160df56",
   "metadata": {
    "execution": {
     "iopub.execute_input": "2021-05-09T19:45:29.693204Z",
     "iopub.status.busy": "2021-05-09T19:45:29.692462Z",
     "iopub.status.idle": "2021-05-09T19:45:29.695954Z",
     "shell.execute_reply": "2021-05-09T19:45:29.695519Z"
    },
    "executionInfo": {
     "elapsed": 5565,
     "status": "ok",
     "timestamp": 1620418929898,
     "user": {
      "displayName": "Ronald Seoh",
      "photoUrl": "",
      "userId": "10284188050297676522"
     },
     "user_tz": 240
    },
    "id": "Gi5m8AbPj1iJ",
    "papermill": {
     "duration": 0.0306,
     "end_time": "2021-05-09T19:45:29.696080",
     "exception": false,
     "start_time": "2021-05-09T19:45:29.665480",
     "status": "completed"
    },
    "tags": []
   },
   "outputs": [],
   "source": [
    "# The dataset chosen for testing\n",
    "if testing_domain == 'restaurants':\n",
    "    test_set = restaurants_dataset['test']"
   ]
  },
  {
   "cell_type": "code",
   "execution_count": 10,
   "id": "319da39b",
   "metadata": {
    "colab": {
     "base_uri": "https://localhost:8080/"
    },
    "execution": {
     "iopub.execute_input": "2021-05-09T19:45:29.749811Z",
     "iopub.status.busy": "2021-05-09T19:45:29.748952Z",
     "iopub.status.idle": "2021-05-09T19:45:29.751601Z",
     "shell.execute_reply": "2021-05-09T19:45:29.751196Z"
    },
    "executionInfo": {
     "elapsed": 5557,
     "status": "ok",
     "timestamp": 1620418929901,
     "user": {
      "displayName": "Ronald Seoh",
      "photoUrl": "",
      "userId": "10284188050297676522"
     },
     "user_tz": 240
    },
    "id": "Est9ao9rcH4l",
    "outputId": "8487f46b-593a-43f6-b98c-eb559af8d169",
    "papermill": {
     "duration": 0.0334,
     "end_time": "2021-05-09T19:45:29.751760",
     "exception": false,
     "start_time": "2021-05-09T19:45:29.718360",
     "status": "completed"
    },
    "tags": []
   },
   "outputs": [
    {
     "name": "stdout",
     "output_type": "stream",
     "text": [
      "973\n"
     ]
    }
   ],
   "source": [
    "print(len(test_set))"
   ]
  },
  {
   "cell_type": "code",
   "execution_count": 11,
   "id": "ffac8243",
   "metadata": {
    "colab": {
     "base_uri": "https://localhost:8080/"
    },
    "execution": {
     "iopub.execute_input": "2021-05-09T19:45:29.801161Z",
     "iopub.status.busy": "2021-05-09T19:45:29.799689Z",
     "iopub.status.idle": "2021-05-09T19:45:29.802787Z",
     "shell.execute_reply": "2021-05-09T19:45:29.802363Z"
    },
    "executionInfo": {
     "elapsed": 5547,
     "status": "ok",
     "timestamp": 1620418929903,
     "user": {
      "displayName": "Ronald Seoh",
      "photoUrl": "",
      "userId": "10284188050297676522"
     },
     "user_tz": 240
    },
    "id": "_npZeCIqcKjT",
    "outputId": "8951acb2-32ca-4e07-e1cf-011aa6831a69",
    "papermill": {
     "duration": 0.028909,
     "end_time": "2021-05-09T19:45:29.802924",
     "exception": false,
     "start_time": "2021-05-09T19:45:29.774015",
     "status": "completed"
    },
    "tags": []
   },
   "outputs": [
    {
     "name": "stdout",
     "output_type": "stream",
     "text": [
      "{'aspect': 'ambience', 'sentiment': 0, 'text': 'Certainly not the best sushi in New York, however, it is always fresh, and the place is very clean, sterile.'}\n"
     ]
    }
   ],
   "source": [
    "print(test_set[4])"
   ]
  },
  {
   "cell_type": "markdown",
   "id": "81dfb09f",
   "metadata": {
    "id": "6TOMmAtIvoZ_",
    "papermill": {
     "duration": 0.046155,
     "end_time": "2021-05-09T19:45:29.876524",
     "exception": false,
     "start_time": "2021-05-09T19:45:29.830369",
     "status": "completed"
    },
    "tags": []
   },
   "source": [
    "# Zero-shot ATSC with Prompts"
   ]
  },
  {
   "cell_type": "markdown",
   "id": "ff1ac4fd",
   "metadata": {
    "id": "3jNAtuv-hbzv",
    "papermill": {
     "duration": 0.020774,
     "end_time": "2021-05-09T19:45:29.920344",
     "exception": false,
     "start_time": "2021-05-09T19:45:29.899570",
     "status": "completed"
    },
    "tags": []
   },
   "source": [
    "## Initialize BERT MLM"
   ]
  },
  {
   "cell_type": "code",
   "execution_count": 12,
   "id": "63dd0e34",
   "metadata": {
    "execution": {
     "iopub.execute_input": "2021-05-09T19:45:29.976253Z",
     "iopub.status.busy": "2021-05-09T19:45:29.975475Z",
     "iopub.status.idle": "2021-05-09T19:45:33.771650Z",
     "shell.execute_reply": "2021-05-09T19:45:33.771133Z"
    },
    "executionInfo": {
     "elapsed": 9973,
     "status": "ok",
     "timestamp": 1620418934341,
     "user": {
      "displayName": "Ronald Seoh",
      "photoUrl": "",
      "userId": "10284188050297676522"
     },
     "user_tz": 240
    },
    "id": "En2BmfjVhbzy",
    "papermill": {
     "duration": 3.828354,
     "end_time": "2021-05-09T19:45:33.771812",
     "exception": false,
     "start_time": "2021-05-09T19:45:29.943458",
     "status": "completed"
    },
    "tags": []
   },
   "outputs": [],
   "source": [
    "# Load pretrained language model\n",
    "# Use the config, but not the actual weights, from the pretrained model\n",
    "lm_config = transformers.AutoConfig.from_pretrained('bert-base-uncased', cache_dir='../bert_base_cache')\n",
    "lm = transformers.AutoModelForMaskedLM.from_config(lm_config)\n",
    "tokenizer = transformers.AutoTokenizer.from_pretrained('bert-base-uncased', cache_dir='../bert_base_cache')"
   ]
  },
  {
   "cell_type": "markdown",
   "id": "0fd59db5",
   "metadata": {
    "id": "TEIbN5Xthb0o",
    "papermill": {
     "duration": 0.155454,
     "end_time": "2021-05-09T19:45:33.949617",
     "exception": false,
     "start_time": "2021-05-09T19:45:33.794163",
     "status": "completed"
    },
    "tags": []
   },
   "source": [
    "## Define a new model with non-trainable softmax head"
   ]
  },
  {
   "cell_type": "code",
   "execution_count": 13,
   "id": "daca1941",
   "metadata": {
    "colab": {
     "base_uri": "https://localhost:8080/"
    },
    "execution": {
     "iopub.execute_input": "2021-05-09T19:45:34.009564Z",
     "iopub.status.busy": "2021-05-09T19:45:34.009037Z",
     "iopub.status.idle": "2021-05-09T19:45:37.019431Z",
     "shell.execute_reply": "2021-05-09T19:45:37.018560Z"
    },
    "executionInfo": {
     "elapsed": 12519,
     "status": "ok",
     "timestamp": 1620418936896,
     "user": {
      "displayName": "Ronald Seoh",
      "photoUrl": "",
      "userId": "10284188050297676522"
     },
     "user_tz": 240
    },
    "id": "wN3q4Rsopxby",
    "outputId": "f9336495-e129-4ca0-d311-6bc3c2f38c20",
    "papermill": {
     "duration": 3.044002,
     "end_time": "2021-05-09T19:45:37.019593",
     "exception": false,
     "start_time": "2021-05-09T19:45:33.975591",
     "status": "completed"
    },
    "tags": []
   },
   "outputs": [
    {
     "name": "stdout",
     "output_type": "stream",
     "text": [
      "[[2204, 2919, 7929], [2066, 18959, 8568], [2204, 2919, 24436], [2204, 2919, 7929]]\n",
      "Detected LM type: bert\n"
     ]
    }
   ],
   "source": [
    "# Encode the pseudo-label words for each sentiment class\n",
    "sentiment_word_ids = []\n",
    "\n",
    "for sp in sentiment_prompts:\n",
    "    sentiment_word_ids.append(\n",
    "        [tokenizer.convert_tokens_to_ids(w) for w in sp['labels']])\n",
    "\n",
    "print(sentiment_word_ids)\n",
    "\n",
    "classifier_model = utils.MultiPromptLogitSentimentClassificationHead(\n",
    "    lm=lm,\n",
    "    num_class=3,\n",
    "    num_prompts=len(sentiment_prompts), pseudo_label_words=sentiment_word_ids,\n",
    "    target_token_id=tokenizer.mask_token_id,\n",
    "    merge_behavior=prompts_merge_behavior,\n",
    "    perturb_prompts=prompts_perturb)\n",
    "\n",
    "classifier_model = classifier_model.to(device=torch_device)"
   ]
  },
  {
   "cell_type": "markdown",
   "id": "5ea511d3",
   "metadata": {
    "id": "1U6B5GNSYBYk",
    "papermill": {
     "duration": 0.021452,
     "end_time": "2021-05-09T19:45:37.064020",
     "exception": false,
     "start_time": "2021-05-09T19:45:37.042568",
     "status": "completed"
    },
    "tags": []
   },
   "source": [
    "## Load our saved weights"
   ]
  },
  {
   "cell_type": "code",
   "execution_count": 14,
   "id": "5dcfa641",
   "metadata": {
    "colab": {
     "base_uri": "https://localhost:8080/"
    },
    "execution": {
     "iopub.execute_input": "2021-05-09T19:45:37.114171Z",
     "iopub.status.busy": "2021-05-09T19:45:37.113369Z",
     "iopub.status.idle": "2021-05-09T19:45:45.702878Z",
     "shell.execute_reply": "2021-05-09T19:45:45.702391Z"
    },
    "executionInfo": {
     "elapsed": 14206,
     "status": "ok",
     "timestamp": 1620418938595,
     "user": {
      "displayName": "Ronald Seoh",
      "photoUrl": "",
      "userId": "10284188050297676522"
     },
     "user_tz": 240
    },
    "id": "gLo25nUcYBGx",
    "outputId": "f5fef2db-f954-4d65-b4c9-c8e93a269b5d",
    "papermill": {
     "duration": 8.615946,
     "end_time": "2021-05-09T19:45:45.703038",
     "exception": false,
     "start_time": "2021-05-09T19:45:37.087092",
     "status": "completed"
    },
    "tags": []
   },
   "outputs": [
    {
     "name": "stdout",
     "output_type": "stream",
     "text": [
      "Loading epoch_8.pt\n"
     ]
    },
    {
     "data": {
      "text/plain": [
       "<All keys matched successfully>"
      ]
     },
     "execution_count": 14,
     "metadata": {},
     "output_type": "execute_result"
    }
   ],
   "source": [
    "# Locate the weight file.\n",
    "trained_model_directory = os.path.join('..', 'trained_models_prompts', experiment_id)\n",
    "\n",
    "saved_weights_name = ''\n",
    "\n",
    "for fname in os.listdir(trained_model_directory):\n",
    "    if fname.startswith('epoch'):\n",
    "        saved_weights_name = fname\n",
    "        break\n",
    "\n",
    "print(\"Loading\", saved_weights_name)\n",
    "\n",
    "classifier_model.load_state_dict(torch.load(\n",
    "    os.path.join(trained_model_directory, saved_weights_name),\n",
    "    map_location=torch_device))"
   ]
  },
  {
   "cell_type": "markdown",
   "id": "7c13d845",
   "metadata": {
    "id": "1l1H_XIPhb0y",
    "papermill": {
     "duration": 0.024646,
     "end_time": "2021-05-09T19:45:45.753362",
     "exception": false,
     "start_time": "2021-05-09T19:45:45.728716",
     "status": "completed"
    },
    "tags": []
   },
   "source": [
    "## Evaluation with in-domain test set\n",
    "\n"
   ]
  },
  {
   "cell_type": "code",
   "execution_count": 15,
   "id": "2ae55ffb",
   "metadata": {
    "execution": {
     "iopub.execute_input": "2021-05-09T19:45:45.822782Z",
     "iopub.status.busy": "2021-05-09T19:45:45.821685Z",
     "iopub.status.idle": "2021-05-09T19:45:45.825502Z",
     "shell.execute_reply": "2021-05-09T19:45:45.824646Z"
    },
    "executionInfo": {
     "elapsed": 14198,
     "status": "ok",
     "timestamp": 1620418938597,
     "user": {
      "displayName": "Ronald Seoh",
      "photoUrl": "",
      "userId": "10284188050297676522"
     },
     "user_tz": 240
    },
    "id": "0S80DoYrqApi",
    "papermill": {
     "duration": 0.045771,
     "end_time": "2021-05-09T19:45:45.825817",
     "exception": false,
     "start_time": "2021-05-09T19:45:45.780046",
     "status": "completed"
    },
    "tags": []
   },
   "outputs": [],
   "source": [
    "def compute_metrics(predictions, labels):\n",
    "    preds = predictions.argmax(-1)\n",
    "\n",
    "    precision, recall, f1, _ = sklearn.metrics.precision_recall_fscore_support(\n",
    "        y_true=labels, y_pred=preds, labels=[0,1,2], average='macro')\n",
    "\n",
    "    acc = sklearn.metrics.accuracy_score(labels, preds)\n",
    "\n",
    "    return {\n",
    "        'accuracy': acc,\n",
    "        'f1': f1,\n",
    "        'precision': precision,\n",
    "        'recall': recall\n",
    "    }"
   ]
  },
  {
   "cell_type": "code",
   "execution_count": 16,
   "id": "9db7ce2b",
   "metadata": {
    "execution": {
     "iopub.execute_input": "2021-05-09T19:45:45.901045Z",
     "iopub.status.busy": "2021-05-09T19:45:45.899416Z",
     "iopub.status.idle": "2021-05-09T19:45:45.901905Z",
     "shell.execute_reply": "2021-05-09T19:45:45.900231Z"
    },
    "executionInfo": {
     "elapsed": 14193,
     "status": "ok",
     "timestamp": 1620418938599,
     "user": {
      "displayName": "Ronald Seoh",
      "photoUrl": "",
      "userId": "10284188050297676522"
     },
     "user_tz": 240
    },
    "id": "9NXoBTs5h2eO",
    "papermill": {
     "duration": 0.045419,
     "end_time": "2021-05-09T19:45:45.902097",
     "exception": false,
     "start_time": "2021-05-09T19:45:45.856678",
     "status": "completed"
    },
    "tags": []
   },
   "outputs": [],
   "source": [
    "test_dataloader = torch.utils.data.DataLoader(\n",
    "    test_set, batch_size=testing_batch_size, pin_memory=use_pin_memory)"
   ]
  },
  {
   "cell_type": "code",
   "execution_count": 17,
   "id": "cc7cf4e4",
   "metadata": {
    "colab": {
     "base_uri": "https://localhost:8080/",
     "height": 104,
     "referenced_widgets": [
      "8bc7129ea76340a494cc7916b037c052",
      "5704871af06f4221b051f07f65c7e74a",
      "1ee6f145ba0e4da09d2d31bf1967da8d",
      "ce70f9442d0240118f9f76c3a485e383",
      "65ff039fa4f94365bd0d070c5f22be61",
      "5f1b30eb632447ccad493dc94bb2e168",
      "ac65a5f115be49628880b6582b47d873",
      "31348e5edcad45d4a8559cdd6b677ee2"
     ]
    },
    "execution": {
     "iopub.execute_input": "2021-05-09T19:45:45.975278Z",
     "iopub.status.busy": "2021-05-09T19:45:45.957283Z",
     "iopub.status.idle": "2021-05-09T19:47:05.408816Z",
     "shell.execute_reply": "2021-05-09T19:47:05.408360Z"
    },
    "executionInfo": {
     "elapsed": 95055,
     "status": "ok",
     "timestamp": 1620419019471,
     "user": {
      "displayName": "Ronald Seoh",
      "photoUrl": "",
      "userId": "10284188050297676522"
     },
     "user_tz": 240
    },
    "id": "LLcc_wZjhb0y",
    "outputId": "16de918b-7858-4cf6-d7b5-5194affd2151",
    "papermill": {
     "duration": 79.477615,
     "end_time": "2021-05-09T19:47:05.408974",
     "exception": false,
     "start_time": "2021-05-09T19:45:45.931359",
     "status": "completed"
    },
    "tags": []
   },
   "outputs": [
    {
     "data": {
      "application/vnd.jupyter.widget-view+json": {
       "model_id": "ae18af4270d240c6ad410b99a85601c5",
       "version_major": 2,
       "version_minor": 0
      },
      "text/plain": [
       "HBox(children=(FloatProgress(value=0.0, max=122.0), HTML(value='')))"
      ]
     },
     "metadata": {},
     "output_type": "display_data"
    },
    {
     "name": "stdout",
     "output_type": "stream",
     "text": [
      "\n",
      "{'accuracy': 0.7605344295991778, 'f1': 0.5472780883176102, 'precision': 0.6530810573005414, 'recall': 0.5279053463256319}\n"
     ]
    }
   ],
   "source": [
    "with torch.no_grad():\n",
    "    classifier_model.eval()\n",
    "\n",
    "    predictions_test = torch.Tensor([])\n",
    "    labels_test = torch.Tensor([])\n",
    "\n",
    "    for batch_val in tqdm.notebook.tqdm(test_dataloader):\n",
    "\n",
    "        reviews_repeated = []\n",
    "        prompts_populated = []\n",
    "\n",
    "        for prompt in sentiment_prompts:\n",
    "            reviews_repeated = reviews_repeated + batch_val[\"text\"]\n",
    "\n",
    "            for aspect in batch_val[\"aspect\"]:\n",
    "                prompts_populated.append(prompt['prompt'].format(aspect=aspect))\n",
    "\n",
    "        batch_encoded = tokenizer(\n",
    "            reviews_repeated, prompts_populated,\n",
    "            padding='max_length', truncation='only_first', max_length=256,\n",
    "            return_tensors='pt')\n",
    "        \n",
    "        batch_encoded.to(torch_device)\n",
    "\n",
    "        labels = batch_val[\"sentiment\"]\n",
    "\n",
    "        outputs = classifier_model(batch_encoded)\n",
    "\n",
    "        outputs = outputs.to('cpu')\n",
    "\n",
    "        predictions_test = torch.cat([predictions_test, outputs])\n",
    "        labels_test = torch.cat([labels_test, labels])\n",
    "\n",
    "    # Compute metrics\n",
    "    test_metrics = compute_metrics(predictions_test, labels_test)\n",
    "\n",
    "    print(test_metrics)\n",
    "\n",
    "    # Save test_metrics into a file for later processing\n",
    "    with open(os.path.join(trained_model_directory, 'test_metrics_subtask4.json'), 'w') as test_metrics_json:\n",
    "        json.dump(test_metrics, test_metrics_json)"
   ]
  },
  {
   "cell_type": "markdown",
   "id": "a8a68c6d",
   "metadata": {
    "id": "HjpA_0m1hb08",
    "papermill": {
     "duration": 0.037544,
     "end_time": "2021-05-09T19:47:05.473041",
     "exception": false,
     "start_time": "2021-05-09T19:47:05.435497",
     "status": "completed"
    },
    "tags": []
   },
   "source": [
    "## Results visualization"
   ]
  },
  {
   "cell_type": "code",
   "execution_count": 18,
   "id": "0ec0657d",
   "metadata": {
    "colab": {
     "base_uri": "https://localhost:8080/",
     "height": 442
    },
    "execution": {
     "iopub.execute_input": "2021-05-09T19:47:05.536364Z",
     "iopub.status.busy": "2021-05-09T19:47:05.535450Z",
     "iopub.status.idle": "2021-05-09T19:47:05.762637Z",
     "shell.execute_reply": "2021-05-09T19:47:05.762145Z"
    },
    "executionInfo": {
     "elapsed": 95048,
     "status": "ok",
     "timestamp": 1620419019476,
     "user": {
      "displayName": "Ronald Seoh",
      "photoUrl": "",
      "userId": "10284188050297676522"
     },
     "user_tz": 240
    },
    "id": "w9G9AUeQhb09",
    "outputId": "06eb5449-2881-43c4-98b5-ad2cee1f476f",
    "papermill": {
     "duration": 0.254798,
     "end_time": "2021-05-09T19:47:05.762879",
     "exception": false,
     "start_time": "2021-05-09T19:47:05.508081",
     "status": "completed"
    },
    "tags": []
   },
   "outputs": [
    {
     "data": {
      "image/png": "[encoded data removed]",
      "text/plain": [
       "<Figure size 720x504 with 2 Axes>"
      ]
     },
     "metadata": {
      "needs_background": "light"
     },
     "output_type": "display_data"
    }
   ],
   "source": [
    "# Calculate metrics and confusion matrix based upon predictions and true labels\n",
    "cm = sklearn.metrics.confusion_matrix(labels_test.detach().numpy(), predictions_test.detach().numpy().argmax(-1))\n",
    "\n",
    "df_cm = pd.DataFrame(\n",
    "    cm,\n",
    "    index=[i for i in [\"positive\", \"negative\", \"neutral\"]],\n",
    "    columns=[i for i in [\"positive\", \"negative\", \"neutral\"]])\n",
    "\n",
    "plt.figure(figsize=(10, 7))\n",
    "\n",
    "ax = sn.heatmap(df_cm, annot=True)\n",
    "\n",
    "ax.set(xlabel='Predicted Label', ylabel='True Label')\n",
    "plt.show()"
   ]
  },
  {
   "cell_type": "code",
   "execution_count": null,
   "id": "4bddbe86",
   "metadata": {
    "executionInfo": {
     "elapsed": 95047,
     "status": "ok",
     "timestamp": 1620419019482,
     "user": {
      "displayName": "Ronald Seoh",
      "photoUrl": "",
      "userId": "10284188050297676522"
     },
     "user_tz": 240
    },
    "id": "4Wo_Yk0LY37d",
    "papermill": {
     "duration": 0.027728,
     "end_time": "2021-05-09T19:47:05.819810",
     "exception": false,
     "start_time": "2021-05-09T19:47:05.792082",
     "status": "completed"
    },
    "tags": []
   },
   "outputs": [],
   "source": []
  }
 ],
 "metadata": {
  "accelerator": "GPU",
  "celltoolbar": "Tags",
  "colab": {
   "collapsed_sections": [],
   "name": "bert_zero_shot_prompt_logit_softmax_subtask4.ipynb",
   "provenance": [],
   "toc_visible": true
  },
  "kernelspec": {
   "display_name": "Python 3",
   "language": "python",
   "name": "python3"
  },
  "language_info": {
   "codemirror_mode": {
    "name": "ipython",
    "version": 3
   },
   "file_extension": ".py",
   "mimetype": "text/x-python",
   "name": "python",
   "nbconvert_exporter": "python",
   "pygments_lexer": "ipython3",
   "version": "3.7.10"
  },
  "papermill": {
   "default_parameters": {},
   "duration": 100.507357,
   "end_time": "2021-05-09T19:47:06.565402",
   "environment_variables": {},
   "exception": null,
   "input_path": "bert_prompt_logit_softmax_subtask4.ipynb",
   "output_path": "results_bert_prompt_logit_softmax_revised_atsc_restaurants/bert_prompt_logit_softmax_revised_atsc_restaurants_bert-base-uncased_multiple_prompts_683.ipynb",
   "parameters": {
    "experiment_id": "bert_prompt_logit_softmax_revised_atsc_restaurants_bert-base-uncased_multiple_prompts_683",
    "lm_model_path": "bert-base-uncased",
    "prompts_merge_behavior": "sum_logits",
    "prompts_perturb": false,
    "random_seed": 683,
    "sentiment_prompts": [
     {
      "labels": [
       "good",
       "bad",
       "ok"
      ],
      "prompt": "I felt the {aspect} was [MASK]."
     },
     {
      "labels": [
       "like",
       "dislike",
       "ignore"
      ],
      "prompt": "I [MASK] the {aspect}."
     },
     {
      "labels": [
       "good",
       "bad",
       "indifferent"
      ],
      "prompt": "The {aspect} made me feel [MASK]."
     },
     {
      "labels": [
       "good",
       "bad",
       "ok"
      ],
      "prompt": "The {aspect} is [MASK]."
     }
    ],
    "testing_batch_size": 32,
    "testing_domain": "restaurants"
   },
   "start_time": "2021-05-09T19:45:26.058045",
   "version": "2.3.2"
  },
  "widgets": {
   "application/vnd.jupyter.widget-state+json": {
    "state": {
     "367536ca4fe64430a3d42752207b7ca0": {
      "model_module": "@jupyter-widgets/controls",
      "model_module_version": "1.5.0",
      "model_name": "ProgressStyleModel",
      "state": {
       "_model_module": "@jupyter-widgets/controls",
       "_model_module_version": "1.5.0",
       "_model_name": "ProgressStyleModel",
       "_view_count": null,
       "_view_module": "@jupyter-widgets/base",
       "_view_module_version": "1.2.0",
       "_view_name": "StyleView",
       "bar_color": null,
       "description_width": "initial"
      }
     },
     "39d72515d8f94ab9bbfed023e7f04d8c": {
      "model_module": "@jupyter-widgets/controls",
      "model_module_version": "1.5.0",
      "model_name": "HTMLModel",
      "state": {
       "_dom_classes": [],
       "_model_module": "@jupyter-widgets/controls",
       "_model_module_version": "1.5.0",
       "_model_name": "HTMLModel",
       "_view_count": null,
       "_view_module": "@jupyter-widgets/controls",
       "_view_module_version": "1.5.0",
       "_view_name": "HTMLView",
       "description": "",
       "description_tooltip": null,
       "layout": "IPY_MODEL_3a0661ad102441af9c1563eec0f50ce5",
       "placeholder": "​",
       "style": "IPY_MODEL_67fca16b6f4f488fa47c423299e69736",
       "value": " 122/122 [01:19&lt;00:00,  1.53it/s]"
      }
     },
     "3a0661ad102441af9c1563eec0f50ce5": {
      "model_module": "@jupyter-widgets/base",
      "model_module_version": "1.2.0",
      "model_name": "LayoutModel",
      "state": {
       "_model_module": "@jupyter-widgets/base",
       "_model_module_version": "1.2.0",
       "_model_name": "LayoutModel",
       "_view_count": null,
       "_view_module": "@jupyter-widgets/base",
       "_view_module_version": "1.2.0",
       "_view_name": "LayoutView",
       "align_content": null,
       "align_items": null,
       "align_self": null,
       "border": null,
       "bottom": null,
       "display": null,
       "flex": null,
       "flex_flow": null,
       "grid_area": null,
       "grid_auto_columns": null,
       "grid_auto_flow": null,
       "grid_auto_rows": null,
       "grid_column": null,
       "grid_gap": null,
       "grid_row": null,
       "grid_template_areas": null,
       "grid_template_columns": null,
       "grid_template_rows": null,
       "height": null,
       "justify_content": null,
       "justify_items": null,
       "left": null,
       "margin": null,
       "max_height": null,
       "max_width": null,
       "min_height": null,
       "min_width": null,
       "object_fit": null,
       "object_position": null,
       "order": null,
       "overflow": null,
       "overflow_x": null,
       "overflow_y": null,
       "padding": null,
       "right": null,
       "top": null,
       "visibility": null,
       "width": null
      }
     },
     "67fca16b6f4f488fa47c423299e69736": {
      "model_module": "@jupyter-widgets/controls",
      "model_module_version": "1.5.0",
      "model_name": "DescriptionStyleModel",
      "state": {
       "_model_module": "@jupyter-widgets/controls",
       "_model_module_version": "1.5.0",
       "_model_name": "DescriptionStyleModel",
       "_view_count": null,
       "_view_module": "@jupyter-widgets/base",
       "_view_module_version": "1.2.0",
       "_view_name": "StyleView",
       "description_width": ""
      }
     },
     "681f588273eb4af7be109e58eb88836a": {
      "model_module": "@jupyter-widgets/base",
      "model_module_version": "1.2.0",
      "model_name": "LayoutModel",
      "state": {
       "_model_module": "@jupyter-widgets/base",
       "_model_module_version": "1.2.0",
       "_model_name": "LayoutModel",
       "_view_count": null,
       "_view_module": "@jupyter-widgets/base",
       "_view_module_version": "1.2.0",
       "_view_name": "LayoutView",
       "align_content": null,
       "align_items": null,
       "align_self": null,
       "border": null,
       "bottom": null,
       "display": null,
       "flex": null,
       "flex_flow": null,
       "grid_area": null,
       "grid_auto_columns": null,
       "grid_auto_flow": null,
       "grid_auto_rows": null,
       "grid_column": null,
       "grid_gap": null,
       "grid_row": null,
       "grid_template_areas": null,
       "grid_template_columns": null,
       "grid_template_rows": null,
       "height": null,
       "justify_content": null,
       "justify_items": null,
       "left": null,
       "margin": null,
       "max_height": null,
       "max_width": null,
       "min_height": null,
       "min_width": null,
       "object_fit": null,
       "object_position": null,
       "order": null,
       "overflow": null,
       "overflow_x": null,
       "overflow_y": null,
       "padding": null,
       "right": null,
       "top": null,
       "visibility": null,
       "width": null
      }
     },
     "ae18af4270d240c6ad410b99a85601c5": {
      "model_module": "@jupyter-widgets/controls",
      "model_module_version": "1.5.0",
      "model_name": "HBoxModel",
      "state": {
       "_dom_classes": [],
       "_model_module": "@jupyter-widgets/controls",
       "_model_module_version": "1.5.0",
       "_model_name": "HBoxModel",
       "_view_count": null,
       "_view_module": "@jupyter-widgets/controls",
       "_view_module_version": "1.5.0",
       "_view_name": "HBoxView",
       "box_style": "",
       "children": [
        "IPY_MODEL_fa280ce55af94c0da6dbf7fc16a86973",
        "IPY_MODEL_39d72515d8f94ab9bbfed023e7f04d8c"
       ],
       "layout": "IPY_MODEL_c4082c1de2c54b44bd998909eca1879c"
      }
     },
     "c4082c1de2c54b44bd998909eca1879c": {
      "model_module": "@jupyter-widgets/base",
      "model_module_version": "1.2.0",
      "model_name": "LayoutModel",
      "state": {
       "_model_module": "@jupyter-widgets/base",
       "_model_module_version": "1.2.0",
       "_model_name": "LayoutModel",
       "_view_count": null,
       "_view_module": "@jupyter-widgets/base",
       "_view_module_version": "1.2.0",
       "_view_name": "LayoutView",
       "align_content": null,
       "align_items": null,
       "align_self": null,
       "border": null,
       "bottom": null,
       "display": null,
       "flex": null,
       "flex_flow": null,
       "grid_area": null,
       "grid_auto_columns": null,
       "grid_auto_flow": null,
       "grid_auto_rows": null,
       "grid_column": null,
       "grid_gap": null,
       "grid_row": null,
       "grid_template_areas": null,
       "grid_template_columns": null,
       "grid_template_rows": null,
       "height": null,
       "justify_content": null,
       "justify_items": null,
       "left": null,
       "margin": null,
       "max_height": null,
       "max_width": null,
       "min_height": null,
       "min_width": null,
       "object_fit": null,
       "object_position": null,
       "order": null,
       "overflow": null,
       "overflow_x": null,
       "overflow_y": null,
       "padding": null,
       "right": null,
       "top": null,
       "visibility": null,
       "width": null
      }
     },
     "fa280ce55af94c0da6dbf7fc16a86973": {
      "model_module": "@jupyter-widgets/controls",
      "model_module_version": "1.5.0",
      "model_name": "FloatProgressModel",
      "state": {
       "_dom_classes": [],
       "_model_module": "@jupyter-widgets/controls",
       "_model_module_version": "1.5.0",
       "_model_name": "FloatProgressModel",
       "_view_count": null,
       "_view_module": "@jupyter-widgets/controls",
       "_view_module_version": "1.5.0",
       "_view_name": "ProgressView",
       "bar_style": "success",
       "description": "100%",
       "description_tooltip": null,
       "layout": "IPY_MODEL_681f588273eb4af7be109e58eb88836a",
       "max": 122.0,
       "min": 0.0,
       "orientation": "horizontal",
       "style": "IPY_MODEL_367536ca4fe64430a3d42752207b7ca0",
       "value": 122.0
      }
     }
    },
    "version_major": 2,
    "version_minor": 0
   }
  }
 },
 "nbformat": 4,
 "nbformat_minor": 5
}