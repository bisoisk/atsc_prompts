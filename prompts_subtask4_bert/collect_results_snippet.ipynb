{
 "cells": [
  {
   "cell_type": "code",
   "execution_count": 1,
   "metadata": {
    "colab": {
     "base_uri": "https://localhost:8080/"
    },
    "executionInfo": {
     "elapsed": 61016,
     "status": "ok",
     "timestamp": 1620513993874,
     "user": {
      "displayName": "Ronald Seoh",
      "photoUrl": "",
      "userId": "10284188050297676522"
     },
     "user_tz": 240
    },
    "id": "0OVJxpurTwXu",
    "outputId": "ab343173-5dc9-40b1-fe0b-5b8b99aad5f7"
   },
   "outputs": [
    {
     "name": "stdout",
     "output_type": "stream",
     "text": [
      "Mounted at /content/drive\n",
      "/content/drive/My Drive/cs696ds_lexalytics/Ronald Gypsum Prompts\n",
      "/content/drive/My Drive/cs696ds_lexalytics/Ronald Gypsum Prompts/prompts_subtask4\n",
      "bert_no_prompt_cls_lr_subtask4.ipynb\n",
      "bert_no_prompt_pooled_lr_subtask4.ipynb\n",
      "bert_prompt_logit_softmax_subtask4.ipynb\n",
      "bert_prompt_lr_subtask4.ipynb\n",
      "collect_results_snippet.ipynb\n",
      "papermill_launcher_no_prompt_cls_lr.ipynb\n",
      "papermill_launcher_no_prompt_pooled_lr.ipynb\n",
      "papermill_launcher_prompt_logit_softmax.ipynb\n",
      "papermill_launcher_prompt_lr.ipynb\n",
      "results_bert_16_shot_no_prompt_cls_lr_atsc_restaurants\n",
      "results_bert_16_shot_no_prompt_pooled_lr_atsc_restaurants\n",
      "results_bert_16_shot_prompt_logit_softmax_atsc_restaurants\n",
      "results_bert_16_shot_prompt_lr_concatenate_atsc_restaurants\n",
      "results_bert_256_shot_no_prompt_cls_lr_atsc_restaurants\n",
      "results_bert_256_shot_no_prompt_pooled_lr_atsc_restaurants\n",
      "results_bert_256_shot_prompt_logit_softmax_atsc_restaurants\n",
      "results_bert_64_shot_no_prompt_cls_lr_atsc_restaurants\n",
      "results_bert_64_shot_no_prompt_pooled_lr_atsc_restaurants\n",
      "results_bert_64_shot_prompt_logit_softmax_atsc_restaurants\n",
      "results_bert_64_shot_prompt_lr_concatenate_atsc_restaurants\n",
      "results_bert_no_prompt_cls_lr_atsc_restaurants\n",
      "results_bert_no_prompt_pooled_lr_atsc_restaurants\n",
      "results_bert_prompt_logit_softmax_atsc_restaurants\n",
      "results_bert_prompt_lr_atsc_restaurants\n",
      "results_bert_prompt_lr_concatenate_atsc_restaurants\n",
      "results_prompt_logit_softmax_atsc_restaurants\n"
     ]
    }
   ],
   "source": [
    "# Use Google Colab\n",
    "use_colab = True\n",
    "\n",
    "# Is this notebook running on Colab?\n",
    "# If so, then google.colab package (github.com/googlecolab/colabtools)\n",
    "# should be available in this environment\n",
    "\n",
    "# Previous version used importlib, but we could do the same thing with\n",
    "# just attempting to import google.colab\n",
    "try:\n",
    "    from google.colab import drive\n",
    "    colab_available = True\n",
    "except:\n",
    "    colab_available = False\n",
    "\n",
    "if use_colab and colab_available:\n",
    "    drive.mount('/content/drive')\n",
    "\n",
    "    # cd to the appropriate working directory under my Google Drive\n",
    "    %cd '/content/drive/My Drive/cs696ds_lexalytics/Ronald Gypsum Prompts'\n",
    "    \n",
    "    # Install packages specified in requirements\n",
    "    #!pip install -r requirements.txt\n",
    "\n",
    "    %cd 'prompts_subtask4'\n",
    "    \n",
    "    # List the directory contents\n",
    "    !ls"
   ]
  },
  {
   "cell_type": "code",
   "execution_count": 1,
   "metadata": {
    "executionInfo": {
     "elapsed": 1176,
     "status": "ok",
     "timestamp": 1620513997327,
     "user": {
      "displayName": "Ronald Seoh",
      "photoUrl": "",
      "userId": "10284188050297676522"
     },
     "user_tz": 240
    },
    "id": "dNw_qUn6l99G"
   },
   "outputs": [],
   "source": [
    "import os\n",
    "import itertools\n",
    "import json\n",
    "\n",
    "import tqdm\n",
    "import numpy as np\n",
    "import pandas as pd"
   ]
  },
  {
   "cell_type": "code",
   "execution_count": 95,
   "metadata": {
    "executionInfo": {
     "elapsed": 1940,
     "status": "ok",
     "timestamp": 1620515142643,
     "user": {
      "displayName": "Ronald Seoh",
      "photoUrl": "",
      "userId": "10284188050297676522"
     },
     "user_tz": 240
    },
    "id": "NyGZbTNTUMKY"
   },
   "outputs": [],
   "source": [
    "# experiment id prefix\n",
    "experiment_id_prefix = 'bert_prompt_logit_softmax_atsc'\n",
    "\n",
    "# Random seed\n",
    "random_seeds = [696, 685, 683, 682, 589]\n",
    "\n",
    "# path to pretrained MLM model folder or the string \"bert-base-uncased\"\n",
    "lm_model_paths = {\n",
    "    'bert_amazon_om': '../trained_models/lm_further_pretraining_bert_amazon_electronics_original_masking_bseoh_2021-05-08--21_44_30',\n",
    "    #'bert-base-uncased': 'bert-base-uncased'\n",
    "}\n",
    "\n",
    "# Prompts to be added to the end of each review text\n",
    "# Note: pseudo-labels for each prompt should be given in the order of (positive), (negative), (neutral)\n",
    "sentiment_prompts = {\n",
    "    'i_felt': {\"prompt\": \"I felt the {aspect} was [MASK].\", \"labels\": [\"good\", \"bad\", \"ok\"]},\n",
    "    'i_like': {\"prompt\": \"I [MASK] the {aspect}.\", \"labels\": [\"like\", \"dislike\", \"ignore\"]},\n",
    "    'made_me_feel': {\"prompt\": \"The {aspect} made me feel [MASK].\", \"labels\": [\"good\", \"bad\", \"indifferent\"]},\n",
    "    'the_aspect_is': {\"prompt\": \"The {aspect} is [MASK].\", \"labels\": [\"good\", \"bad\", \"ok\"]}\n",
    "}\n",
    "\n",
    "run_single_prompt = True\n",
    "run_multiple_prompts = True\n",
    "\n",
    "prompts_merge_behavior = 'sum_logits'\n",
    "prompts_perturb = False\n",
    "\n",
    "# Training settings\n",
    "training_domain = 'laptops' # 'laptops', 'restaurants', 'joint'\n",
    "\n",
    "# Few-shot dataset size\n",
    "training_dataset_few_shot_size = 256\n",
    "\n",
    "experiment_id_prefix_override = 'bert_' + str(training_dataset_few_shot_size) + '_shot_' + 'prompt_logit_softmax_atsc'\n",
    "\n",
    "# Test settings\n",
    "testing_batch_size = 32\n",
    "testing_domain = 'laptops'\n",
    "\n",
    "if testing_domain != training_domain:\n",
    "    cross_domain = True\n",
    "else:\n",
    "    cross_domain = False\n",
    "\n",
    "experiment_id_prefix_complete = []"
   ]
  },
  {
   "cell_type": "code",
   "execution_count": 96,
   "metadata": {
    "colab": {
     "base_uri": "https://localhost:8080/"
    },
    "executionInfo": {
     "elapsed": 1075,
     "status": "ok",
     "timestamp": 1620515156575,
     "user": {
      "displayName": "Ronald Seoh",
      "photoUrl": "",
      "userId": "10284188050297676522"
     },
     "user_tz": 240
    },
    "id": "06D8B31rUT2Y",
    "outputId": "7950c6c3-241c-47d8-b24f-94eee5bb7615"
   },
   "outputs": [
    {
     "name": "stderr",
     "output_type": "stream",
     "text": [
      "4it [00:00, 40524.68it/s]\n"
     ]
    }
   ],
   "source": [
    "if run_single_prompt:    \n",
    "    for config in tqdm.tqdm(itertools.product(lm_model_paths.keys(), sentiment_prompts.keys())):\n",
    "        \n",
    "        lm_model_name, prompt_key = config\n",
    "        \n",
    "        # We will use the following string ID to identify this particular (training) experiments\n",
    "        # in directory paths and other settings\n",
    "        experiment_id_config = experiment_id_prefix_override + '_'\n",
    "        experiment_id_config = experiment_id_config + testing_domain + '_'\n",
    "        \n",
    "        if cross_domain:\n",
    "            experiment_id_config = experiment_id_config + 'cross_domain_'\n",
    "\n",
    "        experiment_id_config = experiment_id_config + lm_model_name + '_'\n",
    "        experiment_id_config = experiment_id_config + 'single_prompt' + '_'\n",
    "        experiment_id_config = experiment_id_config + prompt_key + '_'\n",
    "        \n",
    "        experiment_id_prefix_complete.append(experiment_id_config)"
   ]
  },
  {
   "cell_type": "code",
   "execution_count": 97,
   "metadata": {
    "colab": {
     "base_uri": "https://localhost:8080/"
    },
    "executionInfo": {
     "elapsed": 1209,
     "status": "ok",
     "timestamp": 1620515158720,
     "user": {
      "displayName": "Ronald Seoh",
      "photoUrl": "",
      "userId": "10284188050297676522"
     },
     "user_tz": 240
    },
    "id": "jqJuQeJEUVTK",
    "outputId": "8d5a7d6f-376a-4bb1-c5c3-ab8e7410fc03"
   },
   "outputs": [
    {
     "name": "stderr",
     "output_type": "stream",
     "text": [
      "1it [00:00, 14169.95it/s]\n"
     ]
    }
   ],
   "source": [
    "if run_multiple_prompts:\n",
    "    for config in tqdm.tqdm(itertools.product(lm_model_paths.keys())):\n",
    "        \n",
    "        lm_model_name = config[0]\n",
    "        \n",
    "        # We will use the following string ID to identify this particular (training) experiments\n",
    "        # in directory paths and other settings\n",
    "        experiment_id_config = experiment_id_prefix_override + '_'\n",
    "        experiment_id_config = experiment_id_config + testing_domain + '_'\n",
    "        \n",
    "        if cross_domain:\n",
    "            experiment_id_config = experiment_id_config + 'cross_domain_'\n",
    "\n",
    "        experiment_id_config = experiment_id_config + lm_model_name + '_'\n",
    "        experiment_id_config = experiment_id_config + 'multiple_prompts' + '_'\n",
    "        \n",
    "        experiment_id_prefix_complete.append(experiment_id_config)"
   ]
  },
  {
   "cell_type": "code",
   "execution_count": 93,
   "metadata": {
    "colab": {
     "base_uri": "https://localhost:8080/"
    },
    "executionInfo": {
     "elapsed": 421,
     "status": "ok",
     "timestamp": 1620504023438,
     "user": {
      "displayName": "Ronald Seoh",
      "photoUrl": "",
      "userId": "10284188050297676522"
     },
     "user_tz": 240
    },
    "id": "Qswm_J26UX2Q",
    "outputId": "4b214ab0-755a-4488-c1f7-d6a7e80f4c27"
   },
   "outputs": [
    {
     "name": "stderr",
     "output_type": "stream",
     "text": [
      "1it [00:00, 4391.94it/s]\n"
     ]
    }
   ],
   "source": [
    "for config in tqdm.tqdm(itertools.product(lm_model_paths.keys())):\n",
    "    \n",
    "    lm_model_name = config[0]\n",
    "    \n",
    "    # We will use the following string ID to identify this particular (training) experiments\n",
    "    # in directory paths and other settings\n",
    "    experiment_id_config = experiment_id_prefix_override + '_'\n",
    "    experiment_id_config = experiment_id_config + testing_domain + '_'\n",
    "\n",
    "    if cross_domain:\n",
    "        experiment_id_config = experiment_id_config + 'cross_domain_'\n",
    "\n",
    "    experiment_id_config = experiment_id_config + lm_model_name + '_'\n",
    "    \n",
    "    experiment_id_prefix_complete.append(experiment_id_config)"
   ]
  },
  {
   "cell_type": "code",
   "execution_count": 99,
   "metadata": {
    "colab": {
     "base_uri": "https://localhost:8080/"
    },
    "executionInfo": {
     "elapsed": 39691,
     "status": "ok",
     "timestamp": 1620515200527,
     "user": {
      "displayName": "Ronald Seoh",
      "photoUrl": "",
      "userId": "10284188050297676522"
     },
     "user_tz": 240
    },
    "id": "aXIY6fVSUP6k",
    "outputId": "1b0f7e39-bc2d-41f4-fa5a-7fe652218ba6"
   },
   "outputs": [
    {
     "name": "stdout",
     "output_type": "stream",
     "text": [
      "bert_256_shot_prompt_logit_softmax_atsc_laptops_bert_amazon_om_single_prompt_i_felt_\n",
      "   accuracy        f1  precision    recall\n",
      "0  0.778997  0.730206   0.741267  0.741094\n",
      "1  0.758621  0.699426   0.709431  0.720964\n",
      "2  0.766458  0.726441   0.726430  0.735358\n",
      "3  0.760188  0.685783   0.733129  0.718769\n",
      "4  0.760188  0.703977   0.714811  0.725921\n",
      "Accuracy mean:  0.7648902821316614\n",
      "Accuracy se:  0.0037747945388063634\n",
      "F1 mean:  0.7091665643075031\n",
      "F1 se:  0.00839534265676802\n",
      "\n",
      "bert_256_shot_prompt_logit_softmax_atsc_laptops_bert_amazon_om_single_prompt_i_like_\n",
      "   accuracy        f1  precision    recall\n",
      "0  0.758621  0.690454   0.741165  0.716891\n",
      "1  0.768025  0.688751   0.778290  0.711180\n",
      "2  0.752351  0.703561   0.716685  0.719407\n",
      "3  0.766458  0.695359   0.742216  0.719157\n",
      "4  0.760188  0.712366   0.717709  0.736771\n",
      "Accuracy mean:  0.761128526645768\n",
      "Accuracy se:  0.002830010985151682\n",
      "F1 mean:  0.6980983140926279\n",
      "F1 se:  0.004397130066570106\n",
      "\n",
      "bert_256_shot_prompt_logit_softmax_atsc_laptops_bert_amazon_om_single_prompt_made_me_feel_\n",
      "   accuracy        f1  precision    recall\n",
      "0  0.763323  0.697276   0.736679  0.705278\n",
      "1  0.768025  0.726580   0.722626  0.742210\n",
      "2  0.771160  0.724705   0.730815  0.727535\n",
      "3  0.761755  0.700898   0.717799  0.717408\n",
      "4  0.753918  0.692233   0.700350  0.705382\n",
      "Accuracy mean:  0.7636363636363636\n",
      "Accuracy se:  0.0029490419627314756\n",
      "F1 mean:  0.7083384199773054\n",
      "F1 se:  0.007203287280679989\n",
      "\n",
      "bert_256_shot_prompt_logit_softmax_atsc_laptops_bert_amazon_om_single_prompt_the_aspect_is_\n",
      "   accuracy        f1  precision    recall\n",
      "0  0.771160  0.706035   0.764179  0.730949\n",
      "1  0.771160  0.712885   0.732563  0.729148\n",
      "2  0.760188  0.707426   0.721306  0.726916\n",
      "3  0.750784  0.674058   0.722203  0.701154\n",
      "4  0.774295  0.726602   0.736397  0.746294\n",
      "Accuracy mean:  0.7655172413793104\n",
      "Accuracy se:  0.004394309018456495\n",
      "F1 mean:  0.705401235654766\n",
      "F1 se:  0.008638278537482733\n",
      "\n",
      "bert_256_shot_prompt_logit_softmax_atsc_laptops_bert_amazon_om_multiple_prompts_\n",
      "   accuracy        f1  precision    recall\n",
      "0  0.744514  0.651382   0.757667  0.694070\n",
      "1  0.766458  0.703191   0.735951  0.720609\n",
      "2  0.772727  0.729054   0.740889  0.734657\n",
      "3  0.771160  0.717394   0.734468  0.740629\n",
      "4  0.736677  0.688577   0.694543  0.721476\n",
      "Accuracy mean:  0.7583072100313479\n",
      "Accuracy se:  0.007408339998806565\n",
      "F1 mean:  0.6979195275175789\n",
      "F1 se:  0.013471088640043653\n",
      "\n"
     ]
    }
   ],
   "source": [
    "for prefix in experiment_id_prefix_complete:\n",
    "    \n",
    "    test_metrics_all = []\n",
    "\n",
    "    for seed in random_seeds:\n",
    "        \n",
    "        experiment_id = prefix + str(seed)\n",
    "        \n",
    "        # Load test scores file\n",
    "        test_metrics = json.load(open(os.path.join('..', 'trained_models_prompts', experiment_id, 'test_metrics.json'), 'r'))\n",
    "        \n",
    "        test_metrics_all.append(test_metrics)\n",
    "\n",
    "    test_metrics_all = pd.DataFrame(test_metrics_all)\n",
    "    \n",
    "    print(prefix)\n",
    "\n",
    "    print(test_metrics_all)\n",
    "\n",
    "    accuracy_mean = test_metrics_all.accuracy.mean()\n",
    "\n",
    "    accuracy_se = test_metrics_all.accuracy.std() / np.sqrt(len(random_seeds))\n",
    "\n",
    "    f1_mean = test_metrics_all.f1.mean()\n",
    "    f1_se = test_metrics_all.f1.std() / np.sqrt(len(random_seeds))\n",
    "\n",
    "    print(\"Accuracy mean: \", accuracy_mean)\n",
    "    print(\"Accuracy se: \", accuracy_se)\n",
    "\n",
    "    print(\"F1 mean: \", f1_mean)\n",
    "    print(\"F1 se: \", f1_se)\n",
    "    \n",
    "    print()"
   ]
  },
  {
   "cell_type": "code",
   "execution_count": null,
   "metadata": {},
   "outputs": [],
   "source": []
  }
 ],
 "metadata": {
  "colab": {
   "authorship_tag": "ABX9TyOti2fj8uo28cb6YPX4Nsln",
   "name": "collect_results_snippet.ipynb",
   "provenance": []
  },
  "kernelspec": {
   "display_name": "Python 3",
   "language": "python",
   "name": "python3"
  },
  "language_info": {
   "codemirror_mode": {
    "name": "ipython",
    "version": 3
   },
   "file_extension": ".py",
   "mimetype": "text/x-python",
   "name": "python",
   "nbconvert_exporter": "python",
   "pygments_lexer": "ipython3",
   "version": "3.7.9"
  }
 },
 "nbformat": 4,
 "nbformat_minor": 1
}
