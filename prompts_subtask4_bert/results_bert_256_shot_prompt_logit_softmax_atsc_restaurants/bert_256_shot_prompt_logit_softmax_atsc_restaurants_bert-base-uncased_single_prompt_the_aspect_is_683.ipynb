{
 "cells": [
  {
   "cell_type": "markdown",
   "id": "89afdcb0",
   "metadata": {
    "id": "xf3lVTZYhbzA",
    "papermill": {
     "duration": 0.020776,
     "end_time": "2021-05-08T21:43:41.473515",
     "exception": false,
     "start_time": "2021-05-08T21:43:41.452739",
     "status": "completed"
    },
    "tags": []
   },
   "source": [
    "# Initial Setups"
   ]
  },
  {
   "cell_type": "markdown",
   "id": "38309266",
   "metadata": {
    "id": "2ORFXeezn5Og",
    "papermill": {
     "duration": 0.026727,
     "end_time": "2021-05-08T21:43:41.525087",
     "exception": false,
     "start_time": "2021-05-08T21:43:41.498360",
     "status": "completed"
    },
    "tags": []
   },
   "source": [
    "## (Google Colab use only)"
   ]
  },
  {
   "cell_type": "code",
   "execution_count": 1,
   "id": "84191036",
   "metadata": {
    "colab": {
     "base_uri": "https://localhost:8080/"
    },
    "execution": {
     "iopub.execute_input": "2021-05-08T21:43:41.573923Z",
     "iopub.status.busy": "2021-05-08T21:43:41.573085Z",
     "iopub.status.idle": "2021-05-08T21:43:41.576087Z",
     "shell.execute_reply": "2021-05-08T21:43:41.575498Z"
    },
    "executionInfo": {
     "elapsed": 3570,
     "status": "ok",
     "timestamp": 1620418927808,
     "user": {
      "displayName": "Ronald Seoh",
      "photoUrl": "",
      "userId": "10284188050297676522"
     },
     "user_tz": 240
    },
    "id": "YFAQ6IgXn8FK",
    "outputId": "25f6ccd2-93f3-4714-9551-e47ee5916705",
    "papermill": {
     "duration": 0.028932,
     "end_time": "2021-05-08T21:43:41.576245",
     "exception": false,
     "start_time": "2021-05-08T21:43:41.547313",
     "status": "completed"
    },
    "tags": []
   },
   "outputs": [],
   "source": [
    "# Use Google Colab\n",
    "use_colab = False\n",
    "\n",
    "# Is this notebook running on Colab?\n",
    "# If so, then google.colab package (github.com/googlecolab/colabtools)\n",
    "# should be available in this environment\n",
    "\n",
    "# Previous version used importlib, but we could do the same thing with\n",
    "# just attempting to import google.colab\n",
    "try:\n",
    "    from google.colab import drive\n",
    "    colab_available = True\n",
    "except:\n",
    "    colab_available = False\n",
    "\n",
    "if use_colab and colab_available:\n",
    "    drive.mount('/content/drive')\n",
    "\n",
    "    # cd to the appropriate working directory under my Google Drive\n",
    "    %cd '/content/drive/My Drive/cs696ds_lexalytics/Ronald Gypsum Prompts'\n",
    "    \n",
    "    # Install packages specified in requirements\n",
    "    !pip install -r requirements.txt\n",
    "\n",
    "    %cd 'prompts_subtask4'\n",
    "    \n",
    "    # List the directory contents\n",
    "    !ls"
   ]
  },
  {
   "cell_type": "markdown",
   "id": "e5f9ab13",
   "metadata": {
    "id": "tgzsHF7Zhbzo",
    "papermill": {
     "duration": 0.117947,
     "end_time": "2021-05-08T21:43:41.716042",
     "exception": false,
     "start_time": "2021-05-08T21:43:41.598095",
     "status": "completed"
    },
    "tags": []
   },
   "source": [
    "## Experiment parameters"
   ]
  },
  {
   "cell_type": "code",
   "execution_count": 2,
   "id": "6a286a5a",
   "metadata": {
    "execution": {
     "iopub.execute_input": "2021-05-08T21:43:41.772475Z",
     "iopub.status.busy": "2021-05-08T21:43:41.771589Z",
     "iopub.status.idle": "2021-05-08T21:43:41.774187Z",
     "shell.execute_reply": "2021-05-08T21:43:41.773780Z"
    },
    "executionInfo": {
     "elapsed": 3559,
     "status": "ok",
     "timestamp": 1620418927816,
     "user": {
      "displayName": "Ronald Seoh",
      "photoUrl": "",
      "userId": "10284188050297676522"
     },
     "user_tz": 240
    },
    "id": "DUpGBmOJhbzs",
    "papermill": {
     "duration": 0.035691,
     "end_time": "2021-05-08T21:43:41.774341",
     "exception": false,
     "start_time": "2021-05-08T21:43:41.738650",
     "status": "completed"
    },
    "tags": [
     "parameters"
    ]
   },
   "outputs": [],
   "source": [
    "# We will use the following string ID to identify this particular (training) experiments\n",
    "# in directory paths and other settings\n",
    "experiment_id = 'bert_16_shot_prompt_logit_softmax_atsc_restaurants_bert_yelp_restaurants_multiple_prompts_589'\n",
    "\n",
    "# Random seed\n",
    "random_seed = 589\n",
    "\n",
    "# path to pretrained MLM model folder or the string \"bert-base-uncased\"\n",
    "lm_model_path = 'bert-base-uncased'\n",
    "\n",
    "# Prompts to be added to the end of each review text\n",
    "# Note: pseudo-labels for each prompt should be given in the order of (positive), (negative), (neutral)\n",
    "sentiment_prompts = [\n",
    "    {\"prompt\": \"I felt the {aspect} was [MASK].\", \"labels\": [\"good\", \"bad\", \"ok\"]},\n",
    "    {\"prompt\": \"I [MASK] the {aspect}.\", \"labels\": [\"love\", \"hate\", \"dislike\"]},\n",
    "    {\"prompt\": \"The {aspect} made me feel [MASK].\", \"labels\": [\"good\", \"bad\", \"indifferent\"]},\n",
    "    {\"prompt\": \"The {aspect} is [MASK].\", \"labels\": [\"good\", \"bad\", \"ok\"]}\n",
    "]\n",
    "\n",
    "# Multiple prompt merging behavior\n",
    "prompts_merge_behavior = 'sum_logits'\n",
    "\n",
    "# Perturb the input embeddings of tokens within the prompts\n",
    "prompts_perturb = False\n",
    "\n",
    "# Test settings\n",
    "testing_batch_size = 32\n",
    "testing_domain = 'restaurants' # 'laptops', 'restaurants', 'joint'"
   ]
  },
  {
   "cell_type": "code",
   "execution_count": 3,
   "id": "b62913c0",
   "metadata": {
    "execution": {
     "iopub.execute_input": "2021-05-08T21:43:41.824567Z",
     "iopub.status.busy": "2021-05-08T21:43:41.823708Z",
     "iopub.status.idle": "2021-05-08T21:43:41.826617Z",
     "shell.execute_reply": "2021-05-08T21:43:41.825853Z"
    },
    "papermill": {
     "duration": 0.032771,
     "end_time": "2021-05-08T21:43:41.826838",
     "exception": false,
     "start_time": "2021-05-08T21:43:41.794067",
     "status": "completed"
    },
    "tags": [
     "injected-parameters"
    ]
   },
   "outputs": [],
   "source": [
    "# Parameters\n",
    "experiment_id = \"bert_256_shot_prompt_logit_softmax_atsc_restaurants_bert-base-uncased_single_prompt_the_aspect_is_683\"\n",
    "random_seed = 683\n",
    "lm_model_path = \"bert-base-uncased\"\n",
    "sentiment_prompts = [\n",
    "    {\"prompt\": \"The {aspect} is [MASK].\", \"labels\": [\"good\", \"bad\", \"ok\"]}\n",
    "]\n",
    "testing_batch_size = 32\n",
    "testing_domain = \"restaurants\"\n",
    "prompts_merge_behavior = \"sum_logits\"\n",
    "prompts_perturb = False\n"
   ]
  },
  {
   "cell_type": "code",
   "execution_count": 4,
   "id": "9104c401",
   "metadata": {
    "execution": {
     "iopub.execute_input": "2021-05-08T21:43:41.873298Z",
     "iopub.status.busy": "2021-05-08T21:43:41.872409Z",
     "iopub.status.idle": "2021-05-08T21:43:41.883257Z",
     "shell.execute_reply": "2021-05-08T21:43:41.883759Z"
    },
    "executionInfo": {
     "elapsed": 3552,
     "status": "ok",
     "timestamp": 1620418927819,
     "user": {
      "displayName": "Ronald Seoh",
      "photoUrl": "",
      "userId": "10284188050297676522"
     },
     "user_tz": 240
    },
    "id": "AtJhBPXMY36f",
    "papermill": {
     "duration": 0.035496,
     "end_time": "2021-05-08T21:43:41.883935",
     "exception": false,
     "start_time": "2021-05-08T21:43:41.848439",
     "status": "completed"
    },
    "tags": []
   },
   "outputs": [],
   "source": [
    "# Batch size adjustment for multiple prompts.\n",
    "testing_batch_size = testing_batch_size // len(sentiment_prompts)"
   ]
  },
  {
   "cell_type": "code",
   "execution_count": 5,
   "id": "192219b9",
   "metadata": {
    "colab": {
     "base_uri": "https://localhost:8080/"
    },
    "execution": {
     "iopub.execute_input": "2021-05-08T21:43:41.931238Z",
     "iopub.status.busy": "2021-05-08T21:43:41.930516Z",
     "iopub.status.idle": "2021-05-08T21:43:41.933017Z",
     "shell.execute_reply": "2021-05-08T21:43:41.933443Z"
    },
    "executionInfo": {
     "elapsed": 3546,
     "status": "ok",
     "timestamp": 1620418927824,
     "user": {
      "displayName": "Ronald Seoh",
      "photoUrl": "",
      "userId": "10284188050297676522"
     },
     "user_tz": 240
    },
    "id": "keCSh__SY36i",
    "outputId": "7d83760a-ac16-481c-c9e4-6633f493b37d",
    "papermill": {
     "duration": 0.027946,
     "end_time": "2021-05-08T21:43:41.933636",
     "exception": false,
     "start_time": "2021-05-08T21:43:41.905690",
     "status": "completed"
    },
    "tags": []
   },
   "outputs": [
    {
     "name": "stdout",
     "output_type": "stream",
     "text": [
      "Experiment ID: bert_256_shot_prompt_logit_softmax_atsc_restaurants_bert-base-uncased_single_prompt_the_aspect_is_683\n"
     ]
    }
   ],
   "source": [
    "print(\"Experiment ID:\", experiment_id)"
   ]
  },
  {
   "cell_type": "markdown",
   "id": "dc65370a",
   "metadata": {
    "id": "GYZesqTioMvF",
    "papermill": {
     "duration": 0.027719,
     "end_time": "2021-05-08T21:43:41.983112",
     "exception": false,
     "start_time": "2021-05-08T21:43:41.955393",
     "status": "completed"
    },
    "tags": []
   },
   "source": [
    "## Package imports"
   ]
  },
  {
   "cell_type": "code",
   "execution_count": 6,
   "id": "3828d5cc",
   "metadata": {
    "colab": {
     "base_uri": "https://localhost:8080/"
    },
    "execution": {
     "iopub.execute_input": "2021-05-08T21:43:42.029420Z",
     "iopub.status.busy": "2021-05-08T21:43:42.028493Z",
     "iopub.status.idle": "2021-05-08T21:43:43.283347Z",
     "shell.execute_reply": "2021-05-08T21:43:43.282425Z"
    },
    "executionInfo": {
     "elapsed": 5595,
     "status": "ok",
     "timestamp": 1620418929888,
     "user": {
      "displayName": "Ronald Seoh",
      "photoUrl": "",
      "userId": "10284188050297676522"
     },
     "user_tz": 240
    },
    "id": "MlK_-DrWhbzb",
    "outputId": "5854fa11-ce1f-49a2-a493-6d6b1fb92423",
    "papermill": {
     "duration": 1.279816,
     "end_time": "2021-05-08T21:43:43.283501",
     "exception": false,
     "start_time": "2021-05-08T21:43:42.003685",
     "status": "completed"
    },
    "tags": []
   },
   "outputs": [
    {
     "name": "stdout",
     "output_type": "stream",
     "text": [
      "Python version: 3.7.10 (default, May  3 2021, 02:48:31) \n",
      "[GCC 7.5.0]\n",
      "NumPy version: 1.19.5\n",
      "PyTorch version: 1.7.1\n",
      "Transformers version: 4.3.3\n"
     ]
    }
   ],
   "source": [
    "import sys\n",
    "import os\n",
    "import random\n",
    "import shutil\n",
    "import copy\n",
    "import inspect\n",
    "import json\n",
    "\n",
    "import numpy as np\n",
    "import torch\n",
    "import transformers\n",
    "import datasets\n",
    "import sklearn.metrics\n",
    "import pandas as pd\n",
    "import matplotlib.pyplot as plt\n",
    "import seaborn as sn\n",
    "import tqdm\n",
    "\n",
    "current_dir = os.path.dirname(os.path.abspath(inspect.getfile(inspect.currentframe())))\n",
    "parent_dir = os.path.dirname(current_dir)\n",
    "sys.path.append(parent_dir)\n",
    "\n",
    "import utils\n",
    "\n",
    "# Random seed settings\n",
    "random.seed(random_seed)\n",
    "np.random.seed(random_seed)\n",
    "\n",
    "# cuBLAS reproducibility\n",
    "# https://docs.nvidia.com/cuda/cublas/index.html#cublasApi_reproducibility\n",
    "os.environ['CUBLAS_WORKSPACE_CONFIG'] = \":4096:8\"\n",
    "torch.set_deterministic(True)\n",
    "torch.manual_seed(random_seed)\n",
    "\n",
    "# Print version information\n",
    "print(\"Python version: \" + sys.version)\n",
    "print(\"NumPy version: \" + np.__version__)\n",
    "print(\"PyTorch version: \" + torch.__version__)\n",
    "print(\"Transformers version: \" + transformers.__version__)"
   ]
  },
  {
   "cell_type": "markdown",
   "id": "63fb072f",
   "metadata": {
    "id": "UWuR30eUoTWP",
    "papermill": {
     "duration": 0.020929,
     "end_time": "2021-05-08T21:43:43.326888",
     "exception": false,
     "start_time": "2021-05-08T21:43:43.305959",
     "status": "completed"
    },
    "tags": []
   },
   "source": [
    "## PyTorch GPU settings"
   ]
  },
  {
   "cell_type": "code",
   "execution_count": 7,
   "id": "933e912e",
   "metadata": {
    "colab": {
     "base_uri": "https://localhost:8080/"
    },
    "execution": {
     "iopub.execute_input": "2021-05-08T21:43:43.411878Z",
     "iopub.status.busy": "2021-05-08T21:43:43.411008Z",
     "iopub.status.idle": "2021-05-08T21:43:43.415370Z",
     "shell.execute_reply": "2021-05-08T21:43:43.415955Z"
    },
    "executionInfo": {
     "elapsed": 5585,
     "status": "ok",
     "timestamp": 1620418929892,
     "user": {
      "displayName": "Ronald Seoh",
      "photoUrl": "",
      "userId": "10284188050297676522"
     },
     "user_tz": 240
    },
    "id": "PfNlm-ykoSlM",
    "outputId": "9b7cc30c-e6ae-404d-ce4f-b2afbdbec29d",
    "papermill": {
     "duration": 0.065212,
     "end_time": "2021-05-08T21:43:43.416151",
     "exception": false,
     "start_time": "2021-05-08T21:43:43.350939",
     "status": "completed"
    },
    "tags": []
   },
   "outputs": [
    {
     "name": "stdout",
     "output_type": "stream",
     "text": [
      "CUDA Version: 10.2\n",
      "cuDNN Version: 7605\n",
      "CUDA Device Name: Tesla T4\n",
      "CUDA Capabilities: (7, 5)\n",
      "Number of CUDA devices: 1\n",
      "\n",
      "PyTorch device selected: cuda\n"
     ]
    }
   ],
   "source": [
    "if torch.cuda.is_available():    \n",
    "    torch_device = torch.device('cuda')\n",
    "\n",
    "    # Set this to True to make your output immediately reproducible\n",
    "    # Note: https://pytorch.org/docs/stable/notes/randomness.html\n",
    "    torch.backends.cudnn.deterministic = True\n",
    "    \n",
    "    # Disable 'benchmark' mode: Set this False if you want to measure running times more fairly\n",
    "    # Note: https://discuss.pytorch.org/t/what-does-torch-backends-cudnn-benchmark-do/5936\n",
    "    torch.backends.cudnn.benchmark = False\n",
    "    \n",
    "    # Faster Host to GPU copies with page-locked memory\n",
    "    use_pin_memory = True\n",
    "    \n",
    "    # Number of compute devices to be used for training\n",
    "    training_device_count = torch.cuda.device_count()\n",
    "\n",
    "    # CUDA libraries version information\n",
    "    print(\"CUDA Version: \" + str(torch.version.cuda))\n",
    "    print(\"cuDNN Version: \" + str(torch.backends.cudnn.version()))\n",
    "    print(\"CUDA Device Name: \" + str(torch.cuda.get_device_name()))\n",
    "    print(\"CUDA Capabilities: \"+ str(torch.cuda.get_device_capability()))\n",
    "    print(\"Number of CUDA devices: \"+ str(training_device_count))\n",
    "    \n",
    "else:\n",
    "    torch_device = torch.device('cpu')\n",
    "    use_pin_memory = False\n",
    "    \n",
    "    # Number of compute devices to be used for training\n",
    "    training_device_count = 1\n",
    "\n",
    "print()\n",
    "print(\"PyTorch device selected:\", torch_device)"
   ]
  },
  {
   "cell_type": "markdown",
   "id": "c8e5f9fd",
   "metadata": {
    "id": "ayX5VRLfocFk",
    "papermill": {
     "duration": 0.022714,
     "end_time": "2021-05-08T21:43:43.462074",
     "exception": false,
     "start_time": "2021-05-08T21:43:43.439360",
     "status": "completed"
    },
    "tags": []
   },
   "source": [
    "# Prepare Datasets for Prompt-based Classifier"
   ]
  },
  {
   "cell_type": "markdown",
   "id": "c2b702cc",
   "metadata": {
    "id": "U9LAAJP-hbz7",
    "papermill": {
     "duration": 0.021375,
     "end_time": "2021-05-08T21:43:43.589274",
     "exception": false,
     "start_time": "2021-05-08T21:43:43.567899",
     "status": "completed"
    },
    "tags": []
   },
   "source": [
    "## Load the SemEval dataset"
   ]
  },
  {
   "cell_type": "code",
   "execution_count": 8,
   "id": "16a9283b",
   "metadata": {
    "colab": {
     "base_uri": "https://localhost:8080/"
    },
    "execution": {
     "iopub.execute_input": "2021-05-08T21:43:43.646648Z",
     "iopub.status.busy": "2021-05-08T21:43:43.645756Z",
     "iopub.status.idle": "2021-05-08T21:43:43.684167Z",
     "shell.execute_reply": "2021-05-08T21:43:43.684635Z"
    },
    "executionInfo": {
     "elapsed": 5575,
     "status": "ok",
     "timestamp": 1620418929895,
     "user": {
      "displayName": "Ronald Seoh",
      "photoUrl": "",
      "userId": "10284188050297676522"
     },
     "user_tz": 240
    },
    "id": "gpL2uHPUhbz9",
    "outputId": "41504d48-f3c5-4361-a055-e24d3046f9c8",
    "papermill": {
     "duration": 0.071592,
     "end_time": "2021-05-08T21:43:43.684837",
     "exception": false,
     "start_time": "2021-05-08T21:43:43.613245",
     "status": "completed"
    },
    "tags": []
   },
   "outputs": [
    {
     "name": "stderr",
     "output_type": "stream",
     "text": [
      "Reusing dataset sem_eval2014_task4_dataset (../dataset_cache/sem_eval2014_task4_dataset/SemEval2014Task4Dataset - Subtask 4/0.0.1/537edd3b5fdbdb1f3190419cf0a53a4fab3537bc666f17c8c75fa8d0b554e529)\n"
     ]
    }
   ],
   "source": [
    "# Load semeval for both domains\n",
    "restaurants_dataset = datasets.load_dataset(\n",
    "    os.path.abspath('../dataset_scripts/semeval2014_task4/semeval2014_task4.py'),\n",
    "    name=\"SemEval2014Task4Dataset - Subtask 4\",\n",
    "    data_files={\n",
    "        'test': '../dataset_files/semeval_2014/Restaurants_Test_Gold.xml',\n",
    "        'train': '../dataset_files/semeval_2014/Restaurants_Train_v2.xml',\n",
    "    },\n",
    "    cache_dir='../dataset_cache')"
   ]
  },
  {
   "cell_type": "code",
   "execution_count": 9,
   "id": "9b3d0458",
   "metadata": {
    "execution": {
     "iopub.execute_input": "2021-05-08T21:43:43.734598Z",
     "iopub.status.busy": "2021-05-08T21:43:43.732254Z",
     "iopub.status.idle": "2021-05-08T21:43:43.735773Z",
     "shell.execute_reply": "2021-05-08T21:43:43.736180Z"
    },
    "executionInfo": {
     "elapsed": 5565,
     "status": "ok",
     "timestamp": 1620418929898,
     "user": {
      "displayName": "Ronald Seoh",
      "photoUrl": "",
      "userId": "10284188050297676522"
     },
     "user_tz": 240
    },
    "id": "Gi5m8AbPj1iJ",
    "papermill": {
     "duration": 0.030267,
     "end_time": "2021-05-08T21:43:43.736347",
     "exception": false,
     "start_time": "2021-05-08T21:43:43.706080",
     "status": "completed"
    },
    "tags": []
   },
   "outputs": [],
   "source": [
    "# The dataset chosen for testing\n",
    "if testing_domain == 'restaurants':\n",
    "    test_set = restaurants_dataset['test']"
   ]
  },
  {
   "cell_type": "code",
   "execution_count": 10,
   "id": "92bacc0e",
   "metadata": {
    "colab": {
     "base_uri": "https://localhost:8080/"
    },
    "execution": {
     "iopub.execute_input": "2021-05-08T21:43:43.789721Z",
     "iopub.status.busy": "2021-05-08T21:43:43.788790Z",
     "iopub.status.idle": "2021-05-08T21:43:43.794720Z",
     "shell.execute_reply": "2021-05-08T21:43:43.794183Z"
    },
    "executionInfo": {
     "elapsed": 5557,
     "status": "ok",
     "timestamp": 1620418929901,
     "user": {
      "displayName": "Ronald Seoh",
      "photoUrl": "",
      "userId": "10284188050297676522"
     },
     "user_tz": 240
    },
    "id": "Est9ao9rcH4l",
    "outputId": "8487f46b-593a-43f6-b98c-eb559af8d169",
    "papermill": {
     "duration": 0.035255,
     "end_time": "2021-05-08T21:43:43.794932",
     "exception": false,
     "start_time": "2021-05-08T21:43:43.759677",
     "status": "completed"
    },
    "tags": []
   },
   "outputs": [
    {
     "name": "stdout",
     "output_type": "stream",
     "text": [
      "973\n"
     ]
    }
   ],
   "source": [
    "print(len(test_set))"
   ]
  },
  {
   "cell_type": "code",
   "execution_count": 11,
   "id": "faf9bbdf",
   "metadata": {
    "colab": {
     "base_uri": "https://localhost:8080/"
    },
    "execution": {
     "iopub.execute_input": "2021-05-08T21:43:43.848949Z",
     "iopub.status.busy": "2021-05-08T21:43:43.848274Z",
     "iopub.status.idle": "2021-05-08T21:43:43.851196Z",
     "shell.execute_reply": "2021-05-08T21:43:43.851638Z"
    },
    "executionInfo": {
     "elapsed": 5547,
     "status": "ok",
     "timestamp": 1620418929903,
     "user": {
      "displayName": "Ronald Seoh",
      "photoUrl": "",
      "userId": "10284188050297676522"
     },
     "user_tz": 240
    },
    "id": "_npZeCIqcKjT",
    "outputId": "8951acb2-32ca-4e07-e1cf-011aa6831a69",
    "papermill": {
     "duration": 0.035136,
     "end_time": "2021-05-08T21:43:43.851794",
     "exception": false,
     "start_time": "2021-05-08T21:43:43.816658",
     "status": "completed"
    },
    "tags": []
   },
   "outputs": [
    {
     "name": "stdout",
     "output_type": "stream",
     "text": [
      "{'aspect': 'ambience', 'sentiment': 0, 'text': 'Certainly not the best sushi in New York, however, it is always fresh, and the place is very clean, sterile.'}\n"
     ]
    }
   ],
   "source": [
    "print(test_set[4])"
   ]
  },
  {
   "cell_type": "markdown",
   "id": "4a0731f8",
   "metadata": {
    "id": "6TOMmAtIvoZ_",
    "papermill": {
     "duration": 0.030844,
     "end_time": "2021-05-08T21:43:43.906160",
     "exception": false,
     "start_time": "2021-05-08T21:43:43.875316",
     "status": "completed"
    },
    "tags": []
   },
   "source": [
    "# Zero-shot ATSC with Prompts"
   ]
  },
  {
   "cell_type": "markdown",
   "id": "f5ff6713",
   "metadata": {
    "id": "3jNAtuv-hbzv",
    "papermill": {
     "duration": 0.021652,
     "end_time": "2021-05-08T21:43:43.951327",
     "exception": false,
     "start_time": "2021-05-08T21:43:43.929675",
     "status": "completed"
    },
    "tags": []
   },
   "source": [
    "## Initialize BERT MLM"
   ]
  },
  {
   "cell_type": "code",
   "execution_count": 12,
   "id": "5b5e3ef6",
   "metadata": {
    "execution": {
     "iopub.execute_input": "2021-05-08T21:43:44.010822Z",
     "iopub.status.busy": "2021-05-08T21:43:44.009865Z",
     "iopub.status.idle": "2021-05-08T21:43:47.822213Z",
     "shell.execute_reply": "2021-05-08T21:43:47.821672Z"
    },
    "executionInfo": {
     "elapsed": 9973,
     "status": "ok",
     "timestamp": 1620418934341,
     "user": {
      "displayName": "Ronald Seoh",
      "photoUrl": "",
      "userId": "10284188050297676522"
     },
     "user_tz": 240
    },
    "id": "En2BmfjVhbzy",
    "papermill": {
     "duration": 3.843704,
     "end_time": "2021-05-08T21:43:47.822375",
     "exception": false,
     "start_time": "2021-05-08T21:43:43.978671",
     "status": "completed"
    },
    "tags": []
   },
   "outputs": [],
   "source": [
    "# Load pretrained language model\n",
    "# Use the config, but not the actual weights, from the pretrained model\n",
    "lm_config = transformers.AutoConfig.from_pretrained('bert-base-uncased', cache_dir='../bert_base_cache')\n",
    "lm = transformers.AutoModelForMaskedLM.from_config(lm_config)\n",
    "tokenizer = transformers.AutoTokenizer.from_pretrained('bert-base-uncased', cache_dir='../bert_base_cache')"
   ]
  },
  {
   "cell_type": "markdown",
   "id": "b1beb745",
   "metadata": {
    "id": "TEIbN5Xthb0o",
    "papermill": {
     "duration": 0.020627,
     "end_time": "2021-05-08T21:43:47.869591",
     "exception": false,
     "start_time": "2021-05-08T21:43:47.848964",
     "status": "completed"
    },
    "tags": []
   },
   "source": [
    "## Define a new model with non-trainable softmax head"
   ]
  },
  {
   "cell_type": "code",
   "execution_count": 13,
   "id": "1207b11e",
   "metadata": {
    "colab": {
     "base_uri": "https://localhost:8080/"
    },
    "execution": {
     "iopub.execute_input": "2021-05-08T21:43:47.931668Z",
     "iopub.status.busy": "2021-05-08T21:43:47.930798Z",
     "iopub.status.idle": "2021-05-08T21:43:51.078531Z",
     "shell.execute_reply": "2021-05-08T21:43:51.077987Z"
    },
    "executionInfo": {
     "elapsed": 12519,
     "status": "ok",
     "timestamp": 1620418936896,
     "user": {
      "displayName": "Ronald Seoh",
      "photoUrl": "",
      "userId": "10284188050297676522"
     },
     "user_tz": 240
    },
    "id": "wN3q4Rsopxby",
    "outputId": "f9336495-e129-4ca0-d311-6bc3c2f38c20",
    "papermill": {
     "duration": 3.178367,
     "end_time": "2021-05-08T21:43:51.078736",
     "exception": false,
     "start_time": "2021-05-08T21:43:47.900369",
     "status": "completed"
    },
    "tags": []
   },
   "outputs": [
    {
     "name": "stdout",
     "output_type": "stream",
     "text": [
      "[[2204, 2919, 7929]]\n",
      "Detected LM type: bert\n"
     ]
    }
   ],
   "source": [
    "# Encode the pseudo-label words for each sentiment class\n",
    "sentiment_word_ids = []\n",
    "\n",
    "for sp in sentiment_prompts:\n",
    "    sentiment_word_ids.append(\n",
    "        [tokenizer.convert_tokens_to_ids(w) for w in sp['labels']])\n",
    "\n",
    "print(sentiment_word_ids)\n",
    "\n",
    "classifier_model = utils.MultiPromptLogitSentimentClassificationHead(\n",
    "    lm=lm,\n",
    "    num_class=3,\n",
    "    num_prompts=len(sentiment_prompts), pseudo_label_words=sentiment_word_ids,\n",
    "    target_token_id=tokenizer.mask_token_id,\n",
    "    merge_behavior=prompts_merge_behavior,\n",
    "    perturb_prompts=prompts_perturb)\n",
    "\n",
    "classifier_model = classifier_model.to(device=torch_device)"
   ]
  },
  {
   "cell_type": "markdown",
   "id": "8fd7a6f8",
   "metadata": {
    "id": "1U6B5GNSYBYk",
    "papermill": {
     "duration": 0.021944,
     "end_time": "2021-05-08T21:43:51.123620",
     "exception": false,
     "start_time": "2021-05-08T21:43:51.101676",
     "status": "completed"
    },
    "tags": []
   },
   "source": [
    "## Load our saved weights"
   ]
  },
  {
   "cell_type": "code",
   "execution_count": 14,
   "id": "4940082a",
   "metadata": {
    "colab": {
     "base_uri": "https://localhost:8080/"
    },
    "execution": {
     "iopub.execute_input": "2021-05-08T21:43:51.182658Z",
     "iopub.status.busy": "2021-05-08T21:43:51.181631Z",
     "iopub.status.idle": "2021-05-08T21:43:58.384438Z",
     "shell.execute_reply": "2021-05-08T21:43:58.383973Z"
    },
    "executionInfo": {
     "elapsed": 14206,
     "status": "ok",
     "timestamp": 1620418938595,
     "user": {
      "displayName": "Ronald Seoh",
      "photoUrl": "",
      "userId": "10284188050297676522"
     },
     "user_tz": 240
    },
    "id": "gLo25nUcYBGx",
    "outputId": "f5fef2db-f954-4d65-b4c9-c8e93a269b5d",
    "papermill": {
     "duration": 7.235687,
     "end_time": "2021-05-08T21:43:58.384607",
     "exception": false,
     "start_time": "2021-05-08T21:43:51.148920",
     "status": "completed"
    },
    "tags": []
   },
   "outputs": [
    {
     "name": "stdout",
     "output_type": "stream",
     "text": [
      "Loading epoch_18.pt\n"
     ]
    },
    {
     "data": {
      "text/plain": [
       "<All keys matched successfully>"
      ]
     },
     "execution_count": 14,
     "metadata": {},
     "output_type": "execute_result"
    }
   ],
   "source": [
    "# Locate the weight file.\n",
    "trained_model_directory = os.path.join('..', 'trained_models_prompts', experiment_id)\n",
    "\n",
    "saved_weights_name = ''\n",
    "\n",
    "for fname in os.listdir(trained_model_directory):\n",
    "    if fname.startswith('epoch'):\n",
    "        saved_weights_name = fname\n",
    "        break\n",
    "\n",
    "print(\"Loading\", saved_weights_name)\n",
    "\n",
    "classifier_model.load_state_dict(torch.load(\n",
    "    os.path.join(trained_model_directory, saved_weights_name),\n",
    "    map_location=torch_device))"
   ]
  },
  {
   "cell_type": "markdown",
   "id": "0c74bb32",
   "metadata": {
    "id": "1l1H_XIPhb0y",
    "papermill": {
     "duration": 0.023947,
     "end_time": "2021-05-08T21:43:58.435662",
     "exception": false,
     "start_time": "2021-05-08T21:43:58.411715",
     "status": "completed"
    },
    "tags": []
   },
   "source": [
    "## Evaluation with in-domain test set\n",
    "\n"
   ]
  },
  {
   "cell_type": "code",
   "execution_count": 15,
   "id": "253ddbb5",
   "metadata": {
    "execution": {
     "iopub.execute_input": "2021-05-08T21:43:58.490290Z",
     "iopub.status.busy": "2021-05-08T21:43:58.488676Z",
     "iopub.status.idle": "2021-05-08T21:43:58.493635Z",
     "shell.execute_reply": "2021-05-08T21:43:58.493193Z"
    },
    "executionInfo": {
     "elapsed": 14198,
     "status": "ok",
     "timestamp": 1620418938597,
     "user": {
      "displayName": "Ronald Seoh",
      "photoUrl": "",
      "userId": "10284188050297676522"
     },
     "user_tz": 240
    },
    "id": "0S80DoYrqApi",
    "papermill": {
     "duration": 0.031128,
     "end_time": "2021-05-08T21:43:58.493772",
     "exception": false,
     "start_time": "2021-05-08T21:43:58.462644",
     "status": "completed"
    },
    "tags": []
   },
   "outputs": [],
   "source": [
    "def compute_metrics(predictions, labels):\n",
    "    preds = predictions.argmax(-1)\n",
    "\n",
    "    precision, recall, f1, _ = sklearn.metrics.precision_recall_fscore_support(\n",
    "        y_true=labels, y_pred=preds, labels=[0,1,2], average='macro')\n",
    "\n",
    "    acc = sklearn.metrics.accuracy_score(labels, preds)\n",
    "\n",
    "    return {\n",
    "        'accuracy': acc,\n",
    "        'f1': f1,\n",
    "        'precision': precision,\n",
    "        'recall': recall\n",
    "    }"
   ]
  },
  {
   "cell_type": "code",
   "execution_count": 16,
   "id": "837767a9",
   "metadata": {
    "execution": {
     "iopub.execute_input": "2021-05-08T21:43:58.549192Z",
     "iopub.status.busy": "2021-05-08T21:43:58.548385Z",
     "iopub.status.idle": "2021-05-08T21:43:58.552359Z",
     "shell.execute_reply": "2021-05-08T21:43:58.551878Z"
    },
    "executionInfo": {
     "elapsed": 14193,
     "status": "ok",
     "timestamp": 1620418938599,
     "user": {
      "displayName": "Ronald Seoh",
      "photoUrl": "",
      "userId": "10284188050297676522"
     },
     "user_tz": 240
    },
    "id": "9NXoBTs5h2eO",
    "papermill": {
     "duration": 0.035121,
     "end_time": "2021-05-08T21:43:58.552538",
     "exception": false,
     "start_time": "2021-05-08T21:43:58.517417",
     "status": "completed"
    },
    "tags": []
   },
   "outputs": [],
   "source": [
    "test_dataloader = torch.utils.data.DataLoader(\n",
    "    test_set, batch_size=testing_batch_size, pin_memory=use_pin_memory)"
   ]
  },
  {
   "cell_type": "code",
   "execution_count": 17,
   "id": "48ccea68",
   "metadata": {
    "colab": {
     "base_uri": "https://localhost:8080/",
     "height": 104,
     "referenced_widgets": [
      "8bc7129ea76340a494cc7916b037c052",
      "5704871af06f4221b051f07f65c7e74a",
      "1ee6f145ba0e4da09d2d31bf1967da8d",
      "ce70f9442d0240118f9f76c3a485e383",
      "65ff039fa4f94365bd0d070c5f22be61",
      "5f1b30eb632447ccad493dc94bb2e168",
      "ac65a5f115be49628880b6582b47d873",
      "31348e5edcad45d4a8559cdd6b677ee2"
     ]
    },
    "execution": {
     "iopub.execute_input": "2021-05-08T21:43:58.632158Z",
     "iopub.status.busy": "2021-05-08T21:43:58.612094Z",
     "iopub.status.idle": "2021-05-08T21:44:17.149945Z",
     "shell.execute_reply": "2021-05-08T21:44:17.149474Z"
    },
    "executionInfo": {
     "elapsed": 95055,
     "status": "ok",
     "timestamp": 1620419019471,
     "user": {
      "displayName": "Ronald Seoh",
      "photoUrl": "",
      "userId": "10284188050297676522"
     },
     "user_tz": 240
    },
    "id": "LLcc_wZjhb0y",
    "outputId": "16de918b-7858-4cf6-d7b5-5194affd2151",
    "papermill": {
     "duration": 18.574732,
     "end_time": "2021-05-08T21:44:17.150092",
     "exception": false,
     "start_time": "2021-05-08T21:43:58.575360",
     "status": "completed"
    },
    "tags": []
   },
   "outputs": [
    {
     "data": {
      "application/vnd.jupyter.widget-view+json": {
       "model_id": "06096f090b2949a78fd4ba84fa63d2bf",
       "version_major": 2,
       "version_minor": 0
      },
      "text/plain": [
       "HBox(children=(FloatProgress(value=0.0, max=31.0), HTML(value='')))"
      ]
     },
     "metadata": {},
     "output_type": "display_data"
    },
    {
     "name": "stdout",
     "output_type": "stream",
     "text": [
      "\n",
      "{'accuracy': 0.7985611510791367, 'f1': 0.5433268955116645, 'precision': 0.5569986253871874, 'recall': 0.544388311365869}\n"
     ]
    }
   ],
   "source": [
    "with torch.no_grad():\n",
    "    classifier_model.eval()\n",
    "\n",
    "    predictions_test = torch.Tensor([])\n",
    "    labels_test = torch.Tensor([])\n",
    "\n",
    "    for batch_val in tqdm.notebook.tqdm(test_dataloader):\n",
    "\n",
    "        reviews_repeated = []\n",
    "        prompts_populated = []\n",
    "\n",
    "        for prompt in sentiment_prompts:\n",
    "            reviews_repeated = reviews_repeated + batch_val[\"text\"]\n",
    "\n",
    "            for aspect in batch_val[\"aspect\"]:\n",
    "                prompts_populated.append(prompt['prompt'].format(aspect=aspect))\n",
    "\n",
    "        batch_encoded = tokenizer(\n",
    "            reviews_repeated, prompts_populated,\n",
    "            padding='max_length', truncation='only_first', max_length=256,\n",
    "            return_tensors='pt')\n",
    "        \n",
    "        batch_encoded.to(torch_device)\n",
    "\n",
    "        labels = batch_val[\"sentiment\"]\n",
    "\n",
    "        outputs = classifier_model(batch_encoded)\n",
    "\n",
    "        outputs = outputs.to('cpu')\n",
    "\n",
    "        predictions_test = torch.cat([predictions_test, outputs])\n",
    "        labels_test = torch.cat([labels_test, labels])\n",
    "\n",
    "    # Compute metrics\n",
    "    test_metrics = compute_metrics(predictions_test, labels_test)\n",
    "\n",
    "    print(test_metrics)\n",
    "\n",
    "    # Save test_metrics into a file for later processing\n",
    "    with open(os.path.join(trained_model_directory, 'test_metrics_subtask4.json'), 'w') as test_metrics_json:\n",
    "        json.dump(test_metrics, test_metrics_json)"
   ]
  },
  {
   "cell_type": "markdown",
   "id": "6decf8b6",
   "metadata": {
    "id": "HjpA_0m1hb08",
    "papermill": {
     "duration": 0.024259,
     "end_time": "2021-05-08T21:44:17.200360",
     "exception": false,
     "start_time": "2021-05-08T21:44:17.176101",
     "status": "completed"
    },
    "tags": []
   },
   "source": [
    "## Results visualization"
   ]
  },
  {
   "cell_type": "code",
   "execution_count": 18,
   "id": "b3eb4897",
   "metadata": {
    "colab": {
     "base_uri": "https://localhost:8080/",
     "height": 442
    },
    "execution": {
     "iopub.execute_input": "2021-05-08T21:44:17.254923Z",
     "iopub.status.busy": "2021-05-08T21:44:17.254100Z",
     "iopub.status.idle": "2021-05-08T21:44:17.482134Z",
     "shell.execute_reply": "2021-05-08T21:44:17.481594Z"
    },
    "executionInfo": {
     "elapsed": 95048,
     "status": "ok",
     "timestamp": 1620419019476,
     "user": {
      "displayName": "Ronald Seoh",
      "photoUrl": "",
      "userId": "10284188050297676522"
     },
     "user_tz": 240
    },
    "id": "w9G9AUeQhb09",
    "outputId": "06eb5449-2881-43c4-98b5-ad2cee1f476f",
    "papermill": {
     "duration": 0.254801,
     "end_time": "2021-05-08T21:44:17.482283",
     "exception": false,
     "start_time": "2021-05-08T21:44:17.227482",
     "status": "completed"
    },
    "tags": []
   },
   "outputs": [
    {
     "data": {
      "image/png": "[encoded data removed]",
      "text/plain": [
       "<Figure size 720x504 with 2 Axes>"
      ]
     },
     "metadata": {
      "needs_background": "light"
     },
     "output_type": "display_data"
    }
   ],
   "source": [
    "# Calculate metrics and confusion matrix based upon predictions and true labels\n",
    "cm = sklearn.metrics.confusion_matrix(labels_test.detach().numpy(), predictions_test.detach().numpy().argmax(-1))\n",
    "\n",
    "df_cm = pd.DataFrame(\n",
    "    cm,\n",
    "    index=[i for i in [\"positive\", \"negative\", \"neutral\"]],\n",
    "    columns=[i for i in [\"positive\", \"negative\", \"neutral\"]])\n",
    "\n",
    "plt.figure(figsize=(10, 7))\n",
    "\n",
    "ax = sn.heatmap(df_cm, annot=True)\n",
    "\n",
    "ax.set(xlabel='Predicted Label', ylabel='True Label')\n",
    "plt.show()"
   ]
  },
  {
   "cell_type": "code",
   "execution_count": null,
   "id": "202464ad",
   "metadata": {
    "executionInfo": {
     "elapsed": 95047,
     "status": "ok",
     "timestamp": 1620419019482,
     "user": {
      "displayName": "Ronald Seoh",
      "photoUrl": "",
      "userId": "10284188050297676522"
     },
     "user_tz": 240
    },
    "id": "4Wo_Yk0LY37d",
    "papermill": {
     "duration": 0.030442,
     "end_time": "2021-05-08T21:44:17.541446",
     "exception": false,
     "start_time": "2021-05-08T21:44:17.511004",
     "status": "completed"
    },
    "tags": []
   },
   "outputs": [],
   "source": []
  }
 ],
 "metadata": {
  "accelerator": "GPU",
  "celltoolbar": "Tags",
  "colab": {
   "collapsed_sections": [],
   "name": "bert_zero_shot_prompt_logit_softmax_subtask4.ipynb",
   "provenance": [],
   "toc_visible": true
  },
  "kernelspec": {
   "display_name": "Python 3",
   "language": "python",
   "name": "python3"
  },
  "language_info": {
   "codemirror_mode": {
    "name": "ipython",
    "version": 3
   },
   "file_extension": ".py",
   "mimetype": "text/x-python",
   "name": "python",
   "nbconvert_exporter": "python",
   "pygments_lexer": "ipython3",
   "version": "3.7.10"
  },
  "papermill": {
   "default_parameters": {},
   "duration": 38.34703,
   "end_time": "2021-05-08T21:44:18.276309",
   "environment_variables": {},
   "exception": null,
   "input_path": "bert_prompt_logit_softmax_subtask4.ipynb",
   "output_path": "results_bert_256_shot_prompt_logit_softmax_atsc_restaurants/bert_256_shot_prompt_logit_softmax_atsc_restaurants_bert-base-uncased_single_prompt_the_aspect_is_683.ipynb",
   "parameters": {
    "experiment_id": "bert_256_shot_prompt_logit_softmax_atsc_restaurants_bert-base-uncased_single_prompt_the_aspect_is_683",
    "lm_model_path": "bert-base-uncased",
    "prompts_merge_behavior": "sum_logits",
    "prompts_perturb": false,
    "random_seed": 683,
    "sentiment_prompts": [
     {
      "labels": [
       "good",
       "bad",
       "ok"
      ],
      "prompt": "The {aspect} is [MASK]."
     }
    ],
    "testing_batch_size": 32,
    "testing_domain": "restaurants"
   },
   "start_time": "2021-05-08T21:43:39.929279",
   "version": "2.3.2"
  },
  "widgets": {
   "application/vnd.jupyter.widget-state+json": {
    "state": {
     "06096f090b2949a78fd4ba84fa63d2bf": {
      "model_module": "@jupyter-widgets/controls",
      "model_module_version": "1.5.0",
      "model_name": "HBoxModel",
      "state": {
       "_dom_classes": [],
       "_model_module": "@jupyter-widgets/controls",
       "_model_module_version": "1.5.0",
       "_model_name": "HBoxModel",
       "_view_count": null,
       "_view_module": "@jupyter-widgets/controls",
       "_view_module_version": "1.5.0",
       "_view_name": "HBoxView",
       "box_style": "",
       "children": [
        "IPY_MODEL_b7a3135c1cfe455b98c2afd627b4fd93",
        "IPY_MODEL_1fcaf23cf9c54375b5fa3b664f2501e4"
       ],
       "layout": "IPY_MODEL_0ebaccb0c27d470aa443a03359e0e519"
      }
     },
     "0ebaccb0c27d470aa443a03359e0e519": {
      "model_module": "@jupyter-widgets/base",
      "model_module_version": "1.2.0",
      "model_name": "LayoutModel",
      "state": {
       "_model_module": "@jupyter-widgets/base",
       "_model_module_version": "1.2.0",
       "_model_name": "LayoutModel",
       "_view_count": null,
       "_view_module": "@jupyter-widgets/base",
       "_view_module_version": "1.2.0",
       "_view_name": "LayoutView",
       "align_content": null,
       "align_items": null,
       "align_self": null,
       "border": null,
       "bottom": null,
       "display": null,
       "flex": null,
       "flex_flow": null,
       "grid_area": null,
       "grid_auto_columns": null,
       "grid_auto_flow": null,
       "grid_auto_rows": null,
       "grid_column": null,
       "grid_gap": null,
       "grid_row": null,
       "grid_template_areas": null,
       "grid_template_columns": null,
       "grid_template_rows": null,
       "height": null,
       "justify_content": null,
       "justify_items": null,
       "left": null,
       "margin": null,
       "max_height": null,
       "max_width": null,
       "min_height": null,
       "min_width": null,
       "object_fit": null,
       "object_position": null,
       "order": null,
       "overflow": null,
       "overflow_x": null,
       "overflow_y": null,
       "padding": null,
       "right": null,
       "top": null,
       "visibility": null,
       "width": null
      }
     },
     "1fcaf23cf9c54375b5fa3b664f2501e4": {
      "model_module": "@jupyter-widgets/controls",
      "model_module_version": "1.5.0",
      "model_name": "HTMLModel",
      "state": {
       "_dom_classes": [],
       "_model_module": "@jupyter-widgets/controls",
       "_model_module_version": "1.5.0",
       "_model_name": "HTMLModel",
       "_view_count": null,
       "_view_module": "@jupyter-widgets/controls",
       "_view_module_version": "1.5.0",
       "_view_name": "HTMLView",
       "description": "",
       "description_tooltip": null,
       "layout": "IPY_MODEL_dd528ace1d3c4334b37faea5ab43d8cc",
       "placeholder": "​",
       "style": "IPY_MODEL_d76b2d1eb545472a94ccc87d2131424c",
       "value": " 31/31 [00:18&lt;00:00,  1.66it/s]"
      }
     },
     "3a573ca421984e4392d819beacbc064f": {
      "model_module": "@jupyter-widgets/base",
      "model_module_version": "1.2.0",
      "model_name": "LayoutModel",
      "state": {
       "_model_module": "@jupyter-widgets/base",
       "_model_module_version": "1.2.0",
       "_model_name": "LayoutModel",
       "_view_count": null,
       "_view_module": "@jupyter-widgets/base",
       "_view_module_version": "1.2.0",
       "_view_name": "LayoutView",
       "align_content": null,
       "align_items": null,
       "align_self": null,
       "border": null,
       "bottom": null,
       "display": null,
       "flex": null,
       "flex_flow": null,
       "grid_area": null,
       "grid_auto_columns": null,
       "grid_auto_flow": null,
       "grid_auto_rows": null,
       "grid_column": null,
       "grid_gap": null,
       "grid_row": null,
       "grid_template_areas": null,
       "grid_template_columns": null,
       "grid_template_rows": null,
       "height": null,
       "justify_content": null,
       "justify_items": null,
       "left": null,
       "margin": null,
       "max_height": null,
       "max_width": null,
       "min_height": null,
       "min_width": null,
       "object_fit": null,
       "object_position": null,
       "order": null,
       "overflow": null,
       "overflow_x": null,
       "overflow_y": null,
       "padding": null,
       "right": null,
       "top": null,
       "visibility": null,
       "width": null
      }
     },
     "b7a3135c1cfe455b98c2afd627b4fd93": {
      "model_module": "@jupyter-widgets/controls",
      "model_module_version": "1.5.0",
      "model_name": "FloatProgressModel",
      "state": {
       "_dom_classes": [],
       "_model_module": "@jupyter-widgets/controls",
       "_model_module_version": "1.5.0",
       "_model_name": "FloatProgressModel",
       "_view_count": null,
       "_view_module": "@jupyter-widgets/controls",
       "_view_module_version": "1.5.0",
       "_view_name": "ProgressView",
       "bar_style": "success",
       "description": "100%",
       "description_tooltip": null,
       "layout": "IPY_MODEL_3a573ca421984e4392d819beacbc064f",
       "max": 31.0,
       "min": 0.0,
       "orientation": "horizontal",
       "style": "IPY_MODEL_c62c860501a24cbb9a6c92f4f15e28f0",
       "value": 31.0
      }
     },
     "c62c860501a24cbb9a6c92f4f15e28f0": {
      "model_module": "@jupyter-widgets/controls",
      "model_module_version": "1.5.0",
      "model_name": "ProgressStyleModel",
      "state": {
       "_model_module": "@jupyter-widgets/controls",
       "_model_module_version": "1.5.0",
       "_model_name": "ProgressStyleModel",
       "_view_count": null,
       "_view_module": "@jupyter-widgets/base",
       "_view_module_version": "1.2.0",
       "_view_name": "StyleView",
       "bar_color": null,
       "description_width": "initial"
      }
     },
     "d76b2d1eb545472a94ccc87d2131424c": {
      "model_module": "@jupyter-widgets/controls",
      "model_module_version": "1.5.0",
      "model_name": "DescriptionStyleModel",
      "state": {
       "_model_module": "@jupyter-widgets/controls",
       "_model_module_version": "1.5.0",
       "_model_name": "DescriptionStyleModel",
       "_view_count": null,
       "_view_module": "@jupyter-widgets/base",
       "_view_module_version": "1.2.0",
       "_view_name": "StyleView",
       "description_width": ""
      }
     },
     "dd528ace1d3c4334b37faea5ab43d8cc": {
      "model_module": "@jupyter-widgets/base",
      "model_module_version": "1.2.0",
      "model_name": "LayoutModel",
      "state": {
       "_model_module": "@jupyter-widgets/base",
       "_model_module_version": "1.2.0",
       "_model_name": "LayoutModel",
       "_view_count": null,
       "_view_module": "@jupyter-widgets/base",
       "_view_module_version": "1.2.0",
       "_view_name": "LayoutView",
       "align_content": null,
       "align_items": null,
       "align_self": null,
       "border": null,
       "bottom": null,
       "display": null,
       "flex": null,
       "flex_flow": null,
       "grid_area": null,
       "grid_auto_columns": null,
       "grid_auto_flow": null,
       "grid_auto_rows": null,
       "grid_column": null,
       "grid_gap": null,
       "grid_row": null,
       "grid_template_areas": null,
       "grid_template_columns": null,
       "grid_template_rows": null,
       "height": null,
       "justify_content": null,
       "justify_items": null,
       "left": null,
       "margin": null,
       "max_height": null,
       "max_width": null,
       "min_height": null,
       "min_width": null,
       "object_fit": null,
       "object_position": null,
       "order": null,
       "overflow": null,
       "overflow_x": null,
       "overflow_y": null,
       "padding": null,
       "right": null,
       "top": null,
       "visibility": null,
       "width": null
      }
     }
    },
    "version_major": 2,
    "version_minor": 0
   }
  }
 },
 "nbformat": 4,
 "nbformat_minor": 5
}