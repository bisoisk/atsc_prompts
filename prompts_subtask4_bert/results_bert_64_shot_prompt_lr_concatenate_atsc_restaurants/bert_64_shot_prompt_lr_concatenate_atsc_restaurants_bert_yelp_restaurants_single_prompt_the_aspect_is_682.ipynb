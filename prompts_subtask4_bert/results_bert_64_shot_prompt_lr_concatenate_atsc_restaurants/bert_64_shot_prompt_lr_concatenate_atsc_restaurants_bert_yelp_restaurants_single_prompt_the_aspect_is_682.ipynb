{
 "cells": [
  {
   "cell_type": "markdown",
   "id": "numerous-thomas",
   "metadata": {
    "id": "xf3lVTZYhbzA",
    "papermill": {
     "duration": 0.0376,
     "end_time": "2021-05-09T01:46:59.170588",
     "exception": false,
     "start_time": "2021-05-09T01:46:59.132988",
     "status": "completed"
    },
    "tags": []
   },
   "source": [
    "# Initial Setups"
   ]
  },
  {
   "cell_type": "markdown",
   "id": "competent-native",
   "metadata": {
    "id": "2ORFXeezn5Og",
    "papermill": {
     "duration": 0.018775,
     "end_time": "2021-05-09T01:46:59.210766",
     "exception": false,
     "start_time": "2021-05-09T01:46:59.191991",
     "status": "completed"
    },
    "tags": []
   },
   "source": [
    "## (Google Colab use only)"
   ]
  },
  {
   "cell_type": "code",
   "execution_count": 1,
   "id": "stupid-dryer",
   "metadata": {
    "colab": {
     "base_uri": "https://localhost:8080/"
    },
    "execution": {
     "iopub.execute_input": "2021-05-09T01:46:59.273070Z",
     "iopub.status.busy": "2021-05-09T01:46:59.272161Z",
     "iopub.status.idle": "2021-05-09T01:46:59.278066Z",
     "shell.execute_reply": "2021-05-09T01:46:59.276747Z"
    },
    "executionInfo": {
     "elapsed": 3570,
     "status": "ok",
     "timestamp": 1620418927808,
     "user": {
      "displayName": "Ronald Seoh",
      "photoUrl": "",
      "userId": "10284188050297676522"
     },
     "user_tz": 240
    },
    "id": "YFAQ6IgXn8FK",
    "outputId": "25f6ccd2-93f3-4714-9551-e47ee5916705",
    "papermill": {
     "duration": 0.047962,
     "end_time": "2021-05-09T01:46:59.278367",
     "exception": false,
     "start_time": "2021-05-09T01:46:59.230405",
     "status": "completed"
    },
    "tags": []
   },
   "outputs": [],
   "source": [
    "# Use Google Colab\n",
    "use_colab = False\n",
    "\n",
    "# Is this notebook running on Colab?\n",
    "# If so, then google.colab package (github.com/googlecolab/colabtools)\n",
    "# should be available in this environment\n",
    "\n",
    "# Previous version used importlib, but we could do the same thing with\n",
    "# just attempting to import google.colab\n",
    "try:\n",
    "    from google.colab import drive\n",
    "    colab_available = True\n",
    "except:\n",
    "    colab_available = False\n",
    "\n",
    "if use_colab and colab_available:\n",
    "    drive.mount('/content/drive')\n",
    "\n",
    "    # cd to the appropriate working directory under my Google Drive\n",
    "    %cd '/content/drive/My Drive/cs696ds_lexalytics/Ronald Gypsum Prompts'\n",
    "    \n",
    "    # Install packages specified in requirements\n",
    "    !pip install -r requirements.txt\n",
    "\n",
    "    %cd 'prompts_subtask4'\n",
    "    \n",
    "    # List the directory contents\n",
    "    !ls"
   ]
  },
  {
   "cell_type": "markdown",
   "id": "skilled-customer",
   "metadata": {
    "id": "tgzsHF7Zhbzo",
    "papermill": {
     "duration": 0.018616,
     "end_time": "2021-05-09T01:46:59.332229",
     "exception": false,
     "start_time": "2021-05-09T01:46:59.313613",
     "status": "completed"
    },
    "tags": []
   },
   "source": [
    "## Experiment parameters"
   ]
  },
  {
   "cell_type": "code",
   "execution_count": 2,
   "id": "gorgeous-anthony",
   "metadata": {
    "execution": {
     "iopub.execute_input": "2021-05-09T01:46:59.384889Z",
     "iopub.status.busy": "2021-05-09T01:46:59.384368Z",
     "iopub.status.idle": "2021-05-09T01:46:59.388013Z",
     "shell.execute_reply": "2021-05-09T01:46:59.388516Z"
    },
    "id": "DUpGBmOJhbzs",
    "papermill": {
     "duration": 0.033231,
     "end_time": "2021-05-09T01:46:59.388699",
     "exception": false,
     "start_time": "2021-05-09T01:46:59.355468",
     "status": "completed"
    },
    "tags": [
     "parameters"
    ]
   },
   "outputs": [],
   "source": [
    "# We will use the following string ID to identify this particular (training) experiments\n",
    "# in directory paths and other settings\n",
    "experiment_id = 'bert_prompt_lr_atsc_laptops_bert-base-uncased_multiple_prompts'\n",
    "\n",
    "# Random seed\n",
    "random_seed = 696\n",
    "\n",
    "# path to pretrained MLM model folder or the string \"bert-base-uncased\"\n",
    "lm_model_path = \"bert-base-uncased\"\n",
    "\n",
    "# Prompts to be added to the end of each review text\n",
    "sentiment_prompts = [\n",
    "    \"The {aspect} is [MASK].\",\n",
    "    \"I [MASK] the {aspect}.\",\n",
    "    \"I felt the {aspect} was [MASK].\",\n",
    "    \"The {aspect} made me feel [MASK].\"]\n",
    "\n",
    "# Multiple prompt merging behavior\n",
    "prompts_merge_behavior = 'concatenate'\n",
    "\n",
    "# Perturb the input embeddings of tokens within the prompts\n",
    "prompts_perturb = False\n",
    "\n",
    "# Test settings\n",
    "testing_batch_size = 32\n",
    "testing_domain = 'restaurants' # 'laptops', 'restaurants', 'joint'"
   ]
  },
  {
   "cell_type": "code",
   "execution_count": 3,
   "id": "final-martial",
   "metadata": {
    "execution": {
     "iopub.execute_input": "2021-05-09T01:46:59.448260Z",
     "iopub.status.busy": "2021-05-09T01:46:59.447671Z",
     "iopub.status.idle": "2021-05-09T01:46:59.452420Z",
     "shell.execute_reply": "2021-05-09T01:46:59.451743Z"
    },
    "papermill": {
     "duration": 0.038209,
     "end_time": "2021-05-09T01:46:59.452601",
     "exception": false,
     "start_time": "2021-05-09T01:46:59.414392",
     "status": "completed"
    },
    "tags": [
     "injected-parameters"
    ]
   },
   "outputs": [],
   "source": [
    "# Parameters\n",
    "experiment_id = \"bert_64_shot_prompt_lr_concatenate_atsc_restaurants_bert_yelp_restaurants_single_prompt_the_aspect_is_682\"\n",
    "random_seed = 682\n",
    "lm_model_path = \"../trained_models/lm_further_pretraining_bert_yelp_restaurants_bseoh_2021-03-22--15_03_31\"\n",
    "sentiment_prompts = [\"The {aspect} is [MASK].\"]\n",
    "testing_batch_size = 32\n",
    "testing_domain = \"restaurants\"\n",
    "prompts_merge_behavior = \"concatenate\"\n",
    "prompts_perturb = False\n"
   ]
  },
  {
   "cell_type": "code",
   "execution_count": 4,
   "id": "pharmaceutical-preparation",
   "metadata": {
    "execution": {
     "iopub.execute_input": "2021-05-09T01:46:59.503131Z",
     "iopub.status.busy": "2021-05-09T01:46:59.502631Z",
     "iopub.status.idle": "2021-05-09T01:46:59.506079Z",
     "shell.execute_reply": "2021-05-09T01:46:59.506475Z"
    },
    "id": "AtJhBPXMY36f",
    "papermill": {
     "duration": 0.027925,
     "end_time": "2021-05-09T01:46:59.506631",
     "exception": false,
     "start_time": "2021-05-09T01:46:59.478706",
     "status": "completed"
    },
    "tags": []
   },
   "outputs": [],
   "source": [
    "# Batch size adjustment for multiple prompts.\n",
    "testing_batch_size = testing_batch_size // len(sentiment_prompts)"
   ]
  },
  {
   "cell_type": "code",
   "execution_count": 5,
   "id": "imported-syntax",
   "metadata": {
    "colab": {
     "base_uri": "https://localhost:8080/"
    },
    "execution": {
     "iopub.execute_input": "2021-05-09T01:46:59.555321Z",
     "iopub.status.busy": "2021-05-09T01:46:59.554827Z",
     "iopub.status.idle": "2021-05-09T01:46:59.559989Z",
     "shell.execute_reply": "2021-05-09T01:46:59.560496Z"
    },
    "executionInfo": {
     "elapsed": 3546,
     "status": "ok",
     "timestamp": 1620418927824,
     "user": {
      "displayName": "Ronald Seoh",
      "photoUrl": "",
      "userId": "10284188050297676522"
     },
     "user_tz": 240
    },
    "id": "keCSh__SY36i",
    "outputId": "7d83760a-ac16-481c-c9e4-6633f493b37d",
    "papermill": {
     "duration": 0.030798,
     "end_time": "2021-05-09T01:46:59.560678",
     "exception": false,
     "start_time": "2021-05-09T01:46:59.529880",
     "status": "completed"
    },
    "tags": []
   },
   "outputs": [
    {
     "name": "stdout",
     "output_type": "stream",
     "text": [
      "Experiment ID: bert_64_shot_prompt_lr_concatenate_atsc_restaurants_bert_yelp_restaurants_single_prompt_the_aspect_is_682\n"
     ]
    }
   ],
   "source": [
    "print(\"Experiment ID:\", experiment_id)"
   ]
  },
  {
   "cell_type": "markdown",
   "id": "surgical-realtor",
   "metadata": {
    "id": "GYZesqTioMvF",
    "papermill": {
     "duration": 0.018622,
     "end_time": "2021-05-09T01:46:59.602309",
     "exception": false,
     "start_time": "2021-05-09T01:46:59.583687",
     "status": "completed"
    },
    "tags": []
   },
   "source": [
    "## Package imports"
   ]
  },
  {
   "cell_type": "code",
   "execution_count": 6,
   "id": "alpha-approach",
   "metadata": {
    "colab": {
     "base_uri": "https://localhost:8080/"
    },
    "execution": {
     "iopub.execute_input": "2021-05-09T01:46:59.657921Z",
     "iopub.status.busy": "2021-05-09T01:46:59.657260Z",
     "iopub.status.idle": "2021-05-09T01:47:02.927537Z",
     "shell.execute_reply": "2021-05-09T01:47:02.928910Z"
    },
    "executionInfo": {
     "elapsed": 5595,
     "status": "ok",
     "timestamp": 1620418929888,
     "user": {
      "displayName": "Ronald Seoh",
      "photoUrl": "",
      "userId": "10284188050297676522"
     },
     "user_tz": 240
    },
    "id": "MlK_-DrWhbzb",
    "outputId": "5854fa11-ce1f-49a2-a493-6d6b1fb92423",
    "papermill": {
     "duration": 3.306973,
     "end_time": "2021-05-09T01:47:02.929381",
     "exception": false,
     "start_time": "2021-05-09T01:46:59.622408",
     "status": "completed"
    },
    "tags": []
   },
   "outputs": [
    {
     "name": "stderr",
     "output_type": "stream",
     "text": [
      "Intel(R) oneAPI Data Analytics Library solvers for sklearn enabled: https://intelpython.github.io/daal4py/sklearn.html\n"
     ]
    },
    {
     "name": "stdout",
     "output_type": "stream",
     "text": [
      "Python version: 3.7.9 (default, Nov  4 2020, 21:30:07) \n",
      "[GCC 7.3.0]\n",
      "NumPy version: 1.19.2\n",
      "PyTorch version: 1.7.1\n",
      "Transformers version: 4.3.3\n"
     ]
    }
   ],
   "source": [
    "import sys\n",
    "import os\n",
    "import random\n",
    "import shutil\n",
    "import copy\n",
    "import inspect\n",
    "import json\n",
    "\n",
    "import numpy as np\n",
    "import torch\n",
    "import transformers\n",
    "import datasets\n",
    "import sklearn.metrics\n",
    "import pandas as pd\n",
    "import matplotlib.pyplot as plt\n",
    "import seaborn as sn\n",
    "import tqdm\n",
    "\n",
    "current_dir = os.path.dirname(os.path.abspath(inspect.getfile(inspect.currentframe())))\n",
    "parent_dir = os.path.dirname(current_dir)\n",
    "sys.path.append(parent_dir)\n",
    "\n",
    "import utils\n",
    "\n",
    "# Random seed settings\n",
    "random.seed(random_seed)\n",
    "np.random.seed(random_seed)\n",
    "\n",
    "# cuBLAS reproducibility\n",
    "# https://docs.nvidia.com/cuda/cublas/index.html#cublasApi_reproducibility\n",
    "os.environ['CUBLAS_WORKSPACE_CONFIG'] = \":4096:8\"\n",
    "torch.set_deterministic(True)\n",
    "torch.manual_seed(random_seed)\n",
    "\n",
    "# Print version information\n",
    "print(\"Python version: \" + sys.version)\n",
    "print(\"NumPy version: \" + np.__version__)\n",
    "print(\"PyTorch version: \" + torch.__version__)\n",
    "print(\"Transformers version: \" + transformers.__version__)"
   ]
  },
  {
   "cell_type": "markdown",
   "id": "loving-course",
   "metadata": {
    "id": "UWuR30eUoTWP",
    "papermill": {
     "duration": 0.020014,
     "end_time": "2021-05-09T01:47:02.987371",
     "exception": false,
     "start_time": "2021-05-09T01:47:02.967357",
     "status": "completed"
    },
    "tags": []
   },
   "source": [
    "## PyTorch GPU settings"
   ]
  },
  {
   "cell_type": "code",
   "execution_count": 7,
   "id": "willing-showcase",
   "metadata": {
    "colab": {
     "base_uri": "https://localhost:8080/"
    },
    "execution": {
     "iopub.execute_input": "2021-05-09T01:47:07.936913Z",
     "iopub.status.busy": "2021-05-09T01:47:07.935132Z",
     "iopub.status.idle": "2021-05-09T01:47:07.940889Z",
     "shell.execute_reply": "2021-05-09T01:47:07.942219Z"
    },
    "executionInfo": {
     "elapsed": 5585,
     "status": "ok",
     "timestamp": 1620418929892,
     "user": {
      "displayName": "Ronald Seoh",
      "photoUrl": "",
      "userId": "10284188050297676522"
     },
     "user_tz": 240
    },
    "id": "PfNlm-ykoSlM",
    "outputId": "9b7cc30c-e6ae-404d-ce4f-b2afbdbec29d",
    "papermill": {
     "duration": 4.931507,
     "end_time": "2021-05-09T01:47:07.942699",
     "exception": false,
     "start_time": "2021-05-09T01:47:03.011192",
     "status": "completed"
    },
    "tags": []
   },
   "outputs": [
    {
     "name": "stdout",
     "output_type": "stream",
     "text": [
      "CUDA Version: 11.0\n",
      "cuDNN Version: 8005\n",
      "CUDA Device Name: GeForce GTX 1080 Ti\n",
      "CUDA Capabilities: (6, 1)\n",
      "Number of CUDA devices: 1\n",
      "\n",
      "PyTorch device selected: cuda\n"
     ]
    }
   ],
   "source": [
    "if torch.cuda.is_available():    \n",
    "    torch_device = torch.device('cuda')\n",
    "\n",
    "    # Set this to True to make your output immediately reproducible\n",
    "    # Note: https://pytorch.org/docs/stable/notes/randomness.html\n",
    "    torch.backends.cudnn.deterministic = True\n",
    "    \n",
    "    # Disable 'benchmark' mode: Set this False if you want to measure running times more fairly\n",
    "    # Note: https://discuss.pytorch.org/t/what-does-torch-backends-cudnn-benchmark-do/5936\n",
    "    torch.backends.cudnn.benchmark = False\n",
    "    \n",
    "    # Faster Host to GPU copies with page-locked memory\n",
    "    use_pin_memory = True\n",
    "    \n",
    "    # Number of compute devices to be used for training\n",
    "    training_device_count = torch.cuda.device_count()\n",
    "\n",
    "    # CUDA libraries version information\n",
    "    print(\"CUDA Version: \" + str(torch.version.cuda))\n",
    "    print(\"cuDNN Version: \" + str(torch.backends.cudnn.version()))\n",
    "    print(\"CUDA Device Name: \" + str(torch.cuda.get_device_name()))\n",
    "    print(\"CUDA Capabilities: \"+ str(torch.cuda.get_device_capability()))\n",
    "    print(\"Number of CUDA devices: \"+ str(training_device_count))\n",
    "    \n",
    "else:\n",
    "    torch_device = torch.device('cpu')\n",
    "    use_pin_memory = False\n",
    "    \n",
    "    # Number of compute devices to be used for training\n",
    "    training_device_count = 1\n",
    "\n",
    "print()\n",
    "print(\"PyTorch device selected:\", torch_device)"
   ]
  },
  {
   "cell_type": "markdown",
   "id": "third-procedure",
   "metadata": {
    "id": "ayX5VRLfocFk",
    "papermill": {
     "duration": 0.023525,
     "end_time": "2021-05-09T01:47:08.000494",
     "exception": false,
     "start_time": "2021-05-09T01:47:07.976969",
     "status": "completed"
    },
    "tags": []
   },
   "source": [
    "# Prepare Datasets for Prompt-based Classifier"
   ]
  },
  {
   "cell_type": "markdown",
   "id": "recent-spanish",
   "metadata": {
    "id": "U9LAAJP-hbz7",
    "papermill": {
     "duration": 0.022684,
     "end_time": "2021-05-09T01:47:08.047566",
     "exception": false,
     "start_time": "2021-05-09T01:47:08.024882",
     "status": "completed"
    },
    "tags": []
   },
   "source": [
    "## Load the SemEval dataset"
   ]
  },
  {
   "cell_type": "code",
   "execution_count": 8,
   "id": "other-latter",
   "metadata": {
    "colab": {
     "base_uri": "https://localhost:8080/"
    },
    "execution": {
     "iopub.execute_input": "2021-05-09T01:47:08.113619Z",
     "iopub.status.busy": "2021-05-09T01:47:08.112876Z",
     "iopub.status.idle": "2021-05-09T01:47:08.151636Z",
     "shell.execute_reply": "2021-05-09T01:47:08.150180Z"
    },
    "executionInfo": {
     "elapsed": 5575,
     "status": "ok",
     "timestamp": 1620418929895,
     "user": {
      "displayName": "Ronald Seoh",
      "photoUrl": "",
      "userId": "10284188050297676522"
     },
     "user_tz": 240
    },
    "id": "gpL2uHPUhbz9",
    "outputId": "41504d48-f3c5-4361-a055-e24d3046f9c8",
    "papermill": {
     "duration": 0.080382,
     "end_time": "2021-05-09T01:47:08.152026",
     "exception": false,
     "start_time": "2021-05-09T01:47:08.071644",
     "status": "completed"
    },
    "tags": []
   },
   "outputs": [
    {
     "name": "stderr",
     "output_type": "stream",
     "text": [
      "Reusing dataset sem_eval2014_task4_dataset (../dataset_cache/sem_eval2014_task4_dataset/SemEval2014Task4Dataset - Subtask 4/0.0.1/537edd3b5fdbdb1f3190419cf0a53a4fab3537bc666f17c8c75fa8d0b554e529)\n"
     ]
    }
   ],
   "source": [
    "# Load semeval for both domains\n",
    "restaurants_dataset = datasets.load_dataset(\n",
    "    os.path.abspath('../dataset_scripts/semeval2014_task4/semeval2014_task4.py'),\n",
    "    name=\"SemEval2014Task4Dataset - Subtask 4\",\n",
    "    data_files={\n",
    "        'test': '../dataset_files/semeval_2014/Restaurants_Test_Gold.xml',\n",
    "        'train': '../dataset_files/semeval_2014/Restaurants_Train_v2.xml',\n",
    "    },\n",
    "    cache_dir='../dataset_cache')"
   ]
  },
  {
   "cell_type": "code",
   "execution_count": 9,
   "id": "disabled-lewis",
   "metadata": {
    "execution": {
     "iopub.execute_input": "2021-05-09T01:47:08.245202Z",
     "iopub.status.busy": "2021-05-09T01:47:08.244652Z",
     "iopub.status.idle": "2021-05-09T01:47:08.249055Z",
     "shell.execute_reply": "2021-05-09T01:47:08.248266Z"
    },
    "id": "Gi5m8AbPj1iJ",
    "papermill": {
     "duration": 0.043925,
     "end_time": "2021-05-09T01:47:08.249240",
     "exception": false,
     "start_time": "2021-05-09T01:47:08.205315",
     "status": "completed"
    },
    "tags": []
   },
   "outputs": [],
   "source": [
    "# The dataset chosen for testing\n",
    "if testing_domain == 'restaurants':\n",
    "    test_set = restaurants_dataset['test']"
   ]
  },
  {
   "cell_type": "code",
   "execution_count": 10,
   "id": "worth-prison",
   "metadata": {
    "colab": {
     "base_uri": "https://localhost:8080/"
    },
    "execution": {
     "iopub.execute_input": "2021-05-09T01:47:08.310977Z",
     "iopub.status.busy": "2021-05-09T01:47:08.310427Z",
     "iopub.status.idle": "2021-05-09T01:47:08.315240Z",
     "shell.execute_reply": "2021-05-09T01:47:08.315674Z"
    },
    "executionInfo": {
     "elapsed": 5557,
     "status": "ok",
     "timestamp": 1620418929901,
     "user": {
      "displayName": "Ronald Seoh",
      "photoUrl": "",
      "userId": "10284188050297676522"
     },
     "user_tz": 240
    },
    "id": "Est9ao9rcH4l",
    "outputId": "8487f46b-593a-43f6-b98c-eb559af8d169",
    "papermill": {
     "duration": 0.036295,
     "end_time": "2021-05-09T01:47:08.315831",
     "exception": false,
     "start_time": "2021-05-09T01:47:08.279536",
     "status": "completed"
    },
    "tags": []
   },
   "outputs": [
    {
     "name": "stdout",
     "output_type": "stream",
     "text": [
      "973\n"
     ]
    }
   ],
   "source": [
    "print(len(test_set))"
   ]
  },
  {
   "cell_type": "code",
   "execution_count": 11,
   "id": "unavailable-orleans",
   "metadata": {
    "colab": {
     "base_uri": "https://localhost:8080/"
    },
    "execution": {
     "iopub.execute_input": "2021-05-09T01:47:08.376769Z",
     "iopub.status.busy": "2021-05-09T01:47:08.376215Z",
     "iopub.status.idle": "2021-05-09T01:47:08.381122Z",
     "shell.execute_reply": "2021-05-09T01:47:08.381718Z"
    },
    "executionInfo": {
     "elapsed": 5547,
     "status": "ok",
     "timestamp": 1620418929903,
     "user": {
      "displayName": "Ronald Seoh",
      "photoUrl": "",
      "userId": "10284188050297676522"
     },
     "user_tz": 240
    },
    "id": "_npZeCIqcKjT",
    "outputId": "8951acb2-32ca-4e07-e1cf-011aa6831a69",
    "papermill": {
     "duration": 0.037171,
     "end_time": "2021-05-09T01:47:08.381915",
     "exception": false,
     "start_time": "2021-05-09T01:47:08.344744",
     "status": "completed"
    },
    "tags": []
   },
   "outputs": [
    {
     "name": "stdout",
     "output_type": "stream",
     "text": [
      "{'aspect': 'ambience', 'sentiment': 0, 'text': 'Certainly not the best sushi in New York, however, it is always fresh, and the place is very clean, sterile.'}\n"
     ]
    }
   ],
   "source": [
    "print(test_set[4])"
   ]
  },
  {
   "cell_type": "markdown",
   "id": "lyric-posting",
   "metadata": {
    "id": "6TOMmAtIvoZ_",
    "papermill": {
     "duration": 0.029339,
     "end_time": "2021-05-09T01:47:08.440209",
     "exception": false,
     "start_time": "2021-05-09T01:47:08.410870",
     "status": "completed"
    },
    "tags": []
   },
   "source": [
    "# Zero-shot ATSC with Prompts"
   ]
  },
  {
   "cell_type": "markdown",
   "id": "pending-jason",
   "metadata": {
    "id": "3jNAtuv-hbzv",
    "papermill": {
     "duration": 0.026965,
     "end_time": "2021-05-09T01:47:08.495155",
     "exception": false,
     "start_time": "2021-05-09T01:47:08.468190",
     "status": "completed"
    },
    "tags": []
   },
   "source": [
    "## Initialize BERT MLM"
   ]
  },
  {
   "cell_type": "code",
   "execution_count": 12,
   "id": "exempt-packet",
   "metadata": {
    "execution": {
     "iopub.execute_input": "2021-05-09T01:47:08.583660Z",
     "iopub.status.busy": "2021-05-09T01:47:08.583093Z",
     "iopub.status.idle": "2021-05-09T01:47:12.997483Z",
     "shell.execute_reply": "2021-05-09T01:47:12.995908Z"
    },
    "id": "En2BmfjVhbzy",
    "papermill": {
     "duration": 4.462556,
     "end_time": "2021-05-09T01:47:12.997900",
     "exception": false,
     "start_time": "2021-05-09T01:47:08.535344",
     "status": "completed"
    },
    "tags": []
   },
   "outputs": [],
   "source": [
    "# Load pretrained language model\n",
    "# Use the config, but not the actual weights, from the pretrained model\n",
    "lm_config = transformers.AutoConfig.from_pretrained('bert-base-uncased', cache_dir='../bert_base_cache')\n",
    "lm = transformers.AutoModelForMaskedLM.from_config(lm_config)\n",
    "tokenizer = transformers.AutoTokenizer.from_pretrained('bert-base-uncased', cache_dir='../bert_base_cache')"
   ]
  },
  {
   "cell_type": "markdown",
   "id": "greenhouse-picking",
   "metadata": {
    "id": "TEIbN5Xthb0o",
    "papermill": {
     "duration": 0.030481,
     "end_time": "2021-05-09T01:47:13.071478",
     "exception": false,
     "start_time": "2021-05-09T01:47:13.040997",
     "status": "completed"
    },
    "tags": []
   },
   "source": [
    "## Define a new model"
   ]
  },
  {
   "cell_type": "code",
   "execution_count": 13,
   "id": "unique-voltage",
   "metadata": {
    "colab": {
     "base_uri": "https://localhost:8080/"
    },
    "execution": {
     "iopub.execute_input": "2021-05-09T01:47:13.125217Z",
     "iopub.status.busy": "2021-05-09T01:47:13.123525Z",
     "iopub.status.idle": "2021-05-09T01:47:15.399505Z",
     "shell.execute_reply": "2021-05-09T01:47:15.398013Z"
    },
    "executionInfo": {
     "elapsed": 12519,
     "status": "ok",
     "timestamp": 1620418936896,
     "user": {
      "displayName": "Ronald Seoh",
      "photoUrl": "",
      "userId": "10284188050297676522"
     },
     "user_tz": 240
    },
    "id": "wN3q4Rsopxby",
    "outputId": "f9336495-e129-4ca0-d311-6bc3c2f38c20",
    "papermill": {
     "duration": 2.307056,
     "end_time": "2021-05-09T01:47:15.399920",
     "exception": false,
     "start_time": "2021-05-09T01:47:13.092864",
     "status": "completed"
    },
    "tags": []
   },
   "outputs": [
    {
     "name": "stdout",
     "output_type": "stream",
     "text": [
      "Detected LM type: bert\n"
     ]
    }
   ],
   "source": [
    "classifier_model = utils.MultiPromptSentimentClassificationHead(\n",
    "    lm=lm,\n",
    "    num_class=3,\n",
    "    num_prompts=len(sentiment_prompts),\n",
    "    target_token_id=tokenizer.mask_token_id,\n",
    "    merge_behavior=prompts_merge_behavior,\n",
    "    perturb_prompts=prompts_perturb)\n",
    "\n",
    "classifier_model = classifier_model.to(device=torch_device)"
   ]
  },
  {
   "cell_type": "markdown",
   "id": "boxed-december",
   "metadata": {
    "id": "1U6B5GNSYBYk",
    "papermill": {
     "duration": 0.024202,
     "end_time": "2021-05-09T01:47:15.477371",
     "exception": false,
     "start_time": "2021-05-09T01:47:15.453169",
     "status": "completed"
    },
    "tags": []
   },
   "source": [
    "## Load our saved weights"
   ]
  },
  {
   "cell_type": "code",
   "execution_count": 14,
   "id": "opposite-crawford",
   "metadata": {
    "colab": {
     "base_uri": "https://localhost:8080/"
    },
    "execution": {
     "iopub.execute_input": "2021-05-09T01:47:15.534113Z",
     "iopub.status.busy": "2021-05-09T01:47:15.533428Z",
     "iopub.status.idle": "2021-05-09T01:47:22.939662Z",
     "shell.execute_reply": "2021-05-09T01:47:22.941022Z"
    },
    "executionInfo": {
     "elapsed": 14206,
     "status": "ok",
     "timestamp": 1620418938595,
     "user": {
      "displayName": "Ronald Seoh",
      "photoUrl": "",
      "userId": "10284188050297676522"
     },
     "user_tz": 240
    },
    "id": "gLo25nUcYBGx",
    "outputId": "f5fef2db-f954-4d65-b4c9-c8e93a269b5d",
    "papermill": {
     "duration": 7.439879,
     "end_time": "2021-05-09T01:47:22.941490",
     "exception": false,
     "start_time": "2021-05-09T01:47:15.501611",
     "status": "completed"
    },
    "tags": []
   },
   "outputs": [
    {
     "name": "stdout",
     "output_type": "stream",
     "text": [
      "Loading epoch_18.pt\n"
     ]
    },
    {
     "data": {
      "text/plain": [
       "<All keys matched successfully>"
      ]
     },
     "execution_count": 14,
     "metadata": {},
     "output_type": "execute_result"
    }
   ],
   "source": [
    "# Locate the weight file.\n",
    "trained_model_directory = os.path.join('..', 'trained_models_prompts', experiment_id)\n",
    "\n",
    "saved_weights_name = ''\n",
    "\n",
    "for fname in os.listdir(trained_model_directory):\n",
    "    if fname.startswith('epoch'):\n",
    "        saved_weights_name = fname\n",
    "        break\n",
    "\n",
    "print(\"Loading\", saved_weights_name)\n",
    "\n",
    "classifier_model.load_state_dict(torch.load(\n",
    "    os.path.join(trained_model_directory, saved_weights_name),\n",
    "    map_location=torch_device))"
   ]
  },
  {
   "cell_type": "markdown",
   "id": "material-nancy",
   "metadata": {
    "id": "1l1H_XIPhb0y",
    "papermill": {
     "duration": 0.02472,
     "end_time": "2021-05-09T01:47:23.008838",
     "exception": false,
     "start_time": "2021-05-09T01:47:22.984118",
     "status": "completed"
    },
    "tags": []
   },
   "source": [
    "## Evaluation with in-domain test set\n",
    "\n"
   ]
  },
  {
   "cell_type": "code",
   "execution_count": 15,
   "id": "julian-victoria",
   "metadata": {
    "execution": {
     "iopub.execute_input": "2021-05-09T01:47:23.068087Z",
     "iopub.status.busy": "2021-05-09T01:47:23.067561Z",
     "iopub.status.idle": "2021-05-09T01:47:23.072540Z",
     "shell.execute_reply": "2021-05-09T01:47:23.071923Z"
    },
    "id": "0S80DoYrqApi",
    "papermill": {
     "duration": 0.038758,
     "end_time": "2021-05-09T01:47:23.072718",
     "exception": false,
     "start_time": "2021-05-09T01:47:23.033960",
     "status": "completed"
    },
    "tags": []
   },
   "outputs": [],
   "source": [
    "def compute_metrics(predictions, labels):\n",
    "    preds = predictions.argmax(-1)\n",
    "\n",
    "    precision, recall, f1, _ = sklearn.metrics.precision_recall_fscore_support(\n",
    "        y_true=labels, y_pred=preds, labels=[0,1,2], average='macro')\n",
    "\n",
    "    acc = sklearn.metrics.accuracy_score(labels, preds)\n",
    "\n",
    "    return {\n",
    "        'accuracy': acc,\n",
    "        'f1': f1,\n",
    "        'precision': precision,\n",
    "        'recall': recall\n",
    "    }"
   ]
  },
  {
   "cell_type": "code",
   "execution_count": 16,
   "id": "closing-commander",
   "metadata": {
    "execution": {
     "iopub.execute_input": "2021-05-09T01:47:23.144307Z",
     "iopub.status.busy": "2021-05-09T01:47:23.143778Z",
     "iopub.status.idle": "2021-05-09T01:47:23.147997Z",
     "shell.execute_reply": "2021-05-09T01:47:23.148407Z"
    },
    "id": "9NXoBTs5h2eO",
    "papermill": {
     "duration": 0.044757,
     "end_time": "2021-05-09T01:47:23.148559",
     "exception": false,
     "start_time": "2021-05-09T01:47:23.103802",
     "status": "completed"
    },
    "tags": []
   },
   "outputs": [],
   "source": [
    "test_dataloader = torch.utils.data.DataLoader(\n",
    "    test_set, batch_size=testing_batch_size, pin_memory=use_pin_memory)"
   ]
  },
  {
   "cell_type": "code",
   "execution_count": 17,
   "id": "cordless-training",
   "metadata": {
    "colab": {
     "base_uri": "https://localhost:8080/",
     "height": 104,
     "referenced_widgets": [
      "8bc7129ea76340a494cc7916b037c052",
      "5704871af06f4221b051f07f65c7e74a",
      "1ee6f145ba0e4da09d2d31bf1967da8d",
      "ce70f9442d0240118f9f76c3a485e383",
      "65ff039fa4f94365bd0d070c5f22be61",
      "5f1b30eb632447ccad493dc94bb2e168",
      "ac65a5f115be49628880b6582b47d873",
      "31348e5edcad45d4a8559cdd6b677ee2"
     ]
    },
    "execution": {
     "iopub.execute_input": "2021-05-09T01:47:23.255547Z",
     "iopub.status.busy": "2021-05-09T01:47:23.254922Z",
     "iopub.status.idle": "2021-05-09T01:47:32.487785Z",
     "shell.execute_reply": "2021-05-09T01:47:32.488868Z"
    },
    "executionInfo": {
     "elapsed": 95055,
     "status": "ok",
     "timestamp": 1620419019471,
     "user": {
      "displayName": "Ronald Seoh",
      "photoUrl": "",
      "userId": "10284188050297676522"
     },
     "user_tz": 240
    },
    "id": "LLcc_wZjhb0y",
    "outputId": "16de918b-7858-4cf6-d7b5-5194affd2151",
    "papermill": {
     "duration": 9.306017,
     "end_time": "2021-05-09T01:47:32.489238",
     "exception": false,
     "start_time": "2021-05-09T01:47:23.183221",
     "status": "completed"
    },
    "tags": []
   },
   "outputs": [
    {
     "data": {
      "application/vnd.jupyter.widget-view+json": {
       "model_id": "653694e791a24a918e998ce0b8af63dc",
       "version_major": 2,
       "version_minor": 0
      },
      "text/plain": [
       "  0%|          | 0/31 [00:00<?, ?it/s]"
      ]
     },
     "metadata": {},
     "output_type": "display_data"
    },
    {
     "name": "stdout",
     "output_type": "stream",
     "text": [
      "{'accuracy': 0.68448098663926, 'f1': 0.30719390924560797, 'precision': 0.7166666666666667, 'recall': 0.3519301872551654}\n"
     ]
    }
   ],
   "source": [
    "with torch.no_grad():\n",
    "    classifier_model.eval()\n",
    "\n",
    "    predictions_test = torch.Tensor([])\n",
    "    labels_test = torch.Tensor([])\n",
    "\n",
    "    for batch_val in tqdm.notebook.tqdm(test_dataloader):\n",
    "\n",
    "        reviews_repeated = []\n",
    "        prompts_populated = []\n",
    "\n",
    "        for prompt in sentiment_prompts:\n",
    "            reviews_repeated = reviews_repeated + batch_val[\"text\"]\n",
    "\n",
    "            for aspect in batch_val[\"aspect\"]:\n",
    "                prompts_populated.append(prompt.format(aspect=aspect))\n",
    "\n",
    "        batch_encoded = tokenizer(\n",
    "            reviews_repeated, prompts_populated,\n",
    "            padding='max_length', truncation='only_first', max_length=256,\n",
    "            return_tensors='pt')\n",
    "        \n",
    "        batch_encoded.to(torch_device)\n",
    "\n",
    "        labels = batch_val[\"sentiment\"]\n",
    "\n",
    "        outputs = classifier_model(batch_encoded)\n",
    "\n",
    "        outputs = outputs.to('cpu')\n",
    "\n",
    "        predictions_test = torch.cat([predictions_test, outputs])\n",
    "        labels_test = torch.cat([labels_test, labels])\n",
    "\n",
    "    # Compute metrics\n",
    "    test_metrics = compute_metrics(predictions_test, labels_test)\n",
    "\n",
    "    print(test_metrics)\n",
    "\n",
    "    # Save test_metrics into a file for later processing\n",
    "    with open(os.path.join(trained_model_directory, 'test_metrics_subtask4.json'), 'w') as test_metrics_json:\n",
    "        json.dump(test_metrics, test_metrics_json)"
   ]
  },
  {
   "cell_type": "markdown",
   "id": "inappropriate-martin",
   "metadata": {
    "id": "HjpA_0m1hb08",
    "papermill": {
     "duration": 0.042469,
     "end_time": "2021-05-09T01:47:32.579476",
     "exception": false,
     "start_time": "2021-05-09T01:47:32.537007",
     "status": "completed"
    },
    "tags": []
   },
   "source": [
    "## Results visualization"
   ]
  },
  {
   "cell_type": "code",
   "execution_count": 18,
   "id": "simplified-community",
   "metadata": {
    "colab": {
     "base_uri": "https://localhost:8080/",
     "height": 442
    },
    "execution": {
     "iopub.execute_input": "2021-05-09T01:47:32.640470Z",
     "iopub.status.busy": "2021-05-09T01:47:32.639943Z",
     "iopub.status.idle": "2021-05-09T01:47:32.846403Z",
     "shell.execute_reply": "2021-05-09T01:47:32.847499Z"
    },
    "executionInfo": {
     "elapsed": 95048,
     "status": "ok",
     "timestamp": 1620419019476,
     "user": {
      "displayName": "Ronald Seoh",
      "photoUrl": "",
      "userId": "10284188050297676522"
     },
     "user_tz": 240
    },
    "id": "w9G9AUeQhb09",
    "outputId": "06eb5449-2881-43c4-98b5-ad2cee1f476f",
    "papermill": {
     "duration": 0.237968,
     "end_time": "2021-05-09T01:47:32.847881",
     "exception": false,
     "start_time": "2021-05-09T01:47:32.609913",
     "status": "completed"
    },
    "tags": []
   },
   "outputs": [
    {
     "data": {
      "image/png": "[encoded data removed]",
      "text/plain": [
       "<Figure size 720x504 with 2 Axes>"
      ]
     },
     "metadata": {
      "needs_background": "light"
     },
     "output_type": "display_data"
    }
   ],
   "source": [
    "# Calculate metrics and confusion matrix based upon predictions and true labels\n",
    "cm = sklearn.metrics.confusion_matrix(labels_test.detach().numpy(), predictions_test.detach().numpy().argmax(-1))\n",
    "\n",
    "df_cm = pd.DataFrame(\n",
    "    cm,\n",
    "    index=[i for i in [\"positive\", \"negative\", \"neutral\"]],\n",
    "    columns=[i for i in [\"positive\", \"negative\", \"neutral\"]])\n",
    "\n",
    "plt.figure(figsize=(10, 7))\n",
    "\n",
    "ax = sn.heatmap(df_cm, annot=True)\n",
    "\n",
    "ax.set(xlabel='Predicted Label', ylabel='True Label')\n",
    "plt.show()"
   ]
  },
  {
   "cell_type": "code",
   "execution_count": null,
   "id": "cardiac-frost",
   "metadata": {
    "id": "4Wo_Yk0LY37d",
    "papermill": {
     "duration": 0.025745,
     "end_time": "2021-05-09T01:47:32.915583",
     "exception": false,
     "start_time": "2021-05-09T01:47:32.889838",
     "status": "completed"
    },
    "tags": []
   },
   "outputs": [],
   "source": []
  }
 ],
 "metadata": {
  "accelerator": "GPU",
  "celltoolbar": "Tags",
  "colab": {
   "collapsed_sections": [],
   "name": "bert_prompt_lr_subtask4.ipynb",
   "provenance": [],
   "toc_visible": true
  },
  "kernelspec": {
   "display_name": "Python 3",
   "language": "python",
   "name": "python3"
  },
  "language_info": {
   "codemirror_mode": {
    "name": "ipython",
    "version": 3
   },
   "file_extension": ".py",
   "mimetype": "text/x-python",
   "name": "python",
   "nbconvert_exporter": "python",
   "pygments_lexer": "ipython3",
   "version": "3.7.9"
  },
  "papermill": {
   "default_parameters": {},
   "duration": 36.101292,
   "end_time": "2021-05-09T01:47:34.281781",
   "environment_variables": {},
   "exception": null,
   "input_path": "bert_prompt_lr_subtask4.ipynb",
   "output_path": "results_bert_64_shot_prompt_lr_concatenate_atsc_restaurants/bert_64_shot_prompt_lr_concatenate_atsc_restaurants_bert_yelp_restaurants_single_prompt_the_aspect_is_682.ipynb",
   "parameters": {
    "experiment_id": "bert_64_shot_prompt_lr_concatenate_atsc_restaurants_bert_yelp_restaurants_single_prompt_the_aspect_is_682",
    "lm_model_path": "../trained_models/lm_further_pretraining_bert_yelp_restaurants_bseoh_2021-03-22--15_03_31",
    "prompts_merge_behavior": "concatenate",
    "prompts_perturb": false,
    "random_seed": 682,
    "sentiment_prompts": [
     "The {aspect} is [MASK]."
    ],
    "testing_batch_size": 32,
    "testing_domain": "restaurants"
   },
   "start_time": "2021-05-09T01:46:58.180489",
   "version": "2.3.2"
  },
  "widgets": {
   "application/vnd.jupyter.widget-state+json": {
    "state": {
     "040adf18768141e38424169718f326b1": {
      "model_module": "@jupyter-widgets/controls",
      "model_module_version": "1.5.0",
      "model_name": "ProgressStyleModel",
      "state": {
       "_model_module": "@jupyter-widgets/controls",
       "_model_module_version": "1.5.0",
       "_model_name": "ProgressStyleModel",
       "_view_count": null,
       "_view_module": "@jupyter-widgets/base",
       "_view_module_version": "1.2.0",
       "_view_name": "StyleView",
       "bar_color": null,
       "description_width": ""
      }
     },
     "053afcd2174049fe83cd280bc2bf138c": {
      "model_module": "@jupyter-widgets/base",
      "model_module_version": "1.2.0",
      "model_name": "LayoutModel",
      "state": {
       "_model_module": "@jupyter-widgets/base",
       "_model_module_version": "1.2.0",
       "_model_name": "LayoutModel",
       "_view_count": null,
       "_view_module": "@jupyter-widgets/base",
       "_view_module_version": "1.2.0",
       "_view_name": "LayoutView",
       "align_content": null,
       "align_items": null,
       "align_self": null,
       "border": null,
       "bottom": null,
       "display": null,
       "flex": null,
       "flex_flow": null,
       "grid_area": null,
       "grid_auto_columns": null,
       "grid_auto_flow": null,
       "grid_auto_rows": null,
       "grid_column": null,
       "grid_gap": null,
       "grid_row": null,
       "grid_template_areas": null,
       "grid_template_columns": null,
       "grid_template_rows": null,
       "height": null,
       "justify_content": null,
       "justify_items": null,
       "left": null,
       "margin": null,
       "max_height": null,
       "max_width": null,
       "min_height": null,
       "min_width": null,
       "object_fit": null,
       "object_position": null,
       "order": null,
       "overflow": null,
       "overflow_x": null,
       "overflow_y": null,
       "padding": null,
       "right": null,
       "top": null,
       "visibility": null,
       "width": null
      }
     },
     "240663ec07d64c54bfe1d1736d657293": {
      "model_module": "@jupyter-widgets/controls",
      "model_module_version": "1.5.0",
      "model_name": "HTMLModel",
      "state": {
       "_dom_classes": [],
       "_model_module": "@jupyter-widgets/controls",
       "_model_module_version": "1.5.0",
       "_model_name": "HTMLModel",
       "_view_count": null,
       "_view_module": "@jupyter-widgets/controls",
       "_view_module_version": "1.5.0",
       "_view_name": "HTMLView",
       "description": "",
       "description_tooltip": null,
       "layout": "IPY_MODEL_37b5bfc8a36f4dcd9349b5da62a3b0c8",
       "placeholder": "​",
       "style": "IPY_MODEL_da74cf8b656c4b85b0af6c379c4e53b4",
       "value": "100%"
      }
     },
     "3458b75855124caa9ff7f8f666064b74": {
      "model_module": "@jupyter-widgets/controls",
      "model_module_version": "1.5.0",
      "model_name": "DescriptionStyleModel",
      "state": {
       "_model_module": "@jupyter-widgets/controls",
       "_model_module_version": "1.5.0",
       "_model_name": "DescriptionStyleModel",
       "_view_count": null,
       "_view_module": "@jupyter-widgets/base",
       "_view_module_version": "1.2.0",
       "_view_name": "StyleView",
       "description_width": ""
      }
     },
     "37b5bfc8a36f4dcd9349b5da62a3b0c8": {
      "model_module": "@jupyter-widgets/base",
      "model_module_version": "1.2.0",
      "model_name": "LayoutModel",
      "state": {
       "_model_module": "@jupyter-widgets/base",
       "_model_module_version": "1.2.0",
       "_model_name": "LayoutModel",
       "_view_count": null,
       "_view_module": "@jupyter-widgets/base",
       "_view_module_version": "1.2.0",
       "_view_name": "LayoutView",
       "align_content": null,
       "align_items": null,
       "align_self": null,
       "border": null,
       "bottom": null,
       "display": null,
       "flex": null,
       "flex_flow": null,
       "grid_area": null,
       "grid_auto_columns": null,
       "grid_auto_flow": null,
       "grid_auto_rows": null,
       "grid_column": null,
       "grid_gap": null,
       "grid_row": null,
       "grid_template_areas": null,
       "grid_template_columns": null,
       "grid_template_rows": null,
       "height": null,
       "justify_content": null,
       "justify_items": null,
       "left": null,
       "margin": null,
       "max_height": null,
       "max_width": null,
       "min_height": null,
       "min_width": null,
       "object_fit": null,
       "object_position": null,
       "order": null,
       "overflow": null,
       "overflow_x": null,
       "overflow_y": null,
       "padding": null,
       "right": null,
       "top": null,
       "visibility": null,
       "width": null
      }
     },
     "3ab708fab22e4334b55fe7fcc197714f": {
      "model_module": "@jupyter-widgets/controls",
      "model_module_version": "1.5.0",
      "model_name": "HTMLModel",
      "state": {
       "_dom_classes": [],
       "_model_module": "@jupyter-widgets/controls",
       "_model_module_version": "1.5.0",
       "_model_name": "HTMLModel",
       "_view_count": null,
       "_view_module": "@jupyter-widgets/controls",
       "_view_module_version": "1.5.0",
       "_view_name": "HTMLView",
       "description": "",
       "description_tooltip": null,
       "layout": "IPY_MODEL_8ae8092aab0441139ebdbaf136a90660",
       "placeholder": "​",
       "style": "IPY_MODEL_3458b75855124caa9ff7f8f666064b74",
       "value": " 31/31 [00:09&lt;00:00,  4.09it/s]"
      }
     },
     "53700593f0e44d10a16ba305ed6d6b7c": {
      "model_module": "@jupyter-widgets/base",
      "model_module_version": "1.2.0",
      "model_name": "LayoutModel",
      "state": {
       "_model_module": "@jupyter-widgets/base",
       "_model_module_version": "1.2.0",
       "_model_name": "LayoutModel",
       "_view_count": null,
       "_view_module": "@jupyter-widgets/base",
       "_view_module_version": "1.2.0",
       "_view_name": "LayoutView",
       "align_content": null,
       "align_items": null,
       "align_self": null,
       "border": null,
       "bottom": null,
       "display": null,
       "flex": null,
       "flex_flow": null,
       "grid_area": null,
       "grid_auto_columns": null,
       "grid_auto_flow": null,
       "grid_auto_rows": null,
       "grid_column": null,
       "grid_gap": null,
       "grid_row": null,
       "grid_template_areas": null,
       "grid_template_columns": null,
       "grid_template_rows": null,
       "height": null,
       "justify_content": null,
       "justify_items": null,
       "left": null,
       "margin": null,
       "max_height": null,
       "max_width": null,
       "min_height": null,
       "min_width": null,
       "object_fit": null,
       "object_position": null,
       "order": null,
       "overflow": null,
       "overflow_x": null,
       "overflow_y": null,
       "padding": null,
       "right": null,
       "top": null,
       "visibility": null,
       "width": null
      }
     },
     "653694e791a24a918e998ce0b8af63dc": {
      "model_module": "@jupyter-widgets/controls",
      "model_module_version": "1.5.0",
      "model_name": "HBoxModel",
      "state": {
       "_dom_classes": [],
       "_model_module": "@jupyter-widgets/controls",
       "_model_module_version": "1.5.0",
       "_model_name": "HBoxModel",
       "_view_count": null,
       "_view_module": "@jupyter-widgets/controls",
       "_view_module_version": "1.5.0",
       "_view_name": "HBoxView",
       "box_style": "",
       "children": [
        "IPY_MODEL_240663ec07d64c54bfe1d1736d657293",
        "IPY_MODEL_b0fd1479ff424f00893b1c65cdd93bce",
        "IPY_MODEL_3ab708fab22e4334b55fe7fcc197714f"
       ],
       "layout": "IPY_MODEL_053afcd2174049fe83cd280bc2bf138c"
      }
     },
     "8ae8092aab0441139ebdbaf136a90660": {
      "model_module": "@jupyter-widgets/base",
      "model_module_version": "1.2.0",
      "model_name": "LayoutModel",
      "state": {
       "_model_module": "@jupyter-widgets/base",
       "_model_module_version": "1.2.0",
       "_model_name": "LayoutModel",
       "_view_count": null,
       "_view_module": "@jupyter-widgets/base",
       "_view_module_version": "1.2.0",
       "_view_name": "LayoutView",
       "align_content": null,
       "align_items": null,
       "align_self": null,
       "border": null,
       "bottom": null,
       "display": null,
       "flex": null,
       "flex_flow": null,
       "grid_area": null,
       "grid_auto_columns": null,
       "grid_auto_flow": null,
       "grid_auto_rows": null,
       "grid_column": null,
       "grid_gap": null,
       "grid_row": null,
       "grid_template_areas": null,
       "grid_template_columns": null,
       "grid_template_rows": null,
       "height": null,
       "justify_content": null,
       "justify_items": null,
       "left": null,
       "margin": null,
       "max_height": null,
       "max_width": null,
       "min_height": null,
       "min_width": null,
       "object_fit": null,
       "object_position": null,
       "order": null,
       "overflow": null,
       "overflow_x": null,
       "overflow_y": null,
       "padding": null,
       "right": null,
       "top": null,
       "visibility": null,
       "width": null
      }
     },
     "b0fd1479ff424f00893b1c65cdd93bce": {
      "model_module": "@jupyter-widgets/controls",
      "model_module_version": "1.5.0",
      "model_name": "FloatProgressModel",
      "state": {
       "_dom_classes": [],
       "_model_module": "@jupyter-widgets/controls",
       "_model_module_version": "1.5.0",
       "_model_name": "FloatProgressModel",
       "_view_count": null,
       "_view_module": "@jupyter-widgets/controls",
       "_view_module_version": "1.5.0",
       "_view_name": "ProgressView",
       "bar_style": "success",
       "description": "",
       "description_tooltip": null,
       "layout": "IPY_MODEL_53700593f0e44d10a16ba305ed6d6b7c",
       "max": 31.0,
       "min": 0.0,
       "orientation": "horizontal",
       "style": "IPY_MODEL_040adf18768141e38424169718f326b1",
       "value": 31.0
      }
     },
     "da74cf8b656c4b85b0af6c379c4e53b4": {
      "model_module": "@jupyter-widgets/controls",
      "model_module_version": "1.5.0",
      "model_name": "DescriptionStyleModel",
      "state": {
       "_model_module": "@jupyter-widgets/controls",
       "_model_module_version": "1.5.0",
       "_model_name": "DescriptionStyleModel",
       "_view_count": null,
       "_view_module": "@jupyter-widgets/base",
       "_view_module_version": "1.2.0",
       "_view_name": "StyleView",
       "description_width": ""
      }
     }
    },
    "version_major": 2,
    "version_minor": 0
   }
  }
 },
 "nbformat": 4,
 "nbformat_minor": 5
}