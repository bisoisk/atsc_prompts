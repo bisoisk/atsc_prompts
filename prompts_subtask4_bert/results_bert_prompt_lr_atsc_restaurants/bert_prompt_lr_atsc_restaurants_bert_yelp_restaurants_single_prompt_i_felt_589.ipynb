{
 "cells": [
  {
   "cell_type": "markdown",
   "id": "4b64334d",
   "metadata": {
    "id": "xf3lVTZYhbzA",
    "papermill": {
     "duration": 0.01868,
     "end_time": "2021-05-08T04:11:59.507265",
     "exception": false,
     "start_time": "2021-05-08T04:11:59.488585",
     "status": "completed"
    },
    "tags": []
   },
   "source": [
    "# Initial Setups"
   ]
  },
  {
   "cell_type": "markdown",
   "id": "0259b0a4",
   "metadata": {
    "id": "2ORFXeezn5Og",
    "papermill": {
     "duration": 0.021559,
     "end_time": "2021-05-08T04:11:59.549236",
     "exception": false,
     "start_time": "2021-05-08T04:11:59.527677",
     "status": "completed"
    },
    "tags": []
   },
   "source": [
    "## (Google Colab use only)"
   ]
  },
  {
   "cell_type": "code",
   "execution_count": 1,
   "id": "e2fc0be0",
   "metadata": {
    "colab": {
     "base_uri": "https://localhost:8080/"
    },
    "execution": {
     "iopub.execute_input": "2021-05-08T04:11:59.600285Z",
     "iopub.status.busy": "2021-05-08T04:11:59.599580Z",
     "iopub.status.idle": "2021-05-08T04:11:59.602250Z",
     "shell.execute_reply": "2021-05-08T04:11:59.601759Z"
    },
    "executionInfo": {
     "elapsed": 3570,
     "status": "ok",
     "timestamp": 1620418927808,
     "user": {
      "displayName": "Ronald Seoh",
      "photoUrl": "",
      "userId": "10284188050297676522"
     },
     "user_tz": 240
    },
    "id": "YFAQ6IgXn8FK",
    "outputId": "25f6ccd2-93f3-4714-9551-e47ee5916705",
    "papermill": {
     "duration": 0.026427,
     "end_time": "2021-05-08T04:11:59.602396",
     "exception": false,
     "start_time": "2021-05-08T04:11:59.575969",
     "status": "completed"
    },
    "tags": []
   },
   "outputs": [],
   "source": [
    "# Use Google Colab\n",
    "use_colab = False\n",
    "\n",
    "# Is this notebook running on Colab?\n",
    "# If so, then google.colab package (github.com/googlecolab/colabtools)\n",
    "# should be available in this environment\n",
    "\n",
    "# Previous version used importlib, but we could do the same thing with\n",
    "# just attempting to import google.colab\n",
    "try:\n",
    "    from google.colab import drive\n",
    "    colab_available = True\n",
    "except:\n",
    "    colab_available = False\n",
    "\n",
    "if use_colab and colab_available:\n",
    "    drive.mount('/content/drive')\n",
    "\n",
    "    # cd to the appropriate working directory under my Google Drive\n",
    "    %cd '/content/drive/My Drive/cs696ds_lexalytics/Ronald Gypsum Prompts'\n",
    "    \n",
    "    # Install packages specified in requirements\n",
    "    !pip install -r requirements.txt\n",
    "\n",
    "    %cd 'prompts_subtask4'\n",
    "    \n",
    "    # List the directory contents\n",
    "    !ls"
   ]
  },
  {
   "cell_type": "markdown",
   "id": "df05193d",
   "metadata": {
    "id": "tgzsHF7Zhbzo",
    "papermill": {
     "duration": 0.022572,
     "end_time": "2021-05-08T04:11:59.665326",
     "exception": false,
     "start_time": "2021-05-08T04:11:59.642754",
     "status": "completed"
    },
    "tags": []
   },
   "source": [
    "## Experiment parameters"
   ]
  },
  {
   "cell_type": "code",
   "execution_count": 2,
   "id": "40e7ad3d",
   "metadata": {
    "execution": {
     "iopub.execute_input": "2021-05-08T04:11:59.706016Z",
     "iopub.status.busy": "2021-05-08T04:11:59.705226Z",
     "iopub.status.idle": "2021-05-08T04:11:59.707229Z",
     "shell.execute_reply": "2021-05-08T04:11:59.707582Z"
    },
    "id": "DUpGBmOJhbzs",
    "papermill": {
     "duration": 0.023155,
     "end_time": "2021-05-08T04:11:59.707727",
     "exception": false,
     "start_time": "2021-05-08T04:11:59.684572",
     "status": "completed"
    },
    "tags": [
     "parameters"
    ]
   },
   "outputs": [],
   "source": [
    "# We will use the following string ID to identify this particular (training) experiments\n",
    "# in directory paths and other settings\n",
    "experiment_id = 'bert_prompt_lr_atsc_laptops_bert-base-uncased_multiple_prompts'\n",
    "\n",
    "# Random seed\n",
    "random_seed = 696\n",
    "\n",
    "# path to pretrained MLM model folder or the string \"bert-base-uncased\"\n",
    "lm_model_path = \"bert-base-uncased\"\n",
    "\n",
    "# Prompts to be added to the end of each review text\n",
    "sentiment_prompts = [\n",
    "    \"The {aspect} is [MASK].\",\n",
    "    \"I [MASK] the {aspect}.\",\n",
    "    \"I felt the {aspect} was [MASK].\",\n",
    "    \"The {aspect} made me feel [MASK].\"]\n",
    "\n",
    "# Multiple prompt merging behavior\n",
    "prompts_merge_behavior = 'concatenate'\n",
    "\n",
    "# Perturb the input embeddings of tokens within the prompts\n",
    "prompts_perturb = False\n",
    "\n",
    "# Test settings\n",
    "testing_batch_size = 32\n",
    "testing_domain = 'restaurants' # 'laptops', 'restaurants', 'joint'"
   ]
  },
  {
   "cell_type": "code",
   "execution_count": 3,
   "id": "642a3dee",
   "metadata": {
    "execution": {
     "iopub.execute_input": "2021-05-08T04:11:59.749371Z",
     "iopub.status.busy": "2021-05-08T04:11:59.748722Z",
     "iopub.status.idle": "2021-05-08T04:11:59.751384Z",
     "shell.execute_reply": "2021-05-08T04:11:59.750951Z"
    },
    "papermill": {
     "duration": 0.022788,
     "end_time": "2021-05-08T04:11:59.751501",
     "exception": false,
     "start_time": "2021-05-08T04:11:59.728713",
     "status": "completed"
    },
    "tags": [
     "injected-parameters"
    ]
   },
   "outputs": [],
   "source": [
    "# Parameters\n",
    "experiment_id = (\n",
    "    \"bert_prompt_lr_atsc_restaurants_bert_yelp_restaurants_single_prompt_i_felt_589\"\n",
    ")\n",
    "random_seed = 589\n",
    "lm_model_path = \"../trained_models/lm_further_pretraining_bert_yelp_restaurants_bseoh_2021-03-22--15_03_31\"\n",
    "sentiment_prompts = [\"I felt the {aspect} was [MASK].\"]\n",
    "testing_batch_size = 32\n",
    "testing_domain = \"restaurants\"\n",
    "prompts_merge_behavior = \"concatenate\"\n",
    "prompts_perturb = False\n"
   ]
  },
  {
   "cell_type": "code",
   "execution_count": 4,
   "id": "f1b04741",
   "metadata": {
    "execution": {
     "iopub.execute_input": "2021-05-08T04:11:59.801050Z",
     "iopub.status.busy": "2021-05-08T04:11:59.800401Z",
     "iopub.status.idle": "2021-05-08T04:11:59.802966Z",
     "shell.execute_reply": "2021-05-08T04:11:59.803390Z"
    },
    "id": "AtJhBPXMY36f",
    "papermill": {
     "duration": 0.032293,
     "end_time": "2021-05-08T04:11:59.803537",
     "exception": false,
     "start_time": "2021-05-08T04:11:59.771244",
     "status": "completed"
    },
    "tags": []
   },
   "outputs": [],
   "source": [
    "# Batch size adjustment for multiple prompts.\n",
    "testing_batch_size = testing_batch_size // len(sentiment_prompts)"
   ]
  },
  {
   "cell_type": "code",
   "execution_count": 5,
   "id": "5972c5d3",
   "metadata": {
    "colab": {
     "base_uri": "https://localhost:8080/"
    },
    "execution": {
     "iopub.execute_input": "2021-05-08T04:11:59.843420Z",
     "iopub.status.busy": "2021-05-08T04:11:59.842825Z",
     "iopub.status.idle": "2021-05-08T04:11:59.845879Z",
     "shell.execute_reply": "2021-05-08T04:11:59.845471Z"
    },
    "executionInfo": {
     "elapsed": 3546,
     "status": "ok",
     "timestamp": 1620418927824,
     "user": {
      "displayName": "Ronald Seoh",
      "photoUrl": "",
      "userId": "10284188050297676522"
     },
     "user_tz": 240
    },
    "id": "keCSh__SY36i",
    "outputId": "7d83760a-ac16-481c-c9e4-6633f493b37d",
    "papermill": {
     "duration": 0.024225,
     "end_time": "2021-05-08T04:11:59.846044",
     "exception": false,
     "start_time": "2021-05-08T04:11:59.821819",
     "status": "completed"
    },
    "tags": []
   },
   "outputs": [
    {
     "name": "stdout",
     "output_type": "stream",
     "text": [
      "Experiment ID: bert_prompt_lr_atsc_restaurants_bert_yelp_restaurants_single_prompt_i_felt_589\n"
     ]
    }
   ],
   "source": [
    "print(\"Experiment ID:\", experiment_id)"
   ]
  },
  {
   "cell_type": "markdown",
   "id": "023b3983",
   "metadata": {
    "id": "GYZesqTioMvF",
    "papermill": {
     "duration": 0.017802,
     "end_time": "2021-05-08T04:11:59.882398",
     "exception": false,
     "start_time": "2021-05-08T04:11:59.864596",
     "status": "completed"
    },
    "tags": []
   },
   "source": [
    "## Package imports"
   ]
  },
  {
   "cell_type": "code",
   "execution_count": 6,
   "id": "71a57f38",
   "metadata": {
    "colab": {
     "base_uri": "https://localhost:8080/"
    },
    "execution": {
     "iopub.execute_input": "2021-05-08T04:11:59.934375Z",
     "iopub.status.busy": "2021-05-08T04:11:59.933548Z",
     "iopub.status.idle": "2021-05-08T04:12:01.111037Z",
     "shell.execute_reply": "2021-05-08T04:12:01.110572Z"
    },
    "executionInfo": {
     "elapsed": 5595,
     "status": "ok",
     "timestamp": 1620418929888,
     "user": {
      "displayName": "Ronald Seoh",
      "photoUrl": "",
      "userId": "10284188050297676522"
     },
     "user_tz": 240
    },
    "id": "MlK_-DrWhbzb",
    "outputId": "5854fa11-ce1f-49a2-a493-6d6b1fb92423",
    "papermill": {
     "duration": 1.209135,
     "end_time": "2021-05-08T04:12:01.111193",
     "exception": false,
     "start_time": "2021-05-08T04:11:59.902058",
     "status": "completed"
    },
    "tags": []
   },
   "outputs": [
    {
     "name": "stdout",
     "output_type": "stream",
     "text": [
      "Python version: 3.7.10 (default, May  3 2021, 02:48:31) \n",
      "[GCC 7.5.0]\n",
      "NumPy version: 1.19.5\n",
      "PyTorch version: 1.7.1\n",
      "Transformers version: 4.3.3\n"
     ]
    }
   ],
   "source": [
    "import sys\n",
    "import os\n",
    "import random\n",
    "import shutil\n",
    "import copy\n",
    "import inspect\n",
    "import json\n",
    "\n",
    "import numpy as np\n",
    "import torch\n",
    "import transformers\n",
    "import datasets\n",
    "import sklearn.metrics\n",
    "import pandas as pd\n",
    "import matplotlib.pyplot as plt\n",
    "import seaborn as sn\n",
    "import tqdm\n",
    "\n",
    "current_dir = os.path.dirname(os.path.abspath(inspect.getfile(inspect.currentframe())))\n",
    "parent_dir = os.path.dirname(current_dir)\n",
    "sys.path.append(parent_dir)\n",
    "\n",
    "import utils\n",
    "\n",
    "# Random seed settings\n",
    "random.seed(random_seed)\n",
    "np.random.seed(random_seed)\n",
    "\n",
    "# cuBLAS reproducibility\n",
    "# https://docs.nvidia.com/cuda/cublas/index.html#cublasApi_reproducibility\n",
    "os.environ['CUBLAS_WORKSPACE_CONFIG'] = \":4096:8\"\n",
    "torch.set_deterministic(True)\n",
    "torch.manual_seed(random_seed)\n",
    "\n",
    "# Print version information\n",
    "print(\"Python version: \" + sys.version)\n",
    "print(\"NumPy version: \" + np.__version__)\n",
    "print(\"PyTorch version: \" + torch.__version__)\n",
    "print(\"Transformers version: \" + transformers.__version__)"
   ]
  },
  {
   "cell_type": "markdown",
   "id": "85b5653a",
   "metadata": {
    "id": "UWuR30eUoTWP",
    "papermill": {
     "duration": 0.018748,
     "end_time": "2021-05-08T04:12:01.152469",
     "exception": false,
     "start_time": "2021-05-08T04:12:01.133721",
     "status": "completed"
    },
    "tags": []
   },
   "source": [
    "## PyTorch GPU settings"
   ]
  },
  {
   "cell_type": "code",
   "execution_count": 7,
   "id": "76f8d35c",
   "metadata": {
    "colab": {
     "base_uri": "https://localhost:8080/"
    },
    "execution": {
     "iopub.execute_input": "2021-05-08T04:12:01.210494Z",
     "iopub.status.busy": "2021-05-08T04:12:01.207741Z",
     "iopub.status.idle": "2021-05-08T04:12:01.243638Z",
     "shell.execute_reply": "2021-05-08T04:12:01.244144Z"
    },
    "executionInfo": {
     "elapsed": 5585,
     "status": "ok",
     "timestamp": 1620418929892,
     "user": {
      "displayName": "Ronald Seoh",
      "photoUrl": "",
      "userId": "10284188050297676522"
     },
     "user_tz": 240
    },
    "id": "PfNlm-ykoSlM",
    "outputId": "9b7cc30c-e6ae-404d-ce4f-b2afbdbec29d",
    "papermill": {
     "duration": 0.067721,
     "end_time": "2021-05-08T04:12:01.244341",
     "exception": false,
     "start_time": "2021-05-08T04:12:01.176620",
     "status": "completed"
    },
    "tags": []
   },
   "outputs": [
    {
     "name": "stdout",
     "output_type": "stream",
     "text": [
      "CUDA Version: 10.2\n",
      "cuDNN Version: 7605\n",
      "CUDA Device Name: Tesla T4\n",
      "CUDA Capabilities: (7, 5)\n",
      "Number of CUDA devices: 1\n",
      "\n",
      "PyTorch device selected: cuda\n"
     ]
    }
   ],
   "source": [
    "if torch.cuda.is_available():    \n",
    "    torch_device = torch.device('cuda')\n",
    "\n",
    "    # Set this to True to make your output immediately reproducible\n",
    "    # Note: https://pytorch.org/docs/stable/notes/randomness.html\n",
    "    torch.backends.cudnn.deterministic = True\n",
    "    \n",
    "    # Disable 'benchmark' mode: Set this False if you want to measure running times more fairly\n",
    "    # Note: https://discuss.pytorch.org/t/what-does-torch-backends-cudnn-benchmark-do/5936\n",
    "    torch.backends.cudnn.benchmark = False\n",
    "    \n",
    "    # Faster Host to GPU copies with page-locked memory\n",
    "    use_pin_memory = True\n",
    "    \n",
    "    # Number of compute devices to be used for training\n",
    "    training_device_count = torch.cuda.device_count()\n",
    "\n",
    "    # CUDA libraries version information\n",
    "    print(\"CUDA Version: \" + str(torch.version.cuda))\n",
    "    print(\"cuDNN Version: \" + str(torch.backends.cudnn.version()))\n",
    "    print(\"CUDA Device Name: \" + str(torch.cuda.get_device_name()))\n",
    "    print(\"CUDA Capabilities: \"+ str(torch.cuda.get_device_capability()))\n",
    "    print(\"Number of CUDA devices: \"+ str(training_device_count))\n",
    "    \n",
    "else:\n",
    "    torch_device = torch.device('cpu')\n",
    "    use_pin_memory = False\n",
    "    \n",
    "    # Number of compute devices to be used for training\n",
    "    training_device_count = 1\n",
    "\n",
    "print()\n",
    "print(\"PyTorch device selected:\", torch_device)"
   ]
  },
  {
   "cell_type": "markdown",
   "id": "d8c65445",
   "metadata": {
    "id": "ayX5VRLfocFk",
    "papermill": {
     "duration": 0.10213,
     "end_time": "2021-05-08T04:12:01.366779",
     "exception": false,
     "start_time": "2021-05-08T04:12:01.264649",
     "status": "completed"
    },
    "tags": []
   },
   "source": [
    "# Prepare Datasets for Prompt-based Classifier"
   ]
  },
  {
   "cell_type": "markdown",
   "id": "be1fb1d7",
   "metadata": {
    "id": "U9LAAJP-hbz7",
    "papermill": {
     "duration": 0.028588,
     "end_time": "2021-05-08T04:12:01.417271",
     "exception": false,
     "start_time": "2021-05-08T04:12:01.388683",
     "status": "completed"
    },
    "tags": []
   },
   "source": [
    "## Load the SemEval dataset"
   ]
  },
  {
   "cell_type": "code",
   "execution_count": 8,
   "id": "37c282cd",
   "metadata": {
    "colab": {
     "base_uri": "https://localhost:8080/"
    },
    "execution": {
     "iopub.execute_input": "2021-05-08T04:12:01.461647Z",
     "iopub.status.busy": "2021-05-08T04:12:01.460807Z",
     "iopub.status.idle": "2021-05-08T04:12:01.495455Z",
     "shell.execute_reply": "2021-05-08T04:12:01.494642Z"
    },
    "executionInfo": {
     "elapsed": 5575,
     "status": "ok",
     "timestamp": 1620418929895,
     "user": {
      "displayName": "Ronald Seoh",
      "photoUrl": "",
      "userId": "10284188050297676522"
     },
     "user_tz": 240
    },
    "id": "gpL2uHPUhbz9",
    "outputId": "41504d48-f3c5-4361-a055-e24d3046f9c8",
    "papermill": {
     "duration": 0.056879,
     "end_time": "2021-05-08T04:12:01.495585",
     "exception": false,
     "start_time": "2021-05-08T04:12:01.438706",
     "status": "completed"
    },
    "tags": []
   },
   "outputs": [
    {
     "name": "stderr",
     "output_type": "stream",
     "text": [
      "Reusing dataset sem_eval2014_task4_dataset (../dataset_cache/sem_eval2014_task4_dataset/SemEval2014Task4Dataset - Subtask 4/0.0.1/537edd3b5fdbdb1f3190419cf0a53a4fab3537bc666f17c8c75fa8d0b554e529)\n"
     ]
    }
   ],
   "source": [
    "# Load semeval for both domains\n",
    "restaurants_dataset = datasets.load_dataset(\n",
    "    os.path.abspath('../dataset_scripts/semeval2014_task4/semeval2014_task4.py'),\n",
    "    name=\"SemEval2014Task4Dataset - Subtask 4\",\n",
    "    data_files={\n",
    "        'test': '../dataset_files/semeval_2014/Restaurants_Test_Gold.xml',\n",
    "        'train': '../dataset_files/semeval_2014/Restaurants_Train_v2.xml',\n",
    "    },\n",
    "    cache_dir='../dataset_cache')"
   ]
  },
  {
   "cell_type": "code",
   "execution_count": 9,
   "id": "388a6318",
   "metadata": {
    "execution": {
     "iopub.execute_input": "2021-05-08T04:12:01.547655Z",
     "iopub.status.busy": "2021-05-08T04:12:01.546164Z",
     "iopub.status.idle": "2021-05-08T04:12:01.548284Z",
     "shell.execute_reply": "2021-05-08T04:12:01.548709Z"
    },
    "id": "Gi5m8AbPj1iJ",
    "papermill": {
     "duration": 0.032549,
     "end_time": "2021-05-08T04:12:01.548865",
     "exception": false,
     "start_time": "2021-05-08T04:12:01.516316",
     "status": "completed"
    },
    "tags": []
   },
   "outputs": [],
   "source": [
    "# The dataset chosen for testing\n",
    "if testing_domain == 'restaurants':\n",
    "    test_set = restaurants_dataset['test']"
   ]
  },
  {
   "cell_type": "code",
   "execution_count": 10,
   "id": "bc0d3ffc",
   "metadata": {
    "colab": {
     "base_uri": "https://localhost:8080/"
    },
    "execution": {
     "iopub.execute_input": "2021-05-08T04:12:01.593649Z",
     "iopub.status.busy": "2021-05-08T04:12:01.592847Z",
     "iopub.status.idle": "2021-05-08T04:12:01.597762Z",
     "shell.execute_reply": "2021-05-08T04:12:01.597263Z"
    },
    "executionInfo": {
     "elapsed": 5557,
     "status": "ok",
     "timestamp": 1620418929901,
     "user": {
      "displayName": "Ronald Seoh",
      "photoUrl": "",
      "userId": "10284188050297676522"
     },
     "user_tz": 240
    },
    "id": "Est9ao9rcH4l",
    "outputId": "8487f46b-593a-43f6-b98c-eb559af8d169",
    "papermill": {
     "duration": 0.029685,
     "end_time": "2021-05-08T04:12:01.597881",
     "exception": false,
     "start_time": "2021-05-08T04:12:01.568196",
     "status": "completed"
    },
    "tags": []
   },
   "outputs": [
    {
     "name": "stdout",
     "output_type": "stream",
     "text": [
      "973\n"
     ]
    }
   ],
   "source": [
    "print(len(test_set))"
   ]
  },
  {
   "cell_type": "code",
   "execution_count": 11,
   "id": "1204bd64",
   "metadata": {
    "colab": {
     "base_uri": "https://localhost:8080/"
    },
    "execution": {
     "iopub.execute_input": "2021-05-08T04:12:01.654736Z",
     "iopub.status.busy": "2021-05-08T04:12:01.653023Z",
     "iopub.status.idle": "2021-05-08T04:12:01.656425Z",
     "shell.execute_reply": "2021-05-08T04:12:01.655973Z"
    },
    "executionInfo": {
     "elapsed": 5547,
     "status": "ok",
     "timestamp": 1620418929903,
     "user": {
      "displayName": "Ronald Seoh",
      "photoUrl": "",
      "userId": "10284188050297676522"
     },
     "user_tz": 240
    },
    "id": "_npZeCIqcKjT",
    "outputId": "8951acb2-32ca-4e07-e1cf-011aa6831a69",
    "papermill": {
     "duration": 0.037276,
     "end_time": "2021-05-08T04:12:01.656548",
     "exception": false,
     "start_time": "2021-05-08T04:12:01.619272",
     "status": "completed"
    },
    "tags": []
   },
   "outputs": [
    {
     "name": "stdout",
     "output_type": "stream",
     "text": [
      "{'aspect': 'ambience', 'sentiment': 0, 'text': 'Certainly not the best sushi in New York, however, it is always fresh, and the place is very clean, sterile.'}\n"
     ]
    }
   ],
   "source": [
    "print(test_set[4])"
   ]
  },
  {
   "cell_type": "markdown",
   "id": "353ba8de",
   "metadata": {
    "id": "6TOMmAtIvoZ_",
    "papermill": {
     "duration": 0.019671,
     "end_time": "2021-05-08T04:12:01.696188",
     "exception": false,
     "start_time": "2021-05-08T04:12:01.676517",
     "status": "completed"
    },
    "tags": []
   },
   "source": [
    "# Zero-shot ATSC with Prompts"
   ]
  },
  {
   "cell_type": "markdown",
   "id": "d7622254",
   "metadata": {
    "id": "3jNAtuv-hbzv",
    "papermill": {
     "duration": 0.019209,
     "end_time": "2021-05-08T04:12:01.735709",
     "exception": false,
     "start_time": "2021-05-08T04:12:01.716500",
     "status": "completed"
    },
    "tags": []
   },
   "source": [
    "## Initialize BERT MLM"
   ]
  },
  {
   "cell_type": "code",
   "execution_count": 12,
   "id": "05218762",
   "metadata": {
    "execution": {
     "iopub.execute_input": "2021-05-08T04:12:01.900206Z",
     "iopub.status.busy": "2021-05-08T04:12:01.899004Z",
     "iopub.status.idle": "2021-05-08T04:12:05.575984Z",
     "shell.execute_reply": "2021-05-08T04:12:05.575411Z"
    },
    "id": "En2BmfjVhbzy",
    "papermill": {
     "duration": 3.819385,
     "end_time": "2021-05-08T04:12:05.576152",
     "exception": false,
     "start_time": "2021-05-08T04:12:01.756767",
     "status": "completed"
    },
    "tags": []
   },
   "outputs": [],
   "source": [
    "# Load pretrained language model\n",
    "# Use the config, but not the actual weights, from the pretrained model\n",
    "lm_config = transformers.AutoConfig.from_pretrained('bert-base-uncased', cache_dir='../bert_base_cache')\n",
    "lm = transformers.AutoModelForMaskedLM.from_config(lm_config)\n",
    "tokenizer = transformers.AutoTokenizer.from_pretrained('bert-base-uncased', cache_dir='../bert_base_cache')"
   ]
  },
  {
   "cell_type": "markdown",
   "id": "803706cb",
   "metadata": {
    "id": "TEIbN5Xthb0o",
    "papermill": {
     "duration": 0.01932,
     "end_time": "2021-05-08T04:12:05.616346",
     "exception": false,
     "start_time": "2021-05-08T04:12:05.597026",
     "status": "completed"
    },
    "tags": []
   },
   "source": [
    "## Define a new model"
   ]
  },
  {
   "cell_type": "code",
   "execution_count": 13,
   "id": "9197e446",
   "metadata": {
    "colab": {
     "base_uri": "https://localhost:8080/"
    },
    "execution": {
     "iopub.execute_input": "2021-05-08T04:12:05.678843Z",
     "iopub.status.busy": "2021-05-08T04:12:05.677829Z",
     "iopub.status.idle": "2021-05-08T04:12:08.635277Z",
     "shell.execute_reply": "2021-05-08T04:12:08.634767Z"
    },
    "executionInfo": {
     "elapsed": 12519,
     "status": "ok",
     "timestamp": 1620418936896,
     "user": {
      "displayName": "Ronald Seoh",
      "photoUrl": "",
      "userId": "10284188050297676522"
     },
     "user_tz": 240
    },
    "id": "wN3q4Rsopxby",
    "outputId": "f9336495-e129-4ca0-d311-6bc3c2f38c20",
    "papermill": {
     "duration": 2.996937,
     "end_time": "2021-05-08T04:12:08.635436",
     "exception": false,
     "start_time": "2021-05-08T04:12:05.638499",
     "status": "completed"
    },
    "tags": []
   },
   "outputs": [
    {
     "name": "stdout",
     "output_type": "stream",
     "text": [
      "Detected LM type: bert\n"
     ]
    }
   ],
   "source": [
    "classifier_model = utils.MultiPromptSentimentClassificationHead(\n",
    "    lm=lm,\n",
    "    num_class=3,\n",
    "    num_prompts=len(sentiment_prompts),\n",
    "    target_token_id=tokenizer.mask_token_id,\n",
    "    merge_behavior=prompts_merge_behavior,\n",
    "    perturb_prompts=prompts_perturb)\n",
    "\n",
    "classifier_model = classifier_model.to(device=torch_device)"
   ]
  },
  {
   "cell_type": "markdown",
   "id": "a69d21cc",
   "metadata": {
    "id": "1U6B5GNSYBYk",
    "papermill": {
     "duration": 0.019802,
     "end_time": "2021-05-08T04:12:08.676636",
     "exception": false,
     "start_time": "2021-05-08T04:12:08.656834",
     "status": "completed"
    },
    "tags": []
   },
   "source": [
    "## Load our saved weights"
   ]
  },
  {
   "cell_type": "code",
   "execution_count": 14,
   "id": "4d2160cd",
   "metadata": {
    "colab": {
     "base_uri": "https://localhost:8080/"
    },
    "execution": {
     "iopub.execute_input": "2021-05-08T04:12:08.734837Z",
     "iopub.status.busy": "2021-05-08T04:12:08.734162Z",
     "iopub.status.idle": "2021-05-08T04:12:17.148080Z",
     "shell.execute_reply": "2021-05-08T04:12:17.146667Z"
    },
    "executionInfo": {
     "elapsed": 14206,
     "status": "ok",
     "timestamp": 1620418938595,
     "user": {
      "displayName": "Ronald Seoh",
      "photoUrl": "",
      "userId": "10284188050297676522"
     },
     "user_tz": 240
    },
    "id": "gLo25nUcYBGx",
    "outputId": "f5fef2db-f954-4d65-b4c9-c8e93a269b5d",
    "papermill": {
     "duration": 8.444243,
     "end_time": "2021-05-08T04:12:17.148254",
     "exception": false,
     "start_time": "2021-05-08T04:12:08.704011",
     "status": "completed"
    },
    "tags": []
   },
   "outputs": [
    {
     "name": "stdout",
     "output_type": "stream",
     "text": [
      "Loading epoch_13.pt\n"
     ]
    },
    {
     "data": {
      "text/plain": [
       "<All keys matched successfully>"
      ]
     },
     "execution_count": 14,
     "metadata": {},
     "output_type": "execute_result"
    }
   ],
   "source": [
    "# Locate the weight file.\n",
    "trained_model_directory = os.path.join('..', 'trained_models_prompts', experiment_id)\n",
    "\n",
    "saved_weights_name = ''\n",
    "\n",
    "for fname in os.listdir(trained_model_directory):\n",
    "    if fname.startswith('epoch'):\n",
    "        saved_weights_name = fname\n",
    "        break\n",
    "\n",
    "print(\"Loading\", saved_weights_name)\n",
    "\n",
    "classifier_model.load_state_dict(torch.load(\n",
    "    os.path.join(trained_model_directory, saved_weights_name),\n",
    "    map_location=torch_device))"
   ]
  },
  {
   "cell_type": "markdown",
   "id": "c3c04ccf",
   "metadata": {
    "id": "1l1H_XIPhb0y",
    "papermill": {
     "duration": 0.02934,
     "end_time": "2021-05-08T04:12:17.204457",
     "exception": false,
     "start_time": "2021-05-08T04:12:17.175117",
     "status": "completed"
    },
    "tags": []
   },
   "source": [
    "## Evaluation with in-domain test set\n",
    "\n"
   ]
  },
  {
   "cell_type": "code",
   "execution_count": 15,
   "id": "55660a09",
   "metadata": {
    "execution": {
     "iopub.execute_input": "2021-05-08T04:12:17.252674Z",
     "iopub.status.busy": "2021-05-08T04:12:17.251143Z",
     "iopub.status.idle": "2021-05-08T04:12:17.253326Z",
     "shell.execute_reply": "2021-05-08T04:12:17.253713Z"
    },
    "id": "0S80DoYrqApi",
    "papermill": {
     "duration": 0.027521,
     "end_time": "2021-05-08T04:12:17.253855",
     "exception": false,
     "start_time": "2021-05-08T04:12:17.226334",
     "status": "completed"
    },
    "tags": []
   },
   "outputs": [],
   "source": [
    "def compute_metrics(predictions, labels):\n",
    "    preds = predictions.argmax(-1)\n",
    "\n",
    "    precision, recall, f1, _ = sklearn.metrics.precision_recall_fscore_support(\n",
    "        y_true=labels, y_pred=preds, labels=[0,1,2], average='macro')\n",
    "\n",
    "    acc = sklearn.metrics.accuracy_score(labels, preds)\n",
    "\n",
    "    return {\n",
    "        'accuracy': acc,\n",
    "        'f1': f1,\n",
    "        'precision': precision,\n",
    "        'recall': recall\n",
    "    }"
   ]
  },
  {
   "cell_type": "code",
   "execution_count": 16,
   "id": "8bc38521",
   "metadata": {
    "execution": {
     "iopub.execute_input": "2021-05-08T04:12:17.305569Z",
     "iopub.status.busy": "2021-05-08T04:12:17.304506Z",
     "iopub.status.idle": "2021-05-08T04:12:17.307353Z",
     "shell.execute_reply": "2021-05-08T04:12:17.307739Z"
    },
    "id": "9NXoBTs5h2eO",
    "papermill": {
     "duration": 0.031543,
     "end_time": "2021-05-08T04:12:17.307897",
     "exception": false,
     "start_time": "2021-05-08T04:12:17.276354",
     "status": "completed"
    },
    "tags": []
   },
   "outputs": [],
   "source": [
    "test_dataloader = torch.utils.data.DataLoader(\n",
    "    test_set, batch_size=testing_batch_size, pin_memory=use_pin_memory)"
   ]
  },
  {
   "cell_type": "code",
   "execution_count": 17,
   "id": "7dff9990",
   "metadata": {
    "colab": {
     "base_uri": "https://localhost:8080/",
     "height": 104,
     "referenced_widgets": [
      "8bc7129ea76340a494cc7916b037c052",
      "5704871af06f4221b051f07f65c7e74a",
      "1ee6f145ba0e4da09d2d31bf1967da8d",
      "ce70f9442d0240118f9f76c3a485e383",
      "65ff039fa4f94365bd0d070c5f22be61",
      "5f1b30eb632447ccad493dc94bb2e168",
      "ac65a5f115be49628880b6582b47d873",
      "31348e5edcad45d4a8559cdd6b677ee2"
     ]
    },
    "execution": {
     "iopub.execute_input": "2021-05-08T04:12:17.373676Z",
     "iopub.status.busy": "2021-05-08T04:12:17.372699Z",
     "iopub.status.idle": "2021-05-08T04:12:39.228462Z",
     "shell.execute_reply": "2021-05-08T04:12:39.229269Z"
    },
    "executionInfo": {
     "elapsed": 95055,
     "status": "ok",
     "timestamp": 1620419019471,
     "user": {
      "displayName": "Ronald Seoh",
      "photoUrl": "",
      "userId": "10284188050297676522"
     },
     "user_tz": 240
    },
    "id": "LLcc_wZjhb0y",
    "outputId": "16de918b-7858-4cf6-d7b5-5194affd2151",
    "papermill": {
     "duration": 21.900155,
     "end_time": "2021-05-08T04:12:39.229495",
     "exception": false,
     "start_time": "2021-05-08T04:12:17.329340",
     "status": "completed"
    },
    "tags": []
   },
   "outputs": [
    {
     "data": {
      "application/vnd.jupyter.widget-view+json": {
       "model_id": "14666b7e0e4d44d895cd7e498f67ebf2",
       "version_major": 2,
       "version_minor": 0
      },
      "text/plain": [
       "HBox(children=(FloatProgress(value=0.0, max=31.0), HTML(value='')))"
      ]
     },
     "metadata": {},
     "output_type": "display_data"
    },
    {
     "name": "stdout",
     "output_type": "stream",
     "text": [
      "\n",
      "{'accuracy': 0.8663926002055499, 'f1': 0.7735873542437924, 'precision': 0.7860257391214933, 'recall': 0.8168840656453598}\n"
     ]
    }
   ],
   "source": [
    "with torch.no_grad():\n",
    "    classifier_model.eval()\n",
    "\n",
    "    predictions_test = torch.Tensor([])\n",
    "    labels_test = torch.Tensor([])\n",
    "\n",
    "    for batch_val in tqdm.notebook.tqdm(test_dataloader):\n",
    "\n",
    "        reviews_repeated = []\n",
    "        prompts_populated = []\n",
    "\n",
    "        for prompt in sentiment_prompts:\n",
    "            reviews_repeated = reviews_repeated + batch_val[\"text\"]\n",
    "\n",
    "            for aspect in batch_val[\"aspect\"]:\n",
    "                prompts_populated.append(prompt.format(aspect=aspect))\n",
    "\n",
    "        batch_encoded = tokenizer(\n",
    "            reviews_repeated, prompts_populated,\n",
    "            padding='max_length', truncation='only_first', max_length=256,\n",
    "            return_tensors='pt')\n",
    "        \n",
    "        batch_encoded.to(torch_device)\n",
    "\n",
    "        labels = batch_val[\"sentiment\"]\n",
    "\n",
    "        outputs = classifier_model(batch_encoded)\n",
    "\n",
    "        outputs = outputs.to('cpu')\n",
    "\n",
    "        predictions_test = torch.cat([predictions_test, outputs])\n",
    "        labels_test = torch.cat([labels_test, labels])\n",
    "\n",
    "    # Compute metrics\n",
    "    test_metrics = compute_metrics(predictions_test, labels_test)\n",
    "\n",
    "    print(test_metrics)\n",
    "\n",
    "    # Save test_metrics into a file for later processing\n",
    "    with open(os.path.join(trained_model_directory, 'test_metrics_subtask4.json'), 'w') as test_metrics_json:\n",
    "        json.dump(test_metrics, test_metrics_json)"
   ]
  },
  {
   "cell_type": "markdown",
   "id": "66f06b06",
   "metadata": {
    "id": "HjpA_0m1hb08",
    "papermill": {
     "duration": 0.028125,
     "end_time": "2021-05-08T04:12:39.282795",
     "exception": false,
     "start_time": "2021-05-08T04:12:39.254670",
     "status": "completed"
    },
    "tags": []
   },
   "source": [
    "## Results visualization"
   ]
  },
  {
   "cell_type": "code",
   "execution_count": 18,
   "id": "fd245db8",
   "metadata": {
    "colab": {
     "base_uri": "https://localhost:8080/",
     "height": 442
    },
    "execution": {
     "iopub.execute_input": "2021-05-08T04:12:39.333931Z",
     "iopub.status.busy": "2021-05-08T04:12:39.333044Z",
     "iopub.status.idle": "2021-05-08T04:12:39.550097Z",
     "shell.execute_reply": "2021-05-08T04:12:39.550717Z"
    },
    "executionInfo": {
     "elapsed": 95048,
     "status": "ok",
     "timestamp": 1620419019476,
     "user": {
      "displayName": "Ronald Seoh",
      "photoUrl": "",
      "userId": "10284188050297676522"
     },
     "user_tz": 240
    },
    "id": "w9G9AUeQhb09",
    "outputId": "06eb5449-2881-43c4-98b5-ad2cee1f476f",
    "papermill": {
     "duration": 0.243926,
     "end_time": "2021-05-08T04:12:39.550933",
     "exception": false,
     "start_time": "2021-05-08T04:12:39.307007",
     "status": "completed"
    },
    "tags": []
   },
   "outputs": [
    {
     "data": {
      "image/png": "[encoded data removed]",
      "text/plain": [
       "<Figure size 720x504 with 2 Axes>"
      ]
     },
     "metadata": {
      "needs_background": "light"
     },
     "output_type": "display_data"
    }
   ],
   "source": [
    "# Calculate metrics and confusion matrix based upon predictions and true labels\n",
    "cm = sklearn.metrics.confusion_matrix(labels_test.detach().numpy(), predictions_test.detach().numpy().argmax(-1))\n",
    "\n",
    "df_cm = pd.DataFrame(\n",
    "    cm,\n",
    "    index=[i for i in [\"positive\", \"negative\", \"neutral\"]],\n",
    "    columns=[i for i in [\"positive\", \"negative\", \"neutral\"]])\n",
    "\n",
    "plt.figure(figsize=(10, 7))\n",
    "\n",
    "ax = sn.heatmap(df_cm, annot=True)\n",
    "\n",
    "ax.set(xlabel='Predicted Label', ylabel='True Label')\n",
    "plt.show()"
   ]
  },
  {
   "cell_type": "code",
   "execution_count": null,
   "id": "6444b413",
   "metadata": {
    "id": "4Wo_Yk0LY37d",
    "papermill": {
     "duration": 0.029251,
     "end_time": "2021-05-08T04:12:39.604490",
     "exception": false,
     "start_time": "2021-05-08T04:12:39.575239",
     "status": "completed"
    },
    "tags": []
   },
   "outputs": [],
   "source": []
  }
 ],
 "metadata": {
  "accelerator": "GPU",
  "celltoolbar": "Tags",
  "colab": {
   "collapsed_sections": [],
   "name": "bert_prompt_lr_subtask4.ipynb",
   "provenance": [],
   "toc_visible": true
  },
  "kernelspec": {
   "display_name": "Python 3",
   "language": "python",
   "name": "python3"
  },
  "language_info": {
   "codemirror_mode": {
    "name": "ipython",
    "version": 3
   },
   "file_extension": ".py",
   "mimetype": "text/x-python",
   "name": "python",
   "nbconvert_exporter": "python",
   "pygments_lexer": "ipython3",
   "version": "3.7.10"
  },
  "papermill": {
   "default_parameters": {},
   "duration": 43.101436,
   "end_time": "2021-05-08T04:12:41.204649",
   "environment_variables": {},
   "exception": null,
   "input_path": "bert_prompt_lr_subtask4.ipynb",
   "output_path": "results_bert_prompt_lr_atsc_restaurants/bert_prompt_lr_atsc_restaurants_bert_yelp_restaurants_single_prompt_i_felt_589.ipynb",
   "parameters": {
    "experiment_id": "bert_prompt_lr_atsc_restaurants_bert_yelp_restaurants_single_prompt_i_felt_589",
    "lm_model_path": "../trained_models/lm_further_pretraining_bert_yelp_restaurants_bseoh_2021-03-22--15_03_31",
    "prompts_merge_behavior": "concatenate",
    "prompts_perturb": false,
    "random_seed": 589,
    "sentiment_prompts": [
     "I felt the {aspect} was [MASK]."
    ],
    "testing_batch_size": 32,
    "testing_domain": "restaurants"
   },
   "start_time": "2021-05-08T04:11:58.103213",
   "version": "2.3.2"
  },
  "widgets": {
   "application/vnd.jupyter.widget-state+json": {
    "state": {
     "073cd351d71f4e16adfef412d7ba2546": {
      "model_module": "@jupyter-widgets/controls",
      "model_module_version": "1.5.0",
      "model_name": "ProgressStyleModel",
      "state": {
       "_model_module": "@jupyter-widgets/controls",
       "_model_module_version": "1.5.0",
       "_model_name": "ProgressStyleModel",
       "_view_count": null,
       "_view_module": "@jupyter-widgets/base",
       "_view_module_version": "1.2.0",
       "_view_name": "StyleView",
       "bar_color": null,
       "description_width": "initial"
      }
     },
     "14666b7e0e4d44d895cd7e498f67ebf2": {
      "model_module": "@jupyter-widgets/controls",
      "model_module_version": "1.5.0",
      "model_name": "HBoxModel",
      "state": {
       "_dom_classes": [],
       "_model_module": "@jupyter-widgets/controls",
       "_model_module_version": "1.5.0",
       "_model_name": "HBoxModel",
       "_view_count": null,
       "_view_module": "@jupyter-widgets/controls",
       "_view_module_version": "1.5.0",
       "_view_name": "HBoxView",
       "box_style": "",
       "children": [
        "IPY_MODEL_6fb64f7e95e342b480defcf30200c1ca",
        "IPY_MODEL_d16338f36b5846a3b90c848d3f15f6e4"
       ],
       "layout": "IPY_MODEL_85c0070707ad414a97648dd3d0f69c6b"
      }
     },
     "4dee5fd426c14b95a9238d3dcc2128fc": {
      "model_module": "@jupyter-widgets/controls",
      "model_module_version": "1.5.0",
      "model_name": "DescriptionStyleModel",
      "state": {
       "_model_module": "@jupyter-widgets/controls",
       "_model_module_version": "1.5.0",
       "_model_name": "DescriptionStyleModel",
       "_view_count": null,
       "_view_module": "@jupyter-widgets/base",
       "_view_module_version": "1.2.0",
       "_view_name": "StyleView",
       "description_width": ""
      }
     },
     "5fbabaaac8424df09d63de6a801dd604": {
      "model_module": "@jupyter-widgets/base",
      "model_module_version": "1.2.0",
      "model_name": "LayoutModel",
      "state": {
       "_model_module": "@jupyter-widgets/base",
       "_model_module_version": "1.2.0",
       "_model_name": "LayoutModel",
       "_view_count": null,
       "_view_module": "@jupyter-widgets/base",
       "_view_module_version": "1.2.0",
       "_view_name": "LayoutView",
       "align_content": null,
       "align_items": null,
       "align_self": null,
       "border": null,
       "bottom": null,
       "display": null,
       "flex": null,
       "flex_flow": null,
       "grid_area": null,
       "grid_auto_columns": null,
       "grid_auto_flow": null,
       "grid_auto_rows": null,
       "grid_column": null,
       "grid_gap": null,
       "grid_row": null,
       "grid_template_areas": null,
       "grid_template_columns": null,
       "grid_template_rows": null,
       "height": null,
       "justify_content": null,
       "justify_items": null,
       "left": null,
       "margin": null,
       "max_height": null,
       "max_width": null,
       "min_height": null,
       "min_width": null,
       "object_fit": null,
       "object_position": null,
       "order": null,
       "overflow": null,
       "overflow_x": null,
       "overflow_y": null,
       "padding": null,
       "right": null,
       "top": null,
       "visibility": null,
       "width": null
      }
     },
     "6fb64f7e95e342b480defcf30200c1ca": {
      "model_module": "@jupyter-widgets/controls",
      "model_module_version": "1.5.0",
      "model_name": "FloatProgressModel",
      "state": {
       "_dom_classes": [],
       "_model_module": "@jupyter-widgets/controls",
       "_model_module_version": "1.5.0",
       "_model_name": "FloatProgressModel",
       "_view_count": null,
       "_view_module": "@jupyter-widgets/controls",
       "_view_module_version": "1.5.0",
       "_view_name": "ProgressView",
       "bar_style": "success",
       "description": "100%",
       "description_tooltip": null,
       "layout": "IPY_MODEL_9407c250827b465997695d49efa18c0e",
       "max": 31.0,
       "min": 0.0,
       "orientation": "horizontal",
       "style": "IPY_MODEL_073cd351d71f4e16adfef412d7ba2546",
       "value": 31.0
      }
     },
     "85c0070707ad414a97648dd3d0f69c6b": {
      "model_module": "@jupyter-widgets/base",
      "model_module_version": "1.2.0",
      "model_name": "LayoutModel",
      "state": {
       "_model_module": "@jupyter-widgets/base",
       "_model_module_version": "1.2.0",
       "_model_name": "LayoutModel",
       "_view_count": null,
       "_view_module": "@jupyter-widgets/base",
       "_view_module_version": "1.2.0",
       "_view_name": "LayoutView",
       "align_content": null,
       "align_items": null,
       "align_self": null,
       "border": null,
       "bottom": null,
       "display": null,
       "flex": null,
       "flex_flow": null,
       "grid_area": null,
       "grid_auto_columns": null,
       "grid_auto_flow": null,
       "grid_auto_rows": null,
       "grid_column": null,
       "grid_gap": null,
       "grid_row": null,
       "grid_template_areas": null,
       "grid_template_columns": null,
       "grid_template_rows": null,
       "height": null,
       "justify_content": null,
       "justify_items": null,
       "left": null,
       "margin": null,
       "max_height": null,
       "max_width": null,
       "min_height": null,
       "min_width": null,
       "object_fit": null,
       "object_position": null,
       "order": null,
       "overflow": null,
       "overflow_x": null,
       "overflow_y": null,
       "padding": null,
       "right": null,
       "top": null,
       "visibility": null,
       "width": null
      }
     },
     "9407c250827b465997695d49efa18c0e": {
      "model_module": "@jupyter-widgets/base",
      "model_module_version": "1.2.0",
      "model_name": "LayoutModel",
      "state": {
       "_model_module": "@jupyter-widgets/base",
       "_model_module_version": "1.2.0",
       "_model_name": "LayoutModel",
       "_view_count": null,
       "_view_module": "@jupyter-widgets/base",
       "_view_module_version": "1.2.0",
       "_view_name": "LayoutView",
       "align_content": null,
       "align_items": null,
       "align_self": null,
       "border": null,
       "bottom": null,
       "display": null,
       "flex": null,
       "flex_flow": null,
       "grid_area": null,
       "grid_auto_columns": null,
       "grid_auto_flow": null,
       "grid_auto_rows": null,
       "grid_column": null,
       "grid_gap": null,
       "grid_row": null,
       "grid_template_areas": null,
       "grid_template_columns": null,
       "grid_template_rows": null,
       "height": null,
       "justify_content": null,
       "justify_items": null,
       "left": null,
       "margin": null,
       "max_height": null,
       "max_width": null,
       "min_height": null,
       "min_width": null,
       "object_fit": null,
       "object_position": null,
       "order": null,
       "overflow": null,
       "overflow_x": null,
       "overflow_y": null,
       "padding": null,
       "right": null,
       "top": null,
       "visibility": null,
       "width": null
      }
     },
     "d16338f36b5846a3b90c848d3f15f6e4": {
      "model_module": "@jupyter-widgets/controls",
      "model_module_version": "1.5.0",
      "model_name": "HTMLModel",
      "state": {
       "_dom_classes": [],
       "_model_module": "@jupyter-widgets/controls",
       "_model_module_version": "1.5.0",
       "_model_name": "HTMLModel",
       "_view_count": null,
       "_view_module": "@jupyter-widgets/controls",
       "_view_module_version": "1.5.0",
       "_view_name": "HTMLView",
       "description": "",
       "description_tooltip": null,
       "layout": "IPY_MODEL_5fbabaaac8424df09d63de6a801dd604",
       "placeholder": "​",
       "style": "IPY_MODEL_4dee5fd426c14b95a9238d3dcc2128fc",
       "value": " 31/31 [00:22&lt;00:00,  1.41it/s]"
      }
     }
    },
    "version_major": 2,
    "version_minor": 0
   }
  }
 },
 "nbformat": 4,
 "nbformat_minor": 5
}