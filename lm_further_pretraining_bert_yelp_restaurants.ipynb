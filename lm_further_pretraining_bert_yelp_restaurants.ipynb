{
 "cells": [
  {
   "cell_type": "markdown",
   "metadata": {
    "id": "3GvsqHtXQvvX"
   },
   "source": [
    "# Initial Setups\n"
   ]
  },
  {
   "cell_type": "markdown",
   "metadata": {
    "id": "MTrRCzgmFwYn"
   },
   "source": [
    "## (Google Colab use only)"
   ]
  },
  {
   "cell_type": "code",
   "execution_count": 1,
   "metadata": {
    "id": "xC1S4mWFFv5U"
   },
   "outputs": [],
   "source": [
    "# Use Google Colab\n",
    "use_colab = True\n",
    "\n",
    "# Is this notebook running on Colab?\n",
    "# If so, then google.colab package (github.com/googlecolab/colabtools)\n",
    "# should be available in this environment\n",
    "\n",
    "# Previous version used importlib, but we could do the same thing with\n",
    "# just attempting to import google.colab\n",
    "try:\n",
    "    from google.colab import drive\n",
    "    colab_available = True\n",
    "except:\n",
    "    colab_available = False\n",
    "\n",
    "if use_colab and colab_available:\n",
    "    drive.mount('/content/drive')\n",
    "    \n",
    "    # If there's a package I need to install separately, do it here\n",
    "    #!pip install pyro-ppl\n",
    "\n",
    "    # cd to the appropriate working directory under my Google Drive\n",
    "    %cd 'drive/My Drive/cs696ds_lexalytics/Language Model Finetuning'\n",
    "    \n",
    "    # List the directory contents\n",
    "    !ls"
   ]
  },
  {
   "cell_type": "markdown",
   "metadata": {
    "id": "uZ5SZXkbEp34"
   },
   "source": [
    "## Experiment ID\n",
    "\n",
    "**NOTE**: The following `experiment_id` MUST BE CHANGED in order to avoid overwriting the files from other experiments!!!!!!"
   ]
  },
  {
   "cell_type": "code",
   "execution_count": 1,
   "metadata": {
    "id": "rUqrV6VeEs3Z"
   },
   "outputs": [],
   "source": [
    "# We will use the following string ID to identify this particular (training) experiments\n",
    "# in directory paths and other settings\n",
    "experiment_id = 'lm_further_pretraining_bert_yelp_restaurants'"
   ]
  },
  {
   "cell_type": "markdown",
   "metadata": {
    "id": "ot4PHli9-Kou"
   },
   "source": [
    "## Package Install"
   ]
  },
  {
   "cell_type": "code",
   "execution_count": 3,
   "metadata": {
    "id": "uCkykoLX4CXF"
   },
   "outputs": [
    {
     "name": "stdout",
     "output_type": "stream",
     "text": [
      "WARNING: pip is being invoked by an old script wrapper. This will fail in a future version of pip.\n",
      "Please see https://github.com/pypa/pip/issues/5599 for advice on fixing the underlying issue.\n",
      "To avoid this problem you can invoke Python with '-m pip' instead of running pip directly.\n",
      "Requirement already satisfied: transformers==4.3.3 in /home/bseoh/miniconda3/envs/idp01/lib/python3.7/site-packages (from -r requirements.txt (line 1)) (4.3.3)\n",
      "Requirement already satisfied: datasets==1.2.1 in /home/bseoh/miniconda3/envs/idp01/lib/python3.7/site-packages (from -r requirements.txt (line 2)) (1.2.1)\n",
      "Requirement already satisfied: pytokenizations==0.8.2 in /home/bseoh/miniconda3/envs/idp01/lib/python3.7/site-packages (from -r requirements.txt (line 3)) (0.8.2)\n",
      "Requirement already satisfied: spacy[cuda111]==2.3.5 in /home/bseoh/miniconda3/envs/idp01/lib/python3.7/site-packages (from -r requirements.txt (line 4)) (2.3.5)\n",
      "Requirement already satisfied: en_core_web_sm from https://github.com/explosion/spacy-models/releases/download/en_core_web_sm-2.3.1/en_core_web_sm-2.3.1.tar.gz#egg=en_core_web_sm in /home/bseoh/miniconda3/envs/idp01/lib/python3.7/site-packages (from -r requirements.txt (line 5)) (2.3.1)\n",
      "Requirement already satisfied: tqdm>=4.27 in /home/bseoh/miniconda3/envs/idp01/lib/python3.7/site-packages (from transformers==4.3.3->-r requirements.txt (line 1)) (4.58.0)\n",
      "Requirement already satisfied: numpy>=1.17 in /home/bseoh/miniconda3/envs/idp01/lib/python3.7/site-packages (from transformers==4.3.3->-r requirements.txt (line 1)) (1.19.2)\n",
      "Requirement already satisfied: sacremoses in /home/bseoh/miniconda3/envs/idp01/lib/python3.7/site-packages (from transformers==4.3.3->-r requirements.txt (line 1)) (0.0.43)\n",
      "Requirement already satisfied: tokenizers<0.11,>=0.10.1 in /home/bseoh/miniconda3/envs/idp01/lib/python3.7/site-packages (from transformers==4.3.3->-r requirements.txt (line 1)) (0.10.1)\n",
      "Requirement already satisfied: regex!=2019.12.17 in /home/bseoh/miniconda3/envs/idp01/lib/python3.7/site-packages (from transformers==4.3.3->-r requirements.txt (line 1)) (2020.11.13)\n",
      "Requirement already satisfied: requests in /home/bseoh/miniconda3/envs/idp01/lib/python3.7/site-packages (from transformers==4.3.3->-r requirements.txt (line 1)) (2.25.1)\n",
      "Requirement already satisfied: importlib-metadata; python_version < \"3.8\" in /home/bseoh/miniconda3/envs/idp01/lib/python3.7/site-packages (from transformers==4.3.3->-r requirements.txt (line 1)) (2.0.0)\n",
      "Requirement already satisfied: packaging in /home/bseoh/miniconda3/envs/idp01/lib/python3.7/site-packages (from transformers==4.3.3->-r requirements.txt (line 1)) (20.9)\n",
      "Requirement already satisfied: filelock in /home/bseoh/miniconda3/envs/idp01/lib/python3.7/site-packages (from transformers==4.3.3->-r requirements.txt (line 1)) (3.0.12)\n",
      "Requirement already satisfied: pandas in /home/bseoh/miniconda3/envs/idp01/lib/python3.7/site-packages (from datasets==1.2.1->-r requirements.txt (line 2)) (1.1.2+1.g514aca06b1)\n",
      "Requirement already satisfied: xxhash in /home/bseoh/miniconda3/envs/idp01/lib/python3.7/site-packages (from datasets==1.2.1->-r requirements.txt (line 2)) (2.0.0)\n",
      "Requirement already satisfied: multiprocess in /home/bseoh/miniconda3/envs/idp01/lib/python3.7/site-packages (from datasets==1.2.1->-r requirements.txt (line 2)) (0.70.11.1)\n",
      "Requirement already satisfied: dill in /home/bseoh/miniconda3/envs/idp01/lib/python3.7/site-packages (from datasets==1.2.1->-r requirements.txt (line 2)) (0.3.3)\n",
      "Requirement already satisfied: pyarrow>=0.17.1 in /home/bseoh/miniconda3/envs/idp01/lib/python3.7/site-packages (from datasets==1.2.1->-r requirements.txt (line 2)) (3.0.0)\n",
      "Requirement already satisfied: catalogue<1.1.0,>=0.0.7 in /home/bseoh/miniconda3/envs/idp01/lib/python3.7/site-packages (from spacy[cuda111]==2.3.5->-r requirements.txt (line 4)) (1.0.0)\n",
      "Requirement already satisfied: wasabi<1.1.0,>=0.4.0 in /home/bseoh/miniconda3/envs/idp01/lib/python3.7/site-packages (from spacy[cuda111]==2.3.5->-r requirements.txt (line 4)) (0.8.2)\n",
      "Requirement already satisfied: cymem<2.1.0,>=2.0.2 in /home/bseoh/miniconda3/envs/idp01/lib/python3.7/site-packages (from spacy[cuda111]==2.3.5->-r requirements.txt (line 4)) (2.0.5)\n",
      "Requirement already satisfied: setuptools in /home/bseoh/miniconda3/envs/idp01/lib/python3.7/site-packages (from spacy[cuda111]==2.3.5->-r requirements.txt (line 4)) (50.3.2.post20201027)\n",
      "Requirement already satisfied: murmurhash<1.1.0,>=0.28.0 in /home/bseoh/miniconda3/envs/idp01/lib/python3.7/site-packages (from spacy[cuda111]==2.3.5->-r requirements.txt (line 4)) (1.0.5)\n",
      "Requirement already satisfied: thinc<7.5.0,>=7.4.1 in /home/bseoh/miniconda3/envs/idp01/lib/python3.7/site-packages (from spacy[cuda111]==2.3.5->-r requirements.txt (line 4)) (7.4.5)\n",
      "Requirement already satisfied: blis<0.8.0,>=0.4.0 in /home/bseoh/miniconda3/envs/idp01/lib/python3.7/site-packages (from spacy[cuda111]==2.3.5->-r requirements.txt (line 4)) (0.7.4)\n",
      "Requirement already satisfied: srsly<1.1.0,>=1.0.2 in /home/bseoh/miniconda3/envs/idp01/lib/python3.7/site-packages (from spacy[cuda111]==2.3.5->-r requirements.txt (line 4)) (1.0.5)\n",
      "Requirement already satisfied: preshed<3.1.0,>=3.0.2 in /home/bseoh/miniconda3/envs/idp01/lib/python3.7/site-packages (from spacy[cuda111]==2.3.5->-r requirements.txt (line 4)) (3.0.5)\n",
      "Requirement already satisfied: plac<1.2.0,>=0.9.6 in /home/bseoh/miniconda3/envs/idp01/lib/python3.7/site-packages (from spacy[cuda111]==2.3.5->-r requirements.txt (line 4)) (1.1.3)\n",
      "Requirement already satisfied: cupy-cuda111>=5.0.0b4; extra == \"cuda111\" in /home/bseoh/miniconda3/envs/idp01/lib/python3.7/site-packages (from spacy[cuda111]==2.3.5->-r requirements.txt (line 4)) (9.0.0b3)\n",
      "Requirement already satisfied: six in /home/bseoh/miniconda3/envs/idp01/lib/python3.7/site-packages (from sacremoses->transformers==4.3.3->-r requirements.txt (line 1)) (1.15.0)\n",
      "Requirement already satisfied: joblib in /home/bseoh/miniconda3/envs/idp01/lib/python3.7/site-packages (from sacremoses->transformers==4.3.3->-r requirements.txt (line 1)) (0.17.0)\n",
      "Requirement already satisfied: click in /home/bseoh/miniconda3/envs/idp01/lib/python3.7/site-packages (from sacremoses->transformers==4.3.3->-r requirements.txt (line 1)) (7.1.2)\n",
      "Requirement already satisfied: chardet<5,>=3.0.2 in /home/bseoh/miniconda3/envs/idp01/lib/python3.7/site-packages (from requests->transformers==4.3.3->-r requirements.txt (line 1)) (4.0.0)\n",
      "Requirement already satisfied: certifi>=2017.4.17 in /home/bseoh/miniconda3/envs/idp01/lib/python3.7/site-packages (from requests->transformers==4.3.3->-r requirements.txt (line 1)) (2020.6.20)\n",
      "Requirement already satisfied: idna<3,>=2.5 in /home/bseoh/miniconda3/envs/idp01/lib/python3.7/site-packages (from requests->transformers==4.3.3->-r requirements.txt (line 1)) (2.10)\n",
      "Requirement already satisfied: urllib3<1.27,>=1.21.1 in /home/bseoh/miniconda3/envs/idp01/lib/python3.7/site-packages (from requests->transformers==4.3.3->-r requirements.txt (line 1)) (1.26.3)\n",
      "Requirement already satisfied: zipp>=0.5 in /home/bseoh/miniconda3/envs/idp01/lib/python3.7/site-packages (from importlib-metadata; python_version < \"3.8\"->transformers==4.3.3->-r requirements.txt (line 1)) (3.4.0)\n",
      "Requirement already satisfied: pyparsing>=2.0.2 in /home/bseoh/miniconda3/envs/idp01/lib/python3.7/site-packages (from packaging->transformers==4.3.3->-r requirements.txt (line 1)) (2.4.7)\n",
      "Requirement already satisfied: pytz>=2017.2 in /home/bseoh/miniconda3/envs/idp01/lib/python3.7/site-packages (from pandas->datasets==1.2.1->-r requirements.txt (line 2)) (2020.1)\n",
      "Requirement already satisfied: python-dateutil>=2.7.3 in /home/bseoh/miniconda3/envs/idp01/lib/python3.7/site-packages (from pandas->datasets==1.2.1->-r requirements.txt (line 2)) (2.8.1)\n",
      "Requirement already satisfied: fastrlock>=0.5 in /home/bseoh/miniconda3/envs/idp01/lib/python3.7/site-packages (from cupy-cuda111>=5.0.0b4; extra == \"cuda111\"->spacy[cuda111]==2.3.5->-r requirements.txt (line 4)) (0.5)\n"
     ]
    }
   ],
   "source": [
    "# Install packages specified in requirements\n",
    "!pip install -r requirements.txt"
   ]
  },
  {
   "cell_type": "code",
   "execution_count": 4,
   "metadata": {
    "id": "0hlNdKpPG-L4"
   },
   "outputs": [
    {
     "name": "stdout",
     "output_type": "stream",
     "text": [
      "Archive:  apex-master_downloaded_01Mar2021.zip\n",
      "e2083df5eb96643c61613b9df48dd4eea6b07690\n",
      "  inflating: apex-master/.gitignore  \n",
      "  inflating: apex-master/.gitmodules  \n",
      " extracting: apex-master/.nojekyll   \n",
      "  inflating: apex-master/LICENSE     \n",
      "  inflating: apex-master/README.md   \n",
      " extracting: apex-master/apex/RNN/README.md  \n",
      "  inflating: apex-master/apex/RNN/RNNBackend.py  \n",
      "  inflating: apex-master/apex/RNN/__init__.py  \n",
      "  inflating: apex-master/apex/RNN/cells.py  \n",
      "  inflating: apex-master/apex/RNN/models.py  \n",
      "  inflating: apex-master/apex/__init__.py  \n",
      "  inflating: apex-master/apex/amp/README.md  \n",
      "  inflating: apex-master/apex/amp/__init__.py  \n",
      "  inflating: apex-master/apex/amp/__version__.py  \n",
      "  inflating: apex-master/apex/amp/_amp_state.py  \n",
      "  inflating: apex-master/apex/amp/_initialize.py  \n",
      "  inflating: apex-master/apex/amp/_process_optimizer.py  \n",
      "  inflating: apex-master/apex/amp/amp.py  \n",
      "  inflating: apex-master/apex/amp/compat.py  \n",
      "  inflating: apex-master/apex/amp/frontend.py  \n",
      "  inflating: apex-master/apex/amp/handle.py  \n",
      " extracting: apex-master/apex/amp/lists/__init__.py  \n",
      "  inflating: apex-master/apex/amp/lists/functional_overrides.py  \n",
      "  inflating: apex-master/apex/amp/lists/tensor_overrides.py  \n",
      "  inflating: apex-master/apex/amp/lists/torch_overrides.py  \n",
      "  inflating: apex-master/apex/amp/opt.py  \n",
      "  inflating: apex-master/apex/amp/rnn_compat.py  \n",
      "  inflating: apex-master/apex/amp/scaler.py  \n",
      "  inflating: apex-master/apex/amp/utils.py  \n",
      "  inflating: apex-master/apex/amp/wrap.py  \n",
      " extracting: apex-master/apex/contrib/__init__.py  \n",
      "  inflating: apex-master/apex/contrib/csrc/groupbn/batch_norm.cu  \n",
      "  inflating: apex-master/apex/contrib/csrc/groupbn/batch_norm.h  \n",
      "  inflating: apex-master/apex/contrib/csrc/groupbn/batch_norm_add_relu.cu  \n",
      "  inflating: apex-master/apex/contrib/csrc/groupbn/batch_norm_add_relu.h  \n",
      "  inflating: apex-master/apex/contrib/csrc/groupbn/cuda_utils.h  \n",
      "  inflating: apex-master/apex/contrib/csrc/groupbn/interface.cpp  \n",
      "  inflating: apex-master/apex/contrib/csrc/groupbn/ipc.cu  \n",
      "  inflating: apex-master/apex/contrib/csrc/groupbn/nhwc_batch_norm_kernel.h  \n",
      "  inflating: apex-master/apex/contrib/csrc/layer_norm/ln_api.cpp  \n",
      "  inflating: apex-master/apex/contrib/csrc/layer_norm/ln_bwd_semi_cuda_kernel.cu  \n",
      "  inflating: apex-master/apex/contrib/csrc/layer_norm/ln_fwd_cuda_kernel.cu  \n",
      "  inflating: apex-master/apex/contrib/csrc/layer_norm/ln_kernel_traits.h  \n",
      "  inflating: apex-master/apex/contrib/csrc/layer_norm/utils.cuh  \n",
      "  inflating: apex-master/apex/contrib/csrc/multihead_attn/additive_masked_softmax_dropout.cpp  \n",
      "  inflating: apex-master/apex/contrib/csrc/multihead_attn/additive_masked_softmax_dropout_cuda.cu  \n",
      "  inflating: apex-master/apex/contrib/csrc/multihead_attn/dropout.h  \n",
      "  inflating: apex-master/apex/contrib/csrc/multihead_attn/encdec_multihead_attn.cpp  \n",
      "  inflating: apex-master/apex/contrib/csrc/multihead_attn/encdec_multihead_attn_cuda.cu  \n",
      "  inflating: apex-master/apex/contrib/csrc/multihead_attn/encdec_multihead_attn_norm_add.cpp  \n",
      "  inflating: apex-master/apex/contrib/csrc/multihead_attn/encdec_multihead_attn_norm_add_cuda.cu  \n",
      "  inflating: apex-master/apex/contrib/csrc/multihead_attn/layer_norm.h  \n",
      "  inflating: apex-master/apex/contrib/csrc/multihead_attn/masked_softmax_dropout.cpp  \n",
      "  inflating: apex-master/apex/contrib/csrc/multihead_attn/masked_softmax_dropout_cuda.cu  \n",
      "  inflating: apex-master/apex/contrib/csrc/multihead_attn/philox.h  \n",
      "  inflating: apex-master/apex/contrib/csrc/multihead_attn/self_multihead_attn.cpp  \n",
      "  inflating: apex-master/apex/contrib/csrc/multihead_attn/self_multihead_attn_bias.cpp  \n",
      "  inflating: apex-master/apex/contrib/csrc/multihead_attn/self_multihead_attn_bias_additive_mask.cpp  \n",
      "  inflating: apex-master/apex/contrib/csrc/multihead_attn/self_multihead_attn_bias_additive_mask_cuda.cu  \n",
      "  inflating: apex-master/apex/contrib/csrc/multihead_attn/self_multihead_attn_bias_cuda.cu  \n",
      "  inflating: apex-master/apex/contrib/csrc/multihead_attn/self_multihead_attn_cuda.cu  \n",
      "  inflating: apex-master/apex/contrib/csrc/multihead_attn/self_multihead_attn_norm_add.cpp  \n",
      "  inflating: apex-master/apex/contrib/csrc/multihead_attn/self_multihead_attn_norm_add_cuda.cu  \n",
      "  inflating: apex-master/apex/contrib/csrc/multihead_attn/softmax.h  \n",
      "  inflating: apex-master/apex/contrib/csrc/multihead_attn/strided_batched_gemm.h  \n",
      "  inflating: apex-master/apex/contrib/csrc/optimizers/fused_adam_cuda.cpp  \n",
      "  inflating: apex-master/apex/contrib/csrc/optimizers/fused_adam_cuda_kernel.cu  \n",
      "  inflating: apex-master/apex/contrib/csrc/optimizers/fused_lamb_cuda.cpp  \n",
      "  inflating: apex-master/apex/contrib/csrc/optimizers/fused_lamb_cuda_kernel.cu  \n",
      "  inflating: apex-master/apex/contrib/csrc/optimizers/multi_tensor_distopt_adam.cpp  \n",
      "  inflating: apex-master/apex/contrib/csrc/optimizers/multi_tensor_distopt_adam_kernel.cu  \n",
      "  inflating: apex-master/apex/contrib/csrc/optimizers/multi_tensor_distopt_lamb.cpp  \n",
      "  inflating: apex-master/apex/contrib/csrc/optimizers/multi_tensor_distopt_lamb_kernel.cu  \n",
      "  inflating: apex-master/apex/contrib/csrc/xentropy/interface.cpp  \n",
      "  inflating: apex-master/apex/contrib/csrc/xentropy/xentropy_kernel.cu  \n",
      "  inflating: apex-master/apex/contrib/examples/multihead_attn/func_test_multihead_attn.py  \n",
      "  inflating: apex-master/apex/contrib/examples/multihead_attn/perf_test_multihead_attn.py  \n",
      "  inflating: apex-master/apex/contrib/groupbn/__init__.py  \n",
      "  inflating: apex-master/apex/contrib/groupbn/batch_norm.py  \n",
      "  inflating: apex-master/apex/contrib/layer_norm/__init__.py  \n",
      "  inflating: apex-master/apex/contrib/layer_norm/layer_norm.py  \n",
      "  inflating: apex-master/apex/contrib/multihead_attn/MHA_bwd.png  \n",
      "  inflating: apex-master/apex/contrib/multihead_attn/MHA_fwd.png  \n",
      "  inflating: apex-master/apex/contrib/multihead_attn/README.md  \n",
      "  inflating: apex-master/apex/contrib/multihead_attn/__init__.py  \n",
      "  inflating: apex-master/apex/contrib/multihead_attn/encdec_multihead_attn.py  \n",
      "  inflating: apex-master/apex/contrib/multihead_attn/encdec_multihead_attn_func.py  \n",
      "  inflating: apex-master/apex/contrib/multihead_attn/fast_encdec_multihead_attn_func.py  \n",
      "  inflating: apex-master/apex/contrib/multihead_attn/fast_encdec_multihead_attn_norm_add_func.py  \n",
      "  inflating: apex-master/apex/contrib/multihead_attn/fast_self_multihead_attn_func.py  \n",
      "  inflating: apex-master/apex/contrib/multihead_attn/fast_self_multihead_attn_norm_add_func.py  \n",
      "  inflating: apex-master/apex/contrib/multihead_attn/mask_softmax_dropout_func.py  \n",
      "  inflating: apex-master/apex/contrib/multihead_attn/self_multihead_attn.py  \n",
      "  inflating: apex-master/apex/contrib/multihead_attn/self_multihead_attn_func.py  \n",
      "  inflating: apex-master/apex/contrib/optimizers/__init__.py  \n",
      "  inflating: apex-master/apex/contrib/optimizers/distributed_fused_adam.py  \n",
      "  inflating: apex-master/apex/contrib/optimizers/distributed_fused_adam_v2.py  \n",
      "  inflating: apex-master/apex/contrib/optimizers/distributed_fused_adam_v3.py  \n",
      "  inflating: apex-master/apex/contrib/optimizers/distributed_fused_lamb.py  \n",
      "  inflating: apex-master/apex/contrib/optimizers/fp16_optimizer.py  \n",
      "  inflating: apex-master/apex/contrib/optimizers/fused_adam.py  \n",
      "  inflating: apex-master/apex/contrib/optimizers/fused_lamb.py  \n",
      "  inflating: apex-master/apex/contrib/optimizers/fused_sgd.py  \n",
      "  inflating: apex-master/apex/contrib/sparsity/README.md  \n",
      "  inflating: apex-master/apex/contrib/sparsity/__init__.py  \n",
      "  inflating: apex-master/apex/contrib/sparsity/asp.py  \n",
      "  inflating: apex-master/apex/contrib/sparsity/sparse_masklib.py  \n",
      "  inflating: apex-master/apex/contrib/sparsity/test/checkpointing_test_part1.py  \n",
      "  inflating: apex-master/apex/contrib/sparsity/test/checkpointing_test_part2.py  \n",
      "  inflating: apex-master/apex/contrib/sparsity/test/checkpointing_test_reference.py  \n",
      "  inflating: apex-master/apex/contrib/sparsity/test/toy_problem.py  \n",
      "  inflating: apex-master/apex/contrib/test/layer_norm/test_fast_layer_norm.py  \n",
      "  inflating: apex-master/apex/contrib/test/multihead_attn/test_encdec_multihead_attn.py  \n",
      "  inflating: apex-master/apex/contrib/test/multihead_attn/test_encdec_multihead_attn_norm_add.py  \n"
     ]
    },
    {
     "name": "stdout",
     "output_type": "stream",
     "text": [
      "  inflating: apex-master/apex/contrib/test/multihead_attn/test_fast_self_multihead_attn_bias.py  \n",
      "  inflating: apex-master/apex/contrib/test/multihead_attn/test_mha_fused_softmax.py  \n",
      "  inflating: apex-master/apex/contrib/test/multihead_attn/test_self_multihead_attn.py  \n",
      "  inflating: apex-master/apex/contrib/test/multihead_attn/test_self_multihead_attn_norm_add.py  \n",
      "  inflating: apex-master/apex/contrib/test/test_label_smoothing.py  \n",
      "  inflating: apex-master/apex/contrib/xentropy/__init__.py  \n",
      "  inflating: apex-master/apex/contrib/xentropy/softmax_xentropy.py  \n",
      "  inflating: apex-master/apex/fp16_utils/README.md  \n",
      "  inflating: apex-master/apex/fp16_utils/__init__.py  \n",
      "  inflating: apex-master/apex/fp16_utils/fp16_optimizer.py  \n",
      "  inflating: apex-master/apex/fp16_utils/fp16util.py  \n",
      "  inflating: apex-master/apex/fp16_utils/loss_scaler.py  \n",
      " extracting: apex-master/apex/mlp/__init__.py  \n",
      "  inflating: apex-master/apex/mlp/mlp.py  \n",
      "  inflating: apex-master/apex/multi_tensor_apply/__init__.py  \n",
      "  inflating: apex-master/apex/multi_tensor_apply/multi_tensor_apply.py  \n",
      "  inflating: apex-master/apex/normalization/__init__.py  \n",
      "  inflating: apex-master/apex/normalization/fused_layer_norm.py  \n",
      "  inflating: apex-master/apex/optimizers/__init__.py  \n",
      "  inflating: apex-master/apex/optimizers/fused_adagrad.py  \n",
      "  inflating: apex-master/apex/optimizers/fused_adam.py  \n",
      "  inflating: apex-master/apex/optimizers/fused_lamb.py  \n",
      "  inflating: apex-master/apex/optimizers/fused_novograd.py  \n",
      "  inflating: apex-master/apex/optimizers/fused_sgd.py  \n",
      "  inflating: apex-master/apex/parallel/LARC.py  \n",
      "  inflating: apex-master/apex/parallel/README.md  \n",
      "  inflating: apex-master/apex/parallel/__init__.py  \n",
      "  inflating: apex-master/apex/parallel/distributed.py  \n",
      "  inflating: apex-master/apex/parallel/multiproc.py  \n",
      "  inflating: apex-master/apex/parallel/optimized_sync_batchnorm.py  \n",
      "  inflating: apex-master/apex/parallel/optimized_sync_batchnorm_kernel.py  \n",
      "  inflating: apex-master/apex/parallel/sync_batchnorm.py  \n",
      "  inflating: apex-master/apex/parallel/sync_batchnorm_kernel.py  \n",
      "  inflating: apex-master/apex/pyprof/FAQs.md  \n",
      "  inflating: apex-master/apex/pyprof/README.md  \n",
      "  inflating: apex-master/apex/pyprof/__init__.py  \n",
      "  inflating: apex-master/apex/pyprof/examples/.gitignore  \n",
      "  inflating: apex-master/apex/pyprof/examples/apex/README.md  \n",
      "  inflating: apex-master/apex/pyprof/examples/apex/fused_adam.py  \n",
      "  inflating: apex-master/apex/pyprof/examples/apex/fused_layer_norm.py  \n",
      "  inflating: apex-master/apex/pyprof/examples/apex/test.sh  \n",
      "  inflating: apex-master/apex/pyprof/examples/custom_func_module/README.md  \n",
      "  inflating: apex-master/apex/pyprof/examples/custom_func_module/custom_function.py  \n",
      "  inflating: apex-master/apex/pyprof/examples/custom_func_module/custom_module.py  \n",
      "  inflating: apex-master/apex/pyprof/examples/custom_func_module/test.sh  \n",
      "  inflating: apex-master/apex/pyprof/examples/imagenet/imagenet.py  \n",
      "  inflating: apex-master/apex/pyprof/examples/imagenet/test.sh  \n",
      "  inflating: apex-master/apex/pyprof/examples/jit/README.md  \n",
      "  inflating: apex-master/apex/pyprof/examples/jit/jit_script_function.py  \n",
      "  inflating: apex-master/apex/pyprof/examples/jit/jit_script_method.py  \n",
      "  inflating: apex-master/apex/pyprof/examples/jit/jit_trace_function.py  \n",
      "  inflating: apex-master/apex/pyprof/examples/jit/jit_trace_method.py  \n",
      "  inflating: apex-master/apex/pyprof/examples/jit/test.sh  \n",
      "  inflating: apex-master/apex/pyprof/examples/lenet.py  \n",
      "  inflating: apex-master/apex/pyprof/examples/operators.py  \n",
      "  inflating: apex-master/apex/pyprof/examples/simple.py  \n",
      "  inflating: apex-master/apex/pyprof/examples/user_annotation/README.md  \n",
      "  inflating: apex-master/apex/pyprof/examples/user_annotation/resnet.py  \n",
      "  inflating: apex-master/apex/pyprof/examples/user_annotation/test.sh  \n",
      "  inflating: apex-master/apex/pyprof/nvtx/__init__.py  \n",
      "  inflating: apex-master/apex/pyprof/nvtx/nvmarker.py  \n",
      " extracting: apex-master/apex/pyprof/parse/__init__.py  \n",
      "  inflating: apex-master/apex/pyprof/parse/__main__.py  \n",
      "  inflating: apex-master/apex/pyprof/parse/db.py  \n",
      "  inflating: apex-master/apex/pyprof/parse/kernel.py  \n",
      "  inflating: apex-master/apex/pyprof/parse/nvvp.py  \n",
      "  inflating: apex-master/apex/pyprof/parse/parse.py  \n",
      " extracting: apex-master/apex/pyprof/prof/__init__.py  \n",
      "  inflating: apex-master/apex/pyprof/prof/__main__.py  \n",
      "  inflating: apex-master/apex/pyprof/prof/activation.py  \n",
      "  inflating: apex-master/apex/pyprof/prof/base.py  \n",
      "  inflating: apex-master/apex/pyprof/prof/blas.py  \n",
      "  inflating: apex-master/apex/pyprof/prof/conv.py  \n",
      "  inflating: apex-master/apex/pyprof/prof/convert.py  \n",
      "  inflating: apex-master/apex/pyprof/prof/data.py  \n",
      "  inflating: apex-master/apex/pyprof/prof/dropout.py  \n",
      "  inflating: apex-master/apex/pyprof/prof/embedding.py  \n",
      "  inflating: apex-master/apex/pyprof/prof/index_slice_join_mutate.py  \n",
      "  inflating: apex-master/apex/pyprof/prof/linear.py  \n",
      "  inflating: apex-master/apex/pyprof/prof/loss.py  \n",
      "  inflating: apex-master/apex/pyprof/prof/misc.py  \n",
      "  inflating: apex-master/apex/pyprof/prof/normalization.py  \n",
      "  inflating: apex-master/apex/pyprof/prof/optim.py  \n",
      "  inflating: apex-master/apex/pyprof/prof/output.py  \n",
      "  inflating: apex-master/apex/pyprof/prof/pointwise.py  \n",
      "  inflating: apex-master/apex/pyprof/prof/pooling.py  \n",
      "  inflating: apex-master/apex/pyprof/prof/prof.py  \n",
      "  inflating: apex-master/apex/pyprof/prof/randomSample.py  \n",
      "  inflating: apex-master/apex/pyprof/prof/recurrentCell.py  \n",
      "  inflating: apex-master/apex/pyprof/prof/reduction.py  \n",
      "  inflating: apex-master/apex/pyprof/prof/softmax.py  \n",
      "  inflating: apex-master/apex/pyprof/prof/usage.py  \n",
      "  inflating: apex-master/apex/pyprof/prof/utility.py  \n",
      " extracting: apex-master/apex/reparameterization/README.md  \n",
      "  inflating: apex-master/apex/reparameterization/__init__.py  \n",
      "  inflating: apex-master/apex/reparameterization/reparameterization.py  \n",
      "  inflating: apex-master/apex/reparameterization/weight_norm.py  \n",
      "  inflating: apex-master/csrc/amp_C_frontend.cpp  \n",
      "  inflating: apex-master/csrc/compat.h  \n",
      "  inflating: apex-master/csrc/flatten_unflatten.cpp  \n",
      "  inflating: apex-master/csrc/layer_norm_cuda.cpp  \n",
      "  inflating: apex-master/csrc/layer_norm_cuda_kernel.cu  \n",
      "  inflating: apex-master/csrc/mlp.cpp  \n",
      "  inflating: apex-master/csrc/mlp_cuda.cu  \n",
      "  inflating: apex-master/csrc/multi_tensor_adagrad.cu  \n",
      "  inflating: apex-master/csrc/multi_tensor_adam.cu  \n",
      "  inflating: apex-master/csrc/multi_tensor_apply.cuh  \n",
      "  inflating: apex-master/csrc/multi_tensor_axpby_kernel.cu  \n",
      "  inflating: apex-master/csrc/multi_tensor_l2norm_kernel.cu  \n",
      "  inflating: apex-master/csrc/multi_tensor_lamb.cu  \n",
      "  inflating: apex-master/csrc/multi_tensor_lamb_stage_1.cu  \n",
      "  inflating: apex-master/csrc/multi_tensor_lamb_stage_2.cu  \n",
      "  inflating: apex-master/csrc/multi_tensor_novograd.cu  \n",
      "  inflating: apex-master/csrc/multi_tensor_scale_kernel.cu  \n",
      "  inflating: apex-master/csrc/multi_tensor_sgd_kernel.cu  \n",
      "  inflating: apex-master/csrc/syncbn.cpp  \n",
      "  inflating: apex-master/csrc/type_shim.h  \n",
      "  inflating: apex-master/csrc/welford.cu  \n",
      "  inflating: apex-master/docs/Makefile  \n",
      "  inflating: apex-master/docs/source/_static/css/pytorch_theme.css  \n",
      "  inflating: apex-master/docs/source/_static/img/nv-pytorch2.png  \n",
      "  inflating: apex-master/docs/source/_templates/layout.html  \n",
      "  inflating: apex-master/docs/source/advanced.rst  \n",
      "  inflating: apex-master/docs/source/amp.rst  \n",
      "  inflating: apex-master/docs/source/conf.py  \n",
      "  inflating: apex-master/docs/source/fp16_utils.rst  \n",
      "  inflating: apex-master/docs/source/index.rst  \n",
      "  inflating: apex-master/docs/source/layernorm.rst  \n",
      "  inflating: apex-master/docs/source/optimizers.rst  \n",
      "  inflating: apex-master/docs/source/parallel.rst  \n",
      "  inflating: apex-master/examples/README.md  \n",
      "  inflating: apex-master/examples/dcgan/README.md  \n",
      "  inflating: apex-master/examples/dcgan/main_amp.py  \n",
      "  inflating: apex-master/examples/docker/Dockerfile  \n",
      "  inflating: apex-master/examples/docker/README.md  \n",
      "  inflating: apex-master/examples/imagenet/README.md  \n",
      "  inflating: apex-master/examples/imagenet/main_amp.py  \n",
      "  inflating: apex-master/examples/simple/distributed/README.md  \n",
      "  inflating: apex-master/examples/simple/distributed/distributed_data_parallel.py  \n"
     ]
    },
    {
     "name": "stdout",
     "output_type": "stream",
     "text": [
      "  inflating: apex-master/examples/simple/distributed/run.sh  \n",
      "  inflating: apex-master/requirements.txt  \n",
      "  inflating: apex-master/requirements_dev.txt  \n",
      "  inflating: apex-master/setup.py    \n",
      " extracting: apex-master/tests/L0/run_amp/__init__.py  \n",
      "  inflating: apex-master/tests/L0/run_amp/test_add_param_group.py  \n",
      "  inflating: apex-master/tests/L0/run_amp/test_basic_casts.py  \n",
      "  inflating: apex-master/tests/L0/run_amp/test_cache.py  \n",
      "  inflating: apex-master/tests/L0/run_amp/test_checkpointing.py  \n",
      "  inflating: apex-master/tests/L0/run_amp/test_fused_sgd.py  \n",
      "  inflating: apex-master/tests/L0/run_amp/test_larc.py  \n",
      "  inflating: apex-master/tests/L0/run_amp/test_multi_tensor_axpby.py  \n",
      "  inflating: apex-master/tests/L0/run_amp/test_multi_tensor_l2norm.py  \n",
      "  inflating: apex-master/tests/L0/run_amp/test_multi_tensor_scale.py  \n",
      "  inflating: apex-master/tests/L0/run_amp/test_multiple_models_optimizers_losses.py  \n",
      "  inflating: apex-master/tests/L0/run_amp/test_promotion.py  \n",
      "  inflating: apex-master/tests/L0/run_amp/test_rnn.py  \n",
      "  inflating: apex-master/tests/L0/run_amp/utils.py  \n",
      " extracting: apex-master/tests/L0/run_fp16util/__init__.py  \n",
      "  inflating: apex-master/tests/L0/run_fp16util/test_fp16util.py  \n",
      "  inflating: apex-master/tests/L0/run_fused_layer_norm/test_fused_layer_norm.py  \n",
      "  inflating: apex-master/tests/L0/run_mlp/test_mlp.py  \n",
      " extracting: apex-master/tests/L0/run_optimizers/__init__.py  \n",
      "  inflating: apex-master/tests/L0/run_optimizers/test_dist_adam.py  \n",
      "  inflating: apex-master/tests/L0/run_optimizers/test_fused_optimizer.py  \n",
      "  inflating: apex-master/tests/L0/run_optimizers/test_lamb.py  \n",
      " extracting: apex-master/tests/L0/run_pyprof_data/__init__.py  \n",
      "  inflating: apex-master/tests/L0/run_pyprof_data/test_pyprof_data.py  \n",
      "  inflating: apex-master/tests/L0/run_pyprof_nvtx/__init__.py  \n",
      "  inflating: apex-master/tests/L0/run_pyprof_nvtx/test_pyprof_nvtx.py  \n",
      "  inflating: apex-master/tests/L0/run_test.py  \n",
      "  inflating: apex-master/tests/L1/common/compare.py  \n",
      "  inflating: apex-master/tests/L1/common/main_amp.py  \n",
      "  inflating: apex-master/tests/L1/common/run_test.sh  \n",
      "  inflating: apex-master/tests/L1/cross_product/run.sh  \n",
      "  inflating: apex-master/tests/L1/cross_product_distributed/run.sh  \n",
      "  inflating: apex-master/tests/distributed/DDP/ddp_race_condition_test.py  \n",
      "  inflating: apex-master/tests/distributed/DDP/run_race_test.sh  \n",
      "  inflating: apex-master/tests/distributed/amp_master_params/amp_master_params.py  \n",
      "  inflating: apex-master/tests/distributed/amp_master_params/compare.py  \n",
      "  inflating: apex-master/tests/distributed/amp_master_params/run.sh  \n",
      "  inflating: apex-master/tests/distributed/synced_batchnorm/python_single_gpu_unit_test.py  \n",
      "  inflating: apex-master/tests/distributed/synced_batchnorm/single_gpu_unit_test.py  \n",
      "  inflating: apex-master/tests/distributed/synced_batchnorm/test_batchnorm1d.py  \n",
      "  inflating: apex-master/tests/distributed/synced_batchnorm/test_groups.py  \n",
      "  inflating: apex-master/tests/distributed/synced_batchnorm/two_gpu_test_different_batch_size.py  \n",
      "  inflating: apex-master/tests/distributed/synced_batchnorm/two_gpu_unit_test.py  \n",
      "  inflating: apex-master/tests/distributed/synced_batchnorm/unit_test.sh  \n",
      "  inflating: apex-master/tests/docker_extension_builds/run.sh  \n",
      "/mnt/nfs/work1/696ds-s21/bseoh/lexalytics/apex-master\n",
      "WARNING: pip is being invoked by an old script wrapper. This will fail in a future version of pip.\n",
      "Please see https://github.com/pypa/pip/issues/5599 for advice on fixing the underlying issue.\n",
      "To avoid this problem you can invoke Python with '-m pip' instead of running pip directly.\n",
      "Using pip 20.2.3 from /home/bseoh/miniconda3/envs/idp01/lib/python3.7/site-packages/pip (python 3.7)\n",
      "Non-user install because site-packages writeable\n",
      "Created temporary directory: /tmp/pip-ephem-wheel-cache-o5nw2o70\n",
      "Created temporary directory: /tmp/pip-req-tracker-oib22gla\n",
      "Initialized build tracking at /tmp/pip-req-tracker-oib22gla\n",
      "Created build tracker: /tmp/pip-req-tracker-oib22gla\n",
      "Entered build tracker: /tmp/pip-req-tracker-oib22gla\n",
      "Created temporary directory: /tmp/pip-install-6fp3qqy4\n",
      "Processing /mnt/nfs/work1/696ds-s21/bseoh/lexalytics/apex-master\n",
      "  Created temporary directory: /tmp/pip-req-build-b35h5vnq\n",
      "  Added file:///mnt/nfs/work1/696ds-s21/bseoh/lexalytics/apex-master to build tracker '/tmp/pip-req-tracker-oib22gla'\n",
      "    Running setup.py (path:/tmp/pip-req-build-b35h5vnq/setup.py) egg_info for package from file:///mnt/nfs/work1/696ds-s21/bseoh/lexalytics/apex-master\n",
      "    Created temporary directory: /tmp/pip-pip-egg-info-nmduggix\n",
      "    Running command python setup.py egg_info\n",
      "\n",
      "\n",
      "    torch.__version__  = 1.7.1\n",
      "\n",
      "\n",
      "    running egg_info\n",
      "    creating /tmp/pip-pip-egg-info-nmduggix/apex.egg-info\n",
      "    writing /tmp/pip-pip-egg-info-nmduggix/apex.egg-info/PKG-INFO\n",
      "    writing dependency_links to /tmp/pip-pip-egg-info-nmduggix/apex.egg-info/dependency_links.txt\n",
      "    writing top-level names to /tmp/pip-pip-egg-info-nmduggix/apex.egg-info/top_level.txt\n",
      "    writing manifest file '/tmp/pip-pip-egg-info-nmduggix/apex.egg-info/SOURCES.txt'\n",
      "    reading manifest file '/tmp/pip-pip-egg-info-nmduggix/apex.egg-info/SOURCES.txt'\n",
      "    writing manifest file '/tmp/pip-pip-egg-info-nmduggix/apex.egg-info/SOURCES.txt'\n",
      "    /tmp/pip-req-build-b35h5vnq/setup.py:67: UserWarning: Option --pyprof not specified. Not installing PyProf dependencies!\n",
      "      warnings.warn(\"Option --pyprof not specified. Not installing PyProf dependencies!\")\n",
      "  Source in /tmp/pip-req-build-b35h5vnq has version 0.1, which satisfies requirement apex==0.1 from file:///mnt/nfs/work1/696ds-s21/bseoh/lexalytics/apex-master\n",
      "  Removed apex==0.1 from file:///mnt/nfs/work1/696ds-s21/bseoh/lexalytics/apex-master from build tracker '/tmp/pip-req-tracker-oib22gla'\n",
      "Building wheels for collected packages: apex\n",
      "  Created temporary directory: /tmp/pip-wheel-_iae8jpc\n",
      "  Building wheel for apex (setup.py) ... \u001b[?25l  Destination directory: /tmp/pip-wheel-_iae8jpc\n",
      "  Running command /home/bseoh/miniconda3/envs/idp01/bin/python -u -c 'import sys, setuptools, tokenize; sys.argv[0] = '\"'\"'/tmp/pip-req-build-b35h5vnq/setup.py'\"'\"'; __file__='\"'\"'/tmp/pip-req-build-b35h5vnq/setup.py'\"'\"';f=getattr(tokenize, '\"'\"'open'\"'\"', open)(__file__);code=f.read().replace('\"'\"'\\r\\n'\"'\"', '\"'\"'\\n'\"'\"');f.close();exec(compile(code, __file__, '\"'\"'exec'\"'\"'))' bdist_wheel -d /tmp/pip-wheel-_iae8jpc\n",
      "\n",
      "\n",
      "  torch.__version__  = 1.7.1\n",
      "\n",
      "\n",
      "  /tmp/pip-req-build-b35h5vnq/setup.py:67: UserWarning: Option --pyprof not specified. Not installing PyProf dependencies!\n",
      "    warnings.warn(\"Option --pyprof not specified. Not installing PyProf dependencies!\")\n",
      "  running bdist_wheel\n",
      "  running build\n",
      "  running build_py\n",
      "  creating build\n",
      "  creating build/lib\n",
      "  creating build/lib/apex\n",
      "  copying apex/__init__.py -> build/lib/apex\n",
      "  creating build/lib/apex/amp\n",
      "  copying apex/amp/amp.py -> build/lib/apex/amp\n",
      "  copying apex/amp/compat.py -> build/lib/apex/amp\n",
      "  copying apex/amp/wrap.py -> build/lib/apex/amp\n",
      "  copying apex/amp/scaler.py -> build/lib/apex/amp\n",
      "  copying apex/amp/_amp_state.py -> build/lib/apex/amp\n",
      "  copying apex/amp/rnn_compat.py -> build/lib/apex/amp\n",
      "  copying apex/amp/handle.py -> build/lib/apex/amp\n",
      "  copying apex/amp/_initialize.py -> build/lib/apex/amp\n",
      "  copying apex/amp/utils.py -> build/lib/apex/amp\n",
      "  copying apex/amp/__version__.py -> build/lib/apex/amp\n",
      "  copying apex/amp/opt.py -> build/lib/apex/amp\n",
      "  copying apex/amp/__init__.py -> build/lib/apex/amp\n",
      "  copying apex/amp/frontend.py -> build/lib/apex/amp\n",
      "  copying apex/amp/_process_optimizer.py -> build/lib/apex/amp\n",
      "  creating build/lib/apex/parallel\n",
      "  copying apex/parallel/__init__.py -> build/lib/apex/parallel\n",
      "  copying apex/parallel/distributed.py -> build/lib/apex/parallel\n",
      "  copying apex/parallel/optimized_sync_batchnorm.py -> build/lib/apex/parallel\n",
      "  copying apex/parallel/LARC.py -> build/lib/apex/parallel\n",
      "  copying apex/parallel/sync_batchnorm.py -> build/lib/apex/parallel\n",
      "  copying apex/parallel/optimized_sync_batchnorm_kernel.py -> build/lib/apex/parallel\n",
      "  copying apex/parallel/multiproc.py -> build/lib/apex/parallel\n",
      "  copying apex/parallel/sync_batchnorm_kernel.py -> build/lib/apex/parallel\n",
      "  creating build/lib/apex/optimizers\n",
      "  copying apex/optimizers/fused_novograd.py -> build/lib/apex/optimizers\n",
      "  copying apex/optimizers/fused_lamb.py -> build/lib/apex/optimizers\n",
      "  copying apex/optimizers/fused_adam.py -> build/lib/apex/optimizers\n",
      "  copying apex/optimizers/fused_sgd.py -> build/lib/apex/optimizers\n",
      "  copying apex/optimizers/__init__.py -> build/lib/apex/optimizers\n",
      "  copying apex/optimizers/fused_adagrad.py -> build/lib/apex/optimizers\n",
      "  creating build/lib/apex/reparameterization\n",
      "  copying apex/reparameterization/reparameterization.py -> build/lib/apex/reparameterization\n",
      "  copying apex/reparameterization/__init__.py -> build/lib/apex/reparameterization\n",
      "  copying apex/reparameterization/weight_norm.py -> build/lib/apex/reparameterization\n",
      "  creating build/lib/apex/multi_tensor_apply\n",
      "  copying apex/multi_tensor_apply/__init__.py -> build/lib/apex/multi_tensor_apply\n",
      "  copying apex/multi_tensor_apply/multi_tensor_apply.py -> build/lib/apex/multi_tensor_apply\n",
      "  creating build/lib/apex/contrib\n",
      "  copying apex/contrib/__init__.py -> build/lib/apex/contrib\n",
      "  creating build/lib/apex/RNN\n",
      "  copying apex/RNN/__init__.py -> build/lib/apex/RNN\n",
      "  copying apex/RNN/cells.py -> build/lib/apex/RNN\n",
      "  copying apex/RNN/RNNBackend.py -> build/lib/apex/RNN\n",
      "  copying apex/RNN/models.py -> build/lib/apex/RNN\n",
      "  creating build/lib/apex/fp16_utils\n",
      "  copying apex/fp16_utils/fp16_optimizer.py -> build/lib/apex/fp16_utils\n",
      "  copying apex/fp16_utils/fp16util.py -> build/lib/apex/fp16_utils\n",
      "  copying apex/fp16_utils/loss_scaler.py -> build/lib/apex/fp16_utils\n",
      "  copying apex/fp16_utils/__init__.py -> build/lib/apex/fp16_utils\n",
      "  creating build/lib/apex/mlp\n",
      "  copying apex/mlp/mlp.py -> build/lib/apex/mlp\n",
      "  copying apex/mlp/__init__.py -> build/lib/apex/mlp\n",
      "  creating build/lib/apex/normalization\n",
      "  copying apex/normalization/__init__.py -> build/lib/apex/normalization\n",
      "  copying apex/normalization/fused_layer_norm.py -> build/lib/apex/normalization\n",
      "  creating build/lib/apex/pyprof\n",
      "  copying apex/pyprof/__init__.py -> build/lib/apex/pyprof\n",
      "  creating build/lib/apex/amp/lists\n",
      "  copying apex/amp/lists/torch_overrides.py -> build/lib/apex/amp/lists\n",
      "  copying apex/amp/lists/__init__.py -> build/lib/apex/amp/lists\n",
      "  copying apex/amp/lists/tensor_overrides.py -> build/lib/apex/amp/lists\n",
      "  copying apex/amp/lists/functional_overrides.py -> build/lib/apex/amp/lists\n",
      "  creating build/lib/apex/contrib/optimizers\n",
      "  copying apex/contrib/optimizers/fused_adam.py -> build/lib/apex/contrib/optimizers\n",
      "  copying apex/contrib/optimizers/fp16_optimizer.py -> build/lib/apex/contrib/optimizers\n",
      "  copying apex/contrib/optimizers/fused_lamb.py -> build/lib/apex/contrib/optimizers\n",
      "  copying apex/contrib/optimizers/__init__.py -> build/lib/apex/contrib/optimizers\n",
      "  copying apex/contrib/optimizers/distributed_fused_adam_v2.py -> build/lib/apex/contrib/optimizers\n",
      "  copying apex/contrib/optimizers/fused_sgd.py -> build/lib/apex/contrib/optimizers\n",
      "  copying apex/contrib/optimizers/distributed_fused_adam.py -> build/lib/apex/contrib/optimizers\n",
      "  copying apex/contrib/optimizers/distributed_fused_adam_v3.py -> build/lib/apex/contrib/optimizers\n",
      "  copying apex/contrib/optimizers/distributed_fused_lamb.py -> build/lib/apex/contrib/optimizers\n",
      "  creating build/lib/apex/contrib/groupbn\n",
      "  copying apex/contrib/groupbn/batch_norm.py -> build/lib/apex/contrib/groupbn\n",
      "  copying apex/contrib/groupbn/__init__.py -> build/lib/apex/contrib/groupbn\n",
      "  creating build/lib/apex/contrib/sparsity\n",
      "  copying apex/contrib/sparsity/sparse_masklib.py -> build/lib/apex/contrib/sparsity\n",
      "  copying apex/contrib/sparsity/__init__.py -> build/lib/apex/contrib/sparsity\n",
      "  copying apex/contrib/sparsity/asp.py -> build/lib/apex/contrib/sparsity\n",
      "  creating build/lib/apex/contrib/layer_norm\n",
      "  copying apex/contrib/layer_norm/layer_norm.py -> build/lib/apex/contrib/layer_norm\n",
      "  copying apex/contrib/layer_norm/__init__.py -> build/lib/apex/contrib/layer_norm\n",
      "  creating build/lib/apex/contrib/xentropy\n",
      "  copying apex/contrib/xentropy/softmax_xentropy.py -> build/lib/apex/contrib/xentropy\n",
      "  copying apex/contrib/xentropy/__init__.py -> build/lib/apex/contrib/xentropy\n",
      "  creating build/lib/apex/contrib/multihead_attn\n",
      "  copying apex/contrib/multihead_attn/fast_self_multihead_attn_func.py -> build/lib/apex/contrib/multihead_attn\n",
      "  copying apex/contrib/multihead_attn/fast_self_multihead_attn_norm_add_func.py -> build/lib/apex/contrib/multihead_attn\n",
      "  copying apex/contrib/multihead_attn/fast_encdec_multihead_attn_func.py -> build/lib/apex/contrib/multihead_attn\n",
      "  copying apex/contrib/multihead_attn/encdec_multihead_attn.py -> build/lib/apex/contrib/multihead_attn\n",
      "  copying apex/contrib/multihead_attn/fast_encdec_multihead_attn_norm_add_func.py -> build/lib/apex/contrib/multihead_attn\n",
      "  copying apex/contrib/multihead_attn/self_multihead_attn_func.py -> build/lib/apex/contrib/multihead_attn\n",
      "  copying apex/contrib/multihead_attn/self_multihead_attn.py -> build/lib/apex/contrib/multihead_attn\n",
      "  copying apex/contrib/multihead_attn/__init__.py -> build/lib/apex/contrib/multihead_attn\n",
      "  copying apex/contrib/multihead_attn/mask_softmax_dropout_func.py -> build/lib/apex/contrib/multihead_attn\n",
      "  copying apex/contrib/multihead_attn/encdec_multihead_attn_func.py -> build/lib/apex/contrib/multihead_attn\n",
      "  creating build/lib/apex/pyprof/nvtx\n",
      "  copying apex/pyprof/nvtx/__init__.py -> build/lib/apex/pyprof/nvtx\n",
      "  copying apex/pyprof/nvtx/nvmarker.py -> build/lib/apex/pyprof/nvtx\n",
      "  creating build/lib/apex/pyprof/prof\n",
      "  copying apex/pyprof/prof/conv.py -> build/lib/apex/pyprof/prof\n",
      "  copying apex/pyprof/prof/output.py -> build/lib/apex/pyprof/prof\n",
      "  copying apex/pyprof/prof/recurrentCell.py -> build/lib/apex/pyprof/prof\n",
      "  copying apex/pyprof/prof/embedding.py -> build/lib/apex/pyprof/prof\n",
      "  copying apex/pyprof/prof/convert.py -> build/lib/apex/pyprof/prof\n",
      "  copying apex/pyprof/prof/loss.py -> build/lib/apex/pyprof/prof\n",
      "  copying apex/pyprof/prof/index_slice_join_mutate.py -> build/lib/apex/pyprof/prof\n",
      "  copying apex/pyprof/prof/softmax.py -> build/lib/apex/pyprof/prof\n",
      "  copying apex/pyprof/prof/data.py -> build/lib/apex/pyprof/prof\n",
      "  copying apex/pyprof/prof/pooling.py -> build/lib/apex/pyprof/prof\n",
      "  copying apex/pyprof/prof/reduction.py -> build/lib/apex/pyprof/prof\n",
      "  copying apex/pyprof/prof/usage.py -> build/lib/apex/pyprof/prof\n",
      "  copying apex/pyprof/prof/__init__.py -> build/lib/apex/pyprof/prof\n",
      "  copying apex/pyprof/prof/dropout.py -> build/lib/apex/pyprof/prof\n",
      "  copying apex/pyprof/prof/randomSample.py -> build/lib/apex/pyprof/prof\n",
      "  copying apex/pyprof/prof/normalization.py -> build/lib/apex/pyprof/prof\n",
      "  copying apex/pyprof/prof/blas.py -> build/lib/apex/pyprof/prof\n",
      "  copying apex/pyprof/prof/linear.py -> build/lib/apex/pyprof/prof\n",
      "  copying apex/pyprof/prof/utility.py -> build/lib/apex/pyprof/prof\n",
      "  copying apex/pyprof/prof/activation.py -> build/lib/apex/pyprof/prof\n",
      "  copying apex/pyprof/prof/optim.py -> build/lib/apex/pyprof/prof\n",
      "  copying apex/pyprof/prof/__main__.py -> build/lib/apex/pyprof/prof\n",
      "  copying apex/pyprof/prof/prof.py -> build/lib/apex/pyprof/prof\n",
      "  copying apex/pyprof/prof/pointwise.py -> build/lib/apex/pyprof/prof\n",
      "  copying apex/pyprof/prof/base.py -> build/lib/apex/pyprof/prof\n",
      "  copying apex/pyprof/prof/misc.py -> build/lib/apex/pyprof/prof\n",
      "  creating build/lib/apex/pyprof/parse\n",
      "  copying apex/pyprof/parse/__init__.py -> build/lib/apex/pyprof/parse\n",
      "  copying apex/pyprof/parse/kernel.py -> build/lib/apex/pyprof/parse\n",
      "  copying apex/pyprof/parse/parse.py -> build/lib/apex/pyprof/parse\n",
      "  copying apex/pyprof/parse/nvvp.py -> build/lib/apex/pyprof/parse\n",
      "  copying apex/pyprof/parse/__main__.py -> build/lib/apex/pyprof/parse\n",
      "  copying apex/pyprof/parse/db.py -> build/lib/apex/pyprof/parse\n",
      "  installing to build/bdist.linux-x86_64/wheel\n",
      "  running install\n",
      "  running install_lib\n",
      "  creating build/bdist.linux-x86_64\n",
      "  creating build/bdist.linux-x86_64/wheel\n",
      "  creating build/bdist.linux-x86_64/wheel/apex\n",
      "  copying build/lib/apex/__init__.py -> build/bdist.linux-x86_64/wheel/apex\n",
      "  creating build/bdist.linux-x86_64/wheel/apex/amp\n",
      "  copying build/lib/apex/amp/amp.py -> build/bdist.linux-x86_64/wheel/apex/amp\n",
      "  copying build/lib/apex/amp/compat.py -> build/bdist.linux-x86_64/wheel/apex/amp\n",
      "  copying build/lib/apex/amp/wrap.py -> build/bdist.linux-x86_64/wheel/apex/amp\n",
      "  copying build/lib/apex/amp/scaler.py -> build/bdist.linux-x86_64/wheel/apex/amp\n",
      "  copying build/lib/apex/amp/_amp_state.py -> build/bdist.linux-x86_64/wheel/apex/amp\n",
      "  copying build/lib/apex/amp/rnn_compat.py -> build/bdist.linux-x86_64/wheel/apex/amp\n",
      "  copying build/lib/apex/amp/handle.py -> build/bdist.linux-x86_64/wheel/apex/amp\n",
      "  copying build/lib/apex/amp/_initialize.py -> build/bdist.linux-x86_64/wheel/apex/amp\n",
      "  copying build/lib/apex/amp/utils.py -> build/bdist.linux-x86_64/wheel/apex/amp\n",
      "  copying build/lib/apex/amp/__version__.py -> build/bdist.linux-x86_64/wheel/apex/amp\n",
      "  copying build/lib/apex/amp/opt.py -> build/bdist.linux-x86_64/wheel/apex/amp\n",
      "  copying build/lib/apex/amp/__init__.py -> build/bdist.linux-x86_64/wheel/apex/amp\n",
      "  copying build/lib/apex/amp/frontend.py -> build/bdist.linux-x86_64/wheel/apex/amp\n",
      "  copying build/lib/apex/amp/_process_optimizer.py -> build/bdist.linux-x86_64/wheel/apex/amp\n",
      "  creating build/bdist.linux-x86_64/wheel/apex/amp/lists\n",
      "  copying build/lib/apex/amp/lists/torch_overrides.py -> build/bdist.linux-x86_64/wheel/apex/amp/lists\n",
      "  copying build/lib/apex/amp/lists/__init__.py -> build/bdist.linux-x86_64/wheel/apex/amp/lists\n",
      "  copying build/lib/apex/amp/lists/tensor_overrides.py -> build/bdist.linux-x86_64/wheel/apex/amp/lists\n",
      "  copying build/lib/apex/amp/lists/functional_overrides.py -> build/bdist.linux-x86_64/wheel/apex/amp/lists\n",
      "  creating build/bdist.linux-x86_64/wheel/apex/parallel\n",
      "  copying build/lib/apex/parallel/__init__.py -> build/bdist.linux-x86_64/wheel/apex/parallel\n",
      "  copying build/lib/apex/parallel/distributed.py -> build/bdist.linux-x86_64/wheel/apex/parallel\n",
      "  copying build/lib/apex/parallel/optimized_sync_batchnorm.py -> build/bdist.linux-x86_64/wheel/apex/parallel\n",
      "  copying build/lib/apex/parallel/LARC.py -> build/bdist.linux-x86_64/wheel/apex/parallel\n",
      "  copying build/lib/apex/parallel/sync_batchnorm.py -> build/bdist.linux-x86_64/wheel/apex/parallel\n",
      "  copying build/lib/apex/parallel/optimized_sync_batchnorm_kernel.py -> build/bdist.linux-x86_64/wheel/apex/parallel\n",
      "  copying build/lib/apex/parallel/multiproc.py -> build/bdist.linux-x86_64/wheel/apex/parallel\n",
      "  copying build/lib/apex/parallel/sync_batchnorm_kernel.py -> build/bdist.linux-x86_64/wheel/apex/parallel\n",
      "  creating build/bdist.linux-x86_64/wheel/apex/optimizers\n",
      "  copying build/lib/apex/optimizers/fused_novograd.py -> build/bdist.linux-x86_64/wheel/apex/optimizers\n",
      "  copying build/lib/apex/optimizers/fused_lamb.py -> build/bdist.linux-x86_64/wheel/apex/optimizers\n",
      "  copying build/lib/apex/optimizers/fused_adam.py -> build/bdist.linux-x86_64/wheel/apex/optimizers\n",
      "  copying build/lib/apex/optimizers/fused_sgd.py -> build/bdist.linux-x86_64/wheel/apex/optimizers\n",
      "  copying build/lib/apex/optimizers/__init__.py -> build/bdist.linux-x86_64/wheel/apex/optimizers\n",
      "  copying build/lib/apex/optimizers/fused_adagrad.py -> build/bdist.linux-x86_64/wheel/apex/optimizers\n",
      "  creating build/bdist.linux-x86_64/wheel/apex/reparameterization\n",
      "  copying build/lib/apex/reparameterization/reparameterization.py -> build/bdist.linux-x86_64/wheel/apex/reparameterization\n",
      "  copying build/lib/apex/reparameterization/__init__.py -> build/bdist.linux-x86_64/wheel/apex/reparameterization\n",
      "  copying build/lib/apex/reparameterization/weight_norm.py -> build/bdist.linux-x86_64/wheel/apex/reparameterization\n",
      "  creating build/bdist.linux-x86_64/wheel/apex/multi_tensor_apply\n",
      "  copying build/lib/apex/multi_tensor_apply/__init__.py -> build/bdist.linux-x86_64/wheel/apex/multi_tensor_apply\n",
      "  copying build/lib/apex/multi_tensor_apply/multi_tensor_apply.py -> build/bdist.linux-x86_64/wheel/apex/multi_tensor_apply\n",
      "  creating build/bdist.linux-x86_64/wheel/apex/contrib\n",
      "  copying build/lib/apex/contrib/__init__.py -> build/bdist.linux-x86_64/wheel/apex/contrib\n",
      "  creating build/bdist.linux-x86_64/wheel/apex/contrib/optimizers\n",
      "  copying build/lib/apex/contrib/optimizers/fused_adam.py -> build/bdist.linux-x86_64/wheel/apex/contrib/optimizers\n",
      "  copying build/lib/apex/contrib/optimizers/fp16_optimizer.py -> build/bdist.linux-x86_64/wheel/apex/contrib/optimizers\n",
      "  copying build/lib/apex/contrib/optimizers/fused_lamb.py -> build/bdist.linux-x86_64/wheel/apex/contrib/optimizers\n",
      "  copying build/lib/apex/contrib/optimizers/__init__.py -> build/bdist.linux-x86_64/wheel/apex/contrib/optimizers\n",
      "  copying build/lib/apex/contrib/optimizers/distributed_fused_adam_v2.py -> build/bdist.linux-x86_64/wheel/apex/contrib/optimizers\n",
      "  copying build/lib/apex/contrib/optimizers/fused_sgd.py -> build/bdist.linux-x86_64/wheel/apex/contrib/optimizers\n",
      "  copying build/lib/apex/contrib/optimizers/distributed_fused_adam.py -> build/bdist.linux-x86_64/wheel/apex/contrib/optimizers\n",
      "  copying build/lib/apex/contrib/optimizers/distributed_fused_adam_v3.py -> build/bdist.linux-x86_64/wheel/apex/contrib/optimizers\n",
      "  copying build/lib/apex/contrib/optimizers/distributed_fused_lamb.py -> build/bdist.linux-x86_64/wheel/apex/contrib/optimizers\n",
      "  creating build/bdist.linux-x86_64/wheel/apex/contrib/groupbn\n",
      "  copying build/lib/apex/contrib/groupbn/batch_norm.py -> build/bdist.linux-x86_64/wheel/apex/contrib/groupbn\n",
      "  copying build/lib/apex/contrib/groupbn/__init__.py -> build/bdist.linux-x86_64/wheel/apex/contrib/groupbn\n",
      "  creating build/bdist.linux-x86_64/wheel/apex/contrib/sparsity\n",
      "  copying build/lib/apex/contrib/sparsity/sparse_masklib.py -> build/bdist.linux-x86_64/wheel/apex/contrib/sparsity\n",
      "  copying build/lib/apex/contrib/sparsity/__init__.py -> build/bdist.linux-x86_64/wheel/apex/contrib/sparsity\n",
      "  copying build/lib/apex/contrib/sparsity/asp.py -> build/bdist.linux-x86_64/wheel/apex/contrib/sparsity\n",
      "  creating build/bdist.linux-x86_64/wheel/apex/contrib/layer_norm\n",
      "  copying build/lib/apex/contrib/layer_norm/layer_norm.py -> build/bdist.linux-x86_64/wheel/apex/contrib/layer_norm\n",
      "  copying build/lib/apex/contrib/layer_norm/__init__.py -> build/bdist.linux-x86_64/wheel/apex/contrib/layer_norm\n",
      "  creating build/bdist.linux-x86_64/wheel/apex/contrib/xentropy\n",
      "  copying build/lib/apex/contrib/xentropy/softmax_xentropy.py -> build/bdist.linux-x86_64/wheel/apex/contrib/xentropy\n",
      "  copying build/lib/apex/contrib/xentropy/__init__.py -> build/bdist.linux-x86_64/wheel/apex/contrib/xentropy\n",
      "  creating build/bdist.linux-x86_64/wheel/apex/contrib/multihead_attn\n",
      "  copying build/lib/apex/contrib/multihead_attn/fast_self_multihead_attn_func.py -> build/bdist.linux-x86_64/wheel/apex/contrib/multihead_attn\n",
      "  copying build/lib/apex/contrib/multihead_attn/fast_self_multihead_attn_norm_add_func.py -> build/bdist.linux-x86_64/wheel/apex/contrib/multihead_attn\n",
      "  copying build/lib/apex/contrib/multihead_attn/fast_encdec_multihead_attn_func.py -> build/bdist.linux-x86_64/wheel/apex/contrib/multihead_attn\n",
      "  copying build/lib/apex/contrib/multihead_attn/encdec_multihead_attn.py -> build/bdist.linux-x86_64/wheel/apex/contrib/multihead_attn\n",
      "  copying build/lib/apex/contrib/multihead_attn/fast_encdec_multihead_attn_norm_add_func.py -> build/bdist.linux-x86_64/wheel/apex/contrib/multihead_attn\n",
      "  copying build/lib/apex/contrib/multihead_attn/self_multihead_attn_func.py -> build/bdist.linux-x86_64/wheel/apex/contrib/multihead_attn\n",
      "  copying build/lib/apex/contrib/multihead_attn/self_multihead_attn.py -> build/bdist.linux-x86_64/wheel/apex/contrib/multihead_attn\n"
     ]
    },
    {
     "name": "stdout",
     "output_type": "stream",
     "text": [
      "  copying build/lib/apex/contrib/multihead_attn/__init__.py -> build/bdist.linux-x86_64/wheel/apex/contrib/multihead_attn\n",
      "  copying build/lib/apex/contrib/multihead_attn/mask_softmax_dropout_func.py -> build/bdist.linux-x86_64/wheel/apex/contrib/multihead_attn\n",
      "  copying build/lib/apex/contrib/multihead_attn/encdec_multihead_attn_func.py -> build/bdist.linux-x86_64/wheel/apex/contrib/multihead_attn\n",
      "  creating build/bdist.linux-x86_64/wheel/apex/RNN\n",
      "  copying build/lib/apex/RNN/__init__.py -> build/bdist.linux-x86_64/wheel/apex/RNN\n",
      "  copying build/lib/apex/RNN/cells.py -> build/bdist.linux-x86_64/wheel/apex/RNN\n",
      "  copying build/lib/apex/RNN/RNNBackend.py -> build/bdist.linux-x86_64/wheel/apex/RNN\n",
      "  copying build/lib/apex/RNN/models.py -> build/bdist.linux-x86_64/wheel/apex/RNN\n",
      "  creating build/bdist.linux-x86_64/wheel/apex/fp16_utils\n",
      "  copying build/lib/apex/fp16_utils/fp16_optimizer.py -> build/bdist.linux-x86_64/wheel/apex/fp16_utils\n",
      "  copying build/lib/apex/fp16_utils/fp16util.py -> build/bdist.linux-x86_64/wheel/apex/fp16_utils\n",
      "  copying build/lib/apex/fp16_utils/loss_scaler.py -> build/bdist.linux-x86_64/wheel/apex/fp16_utils\n",
      "  copying build/lib/apex/fp16_utils/__init__.py -> build/bdist.linux-x86_64/wheel/apex/fp16_utils\n",
      "  creating build/bdist.linux-x86_64/wheel/apex/mlp\n",
      "  copying build/lib/apex/mlp/mlp.py -> build/bdist.linux-x86_64/wheel/apex/mlp\n",
      "  copying build/lib/apex/mlp/__init__.py -> build/bdist.linux-x86_64/wheel/apex/mlp\n",
      "  creating build/bdist.linux-x86_64/wheel/apex/normalization\n",
      "  copying build/lib/apex/normalization/__init__.py -> build/bdist.linux-x86_64/wheel/apex/normalization\n",
      "  copying build/lib/apex/normalization/fused_layer_norm.py -> build/bdist.linux-x86_64/wheel/apex/normalization\n",
      "  creating build/bdist.linux-x86_64/wheel/apex/pyprof\n",
      "  copying build/lib/apex/pyprof/__init__.py -> build/bdist.linux-x86_64/wheel/apex/pyprof\n",
      "  creating build/bdist.linux-x86_64/wheel/apex/pyprof/nvtx\n",
      "  copying build/lib/apex/pyprof/nvtx/__init__.py -> build/bdist.linux-x86_64/wheel/apex/pyprof/nvtx\n",
      "  copying build/lib/apex/pyprof/nvtx/nvmarker.py -> build/bdist.linux-x86_64/wheel/apex/pyprof/nvtx\n",
      "  creating build/bdist.linux-x86_64/wheel/apex/pyprof/prof\n",
      "  copying build/lib/apex/pyprof/prof/conv.py -> build/bdist.linux-x86_64/wheel/apex/pyprof/prof\n",
      "  copying build/lib/apex/pyprof/prof/output.py -> build/bdist.linux-x86_64/wheel/apex/pyprof/prof\n",
      "  copying build/lib/apex/pyprof/prof/recurrentCell.py -> build/bdist.linux-x86_64/wheel/apex/pyprof/prof\n",
      "  copying build/lib/apex/pyprof/prof/embedding.py -> build/bdist.linux-x86_64/wheel/apex/pyprof/prof\n",
      "  copying build/lib/apex/pyprof/prof/convert.py -> build/bdist.linux-x86_64/wheel/apex/pyprof/prof\n",
      "  copying build/lib/apex/pyprof/prof/loss.py -> build/bdist.linux-x86_64/wheel/apex/pyprof/prof\n",
      "  copying build/lib/apex/pyprof/prof/index_slice_join_mutate.py -> build/bdist.linux-x86_64/wheel/apex/pyprof/prof\n",
      "  copying build/lib/apex/pyprof/prof/softmax.py -> build/bdist.linux-x86_64/wheel/apex/pyprof/prof\n",
      "  copying build/lib/apex/pyprof/prof/data.py -> build/bdist.linux-x86_64/wheel/apex/pyprof/prof\n",
      "  copying build/lib/apex/pyprof/prof/pooling.py -> build/bdist.linux-x86_64/wheel/apex/pyprof/prof\n",
      "  copying build/lib/apex/pyprof/prof/reduction.py -> build/bdist.linux-x86_64/wheel/apex/pyprof/prof\n",
      "  copying build/lib/apex/pyprof/prof/usage.py -> build/bdist.linux-x86_64/wheel/apex/pyprof/prof\n",
      "  copying build/lib/apex/pyprof/prof/__init__.py -> build/bdist.linux-x86_64/wheel/apex/pyprof/prof\n",
      "  copying build/lib/apex/pyprof/prof/dropout.py -> build/bdist.linux-x86_64/wheel/apex/pyprof/prof\n",
      "  copying build/lib/apex/pyprof/prof/randomSample.py -> build/bdist.linux-x86_64/wheel/apex/pyprof/prof\n",
      "  copying build/lib/apex/pyprof/prof/normalization.py -> build/bdist.linux-x86_64/wheel/apex/pyprof/prof\n",
      "  copying build/lib/apex/pyprof/prof/blas.py -> build/bdist.linux-x86_64/wheel/apex/pyprof/prof\n",
      "  copying build/lib/apex/pyprof/prof/linear.py -> build/bdist.linux-x86_64/wheel/apex/pyprof/prof\n",
      "  copying build/lib/apex/pyprof/prof/utility.py -> build/bdist.linux-x86_64/wheel/apex/pyprof/prof\n",
      "  copying build/lib/apex/pyprof/prof/activation.py -> build/bdist.linux-x86_64/wheel/apex/pyprof/prof\n",
      "  copying build/lib/apex/pyprof/prof/optim.py -> build/bdist.linux-x86_64/wheel/apex/pyprof/prof\n",
      "  copying build/lib/apex/pyprof/prof/__main__.py -> build/bdist.linux-x86_64/wheel/apex/pyprof/prof\n",
      "  copying build/lib/apex/pyprof/prof/prof.py -> build/bdist.linux-x86_64/wheel/apex/pyprof/prof\n",
      "  copying build/lib/apex/pyprof/prof/pointwise.py -> build/bdist.linux-x86_64/wheel/apex/pyprof/prof\n",
      "  copying build/lib/apex/pyprof/prof/base.py -> build/bdist.linux-x86_64/wheel/apex/pyprof/prof\n",
      "  copying build/lib/apex/pyprof/prof/misc.py -> build/bdist.linux-x86_64/wheel/apex/pyprof/prof\n",
      "  creating build/bdist.linux-x86_64/wheel/apex/pyprof/parse\n",
      "  copying build/lib/apex/pyprof/parse/__init__.py -> build/bdist.linux-x86_64/wheel/apex/pyprof/parse\n",
      "  copying build/lib/apex/pyprof/parse/kernel.py -> build/bdist.linux-x86_64/wheel/apex/pyprof/parse\n",
      "  copying build/lib/apex/pyprof/parse/parse.py -> build/bdist.linux-x86_64/wheel/apex/pyprof/parse\n",
      "  copying build/lib/apex/pyprof/parse/nvvp.py -> build/bdist.linux-x86_64/wheel/apex/pyprof/parse\n",
      "  copying build/lib/apex/pyprof/parse/__main__.py -> build/bdist.linux-x86_64/wheel/apex/pyprof/parse\n",
      "  copying build/lib/apex/pyprof/parse/db.py -> build/bdist.linux-x86_64/wheel/apex/pyprof/parse\n",
      "  running install_egg_info\n",
      "  running egg_info\n",
      "  creating apex.egg-info\n",
      "  writing apex.egg-info/PKG-INFO\n",
      "  writing dependency_links to apex.egg-info/dependency_links.txt\n",
      "  writing top-level names to apex.egg-info/top_level.txt\n",
      "  writing manifest file 'apex.egg-info/SOURCES.txt'\n",
      "  reading manifest file 'apex.egg-info/SOURCES.txt'\n",
      "  writing manifest file 'apex.egg-info/SOURCES.txt'\n",
      "  Copying apex.egg-info to build/bdist.linux-x86_64/wheel/apex-0.1-py3.7.egg-info\n",
      "  running install_scripts\n",
      "  adding license file \"LICENSE\" (matched pattern \"LICEN[CS]E*\")\n",
      "  creating build/bdist.linux-x86_64/wheel/apex-0.1.dist-info/WHEEL\n",
      "  creating '/tmp/pip-wheel-_iae8jpc/apex-0.1-py3-none-any.whl' and adding 'build/bdist.linux-x86_64/wheel' to it\n",
      "  adding 'apex/__init__.py'\n",
      "  adding 'apex/RNN/RNNBackend.py'\n",
      "  adding 'apex/RNN/__init__.py'\n",
      "  adding 'apex/RNN/cells.py'\n",
      "  adding 'apex/RNN/models.py'\n",
      "  adding 'apex/amp/__init__.py'\n",
      "  adding 'apex/amp/__version__.py'\n",
      "  adding 'apex/amp/_amp_state.py'\n",
      "  adding 'apex/amp/_initialize.py'\n",
      "  adding 'apex/amp/_process_optimizer.py'\n",
      "  adding 'apex/amp/amp.py'\n",
      "  adding 'apex/amp/compat.py'\n",
      "  adding 'apex/amp/frontend.py'\n",
      "  adding 'apex/amp/handle.py'\n",
      "  adding 'apex/amp/opt.py'\n",
      "  adding 'apex/amp/rnn_compat.py'\n",
      "  adding 'apex/amp/scaler.py'\n",
      "  adding 'apex/amp/utils.py'\n",
      "  adding 'apex/amp/wrap.py'\n",
      "  adding 'apex/amp/lists/__init__.py'\n",
      "  adding 'apex/amp/lists/functional_overrides.py'\n",
      "  adding 'apex/amp/lists/tensor_overrides.py'\n",
      "  adding 'apex/amp/lists/torch_overrides.py'\n",
      "  adding 'apex/contrib/__init__.py'\n",
      "  adding 'apex/contrib/groupbn/__init__.py'\n",
      "  adding 'apex/contrib/groupbn/batch_norm.py'\n",
      "  adding 'apex/contrib/layer_norm/__init__.py'\n",
      "  adding 'apex/contrib/layer_norm/layer_norm.py'\n",
      "  adding 'apex/contrib/multihead_attn/__init__.py'\n",
      "  adding 'apex/contrib/multihead_attn/encdec_multihead_attn.py'\n",
      "  adding 'apex/contrib/multihead_attn/encdec_multihead_attn_func.py'\n",
      "  adding 'apex/contrib/multihead_attn/fast_encdec_multihead_attn_func.py'\n",
      "  adding 'apex/contrib/multihead_attn/fast_encdec_multihead_attn_norm_add_func.py'\n",
      "  adding 'apex/contrib/multihead_attn/fast_self_multihead_attn_func.py'\n",
      "  adding 'apex/contrib/multihead_attn/fast_self_multihead_attn_norm_add_func.py'\n",
      "  adding 'apex/contrib/multihead_attn/mask_softmax_dropout_func.py'\n",
      "  adding 'apex/contrib/multihead_attn/self_multihead_attn.py'\n",
      "  adding 'apex/contrib/multihead_attn/self_multihead_attn_func.py'\n",
      "  adding 'apex/contrib/optimizers/__init__.py'\n",
      "  adding 'apex/contrib/optimizers/distributed_fused_adam.py'\n",
      "  adding 'apex/contrib/optimizers/distributed_fused_adam_v2.py'\n",
      "  adding 'apex/contrib/optimizers/distributed_fused_adam_v3.py'\n",
      "  adding 'apex/contrib/optimizers/distributed_fused_lamb.py'\n",
      "  adding 'apex/contrib/optimizers/fp16_optimizer.py'\n",
      "  adding 'apex/contrib/optimizers/fused_adam.py'\n",
      "  adding 'apex/contrib/optimizers/fused_lamb.py'\n",
      "  adding 'apex/contrib/optimizers/fused_sgd.py'\n",
      "  adding 'apex/contrib/sparsity/__init__.py'\n",
      "  adding 'apex/contrib/sparsity/asp.py'\n",
      "  adding 'apex/contrib/sparsity/sparse_masklib.py'\n",
      "  adding 'apex/contrib/xentropy/__init__.py'\n",
      "  adding 'apex/contrib/xentropy/softmax_xentropy.py'\n",
      "  adding 'apex/fp16_utils/__init__.py'\n",
      "  adding 'apex/fp16_utils/fp16_optimizer.py'\n",
      "  adding 'apex/fp16_utils/fp16util.py'\n",
      "  adding 'apex/fp16_utils/loss_scaler.py'\n",
      "  adding 'apex/mlp/__init__.py'\n",
      "  adding 'apex/mlp/mlp.py'\n",
      "  adding 'apex/multi_tensor_apply/__init__.py'\n",
      "  adding 'apex/multi_tensor_apply/multi_tensor_apply.py'\n",
      "  adding 'apex/normalization/__init__.py'\n",
      "  adding 'apex/normalization/fused_layer_norm.py'\n",
      "  adding 'apex/optimizers/__init__.py'\n",
      "  adding 'apex/optimizers/fused_adagrad.py'\n",
      "  adding 'apex/optimizers/fused_adam.py'\n",
      "  adding 'apex/optimizers/fused_lamb.py'\n",
      "  adding 'apex/optimizers/fused_novograd.py'\n",
      "  adding 'apex/optimizers/fused_sgd.py'\n",
      "  adding 'apex/parallel/LARC.py'\n",
      "  adding 'apex/parallel/__init__.py'\n",
      "  adding 'apex/parallel/distributed.py'\n",
      "  adding 'apex/parallel/multiproc.py'\n",
      "  adding 'apex/parallel/optimized_sync_batchnorm.py'\n",
      "  adding 'apex/parallel/optimized_sync_batchnorm_kernel.py'\n",
      "  adding 'apex/parallel/sync_batchnorm.py'\n",
      "  adding 'apex/parallel/sync_batchnorm_kernel.py'\n",
      "  adding 'apex/pyprof/__init__.py'\n",
      "  adding 'apex/pyprof/nvtx/__init__.py'\n",
      "  adding 'apex/pyprof/nvtx/nvmarker.py'\n",
      "  adding 'apex/pyprof/parse/__init__.py'\n",
      "  adding 'apex/pyprof/parse/__main__.py'\n",
      "  adding 'apex/pyprof/parse/db.py'\n",
      "  adding 'apex/pyprof/parse/kernel.py'\n",
      "  adding 'apex/pyprof/parse/nvvp.py'\n",
      "  adding 'apex/pyprof/parse/parse.py'\n",
      "  adding 'apex/pyprof/prof/__init__.py'\n",
      "  adding 'apex/pyprof/prof/__main__.py'\n",
      "  adding 'apex/pyprof/prof/activation.py'\n",
      "  adding 'apex/pyprof/prof/base.py'\n",
      "  adding 'apex/pyprof/prof/blas.py'\n",
      "  adding 'apex/pyprof/prof/conv.py'\n",
      "  adding 'apex/pyprof/prof/convert.py'\n",
      "  adding 'apex/pyprof/prof/data.py'\n",
      "  adding 'apex/pyprof/prof/dropout.py'\n",
      "  adding 'apex/pyprof/prof/embedding.py'\n",
      "  adding 'apex/pyprof/prof/index_slice_join_mutate.py'\n",
      "  adding 'apex/pyprof/prof/linear.py'\n",
      "  adding 'apex/pyprof/prof/loss.py'\n",
      "  adding 'apex/pyprof/prof/misc.py'\n",
      "  adding 'apex/pyprof/prof/normalization.py'\n",
      "  adding 'apex/pyprof/prof/optim.py'\n",
      "  adding 'apex/pyprof/prof/output.py'\n",
      "  adding 'apex/pyprof/prof/pointwise.py'\n",
      "  adding 'apex/pyprof/prof/pooling.py'\n",
      "  adding 'apex/pyprof/prof/prof.py'\n",
      "  adding 'apex/pyprof/prof/randomSample.py'\n",
      "  adding 'apex/pyprof/prof/recurrentCell.py'\n",
      "  adding 'apex/pyprof/prof/reduction.py'\n",
      "  adding 'apex/pyprof/prof/softmax.py'\n",
      "  adding 'apex/pyprof/prof/usage.py'\n",
      "  adding 'apex/pyprof/prof/utility.py'\n",
      "  adding 'apex/reparameterization/__init__.py'\n",
      "  adding 'apex/reparameterization/reparameterization.py'\n",
      "  adding 'apex/reparameterization/weight_norm.py'\n",
      "  adding 'apex-0.1.dist-info/LICENSE'\n",
      "  adding 'apex-0.1.dist-info/METADATA'\n",
      "  adding 'apex-0.1.dist-info/WHEEL'\n",
      "  adding 'apex-0.1.dist-info/top_level.txt'\n",
      "  adding 'apex-0.1.dist-info/RECORD'\n",
      "  removing build/bdist.linux-x86_64/wheel\n"
     ]
    },
    {
     "name": "stdout",
     "output_type": "stream",
     "text": [
      "\u001b[?25hdone\n",
      "  Created wheel for apex: filename=apex-0.1-py3-none-any.whl size=196374 sha256=d0d17254945ddaa7dad1e438eb05366fdc264ccb36cb2df84035c89399f67351\n",
      "  Stored in directory: /tmp/pip-ephem-wheel-cache-o5nw2o70/wheels/36/a3/d3/fe7e08c0ab558202ffbf166fbdd3ccc3c64d3994d0d58c399c\n",
      "Successfully built apex\n",
      "Installing collected packages: apex\n",
      "  Attempting uninstall: apex\n",
      "    Found existing installation: apex 0.1\n",
      "    Uninstalling apex-0.1:\n",
      "      Created temporary directory: /home/bseoh/miniconda3/envs/idp01/lib/python3.7/site-packages/~pex-0.1.dist-info\n",
      "      Removing file or directory /home/bseoh/miniconda3/envs/idp01/lib/python3.7/site-packages/apex-0.1.dist-info/\n",
      "      Created temporary directory: /home/bseoh/miniconda3/envs/idp01/lib/python3.7/site-packages/~pex\n",
      "      Removing file or directory /home/bseoh/miniconda3/envs/idp01/lib/python3.7/site-packages/apex/\n",
      "      Successfully uninstalled apex-0.1\n",
      "\n",
      "Successfully installed apex-0.1\n",
      "1 location(s) to search for versions of pip:\n",
      "* https://pypi.org/simple/pip/\n",
      "Fetching project page and analyzing links: https://pypi.org/simple/pip/\n",
      "Getting page https://pypi.org/simple/pip/\n",
      "Found index url https://pypi.org/simple\n",
      "Starting new HTTPS connection (1): pypi.org:443\n",
      "https://pypi.org:443 \"GET /simple/pip/ HTTP/1.1\" 200 16001\n",
      "  Found link https://files.pythonhosted.org/packages/3d/9d/1e313763bdfb6a48977b65829c6ce2a43eaae29ea2f907c8bbef024a7219/pip-0.2.tar.gz#sha256=88bb8d029e1bf4acd0e04d300104b7440086f94cc1ce1c5c3c31e3293aee1f81 (from https://pypi.org/simple/pip/), version: 0.2\n",
      "  Found link https://files.pythonhosted.org/packages/18/ad/c0fe6cdfe1643a19ef027c7168572dac6283b80a384ddf21b75b921877da/pip-0.2.1.tar.gz#sha256=83522005c1266cc2de97e65072ff7554ac0f30ad369c3b02ff3a764b962048da (from https://pypi.org/simple/pip/), version: 0.2.1\n",
      "  Found link https://files.pythonhosted.org/packages/17/05/f66144ef69b436d07f8eeeb28b7f77137f80de4bf60349ec6f0f9509e801/pip-0.3.tar.gz#sha256=183c72455cb7f8860ac1376f8c4f14d7f545aeab8ee7c22cd4caf79f35a2ed47 (from https://pypi.org/simple/pip/), version: 0.3\n",
      "  Found link https://files.pythonhosted.org/packages/0a/bb/d087c9a1415f8726e683791c0b2943c53f2b76e69f527f2e2b2e9f9e7b5c/pip-0.3.1.tar.gz#sha256=34ce534f17065c78f980702928e988a6b6b2d8a9851aae5f1571a1feb9bb58d8 (from https://pypi.org/simple/pip/), version: 0.3.1\n",
      "  Found link https://files.pythonhosted.org/packages/cf/c3/153571aaac6cf999f4bb09c019b1ff379b7b599ea833813a41c784eec995/pip-0.4.tar.gz#sha256=28fc67558874f71fddda7168f73595f1650523dce3bc5bf189713ecdfc1e456e (from https://pypi.org/simple/pip/), version: 0.4\n",
      "  Found link https://files.pythonhosted.org/packages/8d/c7/f05c87812fa5d9562ecbc5f4f1fc1570444f53c81c834a7f662af406e3c1/pip-0.5.tar.gz#sha256=328d8412782f22568508a0d0c78a49c9920a82e44c8dfca49954fe525c152b2a (from https://pypi.org/simple/pip/), version: 0.5\n",
      "  Found link https://files.pythonhosted.org/packages/9a/aa/f536b6d14fe03343367da2ff44eee28f340ae650cd017ca088b6be13084a/pip-0.5.1.tar.gz#sha256=e27650538c41fe1007a41abd4cfd0f905b822622cbe1f8e7e09d1215af207694 (from https://pypi.org/simple/pip/), version: 0.5.1\n",
      "  Found link https://files.pythonhosted.org/packages/db/e6/fdf7be8a17b032c533d3f91e91e2c63dd81d3627cbe4113248a00c2d39d8/pip-0.6.tar.gz#sha256=4cf47db6815b2f435d1f44e1f35ff04823043f6161f7df9aec71a123b0c47f0d (from https://pypi.org/simple/pip/), version: 0.6\n",
      "  Found link https://files.pythonhosted.org/packages/91/cd/105f4d3c75d0ae18e12623acc96f42168aaba408dd6e43c4505aa21f8e37/pip-0.6.1.tar.gz#sha256=efe47e84ffeb0ea4804f9858b8a94bebd07f5452f907ebed36d03aed06a9f9ec (from https://pypi.org/simple/pip/), version: 0.6.1\n",
      "  Found link https://files.pythonhosted.org/packages/1c/c7/c0e1a9413c37828faf290f29a85a4d6034c145cc04bf1622ba8beb662ad8/pip-0.6.2.tar.gz#sha256=1c1a504d7e70d2c24246f95bd16e3d5fcec740fd144df69a407bf65a2ee67586 (from https://pypi.org/simple/pip/), version: 0.6.2\n",
      "  Found link https://files.pythonhosted.org/packages/3f/af/c4b9d49fb0f286996b28dbc0955c3ad359794697eb98e0e69863908070b0/pip-0.6.3.tar.gz#sha256=1a6df71eb29b98cba11bde6d6a0d8c6dd8b0518e74ceb71fb31ea4fbb42fd313 (from https://pypi.org/simple/pip/), version: 0.6.3\n",
      "  Found link https://files.pythonhosted.org/packages/ec/7a/6fe91ff0079ad0437830957c459d52f3923e516f5b453218f2a93d09a427/pip-0.7.tar.gz#sha256=ceaea0b9e494d893c8a191895301b79c1db33e41f14d3ad93e3d28a8b4e9bf27 (from https://pypi.org/simple/pip/), version: 0.7\n",
      "  Found link https://files.pythonhosted.org/packages/a5/63/11303863c2f5e9d9a15d89fcf7513a4b60987007d418862e0fb65c09fff7/pip-0.7.1.tar.gz#sha256=f54f05aa17edd0036de433c44892c8fedb1fd2871c97829838feb995818d24c3 (from https://pypi.org/simple/pip/), version: 0.7.1\n",
      "  Found link https://files.pythonhosted.org/packages/cd/a9/1debaa96bbc1005c1c8ad3b79fec58c198d35121546ea2e858ce0894268a/pip-0.7.2.tar.gz#sha256=98df2eb779358412bbbae75980171ae85deebc846d87e244d086520b1212da09 (from https://pypi.org/simple/pip/), version: 0.7.2\n",
      "  Found link https://files.pythonhosted.org/packages/74/54/f785c327fb3d163560a879b36edae5c78ee07806be282c9d4807f6be7dd1/pip-0.8.tar.gz#sha256=9017e4484a212dd4e1a43dd9f039dd7fc8338d4eea1c339d5ae1c80726de5b0f (from https://pypi.org/simple/pip/), version: 0.8\n",
      "  Found link https://files.pythonhosted.org/packages/5c/79/5e8381cc3078bae92166f2ba96de8355e8c181926505ba8882f7b099a500/pip-0.8.1.tar.gz#sha256=7176a87f35675f6468341212f3b959bb51d23ea66eb1c3692bf746c45c716fa2 (from https://pypi.org/simple/pip/), version: 0.8.1\n",
      "  Found link https://files.pythonhosted.org/packages/17/3e/0a98ab032991518741e7e712a719633e6ae160f51b3d3e855194530fd308/pip-0.8.2.tar.gz#sha256=f80a3549c048bc3bbcb47844826e9c7c6fcd87e77b92bef0d9e66d1b397c4962 (from https://pypi.org/simple/pip/), version: 0.8.2\n",
      "  Found link https://files.pythonhosted.org/packages/f7/9a/943fc6d879ed7220bac2e7e53096bfe78abec88d77f2f516400e0129679e/pip-0.8.3.tar.gz#sha256=1be2e18edd38aa75b5e4ef38a99ec33ba9247177cfcb4a6d2d2b3e73430e3001 (from https://pypi.org/simple/pip/), version: 0.8.3\n",
      "  Found link https://files.pythonhosted.org/packages/24/33/6eb675fb6db7b71d69d6928b33dea61b8bf5cfe1e5649be70ec84ce2fc09/pip-1.0.tar.gz#sha256=34ba07e2d14ba86d5088ba896ac80bed845a9b276ab8acb279b8d99bc77fec8e (from https://pypi.org/simple/pip/), version: 1.0\n",
      "  Found link https://files.pythonhosted.org/packages/10/d9/f584e6107ef98ad7eaaaa5d0f756bfee12561fa6a4712ffdb7209e0e1fd4/pip-1.0.1.tar.gz#sha256=37d2f18213d3845d2038dd3686bc71fc12bb41ad66c945a8b0dfec2879f3497b (from https://pypi.org/simple/pip/), version: 1.0.1\n",
      "  Found link https://files.pythonhosted.org/packages/16/90/5e6f80364d8a656f60681dfb7330298edef292d43e1499bcb3a4c71ff0b9/pip-1.0.2.tar.gz#sha256=a6ed9b36aac2f121c01a2c9e0307a9e4d9438d100a407db701ac65479a3335d2 (from https://pypi.org/simple/pip/), version: 1.0.2\n",
      "  Found link https://files.pythonhosted.org/packages/25/57/0d42cf5307d79913a082c5c4397d46f3793bc35e1138a694136d6e31be99/pip-1.1.tar.gz#sha256=993804bb947d18508acee02141281c77d27677f8c14eaa64d6287a1c53ef01c8 (from https://pypi.org/simple/pip/), version: 1.1\n",
      "  Found link https://files.pythonhosted.org/packages/ba/c3/4e1f892f41aaa217fe0d1f827fa05928783349c69f3cc06fdd68e112678a/pip-1.2.tar.gz#sha256=2b168f1987403f1dc6996a1f22a6f6637b751b7ab6ff27e78380b8d6e70aa314 (from https://pypi.org/simple/pip/), version: 1.2\n",
      "  Found link https://files.pythonhosted.org/packages/c3/a2/a63244da32afd9ce9a8ca1bd86e71610039adea8b8314046ebe5047527a6/pip-1.2.1.tar.gz#sha256=12a9302acfca62cdc7bc5d83386cac3e0581db61ac39acdb3a4e766a16b88eb1 (from https://pypi.org/simple/pip/), version: 1.2.1\n",
      "  Found link https://files.pythonhosted.org/packages/00/45/69d4f2602b80550bfb26cfd2f62c2f05b3b5c7352705d3766cd1e5b27648/pip-1.3.tar.gz#sha256=d6a13c5be316cb21a0243047c7f163f47e88973ebccff8d32e63ca1bf4d9321c (from https://pypi.org/simple/pip/), version: 1.3\n",
      "  Found link https://files.pythonhosted.org/packages/5b/ce/f5b98104f1c10d868936c25f7c597f492d4371aa9ad5fb61a94954ee7208/pip-1.3.1.tar.gz#sha256=145eaa5d1ea1b062663da1f3a97780d7edea4c63c68a37c463b1deedf7bb4957 (from https://pypi.org/simple/pip/), version: 1.3.1\n",
      "  Found link https://files.pythonhosted.org/packages/5f/d0/3b3958f6a58783bae44158b2c4c7827ae89abaecdd4bed12cff402620b9a/pip-1.4.tar.gz#sha256=1fd43cbf07d95ddcecbb795c97a1674b3ddb711bb4a67661284a5aa765aa1b97 (from https://pypi.org/simple/pip/), version: 1.4\n",
      "  Found link https://files.pythonhosted.org/packages/3f/f8/da390e0df72fb61d176b25a4b95262e3dcc14bda0ad25ac64d56db38b667/pip-1.4.1.tar.gz#sha256=4e7a06554711a624c35d0c646f63674b7f6bfc7f80221bf1eb1f631bd890d04e (from https://pypi.org/simple/pip/), version: 1.4.1\n",
      "  Found link https://files.pythonhosted.org/packages/4f/7d/e53bc80667378125a9e07d4929a61b0bd7128a1129dbe6f07bb3228652a3/pip-1.5.tar.gz#sha256=25f81d1a0e55d3b1709818dd57fdfb954b028f229f09bd69cb0bc80a8e03e048 (from https://pypi.org/simple/pip/), version: 1.5\n",
      "  Found link https://files.pythonhosted.org/packages/44/5d/1dca53b5de6d287e7eb99bd174bb022eb6cb0d6ca6e19ca6b16655dde8c2/pip-1.5.1-py2.py3-none-any.whl#sha256=00960db3b0b8724dd37fe37cfb9c72ecb8f59fab9db7d17c5c1e89a1adab49ce (from https://pypi.org/simple/pip/), version: 1.5.1\n",
      "  Found link https://files.pythonhosted.org/packages/21/3f/d86a600c9b2f41a75caacf768a24130f343def97652de2345da15ef7911f/pip-1.5.1.tar.gz#sha256=e60e936fbc101d56668c6134c1f2b5b40fcbec8b4fc4ca7fc34842b6b4c5c130 (from https://pypi.org/simple/pip/), version: 1.5.1\n",
      "  Found link https://files.pythonhosted.org/packages/3d/1f/227d77d5e9ed2df5162de4ba3616799a351eccb1ecd668ae824dd26153a1/pip-1.5.2-py2.py3-none-any.whl#sha256=6903909ccdcdbc3297b74118590e71344d6d262827acd1f5c0e2fcfce9807499 (from https://pypi.org/simple/pip/), version: 1.5.2\n",
      "  Found link https://files.pythonhosted.org/packages/ed/94/391a003107f6ec997c314199d03bff1c105af758ee490e3255353574487b/pip-1.5.2.tar.gz#sha256=2a8a3e08e652d3a40edbb39264bf01f8ff3c32520a79113357cca1f30533f738 (from https://pypi.org/simple/pip/), version: 1.5.2\n",
      "  Found link https://files.pythonhosted.org/packages/df/e9/bdb53d44fad1465b43edaf6bc7dd3027ed5af81405cc97603fdff0721ebb/pip-1.5.3-py2.py3-none-any.whl#sha256=f0037aed3ce6cf96b9e9117d42e967a74bea9ebe19088a2fdea5de93d5762fee (from https://pypi.org/simple/pip/), version: 1.5.3\n",
      "  Found link https://files.pythonhosted.org/packages/55/de/671a48ad313c808623041fc475f7c8f7610401d9f573f06b40eeb84e74e3/pip-1.5.3.tar.gz#sha256=dc53b4d28b88556a37cd73052b6d1d08cc644c6724e37c4d38a2e3c03c5440b2 (from https://pypi.org/simple/pip/), version: 1.5.3\n",
      "  Found link https://files.pythonhosted.org/packages/a9/9a/9aa19fe00de4c025562e5fb3796ff8520165a7dd1a5662c6ec9816e1ae99/pip-1.5.4-py2.py3-none-any.whl#sha256=fb7282556a42e84464f2e963a859ac4012d8134ba6218b70c1d82d145fcfa82f (from https://pypi.org/simple/pip/), version: 1.5.4\n",
      "  Found link https://files.pythonhosted.org/packages/78/d8/6e58a7130d457edadb753a0ea5708e411c100c7e94e72ad4802feeef735c/pip-1.5.4.tar.gz#sha256=70208a250bb4afdbbdd74c3ac35d4ab9ba1eb6852d02567a6a87f2f5104e30b9 (from https://pypi.org/simple/pip/), version: 1.5.4\n",
      "  Found link https://files.pythonhosted.org/packages/ce/c2/10d996b9c51b126a9f0bb9e14a9edcdd5c88888323c0685bb9b392b6c47c/pip-1.5.5-py2.py3-none-any.whl#sha256=fe7a5808190067b2598d85def9b83db46e5d64a00848ad843e107c36e1db4ae6 (from https://pypi.org/simple/pip/), version: 1.5.5\n",
      "  Found link https://files.pythonhosted.org/packages/88/01/a442fde40bd9aaf837612536f16ab751fac628807fd718690795b8ade77d/pip-1.5.5.tar.gz#sha256=4b7f5124364ae9b5ba833dcd8813a84c1c06fba1d7c8543323c7af4b33188eca (from https://pypi.org/simple/pip/), version: 1.5.5\n",
      "  Found link https://files.pythonhosted.org/packages/3f/08/7347ca4021e7fe0f1ab8f93cbc7d2a7a7350012300ad0e0227d55625e2b8/pip-1.5.6-py2.py3-none-any.whl#sha256=fbc1351ffedf09ca7560428758845a88d648b9730b63ce9e5df53a7c89f039a4 (from https://pypi.org/simple/pip/), version: 1.5.6\n",
      "  Found link https://files.pythonhosted.org/packages/45/db/4fb9a456b4ec4d3b701456ef562b9d72d76b6358e0c1463d17db18c5b772/pip-1.5.6.tar.gz#sha256=b1a4ae66baf21b7eb05a5e4f37c50c2706fa28ea1f8780ce8efe14dcd9f1726c (from https://pypi.org/simple/pip/), version: 1.5.6\n",
      "  Found link https://files.pythonhosted.org/packages/dc/7c/21191b5944b917b66e4e4e06d74f668d814b6e8a3ff7acd874479b6f6b3d/pip-6.0-py2.py3-none-any.whl#sha256=5ec6732505bd8be49fe1f8ad557b88253ffb085736396df4d6bea753fc2a8f2c (from https://pypi.org/simple/pip/), version: 6.0\n",
      "  Found link https://files.pythonhosted.org/packages/38/fd/065c66a88398f240e344fdf496b9707f92d75f88eedc3d10ff847b28a657/pip-6.0.tar.gz#sha256=6103897f1bb68d3f933edd60f3e3830c4ea6b8abf7a4b500db148921b11f6c9b (from https://pypi.org/simple/pip/), version: 6.0\n",
      "  Found link https://files.pythonhosted.org/packages/e9/7a/cdbc1a12ed52410d557e48d4646f4543e9e991ff32d2374dc6db849aa617/pip-6.0.1-py2.py3-none-any.whl#sha256=322aea7d1f7b9ee68ad87ac4704cad5df97f77e70668c0bd18f964c5daa78173 (from https://pypi.org/simple/pip/), version: 6.0.1\n",
      "  Found link https://files.pythonhosted.org/packages/4d/c3/8675b90cd89b9b222062f4f6c7e9d48b0387f5b35cbf747a74403a883e56/pip-6.0.1.tar.gz#sha256=fa2f7c68da4a405d673aa38542f9df009d60026db4f532429ac9cbfbda1f959d (from https://pypi.org/simple/pip/), version: 6.0.1\n",
      "  Found link https://files.pythonhosted.org/packages/71/3c/b5a521e5e99cfff091e282231591f21193fd80de079ec5fb8ed9c6614044/pip-6.0.2-py2.py3-none-any.whl#sha256=7d17b0f267f7c9cd17cd2924bbbe2b4a3d407322c0e09084ca3f1295c1fed50d (from https://pypi.org/simple/pip/), version: 6.0.2\n",
      "  Found link https://files.pythonhosted.org/packages/4c/5a/f9e8e3de0153282c7cb54a9b991af225536ac914bac858ca664cf883bb3e/pip-6.0.2.tar.gz#sha256=6fa90667706a679e3dc75b27a51fddafa64401c45e96f8ae6c20978183290077 (from https://pypi.org/simple/pip/), version: 6.0.2\n",
      "  Found link https://files.pythonhosted.org/packages/73/cb/3eebf42003791df29219a3dfa1874572aa16114b44c9b1b0ac66bf96e8c0/pip-6.0.3-py2.py3-none-any.whl#sha256=b72655b6ac6aef1c86dd07f51e8ace8d7aabd6a1c4ff88db87155276fa32a073 (from https://pypi.org/simple/pip/), version: 6.0.3\n",
      "  Found link https://files.pythonhosted.org/packages/ce/63/8d99ae60d11ae1a65f5d4fc39a529a598bd3b8e067132210cb0c4d9e9f74/pip-6.0.3.tar.gz#sha256=b091a35f5fa0faffac0b27b97e1e1e93ffe63b463c2ea8dbde0c1fb987933614 (from https://pypi.org/simple/pip/), version: 6.0.3\n",
      "  Found link https://files.pythonhosted.org/packages/c5/0e/c974206726542bc495fc7443dd97834a6d14c2f0cba183fcfcd01075225a/pip-6.0.4-py2.py3-none-any.whl#sha256=8dfd95de29a7a3bb1e7d368cc83d566938eb210b04d553ebfe5e3a422f4aec65 (from https://pypi.org/simple/pip/), version: 6.0.4\n",
      "  Found link https://files.pythonhosted.org/packages/02/a1/c90f19910ee153d7a0efca7216758121118d7e93084276541383fe9ca82e/pip-6.0.4.tar.gz#sha256=1dbbff9c369e510c7468ab68ba52c003f68f83c99c2f8259acd51099e8799f1e (from https://pypi.org/simple/pip/), version: 6.0.4\n",
      "  Found link https://files.pythonhosted.org/packages/e9/1b/c6a375a337fb576784cdea3700f6c3eaf1420f0a01458e6e034cc178a84a/pip-6.0.5-py2.py3-none-any.whl#sha256=b2c20e3a2a43b2bbb1d19ad98be27eccc7b0f0ece016da602ccaa757a862b0e2 (from https://pypi.org/simple/pip/), version: 6.0.5\n",
      "  Found link https://files.pythonhosted.org/packages/19/f2/58628768f618c8c9fea878e0fb97730c0b8a838d3ab3f325768bf12dac94/pip-6.0.5.tar.gz#sha256=3bf42d28be9085ab2e9aecfd69a6da2d31563fe833304bf71a620a30c38ab8a2 (from https://pypi.org/simple/pip/), version: 6.0.5\n",
      "  Found link https://files.pythonhosted.org/packages/64/fc/4a49ccb18f55a0ceeb76e8d554bd4563217117492997825d194ed0017cc1/pip-6.0.6-py2.py3-none-any.whl#sha256=fb04f8afe1ba57626783f0c8e2f3d46bbaebaa446fcf124f434e968a2fee595e (from https://pypi.org/simple/pip/), version: 6.0.6\n",
      "  Found link https://files.pythonhosted.org/packages/f6/ce/d9e4e178b66c766c117f62ddf4fece019ef9d50127a8926d2f60300d615e/pip-6.0.6.tar.gz#sha256=3a14091299dcdb9bab9e9004ae67ac401f2b1b14a7c98de074ca74fdddf4bfa0 (from https://pypi.org/simple/pip/), version: 6.0.6\n",
      "  Found link https://files.pythonhosted.org/packages/7a/8e/2bbd4fcf3ee06ee90ded5f39ec12f53165dfdb9ef25a981717ad38a16670/pip-6.0.7-py2.py3-none-any.whl#sha256=93a326304c7db749896bcef822bbbac1ab29dad5651c6d732e245975239890e6 (from https://pypi.org/simple/pip/), version: 6.0.7\n",
      "  Found link https://files.pythonhosted.org/packages/52/85/b160ebdaa84378df6bb0176d4eed9f57edca662446174eead7a9e2e566d6/pip-6.0.7.tar.gz#sha256=35a5a43ac6b7af83ed47ea5731a365f43d350a3a7267e039e5f06b61d42ab3c2 (from https://pypi.org/simple/pip/), version: 6.0.7\n",
      "  Found link https://files.pythonhosted.org/packages/63/65/55b71647adec1ad595bf0e5d76d028506dfc002df30c256f022ff7a660a5/pip-6.0.8-py2.py3-none-any.whl#sha256=3c22b0a8ff92727bd737a82f72700790591f177541df08c07bc1f90d6b72ac19 (from https://pypi.org/simple/pip/), version: 6.0.8\n",
      "  Found link https://files.pythonhosted.org/packages/ef/8a/e3a980bc0a7f791d72c1302f65763ed300f2e14c907ac033e01b44c79e5e/pip-6.0.8.tar.gz#sha256=0d58487a1b7f5be2e5e965c11afbea1dc44ecec8069de03491a4d0d6c85f4551 (from https://pypi.org/simple/pip/), version: 6.0.8\n",
      "  Found link https://files.pythonhosted.org/packages/24/fb/8a56a46243514681e569bbafd8146fa383476c4b7c725c8598c452366f31/pip-6.1.0-py2.py3-none-any.whl#sha256=435a018f6d29e34d4f901bf4e6860d8a5fa1816b68d62008c18ca062a306db31 (from https://pypi.org/simple/pip/), version: 6.1.0\n",
      "  Found link https://files.pythonhosted.org/packages/6c/84/432eb60bbcb414b9cdfcb135d5f4925e253c74e7d6916ada79990d6cc1a0/pip-6.1.0.tar.gz#sha256=89f120e2ab3d25ab70c36eb28ad4f280fc9ba71736e74d3055f609c1f9173768 (from https://pypi.org/simple/pip/), version: 6.1.0\n",
      "  Found link https://files.pythonhosted.org/packages/67/f0/ba0fb41dbdbfc4aa3e0c16b40269aca6b9e3d59cacdb646218aa2e9b1d2c/pip-6.1.1-py2.py3-none-any.whl#sha256=a67e54aa0f26b6d62ccec5cc6735eff205dd0fed075f56ac3d3111e91e4467fc (from https://pypi.org/simple/pip/), version: 6.1.1\n",
      "  Found link https://files.pythonhosted.org/packages/bf/85/871c126b50b8ee0b9819e8a63b614aedd264577e73478caedcd447e8f28c/pip-6.1.1.tar.gz#sha256=89f3b626d225e08e7f20d85044afa40f612eb3284484169813dc2d0631f2a556 (from https://pypi.org/simple/pip/), version: 6.1.1\n",
      "  Found link https://files.pythonhosted.org/packages/5a/9b/56d3c18d0784d5f2bbd446ea2dc7ffa7476c35e3dc223741d20cfee3b185/pip-7.0.0-py2.py3-none-any.whl#sha256=309c48399c7d68501a10ef206abd6e5c541fedbf84b95435d9063bd454b39df7 (from https://pypi.org/simple/pip/), version: 7.0.0\n",
      "  Found link https://files.pythonhosted.org/packages/c6/16/6475b142927ca5d03e3b7968efa5b0edd103e4684ecfde181a25f6fa2505/pip-7.0.0.tar.gz#sha256=7b46bfc1b95494731de306a688e2a7bc056d7fa7ad27e026908fb2ae67fed23d (from https://pypi.org/simple/pip/), version: 7.0.0\n",
      "  Found link https://files.pythonhosted.org/packages/5a/10/bb7a32c335bceba636aa673a4c977effa1e73a79f88856459486d8d670cf/pip-7.0.1-py2.py3-none-any.whl#sha256=d26b8573ba1ac1ec99a9bdbdffee2ff2b06c7790815211d0eb4dc1462a089705 (from https://pypi.org/simple/pip/), version: 7.0.1\n",
      "  Found link https://files.pythonhosted.org/packages/4a/83/9ae4362a80739657e0c8bb628ea3fa0214a9aba7c8590dacc301ea293f73/pip-7.0.1.tar.gz#sha256=cfec177552fdd0b2d12b72651c8e874f955b4c62c1c2c9f2588cbdc1c0d0d416 (from https://pypi.org/simple/pip/), version: 7.0.1\n",
      "  Found link https://files.pythonhosted.org/packages/64/7f/7107800ae0919a80afbf1ecba21b90890431c3ee79d700adac3c79cb6497/pip-7.0.2-py2.py3-none-any.whl#sha256=83c869c5ab7113866e2d69641ec470d47f0faae68ca4550a289a4d3db515ad65 (from https://pypi.org/simple/pip/), version: 7.0.2\n",
      "  Found link https://files.pythonhosted.org/packages/75/b1/66532c273bca0133e42c3b4540a1609289f16e3046f1830f18c60794d661/pip-7.0.2.tar.gz#sha256=ba28fa60b573a9444e7b78ccb3b0f261d1f66f46d20403f9dce37b18a6aed405 (from https://pypi.org/simple/pip/), version: 7.0.2\n",
      "  Found link https://files.pythonhosted.org/packages/96/76/33a598ae42dd0554207d83c7acc60e3b166dbde723cbf282f1f73b7a127c/pip-7.0.3-py2.py3-none-any.whl#sha256=7b1cb03e827d58d2d05e68ea96a9e27487ed4b0afcd951ac6e40847ce94f0738 (from https://pypi.org/simple/pip/), version: 7.0.3\n",
      "  Found link https://files.pythonhosted.org/packages/35/59/5b23115758ba0f2fc465c459611865173ef006202ba83f662d1f58ed2fb8/pip-7.0.3.tar.gz#sha256=b4c598825a6f6dc2cac65968feb28e6be6c1f7f1408493c60a07eaa731a0affd (from https://pypi.org/simple/pip/), version: 7.0.3\n",
      "  Found link https://files.pythonhosted.org/packages/f7/c0/9f8dac88326609b4b12b304e8382f64f7d5af7735a00d2fac36cf135fc30/pip-7.1.0-py2.py3-none-any.whl#sha256=80c29f899d3a00a448d65f8158544d22935baec7159af8da1a4fa1490ced481d (from https://pypi.org/simple/pip/), version: 7.1.0\n",
      "  Found link https://files.pythonhosted.org/packages/7e/71/3c6ece07a9a885650aa6607b0ebfdf6fc9a3ef8691c44b5e724e4eee7bf2/pip-7.1.0.tar.gz#sha256=d5275ba3221182a5dd1b6bcfbfc5ec277fb399dd23226d6fa018048f7e0f10f2 (from https://pypi.org/simple/pip/), version: 7.1.0\n",
      "  Found link https://files.pythonhosted.org/packages/1c/56/094d563c508917081bccff365e4f621ba33073c1c13aca9267a43cfcaf13/pip-7.1.1-py2.py3-none-any.whl#sha256=ce13000878d34c1178af76cb8cf269e232c00508c78ed46c165dd5b0881615f4 (from https://pypi.org/simple/pip/), version: 7.1.1\n",
      "  Found link https://files.pythonhosted.org/packages/3b/bb/b3f2a95494fd3f01d3b3ae530e7c0e910dc25e88e30787b0a5e10cbc0640/pip-7.1.1.tar.gz#sha256=b22fe3c93a13fc7c04f145a42fd2ad50a9e3e1b8a7eed2e2b1c66e540a0951da (from https://pypi.org/simple/pip/), version: 7.1.1\n",
      "  Found link https://files.pythonhosted.org/packages/b2/d0/cd115fe345dd6f07ec1c780020a7dfe74966fceeb171e0f20d1d4905b0b7/pip-7.1.2-py2.py3-none-any.whl#sha256=b9d3983b5cce04f842175e30169d2f869ef12c3546fd274083a65eada4e9708c (from https://pypi.org/simple/pip/), version: 7.1.2\n",
      "  Found link https://files.pythonhosted.org/packages/d0/92/1e8406c15d9372084a5bf79d96da3a0acc4e7fcf0b80020a4820897d2a5c/pip-7.1.2.tar.gz#sha256=ca047986f0528cfa975a14fb9f7f106271d4e0c3fe1ddced6c1db2e7ae57a477 (from https://pypi.org/simple/pip/), version: 7.1.2\n",
      "  Found link https://files.pythonhosted.org/packages/00/ae/bddef02881ee09c6a01a0d6541aa6c75a226a4e68b041be93142befa0cd6/pip-8.0.0-py2.py3-none-any.whl#sha256=262ed1823eb7fbe3f18a9bedb4800e59c4ab9a6682aff8c37b5ee83ea840910b (from https://pypi.org/simple/pip/), version: 8.0.0\n",
      "  Found link https://files.pythonhosted.org/packages/e3/2d/03c014d11e66628abf2fda5ca00f779cbe7b5292c5cd13d42a95b94aa9b8/pip-8.0.0.tar.gz#sha256=90112b296152f270cb8dddcd19b7b87488d9e002e8cf622e14c4da9c2f6319b1 (from https://pypi.org/simple/pip/), version: 8.0.0\n",
      "  Found link https://files.pythonhosted.org/packages/45/9c/6f9a24917c860873e2ce7bd95b8f79897524353df51d5d920cd6b6c1ec33/pip-8.0.1-py2.py3-none-any.whl#sha256=dedaac846bc74e38a3253671f51a056331ffca1da70e3f48d8128f2aa0635bba (from https://pypi.org/simple/pip/), version: 8.0.1\n",
      "  Found link https://files.pythonhosted.org/packages/ea/66/a3d6187bd307159fedf8575c0d9ee2294d13b1cdd11673ca812e6a2dda8f/pip-8.0.1.tar.gz#sha256=477c50b3e538a7ac0fa611fb8b877b04b33fb70d325b12a81b9dbf3eb1158a4d (from https://pypi.org/simple/pip/), version: 8.0.1\n",
      "  Found link https://files.pythonhosted.org/packages/e7/a0/bd35f5f978a5e925953ce02fa0f078a232f0f10fcbe543d8cfc043f74fda/pip-8.0.2-py2.py3-none-any.whl#sha256=249a6f3194be8c2e8cb4d4be3f6fd16a9f1e3336218caffa8e7419e3816f9988 (from https://pypi.org/simple/pip/), version: 8.0.2\n",
      "  Found link https://files.pythonhosted.org/packages/ce/15/ee1f9a84365423e9ef03d0f9ed0eba2fb00ac1fffdd33e7b52aea914d0f8/pip-8.0.2.tar.gz#sha256=46f4bd0d8dfd51125a554568d646fe4200a3c2c6c36b9f2d06d2212148439521 (from https://pypi.org/simple/pip/), version: 8.0.2\n",
      "  Found link https://files.pythonhosted.org/packages/ae/d4/2b127310f5364610b74c28e2e6a40bc19e2d3c9a9a4e012d3e333e767c99/pip-8.0.3-py2.py3-none-any.whl#sha256=b0335bc837f9edb5aad03bd43d0973b084a1cbe616f8188dc23ba13234dbd552 (from https://pypi.org/simple/pip/), version: 8.0.3\n",
      "  Found link https://files.pythonhosted.org/packages/22/f3/14bc87a4f6b5ec70b682765978a6f3105bf05b6781fa97e04d30138bd264/pip-8.0.3.tar.gz#sha256=30f98b66f3fe1069c529a491597d34a1c224a68640c82caf2ade5f88aa1405e8 (from https://pypi.org/simple/pip/), version: 8.0.3\n",
      "  Found link https://files.pythonhosted.org/packages/1e/c7/78440b3fb882ed001e6e12d8770bd45e73d6eced4e57f7c072b829ce8a3d/pip-8.1.0-py2.py3-none-any.whl#sha256=a542b99e08002ead83200198e19a3983270357e1cb4fe704247990b5b35471dc (from https://pypi.org/simple/pip/), version: 8.1.0\n",
      "  Found link https://files.pythonhosted.org/packages/3c/72/6981d5adf880adecb066a1a1a4c312a17f8d787a3b85446967964ac66d55/pip-8.1.0.tar.gz#sha256=d8faa75dd7d0737b16d50cd0a56dc91a631c79ecfd8d38b80f6ee929ec82043e (from https://pypi.org/simple/pip/), version: 8.1.0\n",
      "  Found link https://files.pythonhosted.org/packages/31/6a/0f19a7edef6c8e5065f4346137cc2a08e22e141942d66af2e1e72d851462/pip-8.1.1-py2.py3-none-any.whl#sha256=44b9c342782ab905c042c207d995aa069edc02621ddbdc2b9f25954a0fdac25c (from https://pypi.org/simple/pip/), version: 8.1.1\n",
      "  Found link https://files.pythonhosted.org/packages/41/27/9a8d24e1b55bd8c85e4d022da2922cb206f183e2d18fee4e320c9547e751/pip-8.1.1.tar.gz#sha256=3e78d3066aaeb633d185a57afdccf700aa2e660436b4af618bcb6ff0fa511798 (from https://pypi.org/simple/pip/), version: 8.1.1\n",
      "  Found link https://files.pythonhosted.org/packages/9c/32/004ce0852e0a127f07f358b715015763273799bd798956fa930814b60f39/pip-8.1.2-py2.py3-none-any.whl#sha256=6464dd9809fb34fc8df2bf49553bb11dac4c13d2ffa7a4f8038ad86a4ccb92a1 (from https://pypi.org/simple/pip/), version: 8.1.2\n",
      "  Found link https://files.pythonhosted.org/packages/e7/a8/7556133689add8d1a54c0b14aeff0acb03c64707ce100ecd53934da1aa13/pip-8.1.2.tar.gz#sha256=4d24b03ffa67638a3fa931c09fd9e0273ffa904e95ebebe7d4b1a54c93d7b732 (from https://pypi.org/simple/pip/), version: 8.1.2\n",
      "  Found link https://files.pythonhosted.org/packages/3f/ef/935d9296acc4f48d1791ee56a73781271dce9712b059b475d3f5fa78487b/pip-9.0.0-py2.py3-none-any.whl#sha256=c856ac18ca01e7127456f831926dc67cc7d3ab663f4c13b1ec156e36db4de574 (from https://pypi.org/simple/pip/) (requires-python:>=2.6,!=3.0.*,!=3.1.*,!=3.2.*), version: 9.0.0\n",
      "  Found link https://files.pythonhosted.org/packages/5e/53/eaef47e5e2f75677c9de0737acc84b659b78a71c4086f424f55346a341b5/pip-9.0.0.tar.gz#sha256=f62fb70e7e000e46fce12aaeca752e5281a5446977fe5a75ab4189a43b3f8793 (from https://pypi.org/simple/pip/) (requires-python:>=2.6,!=3.0.*,!=3.1.*,!=3.2.*), version: 9.0.0\n",
      "  Found link https://files.pythonhosted.org/packages/b6/ac/7015eb97dc749283ffdec1c3a88ddb8ae03b8fad0f0e611408f196358da3/pip-9.0.1-py2.py3-none-any.whl#sha256=690b762c0a8460c303c089d5d0be034fb15a5ea2b75bdf565f40421f542fefb0 (from https://pypi.org/simple/pip/) (requires-python:>=2.6,!=3.0.*,!=3.1.*,!=3.2.*), version: 9.0.1\n",
      "  Found link https://files.pythonhosted.org/packages/11/b6/abcb525026a4be042b486df43905d6893fb04f05aac21c32c638e939e447/pip-9.0.1.tar.gz#sha256=09f243e1a7b461f654c26a725fa373211bb7ff17a9300058b205c61658ca940d (from https://pypi.org/simple/pip/) (requires-python:>=2.6,!=3.0.*,!=3.1.*,!=3.2.*), version: 9.0.1\n",
      "  Found link https://files.pythonhosted.org/packages/e7/f9/e801dcea22886cd513f6bd2e8f7e581bd6f67bb8e8f1cd8e7b92d8539280/pip-9.0.2-py2.py3-none-any.whl#sha256=b135491ddb061f39719b8472d8abb59c613816a2b86069c332db74d1cd208ab2 (from https://pypi.org/simple/pip/) (requires-python:>=2.6,!=3.0.*,!=3.1.*,!=3.2.*), version: 9.0.2\n",
      "  Found link https://files.pythonhosted.org/packages/e5/8f/3fc66461992dc9e9fcf5e005687d5f676729172dda640df2fd8b597a6da7/pip-9.0.2.tar.gz#sha256=88110a224e9d30e5d76592a0b2130ef10e7e67a6426e8617bb918fffbfe91fe5 (from https://pypi.org/simple/pip/) (requires-python:>=2.6,!=3.0.*,!=3.1.*,!=3.2.*), version: 9.0.2\n",
      "  Found link https://files.pythonhosted.org/packages/ac/95/a05b56bb975efa78d3557efa36acaf9cf5d2fd0ee0062060493687432e03/pip-9.0.3-py2.py3-none-any.whl#sha256=c3ede34530e0e0b2381e7363aded78e0c33291654937e7373032fda04e8803e5 (from https://pypi.org/simple/pip/) (requires-python:>=2.6,!=3.0.*,!=3.1.*,!=3.2.*), version: 9.0.3\n",
      "  Found link https://files.pythonhosted.org/packages/c4/44/e6b8056b6c8f2bfd1445cc9990f478930d8e3459e9dbf5b8e2d2922d64d3/pip-9.0.3.tar.gz#sha256=7bf48f9a693be1d58f49f7af7e0ae9fe29fd671cde8a55e6edca3581c4ef5796 (from https://pypi.org/simple/pip/) (requires-python:>=2.6,!=3.0.*,!=3.1.*,!=3.2.*), version: 9.0.3\n",
      "  Found link https://files.pythonhosted.org/packages/4b/5a/8544ae02a5bd28464e03af045e8aabde20a7b02db1911a9159328e1eb25a/pip-10.0.0b1-py2.py3-none-any.whl#sha256=dbd5d24cd461be23429625085a36cc8732cbcac4d2aaf673031f80f6ac07d844 (from https://pypi.org/simple/pip/) (requires-python:>=2.7,!=3.0.*,!=3.1.*,!=3.2.*), version: 10.0.0b1\n",
      "  Found link https://files.pythonhosted.org/packages/aa/6d/ffbb86abf18b750fb26f27eda7c7732df2aacaa669c420d2eb2ad6df3458/pip-10.0.0b1.tar.gz#sha256=8d6e63d8b99752e4b53f272b66f9cd7b59e2b288e9a863a61c48d167203a2656 (from https://pypi.org/simple/pip/) (requires-python:>=2.7,!=3.0.*,!=3.1.*,!=3.2.*), version: 10.0.0b1\n",
      "  Found link https://files.pythonhosted.org/packages/97/72/1d514201e7d7fc7fff5aac3de9c7b892cd72fb4bf23fd983630df96f7412/pip-10.0.0b2-py2.py3-none-any.whl#sha256=79f55588912f1b2b4f86f96f11e329bb01b25a484e2204f245128b927b1038a7 (from https://pypi.org/simple/pip/) (requires-python:>=2.7,!=3.0.*,!=3.1.*,!=3.2.*), version: 10.0.0b2\n",
      "  Found link https://files.pythonhosted.org/packages/32/67/572f642e6e42c580d3154964cfbab7d9322c23b0f417c6c01fdd206a2777/pip-10.0.0b2.tar.gz#sha256=ad6adec2150ce4aed8f6134d9b77d928fc848dbcb887fb1a455988cf99da5cae (from https://pypi.org/simple/pip/) (requires-python:>=2.7,!=3.0.*,!=3.1.*,!=3.2.*), version: 10.0.0b2\n",
      "  Found link https://files.pythonhosted.org/packages/62/a1/0d452b6901b0157a0134fd27ba89bf95a857fbda64ba52e1ca2cf61d8412/pip-10.0.0-py2.py3-none-any.whl#sha256=86a60a96d85e329962a9e6f6af612cbc11106293dbc83f119802b5bee9874cf3 (from https://pypi.org/simple/pip/) (requires-python:>=2.7,!=3.0.*,!=3.1.*,!=3.2.*), version: 10.0.0\n",
      "  Found link https://files.pythonhosted.org/packages/e0/69/983a8e47d3dfb51e1463c1e962b2ccd1d74ec4e236e232625e353d830ed2/pip-10.0.0.tar.gz#sha256=f05a3eeea64bce94e85cc6671d679473d66288a4d37c3fcf983584954096b34f (from https://pypi.org/simple/pip/) (requires-python:>=2.7,!=3.0.*,!=3.1.*,!=3.2.*), version: 10.0.0\n",
      "  Found link https://files.pythonhosted.org/packages/0f/74/ecd13431bcc456ed390b44c8a6e917c1820365cbebcb6a8974d1cd045ab4/pip-10.0.1-py2.py3-none-any.whl#sha256=717cdffb2833be8409433a93746744b59505f42146e8d37de6c62b430e25d6d7 (from https://pypi.org/simple/pip/) (requires-python:>=2.7,!=3.0.*,!=3.1.*,!=3.2.*), version: 10.0.1\n",
      "  Found link https://files.pythonhosted.org/packages/ae/e8/2340d46ecadb1692a1e455f13f75e596d4eab3d11a57446f08259dee8f02/pip-10.0.1.tar.gz#sha256=f2bd08e0cd1b06e10218feaf6fef299f473ba706582eb3bd9d52203fdbd7ee68 (from https://pypi.org/simple/pip/) (requires-python:>=2.7,!=3.0.*,!=3.1.*,!=3.2.*), version: 10.0.1\n",
      "  Found link https://files.pythonhosted.org/packages/5f/25/e52d3f31441505a5f3af41213346e5b6c221c9e086a166f3703d2ddaf940/pip-18.0-py2.py3-none-any.whl#sha256=070e4bf493c7c2c9f6a08dd797dd3c066d64074c38e9e8a0fb4e6541f266d96c (from https://pypi.org/simple/pip/) (requires-python:>=2.7,!=3.0.*,!=3.1.*,!=3.2.*,!=3.3.*), version: 18.0\n",
      "  Found link https://files.pythonhosted.org/packages/69/81/52b68d0a4de760a2f1979b0931ba7889202f302072cc7a0d614211bc7579/pip-18.0.tar.gz#sha256=a0e11645ee37c90b40c46d607070c4fd583e2cd46231b1c06e389c5e814eed76 (from https://pypi.org/simple/pip/) (requires-python:>=2.7,!=3.0.*,!=3.1.*,!=3.2.*,!=3.3.*), version: 18.0\n",
      "  Found link https://files.pythonhosted.org/packages/c2/d7/90f34cb0d83a6c5631cf71dfe64cc1054598c843a92b400e55675cc2ac37/pip-18.1-py2.py3-none-any.whl#sha256=7909d0a0932e88ea53a7014dfd14522ffef91a464daaaf5c573343852ef98550 (from https://pypi.org/simple/pip/) (requires-python:>=2.7,!=3.0.*,!=3.1.*,!=3.2.*,!=3.3.*), version: 18.1\n",
      "  Found link https://files.pythonhosted.org/packages/45/ae/8a0ad77defb7cc903f09e551d88b443304a9bd6e6f124e75c0fbbf6de8f7/pip-18.1.tar.gz#sha256=c0a292bd977ef590379a3f05d7b7f65135487b67470f6281289a94e015650ea1 (from https://pypi.org/simple/pip/) (requires-python:>=2.7,!=3.0.*,!=3.1.*,!=3.2.*,!=3.3.*), version: 18.1\n",
      "  Found link https://files.pythonhosted.org/packages/60/64/73b729587b6b0d13e690a7c3acd2231ee561e8dd28a58ae1b0409a5a2b20/pip-19.0-py2.py3-none-any.whl#sha256=249ab0de4c1cef3dba4cf3f8cca722a07fc447b1692acd9f84e19c646db04c9a (from https://pypi.org/simple/pip/) (requires-python:>=2.7,!=3.0.*,!=3.1.*,!=3.2.*,!=3.3.*), version: 19.0\n",
      "  Found link https://files.pythonhosted.org/packages/11/31/c483614095176ddfa06ac99c2af4171375053b270842c7865ca0b4438dc1/pip-19.0.tar.gz#sha256=c82bf8bc00c5732f0dd49ac1dea79b6242a1bd42a5012e308ed4f04369b17e54 (from https://pypi.org/simple/pip/) (requires-python:>=2.7,!=3.0.*,!=3.1.*,!=3.2.*,!=3.3.*), version: 19.0\n",
      "  Found link https://files.pythonhosted.org/packages/46/dc/7fd5df840efb3e56c8b4f768793a237ec4ee59891959d6a215d63f727023/pip-19.0.1-py2.py3-none-any.whl#sha256=aae79c7afe895fb986ec751564f24d97df1331bb99cdfec6f70dada2f40c0044 (from https://pypi.org/simple/pip/) (requires-python:>=2.7,!=3.0.*,!=3.1.*,!=3.2.*,!=3.3.*), version: 19.0.1\n",
      "  Found link https://files.pythonhosted.org/packages/c8/89/ad7f27938e59db1f0f55ce214087460f65048626e2226531ba6cb6da15f0/pip-19.0.1.tar.gz#sha256=e81ddd35e361b630e94abeda4a1eddd36d47a90e71eb00f38f46b57f787cd1a5 (from https://pypi.org/simple/pip/) (requires-python:>=2.7,!=3.0.*,!=3.1.*,!=3.2.*,!=3.3.*), version: 19.0.1\n",
      "  Found link https://files.pythonhosted.org/packages/d7/41/34dd96bd33958e52cb4da2f1bf0818e396514fd4f4725a79199564cd0c20/pip-19.0.2-py2.py3-none-any.whl#sha256=6a59f1083a63851aeef60c7d68b119b46af11d9d803ddc1cf927b58edcd0b312 (from https://pypi.org/simple/pip/) (requires-python:>=2.7,!=3.0.*,!=3.1.*,!=3.2.*,!=3.3.*), version: 19.0.2\n",
      "  Found link https://files.pythonhosted.org/packages/4c/4d/88bc9413da11702cbbace3ccc51350ae099bb351febae8acc85fec34f9af/pip-19.0.2.tar.gz#sha256=f851133f8b58283fa50d8c78675eb88d4ff4cde29b6c41205cd938b06338e0e5 (from https://pypi.org/simple/pip/) (requires-python:>=2.7,!=3.0.*,!=3.1.*,!=3.2.*,!=3.3.*), version: 19.0.2\n",
      "  Found link https://files.pythonhosted.org/packages/d8/f3/413bab4ff08e1fc4828dfc59996d721917df8e8583ea85385d51125dceff/pip-19.0.3-py2.py3-none-any.whl#sha256=bd812612bbd8ba84159d9ddc0266b7fbce712fc9bc98c82dee5750546ec8ec64 (from https://pypi.org/simple/pip/) (requires-python:>=2.7,!=3.0.*,!=3.1.*,!=3.2.*,!=3.3.*), version: 19.0.3\n",
      "  Found link https://files.pythonhosted.org/packages/36/fa/51ca4d57392e2f69397cd6e5af23da2a8d37884a605f9e3f2d3bfdc48397/pip-19.0.3.tar.gz#sha256=6e6f197a1abfb45118dbb878b5c859a0edbdd33fd250100bc015b67fded4b9f2 (from https://pypi.org/simple/pip/) (requires-python:>=2.7,!=3.0.*,!=3.1.*,!=3.2.*,!=3.3.*), version: 19.0.3\n",
      "  Found link https://files.pythonhosted.org/packages/f9/fb/863012b13912709c13cf5cfdbfb304fa6c727659d6290438e1a88df9d848/pip-19.1-py2.py3-none-any.whl#sha256=8f59b6cf84584d7962d79fd1be7a8ec0eb198aa52ea864896551736b3614eee9 (from https://pypi.org/simple/pip/) (requires-python:>=2.7,!=3.0.*,!=3.1.*,!=3.2.*,!=3.3.*), version: 19.1\n",
      "  Found link https://files.pythonhosted.org/packages/51/5f/802a04274843f634469ef299fcd273de4438386deb7b8681dd059f0ee3b7/pip-19.1.tar.gz#sha256=d9137cb543d8a4d73140a3282f6d777b2e786bb6abb8add3ac5b6539c82cd624 (from https://pypi.org/simple/pip/) (requires-python:>=2.7,!=3.0.*,!=3.1.*,!=3.2.*,!=3.3.*), version: 19.1\n",
      "  Found link https://files.pythonhosted.org/packages/5c/e0/be401c003291b56efc55aeba6a80ab790d3d4cece2778288d65323009420/pip-19.1.1-py2.py3-none-any.whl#sha256=993134f0475471b91452ca029d4390dc8f298ac63a712814f101cd1b6db46676 (from https://pypi.org/simple/pip/) (requires-python:>=2.7,!=3.0.*,!=3.1.*,!=3.2.*,!=3.3.*), version: 19.1.1\n",
      "  Found link https://files.pythonhosted.org/packages/93/ab/f86b61bef7ab14909bd7ec3cd2178feb0a1c86d451bc9bccd5a1aedcde5f/pip-19.1.1.tar.gz#sha256=44d3d7d3d30a1eb65c7e5ff1173cdf8f7467850605ac7cc3707b6064bddd0958 (from https://pypi.org/simple/pip/) (requires-python:>=2.7,!=3.0.*,!=3.1.*,!=3.2.*,!=3.3.*), version: 19.1.1\n",
      "  Found link https://files.pythonhosted.org/packages/3a/6f/35de4f49ae5c7fdb2b64097ab195020fb48faa8ad3a85386ece6953c11b1/pip-19.2-py2.py3-none-any.whl#sha256=468c67b0b1120cd0329dc72972cf0651310783a922e7609f3102bd5fb4acbf17 (from https://pypi.org/simple/pip/) (requires-python:>=2.7,!=3.0.*,!=3.1.*,!=3.2.*,!=3.3.*,!=3.4.*), version: 19.2\n",
      "  Found link https://files.pythonhosted.org/packages/41/13/b6e68eae78405af6e4e9a93319ae5bb371057786f1590b157341f7542d7d/pip-19.2.tar.gz#sha256=aa6fdd80d13caac75d92b5eced06778712859b1606ba92d62389c11be12b2dad (from https://pypi.org/simple/pip/) (requires-python:>=2.7,!=3.0.*,!=3.1.*,!=3.2.*,!=3.3.*,!=3.4.*), version: 19.2\n",
      "  Found link https://files.pythonhosted.org/packages/62/ca/94d32a6516ed197a491d17d46595ce58a83cbb2fca280414e57cd86b84dc/pip-19.2.1-py2.py3-none-any.whl#sha256=80d7452630a67c1e7763b5f0a515690f2c1e9ad06dda48e0ae85b7fdf2f59d97 (from https://pypi.org/simple/pip/) (requires-python:>=2.7,!=3.0.*,!=3.1.*,!=3.2.*,!=3.3.*,!=3.4.*), version: 19.2.1\n",
      "  Found link https://files.pythonhosted.org/packages/8b/8a/1b2aadd922db1afe6bc107b03de41d6d37a28a5923383e60695fba24ae81/pip-19.2.1.tar.gz#sha256=258d702483dd749400aec59c23d638a5b2249ae28a0f478b6cab12ad45681a80 (from https://pypi.org/simple/pip/) (requires-python:>=2.7,!=3.0.*,!=3.1.*,!=3.2.*,!=3.3.*,!=3.4.*), version: 19.2.1\n",
      "  Found link https://files.pythonhosted.org/packages/8d/07/f7d7ced2f97ca3098c16565efbe6b15fafcba53e8d9bdb431e09140514b0/pip-19.2.2-py2.py3-none-any.whl#sha256=4b956bd8b7b481fc5fa222637ff6d0823a327e5118178f1ec47618a480e61997 (from https://pypi.org/simple/pip/) (requires-python:>=2.7,!=3.0.*,!=3.1.*,!=3.2.*,!=3.3.*,!=3.4.*), version: 19.2.2\n",
      "  Found link https://files.pythonhosted.org/packages/aa/1a/62fb0b95b1572c76dbc3cc31124a8b6866cbe9139eb7659ac7349457cf7c/pip-19.2.2.tar.gz#sha256=e05103825871e210d50a44c7e448587b0ed99dd775d3ef586304c58f40224a53 (from https://pypi.org/simple/pip/) (requires-python:>=2.7,!=3.0.*,!=3.1.*,!=3.2.*,!=3.3.*,!=3.4.*), version: 19.2.2\n",
      "  Found link https://files.pythonhosted.org/packages/30/db/9e38760b32e3e7f40cce46dd5fb107b8c73840df38f0046d8e6514e675a1/pip-19.2.3-py2.py3-none-any.whl#sha256=340a0ba40fdeb16413914c0fcd8e0b4ebb0bf39a900ec80e11c05d836c05103f (from https://pypi.org/simple/pip/) (requires-python:>=2.7,!=3.0.*,!=3.1.*,!=3.2.*,!=3.3.*,!=3.4.*), version: 19.2.3\n"
     ]
    },
    {
     "name": "stdout",
     "output_type": "stream",
     "text": [
      "  Found link https://files.pythonhosted.org/packages/00/9e/4c83a0950d8bdec0b4ca72afd2f9cea92d08eb7c1a768363f2ea458d08b4/pip-19.2.3.tar.gz#sha256=e7a31f147974362e6c82d84b91c7f2bdf57e4d3163d3d454e6c3e71944d67135 (from https://pypi.org/simple/pip/) (requires-python:>=2.7,!=3.0.*,!=3.1.*,!=3.2.*,!=3.3.*,!=3.4.*), version: 19.2.3\r\n",
      "  Found link https://files.pythonhosted.org/packages/4a/08/6ca123073af4ebc4c5488a5bc8a010ac57aa39ce4d3c8a931ad504de4185/pip-19.3-py2.py3-none-any.whl#sha256=e100a7eccf085f0720b4478d3bb838e1c179b1e128ec01c0403f84e86e0e2dfb (from https://pypi.org/simple/pip/) (requires-python:>=2.7,!=3.0.*,!=3.1.*,!=3.2.*,!=3.3.*,!=3.4.*), version: 19.3\r\n",
      "  Found link https://files.pythonhosted.org/packages/af/7a/5dd1e6efc894613c432ce86f1011fcc3bbd8ac07dfeae6393b7b97f1de8b/pip-19.3.tar.gz#sha256=324d234b8f6124846b4e390df255cacbe09ce22791c3b714aa1ea6e44a4f2861 (from https://pypi.org/simple/pip/) (requires-python:>=2.7,!=3.0.*,!=3.1.*,!=3.2.*,!=3.3.*,!=3.4.*), version: 19.3\r\n",
      "  Found link https://files.pythonhosted.org/packages/00/b6/9cfa56b4081ad13874b0c6f96af8ce16cfbc1cb06bedf8e9164ce5551ec1/pip-19.3.1-py2.py3-none-any.whl#sha256=6917c65fc3769ecdc61405d3dfd97afdedd75808d200b2838d7d961cebc0c2c7 (from https://pypi.org/simple/pip/) (requires-python:>=2.7,!=3.0.*,!=3.1.*,!=3.2.*,!=3.3.*,!=3.4.*), version: 19.3.1\r\n",
      "  Found link https://files.pythonhosted.org/packages/ce/ea/9b445176a65ae4ba22dce1d93e4b5fe182f953df71a145f557cffaffc1bf/pip-19.3.1.tar.gz#sha256=21207d76c1031e517668898a6b46a9fb1501c7a4710ef5dfd6a40ad9e6757ea7 (from https://pypi.org/simple/pip/) (requires-python:>=2.7,!=3.0.*,!=3.1.*,!=3.2.*,!=3.3.*,!=3.4.*), version: 19.3.1\r\n",
      "  Skipping link: yanked for reason: <none given>: https://files.pythonhosted.org/packages/60/65/16487a7c4e0f95bb3fc89c2e377be331fd496b7a9b08fd3077de7f3ae2cf/pip-20.0-py2.py3-none-any.whl#sha256=eea07b449d969dbc8c062c157852cf8ed2ad1b8b5ac965a6b819e62929e41703 (from https://pypi.org/simple/pip/) (requires-python:>=2.7,!=3.0.*,!=3.1.*,!=3.2.*,!=3.3.*,!=3.4.*)\r\n",
      "  Skipping link: yanked for reason: <none given>: https://files.pythonhosted.org/packages/8c/5c/c18d58ab5c1a702bf670e0bd6a77cd4645e4aeca021c6118ef850895cc96/pip-20.0.tar.gz#sha256=5128e9a9401f1d16c1d15b2ed766a79d7813db1538428d0b0ce74838249e3a41 (from https://pypi.org/simple/pip/) (requires-python:>=2.7,!=3.0.*,!=3.1.*,!=3.2.*,!=3.3.*,!=3.4.*)\r\n",
      "  Found link https://files.pythonhosted.org/packages/57/36/67f809c135c17ec9b8276466cc57f35b98c240f55c780689ea29fa32f512/pip-20.0.1-py2.py3-none-any.whl#sha256=b7110a319790ae17e8105ecd6fe07dbcc098a280c6d27b6dd7a20174927c24d7 (from https://pypi.org/simple/pip/) (requires-python:>=2.7,!=3.0.*,!=3.1.*,!=3.2.*,!=3.3.*,!=3.4.*), version: 20.0.1\r\n",
      "  Found link https://files.pythonhosted.org/packages/28/af/2c76c8aa46ccdf7578b83d97a11a2d1858794d4be4a1610ade0d30182e8b/pip-20.0.1.tar.gz#sha256=3cebbac2a1502e09265f94e5717408339de846b3c0f0ed086d7b817df9cab822 (from https://pypi.org/simple/pip/) (requires-python:>=2.7,!=3.0.*,!=3.1.*,!=3.2.*,!=3.3.*,!=3.4.*), version: 20.0.1\r\n",
      "  Found link https://files.pythonhosted.org/packages/54/0c/d01aa759fdc501a58f431eb594a17495f15b88da142ce14b5845662c13f3/pip-20.0.2-py2.py3-none-any.whl#sha256=4ae14a42d8adba3205ebeb38aa68cfc0b6c346e1ae2e699a0b3bad4da19cef5c (from https://pypi.org/simple/pip/) (requires-python:>=2.7,!=3.0.*,!=3.1.*,!=3.2.*,!=3.3.*,!=3.4.*), version: 20.0.2\r\n",
      "  Found link https://files.pythonhosted.org/packages/8e/76/66066b7bc71817238924c7e4b448abdb17eb0c92d645769c223f9ace478f/pip-20.0.2.tar.gz#sha256=7db0c8ea4c7ea51c8049640e8e6e7fde949de672bfa4949920675563a5a6967f (from https://pypi.org/simple/pip/) (requires-python:>=2.7,!=3.0.*,!=3.1.*,!=3.2.*,!=3.3.*,!=3.4.*), version: 20.0.2\r\n",
      "  Found link https://files.pythonhosted.org/packages/ec/05/82d3fababbf462d876883ebc36f030f4fa057a563a80f5a26ee63679d9ea/pip-20.1b1-py2.py3-none-any.whl#sha256=4cf0348b683937da883ccaae8c8bcfc9b4c7ba4c48b38cc2d89cd7b8d0b220d9 (from https://pypi.org/simple/pip/) (requires-python:>=2.7,!=3.0.*,!=3.1.*,!=3.2.*,!=3.3.*,!=3.4.*), version: 20.1b1\r\n",
      "  Found link https://files.pythonhosted.org/packages/cd/81/c1184456fe506bd50992571c9f8581907976ce71502e36741f033e2da1f1/pip-20.1b1.tar.gz#sha256=699880a47f6d306f4f9a87ca151ef33d41d2223b81ff343b786d38c297923a19 (from https://pypi.org/simple/pip/) (requires-python:>=2.7,!=3.0.*,!=3.1.*,!=3.2.*,!=3.3.*,!=3.4.*), version: 20.1b1\r\n",
      "  Found link https://files.pythonhosted.org/packages/54/2e/df11ea7e23e7e761d484ed3740285a34e38548cf2bad2bed3dd5768ec8b9/pip-20.1-py2.py3-none-any.whl#sha256=4fdc7fd2db7636777d28d2e1432e2876e30c2b790d461f135716577f73104369 (from https://pypi.org/simple/pip/) (requires-python:>=2.7,!=3.0.*,!=3.1.*,!=3.2.*,!=3.3.*,!=3.4.*), version: 20.1\r\n",
      "  Found link https://files.pythonhosted.org/packages/d1/05/059c78cd5d740d2299266ffa15514dad6692d4694df571bf168e2cdd98fb/pip-20.1.tar.gz#sha256=572c0f25eca7c87217b21f6945b7192744103b18f4e4b16b8a83b227a811e192 (from https://pypi.org/simple/pip/) (requires-python:>=2.7,!=3.0.*,!=3.1.*,!=3.2.*,!=3.3.*,!=3.4.*), version: 20.1\r\n",
      "  Found link https://files.pythonhosted.org/packages/43/84/23ed6a1796480a6f1a2d38f2802901d078266bda38388954d01d3f2e821d/pip-20.1.1-py2.py3-none-any.whl#sha256=b27c4dedae8c41aa59108f2fa38bf78e0890e590545bc8ece7cdceb4ba60f6e4 (from https://pypi.org/simple/pip/) (requires-python:>=2.7,!=3.0.*,!=3.1.*,!=3.2.*,!=3.3.*,!=3.4.*), version: 20.1.1\r\n",
      "  Found link https://files.pythonhosted.org/packages/08/25/f204a6138dade2f6757b4ae99bc3994aac28a5602c97ddb2a35e0e22fbc4/pip-20.1.1.tar.gz#sha256=27f8dc29387dd83249e06e681ce087e6061826582198a425085e0bf4c1cf3a55 (from https://pypi.org/simple/pip/) (requires-python:>=2.7,!=3.0.*,!=3.1.*,!=3.2.*,!=3.3.*,!=3.4.*), version: 20.1.1\r\n",
      "  Found link https://files.pythonhosted.org/packages/fe/3b/0fc5e63eb277d5a50a95ce5c896f742ef243be27382303a4a44dd0197e29/pip-20.2b1-py2.py3-none-any.whl#sha256=b4e230e2b8ece18c5a19b818f3c20a8d4eeac8172962779fd9898d7c4ceb1636 (from https://pypi.org/simple/pip/) (requires-python:>=2.7,!=3.0.*,!=3.1.*,!=3.2.*,!=3.3.*,!=3.4.*), version: 20.2b1\r\n",
      "  Found link https://files.pythonhosted.org/packages/77/3e/6a1fd8e08a06e3e0f54182c7c937bba3f4e9cf1b26f54946d3915021ea2e/pip-20.2b1.tar.gz#sha256=dbf65ecb1c30d35d72f5fda052fcd2f1ea9aca8eaf03d930846d990f51d3f6f6 (from https://pypi.org/simple/pip/) (requires-python:>=2.7,!=3.0.*,!=3.1.*,!=3.2.*,!=3.3.*,!=3.4.*), version: 20.2b1\r\n",
      "  Found link https://files.pythonhosted.org/packages/36/74/38c2410d688ac7b48afa07d413674afc1f903c1c1f854de51dc8eb2367a5/pip-20.2-py2.py3-none-any.whl#sha256=d75f1fc98262dabf74656245c509213a5d0f52137e40e8f8ed5cc256ddd02923 (from https://pypi.org/simple/pip/) (requires-python:>=2.7,!=3.0.*,!=3.1.*,!=3.2.*,!=3.3.*,!=3.4.*), version: 20.2\r\n",
      "  Found link https://files.pythonhosted.org/packages/b9/27/a9007a575c8a8e80c22144fec5df3943fd304dfa791bed44a0130e984803/pip-20.2.tar.gz#sha256=912935eb20ea6a3b5ed5810dde9754fde5563f5ca9be44a8a6e5da806ade970b (from https://pypi.org/simple/pip/) (requires-python:>=2.7,!=3.0.*,!=3.1.*,!=3.2.*,!=3.3.*,!=3.4.*), version: 20.2\r\n",
      "  Found link https://files.pythonhosted.org/packages/bd/b1/56a834acdbe23b486dea16aaf4c27ed28eb292695b90d01dff96c96597de/pip-20.2.1-py2.py3-none-any.whl#sha256=7792c1a4f60fca3a9d674e7dee62c24e21a32df1f47d308524d3507455784f29 (from https://pypi.org/simple/pip/) (requires-python:>=2.7,!=3.0.*,!=3.1.*,!=3.2.*,!=3.3.*,!=3.4.*), version: 20.2.1\r\n",
      "  Found link https://files.pythonhosted.org/packages/68/1a/8cfcf3a8cba0dd0f125927c986b1502f2eed284c63fdfd6797ea74300ae4/pip-20.2.1.tar.gz#sha256=c87c2b2620f2942dfd5f3cf1bb2a18a99ae70de07384e847c8e3afd1d1604cf2 (from https://pypi.org/simple/pip/) (requires-python:>=2.7,!=3.0.*,!=3.1.*,!=3.2.*,!=3.3.*,!=3.4.*), version: 20.2.1\r\n",
      "  Found link https://files.pythonhosted.org/packages/5a/4a/39400ff9b36e719bdf8f31c99fe1fa7842a42fa77432e584f707a5080063/pip-20.2.2-py2.py3-none-any.whl#sha256=5244e51494f5d1dfbb89da492d4250cb07f9246644736d10ed6c45deb1a48500 (from https://pypi.org/simple/pip/) (requires-python:>=2.7,!=3.0.*,!=3.1.*,!=3.2.*,!=3.3.*,!=3.4.*), version: 20.2.2\r\n",
      "  Found link https://files.pythonhosted.org/packages/73/8e/7774190ac616c69194688ffce7c1b2a097749792fea42e390e7ddfdef8bc/pip-20.2.2.tar.gz#sha256=58a3b0b55ee2278104165c7ee7bc8e2db6f635067f3c66cf637113ec5aa71584 (from https://pypi.org/simple/pip/) (requires-python:>=2.7,!=3.0.*,!=3.1.*,!=3.2.*,!=3.3.*,!=3.4.*), version: 20.2.2\r\n",
      "  Found link https://files.pythonhosted.org/packages/4e/5f/528232275f6509b1fff703c9280e58951a81abe24640905de621c9f81839/pip-20.2.3-py2.py3-none-any.whl#sha256=0f35d63b7245205f4060efe1982f5ea2196aa6e5b26c07669adcf800e2542026 (from https://pypi.org/simple/pip/) (requires-python:>=2.7,!=3.0.*,!=3.1.*,!=3.2.*,!=3.3.*,!=3.4.*), version: 20.2.3\r\n",
      "  Found link https://files.pythonhosted.org/packages/59/64/4718738ffbc22d98b5223dbd6c5bb87c476d83a4c71719402935170064c7/pip-20.2.3.tar.gz#sha256=30c70b6179711a7c4cf76da89e8a0f5282279dfb0278bec7b94134be92543b6d (from https://pypi.org/simple/pip/) (requires-python:>=2.7,!=3.0.*,!=3.1.*,!=3.2.*,!=3.3.*,!=3.4.*), version: 20.2.3\r\n",
      "  Found link https://files.pythonhosted.org/packages/cb/28/91f26bd088ce8e22169032100d4260614fc3da435025ff389ef1d396a433/pip-20.2.4-py2.py3-none-any.whl#sha256=51f1c7514530bd5c145d8f13ed936ad6b8bfcb8cf74e10403d0890bc986f0033 (from https://pypi.org/simple/pip/) (requires-python:>=2.7,!=3.0.*,!=3.1.*,!=3.2.*,!=3.3.*,!=3.4.*), version: 20.2.4\r\n",
      "  Found link https://files.pythonhosted.org/packages/0b/f5/be8e741434a4bf4ce5dbc235aa28ed0666178ea8986ddc10d035023744e6/pip-20.2.4.tar.gz#sha256=85c99a857ea0fb0aedf23833d9be5c40cf253fe24443f0829c7b472e23c364a1 (from https://pypi.org/simple/pip/) (requires-python:>=2.7,!=3.0.*,!=3.1.*,!=3.2.*,!=3.3.*,!=3.4.*), version: 20.2.4\r\n",
      "  Found link https://files.pythonhosted.org/packages/fb/46/26d13ba147ba430f9cda0d0cf599a041d142a5c8b1a90ff845ebce7fba0f/pip-20.3b1-py2.py3-none-any.whl#sha256=122fcd82deac1153c1699f29815bfab3f876e5bbe018cc2df1297f9802572a97 (from https://pypi.org/simple/pip/) (requires-python:>=2.7,!=3.0.*,!=3.1.*,!=3.2.*,!=3.3.*,!=3.4.*), version: 20.3b1\r\n",
      "  Found link https://files.pythonhosted.org/packages/7f/61/2da3c027ad7bd4bc87a3ee7e7160c93e7500dac3536e02ff93008e9b3460/pip-20.3b1.tar.gz#sha256=819c710a5c8d8c5e44695d03e51cb23b08c070e1ae6a5d6910a89e248e0ff29c (from https://pypi.org/simple/pip/) (requires-python:>=2.7,!=3.0.*,!=3.1.*,!=3.2.*,!=3.3.*,!=3.4.*), version: 20.3b1\r\n",
      "  Found link https://files.pythonhosted.org/packages/55/73/bce122d1ed0217b3c1a3439ab16dfa94bbeabd0d31755fcf907493abf39b/pip-20.3-py2.py3-none-any.whl#sha256=3236fe7288d155c238bb6c85d3e784db3a8e592e827b83fea4d36d8b749ecc4b (from https://pypi.org/simple/pip/) (requires-python:>=2.7,!=3.0.*,!=3.1.*,!=3.2.*,!=3.3.*,!=3.4.*), version: 20.3\r\n",
      "  Found link https://files.pythonhosted.org/packages/03/41/6da553f689d530bc2c337d2c496a40dc9c0fdc6481e5df1f3ee3b8574479/pip-20.3.tar.gz#sha256=9ae7ca6656eac22d2a9b49d024fc24e00f68f4c4d4db673d2d9b525c3dea6e0e (from https://pypi.org/simple/pip/) (requires-python:>=2.7,!=3.0.*,!=3.1.*,!=3.2.*,!=3.3.*,!=3.4.*), version: 20.3\r\n",
      "  Found link https://files.pythonhosted.org/packages/ab/11/2dc62c5263d9eb322f2f028f7b56cd9d096bb8988fcf82d65fa2e4057afe/pip-20.3.1-py2.py3-none-any.whl#sha256=425e79b20939abbffa7633a91151a882aedc77564d9313e3584eb0416c28c558 (from https://pypi.org/simple/pip/) (requires-python:>=2.7,!=3.0.*,!=3.1.*,!=3.2.*,!=3.3.*,!=3.4.*), version: 20.3.1\r\n",
      "  Found link https://files.pythonhosted.org/packages/cb/5f/ae1eb8bda1cde4952bd12e468ab8a254c345a0189402bf1421457577f4f3/pip-20.3.1.tar.gz#sha256=43f7d3811f05db95809d39515a5111dd05994965d870178a4fe10d5482f9d2e2 (from https://pypi.org/simple/pip/) (requires-python:>=2.7,!=3.0.*,!=3.1.*,!=3.2.*,!=3.3.*,!=3.4.*), version: 20.3.1\r\n",
      "  Skipping link: yanked for reason: <none given>: https://files.pythonhosted.org/packages/3d/0c/01014c0442830eb38d6baef0932fdcb389279ce74295350ecb9fe09e048a/pip-20.3.2-py2.py3-none-any.whl#sha256=8d779b6a85770bc5f624b5c8d4d922ea2e3cd9ce6ee92aa260f12a9f072477bc (from https://pypi.org/simple/pip/) (requires-python:>=2.7,!=3.0.*,!=3.1.*,!=3.2.*,!=3.3.*,!=3.4.*)\r\n",
      "  Skipping link: yanked for reason: <none given>: https://files.pythonhosted.org/packages/51/63/86e147c44335b03055e58a27c791d94fff4baaf08d67852f925ab9b90240/pip-20.3.2.tar.gz#sha256=aa1516c1c8f6f634919cbd8a58fc81432b0fa96f421a97d05a205ee86b07c43d (from https://pypi.org/simple/pip/) (requires-python:>=2.7,!=3.0.*,!=3.1.*,!=3.2.*,!=3.3.*,!=3.4.*)\r\n",
      "  Found link https://files.pythonhosted.org/packages/54/eb/4a3642e971f404d69d4f6fa3885559d67562801b99d7592487f1ecc4e017/pip-20.3.3-py2.py3-none-any.whl#sha256=fab098c8a1758295dd9f57413c199f23571e8fde6cc39c22c78c961b4ac6286d (from https://pypi.org/simple/pip/) (requires-python:>=2.7,!=3.0.*,!=3.1.*,!=3.2.*,!=3.3.*,!=3.4.*), version: 20.3.3\r\n",
      "  Found link https://files.pythonhosted.org/packages/ca/1e/d91d7aae44d00cd5001957a1473e4e4b7d1d0f072d1af7c34b5899c9ccdf/pip-20.3.3.tar.gz#sha256=79c1ac8a9dccbec8752761cb5a2df833224263ca661477a2a9ed03ddf4e0e3ba (from https://pypi.org/simple/pip/) (requires-python:>=2.7,!=3.0.*,!=3.1.*,!=3.2.*,!=3.3.*,!=3.4.*), version: 20.3.3\r\n",
      "  Found link https://files.pythonhosted.org/packages/27/79/8a850fe3496446ff0d584327ae44e7500daf6764ca1a382d2d02789accf7/pip-20.3.4-py2.py3-none-any.whl#sha256=217ae5161a0e08c0fb873858806e3478c9775caffce5168b50ec885e358c199d (from https://pypi.org/simple/pip/) (requires-python:>=2.7,!=3.0.*,!=3.1.*,!=3.2.*,!=3.3.*,!=3.4.*), version: 20.3.4\r\n",
      "  Found link https://files.pythonhosted.org/packages/53/7f/55721ad0501a9076dbc354cc8c63ffc2d6f1ef360f49ad0fbcce19d68538/pip-20.3.4.tar.gz#sha256=6773934e5f5fc3eaa8c5a44949b5b924fc122daa0a8aa9f80c835b4ca2a543fc (from https://pypi.org/simple/pip/) (requires-python:>=2.7,!=3.0.*,!=3.1.*,!=3.2.*,!=3.3.*,!=3.4.*), version: 20.3.4\r\n",
      "  Found link https://files.pythonhosted.org/packages/de/47/58b9f3e6f611dfd17fb8bd9ed3e6f93b7ee662fb85bdfee3565e8979ddf7/pip-21.0-py3-none-any.whl#sha256=cf2410eedf8735fd842e0fecd4117ca79025d7fe7c161e32f8640ed6ebe5ecb9 (from https://pypi.org/simple/pip/) (requires-python:>=3.6), version: 21.0\r\n",
      "  Found link https://files.pythonhosted.org/packages/9e/24/bc928987f35dd0167f21b13a1777c21b9c5917c9894cff93f1c1a6cb8f3b/pip-21.0.tar.gz#sha256=b330cf6467afd5d15f4c1c56f5c95e56a2bfb941c869bed4c1aa517bcb16de25 (from https://pypi.org/simple/pip/) (requires-python:>=3.6), version: 21.0\r\n",
      "  Found link https://files.pythonhosted.org/packages/fe/ef/60d7ba03b5c442309ef42e7d69959f73aacccd0d86008362a681c4698e83/pip-21.0.1-py3-none-any.whl#sha256=37fd50e056e2aed635dec96594606f0286640489b0db0ce7607f7e51890372d5 (from https://pypi.org/simple/pip/) (requires-python:>=3.6), version: 21.0.1\r\n",
      "  Found link https://files.pythonhosted.org/packages/b7/2d/ad02de84a4c9fd3b1958dc9fb72764de1aa2605a9d7e943837be6ad82337/pip-21.0.1.tar.gz#sha256=99bbde183ec5ec037318e774b0d8ae0a64352fe53b2c7fd630be1d07e94f41e5 (from https://pypi.org/simple/pip/) (requires-python:>=3.6), version: 21.0.1\r\n",
      "Given no hashes to check 161 links for project 'pip': discarding no candidates\r\n"
     ]
    },
    {
     "name": "stdout",
     "output_type": "stream",
     "text": [
      "Removed build tracker: '/tmp/pip-req-tracker-oib22gla'\n",
      "/mnt/nfs/work1/696ds-s21/bseoh/lexalytics\n"
     ]
    }
   ],
   "source": [
    "# NVidia APEX install\n",
    "!unzip -o apex-master_downloaded_01Mar2021.zip\n",
    "%cd apex-master\n",
    "!pip install -v --no-cache-dir ./\n",
    "%cd .."
   ]
  },
  {
   "cell_type": "code",
   "execution_count": 2,
   "metadata": {
    "id": "rgITVrTUZstB"
   },
   "outputs": [],
   "source": [
    "# IPython reloading magic\n",
    "%load_ext autoreload\n",
    "%autoreload 2"
   ]
  },
  {
   "cell_type": "markdown",
   "metadata": {
    "id": "kSItEk35-R8o"
   },
   "source": [
    "## Package Imports"
   ]
  },
  {
   "cell_type": "code",
   "execution_count": 3,
   "metadata": {
    "id": "o-jSRWQfLL4U"
   },
   "outputs": [
    {
     "name": "stdout",
     "output_type": "stream",
     "text": [
      "Python version: 3.7.9 (default, Nov  4 2020, 21:30:07) \n",
      "[GCC 7.3.0]\n",
      "NumPy version: 1.19.2\n",
      "PyTorch version: 1.7.1\n",
      "Transformers version: 4.3.3\n"
     ]
    }
   ],
   "source": [
    "import sys\n",
    "import os\n",
    "import random\n",
    "import numpy as np\n",
    "import torch\n",
    "import transformers\n",
    "import datasets\n",
    "\n",
    "import utils\n",
    "\n",
    "# Random seed settings\n",
    "random_seed = 696\n",
    "random.seed(random_seed)\n",
    "np.random.seed(random_seed)\n",
    "torch.manual_seed(random_seed)\n",
    "\n",
    "# Print version information\n",
    "print(\"Python version: \" + sys.version)\n",
    "print(\"NumPy version: \" + np.__version__)\n",
    "print(\"PyTorch version: \" + torch.__version__)\n",
    "print(\"Transformers version: \" + transformers.__version__)"
   ]
  },
  {
   "cell_type": "markdown",
   "metadata": {
    "id": "rkKDoXUp-UIi"
   },
   "source": [
    "## PyTorch GPU settings"
   ]
  },
  {
   "cell_type": "code",
   "execution_count": 4,
   "metadata": {
    "id": "je9BT2pQIpUx"
   },
   "outputs": [
    {
     "name": "stdout",
     "output_type": "stream",
     "text": [
      "CUDA Version: 11.0\n",
      "cuDNN Version: 8005\n",
      "CUDA Device Name: GeForce GTX TITAN X\n",
      "CUDA Capabilities: (5, 2)\n",
      "\n",
      "PyTorch device selected: cuda\n"
     ]
    }
   ],
   "source": [
    "if torch.cuda.is_available():\n",
    "    # https://github.com/UKPLab/sentence-transformers/issues/413\n",
    "    torch.multiprocessing.set_start_method('spawn')\n",
    "    \n",
    "    torch_device = torch.device('cuda')\n",
    "\n",
    "    # Set this to True to make your output immediately reproducible\n",
    "    # Note: https://pytorch.org/docs/stable/notes/randomness.html\n",
    "    torch.backends.cudnn.deterministic = False\n",
    "    \n",
    "    # Disable 'benchmark' mode: Set this False if you want to measure running times more fairly\n",
    "    # Note: https://discuss.pytorch.org/t/what-does-torch-backends-cudnn-benchmark-do/5936\n",
    "    torch.backends.cudnn.benchmark = True\n",
    "    \n",
    "    # Faster Host to GPU copies with page-locked memory\n",
    "    use_pin_memory = True \n",
    "\n",
    "    # CUDA libraries version information\n",
    "    print(\"CUDA Version: \" + str(torch.version.cuda))\n",
    "    print(\"cuDNN Version: \" + str(torch.backends.cudnn.version()))\n",
    "    print(\"CUDA Device Name: \" + str(torch.cuda.get_device_name()))\n",
    "    print(\"CUDA Capabilities: \"+ str(torch.cuda.get_device_capability()))\n",
    "else:\n",
    "    torch_device = torch.device('cpu')\n",
    "    use_pin_memory = False\n",
    "\n",
    "print()\n",
    "print(\"PyTorch device selected:\", torch_device)"
   ]
  },
  {
   "cell_type": "markdown",
   "metadata": {
    "id": "H3txs5s7Q1UG"
   },
   "source": [
    "# Further pre-training"
   ]
  },
  {
   "cell_type": "markdown",
   "metadata": {
    "id": "gEnUsBDUOLAm"
   },
   "source": [
    "## Load the BERT-base model"
   ]
  },
  {
   "cell_type": "code",
   "execution_count": 5,
   "metadata": {
    "id": "W3TCqS-3OOIj"
   },
   "outputs": [
    {
     "name": "stderr",
     "output_type": "stream",
     "text": [
      "Some weights of the model checkpoint at bert-base-uncased were not used when initializing BertForMaskedLM: ['cls.seq_relationship.weight', 'cls.seq_relationship.bias']\n",
      "- This IS expected if you are initializing BertForMaskedLM from the checkpoint of a model trained on another task or with another architecture (e.g. initializing a BertForSequenceClassification model from a BertForPreTraining model).\n",
      "- This IS NOT expected if you are initializing BertForMaskedLM from the checkpoint of a model that you expect to be exactly identical (initializing a BertForSequenceClassification model from a BertForSequenceClassification model).\n"
     ]
    }
   ],
   "source": [
    "tokenizer = transformers.AutoTokenizer.from_pretrained(\"bert-base-uncased\", cache_dir='./bert_base_cache')\n",
    "model = transformers.AutoModelForMaskedLM.from_pretrained(\"bert-base-uncased\", cache_dir='./bert_base_cache')"
   ]
  },
  {
   "cell_type": "markdown",
   "metadata": {
    "id": "PrLTLsRFRUKK"
   },
   "source": [
    "## Load the Yelp restaurants dataset"
   ]
  },
  {
   "cell_type": "code",
   "execution_count": 6,
   "metadata": {
    "id": "ZpKL0urORmkm"
   },
   "outputs": [
    {
     "name": "stderr",
     "output_type": "stream",
     "text": [
      "Using custom data configuration default\n",
      "Reusing dataset yelp_restaurants (./dataset_cache/yelp_restaurants/default-ceef9e04fb6ab232/0.0.0/6affa0993e335aaa035f8613a3e49bd465b0dc4ab6d8ea1e7838b5bbc7477077)\n"
     ]
    }
   ],
   "source": [
    "yelp = datasets.load_dataset(\n",
    "    './dataset_scripts/yelp_restaurants',\n",
    "    data_files={\n",
    "        'train': 'dataset_files/yelp_restaurants/yelp_academic_dataset_review.json',\n",
    "        'restaurant_ids': 'dataset_files/yelp_restaurants/restaurantIDs.txt',\n",
    "    },\n",
    "    cache_dir='./dataset_cache')"
   ]
  },
  {
   "cell_type": "code",
   "execution_count": 7,
   "metadata": {
    "id": "2m9wZvndVCvy"
   },
   "outputs": [],
   "source": [
    "data_yelp_train = yelp['train']"
   ]
  },
  {
   "cell_type": "code",
   "execution_count": 8,
   "metadata": {
    "id": "WrB-ZoTz5-zb"
   },
   "outputs": [
    {
     "name": "stdout",
     "output_type": "stream",
     "text": [
      "Number of training data: 2152007\n"
     ]
    }
   ],
   "source": [
    "print(\"Number of training data:\", len(data_yelp_train))"
   ]
  },
  {
   "cell_type": "code",
   "execution_count": 9,
   "metadata": {
    "id": "sQ_RaowTYC9X"
   },
   "outputs": [
    {
     "name": "stdout",
     "output_type": "stream",
     "text": [
      "{'id': 'EUgMR__LDQYjdD6qlWgrlw', 'stars': 1.0, 'text': \"Burgers is bland and tasteless, relies on toppings. So expensive. Hot dog is tiny and terribly salty. Fries are similar to Harveys, don't compare to New York Fries. Would not go back.\"}\n"
     ]
    }
   ],
   "source": [
    "# Check out how individual data points look like\n",
    "print(data_yelp_train[696])"
   ]
  },
  {
   "cell_type": "markdown",
   "metadata": {
    "id": "WqyEwcDGSJjs"
   },
   "source": [
    "### Preprocessing: Encode the text with Tokenizer"
   ]
  },
  {
   "cell_type": "code",
   "execution_count": 10,
   "metadata": {
    "id": "tTVxGSY4oe7e"
   },
   "outputs": [
    {
     "name": "stderr",
     "output_type": "stream",
     "text": [
      "Loading cached processed dataset at ./dataset_cache/yelp_restaurants/default-ceef9e04fb6ab232/0.0.0/6affa0993e335aaa035f8613a3e49bd465b0dc4ab6d8ea1e7838b5bbc7477077/cache-3a2a466ed105fd96.arrow\n",
      "Loading cached processed dataset at ./dataset_cache/yelp_restaurants/default-ceef9e04fb6ab232/0.0.0/6affa0993e335aaa035f8613a3e49bd465b0dc4ab6d8ea1e7838b5bbc7477077/cache-db1767be8460a916.arrow\n",
      "Loading cached processed dataset at ./dataset_cache/yelp_restaurants/default-ceef9e04fb6ab232/0.0.0/6affa0993e335aaa035f8613a3e49bd465b0dc4ab6d8ea1e7838b5bbc7477077/cache-19859829e41fc129.arrow\n",
      "Loading cached processed dataset at ./dataset_cache/yelp_restaurants/default-ceef9e04fb6ab232/0.0.0/6affa0993e335aaa035f8613a3e49bd465b0dc4ab6d8ea1e7838b5bbc7477077/cache-90ca4428e74eec72.arrow\n"
     ]
    }
   ],
   "source": [
    "train_dataset_pretraining = data_yelp_train.map(\n",
    "    lambda e: tokenizer(e['text'], truncation=True, padding='max_length', max_length=256),\n",
    "    remove_columns=data_yelp_train.column_names,\n",
    "    batched=True, num_proc=4)"
   ]
  },
  {
   "cell_type": "markdown",
   "metadata": {
    "id": "p1N4PUdHZeIm"
   },
   "source": [
    "## Pre-train further"
   ]
  },
  {
   "cell_type": "markdown",
   "metadata": {
    "id": "PD6lfHh8mURq"
   },
   "source": [
    "### Training settings"
   ]
  },
  {
   "cell_type": "code",
   "execution_count": 11,
   "metadata": {
    "id": "RFho5vyJgVaj"
   },
   "outputs": [],
   "source": [
    "# Our new 'smart' masking\n",
    "collator = utils.DataCollatorForSmartMLM(\n",
    "    tokenizer=tokenizer,\n",
    "    mlm_probability=0.15,\n",
    "    prob_replace_with_mask=0.8,\n",
    "    prob_replace_with_random=0.1,\n",
    ")"
   ]
  },
  {
   "cell_type": "code",
   "execution_count": 12,
   "metadata": {
    "id": "8ps4XzQxmTgS"
   },
   "outputs": [],
   "source": [
    "training_args = transformers.TrainingArguments(\n",
    "    output_dir=os.path.join('.', 'progress', experiment_id, 'results'), # output directory\n",
    "    overwrite_output_dir=True,\n",
    "    num_train_epochs=5,              # total number of training epochs\n",
    "    per_device_train_batch_size=32,  # 32 * 2 GPUs = 64 Total\n",
    "    evaluation_strategy='epoch',\n",
    "    warmup_steps=5000,               # number of warmup steps for learning rate scheduler\n",
    "    weight_decay=0.01,               # strength of weight decay\n",
    "    logging_dir=os.path.join('.', 'progress', experiment_id, 'logs'), # directory for storing logs\n",
    "    seed=random_seed,\n",
    "    fp16=True,\n",
    "    fp16_opt_level='O2',\n",
    "    fp16_backend='apex',\n",
    "    prediction_loss_only=True,\n",
    "    load_best_model_at_end=True,\n",
    "    dataloader_num_workers=22,\n",
    ")"
   ]
  },
  {
   "cell_type": "code",
   "execution_count": 13,
   "metadata": {
    "id": "RQsRp9lMZstE"
   },
   "outputs": [
    {
     "name": "stdout",
     "output_type": "stream",
     "text": [
      "2\n"
     ]
    }
   ],
   "source": [
    "print(training_args.n_gpu)"
   ]
  },
  {
   "cell_type": "code",
   "execution_count": 14,
   "metadata": {
    "id": "1OQJ8IOIYHXb"
   },
   "outputs": [
    {
     "name": "stderr",
     "output_type": "stream",
     "text": [
      "Intel(R) oneAPI Data Analytics Library solvers for sklearn enabled: https://intelpython.github.io/daal4py/sklearn.html\n"
     ]
    }
   ],
   "source": [
    "trainer = transformers.Trainer(\n",
    "    model=model,\n",
    "    args=training_args,\n",
    "    data_collator=collator, # do the masking on the go\n",
    "    train_dataset=train_dataset_pretraining,\n",
    ")"
   ]
  },
  {
   "cell_type": "markdown",
   "metadata": {
    "id": "ZTx5562OmXx5"
   },
   "source": [
    "### Training loop"
   ]
  },
  {
   "cell_type": "code",
   "execution_count": null,
   "metadata": {
    "id": "-_v3lAPvb9DK"
   },
   "outputs": [
    {
     "name": "stdout",
     "output_type": "stream",
     "text": [
      "Selected optimization level O2:  FP16 training with FP32 batchnorm and FP32 master weights.\n",
      "\n",
      "Defaults for this optimization level are:\n",
      "enabled                : True\n",
      "opt_level              : O2\n",
      "cast_model_type        : torch.float16\n",
      "patch_torch_functions  : False\n",
      "keep_batchnorm_fp32    : True\n",
      "master_weights         : True\n",
      "loss_scale             : dynamic\n",
      "Processing user overrides (additional kwargs that are not None)...\n",
      "After processing overrides, optimization options are:\n",
      "enabled                : True\n",
      "opt_level              : O2\n",
      "cast_model_type        : torch.float16\n",
      "patch_torch_functions  : False\n",
      "keep_batchnorm_fp32    : True\n",
      "master_weights         : True\n",
      "loss_scale             : dynamic\n",
      "Warning:  multi_tensor_applier fused unscale kernel is unavailable, possibly because apex was installed without --cuda_ext --cpp_ext. Using Python fallback.  Original ImportError was: ModuleNotFoundError(\"No module named 'amp_C'\")\n"
     ]
    }
   ],
   "source": [
    "%%time\n",
    "trainer.train()"
   ]
  },
  {
   "cell_type": "markdown",
   "metadata": {
    "id": "wLj4Ico8vwhO"
   },
   "source": [
    "### Save the model to the local directory"
   ]
  },
  {
   "cell_type": "code",
   "execution_count": null,
   "metadata": {
    "id": "WLViPwdTvvxP"
   },
   "outputs": [],
   "source": [
    "trainer.save_model(os.path.join('.', 'trained_models', experiment_id))"
   ]
  },
  {
   "cell_type": "code",
   "execution_count": null,
   "metadata": {
    "id": "SIQn4r1oVJp6"
   },
   "outputs": [],
   "source": [
    "tokenizer.save_pretrained(os.path.join('.', 'trained_models', experiment_id))"
   ]
  },
  {
   "cell_type": "markdown",
   "metadata": {
    "id": "RNUCURCduqYa"
   },
   "source": [
    "## LM Evaluation"
   ]
  },
  {
   "cell_type": "code",
   "execution_count": null,
   "metadata": {
    "id": "u1XN8ot3us18"
   },
   "outputs": [],
   "source": [
    "eval_results = trainer.evaluate()"
   ]
  },
  {
   "cell_type": "code",
   "execution_count": null,
   "metadata": {
    "id": "zKkBZEpF07Ip"
   },
   "outputs": [],
   "source": [
    "print(eval_results)\n",
    "\n",
    "perplexity = np.exp(eval_results[\"eval_loss\"])\n",
    "\n",
    "print(perplexity)"
   ]
  },
  {
   "cell_type": "markdown",
   "metadata": {
    "id": "I_bAx1rL0KFb"
   },
   "source": [
    "## Playing with my own input sentences"
   ]
  },
  {
   "cell_type": "code",
   "execution_count": null,
   "metadata": {
    "id": "hmIJszldveH6"
   },
   "outputs": [],
   "source": [
    "example = f\"\"\"The {tokenizer.mask_token} of {tokenizer.mask_token} is awful, but its {tokenizer.mask_token} is fantastic.\"\"\"\n",
    "\n",
    "example_encoded = tokenizer.encode(example, add_special_tokens=True, return_tensors=\"pt\").to(torch_device)\n",
    "\n",
    "# Let's decode this back just to see how they were actually encoded\n",
    "example_tokens = []\n",
    "\n",
    "for id in example_encoded[0]:\n",
    "    example_tokens.append(tokenizer.convert_ids_to_tokens(id.item()))\n",
    "\n",
    "print(example_tokens)"
   ]
  },
  {
   "cell_type": "code",
   "execution_count": null,
   "metadata": {
    "id": "CbHup4-rxBSD"
   },
   "outputs": [],
   "source": [
    "example_prediction = model(example_encoded)\n",
    "\n",
    "example_prediction_argmax = torch.argmax(example_prediction[0], dim=-1)[0]\n",
    "\n",
    "print(example_prediction_argmax)\n",
    "\n",
    "print(tokenizer.decode(example_prediction_argmax))"
   ]
  },
  {
   "cell_type": "code",
   "execution_count": null,
   "metadata": {
    "id": "EM3YetZAm3L-"
   },
   "outputs": [],
   "source": []
  }
 ],
 "metadata": {
  "accelerator": "GPU",
  "colab": {
   "collapsed_sections": [],
   "name": "lm_further_pretraining_bert_yelp_restaurants.ipynb",
   "provenance": [],
   "toc_visible": true
  },
  "kernelspec": {
   "display_name": "Python 3",
   "language": "python",
   "name": "python3"
  },
  "language_info": {
   "codemirror_mode": {
    "name": "ipython",
    "version": 3
   },
   "file_extension": ".py",
   "mimetype": "text/x-python",
   "name": "python",
   "nbconvert_exporter": "python",
   "pygments_lexer": "ipython3",
   "version": "3.7.9"
  }
 },
 "nbformat": 4,
 "nbformat_minor": 1
}
