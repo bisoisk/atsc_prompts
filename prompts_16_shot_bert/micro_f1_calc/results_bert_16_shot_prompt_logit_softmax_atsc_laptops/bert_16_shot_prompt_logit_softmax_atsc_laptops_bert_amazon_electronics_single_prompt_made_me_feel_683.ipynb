{
 "cells": [
  {
   "cell_type": "markdown",
   "id": "45fd9a74",
   "metadata": {
    "id": "xf3lVTZYhbzA",
    "papermill": {
     "duration": 0.018358,
     "end_time": "2021-05-16T23:59:24.292521",
     "exception": false,
     "start_time": "2021-05-16T23:59:24.274163",
     "status": "completed"
    },
    "tags": []
   },
   "source": [
    "# Initial Setups"
   ]
  },
  {
   "cell_type": "markdown",
   "id": "0d0a5b8e",
   "metadata": {
    "id": "2ORFXeezn5Og",
    "papermill": {
     "duration": 0.024491,
     "end_time": "2021-05-16T23:59:24.337003",
     "exception": false,
     "start_time": "2021-05-16T23:59:24.312512",
     "status": "completed"
    },
    "tags": []
   },
   "source": [
    "## (Google Colab use only)"
   ]
  },
  {
   "cell_type": "code",
   "execution_count": 1,
   "id": "c05db220",
   "metadata": {
    "colab": {
     "base_uri": "https://localhost:8080/"
    },
    "execution": {
     "iopub.execute_input": "2021-05-16T23:59:24.378578Z",
     "iopub.status.busy": "2021-05-16T23:59:24.377880Z",
     "iopub.status.idle": "2021-05-16T23:59:24.380152Z",
     "shell.execute_reply": "2021-05-16T23:59:24.380518Z"
    },
    "executionInfo": {
     "elapsed": 3850,
     "status": "ok",
     "timestamp": 1621205749834,
     "user": {
      "displayName": "Ronald Seoh",
      "photoUrl": "",
      "userId": "10284188050297676522"
     },
     "user_tz": 240
    },
    "id": "YFAQ6IgXn8FK",
    "outputId": "796eb377-79ba-4bdc-df32-a68116d2befd",
    "papermill": {
     "duration": 0.026086,
     "end_time": "2021-05-16T23:59:24.380712",
     "exception": false,
     "start_time": "2021-05-16T23:59:24.354626",
     "status": "completed"
    },
    "tags": []
   },
   "outputs": [],
   "source": [
    "# Use Google Colab\n",
    "use_colab = False\n",
    "\n",
    "# Is this notebook running on Colab?\n",
    "# If so, then google.colab package (github.com/googlecolab/colabtools)\n",
    "# should be available in this environment\n",
    "\n",
    "# Previous version used importlib, but we could do the same thing with\n",
    "# just attempting to import google.colab\n",
    "try:\n",
    "    from google.colab import drive\n",
    "    colab_available = True\n",
    "except:\n",
    "    colab_available = False\n",
    "\n",
    "if use_colab and colab_available:\n",
    "    drive.mount('/content/drive')\n",
    "\n",
    "    # cd to the appropriate working directory under my Google Drive\n",
    "    %cd '/content/drive/My Drive/cs696ds_lexalytics/Ronald Gypsum Prompts'\n",
    "    \n",
    "    # Install packages specified in requirements\n",
    "    !pip install -r requirements.txt\n",
    "\n",
    "    %cd 'micro_f1_calc'\n",
    "    \n",
    "    # List the directory contents\n",
    "    !ls"
   ]
  },
  {
   "cell_type": "markdown",
   "id": "87edee07",
   "metadata": {
    "id": "tgzsHF7Zhbzo",
    "papermill": {
     "duration": 0.020528,
     "end_time": "2021-05-16T23:59:24.418952",
     "exception": false,
     "start_time": "2021-05-16T23:59:24.398424",
     "status": "completed"
    },
    "tags": []
   },
   "source": [
    "## Experiment parameters"
   ]
  },
  {
   "cell_type": "code",
   "execution_count": 2,
   "id": "3ce29781",
   "metadata": {
    "execution": {
     "iopub.execute_input": "2021-05-16T23:59:24.463312Z",
     "iopub.status.busy": "2021-05-16T23:59:24.462459Z",
     "iopub.status.idle": "2021-05-16T23:59:24.467314Z",
     "shell.execute_reply": "2021-05-16T23:59:24.466657Z"
    },
    "id": "DUpGBmOJhbzs",
    "papermill": {
     "duration": 0.028403,
     "end_time": "2021-05-16T23:59:24.467448",
     "exception": false,
     "start_time": "2021-05-16T23:59:24.439045",
     "status": "completed"
    },
    "tags": [
     "parameters"
    ]
   },
   "outputs": [],
   "source": [
    "# We will use the following string ID to identify this particular (training) experiments\n",
    "# in directory paths and other settings\n",
    "experiment_id = 'bert_16_shot_prompt_logit_softmax_atsc_restaurants_bert_yelp_restaurants_single_prompt_i_felt_589'\n",
    "\n",
    "# Random seed\n",
    "random_seed = 589\n",
    "\n",
    "# path to pretrained MLM model folder or the string \"bert-base-uncased\"\n",
    "lm_model_path = 'bert-base-uncased'\n",
    "\n",
    "# Prompts to be added to the end of each review text\n",
    "# Note: pseudo-labels for each prompt should be given in the order of (positive), (negative), (neutral)\n",
    "sentiment_prompts = [\n",
    "    {\"prompt\": \"I felt the {aspect} was [MASK].\", \"labels\": [\"good\", \"bad\", \"ok\"]},\n",
    "]\n",
    "\n",
    "# Multiple prompt merging behavior\n",
    "prompts_merge_behavior = 'sum_logits'\n",
    "\n",
    "# Perturb the input embeddings of tokens within the prompts\n",
    "prompts_perturb = False\n",
    "\n",
    "# Test settings\n",
    "testing_batch_size = 32\n",
    "testing_domain = 'restaurants' # 'laptops', 'restaurants', 'joint'"
   ]
  },
  {
   "cell_type": "code",
   "execution_count": 3,
   "id": "3d1b3669",
   "metadata": {
    "execution": {
     "iopub.execute_input": "2021-05-16T23:59:24.507942Z",
     "iopub.status.busy": "2021-05-16T23:59:24.507230Z",
     "iopub.status.idle": "2021-05-16T23:59:24.509388Z",
     "shell.execute_reply": "2021-05-16T23:59:24.509768Z"
    },
    "papermill": {
     "duration": 0.023433,
     "end_time": "2021-05-16T23:59:24.509899",
     "exception": false,
     "start_time": "2021-05-16T23:59:24.486466",
     "status": "completed"
    },
    "tags": [
     "injected-parameters"
    ]
   },
   "outputs": [],
   "source": [
    "# Parameters\n",
    "experiment_id = \"bert_16_shot_prompt_logit_softmax_atsc_laptops_bert_amazon_electronics_single_prompt_made_me_feel_683\"\n",
    "random_seed = 683\n",
    "lm_model_path = \"../progress/lm_further_pretraining_bert_amazon_electronics_bseoh_2021-03-06--18_59_53/results/checkpoint-1180388\"\n",
    "sentiment_prompts = [\n",
    "    {\n",
    "        \"prompt\": \"The {aspect} made me feel [MASK].\",\n",
    "        \"labels\": [\"good\", \"bad\", \"indifferent\"],\n",
    "    }\n",
    "]\n",
    "testing_batch_size = 32\n",
    "testing_domain = \"laptops\"\n",
    "prompts_merge_behavior = \"sum_logits\"\n",
    "prompts_perturb = False\n"
   ]
  },
  {
   "cell_type": "code",
   "execution_count": 4,
   "id": "30539d61",
   "metadata": {
    "execution": {
     "iopub.execute_input": "2021-05-16T23:59:24.661086Z",
     "iopub.status.busy": "2021-05-16T23:59:24.660421Z",
     "iopub.status.idle": "2021-05-16T23:59:24.662662Z",
     "shell.execute_reply": "2021-05-16T23:59:24.663093Z"
    },
    "id": "AtJhBPXMY36f",
    "papermill": {
     "duration": 0.032637,
     "end_time": "2021-05-16T23:59:24.663237",
     "exception": false,
     "start_time": "2021-05-16T23:59:24.630600",
     "status": "completed"
    },
    "tags": []
   },
   "outputs": [],
   "source": [
    "# Batch size adjustment for multiple prompts.\n",
    "testing_batch_size = testing_batch_size // len(sentiment_prompts)"
   ]
  },
  {
   "cell_type": "code",
   "execution_count": 5,
   "id": "eda99213",
   "metadata": {
    "colab": {
     "base_uri": "https://localhost:8080/"
    },
    "execution": {
     "iopub.execute_input": "2021-05-16T23:59:24.705503Z",
     "iopub.status.busy": "2021-05-16T23:59:24.704826Z",
     "iopub.status.idle": "2021-05-16T23:59:24.707112Z",
     "shell.execute_reply": "2021-05-16T23:59:24.707500Z"
    },
    "executionInfo": {
     "elapsed": 3767,
     "status": "ok",
     "timestamp": 1621205749853,
     "user": {
      "displayName": "Ronald Seoh",
      "photoUrl": "",
      "userId": "10284188050297676522"
     },
     "user_tz": 240
    },
    "id": "keCSh__SY36i",
    "outputId": "44a6f8c0-7df1-431e-eea9-96db930466dc",
    "papermill": {
     "duration": 0.026606,
     "end_time": "2021-05-16T23:59:24.707635",
     "exception": false,
     "start_time": "2021-05-16T23:59:24.681029",
     "status": "completed"
    },
    "tags": []
   },
   "outputs": [
    {
     "name": "stdout",
     "output_type": "stream",
     "text": [
      "Experiment ID: bert_16_shot_prompt_logit_softmax_atsc_laptops_bert_amazon_electronics_single_prompt_made_me_feel_683\n"
     ]
    }
   ],
   "source": [
    "print(\"Experiment ID:\", experiment_id)"
   ]
  },
  {
   "cell_type": "markdown",
   "id": "29aac2cc",
   "metadata": {
    "id": "GYZesqTioMvF",
    "papermill": {
     "duration": 0.017532,
     "end_time": "2021-05-16T23:59:24.743902",
     "exception": false,
     "start_time": "2021-05-16T23:59:24.726370",
     "status": "completed"
    },
    "tags": []
   },
   "source": [
    "## Package imports"
   ]
  },
  {
   "cell_type": "code",
   "execution_count": 6,
   "id": "7c7d9265",
   "metadata": {
    "colab": {
     "base_uri": "https://localhost:8080/"
    },
    "execution": {
     "iopub.execute_input": "2021-05-16T23:59:24.791809Z",
     "iopub.status.busy": "2021-05-16T23:59:24.791325Z",
     "iopub.status.idle": "2021-05-16T23:59:25.982562Z",
     "shell.execute_reply": "2021-05-16T23:59:25.982121Z"
    },
    "executionInfo": {
     "elapsed": 4829,
     "status": "ok",
     "timestamp": 1621205750940,
     "user": {
      "displayName": "Ronald Seoh",
      "photoUrl": "",
      "userId": "10284188050297676522"
     },
     "user_tz": 240
    },
    "id": "MlK_-DrWhbzb",
    "outputId": "3338d527-a7b5-4f67-c825-b2bf63e58d68",
    "papermill": {
     "duration": 1.218616,
     "end_time": "2021-05-16T23:59:25.982702",
     "exception": false,
     "start_time": "2021-05-16T23:59:24.764086",
     "status": "completed"
    },
    "tags": []
   },
   "outputs": [
    {
     "name": "stdout",
     "output_type": "stream",
     "text": [
      "Python version: 3.7.10 (default, May  3 2021, 02:48:31) \n",
      "[GCC 7.5.0]\n",
      "NumPy version: 1.19.5\n",
      "PyTorch version: 1.7.1\n",
      "Transformers version: 4.3.3\n"
     ]
    }
   ],
   "source": [
    "import sys\n",
    "import os\n",
    "import random\n",
    "import shutil\n",
    "import copy\n",
    "import inspect\n",
    "import json\n",
    "\n",
    "import numpy as np\n",
    "import torch\n",
    "import transformers\n",
    "import datasets\n",
    "import sklearn.metrics\n",
    "import pandas as pd\n",
    "import matplotlib.pyplot as plt\n",
    "import seaborn as sn\n",
    "import tqdm\n",
    "\n",
    "current_dir = os.path.dirname(os.path.abspath(inspect.getfile(inspect.currentframe())))\n",
    "parent_dir = os.path.dirname(current_dir)\n",
    "sys.path.append(parent_dir)\n",
    "\n",
    "import utils\n",
    "\n",
    "# Random seed settings\n",
    "random.seed(random_seed)\n",
    "np.random.seed(random_seed)\n",
    "\n",
    "# cuBLAS reproducibility\n",
    "# https://docs.nvidia.com/cuda/cublas/index.html#cublasApi_reproducibility\n",
    "os.environ['CUBLAS_WORKSPACE_CONFIG'] = \":4096:8\"\n",
    "torch.set_deterministic(True)\n",
    "torch.manual_seed(random_seed)\n",
    "\n",
    "# Print version information\n",
    "print(\"Python version: \" + sys.version)\n",
    "print(\"NumPy version: \" + np.__version__)\n",
    "print(\"PyTorch version: \" + torch.__version__)\n",
    "print(\"Transformers version: \" + transformers.__version__)"
   ]
  },
  {
   "cell_type": "markdown",
   "id": "7765d8e8",
   "metadata": {
    "id": "UWuR30eUoTWP",
    "papermill": {
     "duration": 0.019411,
     "end_time": "2021-05-16T23:59:26.021947",
     "exception": false,
     "start_time": "2021-05-16T23:59:26.002536",
     "status": "completed"
    },
    "tags": []
   },
   "source": [
    "## PyTorch GPU settings"
   ]
  },
  {
   "cell_type": "code",
   "execution_count": 7,
   "id": "7b89ce08",
   "metadata": {
    "colab": {
     "base_uri": "https://localhost:8080/"
    },
    "execution": {
     "iopub.execute_input": "2021-05-16T23:59:26.109213Z",
     "iopub.status.busy": "2021-05-16T23:59:26.108284Z",
     "iopub.status.idle": "2021-05-16T23:59:26.113010Z",
     "shell.execute_reply": "2021-05-16T23:59:26.112579Z"
    },
    "executionInfo": {
     "elapsed": 4810,
     "status": "ok",
     "timestamp": 1621205750943,
     "user": {
      "displayName": "Ronald Seoh",
      "photoUrl": "",
      "userId": "10284188050297676522"
     },
     "user_tz": 240
    },
    "id": "PfNlm-ykoSlM",
    "outputId": "0b394582-6b1d-4c36-8992-2ad4deddac4d",
    "papermill": {
     "duration": 0.067784,
     "end_time": "2021-05-16T23:59:26.113168",
     "exception": false,
     "start_time": "2021-05-16T23:59:26.045384",
     "status": "completed"
    },
    "tags": []
   },
   "outputs": [
    {
     "name": "stdout",
     "output_type": "stream",
     "text": [
      "CUDA Version: 10.2\n",
      "cuDNN Version: 7605\n",
      "CUDA Device Name: Tesla T4\n",
      "CUDA Capabilities: (7, 5)\n",
      "Number of CUDA devices: 1\n",
      "\n",
      "PyTorch device selected: cuda\n"
     ]
    }
   ],
   "source": [
    "if torch.cuda.is_available():    \n",
    "    torch_device = torch.device('cuda')\n",
    "\n",
    "    # Set this to True to make your output immediately reproducible\n",
    "    # Note: https://pytorch.org/docs/stable/notes/randomness.html\n",
    "    torch.backends.cudnn.deterministic = True\n",
    "    \n",
    "    # Disable 'benchmark' mode: Set this False if you want to measure running times more fairly\n",
    "    # Note: https://discuss.pytorch.org/t/what-does-torch-backends-cudnn-benchmark-do/5936\n",
    "    torch.backends.cudnn.benchmark = False\n",
    "    \n",
    "    # Faster Host to GPU copies with page-locked memory\n",
    "    use_pin_memory = True\n",
    "    \n",
    "    # Number of compute devices to be used for training\n",
    "    training_device_count = torch.cuda.device_count()\n",
    "\n",
    "    # CUDA libraries version information\n",
    "    print(\"CUDA Version: \" + str(torch.version.cuda))\n",
    "    print(\"cuDNN Version: \" + str(torch.backends.cudnn.version()))\n",
    "    print(\"CUDA Device Name: \" + str(torch.cuda.get_device_name()))\n",
    "    print(\"CUDA Capabilities: \"+ str(torch.cuda.get_device_capability()))\n",
    "    print(\"Number of CUDA devices: \"+ str(training_device_count))\n",
    "    \n",
    "else:\n",
    "    torch_device = torch.device('cpu')\n",
    "    use_pin_memory = False\n",
    "    \n",
    "    # Number of compute devices to be used for training\n",
    "    training_device_count = 1\n",
    "\n",
    "print()\n",
    "print(\"PyTorch device selected:\", torch_device)"
   ]
  },
  {
   "cell_type": "markdown",
   "id": "a7526bb2",
   "metadata": {
    "id": "ayX5VRLfocFk",
    "papermill": {
     "duration": 0.018117,
     "end_time": "2021-05-16T23:59:26.150789",
     "exception": false,
     "start_time": "2021-05-16T23:59:26.132672",
     "status": "completed"
    },
    "tags": []
   },
   "source": [
    "# Prepare Datasets for Prompt-based Classifier"
   ]
  },
  {
   "cell_type": "markdown",
   "id": "cef31378",
   "metadata": {
    "id": "U9LAAJP-hbz7",
    "papermill": {
     "duration": 0.020961,
     "end_time": "2021-05-16T23:59:26.192090",
     "exception": false,
     "start_time": "2021-05-16T23:59:26.171129",
     "status": "completed"
    },
    "tags": []
   },
   "source": [
    "## Load the SemEval dataset"
   ]
  },
  {
   "cell_type": "code",
   "execution_count": 8,
   "id": "fe6fa9cc",
   "metadata": {
    "colab": {
     "base_uri": "https://localhost:8080/"
    },
    "execution": {
     "iopub.execute_input": "2021-05-16T23:59:26.240809Z",
     "iopub.status.busy": "2021-05-16T23:59:26.240257Z",
     "iopub.status.idle": "2021-05-16T23:59:26.391551Z",
     "shell.execute_reply": "2021-05-16T23:59:26.390623Z"
    },
    "executionInfo": {
     "elapsed": 4791,
     "status": "ok",
     "timestamp": 1621205750951,
     "user": {
      "displayName": "Ronald Seoh",
      "photoUrl": "",
      "userId": "10284188050297676522"
     },
     "user_tz": 240
    },
    "id": "gpL2uHPUhbz9",
    "outputId": "59618a56-64fe-4b1f-851c-8de1176a6bcc",
    "papermill": {
     "duration": 0.174625,
     "end_time": "2021-05-16T23:59:26.391762",
     "exception": false,
     "start_time": "2021-05-16T23:59:26.217137",
     "status": "completed"
    },
    "tags": []
   },
   "outputs": [
    {
     "name": "stderr",
     "output_type": "stream",
     "text": [
      "Using custom data configuration default\n"
     ]
    },
    {
     "name": "stderr",
     "output_type": "stream",
     "text": [
      "Reusing dataset sem_eval2014_task4_dataset (../dataset_cache/sem_eval2014_task4_dataset/default-3ab1dc8a0753d3b8/0.0.1/537edd3b5fdbdb1f3190419cf0a53a4fab3537bc666f17c8c75fa8d0b554e529)\n"
     ]
    },
    {
     "name": "stderr",
     "output_type": "stream",
     "text": [
      "Using custom data configuration default\n"
     ]
    },
    {
     "name": "stderr",
     "output_type": "stream",
     "text": [
      "Reusing dataset sem_eval2014_task4_dataset (../dataset_cache/sem_eval2014_task4_dataset/default-956f09c80828d7d4/0.0.1/537edd3b5fdbdb1f3190419cf0a53a4fab3537bc666f17c8c75fa8d0b554e529)\n"
     ]
    }
   ],
   "source": [
    "# Load semeval for both domains\n",
    "laptops_dataset = datasets.load_dataset(\n",
    "    os.path.abspath('../dataset_scripts/semeval2014_task4/semeval2014_task4.py'),\n",
    "    data_files={\n",
    "        'test': '../dataset_files/semeval_2014/Laptops_Test_Gold.xml',\n",
    "        'train': '../dataset_files/semeval_2014/Laptop_Train_v2.xml',\n",
    "    },\n",
    "    cache_dir='../dataset_cache')\n",
    "\n",
    "restaurants_dataset = datasets.load_dataset(\n",
    "    os.path.abspath('../dataset_scripts/semeval2014_task4/semeval2014_task4.py'),\n",
    "    data_files={\n",
    "        'test': '../dataset_files/semeval_2014/Restaurants_Test_Gold.xml',\n",
    "        'train': '../dataset_files/semeval_2014/Restaurants_Train_v2.xml',\n",
    "    },\n",
    "    cache_dir='../dataset_cache')"
   ]
  },
  {
   "cell_type": "code",
   "execution_count": 9,
   "id": "2d643722",
   "metadata": {
    "execution": {
     "iopub.execute_input": "2021-05-16T23:59:26.445121Z",
     "iopub.status.busy": "2021-05-16T23:59:26.444259Z",
     "iopub.status.idle": "2021-05-16T23:59:26.446660Z",
     "shell.execute_reply": "2021-05-16T23:59:26.446246Z"
    },
    "id": "Gi5m8AbPj1iJ",
    "papermill": {
     "duration": 0.029891,
     "end_time": "2021-05-16T23:59:26.446778",
     "exception": false,
     "start_time": "2021-05-16T23:59:26.416887",
     "status": "completed"
    },
    "tags": []
   },
   "outputs": [],
   "source": [
    "if testing_domain == 'laptops':\n",
    "    test_set = laptops_dataset['test']\n",
    "elif testing_domain == 'restaurants':\n",
    "    test_set = restaurants_dataset['test']\n",
    "elif testing_domain == 'joint':\n",
    "    test_set = laptops_dataset['test'] + restaurants_dataset['test']"
   ]
  },
  {
   "cell_type": "code",
   "execution_count": 10,
   "id": "bbc8aabb",
   "metadata": {
    "colab": {
     "base_uri": "https://localhost:8080/"
    },
    "execution": {
     "iopub.execute_input": "2021-05-16T23:59:26.491643Z",
     "iopub.status.busy": "2021-05-16T23:59:26.490101Z",
     "iopub.status.idle": "2021-05-16T23:59:26.493264Z",
     "shell.execute_reply": "2021-05-16T23:59:26.492799Z"
    },
    "executionInfo": {
     "elapsed": 4742,
     "status": "ok",
     "timestamp": 1621205750960,
     "user": {
      "displayName": "Ronald Seoh",
      "photoUrl": "",
      "userId": "10284188050297676522"
     },
     "user_tz": 240
    },
    "id": "Est9ao9rcH4l",
    "outputId": "d703c459-1dc3-4a37-a989-d817046e3952",
    "papermill": {
     "duration": 0.026109,
     "end_time": "2021-05-16T23:59:26.493386",
     "exception": false,
     "start_time": "2021-05-16T23:59:26.467277",
     "status": "completed"
    },
    "tags": []
   },
   "outputs": [
    {
     "name": "stdout",
     "output_type": "stream",
     "text": [
      "638\n"
     ]
    }
   ],
   "source": [
    "print(len(test_set))"
   ]
  },
  {
   "cell_type": "code",
   "execution_count": 11,
   "id": "f5353ee3",
   "metadata": {
    "colab": {
     "base_uri": "https://localhost:8080/"
    },
    "execution": {
     "iopub.execute_input": "2021-05-16T23:59:26.538672Z",
     "iopub.status.busy": "2021-05-16T23:59:26.537169Z",
     "iopub.status.idle": "2021-05-16T23:59:26.540277Z",
     "shell.execute_reply": "2021-05-16T23:59:26.539834Z"
    },
    "executionInfo": {
     "elapsed": 4722,
     "status": "ok",
     "timestamp": 1621205750964,
     "user": {
      "displayName": "Ronald Seoh",
      "photoUrl": "",
      "userId": "10284188050297676522"
     },
     "user_tz": 240
    },
    "id": "_npZeCIqcKjT",
    "outputId": "311bc8cf-8cf2-4be4-c39f-784e1fa64cdc",
    "papermill": {
     "duration": 0.026365,
     "end_time": "2021-05-16T23:59:26.540395",
     "exception": false,
     "start_time": "2021-05-16T23:59:26.514030",
     "status": "completed"
    },
    "tags": []
   },
   "outputs": [
    {
     "name": "stdout",
     "output_type": "stream",
     "text": [
      "{'aspect': 'touchscreen functions', 'sentiment': 1, 'text': 'Did not enjoy the new Windows 8 and touchscreen functions.'}\n"
     ]
    }
   ],
   "source": [
    "print(test_set[4])"
   ]
  },
  {
   "cell_type": "markdown",
   "id": "66f94fe8",
   "metadata": {
    "id": "6TOMmAtIvoZ_",
    "papermill": {
     "duration": 0.026421,
     "end_time": "2021-05-16T23:59:26.588672",
     "exception": false,
     "start_time": "2021-05-16T23:59:26.562251",
     "status": "completed"
    },
    "tags": []
   },
   "source": [
    "# Zero-shot ATSC with Prompts"
   ]
  },
  {
   "cell_type": "markdown",
   "id": "d000e4b6",
   "metadata": {
    "id": "3jNAtuv-hbzv",
    "papermill": {
     "duration": 0.05305,
     "end_time": "2021-05-16T23:59:26.664307",
     "exception": false,
     "start_time": "2021-05-16T23:59:26.611257",
     "status": "completed"
    },
    "tags": []
   },
   "source": [
    "## Initialize BERT MLM"
   ]
  },
  {
   "cell_type": "code",
   "execution_count": 12,
   "id": "d75dcb7a",
   "metadata": {
    "execution": {
     "iopub.execute_input": "2021-05-16T23:59:26.717083Z",
     "iopub.status.busy": "2021-05-16T23:59:26.716558Z",
     "iopub.status.idle": "2021-05-16T23:59:30.338121Z",
     "shell.execute_reply": "2021-05-16T23:59:30.337550Z"
    },
    "id": "En2BmfjVhbzy",
    "papermill": {
     "duration": 3.650098,
     "end_time": "2021-05-16T23:59:30.338281",
     "exception": false,
     "start_time": "2021-05-16T23:59:26.688183",
     "status": "completed"
    },
    "tags": []
   },
   "outputs": [],
   "source": [
    "# Load pretrained language model\n",
    "# Use the config, but not the actual weights, from the pretrained model\n",
    "lm_config = transformers.AutoConfig.from_pretrained('bert-base-uncased', cache_dir='../bert_base_cache')\n",
    "lm = transformers.AutoModelForMaskedLM.from_config(lm_config)\n",
    "tokenizer = transformers.AutoTokenizer.from_pretrained('bert-base-uncased', cache_dir='../bert_base_cache')"
   ]
  },
  {
   "cell_type": "markdown",
   "id": "be0b72b7",
   "metadata": {
    "id": "TEIbN5Xthb0o",
    "papermill": {
     "duration": 0.021106,
     "end_time": "2021-05-16T23:59:30.380764",
     "exception": false,
     "start_time": "2021-05-16T23:59:30.359658",
     "status": "completed"
    },
    "tags": []
   },
   "source": [
    "## Define a new model with non-trainable softmax head"
   ]
  },
  {
   "cell_type": "code",
   "execution_count": 13,
   "id": "01a14c1a",
   "metadata": {
    "colab": {
     "base_uri": "https://localhost:8080/"
    },
    "execution": {
     "iopub.execute_input": "2021-05-16T23:59:30.539946Z",
     "iopub.status.busy": "2021-05-16T23:59:30.538878Z",
     "iopub.status.idle": "2021-05-16T23:59:33.684854Z",
     "shell.execute_reply": "2021-05-16T23:59:33.685377Z"
    },
    "executionInfo": {
     "elapsed": 12179,
     "status": "ok",
     "timestamp": 1621205758477,
     "user": {
      "displayName": "Ronald Seoh",
      "photoUrl": "",
      "userId": "10284188050297676522"
     },
     "user_tz": 240
    },
    "id": "wN3q4Rsopxby",
    "outputId": "cf327067-d477-47ab-9b28-b7a5aa787e54",
    "papermill": {
     "duration": 3.177981,
     "end_time": "2021-05-16T23:59:33.685578",
     "exception": false,
     "start_time": "2021-05-16T23:59:30.507597",
     "status": "completed"
    },
    "tags": []
   },
   "outputs": [
    {
     "name": "stdout",
     "output_type": "stream",
     "text": [
      "[[2204, 2919, 24436]]\n",
      "Detected LM type: bert\n"
     ]
    }
   ],
   "source": [
    "# Encode the pseudo-label words for each sentiment class\n",
    "sentiment_word_ids = []\n",
    "\n",
    "for sp in sentiment_prompts:\n",
    "    sentiment_word_ids.append(\n",
    "        [tokenizer.convert_tokens_to_ids(w) for w in sp['labels']])\n",
    "\n",
    "print(sentiment_word_ids)\n",
    "\n",
    "classifier_model = utils.MultiPromptLogitSentimentClassificationHead(\n",
    "    lm=lm,\n",
    "    num_class=3,\n",
    "    num_prompts=len(sentiment_prompts), pseudo_label_words=sentiment_word_ids,\n",
    "    target_token_id=tokenizer.mask_token_id,\n",
    "    merge_behavior=prompts_merge_behavior,\n",
    "    perturb_prompts=prompts_perturb)\n",
    "\n",
    "classifier_model = classifier_model.to(device=torch_device)"
   ]
  },
  {
   "cell_type": "markdown",
   "id": "aa5d26e6",
   "metadata": {
    "id": "1U6B5GNSYBYk",
    "papermill": {
     "duration": 0.020827,
     "end_time": "2021-05-16T23:59:33.729101",
     "exception": false,
     "start_time": "2021-05-16T23:59:33.708274",
     "status": "completed"
    },
    "tags": []
   },
   "source": [
    "## Load our saved weights"
   ]
  },
  {
   "cell_type": "code",
   "execution_count": 14,
   "id": "6f4a1cd3",
   "metadata": {
    "colab": {
     "base_uri": "https://localhost:8080/"
    },
    "execution": {
     "iopub.execute_input": "2021-05-16T23:59:33.785053Z",
     "iopub.status.busy": "2021-05-16T23:59:33.784508Z",
     "iopub.status.idle": "2021-05-16T23:59:40.292091Z",
     "shell.execute_reply": "2021-05-16T23:59:40.291317Z"
    },
    "executionInfo": {
     "elapsed": 18241,
     "status": "ok",
     "timestamp": 1621205764572,
     "user": {
      "displayName": "Ronald Seoh",
      "photoUrl": "",
      "userId": "10284188050297676522"
     },
     "user_tz": 240
    },
    "id": "gLo25nUcYBGx",
    "outputId": "feeb6818-5be6-4862-f7ba-01d4c8f67ae1",
    "papermill": {
     "duration": 6.539991,
     "end_time": "2021-05-16T23:59:40.292258",
     "exception": false,
     "start_time": "2021-05-16T23:59:33.752267",
     "status": "completed"
    },
    "tags": []
   },
   "outputs": [
    {
     "name": "stdout",
     "output_type": "stream",
     "text": [
      "Loading epoch_17.pt\n"
     ]
    },
    {
     "data": {
      "text/plain": [
       "<All keys matched successfully>"
      ]
     },
     "execution_count": 14,
     "metadata": {},
     "output_type": "execute_result"
    }
   ],
   "source": [
    "# Locate the weight file.\n",
    "trained_model_directory = os.path.join('..', 'trained_models_prompts', experiment_id)\n",
    "\n",
    "saved_weights_name = ''\n",
    "\n",
    "for fname in os.listdir(trained_model_directory):\n",
    "    if fname.startswith('epoch'):\n",
    "        saved_weights_name = fname\n",
    "        break\n",
    "\n",
    "print(\"Loading\", saved_weights_name)\n",
    "\n",
    "classifier_model.load_state_dict(torch.load(\n",
    "    os.path.join(trained_model_directory, saved_weights_name),\n",
    "    map_location=torch_device))"
   ]
  },
  {
   "cell_type": "markdown",
   "id": "67a14b04",
   "metadata": {
    "id": "1l1H_XIPhb0y",
    "papermill": {
     "duration": 0.028078,
     "end_time": "2021-05-16T23:59:40.346762",
     "exception": false,
     "start_time": "2021-05-16T23:59:40.318684",
     "status": "completed"
    },
    "tags": []
   },
   "source": [
    "## Evaluation with in-domain test set\n",
    "\n"
   ]
  },
  {
   "cell_type": "code",
   "execution_count": 15,
   "id": "b0788d28",
   "metadata": {
    "execution": {
     "iopub.execute_input": "2021-05-16T23:59:40.400763Z",
     "iopub.status.busy": "2021-05-16T23:59:40.399221Z",
     "iopub.status.idle": "2021-05-16T23:59:40.401395Z",
     "shell.execute_reply": "2021-05-16T23:59:40.401771Z"
    },
    "id": "0S80DoYrqApi",
    "papermill": {
     "duration": 0.029536,
     "end_time": "2021-05-16T23:59:40.401931",
     "exception": false,
     "start_time": "2021-05-16T23:59:40.372395",
     "status": "completed"
    },
    "tags": []
   },
   "outputs": [],
   "source": [
    "def compute_metrics(predictions, labels):\n",
    "    preds = predictions.argmax(-1)\n",
    "\n",
    "    precision, recall, f1, _ = sklearn.metrics.precision_recall_fscore_support(\n",
    "        y_true=labels, y_pred=preds, labels=[0,1,2], average=None)\n",
    "\n",
    "    acc = sklearn.metrics.accuracy_score(labels, preds)\n",
    "\n",
    "    f1_dict = {'0': f1[0], '1': f1[1], '2': f1[2]}\n",
    "    precision_dict = {'0': precision[0], '1': precision[1], '2': precision[2]}\n",
    "    recall_dict = {'0': recall[0], '1': recall[1], '2': recall[2]}\n",
    "\n",
    "    return {\n",
    "        'accuracy': acc,\n",
    "        'f1': f1_dict,\n",
    "        'precision': precision_dict,\n",
    "        'recall': recall_dict\n",
    "    }"
   ]
  },
  {
   "cell_type": "code",
   "execution_count": 16,
   "id": "2e6775e6",
   "metadata": {
    "execution": {
     "iopub.execute_input": "2021-05-16T23:59:40.464009Z",
     "iopub.status.busy": "2021-05-16T23:59:40.463096Z",
     "iopub.status.idle": "2021-05-16T23:59:40.465589Z",
     "shell.execute_reply": "2021-05-16T23:59:40.464930Z"
    },
    "id": "9NXoBTs5h2eO",
    "papermill": {
     "duration": 0.038467,
     "end_time": "2021-05-16T23:59:40.465746",
     "exception": false,
     "start_time": "2021-05-16T23:59:40.427279",
     "status": "completed"
    },
    "tags": []
   },
   "outputs": [],
   "source": [
    "test_dataloader = torch.utils.data.DataLoader(\n",
    "    test_set, batch_size=testing_batch_size, pin_memory=use_pin_memory)"
   ]
  },
  {
   "cell_type": "code",
   "execution_count": 17,
   "id": "a076ab28",
   "metadata": {
    "colab": {
     "base_uri": "https://localhost:8080/",
     "height": 104,
     "referenced_widgets": [
      "a90e9ffa71184f0f8e356d5ea1ec9838",
      "220516b041c64ef18dee25140576b013",
      "9a30506637ec47dc8e440db4d0b65d1b",
      "47074cc610064647963d6cbd030fb77b",
      "dbf2c79a831c4b60bcd561cd0283fe23",
      "87c7149ce0af40d0b18ab008682e4215",
      "2b0ca12265814a6e9642127638a9dca3",
      "5eb88b83fc6e4b5689b98a38fc82d91c"
     ]
    },
    "execution": {
     "iopub.execute_input": "2021-05-16T23:59:40.538983Z",
     "iopub.status.busy": "2021-05-16T23:59:40.537778Z",
     "iopub.status.idle": "2021-05-16T23:59:52.226193Z",
     "shell.execute_reply": "2021-05-16T23:59:52.226591Z"
    },
    "executionInfo": {
     "elapsed": 20718,
     "status": "ok",
     "timestamp": 1621206107560,
     "user": {
      "displayName": "Ronald Seoh",
      "photoUrl": "",
      "userId": "10284188050297676522"
     },
     "user_tz": 240
    },
    "id": "LLcc_wZjhb0y",
    "outputId": "0d1681c3-7642-4283-8c7f-d96df17a4d93",
    "papermill": {
     "duration": 11.737464,
     "end_time": "2021-05-16T23:59:52.226761",
     "exception": false,
     "start_time": "2021-05-16T23:59:40.489297",
     "status": "completed"
    },
    "tags": []
   },
   "outputs": [
    {
     "data": {
      "application/vnd.jupyter.widget-view+json": {
       "model_id": "9ff3d87e422e4be2875b2e2840f9a609",
       "version_major": 2,
       "version_minor": 0
      },
      "text/plain": [
       "HBox(children=(FloatProgress(value=0.0, max=20.0), HTML(value='')))"
      ]
     },
     "metadata": {},
     "output_type": "display_data"
    },
    {
     "name": "stdout",
     "output_type": "stream",
     "text": [
      "\n",
      "{'accuracy': 0.6755485893416928, 'f1': {'0': 0.850480109739369, '1': 0.47747747747747743, '2': 0.4184615384615384}, 'precision': {'0': 0.7989690721649485, '1': 0.5638297872340425, '2': 0.4358974358974359}, 'recall': {'0': 0.9090909090909091, '1': 0.4140625, '2': 0.40236686390532544}}\n"
     ]
    }
   ],
   "source": [
    "with torch.no_grad():\n",
    "    classifier_model.eval()\n",
    "\n",
    "    predictions_test = torch.Tensor([])\n",
    "    labels_test = torch.Tensor([])\n",
    "\n",
    "    for batch_val in tqdm.notebook.tqdm(test_dataloader):\n",
    "\n",
    "        reviews_repeated = []\n",
    "        prompts_populated = []\n",
    "\n",
    "        for prompt in sentiment_prompts:\n",
    "            reviews_repeated = reviews_repeated + batch_val[\"text\"]\n",
    "\n",
    "            for aspect in batch_val[\"aspect\"]:\n",
    "                prompts_populated.append(prompt['prompt'].format(aspect=aspect))\n",
    "\n",
    "        batch_encoded = tokenizer(\n",
    "            reviews_repeated, prompts_populated,\n",
    "            padding='max_length', truncation='only_first', max_length=256,\n",
    "            return_tensors='pt')\n",
    "        \n",
    "        batch_encoded.to(torch_device)\n",
    "\n",
    "        labels = batch_val[\"sentiment\"]\n",
    "\n",
    "        outputs = classifier_model(batch_encoded)\n",
    "\n",
    "        outputs = outputs.to('cpu')\n",
    "\n",
    "        predictions_test = torch.cat([predictions_test, outputs])\n",
    "        labels_test = torch.cat([labels_test, labels])\n",
    "\n",
    "    # Compute metrics\n",
    "    test_metrics = compute_metrics(predictions_test, labels_test)\n",
    "\n",
    "    print(test_metrics)\n",
    "\n",
    "    # Save test_metrics into a file for later processing\n",
    "    with open(os.path.join(trained_model_directory, 'test_metrics_micro_f1.json'), 'w') as test_metrics_json:\n",
    "        json.dump(test_metrics, test_metrics_json)"
   ]
  },
  {
   "cell_type": "markdown",
   "id": "c7245631",
   "metadata": {
    "id": "HjpA_0m1hb08",
    "papermill": {
     "duration": 0.028669,
     "end_time": "2021-05-16T23:59:52.279926",
     "exception": false,
     "start_time": "2021-05-16T23:59:52.251257",
     "status": "completed"
    },
    "tags": []
   },
   "source": [
    "## Results visualization"
   ]
  },
  {
   "cell_type": "code",
   "execution_count": 18,
   "id": "361982ba",
   "metadata": {
    "colab": {
     "base_uri": "https://localhost:8080/",
     "height": 442
    },
    "execution": {
     "iopub.execute_input": "2021-05-16T23:59:52.345637Z",
     "iopub.status.busy": "2021-05-16T23:59:52.344807Z",
     "iopub.status.idle": "2021-05-16T23:59:52.562085Z",
     "shell.execute_reply": "2021-05-16T23:59:52.562700Z"
    },
    "executionInfo": {
     "elapsed": 95048,
     "status": "ok",
     "timestamp": 1620419019476,
     "user": {
      "displayName": "Ronald Seoh",
      "photoUrl": "",
      "userId": "10284188050297676522"
     },
     "user_tz": 240
    },
    "id": "w9G9AUeQhb09",
    "outputId": "06eb5449-2881-43c4-98b5-ad2cee1f476f",
    "papermill": {
     "duration": 0.245598,
     "end_time": "2021-05-16T23:59:52.562890",
     "exception": false,
     "start_time": "2021-05-16T23:59:52.317292",
     "status": "completed"
    },
    "tags": []
   },
   "outputs": [
    {
     "data": {
      "image/png": "[encoded data removed]",
      "text/plain": [
       "<Figure size 720x504 with 2 Axes>"
      ]
     },
     "metadata": {
      "needs_background": "light"
     },
     "output_type": "display_data"
    }
   ],
   "source": [
    "# Calculate metrics and confusion matrix based upon predictions and true labels\n",
    "cm = sklearn.metrics.confusion_matrix(labels_test.detach().numpy(), predictions_test.detach().numpy().argmax(-1))\n",
    "\n",
    "df_cm = pd.DataFrame(\n",
    "    cm,\n",
    "    index=[i for i in [\"positive\", \"negative\", \"neutral\"]],\n",
    "    columns=[i for i in [\"positive\", \"negative\", \"neutral\"]])\n",
    "\n",
    "plt.figure(figsize=(10, 7))\n",
    "\n",
    "ax = sn.heatmap(df_cm, annot=True)\n",
    "\n",
    "ax.set(xlabel='Predicted Label', ylabel='True Label')\n",
    "plt.show()"
   ]
  },
  {
   "cell_type": "code",
   "execution_count": null,
   "id": "14c141cd",
   "metadata": {
    "id": "4Wo_Yk0LY37d",
    "papermill": {
     "duration": 0.035614,
     "end_time": "2021-05-16T23:59:52.623860",
     "exception": false,
     "start_time": "2021-05-16T23:59:52.588246",
     "status": "completed"
    },
    "tags": []
   },
   "outputs": [],
   "source": []
  }
 ],
 "metadata": {
  "accelerator": "GPU",
  "celltoolbar": "Tags",
  "colab": {
   "collapsed_sections": [],
   "name": "bert_prompt_logit_softmax_micro_f1_calc.ipynb",
   "provenance": [],
   "toc_visible": true
  },
  "kernelspec": {
   "display_name": "Python 3",
   "language": "python",
   "name": "python3"
  },
  "language_info": {
   "codemirror_mode": {
    "name": "ipython",
    "version": 3
   },
   "file_extension": ".py",
   "mimetype": "text/x-python",
   "name": "python",
   "nbconvert_exporter": "python",
   "pygments_lexer": "ipython3",
   "version": "3.7.10"
  },
  "papermill": {
   "default_parameters": {},
   "duration": 30.476095,
   "end_time": "2021-05-16T23:59:53.364100",
   "environment_variables": {},
   "exception": null,
   "input_path": "bert_prompt_logit_softmax_micro_f1_calc.ipynb",
   "output_path": "results_bert_16_shot_prompt_logit_softmax_atsc_laptops/bert_16_shot_prompt_logit_softmax_atsc_laptops_bert_amazon_electronics_single_prompt_made_me_feel_683.ipynb",
   "parameters": {
    "experiment_id": "bert_16_shot_prompt_logit_softmax_atsc_laptops_bert_amazon_electronics_single_prompt_made_me_feel_683",
    "lm_model_path": "../progress/lm_further_pretraining_bert_amazon_electronics_bseoh_2021-03-06--18_59_53/results/checkpoint-1180388",
    "prompts_merge_behavior": "sum_logits",
    "prompts_perturb": false,
    "random_seed": 683,
    "sentiment_prompts": [
     {
      "labels": [
       "good",
       "bad",
       "indifferent"
      ],
      "prompt": "The {aspect} made me feel [MASK]."
     }
    ],
    "testing_batch_size": 32,
    "testing_domain": "laptops"
   },
   "start_time": "2021-05-16T23:59:22.888005",
   "version": "2.3.2"
  },
  "widgets": {
   "application/vnd.jupyter.widget-state+json": {
    "state": {
     "119df47a776d4d529e48a4057af5d47b": {
      "model_module": "@jupyter-widgets/controls",
      "model_module_version": "1.5.0",
      "model_name": "ProgressStyleModel",
      "state": {
       "_model_module": "@jupyter-widgets/controls",
       "_model_module_version": "1.5.0",
       "_model_name": "ProgressStyleModel",
       "_view_count": null,
       "_view_module": "@jupyter-widgets/base",
       "_view_module_version": "1.2.0",
       "_view_name": "StyleView",
       "bar_color": null,
       "description_width": "initial"
      }
     },
     "17ae911e434d45d4b9ba0983dc7370a3": {
      "model_module": "@jupyter-widgets/base",
      "model_module_version": "1.2.0",
      "model_name": "LayoutModel",
      "state": {
       "_model_module": "@jupyter-widgets/base",
       "_model_module_version": "1.2.0",
       "_model_name": "LayoutModel",
       "_view_count": null,
       "_view_module": "@jupyter-widgets/base",
       "_view_module_version": "1.2.0",
       "_view_name": "LayoutView",
       "align_content": null,
       "align_items": null,
       "align_self": null,
       "border": null,
       "bottom": null,
       "display": null,
       "flex": null,
       "flex_flow": null,
       "grid_area": null,
       "grid_auto_columns": null,
       "grid_auto_flow": null,
       "grid_auto_rows": null,
       "grid_column": null,
       "grid_gap": null,
       "grid_row": null,
       "grid_template_areas": null,
       "grid_template_columns": null,
       "grid_template_rows": null,
       "height": null,
       "justify_content": null,
       "justify_items": null,
       "left": null,
       "margin": null,
       "max_height": null,
       "max_width": null,
       "min_height": null,
       "min_width": null,
       "object_fit": null,
       "object_position": null,
       "order": null,
       "overflow": null,
       "overflow_x": null,
       "overflow_y": null,
       "padding": null,
       "right": null,
       "top": null,
       "visibility": null,
       "width": null
      }
     },
     "31f616b54bc740e49fbf8807cd89619d": {
      "model_module": "@jupyter-widgets/base",
      "model_module_version": "1.2.0",
      "model_name": "LayoutModel",
      "state": {
       "_model_module": "@jupyter-widgets/base",
       "_model_module_version": "1.2.0",
       "_model_name": "LayoutModel",
       "_view_count": null,
       "_view_module": "@jupyter-widgets/base",
       "_view_module_version": "1.2.0",
       "_view_name": "LayoutView",
       "align_content": null,
       "align_items": null,
       "align_self": null,
       "border": null,
       "bottom": null,
       "display": null,
       "flex": null,
       "flex_flow": null,
       "grid_area": null,
       "grid_auto_columns": null,
       "grid_auto_flow": null,
       "grid_auto_rows": null,
       "grid_column": null,
       "grid_gap": null,
       "grid_row": null,
       "grid_template_areas": null,
       "grid_template_columns": null,
       "grid_template_rows": null,
       "height": null,
       "justify_content": null,
       "justify_items": null,
       "left": null,
       "margin": null,
       "max_height": null,
       "max_width": null,
       "min_height": null,
       "min_width": null,
       "object_fit": null,
       "object_position": null,
       "order": null,
       "overflow": null,
       "overflow_x": null,
       "overflow_y": null,
       "padding": null,
       "right": null,
       "top": null,
       "visibility": null,
       "width": null
      }
     },
     "53356b2c784b46a48ed4a1aada98b4d6": {
      "model_module": "@jupyter-widgets/controls",
      "model_module_version": "1.5.0",
      "model_name": "HTMLModel",
      "state": {
       "_dom_classes": [],
       "_model_module": "@jupyter-widgets/controls",
       "_model_module_version": "1.5.0",
       "_model_name": "HTMLModel",
       "_view_count": null,
       "_view_module": "@jupyter-widgets/controls",
       "_view_module_version": "1.5.0",
       "_view_name": "HTMLView",
       "description": "",
       "description_tooltip": null,
       "layout": "IPY_MODEL_31f616b54bc740e49fbf8807cd89619d",
       "placeholder": "​",
       "style": "IPY_MODEL_fe15144888ee41bdb516c2072dedca2d",
       "value": " 20/20 [00:11&lt;00:00,  1.69it/s]"
      }
     },
     "9ff3d87e422e4be2875b2e2840f9a609": {
      "model_module": "@jupyter-widgets/controls",
      "model_module_version": "1.5.0",
      "model_name": "HBoxModel",
      "state": {
       "_dom_classes": [],
       "_model_module": "@jupyter-widgets/controls",
       "_model_module_version": "1.5.0",
       "_model_name": "HBoxModel",
       "_view_count": null,
       "_view_module": "@jupyter-widgets/controls",
       "_view_module_version": "1.5.0",
       "_view_name": "HBoxView",
       "box_style": "",
       "children": [
        "IPY_MODEL_ee47dd0799b24e5c979e8ed2b109ca2d",
        "IPY_MODEL_53356b2c784b46a48ed4a1aada98b4d6"
       ],
       "layout": "IPY_MODEL_17ae911e434d45d4b9ba0983dc7370a3"
      }
     },
     "ee47dd0799b24e5c979e8ed2b109ca2d": {
      "model_module": "@jupyter-widgets/controls",
      "model_module_version": "1.5.0",
      "model_name": "FloatProgressModel",
      "state": {
       "_dom_classes": [],
       "_model_module": "@jupyter-widgets/controls",
       "_model_module_version": "1.5.0",
       "_model_name": "FloatProgressModel",
       "_view_count": null,
       "_view_module": "@jupyter-widgets/controls",
       "_view_module_version": "1.5.0",
       "_view_name": "ProgressView",
       "bar_style": "success",
       "description": "100%",
       "description_tooltip": null,
       "layout": "IPY_MODEL_f76614209dfc46ddb5a659a7f36f90d7",
       "max": 20.0,
       "min": 0.0,
       "orientation": "horizontal",
       "style": "IPY_MODEL_119df47a776d4d529e48a4057af5d47b",
       "value": 20.0
      }
     },
     "f76614209dfc46ddb5a659a7f36f90d7": {
      "model_module": "@jupyter-widgets/base",
      "model_module_version": "1.2.0",
      "model_name": "LayoutModel",
      "state": {
       "_model_module": "@jupyter-widgets/base",
       "_model_module_version": "1.2.0",
       "_model_name": "LayoutModel",
       "_view_count": null,
       "_view_module": "@jupyter-widgets/base",
       "_view_module_version": "1.2.0",
       "_view_name": "LayoutView",
       "align_content": null,
       "align_items": null,
       "align_self": null,
       "border": null,
       "bottom": null,
       "display": null,
       "flex": null,
       "flex_flow": null,
       "grid_area": null,
       "grid_auto_columns": null,
       "grid_auto_flow": null,
       "grid_auto_rows": null,
       "grid_column": null,
       "grid_gap": null,
       "grid_row": null,
       "grid_template_areas": null,
       "grid_template_columns": null,
       "grid_template_rows": null,
       "height": null,
       "justify_content": null,
       "justify_items": null,
       "left": null,
       "margin": null,
       "max_height": null,
       "max_width": null,
       "min_height": null,
       "min_width": null,
       "object_fit": null,
       "object_position": null,
       "order": null,
       "overflow": null,
       "overflow_x": null,
       "overflow_y": null,
       "padding": null,
       "right": null,
       "top": null,
       "visibility": null,
       "width": null
      }
     },
     "fe15144888ee41bdb516c2072dedca2d": {
      "model_module": "@jupyter-widgets/controls",
      "model_module_version": "1.5.0",
      "model_name": "DescriptionStyleModel",
      "state": {
       "_model_module": "@jupyter-widgets/controls",
       "_model_module_version": "1.5.0",
       "_model_name": "DescriptionStyleModel",
       "_view_count": null,
       "_view_module": "@jupyter-widgets/base",
       "_view_module_version": "1.2.0",
       "_view_name": "StyleView",
       "description_width": ""
      }
     }
    },
    "version_major": 2,
    "version_minor": 0
   }
  }
 },
 "nbformat": 4,
 "nbformat_minor": 5
}