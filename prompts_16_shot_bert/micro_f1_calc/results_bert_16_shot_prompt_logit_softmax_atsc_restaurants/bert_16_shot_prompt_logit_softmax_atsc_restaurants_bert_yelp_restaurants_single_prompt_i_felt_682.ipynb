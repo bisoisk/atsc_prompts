{
 "cells": [
  {
   "cell_type": "markdown",
   "id": "2dbfc766",
   "metadata": {
    "id": "xf3lVTZYhbzA",
    "papermill": {
     "duration": 0.018597,
     "end_time": "2021-05-16T23:34:18.049930",
     "exception": false,
     "start_time": "2021-05-16T23:34:18.031333",
     "status": "completed"
    },
    "tags": []
   },
   "source": [
    "# Initial Setups"
   ]
  },
  {
   "cell_type": "markdown",
   "id": "0881abd2",
   "metadata": {
    "id": "2ORFXeezn5Og",
    "papermill": {
     "duration": 0.024539,
     "end_time": "2021-05-16T23:34:18.096091",
     "exception": false,
     "start_time": "2021-05-16T23:34:18.071552",
     "status": "completed"
    },
    "tags": []
   },
   "source": [
    "## (Google Colab use only)"
   ]
  },
  {
   "cell_type": "code",
   "execution_count": 1,
   "id": "80a32924",
   "metadata": {
    "colab": {
     "base_uri": "https://localhost:8080/"
    },
    "execution": {
     "iopub.execute_input": "2021-05-16T23:34:18.143658Z",
     "iopub.status.busy": "2021-05-16T23:34:18.142755Z",
     "iopub.status.idle": "2021-05-16T23:34:18.145418Z",
     "shell.execute_reply": "2021-05-16T23:34:18.144891Z"
    },
    "executionInfo": {
     "elapsed": 3850,
     "status": "ok",
     "timestamp": 1621205749834,
     "user": {
      "displayName": "Ronald Seoh",
      "photoUrl": "",
      "userId": "10284188050297676522"
     },
     "user_tz": 240
    },
    "id": "YFAQ6IgXn8FK",
    "outputId": "796eb377-79ba-4bdc-df32-a68116d2befd",
    "papermill": {
     "duration": 0.028106,
     "end_time": "2021-05-16T23:34:18.145563",
     "exception": false,
     "start_time": "2021-05-16T23:34:18.117457",
     "status": "completed"
    },
    "tags": []
   },
   "outputs": [],
   "source": [
    "# Use Google Colab\n",
    "use_colab = False\n",
    "\n",
    "# Is this notebook running on Colab?\n",
    "# If so, then google.colab package (github.com/googlecolab/colabtools)\n",
    "# should be available in this environment\n",
    "\n",
    "# Previous version used importlib, but we could do the same thing with\n",
    "# just attempting to import google.colab\n",
    "try:\n",
    "    from google.colab import drive\n",
    "    colab_available = True\n",
    "except:\n",
    "    colab_available = False\n",
    "\n",
    "if use_colab and colab_available:\n",
    "    drive.mount('/content/drive')\n",
    "\n",
    "    # cd to the appropriate working directory under my Google Drive\n",
    "    %cd '/content/drive/My Drive/cs696ds_lexalytics/Ronald Gypsum Prompts'\n",
    "    \n",
    "    # Install packages specified in requirements\n",
    "    !pip install -r requirements.txt\n",
    "\n",
    "    %cd 'micro_f1_calc'\n",
    "    \n",
    "    # List the directory contents\n",
    "    !ls"
   ]
  },
  {
   "cell_type": "markdown",
   "id": "43f7fff4",
   "metadata": {
    "id": "tgzsHF7Zhbzo",
    "papermill": {
     "duration": 0.12468,
     "end_time": "2021-05-16T23:34:18.291646",
     "exception": false,
     "start_time": "2021-05-16T23:34:18.166966",
     "status": "completed"
    },
    "tags": []
   },
   "source": [
    "## Experiment parameters"
   ]
  },
  {
   "cell_type": "code",
   "execution_count": 2,
   "id": "ebd1fd99",
   "metadata": {
    "execution": {
     "iopub.execute_input": "2021-05-16T23:34:18.342693Z",
     "iopub.status.busy": "2021-05-16T23:34:18.341418Z",
     "iopub.status.idle": "2021-05-16T23:34:18.343841Z",
     "shell.execute_reply": "2021-05-16T23:34:18.344616Z"
    },
    "id": "DUpGBmOJhbzs",
    "papermill": {
     "duration": 0.030575,
     "end_time": "2021-05-16T23:34:18.344808",
     "exception": false,
     "start_time": "2021-05-16T23:34:18.314233",
     "status": "completed"
    },
    "tags": [
     "parameters"
    ]
   },
   "outputs": [],
   "source": [
    "# We will use the following string ID to identify this particular (training) experiments\n",
    "# in directory paths and other settings\n",
    "experiment_id = 'bert_16_shot_prompt_logit_softmax_atsc_restaurants_bert_yelp_restaurants_single_prompt_i_felt_589'\n",
    "\n",
    "# Random seed\n",
    "random_seed = 589\n",
    "\n",
    "# path to pretrained MLM model folder or the string \"bert-base-uncased\"\n",
    "lm_model_path = 'bert-base-uncased'\n",
    "\n",
    "# Prompts to be added to the end of each review text\n",
    "# Note: pseudo-labels for each prompt should be given in the order of (positive), (negative), (neutral)\n",
    "sentiment_prompts = [\n",
    "    {\"prompt\": \"I felt the {aspect} was [MASK].\", \"labels\": [\"good\", \"bad\", \"ok\"]},\n",
    "]\n",
    "\n",
    "# Multiple prompt merging behavior\n",
    "prompts_merge_behavior = 'sum_logits'\n",
    "\n",
    "# Perturb the input embeddings of tokens within the prompts\n",
    "prompts_perturb = False\n",
    "\n",
    "# Test settings\n",
    "testing_batch_size = 32\n",
    "testing_domain = 'restaurants' # 'laptops', 'restaurants', 'joint'"
   ]
  },
  {
   "cell_type": "code",
   "execution_count": 3,
   "id": "d8db2db2",
   "metadata": {
    "execution": {
     "iopub.execute_input": "2021-05-16T23:34:18.388538Z",
     "iopub.status.busy": "2021-05-16T23:34:18.387730Z",
     "iopub.status.idle": "2021-05-16T23:34:18.390272Z",
     "shell.execute_reply": "2021-05-16T23:34:18.389722Z"
    },
    "papermill": {
     "duration": 0.02466,
     "end_time": "2021-05-16T23:34:18.390410",
     "exception": false,
     "start_time": "2021-05-16T23:34:18.365750",
     "status": "completed"
    },
    "tags": [
     "injected-parameters"
    ]
   },
   "outputs": [],
   "source": [
    "# Parameters\n",
    "experiment_id = \"bert_16_shot_prompt_logit_softmax_atsc_restaurants_bert_yelp_restaurants_single_prompt_i_felt_682\"\n",
    "random_seed = 682\n",
    "lm_model_path = \"../trained_models/lm_further_pretraining_bert_yelp_restaurants_bseoh_2021-03-22--15_03_31\"\n",
    "sentiment_prompts = [\n",
    "    {\"prompt\": \"I felt the {aspect} was [MASK].\", \"labels\": [\"good\", \"bad\", \"ok\"]}\n",
    "]\n",
    "testing_batch_size = 32\n",
    "testing_domain = \"restaurants\"\n",
    "prompts_merge_behavior = \"sum_logits\"\n",
    "prompts_perturb = False\n"
   ]
  },
  {
   "cell_type": "code",
   "execution_count": 4,
   "id": "8522820a",
   "metadata": {
    "execution": {
     "iopub.execute_input": "2021-05-16T23:34:18.439160Z",
     "iopub.status.busy": "2021-05-16T23:34:18.438332Z",
     "iopub.status.idle": "2021-05-16T23:34:18.440543Z",
     "shell.execute_reply": "2021-05-16T23:34:18.441022Z"
    },
    "id": "AtJhBPXMY36f",
    "papermill": {
     "duration": 0.029765,
     "end_time": "2021-05-16T23:34:18.441187",
     "exception": false,
     "start_time": "2021-05-16T23:34:18.411422",
     "status": "completed"
    },
    "tags": []
   },
   "outputs": [],
   "source": [
    "# Batch size adjustment for multiple prompts.\n",
    "testing_batch_size = testing_batch_size // len(sentiment_prompts)"
   ]
  },
  {
   "cell_type": "code",
   "execution_count": 5,
   "id": "82b0c9d3",
   "metadata": {
    "colab": {
     "base_uri": "https://localhost:8080/"
    },
    "execution": {
     "iopub.execute_input": "2021-05-16T23:34:18.493512Z",
     "iopub.status.busy": "2021-05-16T23:34:18.492837Z",
     "iopub.status.idle": "2021-05-16T23:34:18.495953Z",
     "shell.execute_reply": "2021-05-16T23:34:18.496372Z"
    },
    "executionInfo": {
     "elapsed": 3767,
     "status": "ok",
     "timestamp": 1621205749853,
     "user": {
      "displayName": "Ronald Seoh",
      "photoUrl": "",
      "userId": "10284188050297676522"
     },
     "user_tz": 240
    },
    "id": "keCSh__SY36i",
    "outputId": "44a6f8c0-7df1-431e-eea9-96db930466dc",
    "papermill": {
     "duration": 0.034208,
     "end_time": "2021-05-16T23:34:18.496524",
     "exception": false,
     "start_time": "2021-05-16T23:34:18.462316",
     "status": "completed"
    },
    "tags": []
   },
   "outputs": [
    {
     "name": "stdout",
     "output_type": "stream",
     "text": [
      "Experiment ID: bert_16_shot_prompt_logit_softmax_atsc_restaurants_bert_yelp_restaurants_single_prompt_i_felt_682\n"
     ]
    }
   ],
   "source": [
    "print(\"Experiment ID:\", experiment_id)"
   ]
  },
  {
   "cell_type": "markdown",
   "id": "9197fc22",
   "metadata": {
    "id": "GYZesqTioMvF",
    "papermill": {
     "duration": 0.018312,
     "end_time": "2021-05-16T23:34:18.534597",
     "exception": false,
     "start_time": "2021-05-16T23:34:18.516285",
     "status": "completed"
    },
    "tags": []
   },
   "source": [
    "## Package imports"
   ]
  },
  {
   "cell_type": "code",
   "execution_count": 6,
   "id": "510c904c",
   "metadata": {
    "colab": {
     "base_uri": "https://localhost:8080/"
    },
    "execution": {
     "iopub.execute_input": "2021-05-16T23:34:18.586509Z",
     "iopub.status.busy": "2021-05-16T23:34:18.585504Z",
     "iopub.status.idle": "2021-05-16T23:34:19.807894Z",
     "shell.execute_reply": "2021-05-16T23:34:19.808354Z"
    },
    "executionInfo": {
     "elapsed": 4829,
     "status": "ok",
     "timestamp": 1621205750940,
     "user": {
      "displayName": "Ronald Seoh",
      "photoUrl": "",
      "userId": "10284188050297676522"
     },
     "user_tz": 240
    },
    "id": "MlK_-DrWhbzb",
    "outputId": "3338d527-a7b5-4f67-c825-b2bf63e58d68",
    "papermill": {
     "duration": 1.250672,
     "end_time": "2021-05-16T23:34:19.808539",
     "exception": false,
     "start_time": "2021-05-16T23:34:18.557867",
     "status": "completed"
    },
    "tags": []
   },
   "outputs": [
    {
     "name": "stdout",
     "output_type": "stream",
     "text": [
      "Python version: 3.7.10 (default, May  3 2021, 02:48:31) \n",
      "[GCC 7.5.0]\n",
      "NumPy version: 1.19.5\n",
      "PyTorch version: 1.7.1\n",
      "Transformers version: 4.3.3\n"
     ]
    }
   ],
   "source": [
    "import sys\n",
    "import os\n",
    "import random\n",
    "import shutil\n",
    "import copy\n",
    "import inspect\n",
    "import json\n",
    "\n",
    "import numpy as np\n",
    "import torch\n",
    "import transformers\n",
    "import datasets\n",
    "import sklearn.metrics\n",
    "import pandas as pd\n",
    "import matplotlib.pyplot as plt\n",
    "import seaborn as sn\n",
    "import tqdm\n",
    "\n",
    "current_dir = os.path.dirname(os.path.abspath(inspect.getfile(inspect.currentframe())))\n",
    "parent_dir = os.path.dirname(current_dir)\n",
    "sys.path.append(parent_dir)\n",
    "\n",
    "import utils\n",
    "\n",
    "# Random seed settings\n",
    "random.seed(random_seed)\n",
    "np.random.seed(random_seed)\n",
    "\n",
    "# cuBLAS reproducibility\n",
    "# https://docs.nvidia.com/cuda/cublas/index.html#cublasApi_reproducibility\n",
    "os.environ['CUBLAS_WORKSPACE_CONFIG'] = \":4096:8\"\n",
    "torch.set_deterministic(True)\n",
    "torch.manual_seed(random_seed)\n",
    "\n",
    "# Print version information\n",
    "print(\"Python version: \" + sys.version)\n",
    "print(\"NumPy version: \" + np.__version__)\n",
    "print(\"PyTorch version: \" + torch.__version__)\n",
    "print(\"Transformers version: \" + transformers.__version__)"
   ]
  },
  {
   "cell_type": "markdown",
   "id": "29858fe7",
   "metadata": {
    "id": "UWuR30eUoTWP",
    "papermill": {
     "duration": 0.035756,
     "end_time": "2021-05-16T23:34:19.866595",
     "exception": false,
     "start_time": "2021-05-16T23:34:19.830839",
     "status": "completed"
    },
    "tags": []
   },
   "source": [
    "## PyTorch GPU settings"
   ]
  },
  {
   "cell_type": "code",
   "execution_count": 7,
   "id": "89efc2e8",
   "metadata": {
    "colab": {
     "base_uri": "https://localhost:8080/"
    },
    "execution": {
     "iopub.execute_input": "2021-05-16T23:34:19.945194Z",
     "iopub.status.busy": "2021-05-16T23:34:19.944506Z",
     "iopub.status.idle": "2021-05-16T23:34:19.949375Z",
     "shell.execute_reply": "2021-05-16T23:34:19.948528Z"
    },
    "executionInfo": {
     "elapsed": 4810,
     "status": "ok",
     "timestamp": 1621205750943,
     "user": {
      "displayName": "Ronald Seoh",
      "photoUrl": "",
      "userId": "10284188050297676522"
     },
     "user_tz": 240
    },
    "id": "PfNlm-ykoSlM",
    "outputId": "0b394582-6b1d-4c36-8992-2ad4deddac4d",
    "papermill": {
     "duration": 0.062164,
     "end_time": "2021-05-16T23:34:19.949533",
     "exception": false,
     "start_time": "2021-05-16T23:34:19.887369",
     "status": "completed"
    },
    "tags": []
   },
   "outputs": [
    {
     "name": "stdout",
     "output_type": "stream",
     "text": [
      "CUDA Version: 10.2\n",
      "cuDNN Version: 7605\n",
      "CUDA Device Name: Tesla T4\n",
      "CUDA Capabilities: (7, 5)\n",
      "Number of CUDA devices: 1\n",
      "\n",
      "PyTorch device selected: cuda\n"
     ]
    }
   ],
   "source": [
    "if torch.cuda.is_available():    \n",
    "    torch_device = torch.device('cuda')\n",
    "\n",
    "    # Set this to True to make your output immediately reproducible\n",
    "    # Note: https://pytorch.org/docs/stable/notes/randomness.html\n",
    "    torch.backends.cudnn.deterministic = True\n",
    "    \n",
    "    # Disable 'benchmark' mode: Set this False if you want to measure running times more fairly\n",
    "    # Note: https://discuss.pytorch.org/t/what-does-torch-backends-cudnn-benchmark-do/5936\n",
    "    torch.backends.cudnn.benchmark = False\n",
    "    \n",
    "    # Faster Host to GPU copies with page-locked memory\n",
    "    use_pin_memory = True\n",
    "    \n",
    "    # Number of compute devices to be used for training\n",
    "    training_device_count = torch.cuda.device_count()\n",
    "\n",
    "    # CUDA libraries version information\n",
    "    print(\"CUDA Version: \" + str(torch.version.cuda))\n",
    "    print(\"cuDNN Version: \" + str(torch.backends.cudnn.version()))\n",
    "    print(\"CUDA Device Name: \" + str(torch.cuda.get_device_name()))\n",
    "    print(\"CUDA Capabilities: \"+ str(torch.cuda.get_device_capability()))\n",
    "    print(\"Number of CUDA devices: \"+ str(training_device_count))\n",
    "    \n",
    "else:\n",
    "    torch_device = torch.device('cpu')\n",
    "    use_pin_memory = False\n",
    "    \n",
    "    # Number of compute devices to be used for training\n",
    "    training_device_count = 1\n",
    "\n",
    "print()\n",
    "print(\"PyTorch device selected:\", torch_device)"
   ]
  },
  {
   "cell_type": "markdown",
   "id": "9d4587e0",
   "metadata": {
    "id": "ayX5VRLfocFk",
    "papermill": {
     "duration": 0.089581,
     "end_time": "2021-05-16T23:34:20.060553",
     "exception": false,
     "start_time": "2021-05-16T23:34:19.970972",
     "status": "completed"
    },
    "tags": []
   },
   "source": [
    "# Prepare Datasets for Prompt-based Classifier"
   ]
  },
  {
   "cell_type": "markdown",
   "id": "9992a6ab",
   "metadata": {
    "id": "U9LAAJP-hbz7",
    "papermill": {
     "duration": 0.021873,
     "end_time": "2021-05-16T23:34:20.105862",
     "exception": false,
     "start_time": "2021-05-16T23:34:20.083989",
     "status": "completed"
    },
    "tags": []
   },
   "source": [
    "## Load the SemEval dataset"
   ]
  },
  {
   "cell_type": "code",
   "execution_count": 8,
   "id": "3254d99d",
   "metadata": {
    "colab": {
     "base_uri": "https://localhost:8080/"
    },
    "execution": {
     "iopub.execute_input": "2021-05-16T23:34:20.151603Z",
     "iopub.status.busy": "2021-05-16T23:34:20.150549Z",
     "iopub.status.idle": "2021-05-16T23:34:20.258130Z",
     "shell.execute_reply": "2021-05-16T23:34:20.257624Z"
    },
    "executionInfo": {
     "elapsed": 4791,
     "status": "ok",
     "timestamp": 1621205750951,
     "user": {
      "displayName": "Ronald Seoh",
      "photoUrl": "",
      "userId": "10284188050297676522"
     },
     "user_tz": 240
    },
    "id": "gpL2uHPUhbz9",
    "outputId": "59618a56-64fe-4b1f-851c-8de1176a6bcc",
    "papermill": {
     "duration": 0.130737,
     "end_time": "2021-05-16T23:34:20.258296",
     "exception": false,
     "start_time": "2021-05-16T23:34:20.127559",
     "status": "completed"
    },
    "tags": []
   },
   "outputs": [
    {
     "name": "stderr",
     "output_type": "stream",
     "text": [
      "Using custom data configuration default\n"
     ]
    },
    {
     "name": "stderr",
     "output_type": "stream",
     "text": [
      "Reusing dataset sem_eval2014_task4_dataset (../dataset_cache/sem_eval2014_task4_dataset/default-3ab1dc8a0753d3b8/0.0.1/537edd3b5fdbdb1f3190419cf0a53a4fab3537bc666f17c8c75fa8d0b554e529)\n"
     ]
    },
    {
     "name": "stderr",
     "output_type": "stream",
     "text": [
      "Using custom data configuration default\n"
     ]
    },
    {
     "name": "stderr",
     "output_type": "stream",
     "text": [
      "Reusing dataset sem_eval2014_task4_dataset (../dataset_cache/sem_eval2014_task4_dataset/default-956f09c80828d7d4/0.0.1/537edd3b5fdbdb1f3190419cf0a53a4fab3537bc666f17c8c75fa8d0b554e529)\n"
     ]
    }
   ],
   "source": [
    "# Load semeval for both domains\n",
    "laptops_dataset = datasets.load_dataset(\n",
    "    os.path.abspath('../dataset_scripts/semeval2014_task4/semeval2014_task4.py'),\n",
    "    data_files={\n",
    "        'test': '../dataset_files/semeval_2014/Laptops_Test_Gold.xml',\n",
    "        'train': '../dataset_files/semeval_2014/Laptop_Train_v2.xml',\n",
    "    },\n",
    "    cache_dir='../dataset_cache')\n",
    "\n",
    "restaurants_dataset = datasets.load_dataset(\n",
    "    os.path.abspath('../dataset_scripts/semeval2014_task4/semeval2014_task4.py'),\n",
    "    data_files={\n",
    "        'test': '../dataset_files/semeval_2014/Restaurants_Test_Gold.xml',\n",
    "        'train': '../dataset_files/semeval_2014/Restaurants_Train_v2.xml',\n",
    "    },\n",
    "    cache_dir='../dataset_cache')"
   ]
  },
  {
   "cell_type": "code",
   "execution_count": 9,
   "id": "1319620e",
   "metadata": {
    "execution": {
     "iopub.execute_input": "2021-05-16T23:34:20.311473Z",
     "iopub.status.busy": "2021-05-16T23:34:20.310674Z",
     "iopub.status.idle": "2021-05-16T23:34:20.313158Z",
     "shell.execute_reply": "2021-05-16T23:34:20.312706Z"
    },
    "id": "Gi5m8AbPj1iJ",
    "papermill": {
     "duration": 0.032127,
     "end_time": "2021-05-16T23:34:20.313292",
     "exception": false,
     "start_time": "2021-05-16T23:34:20.281165",
     "status": "completed"
    },
    "tags": []
   },
   "outputs": [],
   "source": [
    "if testing_domain == 'laptops':\n",
    "    test_set = laptops_dataset['test']\n",
    "elif testing_domain == 'restaurants':\n",
    "    test_set = restaurants_dataset['test']\n",
    "elif testing_domain == 'joint':\n",
    "    test_set = laptops_dataset['test'] + restaurants_dataset['test']"
   ]
  },
  {
   "cell_type": "code",
   "execution_count": 10,
   "id": "aee84502",
   "metadata": {
    "colab": {
     "base_uri": "https://localhost:8080/"
    },
    "execution": {
     "iopub.execute_input": "2021-05-16T23:34:20.358814Z",
     "iopub.status.busy": "2021-05-16T23:34:20.358205Z",
     "iopub.status.idle": "2021-05-16T23:34:20.360529Z",
     "shell.execute_reply": "2021-05-16T23:34:20.360924Z"
    },
    "executionInfo": {
     "elapsed": 4742,
     "status": "ok",
     "timestamp": 1621205750960,
     "user": {
      "displayName": "Ronald Seoh",
      "photoUrl": "",
      "userId": "10284188050297676522"
     },
     "user_tz": 240
    },
    "id": "Est9ao9rcH4l",
    "outputId": "d703c459-1dc3-4a37-a989-d817046e3952",
    "papermill": {
     "duration": 0.026545,
     "end_time": "2021-05-16T23:34:20.361075",
     "exception": false,
     "start_time": "2021-05-16T23:34:20.334530",
     "status": "completed"
    },
    "tags": []
   },
   "outputs": [
    {
     "name": "stdout",
     "output_type": "stream",
     "text": [
      "1120\n"
     ]
    }
   ],
   "source": [
    "print(len(test_set))"
   ]
  },
  {
   "cell_type": "code",
   "execution_count": 11,
   "id": "c06cfcda",
   "metadata": {
    "colab": {
     "base_uri": "https://localhost:8080/"
    },
    "execution": {
     "iopub.execute_input": "2021-05-16T23:34:20.418389Z",
     "iopub.status.busy": "2021-05-16T23:34:20.417631Z",
     "iopub.status.idle": "2021-05-16T23:34:20.420122Z",
     "shell.execute_reply": "2021-05-16T23:34:20.420508Z"
    },
    "executionInfo": {
     "elapsed": 4722,
     "status": "ok",
     "timestamp": 1621205750964,
     "user": {
      "displayName": "Ronald Seoh",
      "photoUrl": "",
      "userId": "10284188050297676522"
     },
     "user_tz": 240
    },
    "id": "_npZeCIqcKjT",
    "outputId": "311bc8cf-8cf2-4be4-c39f-784e1fa64cdc",
    "papermill": {
     "duration": 0.037039,
     "end_time": "2021-05-16T23:34:20.420658",
     "exception": false,
     "start_time": "2021-05-16T23:34:20.383619",
     "status": "completed"
    },
    "tags": []
   },
   "outputs": [
    {
     "name": "stdout",
     "output_type": "stream",
     "text": [
      "{'aspect': 'place', 'sentiment': 0, 'text': 'Certainly not the best sushi in New York, however, it is always fresh, and the place is very clean, sterile.'}\n"
     ]
    }
   ],
   "source": [
    "print(test_set[4])"
   ]
  },
  {
   "cell_type": "markdown",
   "id": "51d564a5",
   "metadata": {
    "id": "6TOMmAtIvoZ_",
    "papermill": {
     "duration": 0.020398,
     "end_time": "2021-05-16T23:34:20.462445",
     "exception": false,
     "start_time": "2021-05-16T23:34:20.442047",
     "status": "completed"
    },
    "tags": []
   },
   "source": [
    "# Zero-shot ATSC with Prompts"
   ]
  },
  {
   "cell_type": "markdown",
   "id": "37e1967d",
   "metadata": {
    "id": "3jNAtuv-hbzv",
    "papermill": {
     "duration": 0.037626,
     "end_time": "2021-05-16T23:34:20.599007",
     "exception": false,
     "start_time": "2021-05-16T23:34:20.561381",
     "status": "completed"
    },
    "tags": []
   },
   "source": [
    "## Initialize BERT MLM"
   ]
  },
  {
   "cell_type": "code",
   "execution_count": 12,
   "id": "cae8dd3c",
   "metadata": {
    "execution": {
     "iopub.execute_input": "2021-05-16T23:34:20.647087Z",
     "iopub.status.busy": "2021-05-16T23:34:20.646207Z",
     "iopub.status.idle": "2021-05-16T23:34:24.520667Z",
     "shell.execute_reply": "2021-05-16T23:34:24.521145Z"
    },
    "id": "En2BmfjVhbzy",
    "papermill": {
     "duration": 3.899756,
     "end_time": "2021-05-16T23:34:24.521342",
     "exception": false,
     "start_time": "2021-05-16T23:34:20.621586",
     "status": "completed"
    },
    "tags": []
   },
   "outputs": [],
   "source": [
    "# Load pretrained language model\n",
    "# Use the config, but not the actual weights, from the pretrained model\n",
    "lm_config = transformers.AutoConfig.from_pretrained('bert-base-uncased', cache_dir='../bert_base_cache')\n",
    "lm = transformers.AutoModelForMaskedLM.from_config(lm_config)\n",
    "tokenizer = transformers.AutoTokenizer.from_pretrained('bert-base-uncased', cache_dir='../bert_base_cache')"
   ]
  },
  {
   "cell_type": "markdown",
   "id": "c83a8379",
   "metadata": {
    "id": "TEIbN5Xthb0o",
    "papermill": {
     "duration": 0.030462,
     "end_time": "2021-05-16T23:34:24.575741",
     "exception": false,
     "start_time": "2021-05-16T23:34:24.545279",
     "status": "completed"
    },
    "tags": []
   },
   "source": [
    "## Define a new model with non-trainable softmax head"
   ]
  },
  {
   "cell_type": "code",
   "execution_count": 13,
   "id": "b316550f",
   "metadata": {
    "colab": {
     "base_uri": "https://localhost:8080/"
    },
    "execution": {
     "iopub.execute_input": "2021-05-16T23:34:24.625744Z",
     "iopub.status.busy": "2021-05-16T23:34:24.624680Z",
     "iopub.status.idle": "2021-05-16T23:34:27.823479Z",
     "shell.execute_reply": "2021-05-16T23:34:27.822927Z"
    },
    "executionInfo": {
     "elapsed": 12179,
     "status": "ok",
     "timestamp": 1621205758477,
     "user": {
      "displayName": "Ronald Seoh",
      "photoUrl": "",
      "userId": "10284188050297676522"
     },
     "user_tz": 240
    },
    "id": "wN3q4Rsopxby",
    "outputId": "cf327067-d477-47ab-9b28-b7a5aa787e54",
    "papermill": {
     "duration": 3.226013,
     "end_time": "2021-05-16T23:34:27.823695",
     "exception": false,
     "start_time": "2021-05-16T23:34:24.597682",
     "status": "completed"
    },
    "tags": []
   },
   "outputs": [
    {
     "name": "stdout",
     "output_type": "stream",
     "text": [
      "[[2204, 2919, 7929]]\n",
      "Detected LM type: bert\n"
     ]
    }
   ],
   "source": [
    "# Encode the pseudo-label words for each sentiment class\n",
    "sentiment_word_ids = []\n",
    "\n",
    "for sp in sentiment_prompts:\n",
    "    sentiment_word_ids.append(\n",
    "        [tokenizer.convert_tokens_to_ids(w) for w in sp['labels']])\n",
    "\n",
    "print(sentiment_word_ids)\n",
    "\n",
    "classifier_model = utils.MultiPromptLogitSentimentClassificationHead(\n",
    "    lm=lm,\n",
    "    num_class=3,\n",
    "    num_prompts=len(sentiment_prompts), pseudo_label_words=sentiment_word_ids,\n",
    "    target_token_id=tokenizer.mask_token_id,\n",
    "    merge_behavior=prompts_merge_behavior,\n",
    "    perturb_prompts=prompts_perturb)\n",
    "\n",
    "classifier_model = classifier_model.to(device=torch_device)"
   ]
  },
  {
   "cell_type": "markdown",
   "id": "3089bb1d",
   "metadata": {
    "id": "1U6B5GNSYBYk",
    "papermill": {
     "duration": 0.029585,
     "end_time": "2021-05-16T23:34:27.877444",
     "exception": false,
     "start_time": "2021-05-16T23:34:27.847859",
     "status": "completed"
    },
    "tags": []
   },
   "source": [
    "## Load our saved weights"
   ]
  },
  {
   "cell_type": "code",
   "execution_count": 14,
   "id": "a0b042d1",
   "metadata": {
    "colab": {
     "base_uri": "https://localhost:8080/"
    },
    "execution": {
     "iopub.execute_input": "2021-05-16T23:34:27.926432Z",
     "iopub.status.busy": "2021-05-16T23:34:27.925820Z",
     "iopub.status.idle": "2021-05-16T23:34:34.588496Z",
     "shell.execute_reply": "2021-05-16T23:34:34.587891Z"
    },
    "executionInfo": {
     "elapsed": 18241,
     "status": "ok",
     "timestamp": 1621205764572,
     "user": {
      "displayName": "Ronald Seoh",
      "photoUrl": "",
      "userId": "10284188050297676522"
     },
     "user_tz": 240
    },
    "id": "gLo25nUcYBGx",
    "outputId": "feeb6818-5be6-4862-f7ba-01d4c8f67ae1",
    "papermill": {
     "duration": 6.68865,
     "end_time": "2021-05-16T23:34:34.588655",
     "exception": false,
     "start_time": "2021-05-16T23:34:27.900005",
     "status": "completed"
    },
    "tags": []
   },
   "outputs": [
    {
     "name": "stdout",
     "output_type": "stream",
     "text": [
      "Loading epoch_18.pt\n"
     ]
    },
    {
     "data": {
      "text/plain": [
       "<All keys matched successfully>"
      ]
     },
     "execution_count": 14,
     "metadata": {},
     "output_type": "execute_result"
    }
   ],
   "source": [
    "# Locate the weight file.\n",
    "trained_model_directory = os.path.join('..', 'trained_models_prompts', experiment_id)\n",
    "\n",
    "saved_weights_name = ''\n",
    "\n",
    "for fname in os.listdir(trained_model_directory):\n",
    "    if fname.startswith('epoch'):\n",
    "        saved_weights_name = fname\n",
    "        break\n",
    "\n",
    "print(\"Loading\", saved_weights_name)\n",
    "\n",
    "classifier_model.load_state_dict(torch.load(\n",
    "    os.path.join(trained_model_directory, saved_weights_name),\n",
    "    map_location=torch_device))"
   ]
  },
  {
   "cell_type": "markdown",
   "id": "682e8e5e",
   "metadata": {
    "id": "1l1H_XIPhb0y",
    "papermill": {
     "duration": 0.027522,
     "end_time": "2021-05-16T23:34:34.644397",
     "exception": false,
     "start_time": "2021-05-16T23:34:34.616875",
     "status": "completed"
    },
    "tags": []
   },
   "source": [
    "## Evaluation with in-domain test set\n",
    "\n"
   ]
  },
  {
   "cell_type": "code",
   "execution_count": 15,
   "id": "373ff664",
   "metadata": {
    "execution": {
     "iopub.execute_input": "2021-05-16T23:34:34.706725Z",
     "iopub.status.busy": "2021-05-16T23:34:34.704986Z",
     "iopub.status.idle": "2021-05-16T23:34:34.707321Z",
     "shell.execute_reply": "2021-05-16T23:34:34.707794Z"
    },
    "id": "0S80DoYrqApi",
    "papermill": {
     "duration": 0.031988,
     "end_time": "2021-05-16T23:34:34.707982",
     "exception": false,
     "start_time": "2021-05-16T23:34:34.675994",
     "status": "completed"
    },
    "tags": []
   },
   "outputs": [],
   "source": [
    "def compute_metrics(predictions, labels):\n",
    "    preds = predictions.argmax(-1)\n",
    "\n",
    "    precision, recall, f1, _ = sklearn.metrics.precision_recall_fscore_support(\n",
    "        y_true=labels, y_pred=preds, labels=[0,1,2], average=None)\n",
    "\n",
    "    acc = sklearn.metrics.accuracy_score(labels, preds)\n",
    "\n",
    "    f1_dict = {'0': f1[0], '1': f1[1], '2': f1[2]}\n",
    "    precision_dict = {'0': precision[0], '1': precision[1], '2': precision[2]}\n",
    "    recall_dict = {'0': recall[0], '1': recall[1], '2': recall[2]}\n",
    "\n",
    "    return {\n",
    "        'accuracy': acc,\n",
    "        'f1': f1_dict,\n",
    "        'precision': precision_dict,\n",
    "        'recall': recall_dict\n",
    "    }"
   ]
  },
  {
   "cell_type": "code",
   "execution_count": 16,
   "id": "67fbc273",
   "metadata": {
    "execution": {
     "iopub.execute_input": "2021-05-16T23:34:34.837378Z",
     "iopub.status.busy": "2021-05-16T23:34:34.835646Z",
     "iopub.status.idle": "2021-05-16T23:34:34.838004Z",
     "shell.execute_reply": "2021-05-16T23:34:34.838430Z"
    },
    "id": "9NXoBTs5h2eO",
    "papermill": {
     "duration": 0.103994,
     "end_time": "2021-05-16T23:34:34.838595",
     "exception": false,
     "start_time": "2021-05-16T23:34:34.734601",
     "status": "completed"
    },
    "tags": []
   },
   "outputs": [],
   "source": [
    "test_dataloader = torch.utils.data.DataLoader(\n",
    "    test_set, batch_size=testing_batch_size, pin_memory=use_pin_memory)"
   ]
  },
  {
   "cell_type": "code",
   "execution_count": 17,
   "id": "ac579450",
   "metadata": {
    "colab": {
     "base_uri": "https://localhost:8080/",
     "height": 104,
     "referenced_widgets": [
      "a90e9ffa71184f0f8e356d5ea1ec9838",
      "220516b041c64ef18dee25140576b013",
      "9a30506637ec47dc8e440db4d0b65d1b",
      "47074cc610064647963d6cbd030fb77b",
      "dbf2c79a831c4b60bcd561cd0283fe23",
      "87c7149ce0af40d0b18ab008682e4215",
      "2b0ca12265814a6e9642127638a9dca3",
      "5eb88b83fc6e4b5689b98a38fc82d91c"
     ]
    },
    "execution": {
     "iopub.execute_input": "2021-05-16T23:34:34.920610Z",
     "iopub.status.busy": "2021-05-16T23:34:34.919556Z",
     "iopub.status.idle": "2021-05-16T23:34:55.780573Z",
     "shell.execute_reply": "2021-05-16T23:34:55.780137Z"
    },
    "executionInfo": {
     "elapsed": 20718,
     "status": "ok",
     "timestamp": 1621206107560,
     "user": {
      "displayName": "Ronald Seoh",
      "photoUrl": "",
      "userId": "10284188050297676522"
     },
     "user_tz": 240
    },
    "id": "LLcc_wZjhb0y",
    "outputId": "0d1681c3-7642-4283-8c7f-d96df17a4d93",
    "papermill": {
     "duration": 20.91622,
     "end_time": "2021-05-16T23:34:55.780713",
     "exception": false,
     "start_time": "2021-05-16T23:34:34.864493",
     "status": "completed"
    },
    "tags": []
   },
   "outputs": [
    {
     "data": {
      "application/vnd.jupyter.widget-view+json": {
       "model_id": "72c9093884504146a1ecfdb375cc37f3",
       "version_major": 2,
       "version_minor": 0
      },
      "text/plain": [
       "HBox(children=(FloatProgress(value=0.0, max=35.0), HTML(value='')))"
      ]
     },
     "metadata": {},
     "output_type": "display_data"
    },
    {
     "name": "stdout",
     "output_type": "stream",
     "text": [
      "\n",
      "{'accuracy': 0.7660714285714286, 'f1': {'0': 0.8733290897517505, '1': 0.7156862745098039, '2': 0.19923371647509577}, 'precision': {'0': 0.8137603795966786, '1': 0.6886792452830188, '2': 0.4}, 'recall': {'0': 0.9423076923076923, '1': 0.7448979591836735, '2': 0.1326530612244898}}\n"
     ]
    }
   ],
   "source": [
    "with torch.no_grad():\n",
    "    classifier_model.eval()\n",
    "\n",
    "    predictions_test = torch.Tensor([])\n",
    "    labels_test = torch.Tensor([])\n",
    "\n",
    "    for batch_val in tqdm.notebook.tqdm(test_dataloader):\n",
    "\n",
    "        reviews_repeated = []\n",
    "        prompts_populated = []\n",
    "\n",
    "        for prompt in sentiment_prompts:\n",
    "            reviews_repeated = reviews_repeated + batch_val[\"text\"]\n",
    "\n",
    "            for aspect in batch_val[\"aspect\"]:\n",
    "                prompts_populated.append(prompt['prompt'].format(aspect=aspect))\n",
    "\n",
    "        batch_encoded = tokenizer(\n",
    "            reviews_repeated, prompts_populated,\n",
    "            padding='max_length', truncation='only_first', max_length=256,\n",
    "            return_tensors='pt')\n",
    "        \n",
    "        batch_encoded.to(torch_device)\n",
    "\n",
    "        labels = batch_val[\"sentiment\"]\n",
    "\n",
    "        outputs = classifier_model(batch_encoded)\n",
    "\n",
    "        outputs = outputs.to('cpu')\n",
    "\n",
    "        predictions_test = torch.cat([predictions_test, outputs])\n",
    "        labels_test = torch.cat([labels_test, labels])\n",
    "\n",
    "    # Compute metrics\n",
    "    test_metrics = compute_metrics(predictions_test, labels_test)\n",
    "\n",
    "    print(test_metrics)\n",
    "\n",
    "    # Save test_metrics into a file for later processing\n",
    "    with open(os.path.join(trained_model_directory, 'test_metrics_micro_f1.json'), 'w') as test_metrics_json:\n",
    "        json.dump(test_metrics, test_metrics_json)"
   ]
  },
  {
   "cell_type": "markdown",
   "id": "a4f63829",
   "metadata": {
    "id": "HjpA_0m1hb08",
    "papermill": {
     "duration": 0.031831,
     "end_time": "2021-05-16T23:34:55.838428",
     "exception": false,
     "start_time": "2021-05-16T23:34:55.806597",
     "status": "completed"
    },
    "tags": []
   },
   "source": [
    "## Results visualization"
   ]
  },
  {
   "cell_type": "code",
   "execution_count": 18,
   "id": "0502585a",
   "metadata": {
    "colab": {
     "base_uri": "https://localhost:8080/",
     "height": 442
    },
    "execution": {
     "iopub.execute_input": "2021-05-16T23:34:55.890377Z",
     "iopub.status.busy": "2021-05-16T23:34:55.889454Z",
     "iopub.status.idle": "2021-05-16T23:34:56.116622Z",
     "shell.execute_reply": "2021-05-16T23:34:56.116177Z"
    },
    "executionInfo": {
     "elapsed": 95048,
     "status": "ok",
     "timestamp": 1620419019476,
     "user": {
      "displayName": "Ronald Seoh",
      "photoUrl": "",
      "userId": "10284188050297676522"
     },
     "user_tz": 240
    },
    "id": "w9G9AUeQhb09",
    "outputId": "06eb5449-2881-43c4-98b5-ad2cee1f476f",
    "papermill": {
     "duration": 0.254891,
     "end_time": "2021-05-16T23:34:56.116762",
     "exception": false,
     "start_time": "2021-05-16T23:34:55.861871",
     "status": "completed"
    },
    "tags": []
   },
   "outputs": [
    {
     "data": {
      "image/png": "[encoded data removed]",
      "text/plain": [
       "<Figure size 720x504 with 2 Axes>"
      ]
     },
     "metadata": {
      "needs_background": "light"
     },
     "output_type": "display_data"
    }
   ],
   "source": [
    "# Calculate metrics and confusion matrix based upon predictions and true labels\n",
    "cm = sklearn.metrics.confusion_matrix(labels_test.detach().numpy(), predictions_test.detach().numpy().argmax(-1))\n",
    "\n",
    "df_cm = pd.DataFrame(\n",
    "    cm,\n",
    "    index=[i for i in [\"positive\", \"negative\", \"neutral\"]],\n",
    "    columns=[i for i in [\"positive\", \"negative\", \"neutral\"]])\n",
    "\n",
    "plt.figure(figsize=(10, 7))\n",
    "\n",
    "ax = sn.heatmap(df_cm, annot=True)\n",
    "\n",
    "ax.set(xlabel='Predicted Label', ylabel='True Label')\n",
    "plt.show()"
   ]
  },
  {
   "cell_type": "code",
   "execution_count": null,
   "id": "f45c5985",
   "metadata": {
    "id": "4Wo_Yk0LY37d",
    "papermill": {
     "duration": 0.03179,
     "end_time": "2021-05-16T23:34:56.173886",
     "exception": false,
     "start_time": "2021-05-16T23:34:56.142096",
     "status": "completed"
    },
    "tags": []
   },
   "outputs": [],
   "source": []
  }
 ],
 "metadata": {
  "accelerator": "GPU",
  "celltoolbar": "Tags",
  "colab": {
   "collapsed_sections": [],
   "name": "bert_prompt_logit_softmax_micro_f1_calc.ipynb",
   "provenance": [],
   "toc_visible": true
  },
  "kernelspec": {
   "display_name": "Python 3",
   "language": "python",
   "name": "python3"
  },
  "language_info": {
   "codemirror_mode": {
    "name": "ipython",
    "version": 3
   },
   "file_extension": ".py",
   "mimetype": "text/x-python",
   "name": "python",
   "nbconvert_exporter": "python",
   "pygments_lexer": "ipython3",
   "version": "3.7.10"
  },
  "papermill": {
   "default_parameters": {},
   "duration": 40.421567,
   "end_time": "2021-05-16T23:34:57.012256",
   "environment_variables": {},
   "exception": null,
   "input_path": "bert_prompt_logit_softmax_micro_f1_calc.ipynb",
   "output_path": "results_bert_16_shot_prompt_logit_softmax_atsc_restaurants/bert_16_shot_prompt_logit_softmax_atsc_restaurants_bert_yelp_restaurants_single_prompt_i_felt_682.ipynb",
   "parameters": {
    "experiment_id": "bert_16_shot_prompt_logit_softmax_atsc_restaurants_bert_yelp_restaurants_single_prompt_i_felt_682",
    "lm_model_path": "../trained_models/lm_further_pretraining_bert_yelp_restaurants_bseoh_2021-03-22--15_03_31",
    "prompts_merge_behavior": "sum_logits",
    "prompts_perturb": false,
    "random_seed": 682,
    "sentiment_prompts": [
     {
      "labels": [
       "good",
       "bad",
       "ok"
      ],
      "prompt": "I felt the {aspect} was [MASK]."
     }
    ],
    "testing_batch_size": 32,
    "testing_domain": "restaurants"
   },
   "start_time": "2021-05-16T23:34:16.590689",
   "version": "2.3.2"
  },
  "widgets": {
   "application/vnd.jupyter.widget-state+json": {
    "state": {
     "3ba267292f7c424aaceafcb99a31fc91": {
      "model_module": "@jupyter-widgets/controls",
      "model_module_version": "1.5.0",
      "model_name": "DescriptionStyleModel",
      "state": {
       "_model_module": "@jupyter-widgets/controls",
       "_model_module_version": "1.5.0",
       "_model_name": "DescriptionStyleModel",
       "_view_count": null,
       "_view_module": "@jupyter-widgets/base",
       "_view_module_version": "1.2.0",
       "_view_name": "StyleView",
       "description_width": ""
      }
     },
     "59db71c2f52a40d298229704d1f27c47": {
      "model_module": "@jupyter-widgets/controls",
      "model_module_version": "1.5.0",
      "model_name": "HTMLModel",
      "state": {
       "_dom_classes": [],
       "_model_module": "@jupyter-widgets/controls",
       "_model_module_version": "1.5.0",
       "_model_name": "HTMLModel",
       "_view_count": null,
       "_view_module": "@jupyter-widgets/controls",
       "_view_module_version": "1.5.0",
       "_view_name": "HTMLView",
       "description": "",
       "description_tooltip": null,
       "layout": "IPY_MODEL_7e8fc8722da049cd9e8b4c1cf01ee301",
       "placeholder": "​",
       "style": "IPY_MODEL_3ba267292f7c424aaceafcb99a31fc91",
       "value": " 35/35 [00:21&lt;00:00,  1.67it/s]"
      }
     },
     "72c9093884504146a1ecfdb375cc37f3": {
      "model_module": "@jupyter-widgets/controls",
      "model_module_version": "1.5.0",
      "model_name": "HBoxModel",
      "state": {
       "_dom_classes": [],
       "_model_module": "@jupyter-widgets/controls",
       "_model_module_version": "1.5.0",
       "_model_name": "HBoxModel",
       "_view_count": null,
       "_view_module": "@jupyter-widgets/controls",
       "_view_module_version": "1.5.0",
       "_view_name": "HBoxView",
       "box_style": "",
       "children": [
        "IPY_MODEL_c7b013a55e16481ca374e8575385c62b",
        "IPY_MODEL_59db71c2f52a40d298229704d1f27c47"
       ],
       "layout": "IPY_MODEL_784cb59c2f8743b8982a149da0a6ee56"
      }
     },
     "784cb59c2f8743b8982a149da0a6ee56": {
      "model_module": "@jupyter-widgets/base",
      "model_module_version": "1.2.0",
      "model_name": "LayoutModel",
      "state": {
       "_model_module": "@jupyter-widgets/base",
       "_model_module_version": "1.2.0",
       "_model_name": "LayoutModel",
       "_view_count": null,
       "_view_module": "@jupyter-widgets/base",
       "_view_module_version": "1.2.0",
       "_view_name": "LayoutView",
       "align_content": null,
       "align_items": null,
       "align_self": null,
       "border": null,
       "bottom": null,
       "display": null,
       "flex": null,
       "flex_flow": null,
       "grid_area": null,
       "grid_auto_columns": null,
       "grid_auto_flow": null,
       "grid_auto_rows": null,
       "grid_column": null,
       "grid_gap": null,
       "grid_row": null,
       "grid_template_areas": null,
       "grid_template_columns": null,
       "grid_template_rows": null,
       "height": null,
       "justify_content": null,
       "justify_items": null,
       "left": null,
       "margin": null,
       "max_height": null,
       "max_width": null,
       "min_height": null,
       "min_width": null,
       "object_fit": null,
       "object_position": null,
       "order": null,
       "overflow": null,
       "overflow_x": null,
       "overflow_y": null,
       "padding": null,
       "right": null,
       "top": null,
       "visibility": null,
       "width": null
      }
     },
     "7e8fc8722da049cd9e8b4c1cf01ee301": {
      "model_module": "@jupyter-widgets/base",
      "model_module_version": "1.2.0",
      "model_name": "LayoutModel",
      "state": {
       "_model_module": "@jupyter-widgets/base",
       "_model_module_version": "1.2.0",
       "_model_name": "LayoutModel",
       "_view_count": null,
       "_view_module": "@jupyter-widgets/base",
       "_view_module_version": "1.2.0",
       "_view_name": "LayoutView",
       "align_content": null,
       "align_items": null,
       "align_self": null,
       "border": null,
       "bottom": null,
       "display": null,
       "flex": null,
       "flex_flow": null,
       "grid_area": null,
       "grid_auto_columns": null,
       "grid_auto_flow": null,
       "grid_auto_rows": null,
       "grid_column": null,
       "grid_gap": null,
       "grid_row": null,
       "grid_template_areas": null,
       "grid_template_columns": null,
       "grid_template_rows": null,
       "height": null,
       "justify_content": null,
       "justify_items": null,
       "left": null,
       "margin": null,
       "max_height": null,
       "max_width": null,
       "min_height": null,
       "min_width": null,
       "object_fit": null,
       "object_position": null,
       "order": null,
       "overflow": null,
       "overflow_x": null,
       "overflow_y": null,
       "padding": null,
       "right": null,
       "top": null,
       "visibility": null,
       "width": null
      }
     },
     "917eee1a757a4f03a3022f26658209d8": {
      "model_module": "@jupyter-widgets/controls",
      "model_module_version": "1.5.0",
      "model_name": "ProgressStyleModel",
      "state": {
       "_model_module": "@jupyter-widgets/controls",
       "_model_module_version": "1.5.0",
       "_model_name": "ProgressStyleModel",
       "_view_count": null,
       "_view_module": "@jupyter-widgets/base",
       "_view_module_version": "1.2.0",
       "_view_name": "StyleView",
       "bar_color": null,
       "description_width": "initial"
      }
     },
     "af6dbe88c75248d28281c5cee76a8d57": {
      "model_module": "@jupyter-widgets/base",
      "model_module_version": "1.2.0",
      "model_name": "LayoutModel",
      "state": {
       "_model_module": "@jupyter-widgets/base",
       "_model_module_version": "1.2.0",
       "_model_name": "LayoutModel",
       "_view_count": null,
       "_view_module": "@jupyter-widgets/base",
       "_view_module_version": "1.2.0",
       "_view_name": "LayoutView",
       "align_content": null,
       "align_items": null,
       "align_self": null,
       "border": null,
       "bottom": null,
       "display": null,
       "flex": null,
       "flex_flow": null,
       "grid_area": null,
       "grid_auto_columns": null,
       "grid_auto_flow": null,
       "grid_auto_rows": null,
       "grid_column": null,
       "grid_gap": null,
       "grid_row": null,
       "grid_template_areas": null,
       "grid_template_columns": null,
       "grid_template_rows": null,
       "height": null,
       "justify_content": null,
       "justify_items": null,
       "left": null,
       "margin": null,
       "max_height": null,
       "max_width": null,
       "min_height": null,
       "min_width": null,
       "object_fit": null,
       "object_position": null,
       "order": null,
       "overflow": null,
       "overflow_x": null,
       "overflow_y": null,
       "padding": null,
       "right": null,
       "top": null,
       "visibility": null,
       "width": null
      }
     },
     "c7b013a55e16481ca374e8575385c62b": {
      "model_module": "@jupyter-widgets/controls",
      "model_module_version": "1.5.0",
      "model_name": "FloatProgressModel",
      "state": {
       "_dom_classes": [],
       "_model_module": "@jupyter-widgets/controls",
       "_model_module_version": "1.5.0",
       "_model_name": "FloatProgressModel",
       "_view_count": null,
       "_view_module": "@jupyter-widgets/controls",
       "_view_module_version": "1.5.0",
       "_view_name": "ProgressView",
       "bar_style": "success",
       "description": "100%",
       "description_tooltip": null,
       "layout": "IPY_MODEL_af6dbe88c75248d28281c5cee76a8d57",
       "max": 35.0,
       "min": 0.0,
       "orientation": "horizontal",
       "style": "IPY_MODEL_917eee1a757a4f03a3022f26658209d8",
       "value": 35.0
      }
     }
    },
    "version_major": 2,
    "version_minor": 0
   }
  }
 },
 "nbformat": 4,
 "nbformat_minor": 5
}