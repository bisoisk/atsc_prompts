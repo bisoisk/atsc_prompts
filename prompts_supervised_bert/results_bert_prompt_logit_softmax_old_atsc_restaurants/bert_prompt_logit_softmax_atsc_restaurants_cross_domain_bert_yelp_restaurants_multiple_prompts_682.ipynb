{
 "cells": [
  {
   "cell_type": "markdown",
   "id": "average-teens",
   "metadata": {
    "papermill": {
     "duration": 0.060393,
     "end_time": "2021-04-12T22:40:59.553888",
     "exception": false,
     "start_time": "2021-04-12T22:40:59.493495",
     "status": "completed"
    },
    "tags": []
   },
   "source": [
    "# Initial Setups"
   ]
  },
  {
   "cell_type": "markdown",
   "id": "second-delhi",
   "metadata": {
    "papermill": {
     "duration": 0.037277,
     "end_time": "2021-04-12T22:40:59.637876",
     "exception": false,
     "start_time": "2021-04-12T22:40:59.600599",
     "status": "completed"
    },
    "tags": []
   },
   "source": [
    "## (Google Colab use only)"
   ]
  },
  {
   "cell_type": "code",
   "execution_count": 1,
   "id": "willing-regulation",
   "metadata": {
    "execution": {
     "iopub.execute_input": "2021-04-12T22:40:59.724228Z",
     "iopub.status.busy": "2021-04-12T22:40:59.723580Z",
     "iopub.status.idle": "2021-04-12T22:40:59.728605Z",
     "shell.execute_reply": "2021-04-12T22:40:59.728003Z"
    },
    "papermill": {
     "duration": 0.056212,
     "end_time": "2021-04-12T22:40:59.728748",
     "exception": false,
     "start_time": "2021-04-12T22:40:59.672536",
     "status": "completed"
    },
    "tags": []
   },
   "outputs": [],
   "source": [
    "# Use Google Colab\n",
    "use_colab = True\n",
    "\n",
    "# Is this notebook running on Colab?\n",
    "# If so, then google.colab package (github.com/googlecolab/colabtools)\n",
    "# should be available in this environment\n",
    "\n",
    "# Previous version used importlib, but we could do the same thing with\n",
    "# just attempting to import google.colab\n",
    "try:\n",
    "    from google.colab import drive\n",
    "    colab_available = True\n",
    "except:\n",
    "    colab_available = False\n",
    "\n",
    "if use_colab and colab_available:\n",
    "    drive.mount('/content/drive')\n",
    "\n",
    "    # cd to the appropriate working directory under my Google Drive\n",
    "    %cd '/content/drive/My Drive/cs696ds_lexalytics/Prompting Experiments'\n",
    "    \n",
    "    # Install packages specified in requirements\n",
    "    !pip install -r requirements.txt\n",
    "    \n",
    "    # List the directory contents\n",
    "    !ls"
   ]
  },
  {
   "cell_type": "markdown",
   "id": "shared-ensemble",
   "metadata": {
    "papermill": {
     "duration": 0.057459,
     "end_time": "2021-04-12T22:40:59.821333",
     "exception": false,
     "start_time": "2021-04-12T22:40:59.763874",
     "status": "completed"
    },
    "tags": []
   },
   "source": [
    "## Experiment parameters"
   ]
  },
  {
   "cell_type": "code",
   "execution_count": 2,
   "id": "appreciated-latest",
   "metadata": {
    "execution": {
     "iopub.execute_input": "2021-04-12T22:40:59.938541Z",
     "iopub.status.busy": "2021-04-12T22:40:59.937747Z",
     "iopub.status.idle": "2021-04-12T22:40:59.941407Z",
     "shell.execute_reply": "2021-04-12T22:40:59.940731Z"
    },
    "papermill": {
     "duration": 0.062632,
     "end_time": "2021-04-12T22:40:59.941569",
     "exception": false,
     "start_time": "2021-04-12T22:40:59.878937",
     "status": "completed"
    },
    "tags": [
     "parameters"
    ]
   },
   "outputs": [],
   "source": [
    "# We will use the following string ID to identify this particular (training) experiments\n",
    "# in directory paths and other settings\n",
    "experiment_id = 'bert_prompt_logit_softmax_atsc_laptops_bert-base-uncased_multiple_prompts'\n",
    "\n",
    "# Random seed\n",
    "random_seed = 696\n",
    "\n",
    "# path to pretrained MLM model folder or the string \"bert-base-uncased\"\n",
    "lm_model_path = 'bert-base-uncased'\n",
    "\n",
    "# Prompts to be added to the end of each review text\n",
    "# Note: pseudo-labels for each prompt should be given in the order of (positive), (negative), (neutral)\n",
    "sentiment_prompts = [\n",
    "    {\"prompt\": \"I felt the {aspect} was [MASK].\", \"labels\": [\"good\", \"bad\", \"ok\"]},\n",
    "    {\"prompt\": \"I [MASK] the {aspect}.\", \"labels\": [\"love\", \"hate\", \"dislike\"]},\n",
    "    {\"prompt\": \"The {aspect} made me feel [MASK].\", \"labels\": [\"good\", \"bad\", \"indifferent\"]},\n",
    "    {\"prompt\": \"The {aspect} is [MASK].\", \"labels\": [\"good\", \"bad\", \"ok\"]}\n",
    "]\n",
    "\n",
    "# Training settings\n",
    "training_epochs = 20\n",
    "training_batch_size = 16\n",
    "training_learning_rate = 2e-5\n",
    "training_weight_decay = 0.01\n",
    "training_warmup_steps_duration = 0.15\n",
    "training_hard_restart_num_cycles = 3\n",
    "training_max_grad_norm = 1.0\n",
    "training_best_model_criterion = 'train_loss'\n",
    "training_domain = 'laptops' # 'laptops', 'restaurants', 'joint'\n",
    "training_dataset_proportion = 1.0\n",
    "training_dataset_few_shot_size = None\n",
    "\n",
    "training_lm_freeze = False\n",
    "\n",
    "validation_enabled = False\n",
    "validation_dataset_proportion = 0.2\n",
    "validation_batch_size = 16\n",
    "\n",
    "testing_batch_size = 16\n",
    "testing_domain = 'laptops' # 'laptops', 'restaurants', 'joint'"
   ]
  },
  {
   "cell_type": "code",
   "execution_count": 3,
   "id": "technical-gather",
   "metadata": {
    "execution": {
     "iopub.execute_input": "2021-04-12T22:41:00.025439Z",
     "iopub.status.busy": "2021-04-12T22:41:00.024772Z",
     "iopub.status.idle": "2021-04-12T22:41:00.028560Z",
     "shell.execute_reply": "2021-04-12T22:41:00.027979Z"
    },
    "papermill": {
     "duration": 0.047952,
     "end_time": "2021-04-12T22:41:00.028688",
     "exception": false,
     "start_time": "2021-04-12T22:40:59.980736",
     "status": "completed"
    },
    "tags": [
     "injected-parameters"
    ]
   },
   "outputs": [],
   "source": [
    "# Parameters\n",
    "experiment_id = \"bert_prompt_logit_softmax_atsc_restaurants_cross_domain_bert_yelp_restaurants_multiple_prompts_682\"\n",
    "random_seed = 682\n",
    "lm_model_path = \"../trained_models/lm_further_pretraining_bert_yelp_restaurants_bseoh_2021-03-22--15_03_31\"\n",
    "sentiment_prompts = [\n",
    "    {\"prompt\": \"I felt the {aspect} was [MASK].\", \"labels\": [\"good\", \"bad\", \"ok\"]},\n",
    "    {\"prompt\": \"I [MASK] the {aspect}.\", \"labels\": [\"like\", \"dislike\", \"ignore\"]},\n",
    "    {\n",
    "        \"prompt\": \"The {aspect} made me feel [MASK].\",\n",
    "        \"labels\": [\"good\", \"bad\", \"indifferent\"],\n",
    "    },\n",
    "    {\"prompt\": \"The {aspect} is [MASK].\", \"labels\": [\"good\", \"bad\", \"ok\"]},\n",
    "]\n",
    "training_domain = \"laptops\"\n",
    "testing_batch_size = 32\n",
    "testing_domain = \"restaurants\"\n"
   ]
  },
  {
   "cell_type": "code",
   "execution_count": 4,
   "id": "continent-placement",
   "metadata": {
    "execution": {
     "iopub.execute_input": "2021-04-12T22:41:00.104725Z",
     "iopub.status.busy": "2021-04-12T22:41:00.104078Z",
     "iopub.status.idle": "2021-04-12T22:41:00.107730Z",
     "shell.execute_reply": "2021-04-12T22:41:00.107088Z"
    },
    "papermill": {
     "duration": 0.043696,
     "end_time": "2021-04-12T22:41:00.107855",
     "exception": false,
     "start_time": "2021-04-12T22:41:00.064159",
     "status": "completed"
    },
    "tags": []
   },
   "outputs": [],
   "source": [
    "# Batch size adjustment for multiple prompts.\n",
    "training_batch_size = training_batch_size // len(sentiment_prompts)"
   ]
  },
  {
   "cell_type": "code",
   "execution_count": 5,
   "id": "fluid-plane",
   "metadata": {
    "execution": {
     "iopub.execute_input": "2021-04-12T22:41:00.185058Z",
     "iopub.status.busy": "2021-04-12T22:41:00.184392Z",
     "iopub.status.idle": "2021-04-12T22:41:00.188310Z",
     "shell.execute_reply": "2021-04-12T22:41:00.188862Z"
    },
    "papermill": {
     "duration": 0.045613,
     "end_time": "2021-04-12T22:41:00.189012",
     "exception": false,
     "start_time": "2021-04-12T22:41:00.143399",
     "status": "completed"
    },
    "tags": []
   },
   "outputs": [
    {
     "name": "stdout",
     "output_type": "stream",
     "text": [
      "Experiment ID: bert_prompt_logit_softmax_atsc_restaurants_cross_domain_bert_yelp_restaurants_multiple_prompts_682\n"
     ]
    }
   ],
   "source": [
    "print(\"Experiment ID:\", experiment_id)"
   ]
  },
  {
   "cell_type": "markdown",
   "id": "alpha-editor",
   "metadata": {
    "papermill": {
     "duration": 0.035983,
     "end_time": "2021-04-12T22:41:00.261016",
     "exception": false,
     "start_time": "2021-04-12T22:41:00.225033",
     "status": "completed"
    },
    "tags": []
   },
   "source": [
    "## Package imports"
   ]
  },
  {
   "cell_type": "code",
   "execution_count": 6,
   "id": "stock-israeli",
   "metadata": {
    "execution": {
     "iopub.execute_input": "2021-04-12T22:41:00.345381Z",
     "iopub.status.busy": "2021-04-12T22:41:00.344710Z",
     "iopub.status.idle": "2021-04-12T22:41:06.194008Z",
     "shell.execute_reply": "2021-04-12T22:41:06.194944Z"
    },
    "papermill": {
     "duration": 5.897978,
     "end_time": "2021-04-12T22:41:06.195223",
     "exception": false,
     "start_time": "2021-04-12T22:41:00.297245",
     "status": "completed"
    },
    "tags": []
   },
   "outputs": [
    {
     "name": "stderr",
     "output_type": "stream",
     "text": [
      "Intel(R) oneAPI Data Analytics Library solvers for sklearn enabled: https://intelpython.github.io/daal4py/sklearn.html\n"
     ]
    },
    {
     "name": "stdout",
     "output_type": "stream",
     "text": [
      "Python version: 3.7.9 (default, Nov  4 2020, 21:30:07) \n",
      "[GCC 7.3.0]\n",
      "NumPy version: 1.19.2\n",
      "PyTorch version: 1.7.1\n",
      "Transformers version: 4.3.3\n"
     ]
    }
   ],
   "source": [
    "import sys\n",
    "import os\n",
    "import random\n",
    "import shutil\n",
    "import copy\n",
    "import inspect\n",
    "import json\n",
    "\n",
    "import numpy as np\n",
    "import torch\n",
    "import transformers\n",
    "import datasets\n",
    "import sklearn.metrics\n",
    "import pandas as pd\n",
    "import matplotlib.pyplot as plt\n",
    "import seaborn as sn\n",
    "import tqdm\n",
    "\n",
    "current_dir = os.path.dirname(os.path.abspath(inspect.getfile(inspect.currentframe())))\n",
    "parent_dir = os.path.dirname(current_dir)\n",
    "sys.path.append(parent_dir)\n",
    "\n",
    "import utils\n",
    "\n",
    "# Random seed settings\n",
    "random.seed(random_seed)\n",
    "np.random.seed(random_seed)\n",
    "\n",
    "# cuBLAS reproducibility\n",
    "# https://docs.nvidia.com/cuda/cublas/index.html#cublasApi_reproducibility\n",
    "os.environ['CUBLAS_WORKSPACE_CONFIG'] = \":4096:8\"\n",
    "torch.set_deterministic(True)\n",
    "torch.manual_seed(random_seed)\n",
    "\n",
    "# Print version information\n",
    "print(\"Python version: \" + sys.version)\n",
    "print(\"NumPy version: \" + np.__version__)\n",
    "print(\"PyTorch version: \" + torch.__version__)\n",
    "print(\"Transformers version: \" + transformers.__version__)"
   ]
  },
  {
   "cell_type": "markdown",
   "id": "violent-british",
   "metadata": {
    "papermill": {
     "duration": 0.045988,
     "end_time": "2021-04-12T22:41:06.297304",
     "exception": false,
     "start_time": "2021-04-12T22:41:06.251316",
     "status": "completed"
    },
    "tags": []
   },
   "source": [
    "## PyTorch GPU settings"
   ]
  },
  {
   "cell_type": "code",
   "execution_count": 7,
   "id": "boolean-lancaster",
   "metadata": {
    "execution": {
     "iopub.execute_input": "2021-04-12T22:41:08.126968Z",
     "iopub.status.busy": "2021-04-12T22:41:08.125695Z",
     "iopub.status.idle": "2021-04-12T22:41:08.131618Z",
     "shell.execute_reply": "2021-04-12T22:41:08.130570Z"
    },
    "papermill": {
     "duration": 1.794782,
     "end_time": "2021-04-12T22:41:08.131865",
     "exception": false,
     "start_time": "2021-04-12T22:41:06.337083",
     "status": "completed"
    },
    "tags": []
   },
   "outputs": [
    {
     "name": "stdout",
     "output_type": "stream",
     "text": [
      "CUDA Version: 11.0\n",
      "cuDNN Version: 8005\n",
      "CUDA Device Name: GeForce GTX TITAN X\n",
      "CUDA Capabilities: (5, 2)\n",
      "Number of CUDA devices: 1\n",
      "\n",
      "PyTorch device selected: cuda\n"
     ]
    }
   ],
   "source": [
    "if torch.cuda.is_available():    \n",
    "    torch_device = torch.device('cuda')\n",
    "\n",
    "    # Set this to True to make your output immediately reproducible\n",
    "    # Note: https://pytorch.org/docs/stable/notes/randomness.html\n",
    "    torch.backends.cudnn.deterministic = True\n",
    "    \n",
    "    # Disable 'benchmark' mode: Set this False if you want to measure running times more fairly\n",
    "    # Note: https://discuss.pytorch.org/t/what-does-torch-backends-cudnn-benchmark-do/5936\n",
    "    torch.backends.cudnn.benchmark = False\n",
    "    \n",
    "    # Faster Host to GPU copies with page-locked memory\n",
    "    use_pin_memory = True\n",
    "    \n",
    "    # Number of compute devices to be used for training\n",
    "    training_device_count = torch.cuda.device_count()\n",
    "\n",
    "    # CUDA libraries version information\n",
    "    print(\"CUDA Version: \" + str(torch.version.cuda))\n",
    "    print(\"cuDNN Version: \" + str(torch.backends.cudnn.version()))\n",
    "    print(\"CUDA Device Name: \" + str(torch.cuda.get_device_name()))\n",
    "    print(\"CUDA Capabilities: \"+ str(torch.cuda.get_device_capability()))\n",
    "    print(\"Number of CUDA devices: \"+ str(training_device_count))\n",
    "    \n",
    "else:\n",
    "    torch_device = torch.device('cpu')\n",
    "    use_pin_memory = False\n",
    "    \n",
    "    # Number of compute devices to be used for training\n",
    "    training_device_count = 1\n",
    "\n",
    "print()\n",
    "print(\"PyTorch device selected:\", torch_device)"
   ]
  },
  {
   "cell_type": "markdown",
   "id": "representative-survival",
   "metadata": {
    "papermill": {
     "duration": 0.044316,
     "end_time": "2021-04-12T22:41:08.235780",
     "exception": false,
     "start_time": "2021-04-12T22:41:08.191464",
     "status": "completed"
    },
    "tags": []
   },
   "source": [
    "# Prepare Datasets for Prompt-based Classifier"
   ]
  },
  {
   "cell_type": "markdown",
   "id": "comic-hebrew",
   "metadata": {
    "papermill": {
     "duration": 0.036938,
     "end_time": "2021-04-12T22:41:08.310642",
     "exception": false,
     "start_time": "2021-04-12T22:41:08.273704",
     "status": "completed"
    },
    "tags": []
   },
   "source": [
    "## Load the SemEval dataset"
   ]
  },
  {
   "cell_type": "code",
   "execution_count": 8,
   "id": "entire-database",
   "metadata": {
    "execution": {
     "iopub.execute_input": "2021-04-12T22:41:08.392231Z",
     "iopub.status.busy": "2021-04-12T22:41:08.391603Z",
     "iopub.status.idle": "2021-04-12T22:41:08.512432Z",
     "shell.execute_reply": "2021-04-12T22:41:08.513135Z"
    },
    "papermill": {
     "duration": 0.165334,
     "end_time": "2021-04-12T22:41:08.513322",
     "exception": false,
     "start_time": "2021-04-12T22:41:08.347988",
     "status": "completed"
    },
    "tags": []
   },
   "outputs": [
    {
     "name": "stderr",
     "output_type": "stream",
     "text": [
      "Using custom data configuration default\n"
     ]
    },
    {
     "name": "stderr",
     "output_type": "stream",
     "text": [
      "Reusing dataset sem_eval2014_task4_dataset (../dataset_cache/sem_eval2014_task4_dataset/default-47641dbbf5e749c1/0.0.1/f33ba7108331ad17be3f9fb710ca001edb383fba797c6ed0938354e6812ca969)\n"
     ]
    },
    {
     "name": "stderr",
     "output_type": "stream",
     "text": [
      "Using custom data configuration default\n"
     ]
    },
    {
     "name": "stderr",
     "output_type": "stream",
     "text": [
      "Reusing dataset sem_eval2014_task4_dataset (../dataset_cache/sem_eval2014_task4_dataset/default-7fe90f8b66ac6023/0.0.1/f33ba7108331ad17be3f9fb710ca001edb383fba797c6ed0938354e6812ca969)\n"
     ]
    }
   ],
   "source": [
    "# Load semeval for both domains\n",
    "laptops_dataset = datasets.load_dataset(\n",
    "    os.path.abspath('../dataset_scripts/semeval2014_task4/semeval2014_task4.py'),\n",
    "    data_files={\n",
    "        'test': '../dataset_files/semeval_2014/Laptops_Test_Gold.xml',\n",
    "        'train': '../dataset_files/semeval_2014/Laptop_Train_v2.xml',\n",
    "    },\n",
    "    cache_dir='../dataset_cache')\n",
    "\n",
    "restaurants_dataset = datasets.load_dataset(\n",
    "    os.path.abspath('../dataset_scripts/semeval2014_task4/semeval2014_task4.py'),\n",
    "    data_files={\n",
    "        'test': '../dataset_files/semeval_2014/Restaurants_Test_Gold.xml',\n",
    "        'train': '../dataset_files/semeval_2014/Restaurants_Train_v2.xml',\n",
    "    },\n",
    "    cache_dir='../dataset_cache')"
   ]
  },
  {
   "cell_type": "code",
   "execution_count": 9,
   "id": "trying-sweet",
   "metadata": {
    "execution": {
     "iopub.execute_input": "2021-04-12T22:41:08.633240Z",
     "iopub.status.busy": "2021-04-12T22:41:08.632402Z",
     "iopub.status.idle": "2021-04-12T22:41:08.637060Z",
     "shell.execute_reply": "2021-04-12T22:41:08.636380Z"
    },
    "papermill": {
     "duration": 0.076547,
     "end_time": "2021-04-12T22:41:08.637224",
     "exception": false,
     "start_time": "2021-04-12T22:41:08.560677",
     "status": "completed"
    },
    "tags": []
   },
   "outputs": [
    {
     "name": "stdout",
     "output_type": "stream",
     "text": [
      "Training domain: laptops\n",
      "Testing domain: restaurants\n"
     ]
    }
   ],
   "source": [
    "# The dataset chosen for training/testing\n",
    "print(\"Training domain:\", training_domain)\n",
    "print(\"Testing domain:\", testing_domain)\n",
    "\n",
    "if training_domain == 'laptops':\n",
    "    train_set = laptops_dataset['train']\n",
    "elif training_domain == 'restaurants':\n",
    "    train_set = restaurants_dataset['train']\n",
    "elif training_domain == 'joint':\n",
    "    train_set = laptops_dataset['train'] + restaurants_dataset['train']\n",
    "\n",
    "if testing_domain == 'laptops':\n",
    "    test_set = laptops_dataset['test']\n",
    "elif testing_domain == 'restaurants':\n",
    "    test_set = restaurants_dataset['test']\n",
    "elif testing_domain == 'joint':\n",
    "    test_set = laptops_dataset['test'] + restaurants_dataset['test']"
   ]
  },
  {
   "cell_type": "markdown",
   "id": "collective-campus",
   "metadata": {
    "papermill": {
     "duration": 0.039395,
     "end_time": "2021-04-12T22:41:08.723144",
     "exception": false,
     "start_time": "2021-04-12T22:41:08.683749",
     "status": "completed"
    },
    "tags": []
   },
   "source": [
    "## Train-validation split"
   ]
  },
  {
   "cell_type": "code",
   "execution_count": 10,
   "id": "injured-share",
   "metadata": {
    "execution": {
     "iopub.execute_input": "2021-04-12T22:41:08.809099Z",
     "iopub.status.busy": "2021-04-12T22:41:08.808451Z",
     "iopub.status.idle": "2021-04-12T22:41:08.811998Z",
     "shell.execute_reply": "2021-04-12T22:41:08.812528Z"
    },
    "papermill": {
     "duration": 0.05066,
     "end_time": "2021-04-12T22:41:08.812671",
     "exception": false,
     "start_time": "2021-04-12T22:41:08.762011",
     "status": "completed"
    },
    "tags": []
   },
   "outputs": [
    {
     "name": "stdout",
     "output_type": "stream",
     "text": [
      "Training dataset size: 2313\n"
     ]
    }
   ],
   "source": [
    "# Training set size after validation split\n",
    "if validation_enabled:\n",
    "    new_train_dataset_size = int(int(len(train_set) * training_dataset_proportion) * (1 - validation_dataset_proportion))\n",
    "    new_valid_dataset_size = int(len(train_set) * training_dataset_proportion) - new_train_dataset_size\n",
    "\n",
    "    print(\"Training dataset after split:\", new_train_dataset_size)\n",
    "    print(\"Validation dataset after split:\", new_train_dataset_size)\n",
    "else:\n",
    "    new_train_dataset_size = int(len(train_set) * training_dataset_proportion)\n",
    "\n",
    "    print(\"Training dataset size:\", new_train_dataset_size)"
   ]
  },
  {
   "cell_type": "code",
   "execution_count": 11,
   "id": "sharing-norfolk",
   "metadata": {
    "execution": {
     "iopub.execute_input": "2021-04-12T22:41:08.898819Z",
     "iopub.status.busy": "2021-04-12T22:41:08.898176Z",
     "iopub.status.idle": "2021-04-12T22:41:08.985288Z",
     "shell.execute_reply": "2021-04-12T22:41:08.984163Z"
    },
    "papermill": {
     "duration": 0.133253,
     "end_time": "2021-04-12T22:41:08.985520",
     "exception": false,
     "start_time": "2021-04-12T22:41:08.852267",
     "status": "completed"
    },
    "tags": []
   },
   "outputs": [
    {
     "name": "stderr",
     "output_type": "stream",
     "text": [
      "Loading cached shuffled indices for dataset at ../dataset_cache/sem_eval2014_task4_dataset/default-47641dbbf5e749c1/0.0.1/f33ba7108331ad17be3f9fb710ca001edb383fba797c6ed0938354e6812ca969/cache-b54bb692a7ece858.arrow\n"
     ]
    }
   ],
   "source": [
    "train_set = train_set.shuffle(seed=random_seed)\n",
    "\n",
    "new_train_set = train_set.select(indices=np.arange(new_train_dataset_size))\n",
    "\n",
    "if validation_enabled:\n",
    "    new_valid_set = train_set.select(\n",
    "        indices=np.arange(\n",
    "            new_train_dataset_size,\n",
    "            new_train_dataset_size + new_valid_dataset_size))"
   ]
  },
  {
   "cell_type": "code",
   "execution_count": 12,
   "id": "bizarre-amateur",
   "metadata": {
    "execution": {
     "iopub.execute_input": "2021-04-12T22:41:09.099117Z",
     "iopub.status.busy": "2021-04-12T22:41:09.098450Z",
     "iopub.status.idle": "2021-04-12T22:41:09.101273Z",
     "shell.execute_reply": "2021-04-12T22:41:09.101827Z"
    },
    "papermill": {
     "duration": 0.055335,
     "end_time": "2021-04-12T22:41:09.101975",
     "exception": false,
     "start_time": "2021-04-12T22:41:09.046640",
     "status": "completed"
    },
    "tags": []
   },
   "outputs": [],
   "source": [
    "# For few shot experiments, select first few examples in new_train_set for training\n",
    "if training_dataset_few_shot_size is not None:\n",
    "    new_train_set = new_train_set.select(indices=np.arange(training_dataset_few_shot_size))\n",
    "    \n",
    "    print(\"Few-shot training dataset size:\", len(new_train_set))"
   ]
  },
  {
   "cell_type": "code",
   "execution_count": 13,
   "id": "fitting-walker",
   "metadata": {
    "execution": {
     "iopub.execute_input": "2021-04-12T22:41:09.187604Z",
     "iopub.status.busy": "2021-04-12T22:41:09.186971Z",
     "iopub.status.idle": "2021-04-12T22:41:09.191081Z",
     "shell.execute_reply": "2021-04-12T22:41:09.190537Z"
    },
    "papermill": {
     "duration": 0.048908,
     "end_time": "2021-04-12T22:41:09.191203",
     "exception": false,
     "start_time": "2021-04-12T22:41:09.142295",
     "status": "completed"
    },
    "tags": []
   },
   "outputs": [
    {
     "name": "stdout",
     "output_type": "stream",
     "text": [
      "{'aspect': 'carry', 'sentiment': 0, 'text': 'Easy to carry, can be taken anywhere, can be hooked up to printers,headsets.'}\n"
     ]
    }
   ],
   "source": [
    "print(new_train_set[0])"
   ]
  },
  {
   "cell_type": "markdown",
   "id": "regulation-triumph",
   "metadata": {
    "papermill": {
     "duration": 0.040562,
     "end_time": "2021-04-12T22:41:09.272497",
     "exception": false,
     "start_time": "2021-04-12T22:41:09.231935",
     "status": "completed"
    },
    "tags": []
   },
   "source": [
    "# Zero-shot ATSC with Prompts + MLM Output Head"
   ]
  },
  {
   "cell_type": "markdown",
   "id": "armed-hungarian",
   "metadata": {
    "papermill": {
     "duration": 0.104922,
     "end_time": "2021-04-12T22:41:09.417749",
     "exception": false,
     "start_time": "2021-04-12T22:41:09.312827",
     "status": "completed"
    },
    "tags": []
   },
   "source": [
    "## Load the pretrained LM"
   ]
  },
  {
   "cell_type": "code",
   "execution_count": 14,
   "id": "unique-intervention",
   "metadata": {
    "execution": {
     "iopub.execute_input": "2021-04-12T22:41:09.505929Z",
     "iopub.status.busy": "2021-04-12T22:41:09.505279Z",
     "iopub.status.idle": "2021-04-12T22:41:14.823126Z",
     "shell.execute_reply": "2021-04-12T22:41:14.824050Z"
    },
    "papermill": {
     "duration": 5.365203,
     "end_time": "2021-04-12T22:41:14.824353",
     "exception": false,
     "start_time": "2021-04-12T22:41:09.459150",
     "status": "completed"
    },
    "tags": []
   },
   "outputs": [],
   "source": [
    "# Load pretrained language model\n",
    "lm = transformers.AutoModelForMaskedLM.from_pretrained(lm_model_path)\n",
    "tokenizer = transformers.AutoTokenizer.from_pretrained('bert-base-uncased', cache_dir='../bert_base_cache')"
   ]
  },
  {
   "cell_type": "code",
   "execution_count": 15,
   "id": "cleared-banks",
   "metadata": {
    "execution": {
     "iopub.execute_input": "2021-04-12T22:41:14.944902Z",
     "iopub.status.busy": "2021-04-12T22:41:14.944201Z",
     "iopub.status.idle": "2021-04-12T22:41:14.947579Z",
     "shell.execute_reply": "2021-04-12T22:41:14.947008Z"
    },
    "papermill": {
     "duration": 0.06004,
     "end_time": "2021-04-12T22:41:14.947715",
     "exception": false,
     "start_time": "2021-04-12T22:41:14.887675",
     "status": "completed"
    },
    "tags": []
   },
   "outputs": [],
   "source": [
    "# Freeze the MLM main layer and leave the MLM head trainable\n",
    "# Note: Since input and output word embeddings are tied,\n",
    "# the output word embedding layer in lm.cls will remain untrainable\n",
    "# https://github.com/huggingface/transformers/blob/master/src/transformers/configuration_utils.py#L170\n",
    "if training_lm_freeze:\n",
    "    for param in lm.cls.parameters():\n",
    "        param.requires_grad = True\n",
    "\n",
    "    for param in lm.bert.parameters():\n",
    "        param.requires_grad = False"
   ]
  },
  {
   "cell_type": "markdown",
   "id": "circular-sunglasses",
   "metadata": {
    "papermill": {
     "duration": 0.040947,
     "end_time": "2021-04-12T22:41:15.031335",
     "exception": false,
     "start_time": "2021-04-12T22:41:14.990388",
     "status": "completed"
    },
    "tags": []
   },
   "source": [
    "## Define a new model with MLM output head"
   ]
  },
  {
   "cell_type": "code",
   "execution_count": 16,
   "id": "copyrighted-square",
   "metadata": {
    "execution": {
     "iopub.execute_input": "2021-04-12T22:41:15.126070Z",
     "iopub.status.busy": "2021-04-12T22:41:15.125368Z",
     "iopub.status.idle": "2021-04-12T22:41:16.724404Z",
     "shell.execute_reply": "2021-04-12T22:41:16.723286Z"
    },
    "papermill": {
     "duration": 1.651711,
     "end_time": "2021-04-12T22:41:16.724674",
     "exception": false,
     "start_time": "2021-04-12T22:41:15.072963",
     "status": "completed"
    },
    "tags": []
   },
   "outputs": [
    {
     "name": "stdout",
     "output_type": "stream",
     "text": [
      "[[2204, 2919, 7929], [2066, 18959, 8568], [2204, 2919, 24436], [2204, 2919, 7929]]\n",
      "Detected LM type: bert\n"
     ]
    }
   ],
   "source": [
    "# Encode the pseudo-label words for each sentiment class\n",
    "sentiment_word_ids = []\n",
    "\n",
    "for sp in sentiment_prompts:\n",
    "    sentiment_word_ids.append(\n",
    "        [tokenizer.convert_tokens_to_ids(w) for w in sp['labels']])\n",
    "\n",
    "print(sentiment_word_ids)\n",
    "\n",
    "classifier_model = utils.MultiPromptLogitSentimentClassificationHead(\n",
    "    lm=lm,\n",
    "    num_class=3,\n",
    "    num_prompts=len(sentiment_prompts), pseudo_label_words=sentiment_word_ids,\n",
    "    target_token_id=tokenizer.mask_token_id)\n",
    "\n",
    "classifier_model = classifier_model.to(device=torch_device)"
   ]
  },
  {
   "cell_type": "markdown",
   "id": "organizational-geography",
   "metadata": {
    "papermill": {
     "duration": 0.051962,
     "end_time": "2021-04-12T22:41:16.844447",
     "exception": false,
     "start_time": "2021-04-12T22:41:16.792485",
     "status": "completed"
    },
    "tags": []
   },
   "source": [
    "## Training settings"
   ]
  },
  {
   "cell_type": "code",
   "execution_count": 17,
   "id": "criminal-canadian",
   "metadata": {
    "execution": {
     "iopub.execute_input": "2021-04-12T22:41:16.939346Z",
     "iopub.status.busy": "2021-04-12T22:41:16.938664Z",
     "iopub.status.idle": "2021-04-12T22:41:16.942633Z",
     "shell.execute_reply": "2021-04-12T22:41:16.942041Z"
    },
    "papermill": {
     "duration": 0.054459,
     "end_time": "2021-04-12T22:41:16.942775",
     "exception": false,
     "start_time": "2021-04-12T22:41:16.888316",
     "status": "completed"
    },
    "tags": []
   },
   "outputs": [],
   "source": [
    "train_dataloader = torch.utils.data.DataLoader(\n",
    "    new_train_set, shuffle=True, batch_size=training_batch_size, pin_memory=use_pin_memory)\n",
    "\n",
    "if validation_enabled:\n",
    "    validation_dataloader = torch.utils.data.DataLoader(\n",
    "        new_valid_set, batch_size=validation_batch_size, pin_memory=use_pin_memory)"
   ]
  },
  {
   "cell_type": "code",
   "execution_count": 18,
   "id": "headed-musician",
   "metadata": {
    "execution": {
     "iopub.execute_input": "2021-04-12T22:41:17.035556Z",
     "iopub.status.busy": "2021-04-12T22:41:17.034870Z",
     "iopub.status.idle": "2021-04-12T22:41:17.039009Z",
     "shell.execute_reply": "2021-04-12T22:41:17.039539Z"
    },
    "papermill": {
     "duration": 0.053659,
     "end_time": "2021-04-12T22:41:17.039693",
     "exception": false,
     "start_time": "2021-04-12T22:41:16.986034",
     "status": "completed"
    },
    "tags": []
   },
   "outputs": [
    {
     "name": "stdout",
     "output_type": "stream",
     "text": [
      "There will be 11580 training steps.\n",
      "Warmup steps: 1737\n"
     ]
    }
   ],
   "source": [
    "# How many training steps would we have?\n",
    "training_total_steps = len(train_dataloader) * training_epochs\n",
    "\n",
    "print(\"There will be %d training steps.\" % training_total_steps)\n",
    "\n",
    "# Let's have warmups for the first (training_warmup_steps_duration)% of steps.\n",
    "training_warmup_steps = int(training_total_steps * training_warmup_steps_duration)\n",
    "\n",
    "print(\"Warmup steps:\", training_warmup_steps)"
   ]
  },
  {
   "cell_type": "code",
   "execution_count": 19,
   "id": "empirical-instruction",
   "metadata": {
    "execution": {
     "iopub.execute_input": "2021-04-12T22:41:17.144198Z",
     "iopub.status.busy": "2021-04-12T22:41:17.137437Z",
     "iopub.status.idle": "2021-04-12T22:41:17.160422Z",
     "shell.execute_reply": "2021-04-12T22:41:17.159617Z"
    },
    "papermill": {
     "duration": 0.078156,
     "end_time": "2021-04-12T22:41:17.160625",
     "exception": false,
     "start_time": "2021-04-12T22:41:17.082469",
     "status": "completed"
    },
    "tags": []
   },
   "outputs": [],
   "source": [
    "loss_function = torch.nn.CrossEntropyLoss()\n",
    "\n",
    "no_decay = ['bias', 'LayerNorm.weight']\n",
    "\n",
    "optimizer_grouped_parameters = [\n",
    "    {'params': [p for n, p in classifier_model.named_parameters() if not any(nd in n for nd in no_decay)], 'weight_decay': training_weight_decay},\n",
    "    {'params': [p for n, p in classifier_model.named_parameters() if any(nd in n for nd in no_decay)], 'weight_decay': 0.0}\n",
    "    ]\n",
    "\n",
    "optimizer = transformers.AdamW(\n",
    "    optimizer_grouped_parameters,\n",
    "    lr=training_learning_rate,\n",
    "    weight_decay=training_weight_decay)\n",
    "\n",
    "scheduler = transformers.get_cosine_with_hard_restarts_schedule_with_warmup(\n",
    "    optimizer,\n",
    "    num_warmup_steps=training_warmup_steps,\n",
    "    num_training_steps=training_total_steps,\n",
    "    num_cycles=training_hard_restart_num_cycles\n",
    ")\n",
    "\n",
    "# The directory to save the best version of the head\n",
    "trained_model_directory = os.path.join('..', 'trained_models_prompts', experiment_id)\n",
    "\n",
    "shutil.rmtree(trained_model_directory, ignore_errors=True)\n",
    "os.makedirs(trained_model_directory)"
   ]
  },
  {
   "cell_type": "code",
   "execution_count": 20,
   "id": "given-gasoline",
   "metadata": {
    "execution": {
     "iopub.execute_input": "2021-04-12T22:41:17.275384Z",
     "iopub.status.busy": "2021-04-12T22:41:17.274692Z",
     "iopub.status.idle": "2021-04-12T22:41:17.278210Z",
     "shell.execute_reply": "2021-04-12T22:41:17.277611Z"
    },
    "papermill": {
     "duration": 0.058386,
     "end_time": "2021-04-12T22:41:17.278341",
     "exception": false,
     "start_time": "2021-04-12T22:41:17.219955",
     "status": "completed"
    },
    "tags": []
   },
   "outputs": [],
   "source": [
    "def compute_metrics(predictions, labels):\n",
    "    preds = predictions.argmax(-1)\n",
    "\n",
    "    precision, recall, f1, _ = sklearn.metrics.precision_recall_fscore_support(\n",
    "        y_true=labels, y_pred=preds, labels=[0,1,2], average='macro')\n",
    "\n",
    "    acc = sklearn.metrics.accuracy_score(labels, preds)\n",
    "\n",
    "    return {\n",
    "        'accuracy': acc,\n",
    "        'f1': f1,\n",
    "        'precision': precision,\n",
    "        'recall': recall\n",
    "    }"
   ]
  },
  {
   "cell_type": "markdown",
   "id": "reported-sight",
   "metadata": {
    "papermill": {
     "duration": 0.04202,
     "end_time": "2021-04-12T22:41:17.363683",
     "exception": false,
     "start_time": "2021-04-12T22:41:17.321663",
     "status": "completed"
    },
    "tags": []
   },
   "source": [
    "## Training loop"
   ]
  },
  {
   "cell_type": "code",
   "execution_count": 21,
   "id": "adjustable-stream",
   "metadata": {
    "execution": {
     "iopub.execute_input": "2021-04-12T22:41:17.518379Z",
     "iopub.status.busy": "2021-04-12T22:41:17.456286Z"
    },
    "papermill": {
     "duration": 4451.681789,
     "end_time": "2021-04-12T23:55:29.087673",
     "exception": false,
     "start_time": "2021-04-12T22:41:17.405884",
     "status": "completed"
    },
    "tags": []
   },
   "outputs": [
    {
     "data": {
      "application/vnd.jupyter.widget-view+json": {
       "model_id": "ffa0583a333a4eeaafab05e6fd40e72c",
       "version_major": 2,
       "version_minor": 0
      },
      "text/plain": [
       "  0%|          | 0/20 [00:00<?, ?it/s]"
      ]
     },
     "metadata": {},
     "output_type": "display_data"
    },
    {
     "name": "stdout",
     "output_type": "stream",
     "text": [
      "Training epoch 0\n",
      "\n"
     ]
    },
    {
     "data": {
      "application/vnd.jupyter.widget-view+json": {
       "model_id": "8e89653b42f340d991e4c3df0b1ae6bb",
       "version_major": 2,
       "version_minor": 0
      },
      "text/plain": [
       "  0%|          | 0/579 [00:00<?, ?it/s]"
      ]
     },
     "metadata": {},
     "output_type": "display_data"
    },
    {
     "name": "stdout",
     "output_type": "stream",
     "text": [
      "Epoch 0, Training Loss: 0.04262380674481392\n",
      "\n"
     ]
    },
    {
     "name": "stdout",
     "output_type": "stream",
     "text": [
      "Training epoch 1\n",
      "\n"
     ]
    },
    {
     "data": {
      "application/vnd.jupyter.widget-view+json": {
       "model_id": "bc7c671d176d4fbf9790ca3eba8020a9",
       "version_major": 2,
       "version_minor": 0
      },
      "text/plain": [
       "  0%|          | 0/579 [00:00<?, ?it/s]"
      ]
     },
     "metadata": {},
     "output_type": "display_data"
    },
    {
     "name": "stdout",
     "output_type": "stream",
     "text": [
      "Epoch 1, Training Loss: 0.047935307025909424\n",
      "\n",
      "Training epoch 2\n",
      "\n"
     ]
    },
    {
     "data": {
      "application/vnd.jupyter.widget-view+json": {
       "model_id": "a1892189e8594e83b86e02eb1b1ed13a",
       "version_major": 2,
       "version_minor": 0
      },
      "text/plain": [
       "  0%|          | 0/579 [00:00<?, ?it/s]"
      ]
     },
     "metadata": {},
     "output_type": "display_data"
    },
    {
     "name": "stdout",
     "output_type": "stream",
     "text": [
      "Epoch 2, Training Loss: 0.03597763180732727\n",
      "\n"
     ]
    },
    {
     "name": "stdout",
     "output_type": "stream",
     "text": [
      "Training epoch 3\n",
      "\n"
     ]
    },
    {
     "data": {
      "application/vnd.jupyter.widget-view+json": {
       "model_id": "2914943340e9468ca9f6c80fdcb31eb7",
       "version_major": 2,
       "version_minor": 0
      },
      "text/plain": [
       "  0%|          | 0/579 [00:00<?, ?it/s]"
      ]
     },
     "metadata": {},
     "output_type": "display_data"
    },
    {
     "name": "stdout",
     "output_type": "stream",
     "text": [
      "Epoch 3, Training Loss: 0.03597636520862579\n",
      "\n"
     ]
    },
    {
     "name": "stdout",
     "output_type": "stream",
     "text": [
      "Training epoch 4\n",
      "\n"
     ]
    },
    {
     "data": {
      "application/vnd.jupyter.widget-view+json": {
       "model_id": "f7ee63bad1c6481fbb3341cf2c6ab9c4",
       "version_major": 2,
       "version_minor": 0
      },
      "text/plain": [
       "  0%|          | 0/579 [00:00<?, ?it/s]"
      ]
     },
     "metadata": {},
     "output_type": "display_data"
    },
    {
     "name": "stdout",
     "output_type": "stream",
     "text": [
      "Epoch 4, Training Loss: 0.03597636520862579\n",
      "\n",
      "Training epoch 5\n",
      "\n"
     ]
    },
    {
     "data": {
      "application/vnd.jupyter.widget-view+json": {
       "model_id": "44e698ba1c844942a2c429dff0d15f04",
       "version_major": 2,
       "version_minor": 0
      },
      "text/plain": [
       "  0%|          | 0/579 [00:00<?, ?it/s]"
      ]
     },
     "metadata": {},
     "output_type": "display_data"
    },
    {
     "name": "stdout",
     "output_type": "stream",
     "text": [
      "Epoch 5, Training Loss: 0.035976480692625046\n",
      "\n",
      "Training epoch 6\n",
      "\n"
     ]
    },
    {
     "data": {
      "application/vnd.jupyter.widget-view+json": {
       "model_id": "7ee1a90f1b694d7887747707d04840bf",
       "version_major": 2,
       "version_minor": 0
      },
      "text/plain": [
       "  0%|          | 0/579 [00:00<?, ?it/s]"
      ]
     },
     "metadata": {},
     "output_type": "display_data"
    },
    {
     "name": "stdout",
     "output_type": "stream",
     "text": [
      "Epoch 6, Training Loss: 0.03597636520862579\n",
      "\n",
      "Training epoch 7\n",
      "\n"
     ]
    },
    {
     "data": {
      "application/vnd.jupyter.widget-view+json": {
       "model_id": "ed6f0dbcc8ec4abc94e143d489d11cf4",
       "version_major": 2,
       "version_minor": 0
      },
      "text/plain": [
       "  0%|          | 0/579 [00:00<?, ?it/s]"
      ]
     },
     "metadata": {},
     "output_type": "display_data"
    },
    {
     "name": "stdout",
     "output_type": "stream",
     "text": [
      "Epoch 7, Training Loss: 0.0359765961766243\n",
      "\n",
      "Training epoch 8\n",
      "\n"
     ]
    },
    {
     "data": {
      "application/vnd.jupyter.widget-view+json": {
       "model_id": "d8864e086a4846e982f8aceaf2111d8c",
       "version_major": 2,
       "version_minor": 0
      },
      "text/plain": [
       "  0%|          | 0/579 [00:00<?, ?it/s]"
      ]
     },
     "metadata": {},
     "output_type": "display_data"
    }
   ],
   "source": [
    "best_epoch = -1\n",
    "\n",
    "if training_best_model_criterion in ('train_loss', 'valid_loss'):\n",
    "    best_score = float('inf')\n",
    "else:\n",
    "    best_score = -1\n",
    "\n",
    "for epoch in tqdm.notebook.tqdm(range(int(training_epochs))):\n",
    "\n",
    "    print(\"Training epoch %d\" % epoch)\n",
    "    print()\n",
    "\n",
    "    classifier_model.train()\n",
    "\n",
    "    for batch in tqdm.notebook.tqdm(train_dataloader):\n",
    "\n",
    "        reviews_repeated = []\n",
    "        prompts_populated = []\n",
    "\n",
    "        for prompt in sentiment_prompts:\n",
    "            reviews_repeated = reviews_repeated + batch[\"text\"]\n",
    "\n",
    "            for aspect in batch[\"aspect\"]:\n",
    "                prompts_populated.append(prompt['prompt'].format(aspect=aspect))\n",
    "\n",
    "        batch_encoded = tokenizer(\n",
    "            reviews_repeated, prompts_populated,\n",
    "            padding='max_length', truncation='only_first', max_length=256,\n",
    "            return_tensors='pt')\n",
    "        \n",
    "        batch_encoded = batch_encoded.to(torch_device)\n",
    "\n",
    "        batch_label = batch[\"sentiment\"]\n",
    "        batch_label = batch_label.to(torch_device)\n",
    "\n",
    "        optimizer.zero_grad()\n",
    "\n",
    "        batch_output = classifier_model(batch_encoded)\n",
    "\n",
    "        loss = loss_function(batch_output, batch_label)\n",
    "\n",
    "        loss.backward()\n",
    "        torch.nn.utils.clip_grad_norm_(classifier_model.parameters(), training_max_grad_norm)\n",
    "\n",
    "        optimizer.step()\n",
    "        scheduler.step()\n",
    "        \n",
    "    print(\"Epoch {}, Training Loss: {}\".format(epoch, loss.item()))\n",
    "    print()\n",
    "\n",
    "    # Validate the model using val dataset\n",
    "    if validation_enabled:\n",
    "        with torch.no_grad():\n",
    "            classifier_model.eval()\n",
    "\n",
    "            print(\"Validation epoch %d\" % epoch)\n",
    "            print()\n",
    "\n",
    "            predictions_val = torch.Tensor()\n",
    "            labels_val = torch.Tensor()\n",
    "\n",
    "            for batch_val in tqdm.notebook.tqdm(validation_dataloader):\n",
    "\n",
    "                reviews_repeated = []\n",
    "                prompts_populated = []\n",
    "\n",
    "                for prompt in sentiment_prompts:\n",
    "                    reviews_repeated = reviews_repeated + batch_val[\"text\"]\n",
    "\n",
    "                    for aspect in batch_val[\"aspect\"]:\n",
    "                        prompts_populated.append(prompt['prompt'].format(aspect=aspect))\n",
    "\n",
    "                batch_val_encoded = tokenizer(\n",
    "                    reviews_repeated, prompts_populated,\n",
    "                    padding='max_length', truncation='only_first', max_length=256,\n",
    "                    return_tensors='pt')\n",
    "\n",
    "                batch_val_encoded.to(torch_device)\n",
    "\n",
    "                batch_val_label = batch_val[\"sentiment\"]\n",
    "\n",
    "                batch_val_output = classifier_model(batch_val_encoded)\n",
    "\n",
    "                batch_val_output = batch_val_output.to('cpu')\n",
    "\n",
    "                predictions_val = torch.cat([predictions_val, batch_val_output])\n",
    "                labels_val = torch.cat([labels_val, batch_val_label])\n",
    "\n",
    "            # Compute metrics\n",
    "            validation_loss = torch.nn.functional.cross_entropy(predictions_val, labels_val.long())\n",
    "            validation_metrics = compute_metrics(predictions_val, labels_val)\n",
    "\n",
    "            print(\"Validation Loss: {}, Validation Metrics: {}\".format(validation_loss.item(), validation_metrics))\n",
    "            print()\n",
    "\n",
    "    if training_best_model_criterion == 'train_loss':\n",
    "        epoch_score = loss.item()\n",
    "    elif training_best_model_criterion == 'valid_loss':\n",
    "        epoch_score = validation_loss.item()\n",
    "        \n",
    "    if training_best_model_criterion in ('train_loss', 'valid_loss'):\n",
    "        better_model_found = epoch_score < best_score\n",
    "    else:\n",
    "        better_model_found = epoch_score > best_score\n",
    "\n",
    "    # Save the current epoch's model if the validation loss is lower than the best known so far\n",
    "    if better_model_found:\n",
    "        if best_epoch != -1:\n",
    "            try:\n",
    "                os.remove(os.path.join(trained_model_directory, 'epoch_{}.pt'.format(best_epoch)))\n",
    "            except:\n",
    "                pass\n",
    "\n",
    "        best_score = epoch_score\n",
    "        best_epoch = epoch\n",
    "\n",
    "        torch.save(\n",
    "            classifier_model.state_dict(),\n",
    "            os.path.join(trained_model_directory, 'epoch_{}.pt'.format(epoch)))"
   ]
  },
  {
   "cell_type": "markdown",
   "id": "respected-hours",
   "metadata": {
    "papermill": {
     "duration": null,
     "end_time": null,
     "exception": null,
     "start_time": null,
     "status": "completed"
    },
    "tags": []
   },
   "source": [
    "## Evaluation with in-domain test set\n",
    "\n"
   ]
  },
  {
   "cell_type": "code",
   "execution_count": null,
   "id": "proper-strain",
   "metadata": {
    "papermill": {
     "duration": null,
     "end_time": null,
     "exception": null,
     "start_time": null,
     "status": "completed"
    },
    "tags": []
   },
   "outputs": [],
   "source": [
    "test_dataloader = torch.utils.data.DataLoader(\n",
    "    test_set, batch_size=testing_batch_size, pin_memory=use_pin_memory)"
   ]
  },
  {
   "cell_type": "code",
   "execution_count": null,
   "id": "considerable-plenty",
   "metadata": {
    "papermill": {
     "duration": null,
     "end_time": null,
     "exception": null,
     "start_time": null,
     "status": "completed"
    },
    "tags": []
   },
   "outputs": [],
   "source": [
    "# Load the best found head weights\n",
    "with torch.no_grad():\n",
    "    print('Loading epoch {}'.format(best_epoch))\n",
    "\n",
    "    classifier_model.load_state_dict(torch.load(\n",
    "        os.path.join(trained_model_directory, 'epoch_{}.pt'.format(best_epoch)),\n",
    "        map_location=torch_device))\n",
    "\n",
    "    classifier_model.eval()\n",
    "\n",
    "    predictions_test = torch.Tensor()\n",
    "    labels_test = torch.Tensor()\n",
    "\n",
    "    for batch_test in tqdm.notebook.tqdm(test_dataloader):\n",
    "\n",
    "        reviews_repeated = []\n",
    "        prompts_populated = []\n",
    "\n",
    "        for prompt in sentiment_prompts:\n",
    "            reviews_repeated = reviews_repeated + batch_test[\"text\"]\n",
    "\n",
    "            for aspect in batch_test[\"aspect\"]:\n",
    "                prompts_populated.append(prompt['prompt'].format(aspect=aspect))\n",
    "\n",
    "        batch_test_encoded = tokenizer(\n",
    "            reviews_repeated, prompts_populated,\n",
    "            padding='max_length', truncation='only_first', max_length=256,\n",
    "            return_tensors='pt')\n",
    "\n",
    "        batch_test_encoded.to(torch_device)\n",
    "\n",
    "        batch_test_label = batch_test[\"sentiment\"]\n",
    "\n",
    "        batch_test_output = classifier_model(batch_test_encoded)\n",
    "\n",
    "        batch_test_output = batch_test_output.to('cpu')\n",
    "\n",
    "        predictions_test = torch.cat([predictions_test, batch_test_output])\n",
    "        labels_test = torch.cat([labels_test, batch_test_label])\n",
    "\n",
    "    # Compute metrics\n",
    "    test_metrics = compute_metrics(predictions_test, labels_test)\n",
    "\n",
    "    print(test_metrics)\n",
    "    \n",
    "    # Save test_metrics into a file for later processing\n",
    "    with open(os.path.join(trained_model_directory, 'test_metrics.json'), 'w') as test_metrics_json:\n",
    "        json.dump(test_metrics, test_metrics_json)"
   ]
  },
  {
   "cell_type": "markdown",
   "id": "incredible-bhutan",
   "metadata": {
    "papermill": {
     "duration": null,
     "end_time": null,
     "exception": null,
     "start_time": null,
     "status": "completed"
    },
    "tags": []
   },
   "source": [
    "## Results visualization"
   ]
  },
  {
   "cell_type": "code",
   "execution_count": null,
   "id": "colored-richardson",
   "metadata": {
    "papermill": {
     "duration": null,
     "end_time": null,
     "exception": null,
     "start_time": null,
     "status": "completed"
    },
    "tags": []
   },
   "outputs": [],
   "source": [
    "# Calculate metrics and confusion matrix based upon predictions and true labels\n",
    "cm = sklearn.metrics.confusion_matrix(labels_test.detach().numpy(), predictions_test.detach().numpy().argmax(-1))\n",
    "\n",
    "df_cm = pd.DataFrame(\n",
    "    cm,\n",
    "    index=[i for i in [\"positive\", \"negative\", \"neutral\"]],\n",
    "    columns=[i for i in [\"positive\", \"negative\", \"neutral\"]])\n",
    "\n",
    "plt.figure(figsize=(10, 7))\n",
    "\n",
    "ax = sn.heatmap(df_cm, annot=True)\n",
    "\n",
    "ax.set(xlabel='Predicted Label', ylabel='True Label')\n",
    "plt.show()"
   ]
  }
 ],
 "metadata": {
  "accelerator": "GPU",
  "celltoolbar": "Tags",
  "colab": {
   "collapsed_sections": [],
   "name": "prompt_logit_softmax_atsc_single_prompt_i_felt_bert_amazon_electronics.ipynb",
   "provenance": [],
   "toc_visible": true
  },
  "kernelspec": {
   "display_name": "Python 3",
   "language": "python",
   "name": "python3"
  },
  "language_info": {
   "codemirror_mode": {
    "name": "ipython",
    "version": 3
   },
   "file_extension": ".py",
   "mimetype": "text/x-python",
   "name": "python",
   "nbconvert_exporter": "python",
   "pygments_lexer": "ipython3",
   "version": "3.7.9"
  },
  "papermill": {
   "default_parameters": {},
   "duration": 4473.481421,
   "end_time": "2021-04-12T23:55:29.936279",
   "environment_variables": {},
   "exception": null,
   "input_path": "bert_prompt_logit_softmax_atsc.ipynb",
   "output_path": "results_bert_prompt_logit_softmax_atsc_restaurants/bert_prompt_logit_softmax_atsc_restaurants_cross_domain_bert_yelp_restaurants_multiple_prompts_682.ipynb",
   "parameters": {
    "experiment_id": "bert_prompt_logit_softmax_atsc_restaurants_cross_domain_bert_yelp_restaurants_multiple_prompts_682",
    "lm_model_path": "../trained_models/lm_further_pretraining_bert_yelp_restaurants_bseoh_2021-03-22--15_03_31",
    "random_seed": 682,
    "sentiment_prompts": [
     {
      "labels": [
       "good",
       "bad",
       "ok"
      ],
      "prompt": "I felt the {aspect} was [MASK]."
     },
     {
      "labels": [
       "like",
       "dislike",
       "ignore"
      ],
      "prompt": "I [MASK] the {aspect}."
     },
     {
      "labels": [
       "good",
       "bad",
       "indifferent"
      ],
      "prompt": "The {aspect} made me feel [MASK]."
     },
     {
      "labels": [
       "good",
       "bad",
       "ok"
      ],
      "prompt": "The {aspect} is [MASK]."
     }
    ],
    "testing_batch_size": 32,
    "testing_domain": "restaurants",
    "training_domain": "laptops"
   },
   "start_time": "2021-04-12T22:40:56.454858",
   "version": "2.3.2"
  },
  "widgets": {
   "application/vnd.jupyter.widget-state+json": {
    "04ab9f4d202d4510bf1d5b72274cff8d": {
     "model_module": "@jupyter-widgets/controls",
     "model_name": "HBoxModel",
     "state": {
      "_dom_classes": [],
      "_model_module": "@jupyter-widgets/controls",
      "_model_module_version": "1.5.0",
      "_model_name": "HBoxModel",
      "_view_count": null,
      "_view_module": "@jupyter-widgets/controls",
      "_view_module_version": "1.5.0",
      "_view_name": "HBoxView",
      "box_style": "",
      "children": [
       "IPY_MODEL_ddbb891369ec437f81e00a47aefc32dd",
       "IPY_MODEL_2b4f63617920492a9b0f421999b88ec9"
      ],
      "layout": "IPY_MODEL_f8506ddaddf0470f85203cfa01349f3d"
     }
    },
    "0b1cc3f1c83d42bdaee67245a070058b": {
     "model_module": "@jupyter-widgets/base",
     "model_name": "LayoutModel",
     "state": {
      "_model_module": "@jupyter-widgets/base",
      "_model_module_version": "1.2.0",
      "_model_name": "LayoutModel",
      "_view_count": null,
      "_view_module": "@jupyter-widgets/base",
      "_view_module_version": "1.2.0",
      "_view_name": "LayoutView",
      "align_content": null,
      "align_items": null,
      "align_self": null,
      "border": null,
      "bottom": null,
      "display": null,
      "flex": null,
      "flex_flow": null,
      "grid_area": null,
      "grid_auto_columns": null,
      "grid_auto_flow": null,
      "grid_auto_rows": null,
      "grid_column": null,
      "grid_gap": null,
      "grid_row": null,
      "grid_template_areas": null,
      "grid_template_columns": null,
      "grid_template_rows": null,
      "height": null,
      "justify_content": null,
      "justify_items": null,
      "left": null,
      "margin": null,
      "max_height": null,
      "max_width": null,
      "min_height": null,
      "min_width": null,
      "object_fit": null,
      "object_position": null,
      "order": null,
      "overflow": null,
      "overflow_x": null,
      "overflow_y": null,
      "padding": null,
      "right": null,
      "top": null,
      "visibility": null,
      "width": null
     }
    },
    "0be1f709b9bf4c778e8b576cc1b391b4": {
     "model_module": "@jupyter-widgets/base",
     "model_name": "LayoutModel",
     "state": {
      "_model_module": "@jupyter-widgets/base",
      "_model_module_version": "1.2.0",
      "_model_name": "LayoutModel",
      "_view_count": null,
      "_view_module": "@jupyter-widgets/base",
      "_view_module_version": "1.2.0",
      "_view_name": "LayoutView",
      "align_content": null,
      "align_items": null,
      "align_self": null,
      "border": null,
      "bottom": null,
      "display": null,
      "flex": null,
      "flex_flow": null,
      "grid_area": null,
      "grid_auto_columns": null,
      "grid_auto_flow": null,
      "grid_auto_rows": null,
      "grid_column": null,
      "grid_gap": null,
      "grid_row": null,
      "grid_template_areas": null,
      "grid_template_columns": null,
      "grid_template_rows": null,
      "height": null,
      "justify_content": null,
      "justify_items": null,
      "left": null,
      "margin": null,
      "max_height": null,
      "max_width": null,
      "min_height": null,
      "min_width": null,
      "object_fit": null,
      "object_position": null,
      "order": null,
      "overflow": null,
      "overflow_x": null,
      "overflow_y": null,
      "padding": null,
      "right": null,
      "top": null,
      "visibility": null,
      "width": null
     }
    },
    "1794cd2644d243a48627f82ed4eea1ad": {
     "model_module": "@jupyter-widgets/base",
     "model_name": "LayoutModel",
     "state": {
      "_model_module": "@jupyter-widgets/base",
      "_model_module_version": "1.2.0",
      "_model_name": "LayoutModel",
      "_view_count": null,
      "_view_module": "@jupyter-widgets/base",
      "_view_module_version": "1.2.0",
      "_view_name": "LayoutView",
      "align_content": null,
      "align_items": null,
      "align_self": null,
      "border": null,
      "bottom": null,
      "display": null,
      "flex": null,
      "flex_flow": null,
      "grid_area": null,
      "grid_auto_columns": null,
      "grid_auto_flow": null,
      "grid_auto_rows": null,
      "grid_column": null,
      "grid_gap": null,
      "grid_row": null,
      "grid_template_areas": null,
      "grid_template_columns": null,
      "grid_template_rows": null,
      "height": null,
      "justify_content": null,
      "justify_items": null,
      "left": null,
      "margin": null,
      "max_height": null,
      "max_width": null,
      "min_height": null,
      "min_width": null,
      "object_fit": null,
      "object_position": null,
      "order": null,
      "overflow": null,
      "overflow_x": null,
      "overflow_y": null,
      "padding": null,
      "right": null,
      "top": null,
      "visibility": null,
      "width": null
     }
    },
    "2b4f63617920492a9b0f421999b88ec9": {
     "model_module": "@jupyter-widgets/controls",
     "model_name": "HTMLModel",
     "state": {
      "_dom_classes": [],
      "_model_module": "@jupyter-widgets/controls",
      "_model_module_version": "1.5.0",
      "_model_name": "HTMLModel",
      "_view_count": null,
      "_view_module": "@jupyter-widgets/controls",
      "_view_module_version": "1.5.0",
      "_view_name": "HTMLView",
      "description": "",
      "description_tooltip": null,
      "layout": "IPY_MODEL_0be1f709b9bf4c778e8b576cc1b391b4",
      "placeholder": "​",
      "style": "IPY_MODEL_a40aa7668bcd4f8796a5abca46c13590",
      "value": " 23/23 [00:13&lt;00:00,  1.71it/s]"
     }
    },
    "2d966bc74d8d4c78b5dfe18d91dea381": {
     "model_module": "@jupyter-widgets/base",
     "model_name": "LayoutModel",
     "state": {
      "_model_module": "@jupyter-widgets/base",
      "_model_module_version": "1.2.0",
      "_model_name": "LayoutModel",
      "_view_count": null,
      "_view_module": "@jupyter-widgets/base",
      "_view_module_version": "1.2.0",
      "_view_name": "LayoutView",
      "align_content": null,
      "align_items": null,
      "align_self": null,
      "border": null,
      "bottom": null,
      "display": null,
      "flex": null,
      "flex_flow": null,
      "grid_area": null,
      "grid_auto_columns": null,
      "grid_auto_flow": null,
      "grid_auto_rows": null,
      "grid_column": null,
      "grid_gap": null,
      "grid_row": null,
      "grid_template_areas": null,
      "grid_template_columns": null,
      "grid_template_rows": null,
      "height": null,
      "justify_content": null,
      "justify_items": null,
      "left": null,
      "margin": null,
      "max_height": null,
      "max_width": null,
      "min_height": null,
      "min_width": null,
      "object_fit": null,
      "object_position": null,
      "order": null,
      "overflow": null,
      "overflow_x": null,
      "overflow_y": null,
      "padding": null,
      "right": null,
      "top": null,
      "visibility": null,
      "width": null
     }
    },
    "2edf4e3164904407b98fe217a9632abe": {
     "model_module": "@jupyter-widgets/base",
     "model_name": "LayoutModel",
     "state": {
      "_model_module": "@jupyter-widgets/base",
      "_model_module_version": "1.2.0",
      "_model_name": "LayoutModel",
      "_view_count": null,
      "_view_module": "@jupyter-widgets/base",
      "_view_module_version": "1.2.0",
      "_view_name": "LayoutView",
      "align_content": null,
      "align_items": null,
      "align_self": null,
      "border": null,
      "bottom": null,
      "display": null,
      "flex": null,
      "flex_flow": null,
      "grid_area": null,
      "grid_auto_columns": null,
      "grid_auto_flow": null,
      "grid_auto_rows": null,
      "grid_column": null,
      "grid_gap": null,
      "grid_row": null,
      "grid_template_areas": null,
      "grid_template_columns": null,
      "grid_template_rows": null,
      "height": null,
      "justify_content": null,
      "justify_items": null,
      "left": null,
      "margin": null,
      "max_height": null,
      "max_width": null,
      "min_height": null,
      "min_width": null,
      "object_fit": null,
      "object_position": null,
      "order": null,
      "overflow": null,
      "overflow_x": null,
      "overflow_y": null,
      "padding": null,
      "right": null,
      "top": null,
      "visibility": null,
      "width": null
     }
    },
    "31a968113d2d4b41949f7c08d9f6ca0c": {
     "model_module": "@jupyter-widgets/controls",
     "model_name": "DescriptionStyleModel",
     "state": {
      "_model_module": "@jupyter-widgets/controls",
      "_model_module_version": "1.5.0",
      "_model_name": "DescriptionStyleModel",
      "_view_count": null,
      "_view_module": "@jupyter-widgets/base",
      "_view_module_version": "1.2.0",
      "_view_name": "StyleView",
      "description_width": ""
     }
    },
    "31c0d2821f2449b4b87ef333da933918": {
     "model_module": "@jupyter-widgets/controls",
     "model_name": "FloatProgressModel",
     "state": {
      "_dom_classes": [],
      "_model_module": "@jupyter-widgets/controls",
      "_model_module_version": "1.5.0",
      "_model_name": "FloatProgressModel",
      "_view_count": null,
      "_view_module": "@jupyter-widgets/controls",
      "_view_module_version": "1.5.0",
      "_view_name": "ProgressView",
      "bar_style": "success",
      "description": "100%",
      "description_tooltip": null,
      "layout": "IPY_MODEL_accaa4c642374d9a90d94cf00dde98f4",
      "max": 20,
      "min": 0,
      "orientation": "horizontal",
      "style": "IPY_MODEL_f7a442ee15784e7fbdf8f82f059bb33a",
      "value": 20
     }
    },
    "3504b977db434bf2a78a8ff8909a6361": {
     "model_module": "@jupyter-widgets/base",
     "model_name": "LayoutModel",
     "state": {
      "_model_module": "@jupyter-widgets/base",
      "_model_module_version": "1.2.0",
      "_model_name": "LayoutModel",
      "_view_count": null,
      "_view_module": "@jupyter-widgets/base",
      "_view_module_version": "1.2.0",
      "_view_name": "LayoutView",
      "align_content": null,
      "align_items": null,
      "align_self": null,
      "border": null,
      "bottom": null,
      "display": null,
      "flex": null,
      "flex_flow": null,
      "grid_area": null,
      "grid_auto_columns": null,
      "grid_auto_flow": null,
      "grid_auto_rows": null,
      "grid_column": null,
      "grid_gap": null,
      "grid_row": null,
      "grid_template_areas": null,
      "grid_template_columns": null,
      "grid_template_rows": null,
      "height": null,
      "justify_content": null,
      "justify_items": null,
      "left": null,
      "margin": null,
      "max_height": null,
      "max_width": null,
      "min_height": null,
      "min_width": null,
      "object_fit": null,
      "object_position": null,
      "order": null,
      "overflow": null,
      "overflow_x": null,
      "overflow_y": null,
      "padding": null,
      "right": null,
      "top": null,
      "visibility": null,
      "width": null
     }
    },
    "3ff0a0b85d234c05b6e6827fd4bac876": {
     "model_module": "@jupyter-widgets/controls",
     "model_name": "HTMLModel",
     "state": {
      "_dom_classes": [],
      "_model_module": "@jupyter-widgets/controls",
      "_model_module_version": "1.5.0",
      "_model_name": "HTMLModel",
      "_view_count": null,
      "_view_module": "@jupyter-widgets/controls",
      "_view_module_version": "1.5.0",
      "_view_name": "HTMLView",
      "description": "",
      "description_tooltip": null,
      "layout": "IPY_MODEL_0b1cc3f1c83d42bdaee67245a070058b",
      "placeholder": "​",
      "style": "IPY_MODEL_c12e21d86926469793cdaea2fa3db031",
      "value": " 91/91 [01:15&lt;00:00,  1.21it/s]"
     }
    },
    "40442308fe8f403facfa3558c9e48550": {
     "model_module": "@jupyter-widgets/base",
     "model_name": "LayoutModel",
     "state": {
      "_model_module": "@jupyter-widgets/base",
      "_model_module_version": "1.2.0",
      "_model_name": "LayoutModel",
      "_view_count": null,
      "_view_module": "@jupyter-widgets/base",
      "_view_module_version": "1.2.0",
      "_view_name": "LayoutView",
      "align_content": null,
      "align_items": null,
      "align_self": null,
      "border": null,
      "bottom": null,
      "display": null,
      "flex": null,
      "flex_flow": null,
      "grid_area": null,
      "grid_auto_columns": null,
      "grid_auto_flow": null,
      "grid_auto_rows": null,
      "grid_column": null,
      "grid_gap": null,
      "grid_row": null,
      "grid_template_areas": null,
      "grid_template_columns": null,
      "grid_template_rows": null,
      "height": null,
      "justify_content": null,
      "justify_items": null,
      "left": null,
      "margin": null,
      "max_height": null,
      "max_width": null,
      "min_height": null,
      "min_width": null,
      "object_fit": null,
      "object_position": null,
      "order": null,
      "overflow": null,
      "overflow_x": null,
      "overflow_y": null,
      "padding": null,
      "right": null,
      "top": null,
      "visibility": null,
      "width": null
     }
    },
    "4e6e9b6694f542cfa2e8198c68999eb9": {
     "model_module": "@jupyter-widgets/base",
     "model_name": "LayoutModel",
     "state": {
      "_model_module": "@jupyter-widgets/base",
      "_model_module_version": "1.2.0",
      "_model_name": "LayoutModel",
      "_view_count": null,
      "_view_module": "@jupyter-widgets/base",
      "_view_module_version": "1.2.0",
      "_view_name": "LayoutView",
      "align_content": null,
      "align_items": null,
      "align_self": null,
      "border": null,
      "bottom": null,
      "display": null,
      "flex": null,
      "flex_flow": null,
      "grid_area": null,
      "grid_auto_columns": null,
      "grid_auto_flow": null,
      "grid_auto_rows": null,
      "grid_column": null,
      "grid_gap": null,
      "grid_row": null,
      "grid_template_areas": null,
      "grid_template_columns": null,
      "grid_template_rows": null,
      "height": null,
      "justify_content": null,
      "justify_items": null,
      "left": null,
      "margin": null,
      "max_height": null,
      "max_width": null,
      "min_height": null,
      "min_width": null,
      "object_fit": null,
      "object_position": null,
      "order": null,
      "overflow": null,
      "overflow_x": null,
      "overflow_y": null,
      "padding": null,
      "right": null,
      "top": null,
      "visibility": null,
      "width": null
     }
    },
    "50fe91c1b38f4f16b7122e8371a911d3": {
     "model_module": "@jupyter-widgets/controls",
     "model_name": "DescriptionStyleModel",
     "state": {
      "_model_module": "@jupyter-widgets/controls",
      "_model_module_version": "1.5.0",
      "_model_name": "DescriptionStyleModel",
      "_view_count": null,
      "_view_module": "@jupyter-widgets/base",
      "_view_module_version": "1.2.0",
      "_view_name": "StyleView",
      "description_width": ""
     }
    },
    "5574d6a08ac94dceb4e88a924b3aabfb": {
     "model_module": "@jupyter-widgets/controls",
     "model_name": "HTMLModel",
     "state": {
      "_dom_classes": [],
      "_model_module": "@jupyter-widgets/controls",
      "_model_module_version": "1.5.0",
      "_model_name": "HTMLModel",
      "_view_count": null,
      "_view_module": "@jupyter-widgets/controls",
      "_view_module_version": "1.5.0",
      "_view_name": "HTMLView",
      "description": "",
      "description_tooltip": null,
      "layout": "IPY_MODEL_1794cd2644d243a48627f82ed4eea1ad",
      "placeholder": "​",
      "style": "IPY_MODEL_31a968113d2d4b41949f7c08d9f6ca0c",
      "value": " 23/23 [00:14&lt;00:00,  1.57it/s]"
     }
    },
    "5c13d354d53c42328e4e6f22a73997e3": {
     "model_module": "@jupyter-widgets/base",
     "model_name": "LayoutModel",
     "state": {
      "_model_module": "@jupyter-widgets/base",
      "_model_module_version": "1.2.0",
      "_model_name": "LayoutModel",
      "_view_count": null,
      "_view_module": "@jupyter-widgets/base",
      "_view_module_version": "1.2.0",
      "_view_name": "LayoutView",
      "align_content": null,
      "align_items": null,
      "align_self": null,
      "border": null,
      "bottom": null,
      "display": null,
      "flex": null,
      "flex_flow": null,
      "grid_area": null,
      "grid_auto_columns": null,
      "grid_auto_flow": null,
      "grid_auto_rows": null,
      "grid_column": null,
      "grid_gap": null,
      "grid_row": null,
      "grid_template_areas": null,
      "grid_template_columns": null,
      "grid_template_rows": null,
      "height": null,
      "justify_content": null,
      "justify_items": null,
      "left": null,
      "margin": null,
      "max_height": null,
      "max_width": null,
      "min_height": null,
      "min_width": null,
      "object_fit": null,
      "object_position": null,
      "order": null,
      "overflow": null,
      "overflow_x": null,
      "overflow_y": null,
      "padding": null,
      "right": null,
      "top": null,
      "visibility": null,
      "width": null
     }
    },
    "6108e8e60fa34050b744ba4c6ab26120": {
     "model_module": "@jupyter-widgets/base",
     "model_name": "LayoutModel",
     "state": {
      "_model_module": "@jupyter-widgets/base",
      "_model_module_version": "1.2.0",
      "_model_name": "LayoutModel",
      "_view_count": null,
      "_view_module": "@jupyter-widgets/base",
      "_view_module_version": "1.2.0",
      "_view_name": "LayoutView",
      "align_content": null,
      "align_items": null,
      "align_self": null,
      "border": null,
      "bottom": null,
      "display": null,
      "flex": null,
      "flex_flow": null,
      "grid_area": null,
      "grid_auto_columns": null,
      "grid_auto_flow": null,
      "grid_auto_rows": null,
      "grid_column": null,
      "grid_gap": null,
      "grid_row": null,
      "grid_template_areas": null,
      "grid_template_columns": null,
      "grid_template_rows": null,
      "height": null,
      "justify_content": null,
      "justify_items": null,
      "left": null,
      "margin": null,
      "max_height": null,
      "max_width": null,
      "min_height": null,
      "min_width": null,
      "object_fit": null,
      "object_position": null,
      "order": null,
      "overflow": null,
      "overflow_x": null,
      "overflow_y": null,
      "padding": null,
      "right": null,
      "top": null,
      "visibility": null,
      "width": null
     }
    },
    "62dab249f9d9493595e26146efaf1ce1": {
     "model_module": "@jupyter-widgets/controls",
     "model_name": "ProgressStyleModel",
     "state": {
      "_model_module": "@jupyter-widgets/controls",
      "_model_module_version": "1.5.0",
      "_model_name": "ProgressStyleModel",
      "_view_count": null,
      "_view_module": "@jupyter-widgets/base",
      "_view_module_version": "1.2.0",
      "_view_name": "StyleView",
      "bar_color": null,
      "description_width": "initial"
     }
    },
    "64370dad11c74804b13494a6aa2534db": {
     "model_module": "@jupyter-widgets/base",
     "model_name": "LayoutModel",
     "state": {
      "_model_module": "@jupyter-widgets/base",
      "_model_module_version": "1.2.0",
      "_model_name": "LayoutModel",
      "_view_count": null,
      "_view_module": "@jupyter-widgets/base",
      "_view_module_version": "1.2.0",
      "_view_name": "LayoutView",
      "align_content": null,
      "align_items": null,
      "align_self": null,
      "border": null,
      "bottom": null,
      "display": null,
      "flex": null,
      "flex_flow": null,
      "grid_area": null,
      "grid_auto_columns": null,
      "grid_auto_flow": null,
      "grid_auto_rows": null,
      "grid_column": null,
      "grid_gap": null,
      "grid_row": null,
      "grid_template_areas": null,
      "grid_template_columns": null,
      "grid_template_rows": null,
      "height": null,
      "justify_content": null,
      "justify_items": null,
      "left": null,
      "margin": null,
      "max_height": null,
      "max_width": null,
      "min_height": null,
      "min_width": null,
      "object_fit": null,
      "object_position": null,
      "order": null,
      "overflow": null,
      "overflow_x": null,
      "overflow_y": null,
      "padding": null,
      "right": null,
      "top": null,
      "visibility": null,
      "width": null
     }
    },
    "66fada69a93547d39175b0cbbb42b8ea": {
     "model_module": "@jupyter-widgets/controls",
     "model_name": "FloatProgressModel",
     "state": {
      "_dom_classes": [],
      "_model_module": "@jupyter-widgets/controls",
      "_model_module_version": "1.5.0",
      "_model_name": "FloatProgressModel",
      "_view_count": null,
      "_view_module": "@jupyter-widgets/controls",
      "_view_module_version": "1.5.0",
      "_view_name": "ProgressView",
      "bar_style": "success",
      "description": "100%",
      "description_tooltip": null,
      "layout": "IPY_MODEL_40442308fe8f403facfa3558c9e48550",
      "max": 91,
      "min": 0,
      "orientation": "horizontal",
      "style": "IPY_MODEL_62dab249f9d9493595e26146efaf1ce1",
      "value": 91
     }
    },
    "6de1bbe40a634c90a957ca0e13e2b0bf": {
     "model_module": "@jupyter-widgets/controls",
     "model_name": "FloatProgressModel",
     "state": {
      "_dom_classes": [],
      "_model_module": "@jupyter-widgets/controls",
      "_model_module_version": "1.5.0",
      "_model_name": "FloatProgressModel",
      "_view_count": null,
      "_view_module": "@jupyter-widgets/controls",
      "_view_module_version": "1.5.0",
      "_view_name": "ProgressView",
      "bar_style": "success",
      "description": "100%",
      "description_tooltip": null,
      "layout": "IPY_MODEL_3504b977db434bf2a78a8ff8909a6361",
      "max": 2,
      "min": 0,
      "orientation": "horizontal",
      "style": "IPY_MODEL_8704563f224149c6b46300b53681c280",
      "value": 2
     }
    },
    "71a600990702485da87ff765724a8c1a": {
     "model_module": "@jupyter-widgets/controls",
     "model_name": "HBoxModel",
     "state": {
      "_dom_classes": [],
      "_model_module": "@jupyter-widgets/controls",
      "_model_module_version": "1.5.0",
      "_model_name": "HBoxModel",
      "_view_count": null,
      "_view_module": "@jupyter-widgets/controls",
      "_view_module_version": "1.5.0",
      "_view_name": "HBoxView",
      "box_style": "",
      "children": [
       "IPY_MODEL_66fada69a93547d39175b0cbbb42b8ea",
       "IPY_MODEL_73d62910981940e998269dafffea565e"
      ],
      "layout": "IPY_MODEL_2d966bc74d8d4c78b5dfe18d91dea381"
     }
    },
    "73d62910981940e998269dafffea565e": {
     "model_module": "@jupyter-widgets/controls",
     "model_name": "HTMLModel",
     "state": {
      "_dom_classes": [],
      "_model_module": "@jupyter-widgets/controls",
      "_model_module_version": "1.5.0",
      "_model_name": "HTMLModel",
      "_view_count": null,
      "_view_module": "@jupyter-widgets/controls",
      "_view_module_version": "1.5.0",
      "_view_name": "HTMLView",
      "description": "",
      "description_tooltip": null,
      "layout": "IPY_MODEL_4e6e9b6694f542cfa2e8198c68999eb9",
      "placeholder": "​",
      "style": "IPY_MODEL_b2cef76b560d4c1c91224a47ad5d728a",
      "value": " 91/91 [01:05&lt;00:00,  1.40it/s]"
     }
    },
    "7ee4bc104d304bda936c6e0be5df219c": {
     "model_module": "@jupyter-widgets/controls",
     "model_name": "HBoxModel",
     "state": {
      "_dom_classes": [],
      "_model_module": "@jupyter-widgets/controls",
      "_model_module_version": "1.5.0",
      "_model_name": "HBoxModel",
      "_view_count": null,
      "_view_module": "@jupyter-widgets/controls",
      "_view_module_version": "1.5.0",
      "_view_name": "HBoxView",
      "box_style": "",
      "children": [
       "IPY_MODEL_94b1b0cbb90c4568b00b6cb65b36319e",
       "IPY_MODEL_3ff0a0b85d234c05b6e6827fd4bac876"
      ],
      "layout": "IPY_MODEL_94874c5238dd4669af756c80b9fb4036"
     }
    },
    "8704563f224149c6b46300b53681c280": {
     "model_module": "@jupyter-widgets/controls",
     "model_name": "ProgressStyleModel",
     "state": {
      "_model_module": "@jupyter-widgets/controls",
      "_model_module_version": "1.5.0",
      "_model_name": "ProgressStyleModel",
      "_view_count": null,
      "_view_module": "@jupyter-widgets/base",
      "_view_module_version": "1.2.0",
      "_view_name": "StyleView",
      "bar_color": null,
      "description_width": "initial"
     }
    },
    "88a2df9016a743a48b7d99cf63a328b7": {
     "model_module": "@jupyter-widgets/controls",
     "model_name": "HBoxModel",
     "state": {
      "_dom_classes": [],
      "_model_module": "@jupyter-widgets/controls",
      "_model_module_version": "1.5.0",
      "_model_name": "HBoxModel",
      "_view_count": null,
      "_view_module": "@jupyter-widgets/controls",
      "_view_module_version": "1.5.0",
      "_view_name": "HBoxView",
      "box_style": "",
      "children": [
       "IPY_MODEL_31c0d2821f2449b4b87ef333da933918",
       "IPY_MODEL_962e93b7344b4e08aa0eeb6c93830d80"
      ],
      "layout": "IPY_MODEL_64370dad11c74804b13494a6aa2534db"
     }
    },
    "8a9a2c3fe8704d3c8adb4fb33bcc2759": {
     "model_module": "@jupyter-widgets/controls",
     "model_name": "FloatProgressModel",
     "state": {
      "_dom_classes": [],
      "_model_module": "@jupyter-widgets/controls",
      "_model_module_version": "1.5.0",
      "_model_name": "FloatProgressModel",
      "_view_count": null,
      "_view_module": "@jupyter-widgets/controls",
      "_view_module_version": "1.5.0",
      "_view_name": "ProgressView",
      "bar_style": "success",
      "description": "100%",
      "description_tooltip": null,
      "layout": "IPY_MODEL_91f328571e3b432ea4c536b7560ec61a",
      "max": 23,
      "min": 0,
      "orientation": "horizontal",
      "style": "IPY_MODEL_a1c199f42af24afd94557c3e4ebe099d",
      "value": 23
     }
    },
    "91f328571e3b432ea4c536b7560ec61a": {
     "model_module": "@jupyter-widgets/base",
     "model_name": "LayoutModel",
     "state": {
      "_model_module": "@jupyter-widgets/base",
      "_model_module_version": "1.2.0",
      "_model_name": "LayoutModel",
      "_view_count": null,
      "_view_module": "@jupyter-widgets/base",
      "_view_module_version": "1.2.0",
      "_view_name": "LayoutView",
      "align_content": null,
      "align_items": null,
      "align_self": null,
      "border": null,
      "bottom": null,
      "display": null,
      "flex": null,
      "flex_flow": null,
      "grid_area": null,
      "grid_auto_columns": null,
      "grid_auto_flow": null,
      "grid_auto_rows": null,
      "grid_column": null,
      "grid_gap": null,
      "grid_row": null,
      "grid_template_areas": null,
      "grid_template_columns": null,
      "grid_template_rows": null,
      "height": null,
      "justify_content": null,
      "justify_items": null,
      "left": null,
      "margin": null,
      "max_height": null,
      "max_width": null,
      "min_height": null,
      "min_width": null,
      "object_fit": null,
      "object_position": null,
      "order": null,
      "overflow": null,
      "overflow_x": null,
      "overflow_y": null,
      "padding": null,
      "right": null,
      "top": null,
      "visibility": null,
      "width": null
     }
    },
    "94874c5238dd4669af756c80b9fb4036": {
     "model_module": "@jupyter-widgets/base",
     "model_name": "LayoutModel",
     "state": {
      "_model_module": "@jupyter-widgets/base",
      "_model_module_version": "1.2.0",
      "_model_name": "LayoutModel",
      "_view_count": null,
      "_view_module": "@jupyter-widgets/base",
      "_view_module_version": "1.2.0",
      "_view_name": "LayoutView",
      "align_content": null,
      "align_items": null,
      "align_self": null,
      "border": null,
      "bottom": null,
      "display": null,
      "flex": null,
      "flex_flow": null,
      "grid_area": null,
      "grid_auto_columns": null,
      "grid_auto_flow": null,
      "grid_auto_rows": null,
      "grid_column": null,
      "grid_gap": null,
      "grid_row": null,
      "grid_template_areas": null,
      "grid_template_columns": null,
      "grid_template_rows": null,
      "height": null,
      "justify_content": null,
      "justify_items": null,
      "left": null,
      "margin": null,
      "max_height": null,
      "max_width": null,
      "min_height": null,
      "min_width": null,
      "object_fit": null,
      "object_position": null,
      "order": null,
      "overflow": null,
      "overflow_x": null,
      "overflow_y": null,
      "padding": null,
      "right": null,
      "top": null,
      "visibility": null,
      "width": null
     }
    },
    "94b1b0cbb90c4568b00b6cb65b36319e": {
     "model_module": "@jupyter-widgets/controls",
     "model_name": "FloatProgressModel",
     "state": {
      "_dom_classes": [],
      "_model_module": "@jupyter-widgets/controls",
      "_model_module_version": "1.5.0",
      "_model_name": "FloatProgressModel",
      "_view_count": null,
      "_view_module": "@jupyter-widgets/controls",
      "_view_module_version": "1.5.0",
      "_view_name": "ProgressView",
      "bar_style": "success",
      "description": "100%",
      "description_tooltip": null,
      "layout": "IPY_MODEL_5c13d354d53c42328e4e6f22a73997e3",
      "max": 91,
      "min": 0,
      "orientation": "horizontal",
      "style": "IPY_MODEL_f266547965be4be3aa18894dd09e9433",
      "value": 91
     }
    },
    "962e93b7344b4e08aa0eeb6c93830d80": {
     "model_module": "@jupyter-widgets/controls",
     "model_name": "HTMLModel",
     "state": {
      "_dom_classes": [],
      "_model_module": "@jupyter-widgets/controls",
      "_model_module_version": "1.5.0",
      "_model_name": "HTMLModel",
      "_view_count": null,
      "_view_module": "@jupyter-widgets/controls",
      "_view_module_version": "1.5.0",
      "_view_name": "HTMLView",
      "description": "",
      "description_tooltip": null,
      "layout": "IPY_MODEL_a13f78e5451a440ba61a2427fef9836d",
      "placeholder": "​",
      "style": "IPY_MODEL_50fe91c1b38f4f16b7122e8371a911d3",
      "value": " 20/20 [00:12&lt;00:00,  1.57it/s]"
     }
    },
    "a13f78e5451a440ba61a2427fef9836d": {
     "model_module": "@jupyter-widgets/base",
     "model_name": "LayoutModel",
     "state": {
      "_model_module": "@jupyter-widgets/base",
      "_model_module_version": "1.2.0",
      "_model_name": "LayoutModel",
      "_view_count": null,
      "_view_module": "@jupyter-widgets/base",
      "_view_module_version": "1.2.0",
      "_view_name": "LayoutView",
      "align_content": null,
      "align_items": null,
      "align_self": null,
      "border": null,
      "bottom": null,
      "display": null,
      "flex": null,
      "flex_flow": null,
      "grid_area": null,
      "grid_auto_columns": null,
      "grid_auto_flow": null,
      "grid_auto_rows": null,
      "grid_column": null,
      "grid_gap": null,
      "grid_row": null,
      "grid_template_areas": null,
      "grid_template_columns": null,
      "grid_template_rows": null,
      "height": null,
      "justify_content": null,
      "justify_items": null,
      "left": null,
      "margin": null,
      "max_height": null,
      "max_width": null,
      "min_height": null,
      "min_width": null,
      "object_fit": null,
      "object_position": null,
      "order": null,
      "overflow": null,
      "overflow_x": null,
      "overflow_y": null,
      "padding": null,
      "right": null,
      "top": null,
      "visibility": null,
      "width": null
     }
    },
    "a1c199f42af24afd94557c3e4ebe099d": {
     "model_module": "@jupyter-widgets/controls",
     "model_name": "ProgressStyleModel",
     "state": {
      "_model_module": "@jupyter-widgets/controls",
      "_model_module_version": "1.5.0",
      "_model_name": "ProgressStyleModel",
      "_view_count": null,
      "_view_module": "@jupyter-widgets/base",
      "_view_module_version": "1.2.0",
      "_view_name": "StyleView",
      "bar_color": null,
      "description_width": "initial"
     }
    },
    "a40aa7668bcd4f8796a5abca46c13590": {
     "model_module": "@jupyter-widgets/controls",
     "model_name": "DescriptionStyleModel",
     "state": {
      "_model_module": "@jupyter-widgets/controls",
      "_model_module_version": "1.5.0",
      "_model_name": "DescriptionStyleModel",
      "_view_count": null,
      "_view_module": "@jupyter-widgets/base",
      "_view_module_version": "1.2.0",
      "_view_name": "StyleView",
      "description_width": ""
     }
    },
    "accaa4c642374d9a90d94cf00dde98f4": {
     "model_module": "@jupyter-widgets/base",
     "model_name": "LayoutModel",
     "state": {
      "_model_module": "@jupyter-widgets/base",
      "_model_module_version": "1.2.0",
      "_model_name": "LayoutModel",
      "_view_count": null,
      "_view_module": "@jupyter-widgets/base",
      "_view_module_version": "1.2.0",
      "_view_name": "LayoutView",
      "align_content": null,
      "align_items": null,
      "align_self": null,
      "border": null,
      "bottom": null,
      "display": null,
      "flex": null,
      "flex_flow": null,
      "grid_area": null,
      "grid_auto_columns": null,
      "grid_auto_flow": null,
      "grid_auto_rows": null,
      "grid_column": null,
      "grid_gap": null,
      "grid_row": null,
      "grid_template_areas": null,
      "grid_template_columns": null,
      "grid_template_rows": null,
      "height": null,
      "justify_content": null,
      "justify_items": null,
      "left": null,
      "margin": null,
      "max_height": null,
      "max_width": null,
      "min_height": null,
      "min_width": null,
      "object_fit": null,
      "object_position": null,
      "order": null,
      "overflow": null,
      "overflow_x": null,
      "overflow_y": null,
      "padding": null,
      "right": null,
      "top": null,
      "visibility": null,
      "width": null
     }
    },
    "afd35f4c4ff445fd9b3ccb21745cd85b": {
     "model_module": "@jupyter-widgets/controls",
     "model_name": "ProgressStyleModel",
     "state": {
      "_model_module": "@jupyter-widgets/controls",
      "_model_module_version": "1.5.0",
      "_model_name": "ProgressStyleModel",
      "_view_count": null,
      "_view_module": "@jupyter-widgets/base",
      "_view_module_version": "1.2.0",
      "_view_name": "StyleView",
      "bar_color": null,
      "description_width": "initial"
     }
    },
    "b2cef76b560d4c1c91224a47ad5d728a": {
     "model_module": "@jupyter-widgets/controls",
     "model_name": "DescriptionStyleModel",
     "state": {
      "_model_module": "@jupyter-widgets/controls",
      "_model_module_version": "1.5.0",
      "_model_name": "DescriptionStyleModel",
      "_view_count": null,
      "_view_module": "@jupyter-widgets/base",
      "_view_module_version": "1.2.0",
      "_view_name": "StyleView",
      "description_width": ""
     }
    },
    "b704799e7f9f4f319931aaf722613b99": {
     "model_module": "@jupyter-widgets/base",
     "model_name": "LayoutModel",
     "state": {
      "_model_module": "@jupyter-widgets/base",
      "_model_module_version": "1.2.0",
      "_model_name": "LayoutModel",
      "_view_count": null,
      "_view_module": "@jupyter-widgets/base",
      "_view_module_version": "1.2.0",
      "_view_name": "LayoutView",
      "align_content": null,
      "align_items": null,
      "align_self": null,
      "border": null,
      "bottom": null,
      "display": null,
      "flex": null,
      "flex_flow": null,
      "grid_area": null,
      "grid_auto_columns": null,
      "grid_auto_flow": null,
      "grid_auto_rows": null,
      "grid_column": null,
      "grid_gap": null,
      "grid_row": null,
      "grid_template_areas": null,
      "grid_template_columns": null,
      "grid_template_rows": null,
      "height": null,
      "justify_content": null,
      "justify_items": null,
      "left": null,
      "margin": null,
      "max_height": null,
      "max_width": null,
      "min_height": null,
      "min_width": null,
      "object_fit": null,
      "object_position": null,
      "order": null,
      "overflow": null,
      "overflow_x": null,
      "overflow_y": null,
      "padding": null,
      "right": null,
      "top": null,
      "visibility": null,
      "width": null
     }
    },
    "c12e21d86926469793cdaea2fa3db031": {
     "model_module": "@jupyter-widgets/controls",
     "model_name": "DescriptionStyleModel",
     "state": {
      "_model_module": "@jupyter-widgets/controls",
      "_model_module_version": "1.5.0",
      "_model_name": "DescriptionStyleModel",
      "_view_count": null,
      "_view_module": "@jupyter-widgets/base",
      "_view_module_version": "1.2.0",
      "_view_name": "StyleView",
      "description_width": ""
     }
    },
    "c61e42199d9f41f78e0fd8fdc4c6b606": {
     "model_module": "@jupyter-widgets/controls",
     "model_name": "DescriptionStyleModel",
     "state": {
      "_model_module": "@jupyter-widgets/controls",
      "_model_module_version": "1.5.0",
      "_model_name": "DescriptionStyleModel",
      "_view_count": null,
      "_view_module": "@jupyter-widgets/base",
      "_view_module_version": "1.2.0",
      "_view_name": "StyleView",
      "description_width": ""
     }
    },
    "cffb537f6f9e410a8fd1643f4c0ff97e": {
     "model_module": "@jupyter-widgets/controls",
     "model_name": "HTMLModel",
     "state": {
      "_dom_classes": [],
      "_model_module": "@jupyter-widgets/controls",
      "_model_module_version": "1.5.0",
      "_model_name": "HTMLModel",
      "_view_count": null,
      "_view_module": "@jupyter-widgets/controls",
      "_view_module_version": "1.5.0",
      "_view_name": "HTMLView",
      "description": "",
      "description_tooltip": null,
      "layout": "IPY_MODEL_2edf4e3164904407b98fe217a9632abe",
      "placeholder": "​",
      "style": "IPY_MODEL_c61e42199d9f41f78e0fd8fdc4c6b606",
      "value": " 2/2 [02:34&lt;00:00, 77.34s/it]"
     }
    },
    "dce0fd40bcca4d0b82fbbeb676316496": {
     "model_module": "@jupyter-widgets/controls",
     "model_name": "HBoxModel",
     "state": {
      "_dom_classes": [],
      "_model_module": "@jupyter-widgets/controls",
      "_model_module_version": "1.5.0",
      "_model_name": "HBoxModel",
      "_view_count": null,
      "_view_module": "@jupyter-widgets/controls",
      "_view_module_version": "1.5.0",
      "_view_name": "HBoxView",
      "box_style": "",
      "children": [
       "IPY_MODEL_8a9a2c3fe8704d3c8adb4fb33bcc2759",
       "IPY_MODEL_5574d6a08ac94dceb4e88a924b3aabfb"
      ],
      "layout": "IPY_MODEL_b704799e7f9f4f319931aaf722613b99"
     }
    },
    "ddbb891369ec437f81e00a47aefc32dd": {
     "model_module": "@jupyter-widgets/controls",
     "model_name": "FloatProgressModel",
     "state": {
      "_dom_classes": [],
      "_model_module": "@jupyter-widgets/controls",
      "_model_module_version": "1.5.0",
      "_model_name": "FloatProgressModel",
      "_view_count": null,
      "_view_module": "@jupyter-widgets/controls",
      "_view_module_version": "1.5.0",
      "_view_name": "ProgressView",
      "bar_style": "success",
      "description": "100%",
      "description_tooltip": null,
      "layout": "IPY_MODEL_6108e8e60fa34050b744ba4c6ab26120",
      "max": 23,
      "min": 0,
      "orientation": "horizontal",
      "style": "IPY_MODEL_afd35f4c4ff445fd9b3ccb21745cd85b",
      "value": 23
     }
    },
    "ddd7b7342e054f9a92e9adeed966e525": {
     "model_module": "@jupyter-widgets/base",
     "model_name": "LayoutModel",
     "state": {
      "_model_module": "@jupyter-widgets/base",
      "_model_module_version": "1.2.0",
      "_model_name": "LayoutModel",
      "_view_count": null,
      "_view_module": "@jupyter-widgets/base",
      "_view_module_version": "1.2.0",
      "_view_name": "LayoutView",
      "align_content": null,
      "align_items": null,
      "align_self": null,
      "border": null,
      "bottom": null,
      "display": null,
      "flex": null,
      "flex_flow": null,
      "grid_area": null,
      "grid_auto_columns": null,
      "grid_auto_flow": null,
      "grid_auto_rows": null,
      "grid_column": null,
      "grid_gap": null,
      "grid_row": null,
      "grid_template_areas": null,
      "grid_template_columns": null,
      "grid_template_rows": null,
      "height": null,
      "justify_content": null,
      "justify_items": null,
      "left": null,
      "margin": null,
      "max_height": null,
      "max_width": null,
      "min_height": null,
      "min_width": null,
      "object_fit": null,
      "object_position": null,
      "order": null,
      "overflow": null,
      "overflow_x": null,
      "overflow_y": null,
      "padding": null,
      "right": null,
      "top": null,
      "visibility": null,
      "width": null
     }
    },
    "f266547965be4be3aa18894dd09e9433": {
     "model_module": "@jupyter-widgets/controls",
     "model_name": "ProgressStyleModel",
     "state": {
      "_model_module": "@jupyter-widgets/controls",
      "_model_module_version": "1.5.0",
      "_model_name": "ProgressStyleModel",
      "_view_count": null,
      "_view_module": "@jupyter-widgets/base",
      "_view_module_version": "1.2.0",
      "_view_name": "StyleView",
      "bar_color": null,
      "description_width": "initial"
     }
    },
    "f7a442ee15784e7fbdf8f82f059bb33a": {
     "model_module": "@jupyter-widgets/controls",
     "model_name": "ProgressStyleModel",
     "state": {
      "_model_module": "@jupyter-widgets/controls",
      "_model_module_version": "1.5.0",
      "_model_name": "ProgressStyleModel",
      "_view_count": null,
      "_view_module": "@jupyter-widgets/base",
      "_view_module_version": "1.2.0",
      "_view_name": "StyleView",
      "bar_color": null,
      "description_width": "initial"
     }
    },
    "f8506ddaddf0470f85203cfa01349f3d": {
     "model_module": "@jupyter-widgets/base",
     "model_name": "LayoutModel",
     "state": {
      "_model_module": "@jupyter-widgets/base",
      "_model_module_version": "1.2.0",
      "_model_name": "LayoutModel",
      "_view_count": null,
      "_view_module": "@jupyter-widgets/base",
      "_view_module_version": "1.2.0",
      "_view_name": "LayoutView",
      "align_content": null,
      "align_items": null,
      "align_self": null,
      "border": null,
      "bottom": null,
      "display": null,
      "flex": null,
      "flex_flow": null,
      "grid_area": null,
      "grid_auto_columns": null,
      "grid_auto_flow": null,
      "grid_auto_rows": null,
      "grid_column": null,
      "grid_gap": null,
      "grid_row": null,
      "grid_template_areas": null,
      "grid_template_columns": null,
      "grid_template_rows": null,
      "height": null,
      "justify_content": null,
      "justify_items": null,
      "left": null,
      "margin": null,
      "max_height": null,
      "max_width": null,
      "min_height": null,
      "min_width": null,
      "object_fit": null,
      "object_position": null,
      "order": null,
      "overflow": null,
      "overflow_x": null,
      "overflow_y": null,
      "padding": null,
      "right": null,
      "top": null,
      "visibility": null,
      "width": null
     }
    },
    "fe5aa2051ed64b52bcbde70278e8a763": {
     "model_module": "@jupyter-widgets/controls",
     "model_name": "HBoxModel",
     "state": {
      "_dom_classes": [],
      "_model_module": "@jupyter-widgets/controls",
      "_model_module_version": "1.5.0",
      "_model_name": "HBoxModel",
      "_view_count": null,
      "_view_module": "@jupyter-widgets/controls",
      "_view_module_version": "1.5.0",
      "_view_name": "HBoxView",
      "box_style": "",
      "children": [
       "IPY_MODEL_6de1bbe40a634c90a957ca0e13e2b0bf",
       "IPY_MODEL_cffb537f6f9e410a8fd1643f4c0ff97e"
      ],
      "layout": "IPY_MODEL_ddd7b7342e054f9a92e9adeed966e525"
     }
    }
   }
  }
 },
 "nbformat": 4,
 "nbformat_minor": 5
}